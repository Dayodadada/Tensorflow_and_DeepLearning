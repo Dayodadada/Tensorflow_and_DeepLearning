{
 "cells": [
  {
   "cell_type": "markdown",
   "metadata": {},
   "source": [
    "# K번째수\n",
    "- array = [1, 5, 2, 6, 3, 7, 4]\n",
    "- commands = [\n",
    "    [2, 5, 3], \n",
    "    [4, 4, 1], \n",
    "    [1, 7, 3]\n",
    "] \n",
    "- [2, 5, 3]: array의 2번째-5번째 값 중에서 3번째로 작은 값은?"
   ]
  },
  {
   "cell_type": "code",
   "execution_count": 8,
   "metadata": {},
   "outputs": [],
   "source": [
    "def solution(array, commands):\n",
    "    answer = []\n",
    "    for i, j, k in commands :\n",
    "        sorted_array = array[i-1:j]\n",
    "        sorted_array.sort()\n",
    "        answer.append(sorted_array[k-1])\n",
    "    return answer\n"
   ]
  },
  {
   "cell_type": "code",
   "execution_count": 6,
   "metadata": {},
   "outputs": [],
   "source": [
    "def solution(array, commands):\n",
    "    answer = [sorted(array[i-1:j])[k-1] for i, j, k in commands]\n",
    "    return answer\n"
   ]
  },
  {
   "cell_type": "code",
   "execution_count": 8,
   "metadata": {},
   "outputs": [],
   "source": [
    "def solution(array, commands):\n",
    "    return list(map(lambda x:sorted(array[x[0]-1:x[1]])[x[2]-1], commands))\n"
   ]
  },
  {
   "cell_type": "code",
   "execution_count": 9,
   "metadata": {},
   "outputs": [
    {
     "data": {
      "text/plain": [
       "[5, 6, 3]"
      ]
     },
     "execution_count": 9,
     "metadata": {},
     "output_type": "execute_result"
    }
   ],
   "source": [
    "array = [1, 5, 2, 6, 3, 7, 4]\n",
    "commands = [\n",
    "    [2, 5, 3], \n",
    "    [4, 4, 1], \n",
    "    [1, 7, 3]\n",
    "]\n",
    "answer = solution(array, commands)\n",
    "answer"
   ]
  },
  {
   "cell_type": "markdown",
   "metadata": {},
   "source": [
    "# 가장 큰 수"
   ]
  },
  {
   "cell_type": "code",
   "execution_count": 33,
   "metadata": {},
   "outputs": [],
   "source": [
    "import itertools\n",
    "\n",
    "def function(numbers): #시간초과\n",
    "    result = []\n",
    "    for perm in itertools.permutations(numbers) :\n",
    "        result.append(\"\".join([f\"{i}\" for i in perm]))\n",
    "    return sorted(result)[-1]"
   ]
  },
  {
   "cell_type": "code",
   "execution_count": 65,
   "metadata": {
    "ExecuteTime": {
     "end_time": "2020-07-25T02:28:00.457495Z",
     "start_time": "2020-07-25T02:28:00.453226Z"
    }
   },
   "outputs": [],
   "source": [
    "def function(numbers): #실패케이스\n",
    "    set_numbers = []\n",
    "    for number in numbers:\n",
    "        original = number\n",
    "        while number < 1000:\n",
    "            number *= 10\n",
    "        set_numbers.append([number, original])\n",
    "    set_numbers = sorted(set_numbers, key=lambda x: [-x[0], x[1]])\n",
    "    return \"\".join([str(j) for i, j in set_numbers])"
   ]
  },
  {
   "cell_type": "code",
   "execution_count": 108,
   "metadata": {
    "ExecuteTime": {
     "end_time": "2020-07-26T06:38:58.242288Z",
     "start_time": "2020-07-26T06:38:58.236642Z"
    }
   },
   "outputs": [],
   "source": [
    "def function(numbers): #시간초과5,실패1\n",
    "    numbers = [str(number) for number in numbers]\n",
    "    numbers.sort(reverse=True)\n",
    "    not_finish = True\n",
    "    while not_finish:\n",
    "        answer = []\n",
    "        not_finish = False\n",
    "        for number in numbers:\n",
    "            if answer:\n",
    "                pop_number = answer.pop()\n",
    "                if \"\".join([number, pop_number]) > \"\".join([pop_number, number]):\n",
    "                    not_finish = True\n",
    "                    answer.append(number)\n",
    "                    answer.append(pop_number)\n",
    "                else:\n",
    "                    answer.append(pop_number)\n",
    "                    answer.append(number)\n",
    "            else:\n",
    "                answer.append(number)\n",
    "        numbers = answer\n",
    "    return \"\".join(answer)"
   ]
  },
  {
   "cell_type": "code",
   "execution_count": 116,
   "metadata": {
    "ExecuteTime": {
     "end_time": "2020-07-26T06:43:26.450648Z",
     "start_time": "2020-07-26T06:43:26.447537Z"
    }
   },
   "outputs": [],
   "source": [
    "def function(numbers): #실패1??? 0000을 0으로 바꾸기 위함이라는데..?\n",
    "    numbers = [str(number) for number in numbers]\n",
    "    numbers.sort(key=lambda x: x*3, reverse=True)\n",
    "    return \"\".join(numbers)"
   ]
  },
  {
   "cell_type": "code",
   "execution_count": null,
   "metadata": {},
   "outputs": [],
   "source": [
    "def function(numbers):\n",
    "    numbers = [str(number) for number in numbers]\n",
    "    # numbers = list(map(str, numbers))\n",
    "    numbers.sort(key=lambda x: x*3, reverse=True)\n",
    "    return str(int(\"\".join(numbers)))"
   ]
  },
  {
   "cell_type": "code",
   "execution_count": 117,
   "metadata": {
    "ExecuteTime": {
     "end_time": "2020-07-26T06:43:28.745010Z",
     "start_time": "2020-07-26T06:43:28.741637Z"
    }
   },
   "outputs": [
    {
     "data": {
      "text/plain": [
       "'6210'"
      ]
     },
     "execution_count": 117,
     "metadata": {},
     "output_type": "execute_result"
    }
   ],
   "source": [
    "numbers = [6, 10, 2] # answer=\"6210\"\n",
    "function(numbers)"
   ]
  },
  {
   "cell_type": "code",
   "execution_count": 118,
   "metadata": {
    "ExecuteTime": {
     "end_time": "2020-07-26T06:43:29.697212Z",
     "start_time": "2020-07-26T06:43:29.693642Z"
    }
   },
   "outputs": [
    {
     "data": {
      "text/plain": [
       "'9534330'"
      ]
     },
     "execution_count": 118,
     "metadata": {},
     "output_type": "execute_result"
    }
   ],
   "source": [
    "numbers = [3, 30, 34, 5, 9] # answer=\"9534330\"\n",
    "function(numbers)"
   ]
  },
  {
   "cell_type": "markdown",
   "metadata": {},
   "source": [
    "# H-Index"
   ]
  },
  {
   "cell_type": "code",
   "execution_count": 205,
   "metadata": {
    "ExecuteTime": {
     "end_time": "2020-07-29T11:42:44.285037Z",
     "start_time": "2020-07-29T11:42:44.280509Z"
    }
   },
   "outputs": [],
   "source": [
    "def function(citations): #런타임 에러1\n",
    "    citations.sort()\n",
    "    n = len(citations)\n",
    "    answer = []\n",
    "    for i, citation in enumerate(citations):\n",
    "        print(i, n - i, citation)\n",
    "        if n - i <= citation:\n",
    "            answer.append(n - i)\n",
    "    return max(answer)"
   ]
  },
  {
   "cell_type": "code",
   "execution_count": 206,
   "metadata": {
    "ExecuteTime": {
     "end_time": "2020-07-29T11:42:44.334604Z",
     "start_time": "2020-07-29T11:42:44.331067Z"
    }
   },
   "outputs": [],
   "source": [
    "def solution(citations):\n",
    "    for i in range(max(citations),-1,-1) :\n",
    "        if sum(1 for j in citations if j >= i) >= i : break\n",
    "    return i\n",
    "#https://leedakyeong.tistory.com/entry/%ED%94%84%EB%A1%9C%EA%B7%B8%EB%9E%98%EB%A8%B8%EC%8A%A4-HIndex-in-python"
   ]
  },
  {
   "cell_type": "code",
   "execution_count": 208,
   "metadata": {
    "ExecuteTime": {
     "end_time": "2020-07-29T11:42:49.598011Z",
     "start_time": "2020-07-29T11:42:49.592528Z"
    }
   },
   "outputs": [
    {
     "name": "stdout",
     "output_type": "stream",
     "text": [
      "0 7 0\n",
      "1 6 1\n",
      "2 5 3\n",
      "3 4 6\n",
      "4 3 6\n",
      "5 2 8\n",
      "6 1 9\n"
     ]
    },
    {
     "data": {
      "text/plain": [
       "(4, 4)"
      ]
     },
     "execution_count": 208,
     "metadata": {},
     "output_type": "execute_result"
    }
   ],
   "source": [
    "citations = [3, 0, 6, 1, 6, 8, 9] #4\n",
    "function(citations), solution(citations)"
   ]
  },
  {
   "cell_type": "code",
   "execution_count": 209,
   "metadata": {
    "ExecuteTime": {
     "end_time": "2020-07-29T11:42:52.184259Z",
     "start_time": "2020-07-29T11:42:52.179695Z"
    }
   },
   "outputs": [
    {
     "name": "stdout",
     "output_type": "stream",
     "text": [
      "0 5 0\n",
      "1 4 1\n",
      "2 3 3\n",
      "3 2 5\n",
      "4 1 6\n"
     ]
    },
    {
     "data": {
      "text/plain": [
       "(3, 3)"
      ]
     },
     "execution_count": 209,
     "metadata": {},
     "output_type": "execute_result"
    }
   ],
   "source": [
    "citations = [3, 0, 6, 1, 5] #3\n",
    "function(citations), solution(citations)"
   ]
  },
  {
   "cell_type": "code",
   "execution_count": 186,
   "metadata": {
    "ExecuteTime": {
     "end_time": "2020-07-27T14:35:02.697666Z",
     "start_time": "2020-07-27T14:35:02.693691Z"
    }
   },
   "outputs": [
    {
     "data": {
      "text/plain": [
       "[9, 8, 6, 5, 3, 1, 0]"
      ]
     },
     "execution_count": 186,
     "metadata": {},
     "output_type": "execute_result"
    }
   ],
   "source": [
    "citations = [3, 0, 6, 1, 5, 8, 9]\n",
    "citations.sort(reverse=True)\n",
    "citations"
   ]
  },
  {
   "cell_type": "code",
   "execution_count": null,
   "metadata": {},
   "outputs": [],
   "source": []
  },
  {
   "cell_type": "code",
   "execution_count": null,
   "metadata": {},
   "outputs": [],
   "source": []
  }
 ],
 "metadata": {
  "kernelspec": {
   "display_name": "Python 3",
   "language": "python",
   "name": "python3"
  },
  "language_info": {
   "codemirror_mode": {
    "name": "ipython",
    "version": 3
   },
   "file_extension": ".py",
   "mimetype": "text/x-python",
   "name": "python",
   "nbconvert_exporter": "python",
   "pygments_lexer": "ipython3",
   "version": "3.7.3"
  },
  "toc": {
   "base_numbering": 1,
   "nav_menu": {},
   "number_sections": true,
   "sideBar": true,
   "skip_h1_title": false,
   "title_cell": "Table of Contents",
   "title_sidebar": "Contents",
   "toc_cell": false,
   "toc_position": {},
   "toc_section_display": true,
   "toc_window_display": false
  }
 },
 "nbformat": 4,
 "nbformat_minor": 2
}
