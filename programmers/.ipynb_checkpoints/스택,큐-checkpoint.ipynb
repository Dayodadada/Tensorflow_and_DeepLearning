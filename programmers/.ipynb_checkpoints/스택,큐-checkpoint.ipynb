{
 "cells": [
  {
   "cell_type": "markdown",
   "metadata": {},
   "source": [
    "# 다리를 지나는 트럭\n",
    "다리 길이 bridge_length, 다리가 견딜 수 있는 무게 weight, 트럭별 무게 truck_weights가 주어집니다. 이때 모든 트럭이 다리를 건너려면 최소 몇 초가 걸리는지 return 하도록 solution 함수를 완성하세요. 트럭은 1초에 1만큼 움직임."
   ]
  },
  {
   "cell_type": "code",
   "execution_count": 76,
   "metadata": {
    "ExecuteTime": {
     "end_time": "2020-06-27T05:40:52.621916Z",
     "start_time": "2020-06-27T05:40:52.615441Z"
    }
   },
   "outputs": [],
   "source": [
    "def function(bridge_length, weight, truck_weights):\n",
    "    truck_weights = [(i, weight) for i, weight in enumerate(truck_weights)]\n",
    "    num_of_truck = len(truck_weights)\n",
    "    truck_on_bridge = {}\n",
    "    cross_bridge = []\n",
    "    answer = 0\n",
    "    while len(cross_bridge) < num_of_truck:\n",
    "        if truck_on_bridge:\n",
    "            trucks = list(truck_on_bridge.keys())\n",
    "            for truck in trucks:\n",
    "                truck_on_bridge[truck][\"time\"] += 1\n",
    "                if truck_on_bridge[truck][\"time\"] > bridge_length:\n",
    "                    cross_bridge.append(truck)\n",
    "                    del truck_on_bridge[truck]\n",
    "        if truck_weights:\n",
    "            if sum([truck_on_bridge[truck][\"weight\"] for truck in truck_on_bridge.keys()], truck_weights[0][1]) <= weight:\n",
    "                truck, truck_weight = truck_weights.pop(0)\n",
    "                truck_on_bridge[truck] = {\n",
    "                    \"time\":1,\n",
    "                    \"weight\":truck_weight,\n",
    "                }\n",
    "        answer += 1\n",
    "    return answer"
   ]
  },
  {
   "cell_type": "code",
   "execution_count": null,
   "metadata": {},
   "outputs": [],
   "source": [
    "# import collections\n",
    "\n",
    "# DUMMY_TRUCK = 0\n",
    "\n",
    "\n",
    "# class Bridge(object):\n",
    "\n",
    "#     def __init__(self, length, weight):\n",
    "#         self._max_length = length\n",
    "#         self._max_weight = weight\n",
    "#         self._queue = collections.deque()\n",
    "#         self._current_weight = 0\n",
    "\n",
    "#     def push(self, truck):\n",
    "#         next_weight = self._current_weight + truck\n",
    "#         if next_weight <= self._max_weight and len(self._queue) < self._max_length:\n",
    "#             self._queue.append(truck)\n",
    "#             self._current_weight = next_weight\n",
    "#             return True\n",
    "#         else:\n",
    "#             return False\n",
    "\n",
    "#     def pop(self):\n",
    "#         item = self._queue.popleft()\n",
    "#         self._current_weight -= item\n",
    "#         return item\n",
    "\n",
    "#     def __len__(self):\n",
    "#         return len(self._queue)\n",
    "\n",
    "#     def __repr__(self):\n",
    "#         return 'Bridge({}/{} : [{}])'.format(self._current_weight, self._max_weight, list(self._queue))\n",
    "\n",
    "\n",
    "# def solution(bridge_length, weight, truck_weights):\n",
    "#     bridge = Bridge(bridge_length, weight)\n",
    "#     trucks = collections.deque(w for w in truck_weights)\n",
    "\n",
    "#     for _ in range(bridge_length):\n",
    "#         bridge.push(DUMMY_TRUCK)\n",
    "\n",
    "#     count = 0\n",
    "#     while trucks:\n",
    "#         bridge.pop()\n",
    "\n",
    "#         if bridge.push(trucks[0]):\n",
    "#             trucks.popleft()\n",
    "#         else:\n",
    "#             bridge.push(DUMMY_TRUCK)\n",
    "\n",
    "#         count += 1\n",
    "\n",
    "#     while bridge:\n",
    "#         bridge.pop()\n",
    "#         count += 1\n",
    "\n",
    "#     return count\n",
    "\n",
    "\n",
    "# def main():\n",
    "#     print(solution(2, 10, [7, 4, 5, 6]), 8)\n",
    "#     print(solution(100, 100, [10]), 101)\n",
    "#     print(solution(100, 100, [10, 10, 10, 10, 10, 10, 10, 10, 10, 10]), 110)\n",
    "\n",
    "\n",
    "# if __name__ == '__main__':\n",
    "#     main()"
   ]
  },
  {
   "cell_type": "code",
   "execution_count": 77,
   "metadata": {
    "ExecuteTime": {
     "end_time": "2020-06-27T05:40:53.032461Z",
     "start_time": "2020-06-27T05:40:53.028961Z"
    }
   },
   "outputs": [
    {
     "data": {
      "text/plain": [
       "8"
      ]
     },
     "execution_count": 77,
     "metadata": {},
     "output_type": "execute_result"
    }
   ],
   "source": [
    "function(2, 10, [7,4,5,6])"
   ]
  },
  {
   "cell_type": "code",
   "execution_count": 78,
   "metadata": {
    "ExecuteTime": {
     "end_time": "2020-06-27T05:40:53.971181Z",
     "start_time": "2020-06-27T05:40:53.967639Z"
    }
   },
   "outputs": [
    {
     "data": {
      "text/plain": [
       "101"
      ]
     },
     "execution_count": 78,
     "metadata": {},
     "output_type": "execute_result"
    }
   ],
   "source": [
    "function(100, 100, [10])"
   ]
  },
  {
   "cell_type": "code",
   "execution_count": 79,
   "metadata": {
    "ExecuteTime": {
     "end_time": "2020-06-27T05:40:54.729394Z",
     "start_time": "2020-06-27T05:40:54.725348Z"
    }
   },
   "outputs": [
    {
     "data": {
      "text/plain": [
       "110"
      ]
     },
     "execution_count": 79,
     "metadata": {},
     "output_type": "execute_result"
    }
   ],
   "source": [
    "function(100, 100, [10,10,10,10,10,10,10,10,10,10])"
   ]
  },
  {
   "cell_type": "markdown",
   "metadata": {},
   "source": [
    "# 주식가격"
   ]
  },
  {
   "cell_type": "code",
   "execution_count": 121,
   "metadata": {
    "ExecuteTime": {
     "end_time": "2020-06-28T12:15:01.856751Z",
     "start_time": "2020-06-28T12:15:01.851822Z"
    }
   },
   "outputs": [],
   "source": [
    "def function(prices): # 효율성 테스트: 시간 초과\n",
    "    price2time = {}\n",
    "    for i, stock_price in enumerate(prices):\n",
    "        if price2time:\n",
    "            for j, (price, time, fall_in_price) in price2time.items():\n",
    "                if fall_in_price == True:\n",
    "                    price2time[j] = (price, time, fall_in_price)\n",
    "                elif fall_in_price == False:\n",
    "                    if price > stock_price:\n",
    "                        price2time[j] = (price, time + 1, True)\n",
    "                    else:\n",
    "                        price2time[j] = (price, time + 1, fall_in_price)\n",
    "\n",
    "        # Add current stock prices: key-index, values-(price, time, fall_in_price)\n",
    "        price2time[i] = (stock_price, 0, False)\n",
    "    return [j for i, j, k in price2time.values()]"
   ]
  },
  {
   "cell_type": "code",
   "execution_count": 129,
   "metadata": {
    "ExecuteTime": {
     "end_time": "2020-06-29T00:41:23.248690Z",
     "start_time": "2020-06-29T00:41:23.245136Z"
    }
   },
   "outputs": [],
   "source": [
    "# def function(prices):\n",
    "#     n = len(prices)\n",
    "#     answer = [0] * n\n",
    "#     for i in range(n):\n",
    "#         for j in range(i + 1, n):\n",
    "#             answer[i] += 1\n",
    "#             if prices[i] > prices[j]:\n",
    "#                 break\n",
    "#     return answer\n",
    "# # enumerate()는 반복 자료형 내 원소를 하나씩 다 봐야하니까 O(n) 인 반면, range()는 O(1)\n",
    "# # 스택을 이용했을 때보다 속도가 2배정도 느림"
   ]
  },
  {
   "cell_type": "code",
   "execution_count": 130,
   "metadata": {
    "ExecuteTime": {
     "end_time": "2020-06-29T00:41:24.240888Z",
     "start_time": "2020-06-29T00:41:24.237840Z"
    }
   },
   "outputs": [
    {
     "data": {
      "text/plain": [
       "[4, 3, 1, 1, 0]"
      ]
     },
     "execution_count": 130,
     "metadata": {},
     "output_type": "execute_result"
    }
   ],
   "source": [
    "prices = [1,2,3,2,3]\n",
    "function(prices)"
   ]
  },
  {
   "cell_type": "code",
   "execution_count": null,
   "metadata": {},
   "outputs": [],
   "source": []
  },
  {
   "cell_type": "code",
   "execution_count": null,
   "metadata": {},
   "outputs": [],
   "source": []
  },
  {
   "cell_type": "code",
   "execution_count": null,
   "metadata": {},
   "outputs": [],
   "source": []
  },
  {
   "cell_type": "code",
   "execution_count": null,
   "metadata": {},
   "outputs": [],
   "source": []
  },
  {
   "cell_type": "code",
   "execution_count": null,
   "metadata": {},
   "outputs": [],
   "source": []
  },
  {
   "cell_type": "code",
   "execution_count": null,
   "metadata": {},
   "outputs": [],
   "source": []
  },
  {
   "cell_type": "code",
   "execution_count": null,
   "metadata": {},
   "outputs": [],
   "source": []
  }
 ],
 "metadata": {
  "kernelspec": {
   "display_name": "Python 3",
   "language": "python",
   "name": "python3"
  },
  "language_info": {
   "codemirror_mode": {
    "name": "ipython",
    "version": 3
   },
   "file_extension": ".py",
   "mimetype": "text/x-python",
   "name": "python",
   "nbconvert_exporter": "python",
   "pygments_lexer": "ipython3",
   "version": "3.7.3"
  },
  "toc": {
   "base_numbering": 1,
   "nav_menu": {},
   "number_sections": true,
   "sideBar": true,
   "skip_h1_title": false,
   "title_cell": "Table of Contents",
   "title_sidebar": "Contents",
   "toc_cell": false,
   "toc_position": {},
   "toc_section_display": true,
   "toc_window_display": false
  }
 },
 "nbformat": 4,
 "nbformat_minor": 2
}
