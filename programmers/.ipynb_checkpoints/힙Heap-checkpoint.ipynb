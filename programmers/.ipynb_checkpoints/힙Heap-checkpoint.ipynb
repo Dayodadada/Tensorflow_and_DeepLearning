{
 "cells": [
  {
   "cell_type": "markdown",
   "metadata": {},
   "source": [
    "# 더 맵게 - 진행중\n",
    "- 섞은 음식의 스코빌 지수 = 가장 맵지 않은 음식의 스코빌 지수 + (두 번째로 맵지 않은 음식의 스코빌 지수 * 2)\n",
    "- 모든 음식의 스코빌 지수가 K 이상이 될 때까지 반복하여 섞습니다.\n",
    "- 음식의 스코빌 지수를 담은 배열 scoville과 원하는 스코빌 지수 K가 주어질 때, 모든 음식의 스코빌 지수를 K 이상으로 만들기 위해 섞어야 하는 최소 횟수를 return"
   ]
  },
  {
   "cell_type": "code",
   "execution_count": 30,
   "metadata": {
    "ExecuteTime": {
     "end_time": "2020-06-27T06:30:36.590054Z",
     "start_time": "2020-06-27T06:30:36.585792Z"
    }
   },
   "outputs": [],
   "source": [
    "def function(scoville, K):\n",
    "    scoville.sort()\n",
    "    answer = 0\n",
    "    while scoville[0] < K:\n",
    "        answer += 1\n",
    "        first = scoville.pop(0)\n",
    "        second = scoville.pop(0)\n",
    "        scoville.append(first+second*2)\n",
    "        scoville.sort()\n",
    "        if (len(scoville) == 1) & (scoville[0] < K):\n",
    "            return -1\n",
    "    return answer"
   ]
  },
  {
   "cell_type": "code",
   "execution_count": 31,
   "metadata": {
    "ExecuteTime": {
     "end_time": "2020-06-27T06:30:37.443704Z",
     "start_time": "2020-06-27T06:30:37.441084Z"
    }
   },
   "outputs": [],
   "source": [
    "scoville = [1,2,3,9,10,12]\n",
    "K = 7\n",
    "# function(scoville, K)"
   ]
  },
  {
   "cell_type": "code",
   "execution_count": 33,
   "metadata": {
    "ExecuteTime": {
     "end_time": "2020-06-27T06:31:39.810424Z",
     "start_time": "2020-06-27T06:31:39.804385Z"
    }
   },
   "outputs": [
    {
     "name": "stdout",
     "output_type": "stream",
     "text": [
      "13 12 38\n"
     ]
    },
    {
     "data": {
      "text/plain": [
       "0"
      ]
     },
     "execution_count": 33,
     "metadata": {},
     "output_type": "execute_result"
    }
   ],
   "source": [
    "scoville.sort()\n",
    "if scoville[-1] * 2 + scoville[-2] < K :\n",
    "print(scoville[-1], scoville[-2], scoville[-1] * 2 + scoville[-2])\n",
    "\n",
    "answer = 0\n",
    "while scoville[0] < K:\n",
    "    print(scoville)\n",
    "    answer += 1\n",
    "    first = scoville.pop(0)\n",
    "    second = scoville.pop(0)\n",
    "    scoville.append(first+second*2)\n",
    "    scoville.sort()\n",
    "answer"
   ]
  },
  {
   "cell_type": "code",
   "execution_count": 4,
   "metadata": {
    "ExecuteTime": {
     "end_time": "2020-06-27T06:24:56.692222Z",
     "start_time": "2020-06-27T06:24:56.687302Z"
    }
   },
   "outputs": [
    {
     "data": {
      "text/plain": [
       "2"
      ]
     },
     "execution_count": 4,
     "metadata": {},
     "output_type": "execute_result"
    }
   ],
   "source": [
    "answer = 0\n",
    "while scoville[0] < K:\n",
    "    scoville.sort()\n",
    "    first = scoville.pop(0)\n",
    "    second = scoville.pop(0)\n",
    "    scoville.append(first+second)\n",
    "    answer += 1\n",
    "answer"
   ]
  },
  {
   "cell_type": "code",
   "execution_count": null,
   "metadata": {},
   "outputs": [],
   "source": []
  }
 ],
 "metadata": {
  "kernelspec": {
   "display_name": "Python 3",
   "language": "python",
   "name": "python3"
  },
  "language_info": {
   "codemirror_mode": {
    "name": "ipython",
    "version": 3
   },
   "file_extension": ".py",
   "mimetype": "text/x-python",
   "name": "python",
   "nbconvert_exporter": "python",
   "pygments_lexer": "ipython3",
   "version": "3.7.3"
  },
  "toc": {
   "base_numbering": 1,
   "nav_menu": {},
   "number_sections": true,
   "sideBar": true,
   "skip_h1_title": false,
   "title_cell": "Table of Contents",
   "title_sidebar": "Contents",
   "toc_cell": false,
   "toc_position": {},
   "toc_section_display": true,
   "toc_window_display": false
  }
 },
 "nbformat": 4,
 "nbformat_minor": 2
}
