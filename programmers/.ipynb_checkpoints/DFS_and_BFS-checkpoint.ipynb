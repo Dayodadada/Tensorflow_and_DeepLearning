{
 "cells": [
  {
   "cell_type": "markdown",
   "metadata": {},
   "source": [
    "DFS, BFS\n",
    "- https://yunyoung1819.tistory.com/86\n",
    "- https://mygumi.tistory.com/102"
   ]
  },
  {
   "cell_type": "code",
   "execution_count": 16,
   "metadata": {
    "ExecuteTime": {
     "end_time": "2020-07-12T13:17:32.441909Z",
     "start_time": "2020-07-12T13:17:32.436162Z"
    }
   },
   "outputs": [
    {
     "data": {
      "text/plain": [
       "[[0, 1, 1, 0, 1],\n",
       " [1, 0, 1, 0, 0],\n",
       " [1, 1, 0, 1, 1],\n",
       " [0, 0, 1, 0, 1],\n",
       " [1, 0, 1, 1, 0]]"
      ]
     },
     "execution_count": 16,
     "metadata": {},
     "output_type": "execute_result"
    }
   ],
   "source": [
    "#인접행렬\n",
    "a = [\n",
    "    [0,1,1,0,1],\n",
    "    [1,0,1,0,0],\n",
    "    [1,1,0,1,1],\n",
    "    [0,0,1,0,1],\n",
    "    [1,0,1,1,0],\n",
    "]\n",
    "a\n",
    "#인접리스트\n",
    "# a = [\n",
    "#     [1,2,3],\n",
    "#     [0,2],\n",
    "#     [0,1,3,4],\n",
    "#     [2,4],\n",
    "#     [0,2,3],\n",
    "# ]\n",
    "# a[0]"
   ]
  },
  {
   "cell_type": "code",
   "execution_count": 20,
   "metadata": {
    "ExecuteTime": {
     "end_time": "2020-07-12T13:22:13.679494Z",
     "start_time": "2020-07-12T13:22:13.675600Z"
    }
   },
   "outputs": [],
   "source": [
    "def dfs(a, c, v):\n",
    "    n = len(a)\n",
    "    c[v] = True #방문여부 저장\n",
    "    print(f\"arrive {v}\")\n",
    "    \n",
    "    for i in range(n):\n",
    "        if (a[v][i] == 1)&(c[i] == False):\n",
    "            dfs(a, c, i)"
   ]
  },
  {
   "cell_type": "code",
   "execution_count": 21,
   "metadata": {
    "ExecuteTime": {
     "end_time": "2020-07-12T13:22:14.563284Z",
     "start_time": "2020-07-12T13:22:14.560221Z"
    }
   },
   "outputs": [
    {
     "name": "stdout",
     "output_type": "stream",
     "text": [
      "arrive 0\n",
      "arrive 1\n",
      "arrive 2\n",
      "arrive 3\n",
      "arrive 4\n"
     ]
    }
   ],
   "source": [
    "c = [False] * len(a)\n",
    "dfs(a, c, 0)"
   ]
  },
  {
   "cell_type": "code",
   "execution_count": 22,
   "metadata": {
    "ExecuteTime": {
     "end_time": "2020-07-12T13:36:13.782046Z",
     "start_time": "2020-07-12T13:36:13.777007Z"
    }
   },
   "outputs": [],
   "source": [
    "def bfs(a, c, v):\n",
    "    n = len(a)\n",
    "    c[v] = True\n",
    "    q = [v]\n",
    "    \n",
    "    while len(q) > 0:\n",
    "        v = q.pop(0)\n",
    "        print(f\"arrive {v}\")\n",
    "        for i in range(n):\n",
    "            if (a[v][i] == 1)&(c[i] == False):\n",
    "                q.append(i)\n",
    "                c[i] = True"
   ]
  },
  {
   "cell_type": "code",
   "execution_count": 23,
   "metadata": {
    "ExecuteTime": {
     "end_time": "2020-07-12T13:36:21.634290Z",
     "start_time": "2020-07-12T13:36:21.630948Z"
    }
   },
   "outputs": [
    {
     "name": "stdout",
     "output_type": "stream",
     "text": [
      "arrive 0\n",
      "arrive 1\n",
      "arrive 2\n",
      "arrive 4\n",
      "arrive 3\n"
     ]
    }
   ],
   "source": [
    "c = [False] * len(a)\n",
    "bfs(a, c, 0)"
   ]
  },
  {
   "cell_type": "markdown",
   "metadata": {},
   "source": [
    "# 타겟 넘버"
   ]
  },
  {
   "cell_type": "code",
   "execution_count": null,
   "metadata": {},
   "outputs": [],
   "source": []
  }
 ],
 "metadata": {
  "kernelspec": {
   "display_name": "Python 3",
   "language": "python",
   "name": "python3"
  },
  "language_info": {
   "codemirror_mode": {
    "name": "ipython",
    "version": 3
   },
   "file_extension": ".py",
   "mimetype": "text/x-python",
   "name": "python",
   "nbconvert_exporter": "python",
   "pygments_lexer": "ipython3",
   "version": "3.7.3"
  },
  "toc": {
   "base_numbering": 1,
   "nav_menu": {},
   "number_sections": true,
   "sideBar": true,
   "skip_h1_title": false,
   "title_cell": "Table of Contents",
   "title_sidebar": "Contents",
   "toc_cell": false,
   "toc_position": {},
   "toc_section_display": true,
   "toc_window_display": false
  }
 },
 "nbformat": 4,
 "nbformat_minor": 2
}
