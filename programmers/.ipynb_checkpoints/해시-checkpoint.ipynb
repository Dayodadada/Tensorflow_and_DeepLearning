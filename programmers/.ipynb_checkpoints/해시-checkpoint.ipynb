{
 "cells": [
  {
   "cell_type": "markdown",
   "metadata": {},
   "source": [
    "# 해시"
   ]
  },
  {
   "cell_type": "markdown",
   "metadata": {},
   "source": [
    "## 완주하지 못한 선수"
   ]
  },
  {
   "cell_type": "code",
   "execution_count": 30,
   "metadata": {},
   "outputs": [
    {
     "data": {
      "text/plain": [
       "'d'"
      ]
     },
     "execution_count": 30,
     "metadata": {},
     "output_type": "execute_result"
    }
   ],
   "source": [
    "def solution(participant, completion):\n",
    "    for comp in completion :\n",
    "        participant.remove(comp)\n",
    "    return participant.pop()\n",
    "\n",
    "participant = [\"a\",\"s\",\"d\",\"d\",\"f\",\"g\",\"h\"]\n",
    "completion = [\"a\",\"s\",\"d\",\"f\",\"g\",\"h\"]\n",
    "solution(participant, completion)"
   ]
  },
  {
   "cell_type": "code",
   "execution_count": 35,
   "metadata": {},
   "outputs": [
    {
     "data": {
      "text/plain": [
       "'d'"
      ]
     },
     "execution_count": 35,
     "metadata": {},
     "output_type": "execute_result"
    }
   ],
   "source": [
    "def solution(participant, completion):\n",
    "    participant.sort()\n",
    "    completion.sort()\n",
    "    for i, j in zip(participant, completion + [\"\"]) :\n",
    "        if i != j :\n",
    "            return i\n",
    "        \n",
    "participant = [\"a\",\"s\",\"d\",\"d\",\"f\",\"g\",\"h\"]\n",
    "completion = [\"a\",\"s\",\"d\",\"f\",\"g\",\"h\"]\n",
    "solution(participant, completion)"
   ]
  },
  {
   "cell_type": "code",
   "execution_count": 36,
   "metadata": {},
   "outputs": [
    {
     "data": {
      "text/plain": [
       "'d'"
      ]
     },
     "execution_count": 36,
     "metadata": {},
     "output_type": "execute_result"
    }
   ],
   "source": [
    "def solution(participant, completion):\n",
    "    hash_ = 0\n",
    "    dict = {}\n",
    "    for part in participant :\n",
    "        dict[hash(part)] = part\n",
    "        hash_ += hash(part)\n",
    "    for comp in completion :\n",
    "        hash_ -= hash(comp)\n",
    "    return dict[hash_]    \n",
    "\n",
    "participant = [\"a\",\"s\",\"d\",\"d\",\"f\",\"g\",\"h\"]\n",
    "completion = [\"a\",\"s\",\"d\",\"f\",\"g\",\"h\"]\n",
    "solution(participant, completion)"
   ]
  },
  {
   "cell_type": "markdown",
   "metadata": {},
   "source": [
    "## 전화번호 목록"
   ]
  },
  {
   "cell_type": "markdown",
   "metadata": {},
   "source": [
    "### Trie\n",
    "- retrieval\n",
    "- 문자열을 검색하는데 특화된 자료구조\n",
    "- 시간복잡도: O(m), m:문자의 길이\n",
    "\n",
    "https://blog.ilkyu.kr/entry/%ED%8C%8C%EC%9D%B4%EC%8D%AC%EC%97%90%EC%84%9C-Trie-%ED%8A%B8%EB%9D%BC%EC%9D%B4-%EA%B5%AC%ED%98%84%ED%95%98%EA%B8%B0"
   ]
  },
  {
   "cell_type": "code",
   "execution_count": null,
   "metadata": {},
   "outputs": [],
   "source": [
    "class Node(object):\n",
    "    \n",
    "    def __init__(self, key, data=None) :\n",
    "        self.key = key\n",
    "        self.data = data\n",
    "        self.children = {}\n",
    "        \n",
    "class Trie(object):\n",
    "    def __init__(self):\n",
    "        self.head = Node(None)\n",
    "        \n",
    "    def insert(self, string):\n",
    "        curr_node = self.head\n",
    "        for char in string:\n",
    "            if char not in curr_node.children:\n",
    "                curr_node.children[char] = Node(char)\n",
    "            curr_node = curr_node.children[char]\n",
    "        curr_node.data = string\n",
    "        \n",
    "    def search(self, string):\n",
    "        curr_node = self.head\n",
    "        for char in string:\n",
    "            if char in curr_node.children:\n",
    "                curr_node = curr_node.children[char]\n",
    "            else:\n",
    "                return False\n",
    "            \n",
    "        if (curr_node.data != None):\n",
    "            return True\n",
    "        \n",
    "    def starts_with(self, prefix):\n",
    "        curr_node = self.head\n",
    "        result = []\n",
    "        subtrie = None"
   ]
  },
  {
   "cell_type": "code",
   "execution_count": 42,
   "metadata": {},
   "outputs": [],
   "source": [
    "phone_book = [\"12\",\"123\",\"1235\",\"88\"]"
   ]
  }
 ],
 "metadata": {
  "kernelspec": {
   "display_name": "Python 3",
   "language": "python",
   "name": "python3"
  },
  "language_info": {
   "codemirror_mode": {
    "name": "ipython",
    "version": 3
   },
   "file_extension": ".py",
   "mimetype": "text/x-python",
   "name": "python",
   "nbconvert_exporter": "python",
   "pygments_lexer": "ipython3",
   "version": "3.7.3"
  },
  "toc": {
   "base_numbering": 1,
   "nav_menu": {},
   "number_sections": true,
   "sideBar": true,
   "skip_h1_title": false,
   "title_cell": "Table of Contents",
   "title_sidebar": "Contents",
   "toc_cell": false,
   "toc_position": {},
   "toc_section_display": true,
   "toc_window_display": false
  }
 },
 "nbformat": 4,
 "nbformat_minor": 2
}
