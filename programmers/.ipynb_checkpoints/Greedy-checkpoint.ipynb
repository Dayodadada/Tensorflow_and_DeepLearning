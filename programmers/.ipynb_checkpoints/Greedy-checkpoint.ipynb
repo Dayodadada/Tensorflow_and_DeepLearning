{
 "cells": [
  {
   "cell_type": "markdown",
   "metadata": {},
   "source": [
    "# 체육복\n",
    "- 학생들의 번호는 체격 순으로 매겨져 있어, 바로 앞번호의 학생이나 바로 뒷번호의 학생에게만 체육복을 빌려줄 수 있습니다. 최대한 많은 학생이 체육수업을 들어야함.\n",
    "- input\n",
    "    - 전체 학생의 수 n\n",
    "    - 체육복을 도난당한 학생들의 번호가 담긴 배열 lost\n",
    "    - 여벌의 체육복을 가져온 학생들의 번호가 담긴 배열 reserve\n",
    "- output: 체육수업을 들을 수 있는 학생의 최댓값을 return 하도록 solution 함수를 작성해주세요."
   ]
  },
  {
   "cell_type": "code",
   "execution_count": 28,
   "metadata": {
    "ExecuteTime": {
     "end_time": "2020-06-22T14:20:44.041650Z",
     "start_time": "2020-06-22T14:20:44.037316Z"
    }
   },
   "outputs": [],
   "source": [
    "def function(n, lost, reserve):\n",
    "    re_reserve = [i for i in reserve if i not in lost]\n",
    "    re_lost = [i for i in lost if i not in reserve]\n",
    "    for i in re_reserve:\n",
    "        if i - 1 in re_lost:\n",
    "            re_lost.remove(i - 1)\n",
    "        elif i + 1 in re_lost:\n",
    "            re_lost.remove(i + 1)\n",
    "    return n - len(re_lost)"
   ]
  },
  {
   "cell_type": "code",
   "execution_count": 29,
   "metadata": {
    "ExecuteTime": {
     "end_time": "2020-06-22T14:20:44.822744Z",
     "start_time": "2020-06-22T14:20:44.818728Z"
    }
   },
   "outputs": [
    {
     "data": {
      "text/plain": [
       "5"
      ]
     },
     "execution_count": 29,
     "metadata": {},
     "output_type": "execute_result"
    }
   ],
   "source": [
    "function(5, [2, 4], [1, 3, 5])"
   ]
  },
  {
   "cell_type": "code",
   "execution_count": 30,
   "metadata": {
    "ExecuteTime": {
     "end_time": "2020-06-22T14:20:44.995812Z",
     "start_time": "2020-06-22T14:20:44.991906Z"
    }
   },
   "outputs": [
    {
     "data": {
      "text/plain": [
       "4"
      ]
     },
     "execution_count": 30,
     "metadata": {},
     "output_type": "execute_result"
    }
   ],
   "source": [
    "function(5, [2, 4], [3])"
   ]
  },
  {
   "cell_type": "markdown",
   "metadata": {},
   "source": [
    "# 큰수만들기\n",
    "- 어떤 숫자에서 k개의 수를 제거했을 때 얻을 수 있는 가장 큰 숫자를 구하라"
   ]
  },
  {
   "cell_type": "code",
   "execution_count": 88,
   "metadata": {
    "ExecuteTime": {
     "end_time": "2020-06-23T11:56:21.500948Z",
     "start_time": "2020-06-23T11:56:21.496284Z"
    }
   },
   "outputs": [],
   "source": [
    "def function(number, k):\n",
    "    answer = list(str(number))\n",
    "    for i in range(k):\n",
    "        index = 0\n",
    "        length = len(answer)\n",
    "        max_number = []\n",
    "        while index != length:\n",
    "            number = [answer[i] for i in range(length) if i != index]\n",
    "            max_number.append(\"\".join(number))\n",
    "            index += 1\n",
    "        answer = list(max(max_number))\n",
    "    return \"\".join(answer)"
   ]
  },
  {
   "cell_type": "code",
   "execution_count": 144,
   "metadata": {
    "ExecuteTime": {
     "end_time": "2020-06-24T01:37:20.149045Z",
     "start_time": "2020-06-24T01:37:20.129346Z"
    }
   },
   "outputs": [],
   "source": [
    "def function(number, k):\n",
    "    answer = list(str(number))\n",
    "    for i in range(k):\n",
    "        remove_number = min(answer)\n",
    "        for j in range(1, len(answer) - 1):\n",
    "            if answer[j - 1] < answer[j]:\n",
    "                remove_number = answer[j - 1]\n",
    "                break\n",
    "            elif (answer[j] < answer[j - 1]) & (answer[j] < answer[j + 1]):\n",
    "                remove_number = answer[j]\n",
    "                break\n",
    "        answer.remove(remove_number)\n",
    "    return \"\".join(answer)"
   ]
  },
  {
   "cell_type": "code",
   "execution_count": 145,
   "metadata": {
    "ExecuteTime": {
     "end_time": "2020-06-24T01:37:20.314457Z",
     "start_time": "2020-06-24T01:37:20.307787Z"
    }
   },
   "outputs": [
    {
     "data": {
      "text/plain": [
       "'94'"
      ]
     },
     "execution_count": 145,
     "metadata": {},
     "output_type": "execute_result"
    }
   ],
   "source": [
    "function(1924, 2)"
   ]
  },
  {
   "cell_type": "code",
   "execution_count": 146,
   "metadata": {
    "ExecuteTime": {
     "end_time": "2020-06-24T01:37:20.613384Z",
     "start_time": "2020-06-24T01:37:20.608349Z"
    }
   },
   "outputs": [
    {
     "data": {
      "text/plain": [
       "'775841'"
      ]
     },
     "execution_count": 146,
     "metadata": {},
     "output_type": "execute_result"
    }
   ],
   "source": [
    "function(4177252841, 4) #775841"
   ]
  },
  {
   "cell_type": "code",
   "execution_count": 147,
   "metadata": {
    "ExecuteTime": {
     "end_time": "2020-06-24T01:40:07.174069Z",
     "start_time": "2020-06-24T01:40:07.167199Z"
    }
   },
   "outputs": [
    {
     "name": "stdout",
     "output_type": "stream",
     "text": [
      "['4', '1', '7', '7', '2', '5', '2', '8', '4', '1']\n"
     ]
    }
   ],
   "source": [
    "number = 4177252841\n",
    "k = 4\n",
    "answer = list(str(number))\n",
    "length = len(answer) - k\n",
    "print(answer)"
   ]
  },
  {
   "cell_type": "code",
   "execution_count": 157,
   "metadata": {
    "ExecuteTime": {
     "end_time": "2020-06-24T01:51:24.734194Z",
     "start_time": "2020-06-24T01:51:24.731049Z"
    }
   },
   "outputs": [
    {
     "name": "stdout",
     "output_type": "stream",
     "text": [
      "123\n"
     ]
    }
   ],
   "source": [
    "if 0 :\n",
    "    print(123)\n",
    "else:\n",
    "    print(4)"
   ]
  },
  {
   "cell_type": "code",
   "execution_count": 159,
   "metadata": {
    "ExecuteTime": {
     "end_time": "2020-06-24T01:54:59.255134Z",
     "start_time": "2020-06-24T01:54:59.251754Z"
    }
   },
   "outputs": [
    {
     "data": {
      "text/plain": [
       "['1', '7', '7', '2', '5', '2', '8', '4']"
      ]
     },
     "execution_count": 159,
     "metadata": {},
     "output_type": "execute_result"
    }
   ],
   "source": [
    "answer[1:]"
   ]
  },
  {
   "cell_type": "code",
   "execution_count": 156,
   "metadata": {
    "ExecuteTime": {
     "end_time": "2020-06-24T01:51:22.220666Z",
     "start_time": "2020-06-24T01:51:22.212165Z"
    }
   },
   "outputs": [
    {
     "ename": "SyntaxError",
     "evalue": "invalid syntax (<ipython-input-156-cb11fcbd0bba>, line 3)",
     "output_type": "error",
     "traceback": [
      "\u001b[0;36m  File \u001b[0;32m\"<ipython-input-156-cb11fcbd0bba>\"\u001b[0;36m, line \u001b[0;32m3\u001b[0m\n\u001b[0;31m    if ~i & answer[-1] < value & k > 0\u001b[0m\n\u001b[0m                                      ^\u001b[0m\n\u001b[0;31mSyntaxError\u001b[0m\u001b[0;31m:\u001b[0m invalid syntax\n"
     ]
    }
   ],
   "source": [
    "answer = []\n",
    "number = list(str(number))\n",
    "for i, value in enumerate(number):\n",
    "    while i & answer[-1] < value & k > 0:\n",
    "        answer.pop()\n",
    "        k -= 1\n",
    "    if k == 0:\n",
    "        answer += number[i:]\n",
    "    answer.append(value)\n",
    "    \n",
    "    if len(answer) == 0:\n",
    "        answer.append(i)\n",
    "    else:\n",
    "        front = answer.pop()\n",
    "        if front < i:\n",
    "            answer.append(i)\n",
    "            k -= 1\n",
    "        else:\n",
    "            answer.append()\n",
    "    answer\n",
    "\n",
    "\n",
    "for i in range(k):\n",
    "    for j in range(1, len(answer) - 1):\n",
    "        if answer[j - 1] < answer[j]:\n",
    "            remove_number = answer[j - 1]\n",
    "            break\n",
    "        elif (answer[j] < answer[j - 1]) & (answer[j] < answer[j + 1]):\n",
    "            remove_number = answer[j]\n",
    "            break\n",
    "        else:\n",
    "            remove_number = min(remove_number, answer[j-1], answer[j], answer[j+1])\n",
    "    answer.remove(remove_number)\n",
    "    print(answer)"
   ]
  },
  {
   "cell_type": "code",
   "execution_count": 126,
   "metadata": {
    "ExecuteTime": {
     "end_time": "2020-06-23T13:01:08.105675Z",
     "start_time": "2020-06-23T13:01:08.102405Z"
    }
   },
   "outputs": [
    {
     "data": {
      "text/plain": [
       "1"
      ]
     },
     "execution_count": 126,
     "metadata": {},
     "output_type": "execute_result"
    }
   ],
   "source": [
    "min(1,2,5,3,2)"
   ]
  },
  {
   "cell_type": "code",
   "execution_count": 143,
   "metadata": {
    "ExecuteTime": {
     "end_time": "2020-06-23T13:13:59.473129Z",
     "start_time": "2020-06-23T13:13:59.467509Z"
    }
   },
   "outputs": [
    {
     "name": "stdout",
     "output_type": "stream",
     "text": [
      "['4', '1', '7', '7', '2', '5', '2', '8', '4', '1']\n"
     ]
    },
    {
     "data": {
      "text/plain": [
       "['7', '5', '2', '8', '4', '1']"
      ]
     },
     "execution_count": 143,
     "metadata": {},
     "output_type": "execute_result"
    }
   ],
   "source": [
    "number = 4177252841\n",
    "k = 4\n",
    "answer = list(str(number))\n",
    "length = len(answer) - k\n",
    "print(answer)\n",
    "\n",
    "[max(answer[:(-length+1)])] + answer[(-length+1):]"
   ]
  },
  {
   "cell_type": "code",
   "execution_count": 136,
   "metadata": {
    "ExecuteTime": {
     "end_time": "2020-06-23T13:12:57.874245Z",
     "start_time": "2020-06-23T13:12:57.871045Z"
    }
   },
   "outputs": [
    {
     "data": {
      "text/plain": [
       "6"
      ]
     },
     "execution_count": 136,
     "metadata": {},
     "output_type": "execute_result"
    }
   ],
   "source": [
    "length"
   ]
  },
  {
   "cell_type": "code",
   "execution_count": null,
   "metadata": {},
   "outputs": [],
   "source": []
  }
 ],
 "metadata": {
  "kernelspec": {
   "display_name": "Python 3",
   "language": "python",
   "name": "python3"
  },
  "language_info": {
   "codemirror_mode": {
    "name": "ipython",
    "version": 3
   },
   "file_extension": ".py",
   "mimetype": "text/x-python",
   "name": "python",
   "nbconvert_exporter": "python",
   "pygments_lexer": "ipython3",
   "version": "3.7.3"
  },
  "toc": {
   "base_numbering": 1,
   "nav_menu": {},
   "number_sections": true,
   "sideBar": true,
   "skip_h1_title": false,
   "title_cell": "Table of Contents",
   "title_sidebar": "Contents",
   "toc_cell": false,
   "toc_position": {},
   "toc_section_display": true,
   "toc_window_display": false
  }
 },
 "nbformat": 4,
 "nbformat_minor": 2
}
