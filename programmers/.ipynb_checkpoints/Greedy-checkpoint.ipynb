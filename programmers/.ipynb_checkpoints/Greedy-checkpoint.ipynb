{
 "cells": [
  {
   "cell_type": "markdown",
   "metadata": {},
   "source": [
    "# 체육복\n",
    "- 학생들의 번호는 체격 순으로 매겨져 있어, 바로 앞번호의 학생이나 바로 뒷번호의 학생에게만 체육복을 빌려줄 수 있습니다. 최대한 많은 학생이 체육수업을 들어야함.\n",
    "- input\n",
    "    - 전체 학생의 수 n\n",
    "    - 체육복을 도난당한 학생들의 번호가 담긴 배열 lost\n",
    "    - 여벌의 체육복을 가져온 학생들의 번호가 담긴 배열 reserve\n",
    "- output: 체육수업을 들을 수 있는 학생의 최댓값을 return 하도록 solution 함수를 작성해주세요."
   ]
  },
  {
   "cell_type": "code",
   "execution_count": 28,
   "metadata": {
    "ExecuteTime": {
     "end_time": "2020-06-22T14:20:44.041650Z",
     "start_time": "2020-06-22T14:20:44.037316Z"
    }
   },
   "outputs": [],
   "source": [
    "def function(n, lost, reserve):\n",
    "    re_reserve = [i for i in reserve if i not in lost]\n",
    "    re_lost = [i for i in lost if i not in reserve]\n",
    "    for i in re_reserve:\n",
    "        if i - 1 in re_lost:\n",
    "            re_lost.remove(i - 1)\n",
    "        elif i + 1 in re_lost:\n",
    "            re_lost.remove(i + 1)\n",
    "    return n - len(re_lost)"
   ]
  },
  {
   "cell_type": "code",
   "execution_count": 29,
   "metadata": {
    "ExecuteTime": {
     "end_time": "2020-06-22T14:20:44.822744Z",
     "start_time": "2020-06-22T14:20:44.818728Z"
    }
   },
   "outputs": [
    {
     "data": {
      "text/plain": [
       "5"
      ]
     },
     "execution_count": 29,
     "metadata": {},
     "output_type": "execute_result"
    }
   ],
   "source": [
    "function(5, [2, 4], [1, 3, 5])"
   ]
  },
  {
   "cell_type": "code",
   "execution_count": 30,
   "metadata": {
    "ExecuteTime": {
     "end_time": "2020-06-22T14:20:44.995812Z",
     "start_time": "2020-06-22T14:20:44.991906Z"
    }
   },
   "outputs": [
    {
     "data": {
      "text/plain": [
       "4"
      ]
     },
     "execution_count": 30,
     "metadata": {},
     "output_type": "execute_result"
    }
   ],
   "source": [
    "function(5, [2, 4], [3])"
   ]
  },
  {
   "cell_type": "markdown",
   "metadata": {},
   "source": [
    "# 큰수만들기\n",
    "- 어떤 숫자에서 k개의 수를 제거했을 때 얻을 수 있는 가장 큰 숫자를 구하라"
   ]
  },
  {
   "cell_type": "code",
   "execution_count": 88,
   "metadata": {
    "ExecuteTime": {
     "end_time": "2020-06-23T11:56:21.500948Z",
     "start_time": "2020-06-23T11:56:21.496284Z"
    }
   },
   "outputs": [],
   "source": [
    "def function(number, k):\n",
    "    answer = list(str(number))\n",
    "    for i in range(k):\n",
    "        index = 0\n",
    "        length = len(answer)\n",
    "        max_number = []\n",
    "        while index != length:\n",
    "            number = [answer[i] for i in range(length) if i != index]\n",
    "            max_number.append(\"\".join(number))\n",
    "            index += 1\n",
    "        answer = list(max(max_number))\n",
    "    return \"\".join(answer)"
   ]
  },
  {
   "cell_type": "code",
   "execution_count": 144,
   "metadata": {
    "ExecuteTime": {
     "end_time": "2020-06-24T01:37:20.149045Z",
     "start_time": "2020-06-24T01:37:20.129346Z"
    }
   },
   "outputs": [],
   "source": [
    "def function(number, k):\n",
    "    answer = list(str(number))\n",
    "    for i in range(k):\n",
    "        remove_number = min(answer)\n",
    "        for j in range(1, len(answer) - 1):\n",
    "            if answer[j - 1] < answer[j]:\n",
    "                remove_number = answer[j - 1]\n",
    "                break\n",
    "            elif (answer[j] < answer[j - 1]) & (answer[j] < answer[j + 1]):\n",
    "                remove_number = answer[j]\n",
    "                break\n",
    "        answer.remove(remove_number)\n",
    "    return \"\".join(answer)"
   ]
  },
  {
   "cell_type": "code",
   "execution_count": 175,
   "metadata": {
    "ExecuteTime": {
     "end_time": "2020-06-24T02:01:26.596414Z",
     "start_time": "2020-06-24T02:01:26.591708Z"
    }
   },
   "outputs": [],
   "source": [
    "def function(number, k):\n",
    "    answer = []\n",
    "    number = list(str(number))\n",
    "    for i, value in enumerate(number):\n",
    "        while answer and answer[-1] < value and k > 0:\n",
    "            answer.pop()\n",
    "            k -= 1\n",
    "        if k == 0:\n",
    "            answer += number[i:]\n",
    "            break\n",
    "        answer.append(value)\n",
    "    answer = answer if k == 0 else answer[:-k]\n",
    "    return \"\".join(answer)"
   ]
  },
  {
   "cell_type": "code",
   "execution_count": 176,
   "metadata": {
    "ExecuteTime": {
     "end_time": "2020-06-24T02:01:29.990334Z",
     "start_time": "2020-06-24T02:01:29.986665Z"
    }
   },
   "outputs": [
    {
     "data": {
      "text/plain": [
       "'94'"
      ]
     },
     "execution_count": 176,
     "metadata": {},
     "output_type": "execute_result"
    }
   ],
   "source": [
    "function(1924, 2)"
   ]
  },
  {
   "cell_type": "code",
   "execution_count": 177,
   "metadata": {
    "ExecuteTime": {
     "end_time": "2020-06-24T02:01:31.374426Z",
     "start_time": "2020-06-24T02:01:31.370956Z"
    }
   },
   "outputs": [
    {
     "data": {
      "text/plain": [
       "'775841'"
      ]
     },
     "execution_count": 177,
     "metadata": {},
     "output_type": "execute_result"
    }
   ],
   "source": [
    "function(4177252841, 4) #775841"
   ]
  },
  {
   "cell_type": "markdown",
   "metadata": {},
   "source": [
    "# 구명보트"
   ]
  },
  {
   "cell_type": "code",
   "execution_count": 50,
   "metadata": {
    "ExecuteTime": {
     "end_time": "2020-06-30T13:54:51.503628Z",
     "start_time": "2020-06-30T13:54:51.499356Z"
    }
   },
   "outputs": [],
   "source": [
    "def function(people, limit): # 효율성  테스트: 실패\n",
    "    people.sort()\n",
    "    answer = 0\n",
    "    while len(people) != 0:\n",
    "        answer += 1\n",
    "        boat = [people.pop()]\n",
    "        for weight in people[::-1]:\n",
    "            if sum(boat, weight) <= limit:\n",
    "                boat.append(weight)\n",
    "                people.remove(weight)\n",
    "                break\n",
    "        print(answer, boat, people)\n",
    "    return answer"
   ]
  },
  {
   "cell_type": "code",
   "execution_count": 74,
   "metadata": {
    "ExecuteTime": {
     "end_time": "2020-06-30T14:12:46.148546Z",
     "start_time": "2020-06-30T14:12:46.144073Z"
    }
   },
   "outputs": [],
   "source": [
    "def function(people, limit):\n",
    "    people.sort()\n",
    "    answer = 0\n",
    "    first_index = 0\n",
    "    last_index = len(people) - 1\n",
    "    while len(people) != 0:\n",
    "        answer += 1\n",
    "        print(people, first_index, last_index)\n",
    "        if sum([people[first_index], people[last_index]]) <= limit:\n",
    "            first_index += 1\n",
    "            last_index -= 1\n",
    "        else:\n",
    "            last_index -= 1\n",
    "        if first_index > last_index:\n",
    "            break\n",
    "    return answer"
   ]
  },
  {
   "cell_type": "code",
   "execution_count": 75,
   "metadata": {
    "ExecuteTime": {
     "end_time": "2020-06-30T14:12:46.412305Z",
     "start_time": "2020-06-30T14:12:46.406759Z"
    }
   },
   "outputs": [
    {
     "name": "stdout",
     "output_type": "stream",
     "text": [
      "[50, 50, 70, 80] 0 3\n",
      "[50, 50, 70, 80] 0 2\n",
      "[50, 50, 70, 80] 0 1\n"
     ]
    },
    {
     "data": {
      "text/plain": [
       "3"
      ]
     },
     "execution_count": 75,
     "metadata": {},
     "output_type": "execute_result"
    }
   ],
   "source": [
    "people = [70, 50, 80, 50]\n",
    "limit = 100\n",
    "function(people, limit)"
   ]
  },
  {
   "cell_type": "code",
   "execution_count": 76,
   "metadata": {
    "ExecuteTime": {
     "end_time": "2020-06-30T14:12:47.162841Z",
     "start_time": "2020-06-30T14:12:47.158157Z"
    }
   },
   "outputs": [
    {
     "name": "stdout",
     "output_type": "stream",
     "text": [
      "[50, 70, 80] 0 2\n",
      "[50, 70, 80] 0 1\n",
      "[50, 70, 80] 0 0\n"
     ]
    },
    {
     "data": {
      "text/plain": [
       "3"
      ]
     },
     "execution_count": 76,
     "metadata": {},
     "output_type": "execute_result"
    }
   ],
   "source": [
    "people = [70, 80, 50]\n",
    "limit = 100\n",
    "function(people, limit)"
   ]
  },
  {
   "cell_type": "markdown",
   "metadata": {},
   "source": [
    "# 조이스틱"
   ]
  },
  {
   "cell_type": "code",
   "execution_count": 95,
   "metadata": {
    "ExecuteTime": {
     "end_time": "2020-07-03T00:10:35.658381Z",
     "start_time": "2020-07-03T00:10:35.642945Z"
    }
   },
   "outputs": [],
   "source": [
    "import re\n",
    "\n",
    "def solution(name):\n",
    "    idx, count = 0, 0 # name을 지정할 인덱스와 이동한 횟수를 저장할 변수를 지정\n",
    "    p = re.compile('[B-Z]') # 'A'를 제외한 모든 문자를 정규표현식으로 지정 \n",
    "    \n",
    "    while True:\n",
    "        m = p.search(name) # 'A'외의 다른 알파벳이 문자열에 속해있는지 확인\n",
    "        if m: # 다른 알파벳이 있다면 if문을 실행\n",
    "            num = ord(name[idx]) # name[idx]의 값을 아스키코드의 숫자 값으로 변환하여 num에 저장 \n",
    "            # 조이스틱을 위로 옮기는 경우 : num-65\n",
    "            # 조이스틱을 아래로 옮기는 경우 : 91-num \n",
    "            count += min(num-65, 91-num) # 둘 중 작은 값을 count에 더한다. \n",
    "            name = name[:idx] + 'A' + name[idx+1:] # name[idx]는 'A'로 변환한다. \n",
    "\n",
    "            nr_idx, nl_idx = idx, idx # 좌우로 움직일 인덱스 값\n",
    "            for i in range(len(name)): \n",
    "                if nr_idx >= len(name): # nr_idx가 len(name)의 값과 같거나 초과할 경우 0으로 초기화 \n",
    "                    nr_idx = 0\n",
    "                if nl_idx < 0: # nl_idx가 0보다 작을 경우 len(name)-1로 초기화\n",
    "                    nl_idx = len(name)-1 \n",
    "                if name[nr_idx]!='A': # 'A'이외의 다른 값이 나올 경우\n",
    "                    idx = nr_idx # nr_idx가 지정한 곳으로 idx가 이동\n",
    "                    count += i # 이동한 만큼의 횟수를 count에 추가\n",
    "                    break # 반복문 탈출 \n",
    "                if name[nl_idx]!='A':\n",
    "                    idx = nl_idx # nl_idx가 지정한 곳으로 idx가 이동\n",
    "                    count += i\n",
    "                    break\n",
    "                nr_idx += 1 # nr_idx는 오른쪽으로 이동\n",
    "                nl_idx -= 1 # nl_idx는 왼쪽으로 이동 \n",
    "        else: #'A'외의 알파벳이 없다면 반복문 탈출\n",
    "            break\n",
    "    return count"
   ]
  },
  {
   "cell_type": "code",
   "execution_count": 99,
   "metadata": {
    "ExecuteTime": {
     "end_time": "2020-07-03T00:12:39.675536Z",
     "start_time": "2020-07-03T00:12:39.671849Z"
    }
   },
   "outputs": [
    {
     "data": {
      "text/plain": [
       "11"
      ]
     },
     "execution_count": 99,
     "metadata": {},
     "output_type": "execute_result"
    }
   ],
   "source": [
    "solution(\"JAZ\")"
   ]
  },
  {
   "cell_type": "code",
   "execution_count": 97,
   "metadata": {
    "ExecuteTime": {
     "end_time": "2020-07-03T00:12:29.762384Z",
     "start_time": "2020-07-03T00:12:29.759988Z"
    }
   },
   "outputs": [],
   "source": [
    "name = \"JEROEN\"\n",
    "name = \"JAN\"\n",
    "name = \"JAZ\""
   ]
  },
  {
   "cell_type": "code",
   "execution_count": 98,
   "metadata": {
    "ExecuteTime": {
     "end_time": "2020-07-03T00:12:30.005355Z",
     "start_time": "2020-07-03T00:12:29.997144Z"
    }
   },
   "outputs": [
    {
     "name": "stdout",
     "output_type": "stream",
     "text": [
      "9\n",
      "9\n",
      "10\n"
     ]
    },
    {
     "data": {
      "text/plain": [
       "10"
      ]
     },
     "execution_count": 98,
     "metadata": {},
     "output_type": "execute_result"
    }
   ],
   "source": [
    "alphabet = [\"A\",\"B\",\"C\",\"D\",\"E\",\"F\",\"G\",\"H\",\"I\",\"J\",\"K\",\"L\",\"M\",\"N\",\"O\",\"P\",\"Q\",\"R\",\"S\",\"T\",\"U\",\"V\",\"W\",\"X\",\"Y\",\"Z\"]\n",
    "\n",
    "answer = 0\n",
    "for i, alpha in enumerate(name):\n",
    "    index = alphabet.index(alpha)\n",
    "    answer += min(index, len(alphabet) - index)\n",
    "    print(answer)\n",
    "answer\n",
    "# 틀림,좌우 탐색을 효율적으로 하는 방법을 찾아야함."
   ]
  },
  {
   "cell_type": "code",
   "execution_count": null,
   "metadata": {},
   "outputs": [],
   "source": [
    "JAZZAA\n",
    "101100\n",
    "100000100\n",
    "11000001"
   ]
  },
  {
   "cell_type": "code",
   "execution_count": null,
   "metadata": {},
   "outputs": [],
   "source": []
  }
 ],
 "metadata": {
  "kernelspec": {
   "display_name": "Python 3",
   "language": "python",
   "name": "python3"
  },
  "language_info": {
   "codemirror_mode": {
    "name": "ipython",
    "version": 3
   },
   "file_extension": ".py",
   "mimetype": "text/x-python",
   "name": "python",
   "nbconvert_exporter": "python",
   "pygments_lexer": "ipython3",
   "version": "3.7.3"
  },
  "toc": {
   "base_numbering": 1,
   "nav_menu": {},
   "number_sections": true,
   "sideBar": true,
   "skip_h1_title": false,
   "title_cell": "Table of Contents",
   "title_sidebar": "Contents",
   "toc_cell": false,
   "toc_position": {},
   "toc_section_display": true,
   "toc_window_display": false
  }
 },
 "nbformat": 4,
 "nbformat_minor": 2
}
