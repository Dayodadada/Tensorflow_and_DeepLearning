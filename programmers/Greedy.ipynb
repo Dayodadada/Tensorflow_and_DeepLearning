{
 "cells": [
  {
   "cell_type": "markdown",
   "metadata": {},
   "source": [
    "# 체육복\n",
    "- 학생들의 번호는 체격 순으로 매겨져 있어, 바로 앞번호의 학생이나 바로 뒷번호의 학생에게만 체육복을 빌려줄 수 있습니다. 최대한 많은 학생이 체육수업을 들어야함.\n",
    "- input\n",
    "    - 전체 학생의 수 n\n",
    "    - 체육복을 도난당한 학생들의 번호가 담긴 배열 lost\n",
    "    - 여벌의 체육복을 가져온 학생들의 번호가 담긴 배열 reserve\n",
    "- output: 체육수업을 들을 수 있는 학생의 최댓값을 return 하도록 solution 함수를 작성해주세요."
   ]
  },
  {
   "cell_type": "code",
   "execution_count": 28,
   "metadata": {
    "ExecuteTime": {
     "end_time": "2020-06-22T14:20:44.041650Z",
     "start_time": "2020-06-22T14:20:44.037316Z"
    }
   },
   "outputs": [],
   "source": [
    "def function(n, lost, reserve):\n",
    "    re_reserve = [i for i in reserve if i not in lost]\n",
    "    re_lost = [i for i in lost if i not in reserve]\n",
    "    for i in re_reserve:\n",
    "        if i - 1 in re_lost:\n",
    "            re_lost.remove(i - 1)\n",
    "        elif i + 1 in re_lost:\n",
    "            re_lost.remove(i + 1)\n",
    "    return n - len(re_lost)"
   ]
  },
  {
   "cell_type": "code",
   "execution_count": 29,
   "metadata": {
    "ExecuteTime": {
     "end_time": "2020-06-22T14:20:44.822744Z",
     "start_time": "2020-06-22T14:20:44.818728Z"
    }
   },
   "outputs": [
    {
     "data": {
      "text/plain": [
       "5"
      ]
     },
     "execution_count": 29,
     "metadata": {},
     "output_type": "execute_result"
    }
   ],
   "source": [
    "function(5, [2, 4], [1, 3, 5])"
   ]
  },
  {
   "cell_type": "code",
   "execution_count": 30,
   "metadata": {
    "ExecuteTime": {
     "end_time": "2020-06-22T14:20:44.995812Z",
     "start_time": "2020-06-22T14:20:44.991906Z"
    }
   },
   "outputs": [
    {
     "data": {
      "text/plain": [
       "4"
      ]
     },
     "execution_count": 30,
     "metadata": {},
     "output_type": "execute_result"
    }
   ],
   "source": [
    "function(5, [2, 4], [3])"
   ]
  },
  {
   "cell_type": "markdown",
   "metadata": {},
   "source": [
    "# 큰수만들기\n",
    "- 어떤 숫자에서 k개의 수를 제거했을 때 얻을 수 있는 가장 큰 숫자를 구하라"
   ]
  },
  {
   "cell_type": "code",
   "execution_count": 88,
   "metadata": {
    "ExecuteTime": {
     "end_time": "2020-06-23T11:56:21.500948Z",
     "start_time": "2020-06-23T11:56:21.496284Z"
    }
   },
   "outputs": [],
   "source": [
    "def function(number, k):\n",
    "    answer = list(str(number))\n",
    "    for i in range(k):\n",
    "        index = 0\n",
    "        length = len(answer)\n",
    "        max_number = []\n",
    "        while index != length:\n",
    "            number = [answer[i] for i in range(length) if i != index]\n",
    "            max_number.append(\"\".join(number))\n",
    "            index += 1\n",
    "        answer = list(max(max_number))\n",
    "    return \"\".join(answer)"
   ]
  },
  {
   "cell_type": "code",
   "execution_count": 144,
   "metadata": {
    "ExecuteTime": {
     "end_time": "2020-06-24T01:37:20.149045Z",
     "start_time": "2020-06-24T01:37:20.129346Z"
    }
   },
   "outputs": [],
   "source": [
    "def function(number, k):\n",
    "    answer = list(str(number))\n",
    "    for i in range(k):\n",
    "        remove_number = min(answer)\n",
    "        for j in range(1, len(answer) - 1):\n",
    "            if answer[j - 1] < answer[j]:\n",
    "                remove_number = answer[j - 1]\n",
    "                break\n",
    "            elif (answer[j] < answer[j - 1]) & (answer[j] < answer[j + 1]):\n",
    "                remove_number = answer[j]\n",
    "                break\n",
    "        answer.remove(remove_number)\n",
    "    return \"\".join(answer)"
   ]
  },
  {
   "cell_type": "code",
   "execution_count": 175,
   "metadata": {
    "ExecuteTime": {
     "end_time": "2020-06-24T02:01:26.596414Z",
     "start_time": "2020-06-24T02:01:26.591708Z"
    }
   },
   "outputs": [],
   "source": [
    "def function(number, k):\n",
    "    answer = []\n",
    "    number = list(str(number))\n",
    "    for i, value in enumerate(number):\n",
    "        while answer and answer[-1] < value and k > 0:\n",
    "            answer.pop()\n",
    "            k -= 1\n",
    "        if k == 0:\n",
    "            answer += number[i:]\n",
    "            break\n",
    "        answer.append(value)\n",
    "    answer = answer if k == 0 else answer[:-k]\n",
    "    return \"\".join(answer)"
   ]
  },
  {
   "cell_type": "code",
   "execution_count": 176,
   "metadata": {
    "ExecuteTime": {
     "end_time": "2020-06-24T02:01:29.990334Z",
     "start_time": "2020-06-24T02:01:29.986665Z"
    }
   },
   "outputs": [
    {
     "data": {
      "text/plain": [
       "'94'"
      ]
     },
     "execution_count": 176,
     "metadata": {},
     "output_type": "execute_result"
    }
   ],
   "source": [
    "function(1924, 2)"
   ]
  },
  {
   "cell_type": "code",
   "execution_count": 177,
   "metadata": {
    "ExecuteTime": {
     "end_time": "2020-06-24T02:01:31.374426Z",
     "start_time": "2020-06-24T02:01:31.370956Z"
    }
   },
   "outputs": [
    {
     "data": {
      "text/plain": [
       "'775841'"
      ]
     },
     "execution_count": 177,
     "metadata": {},
     "output_type": "execute_result"
    }
   ],
   "source": [
    "function(4177252841, 4) #775841"
   ]
  },
  {
   "cell_type": "code",
   "execution_count": null,
   "metadata": {},
   "outputs": [],
   "source": []
  }
 ],
 "metadata": {
  "kernelspec": {
   "display_name": "Python 3",
   "language": "python",
   "name": "python3"
  },
  "language_info": {
   "codemirror_mode": {
    "name": "ipython",
    "version": 3
   },
   "file_extension": ".py",
   "mimetype": "text/x-python",
   "name": "python",
   "nbconvert_exporter": "python",
   "pygments_lexer": "ipython3",
   "version": "3.7.3"
  },
  "toc": {
   "base_numbering": 1,
   "nav_menu": {},
   "number_sections": true,
   "sideBar": true,
   "skip_h1_title": false,
   "title_cell": "Table of Contents",
   "title_sidebar": "Contents",
   "toc_cell": false,
   "toc_position": {},
   "toc_section_display": true,
   "toc_window_display": false
  }
 },
 "nbformat": 4,
 "nbformat_minor": 2
}
