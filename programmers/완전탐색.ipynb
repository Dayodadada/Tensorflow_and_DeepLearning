{
 "cells": [
  {
   "cell_type": "markdown",
   "metadata": {},
   "source": [
    "# 모의고사\n",
    "- p1 : [1,2,3,4,5]\n",
    "- p2 : [2,1,2,3,2,4,2,5]\n",
    "- p3 : [3,3,1,1,2,2,4,4,5,5]"
   ]
  },
  {
   "cell_type": "code",
   "execution_count": 56,
   "metadata": {
    "ExecuteTime": {
     "end_time": "2020-06-25T00:26:29.930030Z",
     "start_time": "2020-06-25T00:26:29.924180Z"
    }
   },
   "outputs": [],
   "source": [
    "def function(answers):\n",
    "    submitted_answer_sheet = {\n",
    "        1: [1,2,3,4,5],\n",
    "        2: [2,1,2,3,2,4,2,5],\n",
    "        3: [3,3,1,1,2,2,4,4,5,5],\n",
    "    }\n",
    "    \n",
    "    answer = []\n",
    "    max_score = 0\n",
    "    for i, answer_sheet in submitted_answer_sheet.items():\n",
    "        score = sum([i == j for i, j in zip(answer_sheet * int(len(answers) / len(answer_sheet) + 1), answers)])\n",
    "        print(score)\n",
    "        if max_score < score:\n",
    "            answer = [i]\n",
    "            max_score = score\n",
    "        elif max_score == score:\n",
    "            answer.append(i)  \n",
    "    answer.sort()\n",
    "    return answer"
   ]
  },
  {
   "cell_type": "code",
   "execution_count": null,
   "metadata": {},
   "outputs": [],
   "source": [
    "# 타인\n",
    "# def solution(answers):\n",
    "#     pattern1 = [1,2,3,4,5]\n",
    "#     pattern2 = [2,1,2,3,2,4,2,5]\n",
    "#     pattern3 = [3,3,1,1,2,2,4,4,5,5]\n",
    "#     score = [0, 0, 0]\n",
    "#     result = []\n",
    "\n",
    "#     for idx, answer in enumerate(answers):\n",
    "#         if answer == pattern1[idx%len(pattern1)]:\n",
    "#             score[0] += 1\n",
    "#         if answer == pattern2[idx%len(pattern2)]:\n",
    "#             score[1] += 1\n",
    "#         if answer == pattern3[idx%len(pattern3)]:\n",
    "#             score[2] += 1\n",
    "\n",
    "#     for idx, s in enumerate(score):\n",
    "#         if s == max(score):\n",
    "#             result.append(idx+1)\n",
    "\n",
    "#     return result\n",
    "\n",
    "# 타인\n",
    "# def solution(answers):\n",
    "#     p = [[1, 2, 3, 4, 5],\n",
    "#          [2, 1, 2, 3, 2, 4, 2, 5],\n",
    "#          [3, 3, 1, 1, 2, 2, 4, 4, 5, 5]]\n",
    "#     s = [0] * len(p)\n",
    "\n",
    "#     for q, a in enumerate(answers):\n",
    "#         for i, v in enumerate(p):\n",
    "#             if a == v[q % len(v)]:\n",
    "#                 s[i] += 1\n",
    "#     return [i + 1 for i, v in enumerate(s) if v == max(s)]"
   ]
  },
  {
   "cell_type": "code",
   "execution_count": 57,
   "metadata": {
    "ExecuteTime": {
     "end_time": "2020-06-25T00:26:30.218010Z",
     "start_time": "2020-06-25T00:26:30.213963Z"
    }
   },
   "outputs": [
    {
     "name": "stdout",
     "output_type": "stream",
     "text": [
      "5\n",
      "0\n",
      "0\n"
     ]
    },
    {
     "data": {
      "text/plain": [
       "[1]"
      ]
     },
     "execution_count": 57,
     "metadata": {},
     "output_type": "execute_result"
    }
   ],
   "source": [
    "function([1,2,3,4,5])"
   ]
  },
  {
   "cell_type": "code",
   "execution_count": 58,
   "metadata": {
    "ExecuteTime": {
     "end_time": "2020-06-25T00:26:30.799915Z",
     "start_time": "2020-06-25T00:26:30.795681Z"
    }
   },
   "outputs": [
    {
     "name": "stdout",
     "output_type": "stream",
     "text": [
      "2\n",
      "2\n",
      "2\n"
     ]
    },
    {
     "data": {
      "text/plain": [
       "[1, 2, 3]"
      ]
     },
     "execution_count": 58,
     "metadata": {},
     "output_type": "execute_result"
    }
   ],
   "source": [
    "function([1,3,2,4,2])"
   ]
  },
  {
   "cell_type": "markdown",
   "metadata": {},
   "source": [
    "# 카펫\n",
    "갈색 격자의 수 brown, 노란색 격자의 수 yellow가 매개변수로 주어질 때 카펫의 가로, 세로 크기를 순서대로 배열에 담아 return"
   ]
  },
  {
   "cell_type": "code",
   "execution_count": 25,
   "metadata": {
    "ExecuteTime": {
     "end_time": "2020-06-24T13:44:01.980928Z",
     "start_time": "2020-06-24T13:44:01.976536Z"
    }
   },
   "outputs": [],
   "source": [
    "def function(brown, yellow):\n",
    "    for i in range(1, int(yellow ** (1/2)) + 1):\n",
    "        height = i\n",
    "        width = yellow / height\n",
    "        if 2 * width * width + (4  - brown) * width + 2 * yellow == 0:\n",
    "            break\n",
    "    return [int(width + 2), int(height + 2)]"
   ]
  },
  {
   "cell_type": "code",
   "execution_count": 26,
   "metadata": {
    "ExecuteTime": {
     "end_time": "2020-06-24T13:44:02.246913Z",
     "start_time": "2020-06-24T13:44:02.243142Z"
    }
   },
   "outputs": [
    {
     "data": {
      "text/plain": [
       "[4, 3]"
      ]
     },
     "execution_count": 26,
     "metadata": {},
     "output_type": "execute_result"
    }
   ],
   "source": [
    "function(10, 2)"
   ]
  },
  {
   "cell_type": "code",
   "execution_count": 27,
   "metadata": {
    "ExecuteTime": {
     "end_time": "2020-06-24T13:44:02.704374Z",
     "start_time": "2020-06-24T13:44:02.699866Z"
    }
   },
   "outputs": [
    {
     "data": {
      "text/plain": [
       "[3, 3]"
      ]
     },
     "execution_count": 27,
     "metadata": {},
     "output_type": "execute_result"
    }
   ],
   "source": [
    "function(8, 1)"
   ]
  },
  {
   "cell_type": "code",
   "execution_count": 28,
   "metadata": {
    "ExecuteTime": {
     "end_time": "2020-06-24T13:44:03.132965Z",
     "start_time": "2020-06-24T13:44:03.129342Z"
    }
   },
   "outputs": [
    {
     "data": {
      "text/plain": [
       "[8, 6]"
      ]
     },
     "execution_count": 28,
     "metadata": {},
     "output_type": "execute_result"
    }
   ],
   "source": [
    "function(24, 24)"
   ]
  },
  {
   "cell_type": "markdown",
   "metadata": {},
   "source": [
    "# 소수찾기"
   ]
  },
  {
   "cell_type": "code",
   "execution_count": 78,
   "metadata": {
    "ExecuteTime": {
     "end_time": "2020-07-06T14:44:51.888531Z",
     "start_time": "2020-07-06T14:44:51.885672Z"
    }
   },
   "outputs": [],
   "source": [
    "from collections import Counter"
   ]
  },
  {
   "cell_type": "code",
   "execution_count": 79,
   "metadata": {
    "ExecuteTime": {
     "end_time": "2020-07-06T14:44:52.076691Z",
     "start_time": "2020-07-06T14:44:52.069318Z"
    }
   },
   "outputs": [],
   "source": [
    "def function(numbers): # 뭔가 틀렸는데???\n",
    "    numbers = list(numbers)\n",
    "    dict_for_numbers = Counter(numbers)\n",
    "    numbers.sort(reverse=True)\n",
    "    numbers = \"\".join(numbers)\n",
    "    \n",
    "    prime_numbers = []\n",
    "    for number in range(2, int(numbers) + 1):\n",
    "        is_prime_number = True\n",
    "        for i in range(2, int(number ** (1/2))):\n",
    "            if number % i == 0:\n",
    "                is_prime_number = False\n",
    "        if is_prime_number == True:\n",
    "            prime_numbers.append(number)\n",
    "    print(prime_numbers)\n",
    "            \n",
    "    answer = 0\n",
    "    for prime_number in prime_numbers:\n",
    "        is_in = True\n",
    "        prime_number = list(str(prime_number))\n",
    "        \n",
    "        for i, count in Counter(prime_number).items():\n",
    "            if (i not in dict_for_numbers):\n",
    "                is_in = False\n",
    "                break\n",
    "            else:\n",
    "                if (dict_for_numbers[i] < count):\n",
    "                    is_in = False\n",
    "                    break\n",
    "        if is_in == True:\n",
    "            print(prime_number)\n",
    "            answer += 1\n",
    "    return answer"
   ]
  },
  {
   "cell_type": "code",
   "execution_count": 80,
   "metadata": {
    "ExecuteTime": {
     "end_time": "2020-07-06T14:44:52.249304Z",
     "start_time": "2020-07-06T14:44:52.243714Z"
    }
   },
   "outputs": [
    {
     "name": "stdout",
     "output_type": "stream",
     "text": [
      "[2, 3, 4, 5, 6, 7, 8, 9, 11, 13, 15, 17, 19, 23, 25, 29, 31, 35, 37, 41, 43, 47, 49, 53, 59, 61, 67, 71, 73, 79, 83, 89, 97, 101, 103, 107, 109, 113, 121, 127, 131, 137, 139, 143, 149, 151, 157, 163, 167, 169, 173, 179, 181, 191, 193, 197, 199, 211, 223, 227, 229, 233, 239, 241, 251, 257, 263, 269, 271, 277, 281, 283, 289, 293, 307, 311, 313, 317, 323, 331, 337, 347, 349, 353, 359, 361, 367, 373, 379, 383, 389, 397, 401, 409, 419, 421, 431, 433, 439, 443, 449, 457, 461, 463, 467, 479, 487, 491, 499, 503, 509, 521, 523, 529, 541, 547, 557, 563, 569, 571, 577, 587, 593, 599, 601, 607, 613, 617, 619, 631, 641, 643, 647, 653, 659, 661, 673, 677, 683, 691, 701, 709, 719]\n",
      "['2']\n",
      "['7']\n",
      "['2', '2', '7']\n"
     ]
    },
    {
     "data": {
      "text/plain": [
       "3"
      ]
     },
     "execution_count": 80,
     "metadata": {},
     "output_type": "execute_result"
    }
   ],
   "source": [
    "numbers = '227'\n",
    "function(numbers)"
   ]
  },
  {
   "cell_type": "code",
   "execution_count": 81,
   "metadata": {
    "ExecuteTime": {
     "end_time": "2020-07-06T14:44:52.432668Z",
     "start_time": "2020-07-06T14:44:52.428474Z"
    }
   },
   "outputs": [
    {
     "name": "stdout",
     "output_type": "stream",
     "text": [
      "[2, 3, 4, 5, 6, 7, 8, 9, 11, 13, 15, 17, 19, 23, 25, 29, 31, 35, 37, 41, 43, 47, 49, 53, 59, 61, 67, 71]\n",
      "['7']\n",
      "['1', '7']\n",
      "['7', '1']\n"
     ]
    },
    {
     "data": {
      "text/plain": [
       "3"
      ]
     },
     "execution_count": 81,
     "metadata": {},
     "output_type": "execute_result"
    }
   ],
   "source": [
    "numbers = '17'\n",
    "function(numbers)"
   ]
  },
  {
   "cell_type": "code",
   "execution_count": 82,
   "metadata": {
    "ExecuteTime": {
     "end_time": "2020-07-06T14:44:52.511703Z",
     "start_time": "2020-07-06T14:44:52.508118Z"
    }
   },
   "outputs": [
    {
     "name": "stdout",
     "output_type": "stream",
     "text": [
      "[2, 3, 4, 5, 6, 7, 8, 9, 11, 13, 15, 17, 19, 23, 25, 29, 31, 35, 37, 41, 43, 47, 49, 53, 59, 61, 67, 71, 73, 79, 83, 89, 97, 101, 103, 107, 109]\n",
      "['1', '1']\n",
      "['1', '0', '1']\n"
     ]
    },
    {
     "data": {
      "text/plain": [
       "2"
      ]
     },
     "execution_count": 82,
     "metadata": {},
     "output_type": "execute_result"
    }
   ],
   "source": [
    "numbers = '011'\n",
    "function(numbers)"
   ]
  },
  {
   "cell_type": "code",
   "execution_count": 83,
   "metadata": {
    "ExecuteTime": {
     "end_time": "2020-07-06T14:44:52.985290Z",
     "start_time": "2020-07-06T14:44:52.981028Z"
    }
   },
   "outputs": [
    {
     "data": {
      "text/plain": [
       "(['1', '1', '7'], ['1', '1'])"
      ]
     },
     "execution_count": 83,
     "metadata": {},
     "output_type": "execute_result"
    }
   ],
   "source": [
    "numbers = '117'\n",
    "prime_number = '11'\n",
    "numbers = list(numbers)\n",
    "prime_number = list(prime_number)\n",
    "numbers, prime_number"
   ]
  },
  {
   "cell_type": "code",
   "execution_count": 84,
   "metadata": {
    "ExecuteTime": {
     "end_time": "2020-07-06T14:44:53.020160Z",
     "start_time": "2020-07-06T14:44:53.016292Z"
    }
   },
   "outputs": [
    {
     "data": {
      "text/plain": [
       "Counter({'1': 2, '7': 1})"
      ]
     },
     "execution_count": 84,
     "metadata": {},
     "output_type": "execute_result"
    }
   ],
   "source": [
    "dict_for_numbers = Counter(numbers)\n",
    "dict_for_numbers"
   ]
  },
  {
   "cell_type": "code",
   "execution_count": 85,
   "metadata": {
    "ExecuteTime": {
     "end_time": "2020-07-06T14:44:53.412359Z",
     "start_time": "2020-07-06T14:44:53.409204Z"
    }
   },
   "outputs": [
    {
     "data": {
      "text/plain": [
       "['1', '1', '7']"
      ]
     },
     "execution_count": 85,
     "metadata": {},
     "output_type": "execute_result"
    }
   ],
   "source": [
    "numbers"
   ]
  },
  {
   "cell_type": "code",
   "execution_count": 86,
   "metadata": {
    "ExecuteTime": {
     "end_time": "2020-07-06T14:44:54.063454Z",
     "start_time": "2020-07-06T14:44:54.060243Z"
    }
   },
   "outputs": [
    {
     "data": {
      "text/plain": [
       "False"
      ]
     },
     "execution_count": 86,
     "metadata": {},
     "output_type": "execute_result"
    }
   ],
   "source": [
    "prime_number in numbers"
   ]
  },
  {
   "cell_type": "code",
   "execution_count": 87,
   "metadata": {
    "ExecuteTime": {
     "end_time": "2020-07-06T14:45:29.583434Z",
     "start_time": "2020-07-06T14:45:29.577342Z"
    }
   },
   "outputs": [],
   "source": [
    "from itertools import permutations\n",
    "import math\n",
    "\n",
    "def check(n):\n",
    "    k = math.sqrt(n)\n",
    "    if n < 2: \n",
    "        return False\n",
    "\n",
    "    for i in range(2, int(k)+1):\n",
    "        if n % i == 0:\n",
    "            return False\n",
    "    return True\n",
    "\n",
    "def solution(numbers):\n",
    "    answer = []\n",
    "    for k in range(1, len(numbers)+1):\n",
    "        perlist = list(map(''.join, permutations(list(numbers), k)))\n",
    "        for i in list(set(perlist)):\n",
    "            if check(int(i)):\n",
    "                answer.append(int(i))\n",
    "\n",
    "    answer = len(set(answer))\n",
    "\n",
    "    return answer"
   ]
  },
  {
   "cell_type": "code",
   "execution_count": 88,
   "metadata": {
    "ExecuteTime": {
     "end_time": "2020-07-06T14:45:33.397406Z",
     "start_time": "2020-07-06T14:45:33.394105Z"
    }
   },
   "outputs": [
    {
     "data": {
      "text/plain": [
       "2"
      ]
     },
     "execution_count": 88,
     "metadata": {},
     "output_type": "execute_result"
    }
   ],
   "source": [
    "numbers = '011'\n",
    "solution(numbers)"
   ]
  },
  {
   "cell_type": "code",
   "execution_count": null,
   "metadata": {},
   "outputs": [],
   "source": []
  },
  {
   "cell_type": "code",
   "execution_count": null,
   "metadata": {},
   "outputs": [],
   "source": []
  },
  {
   "cell_type": "code",
   "execution_count": null,
   "metadata": {},
   "outputs": [],
   "source": []
  },
  {
   "cell_type": "code",
   "execution_count": null,
   "metadata": {},
   "outputs": [],
   "source": []
  }
 ],
 "metadata": {
  "kernelspec": {
   "display_name": "Python 3",
   "language": "python",
   "name": "python3"
  },
  "language_info": {
   "codemirror_mode": {
    "name": "ipython",
    "version": 3
   },
   "file_extension": ".py",
   "mimetype": "text/x-python",
   "name": "python",
   "nbconvert_exporter": "python",
   "pygments_lexer": "ipython3",
   "version": "3.7.3"
  },
  "toc": {
   "base_numbering": 1,
   "nav_menu": {},
   "number_sections": true,
   "sideBar": true,
   "skip_h1_title": false,
   "title_cell": "Table of Contents",
   "title_sidebar": "Contents",
   "toc_cell": false,
   "toc_position": {},
   "toc_section_display": true,
   "toc_window_display": false
  }
 },
 "nbformat": 4,
 "nbformat_minor": 2
}
