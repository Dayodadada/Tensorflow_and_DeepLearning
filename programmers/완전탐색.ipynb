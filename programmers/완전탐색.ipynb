{
 "cells": [
  {
   "cell_type": "markdown",
   "metadata": {},
   "source": [
    "# 모의고사 - 진행중\n",
    "- p1 : [1,2,3,4,5]\n",
    "- p2 : [2,1,2,3,2,4,2,5]\n",
    "- p3 : [3,3,1,1,2,2,4,4,5,5]"
   ]
  },
  {
   "cell_type": "code",
   "execution_count": null,
   "metadata": {},
   "outputs": [],
   "source": [
    "def function(answers):\n",
    "    submitted_answer_sheets = {\n",
    "        1: [1,2,3,4,5],\n",
    "        2: [2,1,2,3,2,4,2,5],\n",
    "        3: [3,3,1,1,2,2,4,4,5,5],\n",
    "    }\n",
    "    \n",
    "    length = len(answers)\n",
    "    \n",
    "    for i in answer_sheet.keys():\n",
    "        answer_sheet[i]"
   ]
  },
  {
   "cell_type": "code",
   "execution_count": 4,
   "metadata": {
    "ExecuteTime": {
     "end_time": "2020-06-24T02:36:24.975355Z",
     "start_time": "2020-06-24T02:36:24.970292Z"
    }
   },
   "outputs": [
    {
     "data": {
      "text/plain": [
       "{1: [1, 2, 3, 4, 5],\n",
       " 2: [2, 1, 2, 3, 2, 4, 2, 5],\n",
       " 3: [3, 3, 1, 1, 2, 2, 4, 4, 5, 5]}"
      ]
     },
     "execution_count": 4,
     "metadata": {},
     "output_type": "execute_result"
    }
   ],
   "source": [
    "submitted_answer_sheets = {\n",
    "    1: [1,2,3,4,5],\n",
    "    2: [2,1,2,3,2,4,2,5],\n",
    "    3: [3,3,1,1,2,2,4,4,5,5],\n",
    "}\n",
    "submitted_answer_sheets"
   ]
  },
  {
   "cell_type": "code",
   "execution_count": 7,
   "metadata": {
    "ExecuteTime": {
     "end_time": "2020-06-24T02:37:15.057813Z",
     "start_time": "2020-06-24T02:37:15.053005Z"
    }
   },
   "outputs": [
    {
     "data": {
      "text/plain": [
       "([1, 2, 3, 4, 5, 1, 2, 3, 4, 5, 1, 2, 3, 4, 5, 1, 2, 3, 4, 5, 1, 2, 3, 4, 5],\n",
       " [1, 2, 3, 4, 5, 1, 2, 3, 4, 5, 1, 2, 3, 4, 5, 1, 2, 3, 4, 5, 1, 2, 3, 4, 5])"
      ]
     },
     "execution_count": 7,
     "metadata": {},
     "output_type": "execute_result"
    }
   ],
   "source": [
    "answers = [1,2,3,4,5]\n",
    "length_for_answer = len(answers)\n",
    "submitted_answer_sheet = submitted_answer_sheets[1]\n",
    "length_for_submitted_answer = len(submitted_answer_sheet)\n",
    "\n",
    "submitted_answer_sheet * length_for_answer, answers * length_for_submitted_answer"
   ]
  },
  {
   "cell_type": "markdown",
   "metadata": {},
   "source": [
    "# 카펫\n",
    "갈색 격자의 수 brown, 노란색 격자의 수 yellow가 매개변수로 주어질 때 카펫의 가로, 세로 크기를 순서대로 배열에 담아 return"
   ]
  },
  {
   "cell_type": "code",
   "execution_count": 25,
   "metadata": {
    "ExecuteTime": {
     "end_time": "2020-06-24T13:44:01.980928Z",
     "start_time": "2020-06-24T13:44:01.976536Z"
    }
   },
   "outputs": [],
   "source": [
    "def function(brown, yellow):\n",
    "    for i in range(1, int(yellow ** (1/2)) + 1):\n",
    "        height = i\n",
    "        width = yellow / height\n",
    "        if 2 * width * width + (4  - brown) * width + 2 * yellow == 0:\n",
    "            break\n",
    "    return [int(width + 2), int(height + 2)]"
   ]
  },
  {
   "cell_type": "code",
   "execution_count": 26,
   "metadata": {
    "ExecuteTime": {
     "end_time": "2020-06-24T13:44:02.246913Z",
     "start_time": "2020-06-24T13:44:02.243142Z"
    }
   },
   "outputs": [
    {
     "data": {
      "text/plain": [
       "[4, 3]"
      ]
     },
     "execution_count": 26,
     "metadata": {},
     "output_type": "execute_result"
    }
   ],
   "source": [
    "function(10, 2)"
   ]
  },
  {
   "cell_type": "code",
   "execution_count": 27,
   "metadata": {
    "ExecuteTime": {
     "end_time": "2020-06-24T13:44:02.704374Z",
     "start_time": "2020-06-24T13:44:02.699866Z"
    }
   },
   "outputs": [
    {
     "data": {
      "text/plain": [
       "[3, 3]"
      ]
     },
     "execution_count": 27,
     "metadata": {},
     "output_type": "execute_result"
    }
   ],
   "source": [
    "function(8, 1)"
   ]
  },
  {
   "cell_type": "code",
   "execution_count": 28,
   "metadata": {
    "ExecuteTime": {
     "end_time": "2020-06-24T13:44:03.132965Z",
     "start_time": "2020-06-24T13:44:03.129342Z"
    }
   },
   "outputs": [
    {
     "data": {
      "text/plain": [
       "[8, 6]"
      ]
     },
     "execution_count": 28,
     "metadata": {},
     "output_type": "execute_result"
    }
   ],
   "source": [
    "function(24, 24)"
   ]
  },
  {
   "cell_type": "code",
   "execution_count": null,
   "metadata": {},
   "outputs": [],
   "source": []
  }
 ],
 "metadata": {
  "kernelspec": {
   "display_name": "Python 3",
   "language": "python",
   "name": "python3"
  },
  "language_info": {
   "codemirror_mode": {
    "name": "ipython",
    "version": 3
   },
   "file_extension": ".py",
   "mimetype": "text/x-python",
   "name": "python",
   "nbconvert_exporter": "python",
   "pygments_lexer": "ipython3",
   "version": "3.7.3"
  },
  "toc": {
   "base_numbering": 1,
   "nav_menu": {},
   "number_sections": true,
   "sideBar": true,
   "skip_h1_title": false,
   "title_cell": "Table of Contents",
   "title_sidebar": "Contents",
   "toc_cell": false,
   "toc_position": {},
   "toc_section_display": true,
   "toc_window_display": false
  }
 },
 "nbformat": 4,
 "nbformat_minor": 2
}
