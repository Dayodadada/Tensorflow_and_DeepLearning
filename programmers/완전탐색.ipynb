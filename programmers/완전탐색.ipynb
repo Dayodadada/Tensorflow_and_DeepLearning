{
 "cells": [
  {
   "cell_type": "markdown",
   "metadata": {},
   "source": [
    "# 모의고사\n",
    "- p1 : [1,2,3,4,5]\n",
    "- p2 : [2,1,2,3,2,4,2,5]\n",
    "- p3 : [3,3,1,1,2,2,4,4,5,5]"
   ]
  },
  {
   "cell_type": "code",
   "execution_count": 56,
   "metadata": {
    "ExecuteTime": {
     "end_time": "2020-06-25T00:26:29.930030Z",
     "start_time": "2020-06-25T00:26:29.924180Z"
    }
   },
   "outputs": [],
   "source": [
    "def function(answers):\n",
    "    submitted_answer_sheet = {\n",
    "        1: [1,2,3,4,5],\n",
    "        2: [2,1,2,3,2,4,2,5],\n",
    "        3: [3,3,1,1,2,2,4,4,5,5],\n",
    "    }\n",
    "    \n",
    "    answer = []\n",
    "    max_score = 0\n",
    "    for i, answer_sheet in submitted_answer_sheet.items():\n",
    "        score = sum([i == j for i, j in zip(answer_sheet * int(len(answers) / len(answer_sheet) + 1), answers)])\n",
    "        print(score)\n",
    "        if max_score < score:\n",
    "            answer = [i]\n",
    "            max_score = score\n",
    "        elif max_score == score:\n",
    "            answer.append(i)  \n",
    "    answer.sort()\n",
    "    return answer"
   ]
  },
  {
   "cell_type": "code",
   "execution_count": null,
   "metadata": {},
   "outputs": [],
   "source": [
    "# 타인\n",
    "# def solution(answers):\n",
    "#     pattern1 = [1,2,3,4,5]\n",
    "#     pattern2 = [2,1,2,3,2,4,2,5]\n",
    "#     pattern3 = [3,3,1,1,2,2,4,4,5,5]\n",
    "#     score = [0, 0, 0]\n",
    "#     result = []\n",
    "\n",
    "#     for idx, answer in enumerate(answers):\n",
    "#         if answer == pattern1[idx%len(pattern1)]:\n",
    "#             score[0] += 1\n",
    "#         if answer == pattern2[idx%len(pattern2)]:\n",
    "#             score[1] += 1\n",
    "#         if answer == pattern3[idx%len(pattern3)]:\n",
    "#             score[2] += 1\n",
    "\n",
    "#     for idx, s in enumerate(score):\n",
    "#         if s == max(score):\n",
    "#             result.append(idx+1)\n",
    "\n",
    "#     return result\n",
    "\n",
    "# 타인\n",
    "# def solution(answers):\n",
    "#     p = [[1, 2, 3, 4, 5],\n",
    "#          [2, 1, 2, 3, 2, 4, 2, 5],\n",
    "#          [3, 3, 1, 1, 2, 2, 4, 4, 5, 5]]\n",
    "#     s = [0] * len(p)\n",
    "\n",
    "#     for q, a in enumerate(answers):\n",
    "#         for i, v in enumerate(p):\n",
    "#             if a == v[q % len(v)]:\n",
    "#                 s[i] += 1\n",
    "#     return [i + 1 for i, v in enumerate(s) if v == max(s)]"
   ]
  },
  {
   "cell_type": "code",
   "execution_count": 57,
   "metadata": {
    "ExecuteTime": {
     "end_time": "2020-06-25T00:26:30.218010Z",
     "start_time": "2020-06-25T00:26:30.213963Z"
    }
   },
   "outputs": [
    {
     "name": "stdout",
     "output_type": "stream",
     "text": [
      "5\n",
      "0\n",
      "0\n"
     ]
    },
    {
     "data": {
      "text/plain": [
       "[1]"
      ]
     },
     "execution_count": 57,
     "metadata": {},
     "output_type": "execute_result"
    }
   ],
   "source": [
    "function([1,2,3,4,5])"
   ]
  },
  {
   "cell_type": "code",
   "execution_count": 58,
   "metadata": {
    "ExecuteTime": {
     "end_time": "2020-06-25T00:26:30.799915Z",
     "start_time": "2020-06-25T00:26:30.795681Z"
    }
   },
   "outputs": [
    {
     "name": "stdout",
     "output_type": "stream",
     "text": [
      "2\n",
      "2\n",
      "2\n"
     ]
    },
    {
     "data": {
      "text/plain": [
       "[1, 2, 3]"
      ]
     },
     "execution_count": 58,
     "metadata": {},
     "output_type": "execute_result"
    }
   ],
   "source": [
    "function([1,3,2,4,2])"
   ]
  },
  {
   "cell_type": "markdown",
   "metadata": {},
   "source": [
    "# 카펫\n",
    "갈색 격자의 수 brown, 노란색 격자의 수 yellow가 매개변수로 주어질 때 카펫의 가로, 세로 크기를 순서대로 배열에 담아 return"
   ]
  },
  {
   "cell_type": "code",
   "execution_count": 25,
   "metadata": {
    "ExecuteTime": {
     "end_time": "2020-06-24T13:44:01.980928Z",
     "start_time": "2020-06-24T13:44:01.976536Z"
    }
   },
   "outputs": [],
   "source": [
    "def function(brown, yellow):\n",
    "    for i in range(1, int(yellow ** (1/2)) + 1):\n",
    "        height = i\n",
    "        width = yellow / height\n",
    "        if 2 * width * width + (4  - brown) * width + 2 * yellow == 0:\n",
    "            break\n",
    "    return [int(width + 2), int(height + 2)]"
   ]
  },
  {
   "cell_type": "code",
   "execution_count": 26,
   "metadata": {
    "ExecuteTime": {
     "end_time": "2020-06-24T13:44:02.246913Z",
     "start_time": "2020-06-24T13:44:02.243142Z"
    }
   },
   "outputs": [
    {
     "data": {
      "text/plain": [
       "[4, 3]"
      ]
     },
     "execution_count": 26,
     "metadata": {},
     "output_type": "execute_result"
    }
   ],
   "source": [
    "function(10, 2)"
   ]
  },
  {
   "cell_type": "code",
   "execution_count": 27,
   "metadata": {
    "ExecuteTime": {
     "end_time": "2020-06-24T13:44:02.704374Z",
     "start_time": "2020-06-24T13:44:02.699866Z"
    }
   },
   "outputs": [
    {
     "data": {
      "text/plain": [
       "[3, 3]"
      ]
     },
     "execution_count": 27,
     "metadata": {},
     "output_type": "execute_result"
    }
   ],
   "source": [
    "function(8, 1)"
   ]
  },
  {
   "cell_type": "code",
   "execution_count": 28,
   "metadata": {
    "ExecuteTime": {
     "end_time": "2020-06-24T13:44:03.132965Z",
     "start_time": "2020-06-24T13:44:03.129342Z"
    }
   },
   "outputs": [
    {
     "data": {
      "text/plain": [
       "[8, 6]"
      ]
     },
     "execution_count": 28,
     "metadata": {},
     "output_type": "execute_result"
    }
   ],
   "source": [
    "function(24, 24)"
   ]
  },
  {
   "cell_type": "markdown",
   "metadata": {},
   "source": [
    "# 소수찾기"
   ]
  },
  {
   "cell_type": "code",
   "execution_count": 98,
   "metadata": {
    "ExecuteTime": {
     "end_time": "2020-07-07T00:18:11.050448Z",
     "start_time": "2020-07-07T00:18:11.046394Z"
    }
   },
   "outputs": [],
   "source": [
    "def is_prime_number(number):\n",
    "    if number < 2:\n",
    "        return False\n",
    "    for i in range(2, int(number ** (1/2)) + 1):\n",
    "        if number % i == 0:\n",
    "            return False\n",
    "    return True"
   ]
  },
  {
   "cell_type": "code",
   "execution_count": 79,
   "metadata": {
    "ExecuteTime": {
     "end_time": "2020-07-06T14:44:52.076691Z",
     "start_time": "2020-07-06T14:44:52.069318Z"
    }
   },
   "outputs": [],
   "source": [
    "from collections import Counter\n",
    "def function(numbers): #시간초과\n",
    "    numbers = list(numbers)\n",
    "    dict_for_numbers = Counter(numbers)\n",
    "    numbers.sort(reverse=True)\n",
    "    numbers = \"\".join(numbers)\n",
    "    \n",
    "    prime_numbers = []\n",
    "    for number in range(2, int(numbers) + 1):\n",
    "        if is_prime_number(number) == True:\n",
    "            prime_numbers.append(number)\n",
    "            \n",
    "    answer = 0\n",
    "    for prime_number in prime_numbers:\n",
    "        is_in = True\n",
    "        prime_number = list(str(prime_number))\n",
    "        \n",
    "        for i, count in Counter(prime_number).items():\n",
    "            if (i not in dict_for_numbers):\n",
    "                is_in = False\n",
    "                break\n",
    "            else:\n",
    "                if (dict_for_numbers[i] < count):\n",
    "                    is_in = False\n",
    "                    break\n",
    "        if is_in == True:\n",
    "            answer += 1\n",
    "    return answer"
   ]
  },
  {
   "cell_type": "code",
   "execution_count": 94,
   "metadata": {
    "ExecuteTime": {
     "end_time": "2020-07-07T00:16:56.389215Z",
     "start_time": "2020-07-07T00:16:56.384838Z"
    }
   },
   "outputs": [],
   "source": [
    "from itertools import permutations\n",
    "def function(numbers):\n",
    "    answer = []\n",
    "    for k in range(1, len(numbers)+1):\n",
    "        perlist = list(map(''.join, permutations(list(numbers), k)))\n",
    "        for i in list(set(perlist)):\n",
    "            if is_prime_number(int(i)):\n",
    "                answer.append(int(i))\n",
    "    answer = len(set(answer))\n",
    "    return answer"
   ]
  },
  {
   "cell_type": "code",
   "execution_count": 95,
   "metadata": {
    "ExecuteTime": {
     "end_time": "2020-07-07T00:16:56.613226Z",
     "start_time": "2020-07-07T00:16:56.609376Z"
    }
   },
   "outputs": [
    {
     "data": {
      "text/plain": [
       "3"
      ]
     },
     "execution_count": 95,
     "metadata": {},
     "output_type": "execute_result"
    }
   ],
   "source": [
    "numbers = '227'\n",
    "function(numbers)"
   ]
  },
  {
   "cell_type": "code",
   "execution_count": 96,
   "metadata": {
    "ExecuteTime": {
     "end_time": "2020-07-07T00:17:00.534430Z",
     "start_time": "2020-07-07T00:17:00.531053Z"
    }
   },
   "outputs": [
    {
     "data": {
      "text/plain": [
       "3"
      ]
     },
     "execution_count": 96,
     "metadata": {},
     "output_type": "execute_result"
    }
   ],
   "source": [
    "numbers = '17'\n",
    "function(numbers)"
   ]
  },
  {
   "cell_type": "code",
   "execution_count": 97,
   "metadata": {
    "ExecuteTime": {
     "end_time": "2020-07-07T00:17:01.325574Z",
     "start_time": "2020-07-07T00:17:01.322103Z"
    }
   },
   "outputs": [
    {
     "data": {
      "text/plain": [
       "2"
      ]
     },
     "execution_count": 97,
     "metadata": {},
     "output_type": "execute_result"
    }
   ],
   "source": [
    "numbers = '011'\n",
    "function(numbers)"
   ]
  },
  {
   "cell_type": "code",
   "execution_count": 87,
   "metadata": {
    "ExecuteTime": {
     "end_time": "2020-07-06T14:45:29.583434Z",
     "start_time": "2020-07-06T14:45:29.577342Z"
    }
   },
   "outputs": [],
   "source": [
    "from itertools import permutations\n",
    "import math\n",
    "\n",
    "def check(n):\n",
    "    k = math.sqrt(n)\n",
    "    if n < 2: \n",
    "        return False\n",
    "\n",
    "    for i in range(2, int(k)+1):\n",
    "        if n % i == 0:\n",
    "            return False\n",
    "    return True\n",
    "\n",
    "def solution(numbers):\n",
    "    answer = []\n",
    "    for k in range(1, len(numbers)+1):\n",
    "        perlist = list(map(''.join, permutations(list(numbers), k)))\n",
    "        for i in list(set(perlist)):\n",
    "            if check(int(i)):\n",
    "                answer.append(int(i))\n",
    "\n",
    "    answer = len(set(answer))\n",
    "\n",
    "    return answer"
   ]
  },
  {
   "cell_type": "code",
   "execution_count": null,
   "metadata": {},
   "outputs": [],
   "source": [
    "from itertools import permutations\n",
    "def solution(n):\n",
    "    a = set()\n",
    "    for i in range(len(n)):\n",
    "        a |= set(map(int, map(\"\".join, permutations(list(n), i + 1))))\n",
    "    a -= set(range(0, 2))\n",
    "    for i in range(2, int(max(a) ** 0.5) + 1):\n",
    "        a -= set(range(i * 2, max(a) + 1, i))\n",
    "    return len(a)"
   ]
  },
  {
   "cell_type": "code",
   "execution_count": null,
   "metadata": {},
   "outputs": [],
   "source": [
    "# 0으로 시작하는 숫자. \n",
    "# 모든 숫자의 조합.\n",
    "\n",
    "def isPrimeNumber(number):\n",
    "    if number <= 1:\n",
    "        return False\n",
    "    else:\n",
    "        for i in range(2, number // 2 + 1):\n",
    "            if number % i == 0:\n",
    "                return False\n",
    "        return True\n",
    "\n",
    "def getAllCombination(numbers, numList, leftCipher):\n",
    "    '''\n",
    "    numbers : 총 숫자카드 list\n",
    "    numList : 가능한 숫자 배열 list\n",
    "    leftCipher : 남은 자릿수\n",
    "    '''\n",
    "\n",
    "    # 현재 가능한 숫자 배열 list를 기준으로 추가가 가능한 숫자들은 찾는다. \n",
    "    newNumList = [[]]\n",
    "    for li in numList:\n",
    "        for i in numbers:\n",
    "            if i in li and li.count(i) <= numbers.count(i) - 1:\n",
    "                tmp = li[:]\n",
    "                tmp.append(i)\n",
    "                newNumList.append(tmp)\n",
    "            if i not in li:\n",
    "                tmp = li[:]\n",
    "                tmp.append(i)\n",
    "                newNumList.append(tmp)\n",
    "\n",
    "    leftCipher -= 1\n",
    "\n",
    "    if leftCipher == 0:\n",
    "        return newNumList\n",
    "    else:\n",
    "        return getAllCombination(numbers, newNumList, leftCipher)\n",
    "\n",
    "def removeFirstZero(numList):\n",
    "    for i, num in enumerate(numList):\n",
    "        firstNumIsZero = bool()\n",
    "\n",
    "        while True:\n",
    "            if len(num) >= 2 and num[0] == '0':\n",
    "                firstNumIsZero = True\n",
    "            else:\n",
    "                numList[i] = num\n",
    "                break\n",
    "\n",
    "            num = num[1:]\n",
    "\n",
    "def getUnique2DList(numList):\n",
    "    for i, val in enumerate(numList):\n",
    "        tmp = str()\n",
    "        for char in val:\n",
    "            tmp += char\n",
    "        numList[i] = tmp\n",
    "\n",
    "    newList = list(set(numList))\n",
    "    return newList\n",
    "\n",
    "def solution(numbers):    \n",
    "    availableAnswer = getAllCombination(numbers, [[]], len(numbers))\n",
    "    del availableAnswer[0]\n",
    "    removeFirstZero(availableAnswer)\n",
    "    availableAnswer = getUnique2DList(availableAnswer)\n",
    "\n",
    "    answer = 0\n",
    "    for val in availableAnswer:\n",
    "        if isPrimeNumber(int(val)):\n",
    "            print(val)\n",
    "            answer += 1\n",
    "\n",
    "    return answer\n"
   ]
  },
  {
   "cell_type": "markdown",
   "metadata": {},
   "source": [
    "# 숫자 야구"
   ]
  },
  {
   "cell_type": "code",
   "execution_count": 147,
   "metadata": {
    "ExecuteTime": {
     "end_time": "2020-07-10T14:27:48.653003Z",
     "start_time": "2020-07-10T14:27:48.646977Z"
    }
   },
   "outputs": [],
   "source": [
    "import itertools\n",
    "\n",
    "def solution(baseball):\n",
    "    numbers = ['1','2','3','4','5','6','7','8','9']\n",
    "    possible_numbers = [[i, j, k] for i, j, k in itertools.permutations(numbers, 3)]\n",
    "\n",
    "    answer = []\n",
    "    for possible_number in possible_numbers:\n",
    "        is_possible = True\n",
    "        for number, strike, ball in baseball:\n",
    "            num_strike = sum([1 for i, j in zip(possible_number, list(str(number))) if i == j])\n",
    "            num_ball = len(set(possible_number).intersection(set(list(str(number))))) - num_strike\n",
    "            is_possible = False if (strike != num_strike)|(ball != num_ball) else is_possible\n",
    "        if is_possible:\n",
    "            answer.append(possible_number)\n",
    "    return len(answer)"
   ]
  },
  {
   "cell_type": "code",
   "execution_count": 148,
   "metadata": {
    "ExecuteTime": {
     "end_time": "2020-07-10T14:27:48.828630Z",
     "start_time": "2020-07-10T14:27:48.819173Z"
    }
   },
   "outputs": [
    {
     "data": {
      "text/plain": [
       "2"
      ]
     },
     "execution_count": 148,
     "metadata": {},
     "output_type": "execute_result"
    }
   ],
   "source": [
    "baseball = [[123, 1, 1], [356, 1, 0], [327, 2, 0], [489, 0, 1]]\n",
    "solution(baseball)"
   ]
  },
  {
   "cell_type": "code",
   "execution_count": null,
   "metadata": {},
   "outputs": [],
   "source": []
  }
 ],
 "metadata": {
  "kernelspec": {
   "display_name": "Python 3",
   "language": "python",
   "name": "python3"
  },
  "language_info": {
   "codemirror_mode": {
    "name": "ipython",
    "version": 3
   },
   "file_extension": ".py",
   "mimetype": "text/x-python",
   "name": "python",
   "nbconvert_exporter": "python",
   "pygments_lexer": "ipython3",
   "version": "3.7.3"
  },
  "toc": {
   "base_numbering": 1,
   "nav_menu": {},
   "number_sections": true,
   "sideBar": true,
   "skip_h1_title": false,
   "title_cell": "Table of Contents",
   "title_sidebar": "Contents",
   "toc_cell": false,
   "toc_position": {},
   "toc_section_display": true,
   "toc_window_display": false
  }
 },
 "nbformat": 4,
 "nbformat_minor": 2
}
