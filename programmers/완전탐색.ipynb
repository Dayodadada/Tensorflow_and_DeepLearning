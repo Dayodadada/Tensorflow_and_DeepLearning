{
 "cells": [
  {
   "cell_type": "markdown",
   "metadata": {},
   "source": [
    "# 모의고사\n",
    "- p1 : [1,2,3,4,5]\n",
    "- p2 : [2,1,2,3,2,4,2,5]\n",
    "- p3 : [3,3,1,1,2,2,4,4,5,5]"
   ]
  },
  {
   "cell_type": "code",
   "execution_count": 56,
   "metadata": {
    "ExecuteTime": {
     "end_time": "2020-06-25T00:26:29.930030Z",
     "start_time": "2020-06-25T00:26:29.924180Z"
    }
   },
   "outputs": [],
   "source": [
    "def function(answers):\n",
    "    submitted_answer_sheet = {\n",
    "        1: [1,2,3,4,5],\n",
    "        2: [2,1,2,3,2,4,2,5],\n",
    "        3: [3,3,1,1,2,2,4,4,5,5],\n",
    "    }\n",
    "    \n",
    "    answer = []\n",
    "    max_score = 0\n",
    "    for i, answer_sheet in submitted_answer_sheet.items():\n",
    "        score = sum([i == j for i, j in zip(answer_sheet * int(len(answers) / len(answer_sheet) + 1), answers)])\n",
    "        print(score)\n",
    "        if max_score < score:\n",
    "            answer = [i]\n",
    "            max_score = score\n",
    "        elif max_score == score:\n",
    "            answer.append(i)  \n",
    "    answer.sort()\n",
    "    return answer"
   ]
  },
  {
   "cell_type": "code",
   "execution_count": null,
   "metadata": {},
   "outputs": [],
   "source": [
    "# 타인\n",
    "# def solution(answers):\n",
    "#     pattern1 = [1,2,3,4,5]\n",
    "#     pattern2 = [2,1,2,3,2,4,2,5]\n",
    "#     pattern3 = [3,3,1,1,2,2,4,4,5,5]\n",
    "#     score = [0, 0, 0]\n",
    "#     result = []\n",
    "\n",
    "#     for idx, answer in enumerate(answers):\n",
    "#         if answer == pattern1[idx%len(pattern1)]:\n",
    "#             score[0] += 1\n",
    "#         if answer == pattern2[idx%len(pattern2)]:\n",
    "#             score[1] += 1\n",
    "#         if answer == pattern3[idx%len(pattern3)]:\n",
    "#             score[2] += 1\n",
    "\n",
    "#     for idx, s in enumerate(score):\n",
    "#         if s == max(score):\n",
    "#             result.append(idx+1)\n",
    "\n",
    "#     return result\n",
    "\n",
    "# 타인\n",
    "# def solution(answers):\n",
    "#     p = [[1, 2, 3, 4, 5],\n",
    "#          [2, 1, 2, 3, 2, 4, 2, 5],\n",
    "#          [3, 3, 1, 1, 2, 2, 4, 4, 5, 5]]\n",
    "#     s = [0] * len(p)\n",
    "\n",
    "#     for q, a in enumerate(answers):\n",
    "#         for i, v in enumerate(p):\n",
    "#             if a == v[q % len(v)]:\n",
    "#                 s[i] += 1\n",
    "#     return [i + 1 for i, v in enumerate(s) if v == max(s)]"
   ]
  },
  {
   "cell_type": "code",
   "execution_count": 57,
   "metadata": {
    "ExecuteTime": {
     "end_time": "2020-06-25T00:26:30.218010Z",
     "start_time": "2020-06-25T00:26:30.213963Z"
    }
   },
   "outputs": [
    {
     "name": "stdout",
     "output_type": "stream",
     "text": [
      "5\n",
      "0\n",
      "0\n"
     ]
    },
    {
     "data": {
      "text/plain": [
       "[1]"
      ]
     },
     "execution_count": 57,
     "metadata": {},
     "output_type": "execute_result"
    }
   ],
   "source": [
    "function([1,2,3,4,5])"
   ]
  },
  {
   "cell_type": "code",
   "execution_count": 58,
   "metadata": {
    "ExecuteTime": {
     "end_time": "2020-06-25T00:26:30.799915Z",
     "start_time": "2020-06-25T00:26:30.795681Z"
    }
   },
   "outputs": [
    {
     "name": "stdout",
     "output_type": "stream",
     "text": [
      "2\n",
      "2\n",
      "2\n"
     ]
    },
    {
     "data": {
      "text/plain": [
       "[1, 2, 3]"
      ]
     },
     "execution_count": 58,
     "metadata": {},
     "output_type": "execute_result"
    }
   ],
   "source": [
    "function([1,3,2,4,2])"
   ]
  },
  {
   "cell_type": "markdown",
   "metadata": {},
   "source": [
    "# 카펫\n",
    "갈색 격자의 수 brown, 노란색 격자의 수 yellow가 매개변수로 주어질 때 카펫의 가로, 세로 크기를 순서대로 배열에 담아 return"
   ]
  },
  {
   "cell_type": "code",
   "execution_count": 25,
   "metadata": {
    "ExecuteTime": {
     "end_time": "2020-06-24T13:44:01.980928Z",
     "start_time": "2020-06-24T13:44:01.976536Z"
    }
   },
   "outputs": [],
   "source": [
    "def function(brown, yellow):\n",
    "    for i in range(1, int(yellow ** (1/2)) + 1):\n",
    "        height = i\n",
    "        width = yellow / height\n",
    "        if 2 * width * width + (4  - brown) * width + 2 * yellow == 0:\n",
    "            break\n",
    "    return [int(width + 2), int(height + 2)]"
   ]
  },
  {
   "cell_type": "code",
   "execution_count": 26,
   "metadata": {
    "ExecuteTime": {
     "end_time": "2020-06-24T13:44:02.246913Z",
     "start_time": "2020-06-24T13:44:02.243142Z"
    }
   },
   "outputs": [
    {
     "data": {
      "text/plain": [
       "[4, 3]"
      ]
     },
     "execution_count": 26,
     "metadata": {},
     "output_type": "execute_result"
    }
   ],
   "source": [
    "function(10, 2)"
   ]
  },
  {
   "cell_type": "code",
   "execution_count": 27,
   "metadata": {
    "ExecuteTime": {
     "end_time": "2020-06-24T13:44:02.704374Z",
     "start_time": "2020-06-24T13:44:02.699866Z"
    }
   },
   "outputs": [
    {
     "data": {
      "text/plain": [
       "[3, 3]"
      ]
     },
     "execution_count": 27,
     "metadata": {},
     "output_type": "execute_result"
    }
   ],
   "source": [
    "function(8, 1)"
   ]
  },
  {
   "cell_type": "code",
   "execution_count": 28,
   "metadata": {
    "ExecuteTime": {
     "end_time": "2020-06-24T13:44:03.132965Z",
     "start_time": "2020-06-24T13:44:03.129342Z"
    }
   },
   "outputs": [
    {
     "data": {
      "text/plain": [
       "[8, 6]"
      ]
     },
     "execution_count": 28,
     "metadata": {},
     "output_type": "execute_result"
    }
   ],
   "source": [
    "function(24, 24)"
   ]
  },
  {
   "cell_type": "code",
   "execution_count": null,
   "metadata": {},
   "outputs": [],
   "source": []
  },
  {
   "cell_type": "code",
   "execution_count": null,
   "metadata": {},
   "outputs": [],
   "source": []
  },
  {
   "cell_type": "code",
   "execution_count": null,
   "metadata": {},
   "outputs": [],
   "source": []
  },
  {
   "cell_type": "code",
   "execution_count": null,
   "metadata": {},
   "outputs": [],
   "source": []
  },
  {
   "cell_type": "code",
   "execution_count": null,
   "metadata": {},
   "outputs": [],
   "source": []
  },
  {
   "cell_type": "code",
   "execution_count": null,
   "metadata": {},
   "outputs": [],
   "source": []
  },
  {
   "cell_type": "code",
   "execution_count": null,
   "metadata": {},
   "outputs": [],
   "source": []
  },
  {
   "cell_type": "code",
   "execution_count": null,
   "metadata": {},
   "outputs": [],
   "source": []
  },
  {
   "cell_type": "code",
   "execution_count": null,
   "metadata": {},
   "outputs": [],
   "source": []
  },
  {
   "cell_type": "code",
   "execution_count": null,
   "metadata": {},
   "outputs": [],
   "source": []
  },
  {
   "cell_type": "code",
   "execution_count": null,
   "metadata": {},
   "outputs": [],
   "source": []
  },
  {
   "cell_type": "code",
   "execution_count": null,
   "metadata": {},
   "outputs": [],
   "source": []
  },
  {
   "cell_type": "code",
   "execution_count": null,
   "metadata": {},
   "outputs": [],
   "source": []
  },
  {
   "cell_type": "code",
   "execution_count": null,
   "metadata": {},
   "outputs": [],
   "source": []
  }
 ],
 "metadata": {
  "kernelspec": {
   "display_name": "Python 3",
   "language": "python",
   "name": "python3"
  },
  "language_info": {
   "codemirror_mode": {
    "name": "ipython",
    "version": 3
   },
   "file_extension": ".py",
   "mimetype": "text/x-python",
   "name": "python",
   "nbconvert_exporter": "python",
   "pygments_lexer": "ipython3",
   "version": "3.7.3"
  },
  "toc": {
   "base_numbering": 1,
   "nav_menu": {},
   "number_sections": true,
   "sideBar": true,
   "skip_h1_title": false,
   "title_cell": "Table of Contents",
   "title_sidebar": "Contents",
   "toc_cell": false,
   "toc_position": {},
   "toc_section_display": true,
   "toc_window_display": false
  }
 },
 "nbformat": 4,
 "nbformat_minor": 2
}
