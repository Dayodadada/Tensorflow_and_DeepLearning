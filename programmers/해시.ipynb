{
 "cells": [
  {
   "cell_type": "markdown",
   "metadata": {},
   "source": [
    "# 해시"
   ]
  },
  {
   "cell_type": "markdown",
   "metadata": {},
   "source": [
    "## 완주하지 못한 선수"
   ]
  },
  {
   "cell_type": "code",
   "execution_count": 30,
   "metadata": {},
   "outputs": [
    {
     "data": {
      "text/plain": [
       "'d'"
      ]
     },
     "execution_count": 30,
     "metadata": {},
     "output_type": "execute_result"
    }
   ],
   "source": [
    "def solution(participant, completion):\n",
    "    for comp in completion :\n",
    "        participant.remove(comp)\n",
    "    return participant.pop()\n",
    "\n",
    "participant = [\"a\",\"s\",\"d\",\"d\",\"f\",\"g\",\"h\"]\n",
    "completion = [\"a\",\"s\",\"d\",\"f\",\"g\",\"h\"]\n",
    "solution(participant, completion)"
   ]
  },
  {
   "cell_type": "code",
   "execution_count": 35,
   "metadata": {},
   "outputs": [
    {
     "data": {
      "text/plain": [
       "'d'"
      ]
     },
     "execution_count": 35,
     "metadata": {},
     "output_type": "execute_result"
    }
   ],
   "source": [
    "def solution(participant, completion):\n",
    "    participant.sort()\n",
    "    completion.sort()\n",
    "    for i, j in zip(participant, completion + [\"\"]) :\n",
    "        if i != j :\n",
    "            return i\n",
    "        \n",
    "participant = [\"a\",\"s\",\"d\",\"d\",\"f\",\"g\",\"h\"]\n",
    "completion = [\"a\",\"s\",\"d\",\"f\",\"g\",\"h\"]\n",
    "solution(participant, completion)"
   ]
  },
  {
   "cell_type": "code",
   "execution_count": 36,
   "metadata": {},
   "outputs": [
    {
     "data": {
      "text/plain": [
       "'d'"
      ]
     },
     "execution_count": 36,
     "metadata": {},
     "output_type": "execute_result"
    }
   ],
   "source": [
    "def solution(participant, completion):\n",
    "    hash_ = 0\n",
    "    dict = {}\n",
    "    for part in participant :\n",
    "        dict[hash(part)] = part\n",
    "        hash_ += hash(part)\n",
    "    for comp in completion :\n",
    "        hash_ -= hash(comp)\n",
    "    return dict[hash_]    \n",
    "\n",
    "participant = [\"a\",\"s\",\"d\",\"d\",\"f\",\"g\",\"h\"]\n",
    "completion = [\"a\",\"s\",\"d\",\"f\",\"g\",\"h\"]\n",
    "solution(participant, completion)"
   ]
  },
  {
   "cell_type": "markdown",
   "metadata": {},
   "source": [
    "## 전화번호 목록"
   ]
  },
  {
   "cell_type": "code",
   "execution_count": 42,
   "metadata": {},
   "outputs": [],
   "source": [
    "phone_book = [\"12\",\"123\",\"1235\",\"88\"]"
   ]
  }
 ],
 "metadata": {
  "kernelspec": {
   "display_name": "Python 3",
   "language": "python",
   "name": "python3"
  },
  "language_info": {
   "codemirror_mode": {
    "name": "ipython",
    "version": 3
   },
   "file_extension": ".py",
   "mimetype": "text/x-python",
   "name": "python",
   "nbconvert_exporter": "python",
   "pygments_lexer": "ipython3",
   "version": "3.7.3"
  },
  "toc": {
   "base_numbering": 1,
   "nav_menu": {},
   "number_sections": true,
   "sideBar": true,
   "skip_h1_title": false,
   "title_cell": "Table of Contents",
   "title_sidebar": "Contents",
   "toc_cell": false,
   "toc_position": {},
   "toc_section_display": true,
   "toc_window_display": false
  }
 },
 "nbformat": 4,
 "nbformat_minor": 2
}
