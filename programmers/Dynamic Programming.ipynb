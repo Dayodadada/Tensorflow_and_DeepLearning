{
 "cells": [
  {
   "cell_type": "markdown",
   "metadata": {},
   "source": [
    "# Dynamic Programming\n",
    "- https://medium.com/@wooder2050/%EB%8F%99%EC%A0%81%EA%B3%84%ED%9A%8D%EB%B2%95-dynamic-programming-%EC%A0%95%EB%A6%AC-58e1dbcb80a0\n",
    "- 전체 문제를 작은 문제로 단순화한 다음 점화식으로 만들어 재귀적인 구조를 활용해서 전체 문제를 해결하는 방식"
   ]
  },
  {
   "cell_type": "markdown",
   "metadata": {},
   "source": [
    "## 격자상의 경로"
   ]
  },
  {
   "cell_type": "code",
   "execution_count": 1,
   "metadata": {
    "ExecuteTime": {
     "end_time": "2020-07-14T13:43:53.397369Z",
     "start_time": "2020-07-14T13:43:53.387464Z"
    }
   },
   "outputs": [
    {
     "data": {
      "text/plain": [
       "[[3, 7, 9, 2, 7],\n",
       " [9, 8, 3, 5, 5],\n",
       " [1, 7, 9, 8, 5],\n",
       " [3, 8, 6, 4, 10],\n",
       " [6, 3, 9, 7, 8]]"
      ]
     },
     "execution_count": 1,
     "metadata": {},
     "output_type": "execute_result"
    }
   ],
   "source": [
    "table = [\n",
    "    [3,7,9,2,7],\n",
    "    [9,8,3,5,5],\n",
    "    [1,7,9,8,5],\n",
    "    [3,8,6,4,10],\n",
    "    [6,3,9,7,8],\n",
    "]\n",
    "table"
   ]
  },
  {
   "cell_type": "code",
   "execution_count": 3,
   "metadata": {
    "ExecuteTime": {
     "end_time": "2020-07-14T13:50:36.558905Z",
     "start_time": "2020-07-14T13:50:36.551868Z"
    }
   },
   "outputs": [
    {
     "data": {
      "text/plain": [
       "[[3, 10, 19, 21, 28],\n",
       " [12, 20, 23, 28, 33],\n",
       " [13, 27, 36, 44, 49],\n",
       " [16, 35, 42, 48, 59],\n",
       " [22, 38, 51, 58, 67]]"
      ]
     },
     "execution_count": 3,
     "metadata": {},
     "output_type": "execute_result"
    }
   ],
   "source": [
    "n = len(table)\n",
    "for y in range(n):\n",
    "    for x in range(n):\n",
    "        if (x - 1 >=0)&(y - 1 >= 0) :\n",
    "            table[y][x] += max(table[y][x-1], table[y-1][x])\n",
    "        elif (x - 1 >= 0)&(y - 1 < 0) :\n",
    "            table[y][x] += table[y][x-1]\n",
    "        elif (x - 1 < 0)&(y - 1 >= 0) :\n",
    "            table[y][x] += table[y-1][x]\n",
    "table"
   ]
  },
  {
   "cell_type": "markdown",
   "metadata": {},
   "source": [
    "## 피보나치수열"
   ]
  },
  {
   "cell_type": "code",
   "execution_count": 31,
   "metadata": {
    "ExecuteTime": {
     "end_time": "2020-07-16T12:59:41.991077Z",
     "start_time": "2020-07-16T12:59:41.987558Z"
    }
   },
   "outputs": [],
   "source": [
    "def get_fibonacci(n):\n",
    "    fibonacci = [0, 1]\n",
    "    for i in range(2, n+1):\n",
    "        fibonacci.append(sum([fibonacci[i-2], fibonacci[i-1]]))\n",
    "    return fibonacci[n]"
   ]
  },
  {
   "cell_type": "code",
   "execution_count": 32,
   "metadata": {
    "ExecuteTime": {
     "end_time": "2020-07-16T12:59:42.289569Z",
     "start_time": "2020-07-16T12:59:42.286221Z"
    }
   },
   "outputs": [
    {
     "data": {
      "text/plain": [
       "987"
      ]
     },
     "execution_count": 32,
     "metadata": {},
     "output_type": "execute_result"
    }
   ],
   "source": [
    "get_fibonacci(16)"
   ]
  },
  {
   "cell_type": "code",
   "execution_count": null,
   "metadata": {},
   "outputs": [],
   "source": []
  }
 ],
 "metadata": {
  "kernelspec": {
   "display_name": "Python 3",
   "language": "python",
   "name": "python3"
  },
  "language_info": {
   "codemirror_mode": {
    "name": "ipython",
    "version": 3
   },
   "file_extension": ".py",
   "mimetype": "text/x-python",
   "name": "python",
   "nbconvert_exporter": "python",
   "pygments_lexer": "ipython3",
   "version": "3.7.3"
  },
  "toc": {
   "base_numbering": 1,
   "nav_menu": {},
   "number_sections": true,
   "sideBar": true,
   "skip_h1_title": false,
   "title_cell": "Table of Contents",
   "title_sidebar": "Contents",
   "toc_cell": false,
   "toc_position": {},
   "toc_section_display": true,
   "toc_window_display": false
  }
 },
 "nbformat": 4,
 "nbformat_minor": 2
}
