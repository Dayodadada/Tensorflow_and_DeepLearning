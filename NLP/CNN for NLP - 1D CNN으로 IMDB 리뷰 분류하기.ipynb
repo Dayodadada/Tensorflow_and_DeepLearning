{
 "cells": [
  {
   "cell_type": "markdown",
   "metadata": {},
   "source": [
    "# 1D CNN으로 IMDB 리뷰 분류하기\n",
    "- https://wikidocs.net/80783"
   ]
  },
  {
   "cell_type": "markdown",
   "metadata": {},
   "source": [
    "## Import"
   ]
  },
  {
   "cell_type": "code",
   "execution_count": 1,
   "metadata": {
    "ExecuteTime": {
     "end_time": "2020-10-02T06:56:50.170866Z",
     "start_time": "2020-10-02T06:56:37.129032Z"
    }
   },
   "outputs": [],
   "source": [
    "import numpy as np\n",
    "import collections\n",
    "\n",
    "from tensorflow.keras import datasets\n",
    "from tensorflow.keras.preprocessing.sequence import pad_sequences\n",
    "\n",
    "from tensorflow.keras.models import Sequential\n",
    "from tensorflow.keras.layers import Embedding, Dropout, Conv1D, GlobalMaxPooling1D, Dense\n",
    "from tensorflow.keras.callbacks import EarlyStopping, ModelCheckpoint"
   ]
  },
  {
   "cell_type": "markdown",
   "metadata": {},
   "source": [
    "## Load dataset"
   ]
  },
  {
   "cell_type": "code",
   "execution_count": 2,
   "metadata": {
    "ExecuteTime": {
     "end_time": "2020-10-02T08:53:18.834717Z",
     "start_time": "2020-10-02T08:53:14.868890Z"
    }
   },
   "outputs": [
    {
     "data": {
      "text/plain": [
       "((25000,), (25000,), (25000,), (25000,))"
      ]
     },
     "execution_count": 2,
     "metadata": {},
     "output_type": "execute_result"
    }
   ],
   "source": [
    "vocab_size = 10000\n",
    "(x_train, y_train), (x_test, y_test) = datasets.imdb.load_data(num_words=vocab_size)\n",
    "x_train.shape, y_train.shape, x_test.shape, y_test.shape"
   ]
  },
  {
   "cell_type": "markdown",
   "metadata": {},
   "source": [
    "## Text preprocessing"
   ]
  },
  {
   "cell_type": "code",
   "execution_count": 15,
   "metadata": {
    "ExecuteTime": {
     "end_time": "2020-10-02T08:58:48.267193Z",
     "start_time": "2020-10-02T08:58:48.252443Z"
    }
   },
   "outputs": [
    {
     "data": {
      "text/plain": [
       "(Counter({1: 12500, 0: 12500}), Counter({0: 12500, 1: 12500}))"
      ]
     },
     "execution_count": 15,
     "metadata": {},
     "output_type": "execute_result"
    }
   ],
   "source": [
    "collections.Counter(y_train), collections.Counter(y_test)"
   ]
  },
  {
   "cell_type": "markdown",
   "metadata": {},
   "source": [
    "### padding"
   ]
  },
  {
   "cell_type": "code",
   "execution_count": 6,
   "metadata": {
    "ExecuteTime": {
     "end_time": "2020-10-02T08:56:43.918149Z",
     "start_time": "2020-10-02T08:56:43.904509Z"
    }
   },
   "outputs": [
    {
     "name": "stdout",
     "output_type": "stream",
     "text": [
      "Length of texts\n",
      "- max: 2494\n",
      "- mean: 238.71364\n",
      "- median: 178.0\n",
      "- min: 11\n"
     ]
    }
   ],
   "source": [
    "length_of_text = [len(x) for x in x_train]\n",
    "print(\"Length of texts\")\n",
    "print(f\"- max: {max(length_of_text)}\")\n",
    "print(f\"- mean: {np.mean(length_of_text)}\")\n",
    "print(f\"- median: {np.median(length_of_text)}\")\n",
    "print(f\"- min: {min(length_of_text)}\")"
   ]
  },
  {
   "cell_type": "code",
   "execution_count": 7,
   "metadata": {
    "ExecuteTime": {
     "end_time": "2020-10-02T08:57:28.422374Z",
     "start_time": "2020-10-02T08:57:27.657524Z"
    }
   },
   "outputs": [
    {
     "data": {
      "text/plain": [
       "((25000, 200), (25000, 200))"
      ]
     },
     "execution_count": 7,
     "metadata": {},
     "output_type": "execute_result"
    }
   ],
   "source": [
    "max_len = 200\n",
    "\n",
    "x_train = pad_sequences(x_train, maxlen=max_len)\n",
    "x_test = pad_sequences(x_test, maxlen=max_len)\n",
    "x_train.shape, x_test.shape"
   ]
  },
  {
   "cell_type": "markdown",
   "metadata": {},
   "source": [
    "## Define model"
   ]
  },
  {
   "cell_type": "code",
   "execution_count": 18,
   "metadata": {
    "ExecuteTime": {
     "end_time": "2020-10-02T09:07:35.746005Z",
     "start_time": "2020-10-02T09:07:35.633188Z"
    }
   },
   "outputs": [
    {
     "name": "stdout",
     "output_type": "stream",
     "text": [
      "Model: \"sequential\"\n",
      "_________________________________________________________________\n",
      "Layer (type)                 Output Shape              Param #   \n",
      "=================================================================\n",
      "embedding (Embedding)        (None, None, 256)         2560000   \n",
      "_________________________________________________________________\n",
      "dropout (Dropout)            (None, None, 256)         0         \n",
      "_________________________________________________________________\n",
      "conv1d (Conv1D)              (None, None, 256)         196864    \n",
      "_________________________________________________________________\n",
      "global_max_pooling1d (Global (None, 256)               0         \n",
      "_________________________________________________________________\n",
      "dense (Dense)                (None, 128)               32896     \n",
      "_________________________________________________________________\n",
      "dropout_1 (Dropout)          (None, 128)               0         \n",
      "_________________________________________________________________\n",
      "dense_1 (Dense)              (None, 1)                 129       \n",
      "=================================================================\n",
      "Total params: 2,789,889\n",
      "Trainable params: 2,789,889\n",
      "Non-trainable params: 0\n",
      "_________________________________________________________________\n"
     ]
    }
   ],
   "source": [
    "model = Sequential()\n",
    "model.add(Embedding(vocab_size, 256))\n",
    "model.add(Dropout(0.3))\n",
    "model.add(Conv1D(256, 3, padding=\"valid\", activation=\"relu\"))\n",
    "model.add(GlobalMaxPooling1D())\n",
    "model.add(Dense(128, activation=\"relu\"))\n",
    "model.add(Dropout(0.5))\n",
    "model.add(Dense(1, activation=\"sigmoid\"))\n",
    "model.summary()"
   ]
  },
  {
   "cell_type": "code",
   "execution_count": 19,
   "metadata": {
    "ExecuteTime": {
     "end_time": "2020-10-02T09:07:55.051912Z",
     "start_time": "2020-10-02T09:07:55.048703Z"
    }
   },
   "outputs": [],
   "source": [
    "es = EarlyStopping(monitor = 'val_loss', mode = 'min', verbose = 1, patience = 3)\n",
    "mc = ModelCheckpoint('best_model.h5', monitor = 'val_acc', mode = 'max', verbose = 1, save_best_only = True)"
   ]
  },
  {
   "cell_type": "code",
   "execution_count": 20,
   "metadata": {
    "ExecuteTime": {
     "end_time": "2020-10-02T09:08:42.179429Z",
     "start_time": "2020-10-02T09:08:42.141167Z"
    }
   },
   "outputs": [],
   "source": [
    "model.compile(\n",
    "    optimizer=\"adam\",\n",
    "    loss=\"binary_crossentropy\",\n",
    "    metrics=[\"acc\"]\n",
    ")"
   ]
  },
  {
   "cell_type": "markdown",
   "metadata": {},
   "source": [
    "## Train"
   ]
  },
  {
   "cell_type": "code",
   "execution_count": 21,
   "metadata": {
    "ExecuteTime": {
     "end_time": "2020-10-02T09:14:24.329093Z",
     "start_time": "2020-10-02T09:09:38.776215Z"
    }
   },
   "outputs": [
    {
     "name": "stdout",
     "output_type": "stream",
     "text": [
      "Train on 25000 samples, validate on 25000 samples\n",
      "Epoch 1/20\n",
      "24992/25000 [============================>.] - ETA: 0s - loss: 0.4182 - acc: 0.7939\n",
      "Epoch 00001: val_acc improved from -inf to 0.88324, saving model to best_model.h5\n",
      "25000/25000 [==============================] - 69s 3ms/sample - loss: 0.4182 - acc: 0.7939 - val_loss: 0.2794 - val_acc: 0.8832\n",
      "Epoch 2/20\n",
      "24992/25000 [============================>.] - ETA: 0s - loss: 0.2215 - acc: 0.9138\n",
      "Epoch 00002: val_acc improved from 0.88324 to 0.88460, saving model to best_model.h5\n",
      "25000/25000 [==============================] - 73s 3ms/sample - loss: 0.2215 - acc: 0.9138 - val_loss: 0.2825 - val_acc: 0.8846\n",
      "Epoch 3/20\n",
      "24992/25000 [============================>.] - ETA: 0s - loss: 0.1128 - acc: 0.9609\n",
      "Epoch 00003: val_acc did not improve from 0.88460\n",
      "25000/25000 [==============================] - 72s 3ms/sample - loss: 0.1128 - acc: 0.9609 - val_loss: 0.2948 - val_acc: 0.8844\n",
      "Epoch 4/20\n",
      "24992/25000 [============================>.] - ETA: 0s - loss: 0.0521 - acc: 0.9833\n",
      "Epoch 00004: val_acc improved from 0.88460 to 0.88632, saving model to best_model.h5\n",
      "25000/25000 [==============================] - 72s 3ms/sample - loss: 0.0520 - acc: 0.9833 - val_loss: 0.3647 - val_acc: 0.8863\n",
      "Epoch 00004: early stopping\n"
     ]
    }
   ],
   "source": [
    "history = model.fit(\n",
    "    x_train,\n",
    "    y_train,\n",
    "    epochs=20,\n",
    "    validation_data=(x_test, y_test),\n",
    "    callbacks=[es, mc]\n",
    ")"
   ]
  },
  {
   "cell_type": "code",
   "execution_count": 22,
   "metadata": {
    "ExecuteTime": {
     "end_time": "2020-10-02T09:14:36.177235Z",
     "start_time": "2020-10-02T09:14:24.332319Z"
    }
   },
   "outputs": [
    {
     "name": "stdout",
     "output_type": "stream",
     "text": [
      "25000/1 - 12s - loss: 0.4975 - acc: 0.8863\n",
      "Accuracy: 0.8863199949264526\n"
     ]
    }
   ],
   "source": [
    "print(f\"Accuracy: {model.evaluate(x_test, y_test, verbose=2)[1]}\")"
   ]
  },
  {
   "cell_type": "code",
   "execution_count": null,
   "metadata": {},
   "outputs": [],
   "source": []
  }
 ],
 "metadata": {
  "kernelspec": {
   "display_name": "Python 3",
   "language": "python",
   "name": "python3"
  },
  "language_info": {
   "codemirror_mode": {
    "name": "ipython",
    "version": 3
   },
   "file_extension": ".py",
   "mimetype": "text/x-python",
   "name": "python",
   "nbconvert_exporter": "python",
   "pygments_lexer": "ipython3",
   "version": "3.7.3"
  },
  "toc": {
   "base_numbering": 1,
   "nav_menu": {},
   "number_sections": true,
   "sideBar": true,
   "skip_h1_title": false,
   "title_cell": "Table of Contents",
   "title_sidebar": "Contents",
   "toc_cell": false,
   "toc_position": {},
   "toc_section_display": true,
   "toc_window_display": false
  }
 },
 "nbformat": 4,
 "nbformat_minor": 2
}
