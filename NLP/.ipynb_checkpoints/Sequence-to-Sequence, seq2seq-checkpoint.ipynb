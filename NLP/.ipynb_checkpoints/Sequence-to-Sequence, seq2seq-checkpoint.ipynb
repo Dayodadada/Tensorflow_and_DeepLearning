{
 "cells": [
  {
   "cell_type": "markdown",
   "metadata": {},
   "source": [
    "# Character-Level Neural Machine Translation\n",
    "- https://wikidocs.net/24996"
   ]
  },
  {
   "cell_type": "markdown",
   "metadata": {},
   "source": [
    "## Import"
   ]
  },
  {
   "cell_type": "code",
   "execution_count": 1,
   "metadata": {
    "ExecuteTime": {
     "end_time": "2020-10-13T13:41:01.977923Z",
     "start_time": "2020-10-13T13:40:58.831128Z"
    }
   },
   "outputs": [],
   "source": [
    "import pandas as pd\n",
    "import urllib3\n",
    "import zipfile\n",
    "import shutil\n",
    "import os\n",
    "from tensorflow.keras.preprocessing.sequence import pad_sequences\n",
    "from tensorflow.keras.utils import to_categorical"
   ]
  },
  {
   "cell_type": "markdown",
   "metadata": {},
   "source": [
    "## Load data"
   ]
  },
  {
   "cell_type": "code",
   "execution_count": 2,
   "metadata": {
    "ExecuteTime": {
     "end_time": "2020-10-13T13:41:04.872762Z",
     "start_time": "2020-10-13T13:41:01.996407Z"
    }
   },
   "outputs": [],
   "source": [
    "http = urllib3.PoolManager()\n",
    "url ='http://www.manythings.org/anki/fra-eng.zip'\n",
    "filename = 'fra-eng.zip'\n",
    "path = os.getcwd()\n",
    "zipfilename = os.path.join(path, filename)\n",
    "with http.request('GET', url, preload_content=False) as r, open(zipfilename, 'wb') as out_file:       \n",
    "    shutil.copyfileobj(r, out_file)\n",
    "\n",
    "with zipfile.ZipFile(zipfilename, 'r') as zip_ref:\n",
    "    zip_ref.extractall(path)"
   ]
  },
  {
   "cell_type": "code",
   "execution_count": 3,
   "metadata": {
    "ExecuteTime": {
     "end_time": "2020-10-13T13:41:09.389193Z",
     "start_time": "2020-10-13T13:41:08.821334Z"
    }
   },
   "outputs": [
    {
     "data": {
      "text/plain": [
       "178009"
      ]
     },
     "execution_count": 3,
     "metadata": {},
     "output_type": "execute_result"
    }
   ],
   "source": [
    "lines = pd.read_csv('fra.txt', names=['src', 'tar', 'lic'], sep='\\t')\n",
    "del lines['lic']\n",
    "len(lines)"
   ]
  },
  {
   "cell_type": "code",
   "execution_count": 4,
   "metadata": {
    "ExecuteTime": {
     "end_time": "2020-10-13T13:41:13.839072Z",
     "start_time": "2020-10-13T13:41:13.826160Z"
    }
   },
   "outputs": [
    {
     "data": {
      "text/html": [
       "<div>\n",
       "<style scoped>\n",
       "    .dataframe tbody tr th:only-of-type {\n",
       "        vertical-align: middle;\n",
       "    }\n",
       "\n",
       "    .dataframe tbody tr th {\n",
       "        vertical-align: top;\n",
       "    }\n",
       "\n",
       "    .dataframe thead th {\n",
       "        text-align: right;\n",
       "    }\n",
       "</style>\n",
       "<table border=\"1\" class=\"dataframe\">\n",
       "  <thead>\n",
       "    <tr style=\"text-align: right;\">\n",
       "      <th></th>\n",
       "      <th>src</th>\n",
       "      <th>tar</th>\n",
       "    </tr>\n",
       "  </thead>\n",
       "  <tbody>\n",
       "    <tr>\n",
       "      <th>39086</th>\n",
       "      <td>We're still in shock.</td>\n",
       "      <td>Nous sommes encore sous le choc.</td>\n",
       "    </tr>\n",
       "    <tr>\n",
       "      <th>8133</th>\n",
       "      <td>I like walking.</td>\n",
       "      <td>J'aime marcher.</td>\n",
       "    </tr>\n",
       "    <tr>\n",
       "      <th>50070</th>\n",
       "      <td>Just tell us the truth.</td>\n",
       "      <td>Dis-nous simplement la vérité.</td>\n",
       "    </tr>\n",
       "    <tr>\n",
       "      <th>23437</th>\n",
       "      <td>Get in the car now.</td>\n",
       "      <td>Monte dans la voiture, maintenant !</td>\n",
       "    </tr>\n",
       "    <tr>\n",
       "      <th>21164</th>\n",
       "      <td>The joke's on you.</td>\n",
       "      <td>C'est de vous qu'on se moque.</td>\n",
       "    </tr>\n",
       "    <tr>\n",
       "      <th>35506</th>\n",
       "      <td>I forget who said it.</td>\n",
       "      <td>J'ai oublié qui l'a dit.</td>\n",
       "    </tr>\n",
       "    <tr>\n",
       "      <th>46190</th>\n",
       "      <td>You have to be strong.</td>\n",
       "      <td>Il te faut être fort.</td>\n",
       "    </tr>\n",
       "    <tr>\n",
       "      <th>45467</th>\n",
       "      <td>We will not surrender.</td>\n",
       "      <td>Nous ne nous rendrons pas.</td>\n",
       "    </tr>\n",
       "    <tr>\n",
       "      <th>18291</th>\n",
       "      <td>Do you guys smoke?</td>\n",
       "      <td>Est-ce que vous fumez?</td>\n",
       "    </tr>\n",
       "    <tr>\n",
       "      <th>41463</th>\n",
       "      <td>How is your new class?</td>\n",
       "      <td>Comment est votre nouvelle classe ?</td>\n",
       "    </tr>\n",
       "  </tbody>\n",
       "</table>\n",
       "</div>"
      ],
      "text/plain": [
       "                           src                                  tar\n",
       "39086    We're still in shock.     Nous sommes encore sous le choc.\n",
       "8133           I like walking.                      J'aime marcher.\n",
       "50070  Just tell us the truth.       Dis-nous simplement la vérité.\n",
       "23437      Get in the car now.  Monte dans la voiture, maintenant !\n",
       "21164       The joke's on you.        C'est de vous qu'on se moque.\n",
       "35506    I forget who said it.             J'ai oublié qui l'a dit.\n",
       "46190   You have to be strong.                Il te faut être fort.\n",
       "45467   We will not surrender.           Nous ne nous rendrons pas.\n",
       "18291       Do you guys smoke?               Est-ce que vous fumez?\n",
       "41463   How is your new class?  Comment est votre nouvelle classe ?"
      ]
     },
     "execution_count": 4,
     "metadata": {},
     "output_type": "execute_result"
    }
   ],
   "source": [
    "lines = lines.loc[:, 'src':'tar']\n",
    "lines = lines[0:60000] # 6만개만 저장\n",
    "lines.sample(10)"
   ]
  },
  {
   "cell_type": "markdown",
   "metadata": {},
   "source": [
    "## Preprocessing"
   ]
  },
  {
   "cell_type": "code",
   "execution_count": 5,
   "metadata": {
    "ExecuteTime": {
     "end_time": "2020-10-13T13:41:35.449982Z",
     "start_time": "2020-10-13T13:41:35.367913Z"
    }
   },
   "outputs": [
    {
     "data": {
      "text/html": [
       "<div>\n",
       "<style scoped>\n",
       "    .dataframe tbody tr th:only-of-type {\n",
       "        vertical-align: middle;\n",
       "    }\n",
       "\n",
       "    .dataframe tbody tr th {\n",
       "        vertical-align: top;\n",
       "    }\n",
       "\n",
       "    .dataframe thead th {\n",
       "        text-align: right;\n",
       "    }\n",
       "</style>\n",
       "<table border=\"1\" class=\"dataframe\">\n",
       "  <thead>\n",
       "    <tr style=\"text-align: right;\">\n",
       "      <th></th>\n",
       "      <th>src</th>\n",
       "      <th>tar</th>\n",
       "    </tr>\n",
       "  </thead>\n",
       "  <tbody>\n",
       "    <tr>\n",
       "      <th>58794</th>\n",
       "      <td>We have to wait for him.</td>\n",
       "      <td>\\t Nous devons l'attendre. \\n</td>\n",
       "    </tr>\n",
       "    <tr>\n",
       "      <th>57498</th>\n",
       "      <td>That applies to him too.</td>\n",
       "      <td>\\t Cela s'applique aussi à lui. \\n</td>\n",
       "    </tr>\n",
       "    <tr>\n",
       "      <th>49061</th>\n",
       "      <td>I trust him completely.</td>\n",
       "      <td>\\t Je lui fais totalement confiance. \\n</td>\n",
       "    </tr>\n",
       "    <tr>\n",
       "      <th>48083</th>\n",
       "      <td>I came with my friends.</td>\n",
       "      <td>\\t Je vins avec mes amis. \\n</td>\n",
       "    </tr>\n",
       "    <tr>\n",
       "      <th>34624</th>\n",
       "      <td>He cannot be trusted.</td>\n",
       "      <td>\\t On ne peut pas lui faire confiance. \\n</td>\n",
       "    </tr>\n",
       "    <tr>\n",
       "      <th>51157</th>\n",
       "      <td>They are all very busy.</td>\n",
       "      <td>\\t Ils sont tous très occupés. \\n</td>\n",
       "    </tr>\n",
       "    <tr>\n",
       "      <th>347</th>\n",
       "      <td>I'm bald.</td>\n",
       "      <td>\\t Je suis chauve. \\n</td>\n",
       "    </tr>\n",
       "    <tr>\n",
       "      <th>34019</th>\n",
       "      <td>Come on, let's do it.</td>\n",
       "      <td>\\t Allez, faisons-le ! \\n</td>\n",
       "    </tr>\n",
       "    <tr>\n",
       "      <th>31648</th>\n",
       "      <td>Thanks for the food.</td>\n",
       "      <td>\\t Merci pour la bouffe. \\n</td>\n",
       "    </tr>\n",
       "    <tr>\n",
       "      <th>20142</th>\n",
       "      <td>Is somebody there?</td>\n",
       "      <td>\\t Y a-t-il quelqu'un ? \\n</td>\n",
       "    </tr>\n",
       "  </tbody>\n",
       "</table>\n",
       "</div>"
      ],
      "text/plain": [
       "                            src                                        tar\n",
       "58794  We have to wait for him.              \\t Nous devons l'attendre. \\n\n",
       "57498  That applies to him too.         \\t Cela s'applique aussi à lui. \\n\n",
       "49061   I trust him completely.    \\t Je lui fais totalement confiance. \\n\n",
       "48083   I came with my friends.               \\t Je vins avec mes amis. \\n\n",
       "34624     He cannot be trusted.  \\t On ne peut pas lui faire confiance. \\n\n",
       "51157   They are all very busy.          \\t Ils sont tous très occupés. \\n\n",
       "347                   I'm bald.                      \\t Je suis chauve. \\n\n",
       "34019     Come on, let's do it.                  \\t Allez, faisons-le ! \\n\n",
       "31648      Thanks for the food.                \\t Merci pour la bouffe. \\n\n",
       "20142        Is somebody there?                 \\t Y a-t-il quelqu'un ? \\n"
      ]
     },
     "execution_count": 5,
     "metadata": {},
     "output_type": "execute_result"
    }
   ],
   "source": [
    "lines.tar = lines.tar.apply(lambda x : '\\t '+ x + ' \\n')\n",
    "lines.sample(10)"
   ]
  },
  {
   "cell_type": "code",
   "execution_count": 6,
   "metadata": {
    "ExecuteTime": {
     "end_time": "2020-10-13T13:41:41.565999Z",
     "start_time": "2020-10-13T13:41:41.277485Z"
    }
   },
   "outputs": [],
   "source": [
    "# 글자 집합 구축\n",
    "src_vocab=set()\n",
    "for line in lines.src: # 1줄씩 읽음\n",
    "    for char in line: # 1개의 글자씩 읽음\n",
    "        src_vocab.add(char)\n",
    "\n",
    "tar_vocab=set()\n",
    "for line in lines.tar:\n",
    "    for char in line:\n",
    "        tar_vocab.add(char)"
   ]
  },
  {
   "cell_type": "code",
   "execution_count": 7,
   "metadata": {
    "ExecuteTime": {
     "end_time": "2020-10-13T13:41:47.351896Z",
     "start_time": "2020-10-13T13:41:47.348390Z"
    }
   },
   "outputs": [
    {
     "name": "stdout",
     "output_type": "stream",
     "text": [
      "79\n",
      "106\n"
     ]
    }
   ],
   "source": [
    "src_vocab_size = len(src_vocab)+1\n",
    "tar_vocab_size = len(tar_vocab)+1\n",
    "print(src_vocab_size)\n",
    "print(tar_vocab_size)"
   ]
  },
  {
   "cell_type": "code",
   "execution_count": 8,
   "metadata": {
    "ExecuteTime": {
     "end_time": "2020-10-13T13:41:52.575624Z",
     "start_time": "2020-10-13T13:41:52.572003Z"
    }
   },
   "outputs": [
    {
     "name": "stdout",
     "output_type": "stream",
     "text": [
      "['W', 'X', 'Y', 'Z', 'a', 'b', 'c', 'd', 'e', 'f', 'g', 'h', 'i', 'j', 'k', 'l', 'm', 'n', 'o', 'p', 'q', 'r', 's', 't', 'u', 'v', 'w', 'x', 'y', 'z']\n",
      "['T', 'U', 'V', 'W', 'X', 'Y', 'Z', 'a', 'b', 'c', 'd', 'e', 'f', 'g', 'h', 'i', 'j', 'k', 'l', 'm', 'n', 'o', 'p', 'q', 'r', 's', 't', 'u', 'v', 'w']\n"
     ]
    }
   ],
   "source": [
    "src_vocab = sorted(list(src_vocab))\n",
    "tar_vocab = sorted(list(tar_vocab))\n",
    "print(src_vocab[45:75])\n",
    "print(tar_vocab[45:75])"
   ]
  },
  {
   "cell_type": "code",
   "execution_count": null,
   "metadata": {},
   "outputs": [],
   "source": []
  }
 ],
 "metadata": {
  "kernelspec": {
   "display_name": "Python 3",
   "language": "python",
   "name": "python3"
  },
  "language_info": {
   "codemirror_mode": {
    "name": "ipython",
    "version": 3
   },
   "file_extension": ".py",
   "mimetype": "text/x-python",
   "name": "python",
   "nbconvert_exporter": "python",
   "pygments_lexer": "ipython3",
   "version": "3.7.3"
  },
  "toc": {
   "base_numbering": 1,
   "nav_menu": {},
   "number_sections": true,
   "sideBar": true,
   "skip_h1_title": false,
   "title_cell": "Table of Contents",
   "title_sidebar": "Contents",
   "toc_cell": false,
   "toc_position": {},
   "toc_section_display": true,
   "toc_window_display": false
  }
 },
 "nbformat": 4,
 "nbformat_minor": 2
}
