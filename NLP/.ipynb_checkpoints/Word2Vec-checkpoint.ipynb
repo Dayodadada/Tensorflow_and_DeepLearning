{
 "cells": [
  {
   "cell_type": "markdown",
   "metadata": {},
   "source": [
    "# Word2Vec\n",
    "- CBOW or Skip Gram"
   ]
  },
  {
   "cell_type": "markdown",
   "metadata": {},
   "source": [
    "## Import Packages"
   ]
  },
  {
   "cell_type": "code",
   "execution_count": 2,
   "metadata": {},
   "outputs": [],
   "source": [
    "import tensorflow as tf\n",
    "import numpy as np"
   ]
  },
  {
   "cell_type": "markdown",
   "metadata": {},
   "source": [
    "## Configurations"
   ]
  },
  {
   "cell_type": "code",
   "execution_count": 3,
   "metadata": {},
   "outputs": [],
   "source": [
    "emb_size = 100\n",
    "window = 5\n",
    "min_count = 5\n",
    "negative = 5\n",
    "sg = 0\n",
    "ns_exponent = 0.75\n",
    "cbow_mean = 1\n",
    "alpha = 0.025# initial learning rate\n",
    "vocab_size = 1000000\n",
    "iter = 10 #epochs\n",
    "batch_size = 512\n",
    "sample = 0.00001 #defualt=0.001"
   ]
  },
  {
   "cell_type": "markdown",
   "metadata": {},
   "source": [
    "## Load Dataset\n",
    "- IMDB 영화 리뷰 데이터\n",
    "    - 텍스트 분류 중 감정 분류 모델 연습용으로 쓰임\n",
    "    - Label: 영화 리뷰가 긍정이면 1, 부정이면 0\n",
    "- word embedding을 생성하는데 적절한 데이터는 아닌것 같지만 임시로 사용한다."
   ]
  },
  {
   "cell_type": "code",
   "execution_count": 8,
   "metadata": {},
   "outputs": [
    {
     "name": "stdout",
     "output_type": "stream",
     "text": [
      "X_train: (25000,), y_train: (25000,)\n",
      "X_test: (25000,), y_test: (25000,)\n"
     ]
    }
   ],
   "source": [
    "(x_train, y_train), (x_test, y_test) = tf.keras.datasets.imdb.load_data(\n",
    "    num_words=None, # max number of words to include\n",
    "    skip_top=0, # skip the top N most frequently occurring words\n",
    ")\n",
    "print(f\"X_train: {x_train.shape}, y_train: {y_train.shape}\")\n",
    "print(f\"X_test: {x_test.shape}, y_test: {y_test.shape}\")"
   ]
  },
  {
   "cell_type": "code",
   "execution_count": 5,
   "metadata": {},
   "outputs": [
    {
     "name": "stdout",
     "output_type": "stream",
     "text": [
      "The num of categories: 2\n"
     ]
    }
   ],
   "source": [
    "print(f\"The num of categories: {len(set(y_train))}\")"
   ]
  },
  {
   "cell_type": "code",
   "execution_count": 6,
   "metadata": {
    "scrolled": false
   },
   "outputs": [
    {
     "name": "stdout",
     "output_type": "stream",
     "text": [
      "The num of words: 88584\n"
     ]
    },
    {
     "data": {
      "text/plain": [
       "(1408, 'woods')"
      ]
     },
     "execution_count": 6,
     "metadata": {},
     "output_type": "execute_result"
    }
   ],
   "source": [
    "word2index = tf.keras.datasets.imdb.get_word_index()\n",
    "index2word = {}\n",
    "for word, index in word2index.items() :\n",
    "    index2word[index] = word\n",
    "\n",
    "print(f\"The num of words: {len(word2index)}\")\n",
    "word2index[\"woods\"], index2word[1408]"
   ]
  },
  {
   "cell_type": "code",
   "execution_count": 13,
   "metadata": {},
   "outputs": [
    {
     "data": {
      "text/plain": [
       "88584"
      ]
     },
     "execution_count": 13,
     "metadata": {},
     "output_type": "execute_result"
    }
   ],
   "source": [
    "len(word2index.values())"
   ]
  },
  {
   "cell_type": "markdown",
   "metadata": {},
   "source": [
    "### Change from index to word"
   ]
  },
  {
   "cell_type": "code",
   "execution_count": 26,
   "metadata": {},
   "outputs": [],
   "source": [
    "def change_from_index_to_word(index_list) :\n",
    "    word_list = []\n",
    "    for index in index_list :\n",
    "        if index in index2word :\n",
    "            word_list.append(index2word[index])\n",
    "        else :\n",
    "            print(f\"{index} is not exist in index2word!\")\n",
    "    return word_list"
   ]
  },
  {
   "cell_type": "code",
   "execution_count": 27,
   "metadata": {},
   "outputs": [
    {
     "name": "stdout",
     "output_type": "stream",
     "text": [
      "88585 is not exist in index2word!\n",
      "88586 is not exist in index2word!\n"
     ]
    },
    {
     "data": {
      "text/plain": [
       "25000"
      ]
     },
     "execution_count": 27,
     "metadata": {},
     "output_type": "execute_result"
    }
   ],
   "source": [
    "train_texts = []\n",
    "for indexs in x_train :\n",
    "    train_texts.append(change_from_index_to_word(indexs))\n",
    "len(train_texts)"
   ]
  },
  {
   "cell_type": "markdown",
   "metadata": {},
   "source": [
    "## Functions"
   ]
  },
  {
   "cell_type": "code",
   "execution_count": 23,
   "metadata": {
    "scrolled": true
   },
   "outputs": [],
   "source": [
    "def get_vocabulary(texts, min_count) :\n",
    "\n",
    "    # Calculate frequency of word appearance.\n",
    "    word2count = {}\n",
    "    for text in texts :\n",
    "        for word in text :\n",
    "            if word in word2count :\n",
    "                word2count[word] += 1\n",
    "            else :\n",
    "                word2count[word] = 1\n",
    "    \n",
    "    # Save only words that meet min_count condition.\n",
    "    vocab = [word for word in word2count if word2count[word] >= min_count]\n",
    "    filtered_word2count = {}\n",
    "    for word in vocab :\n",
    "        filtered_word2count[word] = word2count[word]\n",
    "    print(f\"The num of words that meet min_count >= {min_count}: {len(vocab):,}\")\n",
    "    \n",
    "    return filtered_word2count, vocab"
   ]
  },
  {
   "cell_type": "code",
   "execution_count": 24,
   "metadata": {},
   "outputs": [
    {
     "name": "stdout",
     "output_type": "stream",
     "text": [
      "The num of words that meet min_count >= 5: 30,568\n"
     ]
    }
   ],
   "source": [
    "word2count, vocab = get_vocabulary(train_texts, min_count)"
   ]
  },
  {
   "cell_type": "code",
   "execution_count": 101,
   "metadata": {},
   "outputs": [],
   "source": [
    "def generate_word_pairs(texts, word2count, vocab, hyper) :\n",
    "    '''\n",
    "    return [[target word(words)], [context word(words)], [negative word(word2)]]\n",
    "    '''\n",
    "    sample = hyper.get(\"sample\")\n",
    "    window_size = hyper.get(\"window_size\")\n",
    "    negative = hyper.get(\"negative\")\n",
    "    ns_exponent = hyper.get(\"ns_exponent\")\n",
    "    training_data = []\n",
    "    negative_prob = np.array(list(word2count.values()))\n",
    "    negative_prob = (negative_prob ** ns_exponent) / np.sum(negative_prob ** ns_exponent)\n",
    "    \n",
    "    for text in texts :\n",
    "        text = [word for word in text if word in vocab]\n",
    "        if len(text) > 1 :\n",
    "            for i in range(len(text)) :\n",
    "                # get target word\n",
    "                target_word = text[i]\n",
    "                \n",
    "                # probability of excluding word from learning\n",
    "                prob = 1 - np.sqrt(sample / word2count[target_word])\n",
    "                if np.random.rand() < prob :\n",
    "                     continue\n",
    "                        \n",
    "                # get context words\n",
    "                context_words = []\n",
    "                for j in range(i - window_size if i - window_size > 0 else 0, i + window_size if i + window_size <= len(text) - 1 else len(text) - 1) :\n",
    "                    context_words.append(j)\n",
    "                    \n",
    "                # get negative words\n",
    "                negative_words = np.random.choice(vocab, p=negative_prob, size=negative)\n",
    "                \n",
    "                # append rows\n",
    "                training_data.append([target_word, context_words, negative_words])\n",
    "                \n",
    "    print(f\"The final training data: {len(training_data)}\")\n",
    "    return training_data"
   ]
  },
  {
   "cell_type": "code",
   "execution_count": null,
   "metadata": {
    "ExecuteTime": {
     "end_time": "2020-04-09T14:50:06.143735Z",
     "start_time": "2020-04-09T14:48:50.132186Z"
    }
   },
   "outputs": [],
   "source": [
    "hyper = {\n",
    "    \"sample\": 0.00001,\n",
    "    \"window_size\": 2,\n",
    "    \"negative\": 5,\n",
    "    \"ns_exponent\": 0.75\n",
    "}\n",
    "\n",
    "training_data = generate_word_pairs(train_texts, word2count, vocab, hyper)"
   ]
  },
  {
   "cell_type": "markdown",
   "metadata": {},
   "source": [
    "## Define Model"
   ]
  },
  {
   "cell_type": "code",
   "execution_count": null,
   "metadata": {},
   "outputs": [],
   "source": [
    "size = \n",
    "window = \n",
    "min_count = \n",
    "negative = \n",
    "sg = \n",
    "ns_exponent = \n",
    "cbow_mean = \n",
    "alpha = # initial learning rate\n",
    "# max_vocab_size = # 그냥 corpus에 있는 전체 단어 수, 최댓값\n",
    "# max_final_vocab = # min_count를 적용한후 남는 단어 수\n",
    "vocab_size = \n",
    "sample = \n",
    "iter = \n",
    "batch_words = "
   ]
  },
  {
   "cell_type": "code",
   "execution_count": 29,
   "metadata": {
    "scrolled": true
   },
   "outputs": [],
   "source": [
    "max_final_vocab = 10\n",
    "size = 10\n",
    "\n",
    "W = tf.Variable(\n",
    "    initial_value=tf.random_normal_initializer(\n",
    "        mean=0,\n",
    "        stddev=0.05,\n",
    "    )(\n",
    "        shape=(10, 10), \n",
    "        dtype=tf.float32,\n",
    "    ),\n",
    "    trainable=True,\n",
    "    name=\"W\",\n",
    ")"
   ]
  },
  {
   "cell_type": "code",
   "execution_count": 32,
   "metadata": {
    "scrolled": true
   },
   "outputs": [],
   "source": [
    "A = tf.nn.embedding_lookup(W, [1,4])\n",
    "B = tf.nn.embedding_lookup(W, [1])"
   ]
  },
  {
   "cell_type": "code",
   "execution_count": 33,
   "metadata": {},
   "outputs": [
    {
     "data": {
      "text/plain": [
       "(<tf.Tensor: id=23, shape=(2, 10), dtype=float32, numpy=\n",
       " array([[-0.05850618, -0.05438221,  0.00619331,  0.09209564, -0.00883872,\n",
       "          0.02849239,  0.00030494, -0.06347304,  0.07646883, -0.00669076],\n",
       "        [ 0.0416396 , -0.01405237, -0.04139488, -0.00287567, -0.07536655,\n",
       "          0.0042334 , -0.04447024,  0.04044786,  0.00636787,  0.02329656]],\n",
       "       dtype=float32)>, <tf.Tensor: id=25, shape=(1, 10), dtype=float32, numpy=\n",
       " array([[-0.05850618, -0.05438221,  0.00619331,  0.09209564, -0.00883872,\n",
       "          0.02849239,  0.00030494, -0.06347304,  0.07646883, -0.00669076]],\n",
       "       dtype=float32)>)"
      ]
     },
     "execution_count": 33,
     "metadata": {},
     "output_type": "execute_result"
    }
   ],
   "source": [
    "A, B"
   ]
  },
  {
   "cell_type": "code",
   "execution_count": 36,
   "metadata": {
    "scrolled": true
   },
   "outputs": [
    {
     "data": {
      "text/plain": [
       "<tf.Tensor: id=26, shape=(2, 10), dtype=float32, numpy=\n",
       "array([[ 3.4229730e-03,  2.9574251e-03,  3.8357128e-05,  8.4816078e-03,\n",
       "         7.8122903e-05,  8.1181637e-04,  9.2991428e-08,  4.0288265e-03,\n",
       "         5.8474825e-03,  4.4766322e-05],\n",
       "       [-2.4361741e-03,  7.6419878e-04, -2.5637148e-04, -2.6483694e-04,\n",
       "         6.6614355e-04,  1.2061966e-04, -1.3560976e-05, -2.5673483e-03,\n",
       "         4.8694393e-04, -1.5587175e-04]], dtype=float32)>"
      ]
     },
     "execution_count": 36,
     "metadata": {},
     "output_type": "execute_result"
    }
   ],
   "source": [
    "tf.multiply(A, B)"
   ]
  },
  {
   "cell_type": "code",
   "execution_count": 41,
   "metadata": {},
   "outputs": [
    {
     "data": {
      "text/plain": [
       "<tf.Tensor: id=35, shape=(2,), dtype=float32, numpy=array([0.5064275, 0.4990859], dtype=float32)>"
      ]
     },
     "execution_count": 41,
     "metadata": {},
     "output_type": "execute_result"
    }
   ],
   "source": [
    "tf.math.sigmoid(tf.reduce_sum(tf.multiply(B, A), axis=1))"
   ]
  },
  {
   "cell_type": "code",
   "execution_count": null,
   "metadata": {},
   "outputs": [],
   "source": [
    "target = \n",
    "context = \n",
    "negative = \n",
    "learning_rate = ?\n",
    "\n",
    "W = tf.Variable(\n",
    "    initial_value=tf.random_normal_initializer(\n",
    "        mean=0,\n",
    "        stddev=0.05,\n",
    "    )(\n",
    "        shape=(vocab_size, size), \n",
    "        dtype=tf.float32,\n",
    "    ),\n",
    "    trainable=True,\n",
    "    name=\"W\",\n",
    ")\n",
    "U = tf.Variable(\n",
    "    initial_value=tf.random_normal_initializer(\n",
    "        mean=0,\n",
    "        stddev=0.05,\n",
    "    )(\n",
    "        shape=(size, vocab_size),\n",
    "        dtype=tf.float32,\n",
    "    )\n",
    "    trainable=True,\n",
    "    name=\"U\",\n",
    ")\n",
    "\n",
    "w = tf.nn.embedding_lookup(W, target, name=\"target_embedding\")\n",
    "u = tf.nn.embedding_lookup(U, context, name=\"context_embedding\")\n",
    "n = tf.nn.embedding_lookup(U, negative, name=\"negative_embedding\")\n",
    "\n",
    "context_loss = -tf.reduce_sum(tf.multiply(u, w), axis=1)\n",
    "negative_loss = tf.reduce_sum(tf.multiply(n, w), axis=1)\n",
    "loss = tf.add(context_loss, negative_loss, name=\"loss\")\n",
    "\n",
    "optimizer = tf.train.GradientDescentOptimizer(\n",
    "    learning_rate=learning_rate,\n",
    ")"
   ]
  },
  {
   "cell_type": "markdown",
   "metadata": {},
   "source": [
    "Use tf.keras\n",
    "- https://www.kdnuggets.com/2018/04/implementing-deep-learning-methods-feature-engineering-text-data-cbow.html"
   ]
  },
  {
   "cell_type": "code",
   "execution_count": 53,
   "metadata": {},
   "outputs": [],
   "source": [
    "vocab_size=10000\n",
    "emb_size=100\n",
    "window_size=5"
   ]
  },
  {
   "cell_type": "code",
   "execution_count": 60,
   "metadata": {},
   "outputs": [
    {
     "name": "stdout",
     "output_type": "stream",
     "text": [
      "Model: \"sequential_11\"\n",
      "_________________________________________________________________\n",
      "Layer (type)                 Output Shape              Param #   \n",
      "=================================================================\n",
      "embedding_9 (Embedding)      (None, 10, 100)           1000000   \n",
      "_________________________________________________________________\n",
      "lambda_9 (Lambda)            (None, 100)               0         \n",
      "_________________________________________________________________\n",
      "dense_2 (Dense)              (None, 10000)             1010000   \n",
      "=================================================================\n",
      "Total params: 2,010,000\n",
      "Trainable params: 2,010,000\n",
      "Non-trainable params: 0\n",
      "_________________________________________________________________\n"
     ]
    }
   ],
   "source": [
    "cbow = tf.keras.models.Sequential()\n",
    "cbow.add(\n",
    "    tf.keras.layers.Embedding(\n",
    "        input_dim=vocab_size,\n",
    "        output_dim=emb_size,\n",
    "        embeddings_initializer=\"normal\",\n",
    "        input_length=window_size*2,\n",
    "    )\n",
    ")\n",
    "cbow.add(\n",
    "    tf.keras.layers.Lambda(\n",
    "        lambda x: tf.keras.backend.mean(x, axis=1), output_shape=(emb_size,)\n",
    "    )\n",
    ")\n",
    "cbow.add(\n",
    "    tf.keras.layers.Dense(vocab_size, activation=\"softmax\")\n",
    ")\n",
    "cbow.summary()"
   ]
  },
  {
   "cell_type": "code",
   "execution_count": null,
   "metadata": {},
   "outputs": [],
   "source": []
  }
 ],
 "metadata": {
  "kernelspec": {
   "display_name": "Python 3",
   "language": "python",
   "name": "python3"
  },
  "language_info": {
   "codemirror_mode": {
    "name": "ipython",
    "version": 3
   },
   "file_extension": ".py",
   "mimetype": "text/x-python",
   "name": "python",
   "nbconvert_exporter": "python",
   "pygments_lexer": "ipython3",
   "version": "3.7.3"
  },
  "toc": {
   "base_numbering": 1,
   "nav_menu": {},
   "number_sections": true,
   "sideBar": true,
   "skip_h1_title": false,
   "title_cell": "Table of Contents",
   "title_sidebar": "Contents",
   "toc_cell": false,
   "toc_position": {},
   "toc_section_display": true,
   "toc_window_display": false
  }
 },
 "nbformat": 4,
 "nbformat_minor": 2
}
