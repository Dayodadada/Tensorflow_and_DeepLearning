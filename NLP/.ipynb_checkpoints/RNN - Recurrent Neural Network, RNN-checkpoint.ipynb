{
 "cells": [
  {
   "cell_type": "markdown",
   "metadata": {},
   "source": [
    "# Recurrent Neural Network, RNN\n",
    "- https://wikidocs.net/22886\n",
    "- RNN(Recurrent Neural Network)은 시퀀스(Sequence) 모델입니다. 입력과 출력을 시퀀스 단위로 처리하는 모델입니다.\n",
    "- RNN은 은닉층의 노드에서 활성화 함수를 통해 나온 결과값을 출력층 방향으로도 보내면서, 다시 은닉층 노드의 다음 계산의 입력으로 보내는 특징을 갖고있습니다.\n",
    "- memory cell, hidden state\n",
    "- 수식 정의\n",
    "    - 은닉층 : ht=tanh(Wxxt+Whht−1+b)\n",
    "    - 출력층 : yt=f(Wyht+b)\n",
    "    - 단, f는 비선형 활성화 함수 중 하나.\n",
    "    - xt : (d×1), Wx : (Dh×d), Wh : (Dh×Dh), ht−1 : (Dh×1), b : (Dh×1)"
   ]
  },
  {
   "cell_type": "markdown",
   "metadata": {},
   "source": [
    "## Import"
   ]
  },
  {
   "cell_type": "code",
   "execution_count": 62,
   "metadata": {
    "ExecuteTime": {
     "end_time": "2020-09-05T12:53:58.652015Z",
     "start_time": "2020-09-05T12:53:58.649273Z"
    }
   },
   "outputs": [],
   "source": [
    "import numpy as np\n",
    "\n",
    "from tensorflow.keras.models import Sequential\n",
    "from tensorflow.keras.layers import SimpleRNN, Bidirectional"
   ]
  },
  {
   "cell_type": "markdown",
   "metadata": {},
   "source": [
    "## RNN"
   ]
  },
  {
   "cell_type": "markdown",
   "metadata": {},
   "source": [
    "### Build RNN using tf.keras"
   ]
  },
  {
   "cell_type": "code",
   "execution_count": 6,
   "metadata": {
    "ExecuteTime": {
     "end_time": "2020-09-05T12:11:18.480223Z",
     "start_time": "2020-09-05T12:11:18.379370Z"
    }
   },
   "outputs": [
    {
     "name": "stdout",
     "output_type": "stream",
     "text": [
      "Model: \"sequential_1\"\n",
      "_________________________________________________________________\n",
      "Layer (type)                 Output Shape              Param #   \n",
      "=================================================================\n",
      "simple_rnn_1 (SimpleRNN)     (None, 3)                 42        \n",
      "=================================================================\n",
      "Total params: 42\n",
      "Trainable params: 42\n",
      "Non-trainable params: 0\n",
      "_________________________________________________________________\n"
     ]
    }
   ],
   "source": [
    "model = Sequential()\n",
    "model.add(SimpleRNN(3, input_shape=(2, 10)))\n",
    "model.summary()"
   ]
  },
  {
   "cell_type": "code",
   "execution_count": 7,
   "metadata": {
    "ExecuteTime": {
     "end_time": "2020-09-05T12:11:29.373963Z",
     "start_time": "2020-09-05T12:11:29.300412Z"
    }
   },
   "outputs": [
    {
     "name": "stdout",
     "output_type": "stream",
     "text": [
      "Model: \"sequential_2\"\n",
      "_________________________________________________________________\n",
      "Layer (type)                 Output Shape              Param #   \n",
      "=================================================================\n",
      "simple_rnn_2 (SimpleRNN)     (8, 3)                    42        \n",
      "=================================================================\n",
      "Total params: 42\n",
      "Trainable params: 42\n",
      "Non-trainable params: 0\n",
      "_________________________________________________________________\n"
     ]
    }
   ],
   "source": [
    "model = Sequential()\n",
    "model.add(SimpleRNN(3, batch_input_shape=(8, 2, 10))) # batch size를 미리 정함\n",
    "model.summary()"
   ]
  },
  {
   "cell_type": "code",
   "execution_count": 8,
   "metadata": {
    "ExecuteTime": {
     "end_time": "2020-09-05T12:12:22.009658Z",
     "start_time": "2020-09-05T12:12:21.942071Z"
    }
   },
   "outputs": [
    {
     "name": "stdout",
     "output_type": "stream",
     "text": [
      "Model: \"sequential_3\"\n",
      "_________________________________________________________________\n",
      "Layer (type)                 Output Shape              Param #   \n",
      "=================================================================\n",
      "simple_rnn_3 (SimpleRNN)     (8, 2, 3)                 42        \n",
      "=================================================================\n",
      "Total params: 42\n",
      "Trainable params: 42\n",
      "Non-trainable params: 0\n",
      "_________________________________________________________________\n"
     ]
    }
   ],
   "source": [
    "model = Sequential()\n",
    "model.add(SimpleRNN(3, batch_input_shape=(8, 2, 10), return_sequences=True)) # 출력값으로 (batch_size, timesteps, output_dim) 크기의 3D 텐서를 리턴\n",
    "model.summary()"
   ]
  },
  {
   "cell_type": "markdown",
   "metadata": {},
   "source": [
    "### Build RNN using numpy - 그냥 hidden state 계산만 함"
   ]
  },
  {
   "cell_type": "code",
   "execution_count": 12,
   "metadata": {
    "ExecuteTime": {
     "end_time": "2020-09-05T12:19:04.320433Z",
     "start_time": "2020-09-05T12:19:04.316541Z"
    }
   },
   "outputs": [
    {
     "data": {
      "text/plain": [
       "(10, 4)"
      ]
     },
     "execution_count": 12,
     "metadata": {},
     "output_type": "execute_result"
    }
   ],
   "source": [
    "timesteps = 10\n",
    "input_dim = 4\n",
    "hidden_size = 8\n",
    "\n",
    "inputs = np.random.random((timesteps, input_dim))\n",
    "inputs.shape"
   ]
  },
  {
   "cell_type": "code",
   "execution_count": 16,
   "metadata": {
    "ExecuteTime": {
     "end_time": "2020-09-05T12:19:43.289541Z",
     "start_time": "2020-09-05T12:19:43.285839Z"
    }
   },
   "outputs": [
    {
     "data": {
      "text/plain": [
       "array([[0.81111112, 0.66104075, 0.03228098, 0.34490095],\n",
       "       [0.80023525, 0.09129578, 0.90260154, 0.42486265],\n",
       "       [0.78124413, 0.36178635, 0.03651335, 0.07727108],\n",
       "       [0.55444861, 0.28800689, 0.61168066, 0.91052   ],\n",
       "       [0.58005866, 0.93817878, 0.01588937, 0.58395941],\n",
       "       [0.05317946, 0.98062232, 0.17607263, 0.29059323],\n",
       "       [0.8647249 , 0.84604152, 0.09925531, 0.40992413],\n",
       "       [0.88785773, 0.76683182, 0.69259132, 0.77376166],\n",
       "       [0.93446808, 0.37283073, 0.8773381 , 0.00553213],\n",
       "       [0.53330173, 0.95321179, 0.36378881, 0.96775884]])"
      ]
     },
     "execution_count": 16,
     "metadata": {},
     "output_type": "execute_result"
    }
   ],
   "source": [
    "inputs"
   ]
  },
  {
   "cell_type": "code",
   "execution_count": 14,
   "metadata": {
    "ExecuteTime": {
     "end_time": "2020-09-05T12:19:37.621547Z",
     "start_time": "2020-09-05T12:19:37.618091Z"
    }
   },
   "outputs": [
    {
     "data": {
      "text/plain": [
       "(8,)"
      ]
     },
     "execution_count": 14,
     "metadata": {},
     "output_type": "execute_result"
    }
   ],
   "source": [
    "hidden_state_t = np.zeros((hidden_size, ))\n",
    "hidden_state_t.shape"
   ]
  },
  {
   "cell_type": "code",
   "execution_count": 15,
   "metadata": {
    "ExecuteTime": {
     "end_time": "2020-09-05T12:19:39.991573Z",
     "start_time": "2020-09-05T12:19:39.988218Z"
    }
   },
   "outputs": [
    {
     "data": {
      "text/plain": [
       "array([0., 0., 0., 0., 0., 0., 0., 0.])"
      ]
     },
     "execution_count": 15,
     "metadata": {},
     "output_type": "execute_result"
    }
   ],
   "source": [
    "hidden_state_t"
   ]
  },
  {
   "cell_type": "code",
   "execution_count": 17,
   "metadata": {
    "ExecuteTime": {
     "end_time": "2020-09-05T12:21:29.668217Z",
     "start_time": "2020-09-05T12:21:29.663422Z"
    }
   },
   "outputs": [
    {
     "data": {
      "text/plain": [
       "((8, 4), (8, 8), (8,))"
      ]
     },
     "execution_count": 17,
     "metadata": {},
     "output_type": "execute_result"
    }
   ],
   "source": [
    "Wx = np.random.random((hidden_size, input_dim))\n",
    "Wh = np.random.random((hidden_size, hidden_size))\n",
    "b = np.random.random((hidden_size, ))\n",
    "Wx.shape, Wh.shape, b.shape"
   ]
  },
  {
   "cell_type": "code",
   "execution_count": 19,
   "metadata": {
    "ExecuteTime": {
     "end_time": "2020-09-05T12:24:20.772727Z",
     "start_time": "2020-09-05T12:24:20.764922Z"
    }
   },
   "outputs": [
    {
     "data": {
      "text/plain": [
       "array([[0.68861425, 0.92247127, 0.94192747, 0.8869073 , 0.79288545,\n",
       "        0.85683692, 0.87070896, 0.8751066 ],\n",
       "       [0.99993224, 0.99998215, 0.99967247, 0.99998001, 0.99926469,\n",
       "        0.999989  , 0.99996274, 0.99994545],\n",
       "       [0.99997618, 0.99999326, 0.99978348, 0.9999712 , 0.99925092,\n",
       "        0.99998931, 0.99998293, 0.99992983],\n",
       "       [0.99997817, 0.99999881, 0.99987852, 0.99999645, 0.99980928,\n",
       "        0.99999733, 0.99998659, 0.99997708],\n",
       "       [0.99998058, 0.99999907, 0.99987841, 0.99999177, 0.99973466,\n",
       "        0.99999367, 0.99997943, 0.99995494],\n",
       "       [0.99997426, 0.99999838, 0.99961788, 0.99997958, 0.99959676,\n",
       "        0.99998428, 0.99994608, 0.99995378],\n",
       "       [0.9999835 , 0.99999862, 0.9999062 , 0.99999254, 0.99972752,\n",
       "        0.99999541, 0.99998823, 0.9999619 ],\n",
       "       [0.99998692, 0.99999942, 0.99994365, 0.99999849, 0.99990081,\n",
       "        0.99999871, 0.99999363, 0.99998768],\n",
       "       [0.99998473, 0.99999508, 0.99985344, 0.99999354, 0.99971924,\n",
       "        0.99999731, 0.99999348, 0.99998546],\n",
       "       [0.9999831 , 0.99999964, 0.99991989, 0.9999976 , 0.99988215,\n",
       "        0.99999736, 0.99998471, 0.99997825]])"
      ]
     },
     "execution_count": 19,
     "metadata": {},
     "output_type": "execute_result"
    }
   ],
   "source": [
    "total_hidden_states = []\n",
    "\n",
    "for input_t in inputs:# input_t: t시점의 입력값\n",
    "    # ht=tanh(WxXt+Whht−1+b)\n",
    "    output_t = np.tanh(np.dot(Wx, input_t) + np.dot(Wh, hidden_state_t) + b)\n",
    "    total_hidden_states.append(list(output_t))\n",
    "    \n",
    "    hidden_state_t = output_t\n",
    "total_hidden_states = np.stack(total_hidden_states, axis = 0) \n",
    "total_hidden_states"
   ]
  },
  {
   "cell_type": "markdown",
   "metadata": {},
   "source": [
    "## Deep Recurrent Neural Network"
   ]
  },
  {
   "cell_type": "code",
   "execution_count": 59,
   "metadata": {
    "ExecuteTime": {
     "end_time": "2020-09-05T12:53:16.142110Z",
     "start_time": "2020-09-05T12:53:16.024293Z"
    }
   },
   "outputs": [
    {
     "name": "stdout",
     "output_type": "stream",
     "text": [
      "Model: \"sequential_38\"\n",
      "_________________________________________________________________\n",
      "Layer (type)                 Output Shape              Param #   \n",
      "=================================================================\n",
      "simple_rnn_48 (SimpleRNN)    (None, 20, 8)             104       \n",
      "_________________________________________________________________\n",
      "simple_rnn_49 (SimpleRNN)    (None, 20, 8)             136       \n",
      "=================================================================\n",
      "Total params: 240\n",
      "Trainable params: 240\n",
      "Non-trainable params: 0\n",
      "_________________________________________________________________\n"
     ]
    }
   ],
   "source": [
    "model = Sequential()\n",
    "model.add(SimpleRNN(8, input_shape=(20,4), return_sequences=True))\n",
    "model.add(SimpleRNN(8, input_shape=(20,8), return_sequences=True))\n",
    "model.summary()"
   ]
  },
  {
   "cell_type": "markdown",
   "metadata": {},
   "source": [
    "## Bidirectional Recurrent Neural Network\n",
    "양방향 RNN은 하나의 출력값을 예측하기 위해 기본적으로 두 개의 메모리 셀을 사용합니다. 첫번째 메모리 셀은 앞에서 배운 것처럼 앞 시점의 은닉 상태(Forward States)를 전달받아 현재의 은닉 상태를 계산합니다. 두번째 메모리 셀은 앞에서 배운 것과는 다릅니다. 앞 시점의 은닉 상태가 아니라 뒤 시점의 은닉 상태(Backward States)를 전달 받아 현재의 은닉 상태를 계산합니다. 그리고 이 두 개의 값 모두가 출력층에서 출력값을 예측하기 위해 사용됩니다."
   ]
  },
  {
   "cell_type": "code",
   "execution_count": 63,
   "metadata": {
    "ExecuteTime": {
     "end_time": "2020-09-05T12:54:00.621678Z",
     "start_time": "2020-09-05T12:54:00.150331Z"
    }
   },
   "outputs": [
    {
     "name": "stdout",
     "output_type": "stream",
     "text": [
      "Model: \"sequential_40\"\n",
      "_________________________________________________________________\n",
      "Layer (type)                 Output Shape              Param #   \n",
      "=================================================================\n",
      "bidirectional (Bidirectional (None, 10, 16)            208       \n",
      "_________________________________________________________________\n",
      "bidirectional_1 (Bidirection (None, 10, 16)            400       \n",
      "_________________________________________________________________\n",
      "bidirectional_2 (Bidirection (None, 10, 16)            400       \n",
      "_________________________________________________________________\n",
      "bidirectional_3 (Bidirection (None, 10, 16)            400       \n",
      "=================================================================\n",
      "Total params: 1,408\n",
      "Trainable params: 1,408\n",
      "Non-trainable params: 0\n",
      "_________________________________________________________________\n"
     ]
    }
   ],
   "source": [
    "model = Sequential()\n",
    "model.add(Bidirectional(SimpleRNN(hidden_size, return_sequences=True), input_shape=(timesteps, input_dim)))\n",
    "model.add(Bidirectional(SimpleRNN(hidden_size, return_sequences = True)))\n",
    "model.add(Bidirectional(SimpleRNN(hidden_size, return_sequences = True)))\n",
    "model.add(Bidirectional(SimpleRNN(hidden_size, return_sequences = True)))\n",
    "model.summary()"
   ]
  },
  {
   "cell_type": "code",
   "execution_count": null,
   "metadata": {},
   "outputs": [],
   "source": []
  }
 ],
 "metadata": {
  "kernelspec": {
   "display_name": "Python 3",
   "language": "python",
   "name": "python3"
  },
  "language_info": {
   "codemirror_mode": {
    "name": "ipython",
    "version": 3
   },
   "file_extension": ".py",
   "mimetype": "text/x-python",
   "name": "python",
   "nbconvert_exporter": "python",
   "pygments_lexer": "ipython3",
   "version": "3.7.3"
  },
  "toc": {
   "base_numbering": 1,
   "nav_menu": {},
   "number_sections": true,
   "sideBar": true,
   "skip_h1_title": false,
   "title_cell": "Table of Contents",
   "title_sidebar": "Contents",
   "toc_cell": false,
   "toc_position": {},
   "toc_section_display": true,
   "toc_window_display": false
  }
 },
 "nbformat": 4,
 "nbformat_minor": 2
}
