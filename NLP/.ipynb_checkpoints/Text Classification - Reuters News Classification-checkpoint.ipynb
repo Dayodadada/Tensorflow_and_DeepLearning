{
 "cells": [
  {
   "cell_type": "markdown",
   "metadata": {},
   "source": [
    "# Reuters News Classification\n",
    "- https://wikidocs.net/22933"
   ]
  },
  {
   "cell_type": "markdown",
   "metadata": {},
   "source": [
    "## Import"
   ]
  },
  {
   "cell_type": "code",
   "execution_count": 2,
   "metadata": {
    "ExecuteTime": {
     "end_time": "2020-09-19T00:17:21.296240Z",
     "start_time": "2020-09-19T00:17:20.289784Z"
    }
   },
   "outputs": [],
   "source": [
    "import matplotlib.pyplot as plt\n",
    "import numpy as np\n",
    "import seaborn as sns\n",
    "\n",
    "from tensorflow.keras.datasets import reuters\n",
    "from tensorflow.keras.models import Sequential\n",
    "from tensorflow.keras.layers import Dense, LSTM, Embedding\n",
    "from tensorflow.keras.preprocessing.sequence import pad_sequences\n",
    "from tensorflow.keras.utils import to_categorical\n",
    "from tensorflow.keras.callbacks import EarlyStopping, ModelCheckpoint\n",
    "from tensorflow.keras.models import load_model"
   ]
  },
  {
   "cell_type": "markdown",
   "metadata": {},
   "source": [
    "## Load dataset"
   ]
  },
  {
   "cell_type": "code",
   "execution_count": 3,
   "metadata": {
    "ExecuteTime": {
     "end_time": "2020-09-19T00:17:43.364926Z",
     "start_time": "2020-09-19T00:17:42.708835Z"
    }
   },
   "outputs": [
    {
     "data": {
      "text/plain": [
       "((8982,), (8982,), (2246,), (2246,))"
      ]
     },
     "execution_count": 3,
     "metadata": {},
     "output_type": "execute_result"
    }
   ],
   "source": [
    "(x_train, y_train), (x_test, y_test) = reuters.load_data(num_words=None, test_split=0.2)\n",
    "x_train.shape, y_train.shape, x_test.shape, y_test.shape"
   ]
  },
  {
   "cell_type": "code",
   "execution_count": 4,
   "metadata": {
    "ExecuteTime": {
     "end_time": "2020-09-19T00:20:06.700202Z",
     "start_time": "2020-09-19T00:20:06.696469Z"
    }
   },
   "outputs": [
    {
     "data": {
      "text/plain": [
       "array([ 3,  4,  3,  4,  4,  4,  4,  3,  3, 16])"
      ]
     },
     "execution_count": 4,
     "metadata": {},
     "output_type": "execute_result"
    }
   ],
   "source": [
    "y_train[:10]"
   ]
  },
  {
   "cell_type": "code",
   "execution_count": 5,
   "metadata": {
    "ExecuteTime": {
     "end_time": "2020-09-19T00:20:36.342055Z",
     "start_time": "2020-09-19T00:20:36.337475Z"
    }
   },
   "outputs": [
    {
     "name": "stdout",
     "output_type": "stream",
     "text": [
      "num of categoris: 46\n"
     ]
    }
   ],
   "source": [
    "num_classes = max(y_train) + 1\n",
    "print(f\"num of categoris: {num_classes}\")"
   ]
  },
  {
   "cell_type": "code",
   "execution_count": 6,
   "metadata": {
    "ExecuteTime": {
     "end_time": "2020-09-19T00:20:54.626350Z",
     "start_time": "2020-09-19T00:20:54.623426Z"
    }
   },
   "outputs": [
    {
     "name": "stdout",
     "output_type": "stream",
     "text": [
      "[1, 27595, 28842, 8, 43, 10, 447, 5, 25, 207, 270, 5, 3095, 111, 16, 369, 186, 90, 67, 7, 89, 5, 19, 102, 6, 19, 124, 15, 90, 67, 84, 22, 482, 26, 7, 48, 4, 49, 8, 864, 39, 209, 154, 6, 151, 6, 83, 11, 15, 22, 155, 11, 15, 7, 48, 9, 4579, 1005, 504, 6, 258, 6, 272, 11, 15, 22, 134, 44, 11, 15, 16, 8, 197, 1245, 90, 67, 52, 29, 209, 30, 32, 132, 6, 109, 15, 17, 12] 3\n"
     ]
    }
   ],
   "source": [
    "print(x_train[0], y_train[0])"
   ]
  },
  {
   "cell_type": "code",
   "execution_count": 7,
   "metadata": {
    "ExecuteTime": {
     "end_time": "2020-09-19T00:21:45.643632Z",
     "start_time": "2020-09-19T00:21:45.438407Z"
    }
   },
   "outputs": [
    {
     "name": "stdout",
     "output_type": "stream",
     "text": [
      "뉴스 기사의 최대 길이 :2376\n",
      "뉴스 기사의 평균 길이 :145.5398574927633\n"
     ]
    },
    {
     "data": {
      "image/png": "[encoded data removed]",
      "text/plain": [
       "<Figure size 432x288 with 1 Axes>"
      ]
     },
     "metadata": {
      "needs_background": "light"
     },
     "output_type": "display_data"
    }
   ],
   "source": [
    "print('뉴스 기사의 최대 길이 :{}'.format(max(len(l) for l in x_train)))\n",
    "print('뉴스 기사의 평균 길이 :{}'.format(sum(map(len, x_train))/len(x_train)))\n",
    "\n",
    "plt.hist([len(s) for s in x_train], bins=50)\n",
    "plt.xlabel('length of samples')\n",
    "plt.ylabel('number of samples')\n",
    "plt.show()"
   ]
  },
  {
   "cell_type": "code",
   "execution_count": 8,
   "metadata": {
    "ExecuteTime": {
     "end_time": "2020-09-19T00:22:02.834110Z",
     "start_time": "2020-09-19T00:22:02.423207Z"
    }
   },
   "outputs": [
    {
     "data": {
      "text/plain": [
       "<matplotlib.axes._subplots.AxesSubplot at 0x7fb61545d278>"
      ]
     },
     "execution_count": 8,
     "metadata": {},
     "output_type": "execute_result"
    },
    {
     "data": {
      "image/png": "[encoded data removed]",
      "text/plain": [
       "<Figure size 864x360 with 1 Axes>"
      ]
     },
     "metadata": {
      "needs_background": "light"
     },
     "output_type": "display_data"
    }
   ],
   "source": [
    "fig, axe = plt.subplots(ncols=1)\n",
    "fig.set_size_inches(12,5)\n",
    "sns.countplot(y_train)"
   ]
  },
  {
   "cell_type": "code",
   "execution_count": 9,
   "metadata": {
    "ExecuteTime": {
     "end_time": "2020-09-19T00:22:25.443697Z",
     "start_time": "2020-09-19T00:22:25.441224Z"
    }
   },
   "outputs": [],
   "source": [
    "import collections"
   ]
  },
  {
   "cell_type": "code",
   "execution_count": 18,
   "metadata": {
    "ExecuteTime": {
     "end_time": "2020-09-19T00:27:09.353898Z",
     "start_time": "2020-09-19T00:27:09.345942Z"
    },
    "scrolled": true
   },
   "outputs": [
    {
     "data": {
      "text/plain": [
       "[(0, 55),\n",
       " (1, 432),\n",
       " (2, 74),\n",
       " (3, 3159),\n",
       " (4, 1949),\n",
       " (5, 17),\n",
       " (6, 48),\n",
       " (7, 16),\n",
       " (8, 139),\n",
       " (9, 101),\n",
       " (10, 124),\n",
       " (11, 390),\n",
       " (12, 49),\n",
       " (13, 172),\n",
       " (14, 26),\n",
       " (15, 20),\n",
       " (16, 444),\n",
       " (17, 39),\n",
       " (18, 66),\n",
       " (19, 549),\n",
       " (20, 269),\n",
       " (21, 100),\n",
       " (22, 15),\n",
       " (23, 41),\n",
       " (24, 62),\n",
       " (25, 92),\n",
       " (26, 24),\n",
       " (27, 15),\n",
       " (28, 48),\n",
       " (29, 19),\n",
       " (30, 45),\n",
       " (31, 39),\n",
       " (32, 32),\n",
       " (33, 11),\n",
       " (34, 50),\n",
       " (35, 10),\n",
       " (36, 49),\n",
       " (37, 19),\n",
       " (38, 19),\n",
       " (39, 24),\n",
       " (40, 36),\n",
       " (41, 30),\n",
       " (42, 13),\n",
       " (43, 21),\n",
       " (44, 12),\n",
       " (45, 18)]"
      ]
     },
     "execution_count": 18,
     "metadata": {},
     "output_type": "execute_result"
    }
   ],
   "source": [
    "(sorted([(i, j) for i, j in collections.Counter(y_train).items()]))"
   ]
  },
  {
   "cell_type": "code",
   "execution_count": 19,
   "metadata": {
    "ExecuteTime": {
     "end_time": "2020-09-19T00:33:55.091040Z",
     "start_time": "2020-09-19T00:33:55.067299Z"
    }
   },
   "outputs": [
    {
     "data": {
      "text/plain": [
       "30979"
      ]
     },
     "execution_count": 19,
     "metadata": {},
     "output_type": "execute_result"
    }
   ],
   "source": [
    "word_to_index = reuters.get_word_index()\n",
    "len(word_to_index)"
   ]
  },
  {
   "cell_type": "code",
   "execution_count": 20,
   "metadata": {
    "ExecuteTime": {
     "end_time": "2020-09-19T00:43:07.834577Z",
     "start_time": "2020-09-19T00:43:07.828535Z"
    }
   },
   "outputs": [
    {
     "data": {
      "text/plain": [
       "30979"
      ]
     },
     "execution_count": 20,
     "metadata": {},
     "output_type": "execute_result"
    }
   ],
   "source": [
    "index_to_word = {index:word for word, index in word_to_index.items()}\n",
    "len(index_to_word)"
   ]
  },
  {
   "cell_type": "code",
   "execution_count": 24,
   "metadata": {
    "ExecuteTime": {
     "end_time": "2020-09-19T00:43:46.246490Z",
     "start_time": "2020-09-19T00:43:46.242702Z"
    }
   },
   "outputs": [
    {
     "data": {
      "text/plain": [
       "('the', 'of', 'to', 'in', 'said')"
      ]
     },
     "execution_count": 24,
     "metadata": {},
     "output_type": "execute_result"
    }
   ],
   "source": [
    "index_to_word[1], index_to_word[2], index_to_word[3], index_to_word[4], index_to_word[5]"
   ]
  },
  {
   "cell_type": "code",
   "execution_count": 25,
   "metadata": {
    "ExecuteTime": {
     "end_time": "2020-09-19T00:46:05.917555Z",
     "start_time": "2020-09-19T00:46:05.913872Z"
    }
   },
   "outputs": [
    {
     "name": "stdout",
     "output_type": "stream",
     "text": [
      "<sos> wattie nondiscriminatory mln loss for plc said at only ended said commonwealth could 1 traders now april 0 a after said from 1985 and from foreign 000 april 0 prices its account year a but in this mln home an states earlier and rise and revs vs 000 its 16 vs 000 a but 3 psbr oils several and shareholders and dividend vs 000 its all 4 vs 000 1 mln agreed largely april 0 are 2 states will billion total and against 000 pct dlrs\n"
     ]
    }
   ],
   "source": [
    "for index, token in enumerate((\"<pad>\", \"<sos>\", \"<unk>\")):\n",
    "    index_to_word[index] = token\n",
    "    \n",
    "print(' '.join([index_to_word[index] for index in x_train[0]]))"
   ]
  },
  {
   "cell_type": "code",
   "execution_count": 27,
   "metadata": {
    "ExecuteTime": {
     "end_time": "2020-09-19T00:46:30.624787Z",
     "start_time": "2020-09-19T00:46:30.620533Z"
    }
   },
   "outputs": [
    {
     "data": {
      "text/plain": [
       "('<pad>', '<sos>', '<unk>', 'to', 'in', 'said')"
      ]
     },
     "execution_count": 27,
     "metadata": {},
     "output_type": "execute_result"
    }
   ],
   "source": [
    "index_to_word[0], index_to_word[1], index_to_word[2], index_to_word[3], index_to_word[4], index_to_word[5]"
   ]
  },
  {
   "cell_type": "markdown",
   "metadata": {},
   "source": [
    "## Text preprocessing"
   ]
  },
  {
   "cell_type": "code",
   "execution_count": 29,
   "metadata": {
    "ExecuteTime": {
     "end_time": "2020-09-19T00:49:07.540904Z",
     "start_time": "2020-09-19T00:49:06.801172Z"
    }
   },
   "outputs": [
    {
     "data": {
      "text/plain": [
       "((8982,), (8982,), (2246,), (2246,))"
      ]
     },
     "execution_count": 29,
     "metadata": {},
     "output_type": "execute_result"
    }
   ],
   "source": [
    "(x_train, y_train), (x_test, y_test) = reuters.load_data(num_words=1000, test_split=0.2)\n",
    "x_train.shape, y_train.shape, x_test.shape, y_test.shape"
   ]
  },
  {
   "cell_type": "code",
   "execution_count": 30,
   "metadata": {
    "ExecuteTime": {
     "end_time": "2020-09-19T00:50:47.028538Z",
     "start_time": "2020-09-19T00:50:46.897927Z"
    }
   },
   "outputs": [
    {
     "data": {
      "text/plain": [
       "(100, 100)"
      ]
     },
     "execution_count": 30,
     "metadata": {},
     "output_type": "execute_result"
    }
   ],
   "source": [
    "max_len = 100\n",
    "x_train = pad_sequences(x_train, maxlen=max_len)\n",
    "x_test = pad_sequences(x_test, maxlen=max_len)\n",
    "len(x_train[0]), len(x_test[0])"
   ]
  },
  {
   "cell_type": "code",
   "execution_count": 31,
   "metadata": {
    "ExecuteTime": {
     "end_time": "2020-09-19T00:52:46.291316Z",
     "start_time": "2020-09-19T00:52:46.285924Z"
    }
   },
   "outputs": [
    {
     "data": {
      "text/plain": [
       "((8982, 46), (2246, 46))"
      ]
     },
     "execution_count": 31,
     "metadata": {},
     "output_type": "execute_result"
    }
   ],
   "source": [
    "y_train = to_categorical(y_train)\n",
    "y_test = to_categorical(y_test)\n",
    "y_train.shape, y_test.shape"
   ]
  },
  {
   "cell_type": "markdown",
   "metadata": {},
   "source": [
    "## Define model"
   ]
  },
  {
   "cell_type": "code",
   "execution_count": 32,
   "metadata": {
    "ExecuteTime": {
     "end_time": "2020-09-19T00:56:10.358112Z",
     "start_time": "2020-09-19T00:56:10.126783Z"
    }
   },
   "outputs": [],
   "source": [
    "model = Sequential()\n",
    "model.add(Embedding(1000, 120))\n",
    "model.add(LSTM(120))\n",
    "model.add(Dense(46, activation=\"softmax\"))"
   ]
  },
  {
   "cell_type": "code",
   "execution_count": 33,
   "metadata": {
    "ExecuteTime": {
     "end_time": "2020-09-19T00:56:17.270147Z",
     "start_time": "2020-09-19T00:56:17.266250Z"
    }
   },
   "outputs": [
    {
     "name": "stdout",
     "output_type": "stream",
     "text": [
      "Model: \"sequential\"\n",
      "_________________________________________________________________\n",
      "Layer (type)                 Output Shape              Param #   \n",
      "=================================================================\n",
      "embedding (Embedding)        (None, None, 120)         120000    \n",
      "_________________________________________________________________\n",
      "lstm (LSTM)                  (None, 120)               115680    \n",
      "_________________________________________________________________\n",
      "dense (Dense)                (None, 46)                5566      \n",
      "=================================================================\n",
      "Total params: 241,246\n",
      "Trainable params: 241,246\n",
      "Non-trainable params: 0\n",
      "_________________________________________________________________\n"
     ]
    }
   ],
   "source": [
    "model.summary()"
   ]
  },
  {
   "cell_type": "code",
   "execution_count": 35,
   "metadata": {
    "ExecuteTime": {
     "end_time": "2020-09-19T00:59:11.396912Z",
     "start_time": "2020-09-19T00:59:11.393893Z"
    }
   },
   "outputs": [],
   "source": [
    "# 검증 데이터 손실이 4회 증가하면 학습을 조기 종료(Early Stopping)\n",
    "es = EarlyStopping(monitor=\"val_loss\", mode=\"min\", verbose=1, patience=4)\n",
    "mc = ModelCheckpoint(\"best_model.h5\", monitor=\"val_acc\", mode=\"max\", verbose=1, save_best_only=True)"
   ]
  },
  {
   "cell_type": "code",
   "execution_count": 36,
   "metadata": {
    "ExecuteTime": {
     "end_time": "2020-09-19T00:59:51.997199Z",
     "start_time": "2020-09-19T00:59:51.970731Z"
    }
   },
   "outputs": [],
   "source": [
    "model.compile(\n",
    "    optimizer=\"adam\",\n",
    "    loss=\"categorical_crossentropy\",\n",
    "    metrics=[\"acc\"]\n",
    ")"
   ]
  },
  {
   "cell_type": "markdown",
   "metadata": {},
   "source": [
    "## Train"
   ]
  },
  {
   "cell_type": "code",
   "execution_count": 37,
   "metadata": {
    "ExecuteTime": {
     "end_time": "2020-09-19T01:08:43.689605Z",
     "start_time": "2020-09-19T01:00:16.739694Z"
    },
    "scrolled": true
   },
   "outputs": [
    {
     "name": "stdout",
     "output_type": "stream",
     "text": [
      "Train on 8982 samples, validate on 2246 samples\n",
      "Epoch 1/30\n",
      "8960/8982 [============================>.] - ETA: 0s - loss: 2.6211 - acc: 0.3487\n",
      "Epoch 00001: val_acc improved from -inf to 0.36198, saving model to best_model.h5\n",
      "8982/8982 [==============================] - 18s 2ms/sample - loss: 2.6209 - acc: 0.3487 - val_loss: 2.3822 - val_acc: 0.3620\n",
      "Epoch 2/30\n",
      "8960/8982 [============================>.] - ETA: 0s - loss: 2.1400 - acc: 0.4584\n",
      "Epoch 00002: val_acc improved from 0.36198 to 0.50089, saving model to best_model.h5\n",
      "8982/8982 [==============================] - 19s 2ms/sample - loss: 2.1391 - acc: 0.4588 - val_loss: 2.0341 - val_acc: 0.5009\n",
      "Epoch 3/30\n",
      "8960/8982 [============================>.] - ETA: 0s - loss: 1.9528 - acc: 0.5089\n",
      "Epoch 00003: val_acc improved from 0.50089 to 0.52894, saving model to best_model.h5\n",
      "8982/8982 [==============================] - 21s 2ms/sample - loss: 1.9519 - acc: 0.5095 - val_loss: 1.8429 - val_acc: 0.5289\n",
      "Epoch 4/30\n",
      "8960/8982 [============================>.] - ETA: 0s - loss: 1.7205 - acc: 0.5728\n",
      "Epoch 00004: val_acc improved from 0.52894 to 0.57302, saving model to best_model.h5\n",
      "8982/8982 [==============================] - 22s 2ms/sample - loss: 1.7220 - acc: 0.5723 - val_loss: 1.7271 - val_acc: 0.5730\n",
      "Epoch 5/30\n",
      "8960/8982 [============================>.] - ETA: 0s - loss: 1.6628 - acc: 0.5836\n",
      "Epoch 00005: val_acc improved from 0.57302 to 0.59929, saving model to best_model.h5\n",
      "8982/8982 [==============================] - 20s 2ms/sample - loss: 1.6616 - acc: 0.5839 - val_loss: 1.6361 - val_acc: 0.5993\n",
      "Epoch 6/30\n",
      "8960/8982 [============================>.] - ETA: 0s - loss: 1.5801 - acc: 0.6075\n",
      "Epoch 00006: val_acc did not improve from 0.59929\n",
      "8982/8982 [==============================] - 20s 2ms/sample - loss: 1.5795 - acc: 0.6079 - val_loss: 1.6071 - val_acc: 0.5984\n",
      "Epoch 7/30\n",
      "8960/8982 [============================>.] - ETA: 0s - loss: 1.4823 - acc: 0.6292\n",
      "Epoch 00007: val_acc improved from 0.59929 to 0.61220, saving model to best_model.h5\n",
      "8982/8982 [==============================] - 43s 5ms/sample - loss: 1.4844 - acc: 0.6288 - val_loss: 1.5450 - val_acc: 0.6122\n",
      "Epoch 8/30\n",
      "8960/8982 [============================>.] - ETA: 0s - loss: 1.4081 - acc: 0.6427\n",
      "Epoch 00008: val_acc improved from 0.61220 to 0.62912, saving model to best_model.h5\n",
      "8982/8982 [==============================] - 21s 2ms/sample - loss: 1.4076 - acc: 0.6427 - val_loss: 1.4686 - val_acc: 0.6291\n",
      "Epoch 9/30\n",
      "8960/8982 [============================>.] - ETA: 0s - loss: 1.3308 - acc: 0.6640\n",
      "Epoch 00009: val_acc improved from 0.62912 to 0.64248, saving model to best_model.h5\n",
      "8982/8982 [==============================] - 19s 2ms/sample - loss: 1.3310 - acc: 0.6639 - val_loss: 1.4060 - val_acc: 0.6425\n",
      "Epoch 10/30\n",
      "8960/8982 [============================>.] - ETA: 0s - loss: 1.2672 - acc: 0.6795\n",
      "Epoch 00010: val_acc improved from 0.64248 to 0.65361, saving model to best_model.h5\n",
      "8982/8982 [==============================] - 20s 2ms/sample - loss: 1.2666 - acc: 0.6795 - val_loss: 1.3840 - val_acc: 0.6536\n",
      "Epoch 11/30\n",
      "8960/8982 [============================>.] - ETA: 0s - loss: 1.2034 - acc: 0.6938\n",
      "Epoch 00011: val_acc improved from 0.65361 to 0.65672, saving model to best_model.h5\n",
      "8982/8982 [==============================] - 21s 2ms/sample - loss: 1.2040 - acc: 0.6937 - val_loss: 1.3568 - val_acc: 0.6567\n",
      "Epoch 12/30\n",
      "8960/8982 [============================>.] - ETA: 0s - loss: 1.1414 - acc: 0.7104\n",
      "Epoch 00012: val_acc improved from 0.65672 to 0.67765, saving model to best_model.h5\n",
      "8982/8982 [==============================] - 19s 2ms/sample - loss: 1.1421 - acc: 0.7101 - val_loss: 1.3222 - val_acc: 0.6776\n",
      "Epoch 13/30\n",
      "8960/8982 [============================>.] - ETA: 0s - loss: 1.0882 - acc: 0.7265\n",
      "Epoch 00013: val_acc improved from 0.67765 to 0.68388, saving model to best_model.h5\n",
      "8982/8982 [==============================] - 20s 2ms/sample - loss: 1.0885 - acc: 0.7262 - val_loss: 1.2930 - val_acc: 0.6839\n",
      "Epoch 14/30\n",
      "8960/8982 [============================>.] - ETA: 0s - loss: 1.0451 - acc: 0.7374\n",
      "Epoch 00014: val_acc improved from 0.68388 to 0.69234, saving model to best_model.h5\n",
      "8982/8982 [==============================] - 21s 2ms/sample - loss: 1.0444 - acc: 0.7375 - val_loss: 1.2737 - val_acc: 0.6923\n",
      "Epoch 15/30\n",
      "8960/8982 [============================>.] - ETA: 0s - loss: 1.0102 - acc: 0.7456\n",
      "Epoch 00015: val_acc improved from 0.69234 to 0.69679, saving model to best_model.h5\n",
      "8982/8982 [==============================] - 21s 2ms/sample - loss: 1.0103 - acc: 0.7457 - val_loss: 1.2570 - val_acc: 0.6968\n",
      "Epoch 16/30\n",
      "8960/8982 [============================>.] - ETA: 0s - loss: 0.9578 - acc: 0.7615\n",
      "Epoch 00016: val_acc improved from 0.69679 to 0.70125, saving model to best_model.h5\n",
      "8982/8982 [==============================] - 20s 2ms/sample - loss: 0.9572 - acc: 0.7615 - val_loss: 1.2184 - val_acc: 0.7012\n",
      "Epoch 17/30\n",
      "8960/8982 [============================>.] - ETA: 0s - loss: 0.9592 - acc: 0.7613\n",
      "Epoch 00017: val_acc did not improve from 0.70125\n",
      "8982/8982 [==============================] - 20s 2ms/sample - loss: 0.9584 - acc: 0.7615 - val_loss: 1.2446 - val_acc: 0.6977\n",
      "Epoch 18/30\n",
      "8960/8982 [============================>.] - ETA: 0s - loss: 0.8906 - acc: 0.7776\n",
      "Epoch 00018: val_acc did not improve from 0.70125\n",
      "8982/8982 [==============================] - 21s 2ms/sample - loss: 0.8909 - acc: 0.7774 - val_loss: 1.2361 - val_acc: 0.6963\n",
      "Epoch 19/30\n",
      "8960/8982 [============================>.] - ETA: 0s - loss: 0.8548 - acc: 0.7868\n",
      "Epoch 00019: val_acc did not improve from 0.70125\n",
      "8982/8982 [==============================] - 20s 2ms/sample - loss: 0.8553 - acc: 0.7869 - val_loss: 1.2073 - val_acc: 0.7004\n",
      "Epoch 20/30\n",
      "8960/8982 [============================>.] - ETA: 0s - loss: 0.8116 - acc: 0.7935\n",
      "Epoch 00020: val_acc improved from 0.70125 to 0.70570, saving model to best_model.h5\n",
      "8982/8982 [==============================] - 20s 2ms/sample - loss: 0.8121 - acc: 0.7936 - val_loss: 1.1975 - val_acc: 0.7057\n",
      "Epoch 21/30\n",
      "8960/8982 [============================>.] - ETA: 0s - loss: 0.7698 - acc: 0.8045\n",
      "Epoch 00021: val_acc improved from 0.70570 to 0.71149, saving model to best_model.h5\n",
      "8982/8982 [==============================] - 20s 2ms/sample - loss: 0.7696 - acc: 0.8044 - val_loss: 1.2198 - val_acc: 0.7115\n",
      "Epoch 22/30\n",
      "8960/8982 [============================>.] - ETA: 0s - loss: 0.7412 - acc: 0.8117\n",
      "Epoch 00022: val_acc improved from 0.71149 to 0.71327, saving model to best_model.h5\n",
      "8982/8982 [==============================] - 21s 2ms/sample - loss: 0.7412 - acc: 0.8117 - val_loss: 1.2136 - val_acc: 0.7133\n",
      "Epoch 23/30\n",
      "8960/8982 [============================>.] - ETA: 0s - loss: 0.7078 - acc: 0.8213\n",
      "Epoch 00023: val_acc did not improve from 0.71327\n",
      "8982/8982 [==============================] - 21s 2ms/sample - loss: 0.7069 - acc: 0.8216 - val_loss: 1.2122 - val_acc: 0.7088\n",
      "Epoch 24/30\n",
      "8960/8982 [============================>.] - ETA: 0s - loss: 0.6880 - acc: 0.8235\n",
      "Epoch 00024: val_acc improved from 0.71327 to 0.71728, saving model to best_model.h5\n",
      "8982/8982 [==============================] - 21s 2ms/sample - loss: 0.6882 - acc: 0.8235 - val_loss: 1.2232 - val_acc: 0.7173\n",
      "Epoch 00024: early stopping\n"
     ]
    }
   ],
   "source": [
    "history = model.fit(x_train, y_train, batch_size=128, epochs=30, callbacks=[es, mc], validation_data=(x_test, y_test))"
   ]
  },
  {
   "cell_type": "code",
   "execution_count": 40,
   "metadata": {
    "ExecuteTime": {
     "end_time": "2020-09-19T01:11:59.879126Z",
     "start_time": "2020-09-19T01:11:57.959147Z"
    }
   },
   "outputs": [
    {
     "name": "stdout",
     "output_type": "stream",
     "text": [
      "2246/1 - 1s - loss: 1.5527 - acc: 0.7173\n",
      "\n",
      " 테스트 정확도: 0.7173\n"
     ]
    }
   ],
   "source": [
    "loaded_model = load_model('best_model.h5')\n",
    "print(\"\\n 테스트 정확도: %.4f\" % (loaded_model.evaluate(x_test, y_test, verbose=2)[1]))"
   ]
  },
  {
   "cell_type": "code",
   "execution_count": 39,
   "metadata": {
    "ExecuteTime": {
     "end_time": "2020-09-19T01:08:46.269438Z",
     "start_time": "2020-09-19T01:08:46.098012Z"
    }
   },
   "outputs": [
    {
     "name": "stdout",
     "output_type": "stream",
     "text": [
      "\n",
      " 테스트 정확도: 0.7173\n"
     ]
    },
    {
     "data": {
      "image/png": "[encoded data removed]",
      "text/plain": [
       "<Figure size 432x288 with 1 Axes>"
      ]
     },
     "metadata": {
      "needs_background": "light"
     },
     "output_type": "display_data"
    }
   ],
   "source": [
    "epochs = range(1, len(history.history['acc']) + 1)\n",
    "plt.plot(epochs, history.history['loss'])\n",
    "plt.plot(epochs, history.history['val_loss'])\n",
    "plt.title('model loss')\n",
    "plt.ylabel('loss')\n",
    "plt.xlabel('epoch')\n",
    "plt.legend(['train', 'test'], loc='upper left')\n",
    "plt.show()"
   ]
  },
  {
   "cell_type": "code",
   "execution_count": null,
   "metadata": {},
   "outputs": [],
   "source": []
  }
 ],
 "metadata": {
  "kernelspec": {
   "display_name": "Python 3",
   "language": "python",
   "name": "python3"
  },
  "language_info": {
   "codemirror_mode": {
    "name": "ipython",
    "version": 3
   },
   "file_extension": ".py",
   "mimetype": "text/x-python",
   "name": "python",
   "nbconvert_exporter": "python",
   "pygments_lexer": "ipython3",
   "version": "3.7.3"
  },
  "toc": {
   "base_numbering": 1,
   "nav_menu": {},
   "number_sections": true,
   "sideBar": true,
   "skip_h1_title": false,
   "title_cell": "Table of Contents",
   "title_sidebar": "Contents",
   "toc_cell": false,
   "toc_position": {},
   "toc_section_display": true,
   "toc_window_display": false
  }
 },
 "nbformat": 4,
 "nbformat_minor": 2
}
