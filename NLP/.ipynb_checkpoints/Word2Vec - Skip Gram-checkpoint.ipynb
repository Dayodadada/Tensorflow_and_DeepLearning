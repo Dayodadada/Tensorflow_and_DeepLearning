{
 "cells": [
  {
   "cell_type": "markdown",
   "metadata": {},
   "source": [
    "# Word2Vec\n",
    "- Skip Gram"
   ]
  },
  {
   "cell_type": "markdown",
   "metadata": {},
   "source": [
    "## Import Packages"
   ]
  },
  {
   "cell_type": "code",
   "execution_count": 1,
   "metadata": {},
   "outputs": [
    {
     "name": "stdout",
     "output_type": "stream",
     "text": [
      "WARNING:tensorflow:From /Users/user/anaconda3/lib/python3.7/site-packages/tensorflow_core/python/compat/v2_compat.py:65: disable_resource_variables (from tensorflow.python.ops.variable_scope) is deprecated and will be removed in a future version.\n",
      "Instructions for updating:\n",
      "non-resource variables are not supported in the long term\n"
     ]
    }
   ],
   "source": [
    "# import tensorflow as tf\n",
    "import tensorflow.compat.v1 as tf\n",
    "tf.disable_v2_behavior()\n",
    "import numpy as np\n",
    "from tqdm import tqdm_notebook\n",
    "from nltk.corpus import stopwords"
   ]
  },
  {
   "cell_type": "markdown",
   "metadata": {},
   "source": [
    "## Configurations"
   ]
  },
  {
   "cell_type": "code",
   "execution_count": 49,
   "metadata": {},
   "outputs": [],
   "source": [
    "hyper = {\n",
    "    \"emb_size\":100,\n",
    "    \"window_size\": 5,\n",
    "    \"min_count\":1,\n",
    "    \"sg\":0,\n",
    "    \"negative_size\": 5,\n",
    "    \"ns_exponent\": 0.75,\n",
    "    \"cbow_mean\":1,\n",
    "    \"iter\":10, #epochs\n",
    "    \"learning_rate\":0.1, # initial learning rate\n",
    "    \"sample\": 0.00001, #defualt=0.001\n",
    "#     \"vocab_size\":0,\n",
    "    \"batch_size\":512,\n",
    "    \"update_size\":16,\n",
    "}"
   ]
  },
  {
   "cell_type": "code",
   "execution_count": 3,
   "metadata": {
    "scrolled": true
   },
   "outputs": [],
   "source": [
    "stopwords_en = stopwords.words('english')"
   ]
  },
  {
   "cell_type": "markdown",
   "metadata": {},
   "source": [
    "## Load Dataset\n",
    "- IMDB 영화 리뷰 데이터\n",
    "    - 텍스트 분류 중 감정 분류 모델 연습용으로 쓰임\n",
    "    - Label: 영화 리뷰가 긍정이면 1, 부정이면 0\n",
    "- word embedding을 생성하는데 적절한 데이터는 아닌것 같지만 임시로 사용한다."
   ]
  },
  {
   "cell_type": "code",
   "execution_count": 4,
   "metadata": {},
   "outputs": [
    {
     "name": "stdout",
     "output_type": "stream",
     "text": [
      "X_train: (25000,), y_train: (25000,)\n",
      "X_test: (25000,), y_test: (25000,)\n"
     ]
    }
   ],
   "source": [
    "(x_train, y_train), (x_test, y_test) = tf.keras.datasets.imdb.load_data(\n",
    "    num_words=None, # max number of words to include\n",
    "    skip_top=0, # skip the top N most frequently occurring words\n",
    ")\n",
    "print(f\"X_train: {x_train.shape}, y_train: {y_train.shape}\")\n",
    "print(f\"X_test: {x_test.shape}, y_test: {y_test.shape}\")"
   ]
  },
  {
   "cell_type": "code",
   "execution_count": 5,
   "metadata": {},
   "outputs": [
    {
     "name": "stdout",
     "output_type": "stream",
     "text": [
      "The num of categories: 2\n"
     ]
    }
   ],
   "source": [
    "print(f\"The num of categories: {len(set(y_train))}\")"
   ]
  },
  {
   "cell_type": "code",
   "execution_count": 6,
   "metadata": {
    "scrolled": false
   },
   "outputs": [
    {
     "name": "stdout",
     "output_type": "stream",
     "text": [
      "The num of words: 88584\n"
     ]
    },
    {
     "data": {
      "text/plain": [
       "(1408, 'woods')"
      ]
     },
     "execution_count": 6,
     "metadata": {},
     "output_type": "execute_result"
    }
   ],
   "source": [
    "word2index = tf.keras.datasets.imdb.get_word_index()\n",
    "index2word = {}\n",
    "for word, index in word2index.items() :\n",
    "    index2word[index] = word\n",
    "\n",
    "print(f\"The num of words: {len(word2index)}\")\n",
    "word2index[\"woods\"], index2word[1408]"
   ]
  },
  {
   "cell_type": "code",
   "execution_count": 7,
   "metadata": {},
   "outputs": [
    {
     "data": {
      "text/plain": [
       "88584"
      ]
     },
     "execution_count": 7,
     "metadata": {},
     "output_type": "execute_result"
    }
   ],
   "source": [
    "len(word2index.values())"
   ]
  },
  {
   "cell_type": "markdown",
   "metadata": {},
   "source": [
    "### Change from index to word"
   ]
  },
  {
   "cell_type": "code",
   "execution_count": 8,
   "metadata": {},
   "outputs": [],
   "source": [
    "def change_from_index_to_word(index_list) :\n",
    "    word_list = []\n",
    "    for index in index_list :\n",
    "        if index in index2word :\n",
    "            word_list.append(index2word[index])\n",
    "        else :\n",
    "            print(f\"{index} is not exist in index2word!\")\n",
    "    return word_list"
   ]
  },
  {
   "cell_type": "code",
   "execution_count": 9,
   "metadata": {},
   "outputs": [
    {
     "name": "stdout",
     "output_type": "stream",
     "text": [
      "88585 is not exist in index2word!\n",
      "88586 is not exist in index2word!\n"
     ]
    },
    {
     "data": {
      "text/plain": [
       "25000"
      ]
     },
     "execution_count": 9,
     "metadata": {},
     "output_type": "execute_result"
    }
   ],
   "source": [
    "train_texts = []\n",
    "for indexs in x_train :\n",
    "    train_texts.append(change_from_index_to_word(indexs))\n",
    "len(train_texts)"
   ]
  },
  {
   "cell_type": "markdown",
   "metadata": {},
   "source": [
    "## Functions"
   ]
  },
  {
   "cell_type": "code",
   "execution_count": 10,
   "metadata": {
    "scrolled": true
   },
   "outputs": [],
   "source": [
    "def get_vocabulary(texts, min_count) :\n",
    "\n",
    "    # Calculate frequency of word appearance.\n",
    "    word2count = {}\n",
    "    for text in texts :\n",
    "        for word in text :\n",
    "            if word in word2count :\n",
    "                word2count[word] += 1\n",
    "            else :\n",
    "                word2count[word] = 1\n",
    "    \n",
    "    # Save only words that meet min_count condition.\n",
    "    vocab = [word for word in word2count if word2count[word] >= min_count]\n",
    "    filtered_word2count = {}\n",
    "    for word in vocab :\n",
    "        filtered_word2count[word] = word2count[word]\n",
    "    print(f\"The num of words that meet min_count >= {min_count}: {len(vocab):,}\")\n",
    "    \n",
    "    return filtered_word2count, vocab"
   ]
  },
  {
   "cell_type": "code",
   "execution_count": 11,
   "metadata": {},
   "outputs": [
    {
     "name": "stdout",
     "output_type": "stream",
     "text": [
      "The num of words that meet min_count >= 1: 88,583\n"
     ]
    }
   ],
   "source": [
    "min_count = hyper.get(\"min_count\")\n",
    "word2count, vocab = get_vocabulary(train_texts, min_count)"
   ]
  },
  {
   "cell_type": "code",
   "execution_count": 50,
   "metadata": {},
   "outputs": [],
   "source": [
    "hyper[\"vocab_size\"] = len(vocab)"
   ]
  },
  {
   "cell_type": "code",
   "execution_count": 35,
   "metadata": {},
   "outputs": [],
   "source": [
    "# def generate_word_pairs(texts, word2count, vocab, hyper) :\n",
    "#     '''\n",
    "#     return [[target word(words)], [context word(words)], [negative word(word2)]]\n",
    "#     '''\n",
    "#     sample = hyper.get(\"sample\")\n",
    "#     window_size = hyper.get(\"window_size\")\n",
    "#     negative_size = hyper.get(\"negative_size\")\n",
    "#     ns_exponent = hyper.get(\"ns_exponent\")\n",
    "    \n",
    "#     filtered = 0\n",
    "#     sampled = 0\n",
    "#     training_data = []\n",
    "#     negative_prob = np.array(list(word2count.values()))\n",
    "#     negative_prob = (negative_prob ** ns_exponent) / np.sum(negative_prob ** ns_exponent)\n",
    "    \n",
    "#     for raw_text in tqdm_notebook(texts) :\n",
    "#         text = [word for word in raw_text if (word in vocab)&(word not in stopwords_en)]\n",
    "        \n",
    "#         if len(text) > 1 :\n",
    "#             for i in range(len(text)) :\n",
    "#                 # get target word\n",
    "#                 target_word = text[i]\n",
    "#                 target_index = vocab.index(text[i])\n",
    "                \n",
    "#                 # probability of excluding word from learning\n",
    "#                 prob = 1 - np.sqrt(sample / word2count[target_word])\n",
    "#                 if np.random.rand() < prob :\n",
    "#                     sampled += 1\n",
    "#                     continue\n",
    "                        \n",
    "#                 # get context words\n",
    "#                 context_words = []\n",
    "#                 context_indexs = []\n",
    "#                 for j in range(i - window_size if i - window_size > 0 else 0, i + window_size if i + window_size <= len(text) - 1 else len(text) - 1) :\n",
    "#                     context_words.append(text[j])\n",
    "#                     context_indexs.append(vocab.index(text[j]))\n",
    "                    \n",
    "#                 # get negative words\n",
    "#                 negative_words = list(np.random.choice(vocab, p=negative_prob, size=negative_size))\n",
    "#                 negative_indexs = [vocab.index(negative_word) for negative_word in negative_words]\n",
    "                \n",
    "#                 # append rows\n",
    "#                 training_data.append([target_index, context_indexs, negative_indexs])\n",
    "#         else :\n",
    "#             filtered += 1\n",
    "                \n",
    "#     print(f\"- The final training data: {len(training_data)}.\")\n",
    "#     print(f\"- Filtered {filtered} texts.\")\n",
    "#     print(f\"- Sampled {sampled} texts.\")\n",
    "#     return training_data"
   ]
  },
  {
   "cell_type": "code",
   "execution_count": 74,
   "metadata": {},
   "outputs": [],
   "source": [
    "def generate_word_pairs(texts, word2count, vocab, hyper) :\n",
    "    '''\n",
    "    return [[target word, context word],[target word, context word],...]\n",
    "    '''\n",
    "    sample = hyper.get(\"sample\")\n",
    "    window_size = hyper.get(\"window_size\")\n",
    "    \n",
    "    filtered = 0\n",
    "    sampled = 0\n",
    "    training_data = []\n",
    "\n",
    "    for raw_text in tqdm_notebook(texts) :\n",
    "        text = [word for word in raw_text if (word in vocab)&(word not in stopwords_en)]\n",
    "        \n",
    "        if len(text) > 1 :\n",
    "            for i in range(len(text)) :\n",
    "                # get target word\n",
    "                target_word = text[i]\n",
    "                target_index = vocab.index(text[i])\n",
    "                \n",
    "                # probability of excluding word from learning\n",
    "                prob = 1 - np.sqrt(sample / word2count[target_word])\n",
    "                if np.random.rand() < prob :\n",
    "                    sampled += 1 * 2 * window_size\n",
    "                    continue\n",
    "                        \n",
    "                # get context words\n",
    "                for j in range(i - window_size if i - window_size > 0 else 0, i + window_size if i + window_size <= len(text) - 1 else len(text) - 1) :\n",
    "                    context_word = text[j]\n",
    "                    context_index = vocab.index(context_word)\n",
    "                    \n",
    "                    # append rows\n",
    "                    training_data.append([target_index, context_index])\n",
    "        else :\n",
    "            filtered += 1 * 2 * window_size\n",
    "                \n",
    "    print(f\"- The final training data: {len(training_data)}.\")\n",
    "    print(f\"- Filtered {filtered} texts.\")\n",
    "    print(f\"- Sampled {sampled} texts.\")\n",
    "    return training_data"
   ]
  },
  {
   "cell_type": "code",
   "execution_count": null,
   "metadata": {},
   "outputs": [
    {
     "data": {
      "application/vnd.jupyter.widget-view+json": {
       "model_id": "99d8f0808c444717b11e88d636b7137d",
       "version_major": 2,
       "version_minor": 0
      },
      "text/plain": [
       "HBox(children=(IntProgress(value=0, max=25000), HTML(value='')))"
      ]
     },
     "metadata": {},
     "output_type": "display_data"
    }
   ],
   "source": [
    "training_data = generate_word_pairs(train_texts, word2count, vocab, hyper)"
   ]
  },
  {
   "cell_type": "code",
   "execution_count": null,
   "metadata": {},
   "outputs": [],
   "source": [
    "training_data[:5]"
   ]
  },
  {
   "cell_type": "markdown",
   "metadata": {},
   "source": [
    "## Define Model and Run"
   ]
  },
  {
   "cell_type": "code",
   "execution_count": null,
   "metadata": {
    "scrolled": true
   },
   "outputs": [],
   "source": [
    "window_size = hyper.get(\"window_size\")\n",
    "negative_size = hyper.get(\"negative_size\")\n",
    "batch_size = hyper.get(\"batch_size\")\n",
    "update_size = hyper.get(\"update_size\")\n",
    "vocab_size = hyper.get(\"vocab_size\")\n",
    "emb_size = hyper.get(\"emb_size\")\n",
    "learning_rate = hyper.get(\"learning_rate\")\n",
    "epochs = hyper.get(\"iter\")\n",
    "    \n",
    "target = tf.placeholder(dtype=tf.int32, shape=[batch_size])\n",
    "context = tf.placeholder(dtype=tf.int32, shape=[batch_size, 1])\n",
    "\n",
    "W = tf.Variable(tf.random_uniform([vocab_size, emb_size], -1.0, 1.0))\n",
    "target_emb = tf.nn.embedding_lookup(W, target)\n",
    "\n",
    "weights = tf.Variable(tf.random_uniform([vocab_size, emb_size], -1.0, 1.0))\n",
    "biases = tf.Variable(tf.zeros([vocab_size]))\n",
    "\n",
    "loss = tf.reduce_mean(tf.nn.nce_loss(weights, biases, context, target_emb, update_size, vocab_size))\n",
    "train_op = tf.train.AdamOptimizer(learning_rate).minimize(loss)\n",
    "init = tf.global_variables_initializer()"
   ]
  },
  {
   "cell_type": "code",
   "execution_count": null,
   "metadata": {},
   "outputs": [],
   "source": [
    "with tf.Session() as session:\n",
    "    session.run(init)\n",
    "    for epoch in range(epochs) :\n",
    "        \n",
    "        target_words = []\n",
    "        context_words = []\n",
    "        for i in range(1, len(training_data)+1) :\n",
    "            target_words.append([training_data[i][0]])\n",
    "            context_words.append([training_data[i][1]])\n",
    "            if i % batch_size == 0 :\n",
    "                session.run(\n",
    "                    train, \n",
    "                    feed_dict = {\n",
    "                        target:target_words,\n",
    "                        context:context_words,\n",
    "                    }\n",
    "                )\n",
    "        \n",
    "    # Get W, U, Total-Loss\n",
    "    weight, weight_ = session.run([W, U])\n",
    "    print(weight.shape)\n",
    "    print(weight_.shape)"
   ]
  },
  {
   "cell_type": "code",
   "execution_count": null,
   "metadata": {},
   "outputs": [],
   "source": []
  }
 ],
 "metadata": {
  "kernelspec": {
   "display_name": "Python 3",
   "language": "python",
   "name": "python3"
  },
  "language_info": {
   "codemirror_mode": {
    "name": "ipython",
    "version": 3
   },
   "file_extension": ".py",
   "mimetype": "text/x-python",
   "name": "python",
   "nbconvert_exporter": "python",
   "pygments_lexer": "ipython3",
   "version": "3.7.3"
  },
  "toc": {
   "base_numbering": 1,
   "nav_menu": {},
   "number_sections": true,
   "sideBar": true,
   "skip_h1_title": false,
   "title_cell": "Table of Contents",
   "title_sidebar": "Contents",
   "toc_cell": false,
   "toc_position": {},
   "toc_section_display": true,
   "toc_window_display": false
  }
 },
 "nbformat": 4,
 "nbformat_minor": 2
}
