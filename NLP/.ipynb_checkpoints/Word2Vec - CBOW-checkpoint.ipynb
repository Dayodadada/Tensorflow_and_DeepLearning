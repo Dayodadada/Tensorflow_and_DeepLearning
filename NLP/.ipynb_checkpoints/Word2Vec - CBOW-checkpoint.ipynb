{
 "cells": [
  {
   "cell_type": "markdown",
   "metadata": {},
   "source": [
    "# Word2Vec\n",
    "- CBOW"
   ]
  },
  {
   "cell_type": "markdown",
   "metadata": {},
   "source": [
    "## Import Packages"
   ]
  },
  {
   "cell_type": "code",
   "execution_count": 1,
   "metadata": {},
   "outputs": [
    {
     "name": "stdout",
     "output_type": "stream",
     "text": [
      "WARNING:tensorflow:From /Users/user/anaconda3/lib/python3.7/site-packages/tensorflow_core/python/compat/v2_compat.py:65: disable_resource_variables (from tensorflow.python.ops.variable_scope) is deprecated and will be removed in a future version.\n",
      "Instructions for updating:\n",
      "non-resource variables are not supported in the long term\n"
     ]
    }
   ],
   "source": [
    "# import tensorflow as tf\n",
    "import tensorflow.compat.v1 as tf\n",
    "tf.disable_v2_behavior()\n",
    "import numpy as np\n",
    "from tqdm import tqdm_notebook\n",
    "from nltk.corpus import stopwords"
   ]
  },
  {
   "cell_type": "markdown",
   "metadata": {},
   "source": [
    "## Configurations"
   ]
  },
  {
   "cell_type": "code",
   "execution_count": 17,
   "metadata": {},
   "outputs": [],
   "source": [
    "hyper = {\n",
    "    \"emb_size\":100,\n",
    "    \"window_size\": 5,\n",
    "    \"min_count\":1,\n",
    "    \"sg\":0,\n",
    "    \"negative_size\": 5,\n",
    "    \"ns_exponent\": 0.75,\n",
    "    \"cbow_mean\":1,\n",
    "    \"iter\":10, #epochs\n",
    "    \"learning_rate\":0.025, # initial learning rate\n",
    "    \"sample\": 0.00001, #defualt=0.001\n",
    "#     \"vocab_size\":0,\n",
    "    \"batch_size\":512,\n",
    "    \"update_size\":16,\n",
    "}"
   ]
  },
  {
   "cell_type": "code",
   "execution_count": 3,
   "metadata": {
    "scrolled": true
   },
   "outputs": [],
   "source": [
    "stopwords_en = stopwords.words('english')"
   ]
  },
  {
   "cell_type": "markdown",
   "metadata": {},
   "source": [
    "## Load Dataset\n",
    "- IMDB 영화 리뷰 데이터\n",
    "    - 텍스트 분류 중 감정 분류 모델 연습용으로 쓰임\n",
    "    - Label: 영화 리뷰가 긍정이면 1, 부정이면 0\n",
    "- word embedding을 생성하는데 적절한 데이터는 아닌것 같지만 임시로 사용한다."
   ]
  },
  {
   "cell_type": "code",
   "execution_count": 4,
   "metadata": {},
   "outputs": [
    {
     "name": "stdout",
     "output_type": "stream",
     "text": [
      "X_train: (25000,), y_train: (25000,)\n",
      "X_test: (25000,), y_test: (25000,)\n"
     ]
    }
   ],
   "source": [
    "(x_train, y_train), (x_test, y_test) = tf.keras.datasets.imdb.load_data(\n",
    "    num_words=None, # max number of words to include\n",
    "    skip_top=0, # skip the top N most frequently occurring words\n",
    ")\n",
    "print(f\"X_train: {x_train.shape}, y_train: {y_train.shape}\")\n",
    "print(f\"X_test: {x_test.shape}, y_test: {y_test.shape}\")"
   ]
  },
  {
   "cell_type": "code",
   "execution_count": 5,
   "metadata": {},
   "outputs": [
    {
     "name": "stdout",
     "output_type": "stream",
     "text": [
      "The num of categories: 2\n"
     ]
    }
   ],
   "source": [
    "print(f\"The num of categories: {len(set(y_train))}\")"
   ]
  },
  {
   "cell_type": "code",
   "execution_count": 6,
   "metadata": {
    "scrolled": false
   },
   "outputs": [
    {
     "name": "stdout",
     "output_type": "stream",
     "text": [
      "The num of words: 88584\n"
     ]
    },
    {
     "data": {
      "text/plain": [
       "(1408, 'woods')"
      ]
     },
     "execution_count": 6,
     "metadata": {},
     "output_type": "execute_result"
    }
   ],
   "source": [
    "word2index = tf.keras.datasets.imdb.get_word_index()\n",
    "index2word = {}\n",
    "for word, index in word2index.items() :\n",
    "    index2word[index] = word\n",
    "\n",
    "print(f\"The num of words: {len(word2index)}\")\n",
    "word2index[\"woods\"], index2word[1408]"
   ]
  },
  {
   "cell_type": "code",
   "execution_count": 7,
   "metadata": {},
   "outputs": [
    {
     "data": {
      "text/plain": [
       "88584"
      ]
     },
     "execution_count": 7,
     "metadata": {},
     "output_type": "execute_result"
    }
   ],
   "source": [
    "len(word2index.values())"
   ]
  },
  {
   "cell_type": "markdown",
   "metadata": {},
   "source": [
    "### Change from index to word"
   ]
  },
  {
   "cell_type": "code",
   "execution_count": 8,
   "metadata": {},
   "outputs": [],
   "source": [
    "def change_from_index_to_word(index_list) :\n",
    "    word_list = []\n",
    "    for index in index_list :\n",
    "        if index in index2word :\n",
    "            word_list.append(index2word[index])\n",
    "        else :\n",
    "            print(f\"{index} is not exist in index2word!\")\n",
    "    return word_list"
   ]
  },
  {
   "cell_type": "code",
   "execution_count": 9,
   "metadata": {},
   "outputs": [
    {
     "name": "stdout",
     "output_type": "stream",
     "text": [
      "88585 is not exist in index2word!\n",
      "88586 is not exist in index2word!\n"
     ]
    },
    {
     "data": {
      "text/plain": [
       "25000"
      ]
     },
     "execution_count": 9,
     "metadata": {},
     "output_type": "execute_result"
    }
   ],
   "source": [
    "train_texts = []\n",
    "for indexs in x_train :\n",
    "    train_texts.append(change_from_index_to_word(indexs))\n",
    "len(train_texts)"
   ]
  },
  {
   "cell_type": "markdown",
   "metadata": {},
   "source": [
    "## Functions"
   ]
  },
  {
   "cell_type": "code",
   "execution_count": 10,
   "metadata": {
    "scrolled": true
   },
   "outputs": [],
   "source": [
    "def get_vocabulary(texts, min_count) :\n",
    "\n",
    "    # Calculate frequency of word appearance.\n",
    "    word2count = {}\n",
    "    for text in texts :\n",
    "        for word in text :\n",
    "            if word in word2count :\n",
    "                word2count[word] += 1\n",
    "            else :\n",
    "                word2count[word] = 1\n",
    "    \n",
    "    # Save only words that meet min_count condition.\n",
    "    vocab = [word for word in word2count if word2count[word] >= min_count]\n",
    "    filtered_word2count = {}\n",
    "    for word in vocab :\n",
    "        filtered_word2count[word] = word2count[word]\n",
    "    print(f\"The num of words that meet min_count >= {min_count}: {len(vocab):,}\")\n",
    "    \n",
    "    return filtered_word2count, vocab"
   ]
  },
  {
   "cell_type": "code",
   "execution_count": 11,
   "metadata": {},
   "outputs": [
    {
     "name": "stdout",
     "output_type": "stream",
     "text": [
      "The num of words that meet min_count >= 1: 88,583\n"
     ]
    }
   ],
   "source": [
    "min_count = hyper.get(\"min_count\")\n",
    "word2count, vocab = get_vocabulary(train_texts, min_count)"
   ]
  },
  {
   "cell_type": "code",
   "execution_count": 18,
   "metadata": {},
   "outputs": [],
   "source": [
    "hyper[\"vocab_size\"] = len(vocab)"
   ]
  },
  {
   "cell_type": "code",
   "execution_count": 84,
   "metadata": {},
   "outputs": [],
   "source": [
    "def generate_word_pairs(texts, word2count, vocab, hyper) :\n",
    "    '''\n",
    "    return [[target word(words)], [context word(words)], [negative word(word2)]]\n",
    "    '''\n",
    "    sample = hyper.get(\"sample\")\n",
    "    window_size = hyper.get(\"window_size\")\n",
    "    negative_size = hyper.get(\"negative_size\")\n",
    "    ns_exponent = hyper.get(\"ns_exponent\")\n",
    "    \n",
    "    filtered = 0\n",
    "    sampled = 0\n",
    "    training_data = []\n",
    "    negative_prob = np.array(list(word2count.values()))\n",
    "    negative_prob = (negative_prob ** ns_exponent) / np.sum(negative_prob ** ns_exponent)\n",
    "    \n",
    "    for raw_text in tqdm_notebook(texts) :\n",
    "        text = [word for word in raw_text if (word in vocab)&(word not in stopwords_en)]\n",
    "        \n",
    "        if len(text) > 1 :\n",
    "            for i in range(len(text)) :\n",
    "                # get target word\n",
    "                target_word = text[i]\n",
    "                target_index = vocab.index(text[i])\n",
    "                \n",
    "                # probability of excluding word from learning\n",
    "                prob = 1 - np.sqrt(sample / word2count[target_word])\n",
    "                if np.random.rand() < prob :\n",
    "                    sampled += 1\n",
    "                    continue\n",
    "                        \n",
    "                # get context words\n",
    "                context_words = []\n",
    "                context_indexs = []\n",
    "                for j in range(i - window_size if i - window_size > 0 else 0, i + window_size if i + window_size <= len(text) - 1 else len(text) - 1) :\n",
    "                    context_words.append(text[j])\n",
    "                    context_indexs.append(vocab.index(text[j]))\n",
    "                    \n",
    "                # get negative words\n",
    "                negative_words = list(np.random.choice(vocab, p=negative_prob, size=negative_size))\n",
    "                negative_indexs = [vocab.index(negative_word) for negative_word in negative_words]\n",
    "                \n",
    "                # append rows\n",
    "                training_data.append([target_index, context_indexs, negative_indexs])\n",
    "        else :\n",
    "            filtered += 1\n",
    "                \n",
    "    print(f\"- The final training data: {len(training_data)}.\")\n",
    "    print(f\"- Filtered {filtered} texts.\")\n",
    "    print(f\"- Sampled {sampled} texts.\")\n",
    "    return training_data"
   ]
  },
  {
   "cell_type": "code",
   "execution_count": 85,
   "metadata": {},
   "outputs": [
    {
     "data": {
      "application/vnd.jupyter.widget-view+json": {
       "model_id": "b2879b690125483cbb046d7c3e77b7c0",
       "version_major": 2,
       "version_minor": 0
      },
      "text/plain": [
       "HBox(children=(IntProgress(value=0, max=25000), HTML(value='')))"
      ]
     },
     "metadata": {},
     "output_type": "display_data"
    },
    {
     "name": "stdout",
     "output_type": "stream",
     "text": [
      "- The final training data: 835.\n",
      "- Filtered 0 texts.\n",
      "- Sampled 3239569 texts.\n"
     ]
    }
   ],
   "source": [
    "training_data = generate_word_pairs(train_texts, word2count, vocab, hyper)"
   ]
  },
  {
   "cell_type": "code",
   "execution_count": 86,
   "metadata": {},
   "outputs": [
    {
     "data": {
      "text/plain": [
       "[[275,\n",
       "  [270, 271, 272, 273, 274, 275, 66, 276, 277, 238],\n",
       "  [12990, 44953, 2976, 77030, 10750]],\n",
       " [513,\n",
       "  [1830, 121, 212, 1831, 519, 513, 1832, 338, 1833, 1834],\n",
       "  [3, 58, 100, 89, 192]],\n",
       " [3605,\n",
       "  [3604, 599, 1097, 382, 1314, 3605, 3606, 3529, 3607, 89],\n",
       "  [14, 1128, 481, 136, 14]],\n",
       " [6818,\n",
       "  [1774, 1078, 3755, 2093, 3013, 6818, 1103, 668, 31, 709],\n",
       "  [24367, 3835, 9283, 511, 2228]],\n",
       " [7490,\n",
       "  [700, 7489, 2709, 89, 4331, 7490, 5836, 6691, 464, 5589],\n",
       "  [58384, 10806, 14, 3351, 2632]]]"
      ]
     },
     "execution_count": 86,
     "metadata": {},
     "output_type": "execute_result"
    }
   ],
   "source": [
    "training_data[:5]"
   ]
  },
  {
   "cell_type": "markdown",
   "metadata": {},
   "source": [
    "## Define Model and Run"
   ]
  },
  {
   "cell_type": "code",
   "execution_count": null,
   "metadata": {
    "scrolled": true
   },
   "outputs": [],
   "source": [
    "window_size = hyper.get(\"window_size\")\n",
    "negative_size = hyper.get(\"negative_size\")\n",
    "batch_size = hyper.get(\"batch_size\")\n",
    "vocab_size = hyper.get(\"vocab_size\")\n",
    "emb_size = hyper.get(\"emb_size\")\n",
    "learning_rate = hyper.get(\"learning_rate\")\n",
    "epochs = hyper.get(\"iter\")\n",
    "\n",
    "with tf.Session() as session:\n",
    "    #\n",
    "    target = tf.placeholder(dtype = tf.int32, shape = [batch_size, ], name = 'target')\n",
    "    context = tf.placeholder(dtype = tf.int32, shape = [batch_size, 2 * window_size], name = 'context')\n",
    "    target_neg = tf.keras.backend.repeat_elements(tf.reshape(target, [batch_size, 1]), negative_size, axis=1)\n",
    "    negative = tf.placeholder(dtype = tf.int32, shape = [batch_size, negative_size], name = 'negative')\n",
    "\n",
    "#     W = tf.Variable(tf.truncated_normal([vocab_size, emb_size], mean = 0, stddev = 0.1), name = 'W')\n",
    "#     U = tf.Variable(tf.truncated_normal([vocab_size, emb_size], mean = 0, stddev = 0.1), name = 'U')\n",
    "    W = tf.Variable(\n",
    "        initial_value=tf.random_normal_initializer(\n",
    "            mean=0,\n",
    "            stddev=0.05,\n",
    "        )(\n",
    "            shape=(vocab_size, emb_size), \n",
    "            dtype=tf.float32,\n",
    "        ),\n",
    "        name=\"W\",\n",
    "    )\n",
    "    U = tf.Variable(\n",
    "        initial_value=tf.random_normal_initializer(\n",
    "            mean=0,\n",
    "            stddev=0.05,\n",
    "        )(\n",
    "            shape=(vocab_size, emb_size),\n",
    "            dtype=tf.float32,\n",
    "        ),\n",
    "        name=\"U\",\n",
    "    )\n",
    "\n",
    "    target_emb = tf.nn.embedding_lookup(U, target, name=\"target_embedding\")\n",
    "    context_emb = tf.nn.embedding_lookup(W, context, name=\"context_embedding\")\n",
    "    avg_context_emb = tf.reduce_mean(context_emb, axis=1)\n",
    "    target_neg_emb = tf.nn.embedding_lookup(U, target_neg, name=\"target_negative_embedding\")\n",
    "    negative_emb = tf.nn.embedding_lookup(W, negative, name=\"negative_embedding\")\n",
    "\n",
    "    context_loss = - tf.reduce_sum(tf.multiply(avg_context_emb, target_emb), axis=1)\n",
    "    negative_loss = tf.math.log(tf.reduce_sum(tf.exp(tf.reduce_sum(tf.multiply(negative_emb, target_neg_emb), axis=2)), axis=1))\n",
    "    tot_loss = tf.reduce_sum(tf.add(context_loss, negative_loss, name=\"loss\"), axis=0)\n",
    "\n",
    "    optimizer = tf.train.GradientDescentOptimizer(learning_rate=learning_rate)\n",
    "    train = optimizer.minimize(tot_loss)\n",
    "    init = tf.global_variables_initializer()\n",
    "\n",
    "    session.run(init)\n",
    "    for epoch in range(epochs) :\n",
    "        \n",
    "        \n",
    "#         for i in range(round(len(training_data)/batch_size)) :\n",
    "#             target_words = training_data[i*batch_size:(i+1)*batch_size,0]\n",
    "#             context_words = training_data[i*batch_size:(i+1)*batch_size,1]\n",
    "#             negative_words = training_data[i*batch_size:(i+1)*batch_size,2]\n",
    "        \n",
    "        target_words = []\n",
    "        context_words = []\n",
    "        negative_words = []\n",
    "\n",
    "        for i in range(1, len(training_data)+1) :\n",
    "            target_words.append(training_data[i][0])\n",
    "            context_words.append(np.array(training_data[i][1]))\n",
    "            negative_words.append(np.array(training_data[i][2]))\n",
    "\n",
    "            if i % batch_size == 0 :\n",
    "                session.run(\n",
    "                    train, \n",
    "                    feed_dict = {\n",
    "                        target:np.array(target_words),\n",
    "                        context:np.array(context_words),\n",
    "                        negative:np.array(negative_words),\n",
    "                    }\n",
    "                )\n",
    "        \n",
    "    # Get W, U, Total-Loss\n",
    "    weight, weight_ = session.run([W, U])\n",
    "    print(weight.shape)\n",
    "    print(weight_.shape)"
   ]
  },
  {
   "cell_type": "markdown",
   "metadata": {},
   "source": [
    "Use tf.keras\n",
    "- https://www.kdnuggets.com/2018/04/implementing-deep-learning-methods-feature-engineering-text-data-cbow.html"
   ]
  },
  {
   "cell_type": "code",
   "execution_count": 53,
   "metadata": {},
   "outputs": [],
   "source": [
    "vocab_size=10000\n",
    "emb_size=100\n",
    "window_size=5"
   ]
  },
  {
   "cell_type": "code",
   "execution_count": 60,
   "metadata": {},
   "outputs": [
    {
     "name": "stdout",
     "output_type": "stream",
     "text": [
      "Model: \"sequential_11\"\n",
      "_________________________________________________________________\n",
      "Layer (type)                 Output Shape              Param #   \n",
      "=================================================================\n",
      "embedding_9 (Embedding)      (None, 10, 100)           1000000   \n",
      "_________________________________________________________________\n",
      "lambda_9 (Lambda)            (None, 100)               0         \n",
      "_________________________________________________________________\n",
      "dense_2 (Dense)              (None, 10000)             1010000   \n",
      "=================================================================\n",
      "Total params: 2,010,000\n",
      "Trainable params: 2,010,000\n",
      "Non-trainable params: 0\n",
      "_________________________________________________________________\n"
     ]
    }
   ],
   "source": [
    "cbow = tf.keras.models.Sequential()\n",
    "cbow.add(\n",
    "    tf.keras.layers.Embedding(\n",
    "        input_dim=vocab_size,\n",
    "        output_dim=emb_size,\n",
    "        embeddings_initializer=\"normal\",\n",
    "        input_length=window_size*2,\n",
    "    )\n",
    ")\n",
    "cbow.add(\n",
    "    tf.keras.layers.Lambda(\n",
    "        lambda x: tf.keras.backend.mean(x, axis=1), output_shape=(emb_size,)\n",
    "    )\n",
    ")\n",
    "cbow.add(\n",
    "    tf.keras.layers.Dense(vocab_size, activation=\"softmax\")\n",
    ")\n",
    "cbow.summary()"
   ]
  },
  {
   "cell_type": "code",
   "execution_count": null,
   "metadata": {},
   "outputs": [],
   "source": []
  }
 ],
 "metadata": {
  "kernelspec": {
   "display_name": "Python 3",
   "language": "python",
   "name": "python3"
  },
  "language_info": {
   "codemirror_mode": {
    "name": "ipython",
    "version": 3
   },
   "file_extension": ".py",
   "mimetype": "text/x-python",
   "name": "python",
   "nbconvert_exporter": "python",
   "pygments_lexer": "ipython3",
   "version": "3.7.3"
  },
  "toc": {
   "base_numbering": 1,
   "nav_menu": {},
   "number_sections": true,
   "sideBar": true,
   "skip_h1_title": false,
   "title_cell": "Table of Contents",
   "title_sidebar": "Contents",
   "toc_cell": false,
   "toc_position": {},
   "toc_section_display": true,
   "toc_window_display": false
  }
 },
 "nbformat": 4,
 "nbformat_minor": 2
}
