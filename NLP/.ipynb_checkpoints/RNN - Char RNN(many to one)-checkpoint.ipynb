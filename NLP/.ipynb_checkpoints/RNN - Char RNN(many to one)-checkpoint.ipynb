{
 "cells": [
  {
   "cell_type": "markdown",
   "metadata": {},
   "source": [
    "# 글자 단위 RNN 언어 모델(Char RNNLM)\n",
    "- https://wikidocs.net/48649\n",
    "- 입출력의 단위를 단어 레벨(word-level)에서 글자 레벨(character-level)로 변경하여 RNN을 구현\n",
    "- 다 대 일(many-to-one) 구조의 RNN"
   ]
  },
  {
   "cell_type": "markdown",
   "metadata": {},
   "source": [
    "## Import"
   ]
  },
  {
   "cell_type": "code",
   "execution_count": 22,
   "metadata": {
    "ExecuteTime": {
     "end_time": "2020-09-11T14:31:27.787657Z",
     "start_time": "2020-09-11T14:31:27.783078Z"
    }
   },
   "outputs": [],
   "source": [
    "import numpy as np\n",
    "\n",
    "from tensorflow.keras.utils import to_categorical\n",
    "from tensorflow.keras.models import Sequential\n",
    "from tensorflow.keras.layers import Dense, LSTM\n",
    "from tensorflow.keras.preprocessing.sequence import pad_sequences"
   ]
  },
  {
   "cell_type": "markdown",
   "metadata": {},
   "source": [
    "## Load dataset"
   ]
  },
  {
   "cell_type": "code",
   "execution_count": 2,
   "metadata": {
    "ExecuteTime": {
     "end_time": "2020-09-12T06:05:52.813355Z",
     "start_time": "2020-09-12T06:05:52.810713Z"
    }
   },
   "outputs": [],
   "source": [
    "text='''\n",
    "I get on with life as a programmer,\n",
    "I like to contemplate beer.\n",
    "But when I start to daydream,\n",
    "My mind turns straight to wine.\n",
    "\n",
    "Do I love wine more than beer?\n",
    "\n",
    "I like to use words about beer.\n",
    "But when I stop my talking,\n",
    "My mind turns straight to wine.\n",
    "\n",
    "I hate bugs and errors.\n",
    "But I just think back to wine,\n",
    "And I'm happy once again.\n",
    "\n",
    "I like to hang out with programming and deep learning.\n",
    "But when left alone,\n",
    "My mind turns straight to wine.\n",
    "'''"
   ]
  },
  {
   "cell_type": "code",
   "execution_count": 3,
   "metadata": {
    "ExecuteTime": {
     "end_time": "2020-09-12T06:05:53.394459Z",
     "start_time": "2020-09-12T06:05:53.385928Z"
    }
   },
   "outputs": [
    {
     "data": {
      "text/plain": [
       "\"I get on with life as a programmer, I like to contemplate beer. But when I start to daydream, My mind turns straight to wine. Do I love wine more than beer? I like to use words about beer. But when I stop my talking, My mind turns straight to wine. I hate bugs and errors. But I just think back to wine, And I'm happy once again. I like to hang out with programming and deep learning. But when left alone, My mind turns straight to wine.\""
      ]
     },
     "execution_count": 3,
     "metadata": {},
     "output_type": "execute_result"
    }
   ],
   "source": [
    "tokens = text.split()\n",
    "text = \" \".join(tokens)\n",
    "text"
   ]
  },
  {
   "cell_type": "code",
   "execution_count": 4,
   "metadata": {
    "ExecuteTime": {
     "end_time": "2020-09-12T06:05:53.864108Z",
     "start_time": "2020-09-12T06:05:53.860711Z"
    }
   },
   "outputs": [
    {
     "name": "stdout",
     "output_type": "stream",
     "text": [
      "[' ', \"'\", ',', '.', '?', 'A', 'B', 'D', 'I', 'M', 'a', 'b', 'c', 'd', 'e', 'f', 'g', 'h', 'i', 'j', 'k', 'l', 'm', 'n', 'o', 'p', 'r', 's', 't', 'u', 'v', 'w', 'y']\n"
     ]
    }
   ],
   "source": [
    "char_vocab = sorted(list(set(text)))\n",
    "print(char_vocab)"
   ]
  },
  {
   "cell_type": "code",
   "execution_count": 11,
   "metadata": {
    "ExecuteTime": {
     "end_time": "2020-09-11T14:14:32.053654Z",
     "start_time": "2020-09-11T14:14:32.050371Z"
    }
   },
   "outputs": [
    {
     "name": "stdout",
     "output_type": "stream",
     "text": [
      "{' ': 0, \"'\": 1, ',': 2, '.': 3, '?': 4, 'A': 5, 'B': 6, 'D': 7, 'I': 8, 'M': 9, 'a': 10, 'b': 11, 'c': 12, 'd': 13, 'e': 14, 'f': 15, 'g': 16, 'h': 17, 'i': 18, 'j': 19, 'k': 20, 'l': 21, 'm': 22, 'n': 23, 'o': 24, 'p': 25, 'r': 26, 's': 27, 't': 28, 'u': 29, 'v': 30, 'w': 31, 'y': 32}\n"
     ]
    }
   ],
   "source": [
    "char_to_index = {c:i for i, c in enumerate(char_vocab)}\n",
    "print(char_to_index)"
   ]
  },
  {
   "cell_type": "code",
   "execution_count": 12,
   "metadata": {
    "ExecuteTime": {
     "end_time": "2020-09-11T14:21:39.160620Z",
     "start_time": "2020-09-11T14:21:39.156899Z"
    }
   },
   "outputs": [
    {
     "name": "stdout",
     "output_type": "stream",
     "text": [
      "총 훈련 샘플 수: 426\n"
     ]
    }
   ],
   "source": [
    "length = 11\n",
    "sequences = []\n",
    "for i in range(length, len(text)):\n",
    "    seq = text[i-length:i]\n",
    "    sequences.append(seq)\n",
    "print(f\"총 훈련 샘플 수: {len(sequences)}\")"
   ]
  },
  {
   "cell_type": "code",
   "execution_count": 14,
   "metadata": {
    "ExecuteTime": {
     "end_time": "2020-09-11T14:21:56.645532Z",
     "start_time": "2020-09-11T14:21:56.641834Z"
    }
   },
   "outputs": [
    {
     "data": {
      "text/plain": [
       "['I get on wi',\n",
       " ' get on wit',\n",
       " 'get on with',\n",
       " 'et on with ',\n",
       " 't on with l',\n",
       " ' on with li',\n",
       " 'on with lif',\n",
       " 'n with life',\n",
       " ' with life ',\n",
       " 'with life a']"
      ]
     },
     "execution_count": 14,
     "metadata": {},
     "output_type": "execute_result"
    }
   ],
   "source": [
    "sequences[:10]"
   ]
  },
  {
   "cell_type": "code",
   "execution_count": 15,
   "metadata": {
    "ExecuteTime": {
     "end_time": "2020-09-11T14:22:52.833565Z",
     "start_time": "2020-09-11T14:22:52.823442Z"
    }
   },
   "outputs": [
    {
     "data": {
      "text/plain": [
       "[[8, 0, 16, 14, 28, 0, 24, 23, 0, 31, 18],\n",
       " [0, 16, 14, 28, 0, 24, 23, 0, 31, 18, 28],\n",
       " [16, 14, 28, 0, 24, 23, 0, 31, 18, 28, 17],\n",
       " [14, 28, 0, 24, 23, 0, 31, 18, 28, 17, 0],\n",
       " [28, 0, 24, 23, 0, 31, 18, 28, 17, 0, 21],\n",
       " [0, 24, 23, 0, 31, 18, 28, 17, 0, 21, 18],\n",
       " [24, 23, 0, 31, 18, 28, 17, 0, 21, 18, 15],\n",
       " [23, 0, 31, 18, 28, 17, 0, 21, 18, 15, 14],\n",
       " [0, 31, 18, 28, 17, 0, 21, 18, 15, 14, 0],\n",
       " [31, 18, 28, 17, 0, 21, 18, 15, 14, 0, 10]]"
      ]
     },
     "execution_count": 15,
     "metadata": {},
     "output_type": "execute_result"
    }
   ],
   "source": [
    "X = []\n",
    "for line in sequences:\n",
    "    temp_x = [char_to_index[c] for c in line]\n",
    "    X.append(temp_x)\n",
    "X[:10]"
   ]
  },
  {
   "cell_type": "code",
   "execution_count": 18,
   "metadata": {
    "ExecuteTime": {
     "end_time": "2020-09-11T14:29:06.230083Z",
     "start_time": "2020-09-11T14:29:06.227275Z"
    }
   },
   "outputs": [],
   "source": [
    "sequences = np.array(X)\n",
    "X = sequences[:,:-1]\n",
    "y = sequences[:,-1]"
   ]
  },
  {
   "cell_type": "code",
   "execution_count": 20,
   "metadata": {
    "ExecuteTime": {
     "end_time": "2020-09-11T14:31:09.940771Z",
     "start_time": "2020-09-11T14:31:09.937425Z"
    }
   },
   "outputs": [
    {
     "data": {
      "text/plain": [
       "33"
      ]
     },
     "execution_count": 20,
     "metadata": {},
     "output_type": "execute_result"
    }
   ],
   "source": [
    "vocab_size = len(char_vocab)\n",
    "vocab_size"
   ]
  },
  {
   "cell_type": "code",
   "execution_count": 21,
   "metadata": {
    "ExecuteTime": {
     "end_time": "2020-09-11T14:31:10.548219Z",
     "start_time": "2020-09-11T14:31:10.536984Z"
    }
   },
   "outputs": [
    {
     "data": {
      "text/plain": [
       "((426, 10, 33), (426, 33))"
      ]
     },
     "execution_count": 21,
     "metadata": {},
     "output_type": "execute_result"
    }
   ],
   "source": [
    "sequences = [to_categorical(x, num_classes=vocab_size) for x in X]\n",
    "X = np.array(sequences)\n",
    "y = to_categorical(y, num_classes=vocab_size)\n",
    "X.shape, y.shape"
   ]
  },
  {
   "cell_type": "markdown",
   "metadata": {},
   "source": [
    "## build model"
   ]
  },
  {
   "cell_type": "code",
   "execution_count": 23,
   "metadata": {
    "ExecuteTime": {
     "end_time": "2020-09-11T14:32:34.251394Z",
     "start_time": "2020-09-11T14:32:34.024089Z"
    }
   },
   "outputs": [
    {
     "name": "stdout",
     "output_type": "stream",
     "text": [
      "Model: \"sequential\"\n",
      "_________________________________________________________________\n",
      "Layer (type)                 Output Shape              Param #   \n",
      "=================================================================\n",
      "lstm (LSTM)                  (None, 80)                36480     \n",
      "_________________________________________________________________\n",
      "dense (Dense)                (None, 33)                2673      \n",
      "=================================================================\n",
      "Total params: 39,153\n",
      "Trainable params: 39,153\n",
      "Non-trainable params: 0\n",
      "_________________________________________________________________\n"
     ]
    }
   ],
   "source": [
    "model = Sequential()\n",
    "model.add(LSTM(80, input_shape=(X.shape[1], X.shape[2])))\n",
    "model.add(Dense(vocab_size, activation=\"softmax\"))\n",
    "model.summary()"
   ]
  },
  {
   "cell_type": "code",
   "execution_count": 24,
   "metadata": {
    "ExecuteTime": {
     "end_time": "2020-09-11T14:33:52.647267Z",
     "start_time": "2020-09-11T14:33:43.331472Z"
    },
    "scrolled": true
   },
   "outputs": [
    {
     "name": "stdout",
     "output_type": "stream",
     "text": [
      "Train on 426 samples\n",
      "Epoch 1/100\n",
      "426/426 - 2s - loss: 3.4616 - accuracy: 0.1385\n",
      "Epoch 2/100\n",
      "426/426 - 0s - loss: 3.2681 - accuracy: 0.1972\n",
      "Epoch 3/100\n",
      "426/426 - 0s - loss: 3.0460 - accuracy: 0.1972\n",
      "Epoch 4/100\n",
      "426/426 - 0s - loss: 2.9939 - accuracy: 0.1972\n",
      "Epoch 5/100\n",
      "426/426 - 0s - loss: 2.9516 - accuracy: 0.1972\n",
      "Epoch 6/100\n",
      "426/426 - 0s - loss: 2.9370 - accuracy: 0.1972\n",
      "Epoch 7/100\n",
      "426/426 - 0s - loss: 2.9187 - accuracy: 0.1972\n",
      "Epoch 8/100\n",
      "426/426 - 0s - loss: 2.8917 - accuracy: 0.1972\n",
      "Epoch 9/100\n",
      "426/426 - 0s - loss: 2.8772 - accuracy: 0.1972\n",
      "Epoch 10/100\n",
      "426/426 - 0s - loss: 2.8475 - accuracy: 0.1972\n",
      "Epoch 11/100\n",
      "426/426 - 0s - loss: 2.8076 - accuracy: 0.1972\n",
      "Epoch 12/100\n",
      "426/426 - 0s - loss: 2.7723 - accuracy: 0.2066\n",
      "Epoch 13/100\n",
      "426/426 - 0s - loss: 2.7249 - accuracy: 0.2042\n",
      "Epoch 14/100\n",
      "426/426 - 0s - loss: 2.6679 - accuracy: 0.2089\n",
      "Epoch 15/100\n",
      "426/426 - 0s - loss: 2.6378 - accuracy: 0.2488\n",
      "Epoch 16/100\n",
      "426/426 - 0s - loss: 2.5794 - accuracy: 0.2277\n",
      "Epoch 17/100\n",
      "426/426 - 0s - loss: 2.5182 - accuracy: 0.2700\n",
      "Epoch 18/100\n",
      "426/426 - 0s - loss: 2.4558 - accuracy: 0.2746\n",
      "Epoch 19/100\n",
      "426/426 - 0s - loss: 2.3998 - accuracy: 0.3146\n",
      "Epoch 20/100\n",
      "426/426 - 0s - loss: 2.3565 - accuracy: 0.3216\n",
      "Epoch 21/100\n",
      "426/426 - 0s - loss: 2.2918 - accuracy: 0.3169\n",
      "Epoch 22/100\n",
      "426/426 - 0s - loss: 2.2701 - accuracy: 0.3521\n",
      "Epoch 23/100\n",
      "426/426 - 0s - loss: 2.1913 - accuracy: 0.3709\n",
      "Epoch 24/100\n",
      "426/426 - 0s - loss: 2.1396 - accuracy: 0.3709\n",
      "Epoch 25/100\n",
      "426/426 - 0s - loss: 2.1014 - accuracy: 0.4014\n",
      "Epoch 26/100\n",
      "426/426 - 0s - loss: 2.0529 - accuracy: 0.4202\n",
      "Epoch 27/100\n",
      "426/426 - 0s - loss: 2.0034 - accuracy: 0.4601\n",
      "Epoch 28/100\n",
      "426/426 - 0s - loss: 1.9491 - accuracy: 0.4366\n",
      "Epoch 29/100\n",
      "426/426 - 0s - loss: 1.8972 - accuracy: 0.4859\n",
      "Epoch 30/100\n",
      "426/426 - 0s - loss: 1.8477 - accuracy: 0.4836\n",
      "Epoch 31/100\n",
      "426/426 - 0s - loss: 1.7897 - accuracy: 0.5070\n",
      "Epoch 32/100\n",
      "426/426 - 0s - loss: 1.7347 - accuracy: 0.5117\n",
      "Epoch 33/100\n",
      "426/426 - 0s - loss: 1.6976 - accuracy: 0.5610\n",
      "Epoch 34/100\n",
      "426/426 - 0s - loss: 1.6555 - accuracy: 0.5587\n",
      "Epoch 35/100\n",
      "426/426 - 0s - loss: 1.6283 - accuracy: 0.5775\n",
      "Epoch 36/100\n",
      "426/426 - 0s - loss: 1.5723 - accuracy: 0.6080\n",
      "Epoch 37/100\n",
      "426/426 - 0s - loss: 1.5367 - accuracy: 0.6056\n",
      "Epoch 38/100\n",
      "426/426 - 0s - loss: 1.5033 - accuracy: 0.6009\n",
      "Epoch 39/100\n",
      "426/426 - 0s - loss: 1.4558 - accuracy: 0.6174\n",
      "Epoch 40/100\n",
      "426/426 - 0s - loss: 1.4198 - accuracy: 0.6408\n",
      "Epoch 41/100\n",
      "426/426 - 0s - loss: 1.3631 - accuracy: 0.6549\n",
      "Epoch 42/100\n",
      "426/426 - 0s - loss: 1.3264 - accuracy: 0.6737\n",
      "Epoch 43/100\n",
      "426/426 - 0s - loss: 1.2774 - accuracy: 0.6972\n",
      "Epoch 44/100\n",
      "426/426 - 0s - loss: 1.2419 - accuracy: 0.6831\n",
      "Epoch 45/100\n",
      "426/426 - 0s - loss: 1.1959 - accuracy: 0.7254\n",
      "Epoch 46/100\n",
      "426/426 - 0s - loss: 1.1553 - accuracy: 0.7277\n",
      "Epoch 47/100\n",
      "426/426 - 0s - loss: 1.1452 - accuracy: 0.7277\n",
      "Epoch 48/100\n",
      "426/426 - 0s - loss: 1.0846 - accuracy: 0.7653\n",
      "Epoch 49/100\n",
      "426/426 - 0s - loss: 1.0640 - accuracy: 0.7465\n",
      "Epoch 50/100\n",
      "426/426 - 0s - loss: 1.0302 - accuracy: 0.7441\n",
      "Epoch 51/100\n",
      "426/426 - 0s - loss: 0.9820 - accuracy: 0.7653\n",
      "Epoch 52/100\n",
      "426/426 - 0s - loss: 0.9456 - accuracy: 0.7793\n",
      "Epoch 53/100\n",
      "426/426 - 0s - loss: 0.9098 - accuracy: 0.7840\n",
      "Epoch 54/100\n",
      "426/426 - 0s - loss: 0.8909 - accuracy: 0.8075\n",
      "Epoch 55/100\n",
      "426/426 - 0s - loss: 0.8587 - accuracy: 0.7958\n",
      "Epoch 56/100\n",
      "426/426 - 0s - loss: 0.8404 - accuracy: 0.8005\n",
      "Epoch 57/100\n",
      "426/426 - 0s - loss: 0.7990 - accuracy: 0.8380\n",
      "Epoch 58/100\n",
      "426/426 - 0s - loss: 0.7639 - accuracy: 0.8333\n",
      "Epoch 59/100\n",
      "426/426 - 0s - loss: 0.7546 - accuracy: 0.8427\n",
      "Epoch 60/100\n",
      "426/426 - 0s - loss: 0.7024 - accuracy: 0.8592\n",
      "Epoch 61/100\n",
      "426/426 - 0s - loss: 0.6923 - accuracy: 0.8615\n",
      "Epoch 62/100\n",
      "426/426 - 0s - loss: 0.6981 - accuracy: 0.8521\n",
      "Epoch 63/100\n",
      "426/426 - 0s - loss: 0.6609 - accuracy: 0.8709\n",
      "Epoch 64/100\n",
      "426/426 - 0s - loss: 0.6359 - accuracy: 0.8850\n",
      "Epoch 65/100\n",
      "426/426 - 0s - loss: 0.5995 - accuracy: 0.8873\n",
      "Epoch 66/100\n",
      "426/426 - 0s - loss: 0.5622 - accuracy: 0.8897\n",
      "Epoch 67/100\n",
      "426/426 - 0s - loss: 0.5446 - accuracy: 0.9085\n",
      "Epoch 68/100\n",
      "426/426 - 0s - loss: 0.5190 - accuracy: 0.9202\n",
      "Epoch 69/100\n",
      "426/426 - 0s - loss: 0.5038 - accuracy: 0.9202\n",
      "Epoch 70/100\n",
      "426/426 - 0s - loss: 0.4780 - accuracy: 0.9178\n",
      "Epoch 71/100\n",
      "426/426 - 0s - loss: 0.4690 - accuracy: 0.9366\n",
      "Epoch 72/100\n",
      "426/426 - 0s - loss: 0.4657 - accuracy: 0.9249\n",
      "Epoch 73/100\n",
      "426/426 - 0s - loss: 0.4410 - accuracy: 0.9366\n",
      "Epoch 74/100\n",
      "426/426 - 0s - loss: 0.4155 - accuracy: 0.9437\n",
      "Epoch 75/100\n",
      "426/426 - 0s - loss: 0.4052 - accuracy: 0.9507\n",
      "Epoch 76/100\n",
      "426/426 - 0s - loss: 0.3861 - accuracy: 0.9554\n",
      "Epoch 77/100\n",
      "426/426 - 0s - loss: 0.3756 - accuracy: 0.9437\n",
      "Epoch 78/100\n",
      "426/426 - 0s - loss: 0.3672 - accuracy: 0.9671\n",
      "Epoch 79/100\n",
      "426/426 - 0s - loss: 0.3526 - accuracy: 0.9671\n",
      "Epoch 80/100\n",
      "426/426 - 0s - loss: 0.3641 - accuracy: 0.9484\n",
      "Epoch 81/100\n",
      "426/426 - 0s - loss: 0.3313 - accuracy: 0.9624\n",
      "Epoch 82/100\n",
      "426/426 - 0s - loss: 0.3180 - accuracy: 0.9695\n",
      "Epoch 83/100\n",
      "426/426 - 0s - loss: 0.2997 - accuracy: 0.9765\n",
      "Epoch 84/100\n",
      "426/426 - 0s - loss: 0.2880 - accuracy: 0.9718\n",
      "Epoch 85/100\n",
      "426/426 - 0s - loss: 0.2867 - accuracy: 0.9718\n",
      "Epoch 86/100\n",
      "426/426 - 0s - loss: 0.2706 - accuracy: 0.9789\n",
      "Epoch 87/100\n",
      "426/426 - 0s - loss: 0.2599 - accuracy: 0.9789\n",
      "Epoch 88/100\n",
      "426/426 - 0s - loss: 0.2491 - accuracy: 0.9859\n",
      "Epoch 89/100\n",
      "426/426 - 0s - loss: 0.2412 - accuracy: 0.9789\n",
      "Epoch 90/100\n",
      "426/426 - 0s - loss: 0.2324 - accuracy: 0.9789\n",
      "Epoch 91/100\n",
      "426/426 - 0s - loss: 0.2313 - accuracy: 0.9789\n",
      "Epoch 92/100\n",
      "426/426 - 0s - loss: 0.2221 - accuracy: 0.9789\n",
      "Epoch 93/100\n",
      "426/426 - 0s - loss: 0.2239 - accuracy: 0.9812\n",
      "Epoch 94/100\n",
      "426/426 - 0s - loss: 0.2096 - accuracy: 0.9836\n",
      "Epoch 95/100\n",
      "426/426 - 0s - loss: 0.2022 - accuracy: 0.9812\n",
      "Epoch 96/100\n",
      "426/426 - 0s - loss: 0.1898 - accuracy: 0.9789\n",
      "Epoch 97/100\n",
      "426/426 - 0s - loss: 0.1870 - accuracy: 0.9836\n",
      "Epoch 98/100\n",
      "426/426 - 0s - loss: 0.1826 - accuracy: 0.9789\n",
      "Epoch 99/100\n",
      "426/426 - 0s - loss: 0.1865 - accuracy: 0.9789\n",
      "Epoch 100/100\n",
      "426/426 - 0s - loss: 0.1780 - accuracy: 0.9836\n"
     ]
    },
    {
     "data": {
      "text/plain": [
       "<tensorflow.python.keras.callbacks.History at 0x7fa1ca5e3a58>"
      ]
     },
     "execution_count": 24,
     "metadata": {},
     "output_type": "execute_result"
    }
   ],
   "source": [
    "model.compile(\n",
    "    loss=\"categorical_crossentropy\",\n",
    "    optimizer=\"adam\",\n",
    "    metrics=[\"accuracy\"]\n",
    ")\n",
    "model.fit(X, y, epochs=100, verbose=2)"
   ]
  },
  {
   "cell_type": "markdown",
   "metadata": {},
   "source": [
    "## Predict"
   ]
  },
  {
   "cell_type": "code",
   "execution_count": 25,
   "metadata": {
    "ExecuteTime": {
     "end_time": "2020-09-11T14:34:17.963921Z",
     "start_time": "2020-09-11T14:34:17.958834Z"
    }
   },
   "outputs": [],
   "source": [
    "def sentence_generation(model, char_to_index, seq_length, seed_text, n):\n",
    "# 모델, 인덱스 정보, 문장 길이, 초기 시퀀스, 반복 횟수\n",
    "    init_text = seed_text # 문장 생성에 사용할 초기 시퀀스\n",
    "    sentence = ''\n",
    "\n",
    "    for _ in range(n): # n번 반복\n",
    "        encoded = [char_to_index[char] for char in seed_text] # 현재 시퀀스에 대한 정수 인코딩\n",
    "        encoded = pad_sequences([encoded], maxlen=seq_length, padding='pre') # 데이터에 대한 패딩\n",
    "        encoded = to_categorical(encoded, num_classes=len(char_to_index))\n",
    "        result = model.predict_classes(encoded, verbose=0)\n",
    "        # 입력한 X(현재 시퀀스)에 대해서 y를 예측하고 y(예측한 글자)를 result에 저장.\n",
    "        for char, index in char_to_index.items(): # 만약 예측한 글자와 인덱스와 동일한 글자가 있다면\n",
    "            if index == result: # 해당 글자가 예측 글자이므로 break\n",
    "                break\n",
    "        seed_text=seed_text + char # 현재 시퀀스 + 예측 글자를 현재 시퀀스로 변경\n",
    "        sentence=sentence + char # 예측 글자를 문장에 저장\n",
    "        # for문이므로 이 작업을 다시 반복\n",
    "\n",
    "    sentence = init_text + sentence\n",
    "    return sentence"
   ]
  },
  {
   "cell_type": "code",
   "execution_count": 26,
   "metadata": {
    "ExecuteTime": {
     "end_time": "2020-09-11T14:34:38.190036Z",
     "start_time": "2020-09-11T14:34:35.759102Z"
    }
   },
   "outputs": [
    {
     "name": "stdout",
     "output_type": "stream",
     "text": [
      "I get on with life as a programmer, I like to contemplate beer. But when I stap ty taleeg \n"
     ]
    }
   ],
   "source": [
    "print(sentence_generation(model, char_to_index, 10, 'I get on w', 80))"
   ]
  },
  {
   "cell_type": "code",
   "execution_count": 28,
   "metadata": {
    "ExecuteTime": {
     "end_time": "2020-09-11T14:35:03.337342Z",
     "start_time": "2020-09-11T14:35:01.222302Z"
    }
   },
   "outputs": [
    {
     "name": "stdout",
     "output_type": "stream",
     "text": [
      "I have aggs ano wto minpt tinn maayk lonr mmin I to ne tt alin g? I liet to cse tlaloggo\n"
     ]
    }
   ],
   "source": [
    "print(sentence_generation(model, char_to_index, 10, 'I have a', 80))"
   ]
  },
  {
   "cell_type": "code",
   "execution_count": 33,
   "metadata": {
    "ExecuteTime": {
     "end_time": "2020-09-11T14:35:39.476090Z",
     "start_time": "2020-09-11T14:35:37.246616Z"
    }
   },
   "outputs": [
    {
     "name": "stdout",
     "output_type": "stream",
     "text": [
      "I hatepgg ciy minng I mhket o win th soet tcy to byee, I likn to cse tpalogbbe... But \n"
     ]
    }
   ],
   "source": [
    "print(sentence_generation(model, char_to_index, 10, 'I hate', 80))"
   ]
  },
  {
   "cell_type": "code",
   "execution_count": null,
   "metadata": {},
   "outputs": [],
   "source": []
  }
 ],
 "metadata": {
  "kernelspec": {
   "display_name": "Python 3",
   "language": "python",
   "name": "python3"
  },
  "language_info": {
   "codemirror_mode": {
    "name": "ipython",
    "version": 3
   },
   "file_extension": ".py",
   "mimetype": "text/x-python",
   "name": "python",
   "nbconvert_exporter": "python",
   "pygments_lexer": "ipython3",
   "version": "3.7.3"
  },
  "toc": {
   "base_numbering": 1,
   "nav_menu": {},
   "number_sections": true,
   "sideBar": true,
   "skip_h1_title": false,
   "title_cell": "Table of Contents",
   "title_sidebar": "Contents",
   "toc_cell": false,
   "toc_position": {},
   "toc_section_display": true,
   "toc_window_display": false
  }
 },
 "nbformat": 4,
 "nbformat_minor": 2
}
