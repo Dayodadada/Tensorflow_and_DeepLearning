{
 "cells": [
  {
   "cell_type": "markdown",
   "metadata": {},
   "source": [
    "# Text classification using Naive Bayes Classifier\n",
    "- https://wikidocs.net/22892"
   ]
  },
  {
   "cell_type": "markdown",
   "metadata": {},
   "source": [
    "## Import"
   ]
  },
  {
   "cell_type": "code",
   "execution_count": 10,
   "metadata": {
    "ExecuteTime": {
     "end_time": "2020-09-22T13:24:41.117296Z",
     "start_time": "2020-09-22T13:24:41.088251Z"
    }
   },
   "outputs": [],
   "source": [
    "from sklearn.datasets import fetch_20newsgroups\n",
    "\n",
    "from sklearn.feature_extraction.text import CountVectorizer #text를 입력받아 BoW생성 후 리턴\n",
    "from sklearn.feature_extraction.text import TfidfTransformer\n",
    "from sklearn.naive_bayes import MultinomialNB # 다항분포 나이브 베이즈 모델\n",
    "from sklearn.metrics import accuracy_score #정확도 계산"
   ]
  },
  {
   "cell_type": "markdown",
   "metadata": {},
   "source": [
    "## Load dataset"
   ]
  },
  {
   "cell_type": "code",
   "execution_count": 3,
   "metadata": {
    "ExecuteTime": {
     "end_time": "2020-09-22T13:17:06.814275Z",
     "start_time": "2020-09-22T13:17:06.559030Z"
    }
   },
   "outputs": [
    {
     "name": "stdout",
     "output_type": "stream",
     "text": [
      "dict_keys(['data', 'filenames', 'target_names', 'target', 'DESCR'])\n"
     ]
    }
   ],
   "source": [
    "newsdata = fetch_20newsgroups(subset=\"train\") #train데이터만 가져오기\n",
    "print(newsdata.keys())"
   ]
  },
  {
   "cell_type": "code",
   "execution_count": 6,
   "metadata": {
    "ExecuteTime": {
     "end_time": "2020-09-22T13:18:59.940103Z",
     "start_time": "2020-09-22T13:18:59.929402Z"
    }
   },
   "outputs": [
    {
     "data": {
      "text/plain": [
       "(11314, 11314, 20, 11314, 9535)"
      ]
     },
     "execution_count": 6,
     "metadata": {},
     "output_type": "execute_result"
    }
   ],
   "source": [
    "len(newsdata.data), len(newsdata.filenames), len(newsdata.target_names), len(newsdata.target), len(newsdata.DESCR)"
   ]
  },
  {
   "cell_type": "code",
   "execution_count": 7,
   "metadata": {
    "ExecuteTime": {
     "end_time": "2020-09-22T13:21:54.898569Z",
     "start_time": "2020-09-22T13:21:54.895163Z"
    }
   },
   "outputs": [
    {
     "data": {
      "text/plain": [
       "['alt.atheism',\n",
       " 'comp.graphics',\n",
       " 'comp.os.ms-windows.misc',\n",
       " 'comp.sys.ibm.pc.hardware',\n",
       " 'comp.sys.mac.hardware',\n",
       " 'comp.windows.x',\n",
       " 'misc.forsale',\n",
       " 'rec.autos',\n",
       " 'rec.motorcycles',\n",
       " 'rec.sport.baseball',\n",
       " 'rec.sport.hockey',\n",
       " 'sci.crypt',\n",
       " 'sci.electronics',\n",
       " 'sci.med',\n",
       " 'sci.space',\n",
       " 'soc.religion.christian',\n",
       " 'talk.politics.guns',\n",
       " 'talk.politics.mideast',\n",
       " 'talk.politics.misc',\n",
       " 'talk.religion.misc']"
      ]
     },
     "execution_count": 7,
     "metadata": {},
     "output_type": "execute_result"
    }
   ],
   "source": [
    "# Categories\n",
    "newsdata.target_names"
   ]
  },
  {
   "cell_type": "code",
   "execution_count": 9,
   "metadata": {
    "ExecuteTime": {
     "end_time": "2020-09-22T13:22:48.698398Z",
     "start_time": "2020-09-22T13:22:48.694455Z"
    }
   },
   "outputs": [
    {
     "data": {
      "text/plain": [
       "(\"From: lerxst@wam.umd.edu (where's my thing)\\nSubject: WHAT car is this!?\\nNntp-Posting-Host: rac3.wam.umd.edu\\nOrganization: University of Maryland, College Park\\nLines: 15\\n\\n I was wondering if anyone out there could enlighten me on this car I saw\\nthe other day. It was a 2-door sports car, looked to be from the late 60s/\\nearly 70s. It was called a Bricklin. The doors were really small. In addition,\\nthe front bumper was separate from the rest of the body. This is \\nall I know. If anyone can tellme a model name, engine specs, years\\nof production, where this car is made, history, or whatever info you\\nhave on this funky looking car, please e-mail.\\n\\nThanks,\\n- IL\\n   ---- brought to you by your neighborhood Lerxst ----\\n\\n\\n\\n\\n\",\n",
       " 7,\n",
       " 'rec.autos')"
      ]
     },
     "execution_count": 9,
     "metadata": {},
     "output_type": "execute_result"
    }
   ],
   "source": [
    "newsdata.data[0], newsdata.target[0], newsdata.target_names[newsdata.target[0]]"
   ]
  },
  {
   "cell_type": "markdown",
   "metadata": {},
   "source": [
    "## Text preprocessing"
   ]
  },
  {
   "cell_type": "code",
   "execution_count": 11,
   "metadata": {
    "ExecuteTime": {
     "end_time": "2020-09-22T13:26:03.171296Z",
     "start_time": "2020-09-22T13:26:00.981418Z"
    }
   },
   "outputs": [
    {
     "name": "stdout",
     "output_type": "stream",
     "text": [
      "(11314, 130107)\n"
     ]
    }
   ],
   "source": [
    "dtmvector = CountVectorizer()\n",
    "x_train_dtm = dtmvector.fit_transform(newsdata.data)\n",
    "print(x_train_dtm.shape) # (샘플의수(문서의수), 단어의 수)"
   ]
  },
  {
   "cell_type": "code",
   "execution_count": 15,
   "metadata": {
    "ExecuteTime": {
     "end_time": "2020-09-22T13:31:24.267538Z",
     "start_time": "2020-09-22T13:31:24.251037Z"
    }
   },
   "outputs": [
    {
     "name": "stdout",
     "output_type": "stream",
     "text": [
      "  (0, 4605)\t1\n",
      "  (0, 16574)\t1\n",
      "  (0, 18299)\t1\n",
      "  (0, 26073)\t1\n",
      "  (0, 27436)\t1\n",
      "  (0, 28615)\t2\n",
      "  (0, 32311)\t1\n",
      "  (0, 34181)\t1\n",
      "  (0, 34995)\t1\n",
      "  (0, 35187)\t1\n",
      "  (0, 35612)\t1\n",
      "  (0, 35983)\t1\n",
      "  (0, 37433)\t1\n",
      "  (0, 37565)\t1\n",
      "  (0, 37780)\t5\n",
      "  (0, 40998)\t1\n",
      "  (0, 42876)\t1\n",
      "  (0, 45295)\t1\n",
      "  (0, 48618)\t1\n",
      "  (0, 48620)\t1\n",
      "  (0, 50111)\t1\n",
      "  (0, 50527)\t2\n",
      "  (0, 51730)\t1\n",
      "  (0, 51793)\t1\n",
      "  (0, 56979)\t3\n",
      "  :\t:\n",
      "  (11313, 89860)\t1\n",
      "  (11313, 90252)\t1\n",
      "  (11313, 90379)\t1\n",
      "  (11313, 90946)\t1\n",
      "  (11313, 92218)\t2\n",
      "  (11313, 94291)\t1\n",
      "  (11313, 94524)\t1\n",
      "  (11313, 95162)\t1\n",
      "  (11313, 101950)\t1\n",
      "  (11313, 105818)\t1\n",
      "  (11313, 106209)\t1\n",
      "  (11313, 106271)\t1\n",
      "  (11313, 107339)\t1\n",
      "  (11313, 109661)\t1\n",
      "  (11313, 110796)\t2\n",
      "  (11313, 111322)\t1\n",
      "  (11313, 111695)\t1\n",
      "  (11313, 113435)\t1\n",
      "  (11313, 113812)\t1\n",
      "  (11313, 115621)\t1\n",
      "  (11313, 116027)\t1\n",
      "  (11313, 117033)\t1\n",
      "  (11313, 119714)\t1\n",
      "  (11313, 124103)\t1\n",
      "  (11313, 124370)\t1\n"
     ]
    }
   ],
   "source": [
    "print(x_train_dtm)"
   ]
  },
  {
   "cell_type": "code",
   "execution_count": 13,
   "metadata": {
    "ExecuteTime": {
     "end_time": "2020-09-22T13:31:11.148832Z",
     "start_time": "2020-09-22T13:31:11.059938Z"
    }
   },
   "outputs": [
    {
     "name": "stdout",
     "output_type": "stream",
     "text": [
      "(11314, 130107)\n"
     ]
    }
   ],
   "source": [
    "tfidf_transformer = TfidfTransformer()\n",
    "tfidf_matrix = tfidf_transformer.fit_transform(x_train_dtm)\n",
    "print(tfidf_matrix.shape)"
   ]
  },
  {
   "cell_type": "code",
   "execution_count": 16,
   "metadata": {
    "ExecuteTime": {
     "end_time": "2020-09-22T13:31:42.280864Z",
     "start_time": "2020-09-22T13:31:42.265711Z"
    }
   },
   "outputs": [
    {
     "name": "stdout",
     "output_type": "stream",
     "text": [
      "  (0, 128420)\t0.04278499079283093\n",
      "  (0, 128402)\t0.05922294083277842\n",
      "  (0, 128026)\t0.060622095889758885\n",
      "  (0, 124931)\t0.08882569909852546\n",
      "  (0, 124031)\t0.10798795154169122\n",
      "  (0, 123989)\t0.08207027465330353\n",
      "  (0, 123984)\t0.036854292634593756\n",
      "  (0, 123796)\t0.049437556160455476\n",
      "  (0, 123292)\t0.14534718515938805\n",
      "  (0, 123162)\t0.2597090245735688\n",
      "  (0, 118983)\t0.037085978050619146\n",
      "  (0, 118280)\t0.2118680720828169\n",
      "  (0, 115475)\t0.042472629883573\n",
      "  (0, 114731)\t0.14447275512784058\n",
      "  (0, 114688)\t0.06214070986309586\n",
      "  (0, 114579)\t0.03671830826216751\n",
      "  (0, 114455)\t0.12287762616208957\n",
      "  (0, 114428)\t0.05511105154696676\n",
      "  (0, 113986)\t0.17691750674853082\n",
      "  (0, 111322)\t0.01915671802495043\n",
      "  (0, 109581)\t0.10809248404447917\n",
      "  (0, 109271)\t0.10844724822064673\n",
      "  (0, 108252)\t0.07526015712540636\n",
      "  (0, 106116)\t0.09869734624201922\n",
      "  (0, 104813)\t0.08462829788929047\n",
      "  :\t:\n",
      "  (11313, 62696)\t0.06213004660468942\n",
      "  (11313, 60910)\t0.34638730155641734\n",
      "  (11313, 60803)\t0.07995422310508192\n",
      "  (11313, 56979)\t0.039703068357897435\n",
      "  (11313, 56283)\t0.02607488632151599\n",
      "  (11313, 55411)\t0.06186613753683744\n",
      "  (11313, 51730)\t0.10067098834752666\n",
      "  (11313, 50527)\t0.05659515244000391\n",
      "  (11313, 47982)\t0.04878764010149915\n",
      "  (11313, 38412)\t0.1036626622028617\n",
      "  (11313, 38329)\t0.3188672316645619\n",
      "  (11313, 38325)\t0.15275412572672764\n",
      "  (11313, 37469)\t0.20012648171635533\n",
      "  (11313, 37413)\t0.16268391686660966\n",
      "  (11313, 33941)\t0.09553399237711814\n",
      "  (11313, 32988)\t0.06639443458516447\n",
      "  (11313, 31386)\t0.11766332475169258\n",
      "  (11313, 30044)\t0.03581554412880591\n",
      "  (11313, 28146)\t0.04703946070749562\n",
      "  (11313, 27696)\t0.1447050212747473\n",
      "  (11313, 25402)\t0.07399132052611829\n",
      "  (11313, 11390)\t0.14229394541348833\n",
      "  (11313, 8653)\t0.19138342755986237\n",
      "  (11313, 4605)\t0.06562288156075428\n",
      "  (11313, 3411)\t0.06958305141739549\n"
     ]
    }
   ],
   "source": [
    "print(tfidf_matrix)"
   ]
  },
  {
   "cell_type": "markdown",
   "metadata": {},
   "source": [
    "## Train naive bayes classifier"
   ]
  },
  {
   "cell_type": "code",
   "execution_count": 18,
   "metadata": {
    "ExecuteTime": {
     "end_time": "2020-09-22T13:32:50.696478Z",
     "start_time": "2020-09-22T13:32:50.567737Z"
    }
   },
   "outputs": [
    {
     "data": {
      "text/plain": [
       "MultinomialNB(alpha=1.0, class_prior=None, fit_prior=True)"
      ]
     },
     "execution_count": 18,
     "metadata": {},
     "output_type": "execute_result"
    }
   ],
   "source": [
    "mod = MultinomialNB()\n",
    "mod.fit(tfidf_matrix, newsdata.target)\n",
    "# alpha=1.0 라플라스 스무딩 적용됨"
   ]
  },
  {
   "cell_type": "markdown",
   "metadata": {},
   "source": [
    "## Evaluate"
   ]
  },
  {
   "cell_type": "code",
   "execution_count": 19,
   "metadata": {
    "ExecuteTime": {
     "end_time": "2020-09-22T13:33:57.477742Z",
     "start_time": "2020-09-22T13:33:55.752404Z"
    }
   },
   "outputs": [],
   "source": [
    "newsdata_test = fetch_20newsgroups(subset='test', shuffle=True)\n",
    "X_test_dtm = dtmvector.transform(newsdata_test.data)\n",
    "tfidfv_test = tfidf_transformer.transform(X_test_dtm)"
   ]
  },
  {
   "cell_type": "code",
   "execution_count": 20,
   "metadata": {
    "ExecuteTime": {
     "end_time": "2020-09-22T13:33:59.710931Z",
     "start_time": "2020-09-22T13:33:59.707630Z"
    }
   },
   "outputs": [
    {
     "data": {
      "text/plain": [
       "(7532, 130107)"
      ]
     },
     "execution_count": 20,
     "metadata": {},
     "output_type": "execute_result"
    }
   ],
   "source": [
    "tfidfv_test.shape"
   ]
  },
  {
   "cell_type": "code",
   "execution_count": 21,
   "metadata": {
    "ExecuteTime": {
     "end_time": "2020-09-22T13:34:48.491637Z",
     "start_time": "2020-09-22T13:34:48.441830Z"
    }
   },
   "outputs": [
    {
     "name": "stdout",
     "output_type": "stream",
     "text": [
      "정확도: 0.7738980350504514\n"
     ]
    }
   ],
   "source": [
    "predicted = mod.predict(tfidfv_test)\n",
    "print(f\"정확도: {accuracy_score(newsdata_test.target, predicted)}\")"
   ]
  },
  {
   "cell_type": "code",
   "execution_count": null,
   "metadata": {},
   "outputs": [],
   "source": []
  }
 ],
 "metadata": {
  "kernelspec": {
   "display_name": "Python 3",
   "language": "python",
   "name": "python3"
  },
  "language_info": {
   "codemirror_mode": {
    "name": "ipython",
    "version": 3
   },
   "file_extension": ".py",
   "mimetype": "text/x-python",
   "name": "python",
   "nbconvert_exporter": "python",
   "pygments_lexer": "ipython3",
   "version": "3.7.3"
  },
  "toc": {
   "base_numbering": 1,
   "nav_menu": {},
   "number_sections": true,
   "sideBar": true,
   "skip_h1_title": false,
   "title_cell": "Table of Contents",
   "title_sidebar": "Contents",
   "toc_cell": false,
   "toc_position": {},
   "toc_section_display": true,
   "toc_window_display": false
  }
 },
 "nbformat": 4,
 "nbformat_minor": 2
}
