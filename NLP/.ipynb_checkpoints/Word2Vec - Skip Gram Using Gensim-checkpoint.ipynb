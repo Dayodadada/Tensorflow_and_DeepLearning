{
 "cells": [
  {
   "cell_type": "markdown",
   "metadata": {},
   "source": [
    "# Baseline Model: Skip Gram using Gensim-Word2Vec\n",
    "- https://radimrehurek.com/gensim/models/word2vec.html"
   ]
  },
  {
   "cell_type": "markdown",
   "metadata": {},
   "source": [
    "## Import Packages"
   ]
  },
  {
   "cell_type": "code",
   "execution_count": 34,
   "metadata": {},
   "outputs": [],
   "source": [
    "# import tensorflow as tf\n",
    "import tensorflow.compat.v1 as tf\n",
    "tf.disable_v2_behavior()\n",
    "import numpy as np\n",
    "import pandas as pd\n",
    "from scipy.stats import pearsonr, spearmanr\n",
    "from tqdm import tqdm_notebook\n",
    "from nltk.corpus import stopwords\n",
    "from gensim.models import Word2Vec"
   ]
  },
  {
   "cell_type": "markdown",
   "metadata": {},
   "source": [
    "## Configurations"
   ]
  },
  {
   "cell_type": "code",
   "execution_count": 35,
   "metadata": {},
   "outputs": [],
   "source": [
    "hyper = {\n",
    "    \"emb_size\":100,\n",
    "    \"window_size\": 5,\n",
    "    \"min_count\":1,\n",
    "    \"sg\":1,\n",
    "    \"negative_size\": 5,\n",
    "    \"ns_exponent\": 0.75,\n",
    "    \"cbow_mean\":1,\n",
    "    \"iter\":10, #epochs\n",
    "    \"learning_rate\":0.025, # initial learning rate\n",
    "    \"sample\": 0.1, #defualt=0.001\n",
    "#     \"vocab_size\":0,\n",
    "    \"batch_size\":10000,\n",
    "#     \"update_size\":32,\n",
    "}"
   ]
  },
  {
   "cell_type": "code",
   "execution_count": 36,
   "metadata": {
    "scrolled": true
   },
   "outputs": [],
   "source": [
    "stopwords_en = stopwords.words('english')"
   ]
  },
  {
   "cell_type": "markdown",
   "metadata": {},
   "source": [
    "## Load Dataset\n",
    "- reuters\n",
    "    - Reuters topic classification dataset."
   ]
  },
  {
   "cell_type": "code",
   "execution_count": 37,
   "metadata": {},
   "outputs": [
    {
     "name": "stdout",
     "output_type": "stream",
     "text": [
      "X_train: (8982,), y_train: (8982,)\n",
      "X_test: (2246,), y_test: (2246,)\n"
     ]
    }
   ],
   "source": [
    "(x_train, y_train), (x_test, y_test) = tf.keras.datasets.reuters.load_data(\n",
    "    num_words=None, # max number of words to include\n",
    "    skip_top=0, # skip the top N most frequently occurring words\n",
    ")\n",
    "print(f\"X_train: {x_train.shape}, y_train: {y_train.shape}\")\n",
    "print(f\"X_test: {x_test.shape}, y_test: {y_test.shape}\")"
   ]
  },
  {
   "cell_type": "code",
   "execution_count": 38,
   "metadata": {},
   "outputs": [
    {
     "name": "stdout",
     "output_type": "stream",
     "text": [
      "The num of categories: 46\n"
     ]
    }
   ],
   "source": [
    "print(f\"The num of categories: {len(set(y_train))}\")"
   ]
  },
  {
   "cell_type": "code",
   "execution_count": 39,
   "metadata": {
    "scrolled": false
   },
   "outputs": [
    {
     "name": "stdout",
     "output_type": "stream",
     "text": [
      "The num of words: 88584\n"
     ]
    },
    {
     "data": {
      "text/plain": [
       "(1408, 'woods')"
      ]
     },
     "execution_count": 39,
     "metadata": {},
     "output_type": "execute_result"
    }
   ],
   "source": [
    "word2index = tf.keras.datasets.imdb.get_word_index()\n",
    "index2word = {}\n",
    "for word, index in word2index.items() :\n",
    "    index2word[index] = word\n",
    "\n",
    "print(f\"The num of words: {len(word2index)}\")\n",
    "word2index[\"woods\"], index2word[1408]"
   ]
  },
  {
   "cell_type": "code",
   "execution_count": 40,
   "metadata": {},
   "outputs": [
    {
     "data": {
      "text/plain": [
       "88584"
      ]
     },
     "execution_count": 40,
     "metadata": {},
     "output_type": "execute_result"
    }
   ],
   "source": [
    "len(word2index.values())"
   ]
  },
  {
   "cell_type": "markdown",
   "metadata": {},
   "source": [
    "### Change from index to word"
   ]
  },
  {
   "cell_type": "code",
   "execution_count": 41,
   "metadata": {},
   "outputs": [],
   "source": [
    "def change_from_index_to_word(index_list) :\n",
    "    word_list = []\n",
    "    for index in index_list :\n",
    "        if index in index2word :\n",
    "            word_list.append(index2word[index])\n",
    "        else :\n",
    "            print(f\"{index} is not exist in index2word!\")\n",
    "    return word_list"
   ]
  },
  {
   "cell_type": "code",
   "execution_count": 42,
   "metadata": {},
   "outputs": [
    {
     "data": {
      "text/plain": [
       "8982"
      ]
     },
     "execution_count": 42,
     "metadata": {},
     "output_type": "execute_result"
    }
   ],
   "source": [
    "train_texts = []\n",
    "for indexs in x_train :\n",
    "    train_texts.append(change_from_index_to_word(indexs))\n",
    "len(train_texts)"
   ]
  },
  {
   "cell_type": "markdown",
   "metadata": {},
   "source": [
    "## Run"
   ]
  },
  {
   "cell_type": "code",
   "execution_count": 43,
   "metadata": {},
   "outputs": [],
   "source": [
    "emb_size = hyper.get(\"emb_size\")\n",
    "window_size = hyper.get(\"window_size\")\n",
    "min_count = hyper.get(\"min_count\")\n",
    "sg = hyper.get(\"sg\")\n",
    "negative_size = hyper.get(\"negative_size\")\n",
    "ns_exponent = hyper.get(\"ns_exponent\")\n",
    "cbow_mean = hyper.get(\"cbow_mean\")\n",
    "epochs = hyper.get(\"iter\")\n",
    "learning_rate = hyper.get(\"learning_rate\")\n",
    "sample = hyper.get(\"sample\")\n",
    "batch_size = hyper.get(\"batch_size\")\n",
    "# update_size = hyper.get(\"update_size\")"
   ]
  },
  {
   "cell_type": "code",
   "execution_count": 44,
   "metadata": {},
   "outputs": [],
   "source": [
    "model = Word2Vec(\n",
    "    train_texts, \n",
    "    size=emb_size, \n",
    "    window=window_size, \n",
    "    min_count=min_count, \n",
    "    sg=sg,\n",
    "    negative=negative_size,\n",
    "    ns_exponent=ns_exponent,\n",
    "    cbow_mean=cbow_mean,\n",
    "    iter=epochs,\n",
    "    alpha=learning_rate,\n",
    "    sample=sample,\n",
    "    batch_words=batch_size,\n",
    ")"
   ]
  },
  {
   "cell_type": "code",
   "execution_count": 45,
   "metadata": {},
   "outputs": [
    {
     "data": {
      "text/plain": [
       "(28138, ['the', 'kazuo', 'operandi', 'in', 'out'])"
      ]
     },
     "execution_count": 45,
     "metadata": {},
     "output_type": "execute_result"
    }
   ],
   "source": [
    "vocab = list(model.wv.vocab.keys())\n",
    "len(vocab), vocab[:5]"
   ]
  },
  {
   "cell_type": "code",
   "execution_count": 46,
   "metadata": {},
   "outputs": [
    {
     "data": {
      "text/plain": [
       "(100,)"
      ]
     },
     "execution_count": 46,
     "metadata": {},
     "output_type": "execute_result"
    }
   ],
   "source": [
    "model.wv[vocab[0]].shape"
   ]
  },
  {
   "cell_type": "markdown",
   "metadata": {},
   "source": [
    "## Evaluate Word Embedding"
   ]
  },
  {
   "cell_type": "code",
   "execution_count": 47,
   "metadata": {},
   "outputs": [],
   "source": [
    "path_for_wordsim353 = \"./EnglishWordSimilarityDataset/wordsim_353.csv\"\n",
    "path_for_simlex999 = \"./EnglishWordSimilarityDataset/simlex_999.csv\"\n",
    "path_for_card660 = \"./EnglishWordSimilarityDataset/card_660.csv\""
   ]
  },
  {
   "cell_type": "code",
   "execution_count": 48,
   "metadata": {},
   "outputs": [],
   "source": [
    "def cos_sim(a, b) :\n",
    "    return np.dot(a, b)/(np.linalg.norm(a)*np.linalg.norm(b))"
   ]
  },
  {
   "cell_type": "code",
   "execution_count": 49,
   "metadata": {
    "scrolled": true
   },
   "outputs": [
    {
     "name": "stdout",
     "output_type": "stream",
     "text": [
      "\n",
      "Load Word Similarity Score from ./EnglishWordSimilarityDataset/wordsim_353.csv\n",
      "- Pearson Corr: -0.021741, P-value: 0.71332\n",
      "- Spearman Corr: -0.047402, P-value: 0.42291\n",
      "\n",
      "Load Word Similarity Score from ./EnglishWordSimilarityDataset/simlex_999.csv\n",
      "- Pearson Corr: 0.09763, P-value: 0.0026606\n",
      "- Spearman Corr: 0.094544, P-value: 0.0036254\n",
      "\n",
      "Load Word Similarity Score from ./EnglishWordSimilarityDataset/card_660.csv\n",
      "- Pearson Corr: -0.074508, P-value: 0.64773\n",
      "- Spearman Corr: -0.12451, P-value: 0.44399\n"
     ]
    }
   ],
   "source": [
    "for path_for_word_sim in [path_for_wordsim353, path_for_simlex999, path_for_card660] :\n",
    "    \n",
    "    # Load Word Similarity DataSet\n",
    "    df_word_sim = pd.read_csv(path_for_word_sim)\n",
    "    print(f\"\\nLoad Word Similarity Score from {path_for_word_sim}\")\n",
    "    \n",
    "    # Calculate Cosine Similarity Score\n",
    "    df_word_sim = df_word_sim[(df_word_sim['word1'].isin(vocab))&(df_word_sim[\"word2\"].isin(vocab))]\n",
    "    df_word_sim[\"cosim\"] = df_word_sim.apply(lambda x: cos_sim(model.wv[x[\"word1\"]], model.wv[x[\"word2\"]]), axis=1)\n",
    "\n",
    "    # Word Embedding Evaluation\n",
    "    pearson, p_value = pearsonr(df_word_sim.score.values, df_word_sim.cosim.values)\n",
    "    print(f\"- Pearson Corr: {pearson:.5}, P-value: {p_value:.5}\")\n",
    "    spearman, p_value = spearmanr(df_word_sim.score.values, df_word_sim.cosim.values)\n",
    "    print(f\"- Spearman Corr: {spearman:.5}, P-value: {p_value:.5}\")\n"
   ]
  },
  {
   "cell_type": "code",
   "execution_count": null,
   "metadata": {},
   "outputs": [],
   "source": []
  }
 ],
 "metadata": {
  "kernelspec": {
   "display_name": "Python 3",
   "language": "python",
   "name": "python3"
  },
  "language_info": {
   "codemirror_mode": {
    "name": "ipython",
    "version": 3
   },
   "file_extension": ".py",
   "mimetype": "text/x-python",
   "name": "python",
   "nbconvert_exporter": "python",
   "pygments_lexer": "ipython3",
   "version": "3.7.3"
  },
  "toc": {
   "base_numbering": 1,
   "nav_menu": {},
   "number_sections": true,
   "sideBar": true,
   "skip_h1_title": false,
   "title_cell": "Table of Contents",
   "title_sidebar": "Contents",
   "toc_cell": false,
   "toc_position": {},
   "toc_section_display": true,
   "toc_window_display": false
  }
 },
 "nbformat": 4,
 "nbformat_minor": 2
}
