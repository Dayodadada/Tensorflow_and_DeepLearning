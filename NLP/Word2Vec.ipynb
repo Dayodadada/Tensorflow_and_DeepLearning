{
 "cells": [
  {
   "cell_type": "markdown",
   "metadata": {},
   "source": [
    "# Word2Vec\n",
    "- CBOW or Skip Gram"
   ]
  },
  {
   "cell_type": "markdown",
   "metadata": {},
   "source": [
    "## Import Packages"
   ]
  },
  {
   "cell_type": "code",
   "execution_count": 84,
   "metadata": {},
   "outputs": [],
   "source": [
    "# import tensorflow as tf\n",
    "import tensorflow.compat.v1 as tf\n",
    "tf.disable_v2_behavior()\n",
    "import numpy as np\n",
    "from tqdm import tqdm_notebook\n",
    "from nltk.corpus import stopwords"
   ]
  },
  {
   "cell_type": "markdown",
   "metadata": {},
   "source": [
    "## Configurations"
   ]
  },
  {
   "cell_type": "code",
   "execution_count": 85,
   "metadata": {},
   "outputs": [],
   "source": [
    "hyper = {\n",
    "    \"emb_size\":100,\n",
    "    \"window_size\": 5,\n",
    "    \"min_count\":1,\n",
    "    \"sg\":0,\n",
    "    \"negative_size\": 5,\n",
    "    \"ns_exponent\": 0.75,\n",
    "    \"cbow_mean\":1,\n",
    "    \"iter\":10, #epochs\n",
    "    \"alpha\":0.025, # initial learning rate\n",
    "    \"sample\": 0.00001, #defualt=0.001\n",
    "    \"vocab_size\":0,\n",
    "    \"batch_size\":512\n",
    "}"
   ]
  },
  {
   "cell_type": "code",
   "execution_count": 86,
   "metadata": {
    "scrolled": true
   },
   "outputs": [],
   "source": [
    "stopwords_en = stopwords.words('english')"
   ]
  },
  {
   "cell_type": "markdown",
   "metadata": {},
   "source": [
    "## Load Dataset\n",
    "- IMDB 영화 리뷰 데이터\n",
    "    - 텍스트 분류 중 감정 분류 모델 연습용으로 쓰임\n",
    "    - Label: 영화 리뷰가 긍정이면 1, 부정이면 0\n",
    "- word embedding을 생성하는데 적절한 데이터는 아닌것 같지만 임시로 사용한다."
   ]
  },
  {
   "cell_type": "code",
   "execution_count": 87,
   "metadata": {},
   "outputs": [
    {
     "name": "stdout",
     "output_type": "stream",
     "text": [
      "X_train: (25000,), y_train: (25000,)\n",
      "X_test: (25000,), y_test: (25000,)\n"
     ]
    }
   ],
   "source": [
    "(x_train, y_train), (x_test, y_test) = tf.keras.datasets.imdb.load_data(\n",
    "    num_words=None, # max number of words to include\n",
    "    skip_top=0, # skip the top N most frequently occurring words\n",
    ")\n",
    "print(f\"X_train: {x_train.shape}, y_train: {y_train.shape}\")\n",
    "print(f\"X_test: {x_test.shape}, y_test: {y_test.shape}\")"
   ]
  },
  {
   "cell_type": "code",
   "execution_count": 88,
   "metadata": {},
   "outputs": [
    {
     "name": "stdout",
     "output_type": "stream",
     "text": [
      "The num of categories: 2\n"
     ]
    }
   ],
   "source": [
    "print(f\"The num of categories: {len(set(y_train))}\")"
   ]
  },
  {
   "cell_type": "code",
   "execution_count": 89,
   "metadata": {
    "scrolled": false
   },
   "outputs": [
    {
     "name": "stdout",
     "output_type": "stream",
     "text": [
      "The num of words: 88584\n"
     ]
    },
    {
     "data": {
      "text/plain": [
       "(1408, 'woods')"
      ]
     },
     "execution_count": 89,
     "metadata": {},
     "output_type": "execute_result"
    }
   ],
   "source": [
    "word2index = tf.keras.datasets.imdb.get_word_index()\n",
    "index2word = {}\n",
    "for word, index in word2index.items() :\n",
    "    index2word[index] = word\n",
    "\n",
    "print(f\"The num of words: {len(word2index)}\")\n",
    "word2index[\"woods\"], index2word[1408]"
   ]
  },
  {
   "cell_type": "code",
   "execution_count": 90,
   "metadata": {},
   "outputs": [
    {
     "data": {
      "text/plain": [
       "88584"
      ]
     },
     "execution_count": 90,
     "metadata": {},
     "output_type": "execute_result"
    }
   ],
   "source": [
    "len(word2index.values())"
   ]
  },
  {
   "cell_type": "markdown",
   "metadata": {},
   "source": [
    "### Change from index to word"
   ]
  },
  {
   "cell_type": "code",
   "execution_count": 91,
   "metadata": {},
   "outputs": [],
   "source": [
    "def change_from_index_to_word(index_list) :\n",
    "    word_list = []\n",
    "    for index in index_list :\n",
    "        if index in index2word :\n",
    "            word_list.append(index2word[index])\n",
    "        else :\n",
    "            print(f\"{index} is not exist in index2word!\")\n",
    "    return word_list"
   ]
  },
  {
   "cell_type": "code",
   "execution_count": 92,
   "metadata": {},
   "outputs": [
    {
     "name": "stdout",
     "output_type": "stream",
     "text": [
      "88585 is not exist in index2word!\n",
      "88586 is not exist in index2word!\n"
     ]
    },
    {
     "data": {
      "text/plain": [
       "25000"
      ]
     },
     "execution_count": 92,
     "metadata": {},
     "output_type": "execute_result"
    }
   ],
   "source": [
    "train_texts = []\n",
    "for indexs in x_train :\n",
    "    train_texts.append(change_from_index_to_word(indexs))\n",
    "len(train_texts)"
   ]
  },
  {
   "cell_type": "markdown",
   "metadata": {},
   "source": [
    "## Functions"
   ]
  },
  {
   "cell_type": "code",
   "execution_count": 93,
   "metadata": {
    "scrolled": true
   },
   "outputs": [],
   "source": [
    "def get_vocabulary(texts, min_count) :\n",
    "\n",
    "    # Calculate frequency of word appearance.\n",
    "    word2count = {}\n",
    "    for text in texts :\n",
    "        for word in text :\n",
    "            if word in word2count :\n",
    "                word2count[word] += 1\n",
    "            else :\n",
    "                word2count[word] = 1\n",
    "    \n",
    "    # Save only words that meet min_count condition.\n",
    "    vocab = [word for word in word2count if word2count[word] >= min_count]\n",
    "    filtered_word2count = {}\n",
    "    for word in vocab :\n",
    "        filtered_word2count[word] = word2count[word]\n",
    "    print(f\"The num of words that meet min_count >= {min_count}: {len(vocab):,}\")\n",
    "    \n",
    "    return filtered_word2count, vocab"
   ]
  },
  {
   "cell_type": "code",
   "execution_count": 94,
   "metadata": {},
   "outputs": [
    {
     "name": "stdout",
     "output_type": "stream",
     "text": [
      "The num of words that meet min_count >= 1: 88,583\n"
     ]
    }
   ],
   "source": [
    "min_count = hyper.get(\"min_count\")\n",
    "word2count, vocab = get_vocabulary(train_texts, min_count)"
   ]
  },
  {
   "cell_type": "code",
   "execution_count": 95,
   "metadata": {},
   "outputs": [],
   "source": [
    "hyper[\"vocab_size\"] = len(vocab)"
   ]
  },
  {
   "cell_type": "code",
   "execution_count": 96,
   "metadata": {},
   "outputs": [],
   "source": [
    "def generate_word_pairs(texts, word2count, vocab, hyper) :\n",
    "    '''\n",
    "    return [[target word(words)], [context word(words)], [negative word(word2)]]\n",
    "    '''\n",
    "    sample = hyper.get(\"sample\")\n",
    "    window_size = hyper.get(\"window_size\")\n",
    "    negative_size = hyper.get(\"negative_size\")\n",
    "    ns_exponent = hyper.get(\"ns_exponent\")\n",
    "    \n",
    "    filtered = 0\n",
    "    training_data = []\n",
    "    negative_prob = np.array(list(word2count.values()))\n",
    "    negative_prob = (negative_prob ** ns_exponent) / np.sum(negative_prob ** ns_exponent)\n",
    "    \n",
    "    for raw_text in tqdm_notebook(texts) :\n",
    "        text = [word for word in raw_text if (word in vocab)&(word not in stopwords_en)]\n",
    "        \n",
    "        if len(text) > 1 :\n",
    "            for i in range(len(text)) :\n",
    "                # get target word\n",
    "                target_word = text[i]\n",
    "                \n",
    "                # probability of excluding word from learning\n",
    "                prob = 1 - np.sqrt(sample / word2count[target_word])\n",
    "                if np.random.rand() < prob :\n",
    "                     continue\n",
    "                        \n",
    "                # get context words\n",
    "                context_words = []\n",
    "                for j in range(i - window_size if i - window_size > 0 else 0, i + window_size if i + window_size <= len(text) - 1 else len(text) - 1) :\n",
    "                    context_words.append(text[j])\n",
    "                    \n",
    "                # get negative words\n",
    "                negative_words = list(np.random.choice(vocab, p=negative_prob, size=negative))\n",
    "                \n",
    "                # append rows\n",
    "                training_data.append([target_word, context_words, negative_words])\n",
    "        else :\n",
    "            filtered += 1\n",
    "                \n",
    "    print(f\"The final training data: {len(training_data)}. Filter {filtered} texts.\")\n",
    "    return training_data"
   ]
  },
  {
   "cell_type": "code",
   "execution_count": 97,
   "metadata": {},
   "outputs": [
    {
     "data": {
      "application/vnd.jupyter.widget-view+json": {
       "model_id": "e85d3f715c18418c8b236536d78f3ce0",
       "version_major": 2,
       "version_minor": 0
      },
      "text/plain": [
       "HBox(children=(IntProgress(value=0, max=25000), HTML(value='')))"
      ]
     },
     "metadata": {},
     "output_type": "display_data"
    },
    {
     "name": "stdout",
     "output_type": "stream",
     "text": [
      "The final training data: 834. Filter 0 texts.\n"
     ]
    }
   ],
   "source": [
    "training_data = generate_word_pairs(train_texts, word2count, vocab, hyper)"
   ]
  },
  {
   "cell_type": "code",
   "execution_count": 42,
   "metadata": {},
   "outputs": [
    {
     "data": {
      "text/plain": [
       "[['deformities',\n",
       "  ['hurriedly',\n",
       "   'activities',\n",
       "   'changed',\n",
       "   'much',\n",
       "   'perverted',\n",
       "   'deformities',\n",
       "   'playboy',\n",
       "   'read',\n",
       "   'mononoke',\n",
       "   'disagrees'],\n",
       "  array(['magnus', 'book', 'midnight', 'right', 'remembering'], dtype='<U51')],\n",
       " ['jon',\n",
       "  [\"actor's\",\n",
       "   'garbage',\n",
       "   'liked',\n",
       "   'watch',\n",
       "   'never',\n",
       "   'jon',\n",
       "   'say',\n",
       "   'columbo',\n",
       "   'attest',\n",
       "   \"captain'\"],\n",
       "  array(['manufacturer', 'nice', 'no', 'gas', 'proposes'], dtype='<U51')],\n",
       " ['east',\n",
       "  ['br',\n",
       "   'leak',\n",
       "   'involve',\n",
       "   'steve',\n",
       "   'marriage',\n",
       "   'east',\n",
       "   'hanged',\n",
       "   'movie',\n",
       "   'whole',\n",
       "   'sub'],\n",
       "  array(['keener', 'you', 'br', 'predictably', 'into'], dtype='<U51')],\n",
       " ['complex',\n",
       "  ['editing',\n",
       "   'line',\n",
       "   'kinda',\n",
       "   \"i'm\",\n",
       "   'match',\n",
       "   'complex',\n",
       "   'zabriskie',\n",
       "   'however',\n",
       "   'everyone',\n",
       "   'females'],\n",
       "  array(['psyched', \"leno's\", 'country', '475', 'remain'], dtype='<U51')],\n",
       " ['shirt',\n",
       "  ['everywhere',\n",
       "   'god',\n",
       "   'viewing',\n",
       "   'simpson',\n",
       "   'industry',\n",
       "   'shirt',\n",
       "   \"yourself'\",\n",
       "   'joking',\n",
       "   'goofy',\n",
       "   '175'],\n",
       "  array(['blend', 'sucked', \"chip's\", 'titans', 'bulgari'], dtype='<U51')],\n",
       " ['saddle',\n",
       "  ['save',\n",
       "   'wakes',\n",
       "   'br',\n",
       "   'al',\n",
       "   'actually',\n",
       "   'saddle',\n",
       "   'br',\n",
       "   'kennedy',\n",
       "   'negative',\n",
       "   'singleton'],\n",
       "  array(['summerize', 'resort', 'whining', 'factory', 'spends'],\n",
       "        dtype='<U51')],\n",
       " ['lovers',\n",
       "  ['series',\n",
       "   'see',\n",
       "   'lacked',\n",
       "   'smile',\n",
       "   'symbols',\n",
       "   'lovers',\n",
       "   'home',\n",
       "   'paz',\n",
       "   'antics',\n",
       "   'lovers'],\n",
       "  array(['likable', 'networks', 'he', 'shining', 'much'], dtype='<U51')],\n",
       " ['flatmate',\n",
       "  ['water',\n",
       "   'burning',\n",
       "   'far',\n",
       "   'roberts',\n",
       "   'along',\n",
       "   'flatmate',\n",
       "   'scatter',\n",
       "   'suited',\n",
       "   'br',\n",
       "   'years'],\n",
       "  array(['claimed', 'pasternak', 'commenting', \"raines'\", 'feel'],\n",
       "        dtype='<U51')],\n",
       " ['usual',\n",
       "  ['spiritual',\n",
       "   'crime',\n",
       "   'least',\n",
       "   'usual',\n",
       "   'br',\n",
       "   'hard',\n",
       "   'russia',\n",
       "   'different'],\n",
       "  array(['orphan', 'turns', 'nuff', 'granddaughter', 'furious'],\n",
       "        dtype='<U51')],\n",
       " ['word',\n",
       "  ['good',\n",
       "   'br',\n",
       "   'sure',\n",
       "   '7',\n",
       "   'forces',\n",
       "   'word',\n",
       "   'standard',\n",
       "   'certainly',\n",
       "   'shefali',\n",
       "   'indeed'],\n",
       "  array(['aimless', 'bit', 'work', \"honchos'\", 'revolves'], dtype='<U51')]]"
      ]
     },
     "execution_count": 42,
     "metadata": {},
     "output_type": "execute_result"
    }
   ],
   "source": [
    "training_data[:10]"
   ]
  },
  {
   "cell_type": "markdown",
   "metadata": {},
   "source": [
    "## Define Model"
   ]
  },
  {
   "cell_type": "code",
   "execution_count": 98,
   "metadata": {},
   "outputs": [
    {
     "data": {
      "text/plain": [
       "{'emb_size': 100,\n",
       " 'window_size': 5,\n",
       " 'min_count': 1,\n",
       " 'sg': 0,\n",
       " 'negative': 5,\n",
       " 'ns_exponent': 0.75,\n",
       " 'cbow_mean': 1,\n",
       " 'iter': 10,\n",
       " 'alpha': 0.025,\n",
       " 'sample': 1e-05,\n",
       " 'vocab_size': 88583,\n",
       " 'batch_size': 512}"
      ]
     },
     "execution_count": 98,
     "metadata": {},
     "output_type": "execute_result"
    }
   ],
   "source": [
    "hyper"
   ]
  },
  {
   "cell_type": "code",
   "execution_count": 99,
   "metadata": {},
   "outputs": [],
   "source": [
    "hyper[\"negative_size\"] = hyper[\"negative\"]"
   ]
  },
  {
   "cell_type": "code",
   "execution_count": 100,
   "metadata": {},
   "outputs": [],
   "source": [
    "window_size = hyper.get(\"window_size\")\n",
    "negative_size = hyper.get(\"negative_size\")\n",
    "vocab_size = hyper.get(\"vocab_size\")\n",
    "emb_size = hyper.get(\"emb_size\")\n",
    "learning_rate = hyper.get(\"alpha\")"
   ]
  },
  {
   "cell_type": "code",
   "execution_count": 126,
   "metadata": {
    "scrolled": true
   },
   "outputs": [],
   "source": [
    "# target = tf.Variable(tf.ones(shape=[1]), dtype=tf.float32)\n",
    "# context = tf.Variable(tf.ones(shape=[2 * window_size]), dtype=tf.float32)\n",
    "# negative = tf.Variable(tf.ones(shape=[negative_size]), dtype=tf.float32)\n",
    "target = tf.placeholder(dtype = tf.int32, shape = [None], name = 'target')\n",
    "context = tf.placeholder(dtype = tf.int32, shape = [None], name = 'context')\n",
    "negative = tf.placeholder(dtype = tf.int32, shape = [None], name = 'negative')\n",
    "\n",
    "W = tf.Variable(\n",
    "    initial_value=tf.random_normal_initializer(\n",
    "        mean=0,\n",
    "        stddev=0.05,\n",
    "    )(\n",
    "        shape=(vocab_size, emb_size), \n",
    "        dtype=tf.float32,\n",
    "    ),\n",
    "    trainable=True,\n",
    "    name=\"W\",\n",
    ")\n",
    "U = tf.Variable(\n",
    "    initial_value=tf.random_normal_initializer(\n",
    "        mean=0,\n",
    "        stddev=0.05,\n",
    "    )(\n",
    "        shape=(vocab_size, emb_size),\n",
    "        dtype=tf.float32,\n",
    "    ),\n",
    "    trainable=True,\n",
    "    name=\"U\",\n",
    ")\n",
    "\n",
    "target_emb = tf.nn.embedding_lookup(U, target, name=\"target_embedding\")\n",
    "context_emb = tf.nn.embedding_lookup(W, context, name=\"context_embedding\")\n",
    "avg_context_emb = tf.reduce_mean(context_emb, axis=0)\n",
    "negative_emb = tf.nn.embedding_lookup(W, negative, name=\"negative_embedding\")\n",
    "\n",
    "context_loss = - tf.reduce_sum(tf.multiply(avg_context_emb, target_emb))\n",
    "negative_loss = tf.math.log(tf.reduce_sum(tf.exp(tf.reduce_sum(tf.multiply(negative_emb, target_emb), axis=1))))\n",
    "tot_loss = tf.add(context_loss, negative_loss, name=\"loss\")\n",
    "\n",
    "optimizer = tf.train.GradientDescentOptimizer(\n",
    "    learning_rate=learning_rate,\n",
    ")\n",
    "\n",
    "init = tf.global_variables_initializer()"
   ]
  },
  {
   "cell_type": "markdown",
   "metadata": {},
   "source": [
    "## Run"
   ]
  },
  {
   "cell_type": "code",
   "execution_count": null,
   "metadata": {},
   "outputs": [],
   "source": [
    "with tf.Session(config=tf_config) as session:\n",
    "    session.run(init)\n",
    "    \n",
    "    session.run(\n",
    "        [], \n",
    "        feed_dict = {}\n",
    "    )"
   ]
  },
  {
   "cell_type": "code",
   "execution_count": null,
   "metadata": {},
   "outputs": [],
   "source": []
  },
  {
   "cell_type": "code",
   "execution_count": null,
   "metadata": {},
   "outputs": [],
   "source": []
  },
  {
   "cell_type": "code",
   "execution_count": null,
   "metadata": {},
   "outputs": [],
   "source": []
  },
  {
   "cell_type": "markdown",
   "metadata": {},
   "source": [
    "Use tf.keras\n",
    "- https://www.kdnuggets.com/2018/04/implementing-deep-learning-methods-feature-engineering-text-data-cbow.html"
   ]
  },
  {
   "cell_type": "code",
   "execution_count": 53,
   "metadata": {},
   "outputs": [],
   "source": [
    "vocab_size=10000\n",
    "emb_size=100\n",
    "window_size=5"
   ]
  },
  {
   "cell_type": "code",
   "execution_count": 60,
   "metadata": {},
   "outputs": [
    {
     "name": "stdout",
     "output_type": "stream",
     "text": [
      "Model: \"sequential_11\"\n",
      "_________________________________________________________________\n",
      "Layer (type)                 Output Shape              Param #   \n",
      "=================================================================\n",
      "embedding_9 (Embedding)      (None, 10, 100)           1000000   \n",
      "_________________________________________________________________\n",
      "lambda_9 (Lambda)            (None, 100)               0         \n",
      "_________________________________________________________________\n",
      "dense_2 (Dense)              (None, 10000)             1010000   \n",
      "=================================================================\n",
      "Total params: 2,010,000\n",
      "Trainable params: 2,010,000\n",
      "Non-trainable params: 0\n",
      "_________________________________________________________________\n"
     ]
    }
   ],
   "source": [
    "cbow = tf.keras.models.Sequential()\n",
    "cbow.add(\n",
    "    tf.keras.layers.Embedding(\n",
    "        input_dim=vocab_size,\n",
    "        output_dim=emb_size,\n",
    "        embeddings_initializer=\"normal\",\n",
    "        input_length=window_size*2,\n",
    "    )\n",
    ")\n",
    "cbow.add(\n",
    "    tf.keras.layers.Lambda(\n",
    "        lambda x: tf.keras.backend.mean(x, axis=1), output_shape=(emb_size,)\n",
    "    )\n",
    ")\n",
    "cbow.add(\n",
    "    tf.keras.layers.Dense(vocab_size, activation=\"softmax\")\n",
    ")\n",
    "cbow.summary()"
   ]
  },
  {
   "cell_type": "code",
   "execution_count": null,
   "metadata": {},
   "outputs": [],
   "source": []
  }
 ],
 "metadata": {
  "kernelspec": {
   "display_name": "Python 3",
   "language": "python",
   "name": "python3"
  },
  "language_info": {
   "codemirror_mode": {
    "name": "ipython",
    "version": 3
   },
   "file_extension": ".py",
   "mimetype": "text/x-python",
   "name": "python",
   "nbconvert_exporter": "python",
   "pygments_lexer": "ipython3",
   "version": "3.7.3"
  },
  "toc": {
   "base_numbering": 1,
   "nav_menu": {},
   "number_sections": true,
   "sideBar": true,
   "skip_h1_title": false,
   "title_cell": "Table of Contents",
   "title_sidebar": "Contents",
   "toc_cell": false,
   "toc_position": {},
   "toc_section_display": true,
   "toc_window_display": false
  }
 },
 "nbformat": 4,
 "nbformat_minor": 2
}
