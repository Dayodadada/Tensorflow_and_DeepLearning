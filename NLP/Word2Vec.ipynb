{
 "cells": [
  {
   "cell_type": "markdown",
   "metadata": {},
   "source": [
    "# Word2Vec\n",
    "- CBOW or Skip Gram"
   ]
  },
  {
   "cell_type": "markdown",
   "metadata": {},
   "source": [
    "## Import Packages"
   ]
  },
  {
   "cell_type": "code",
   "execution_count": 3,
   "metadata": {
    "ExecuteTime": {
     "end_time": "2020-04-08T12:27:18.536973Z",
     "start_time": "2020-04-08T12:27:14.148198Z"
    }
   },
   "outputs": [],
   "source": [
    "import tensorflow as tf"
   ]
  },
  {
   "cell_type": "markdown",
   "metadata": {},
   "source": [
    "## Configurations"
   ]
  },
  {
   "cell_type": "code",
   "execution_count": 4,
   "metadata": {
    "ExecuteTime": {
     "end_time": "2020-04-08T12:27:18.542088Z",
     "start_time": "2020-04-08T12:27:18.539206Z"
    }
   },
   "outputs": [],
   "source": [
    "emb_size = 100\n",
    "window = 5\n",
    "min_count = 5\n",
    "negative = 5\n",
    "sg = 0\n",
    "ns_exponent = 0.75\n",
    "cbow_mean = 1\n",
    "alpha = 0.025# initial learning rate\n",
    "vocab_size = 1000000\n",
    "iter = 10 #epochs\n",
    "batch_size = 512"
   ]
  },
  {
   "cell_type": "markdown",
   "metadata": {},
   "source": [
    "## Load Dataset\n",
    "- IMDB 영화 리뷰 데이터\n",
    "    - 텍스트 분류 중 감정 분류 모델 연습용으로 쓰임\n",
    "    - Label: 영화 리뷰가 긍정이면 1, 부정이면 0\n",
    "- word embedding을 생성하는데 적절한 데이터는 아닌것 같지만 임시로 사용한다."
   ]
  },
  {
   "cell_type": "code",
   "execution_count": 5,
   "metadata": {
    "ExecuteTime": {
     "end_time": "2020-04-08T12:27:22.755479Z",
     "start_time": "2020-04-08T12:27:18.544253Z"
    }
   },
   "outputs": [
    {
     "name": "stdout",
     "output_type": "stream",
     "text": [
      "X_train: (25000,), y_train: (25000,)\n",
      "X_test: (25000,), y_test: (25000,)\n"
     ]
    }
   ],
   "source": [
    "(X_train, y_train), (X_test, y_test) = tf.keras.datasets.imdb.load_data(\n",
    "    num_words=None, # max number of words to include\n",
    "    skip_top=0, # skip the top N most frequently occurring words\n",
    ")\n",
    "print(f\"X_train: {X_train.shape}, y_train: {y_train.shape}\")\n",
    "print(f\"X_test: {X_test.shape}, y_test: {y_test.shape}\")"
   ]
  },
  {
   "cell_type": "code",
   "execution_count": 6,
   "metadata": {
    "ExecuteTime": {
     "end_time": "2020-04-08T12:27:22.764909Z",
     "start_time": "2020-04-08T12:27:22.757816Z"
    }
   },
   "outputs": [
    {
     "name": "stdout",
     "output_type": "stream",
     "text": [
      "The num of categories: 2\n"
     ]
    }
   ],
   "source": [
    "print(f\"The num of categories: {len(set(y_train))}\")"
   ]
  },
  {
   "cell_type": "code",
   "execution_count": 17,
   "metadata": {
    "ExecuteTime": {
     "end_time": "2020-04-08T12:30:09.579742Z",
     "start_time": "2020-04-08T12:30:09.502541Z"
    },
    "scrolled": false
   },
   "outputs": [
    {
     "name": "stdout",
     "output_type": "stream",
     "text": [
      "The num of words: 88584\n"
     ]
    },
    {
     "data": {
      "text/plain": [
       "(1408, 'woods')"
      ]
     },
     "execution_count": 17,
     "metadata": {},
     "output_type": "execute_result"
    }
   ],
   "source": [
    "word2index = tf.keras.datasets.imdb.get_word_index()\n",
    "index2word = {}\n",
    "for word, index in word2index.items() :\n",
    "    index2word[index] = word\n",
    "\n",
    "print(f\"The num of words: {len(word2index)}\")\n",
    "word2index[\"woods\"], index2word[1408]"
   ]
  },
  {
   "cell_type": "markdown",
   "metadata": {},
   "source": [
    "## Functions"
   ]
  },
  {
   "cell_type": "code",
   "execution_count": 18,
   "metadata": {
    "ExecuteTime": {
     "end_time": "2020-04-08T13:17:09.150553Z",
     "start_time": "2020-04-08T13:17:09.147303Z"
    },
    "scrolled": true
   },
   "outputs": [],
   "source": [
    "def get_vocabulary(texts, min_count) :\n",
    "    word2count = {}\n",
    "    for text in texts :\n",
    "        for index in text :\n",
    "            word = index2word[index]\n",
    "            if word in word2count :\n",
    "                word2count[word] += 1\n",
    "            else :\n",
    "                word2count[word] == 1\n",
    "    return word2count"
   ]
  },
  {
   "cell_type": "code",
   "execution_count": null,
   "metadata": {},
   "outputs": [],
   "source": [
    "def generate_context_word_pairs(text, word2count, min_count, window_size) :\n",
    "    valid_text = [index for index in text if word2count[index2word[index]] >= min_count]\n",
    "    \n",
    "    \n",
    "    return training_text"
   ]
  },
  {
   "cell_type": "markdown",
   "metadata": {},
   "source": [
    "## Define Model"
   ]
  },
  {
   "cell_type": "code",
   "execution_count": null,
   "metadata": {},
   "outputs": [],
   "source": [
    "size = \n",
    "window = \n",
    "min_count = \n",
    "negative = \n",
    "sg = \n",
    "ns_exponent = \n",
    "cbow_mean = \n",
    "alpha = # initial learning rate\n",
    "# max_vocab_size = # 그냥 corpus에 있는 전체 단어 수, 최댓값\n",
    "# max_final_vocab = # min_count를 적용한후 남는 단어 수\n",
    "vocab_size = \n",
    "sample = \n",
    "iter = \n",
    "batch_words = "
   ]
  },
  {
   "cell_type": "code",
   "execution_count": 29,
   "metadata": {
    "ExecuteTime": {
     "end_time": "2020-04-08T13:56:10.390073Z",
     "start_time": "2020-04-08T13:56:10.360338Z"
    },
    "scrolled": true
   },
   "outputs": [],
   "source": [
    "max_final_vocab = 10\n",
    "size = 10\n",
    "\n",
    "W = tf.Variable(\n",
    "    initial_value=tf.random_normal_initializer(\n",
    "        mean=0,\n",
    "        stddev=0.05,\n",
    "    )(\n",
    "        shape=(10, 10), \n",
    "        dtype=tf.float32,\n",
    "    ),\n",
    "    trainable=True,\n",
    "    name=\"W\",\n",
    ")"
   ]
  },
  {
   "cell_type": "code",
   "execution_count": 32,
   "metadata": {
    "ExecuteTime": {
     "end_time": "2020-04-08T13:57:47.505043Z",
     "start_time": "2020-04-08T13:57:47.501634Z"
    },
    "scrolled": true
   },
   "outputs": [],
   "source": [
    "A = tf.nn.embedding_lookup(W, [1,4])\n",
    "B = tf.nn.embedding_lookup(W, [1])"
   ]
  },
  {
   "cell_type": "code",
   "execution_count": 33,
   "metadata": {
    "ExecuteTime": {
     "end_time": "2020-04-08T13:57:53.845285Z",
     "start_time": "2020-04-08T13:57:53.841268Z"
    }
   },
   "outputs": [
    {
     "data": {
      "text/plain": [
       "(<tf.Tensor: id=23, shape=(2, 10), dtype=float32, numpy=\n",
       " array([[-0.05850618, -0.05438221,  0.00619331,  0.09209564, -0.00883872,\n",
       "          0.02849239,  0.00030494, -0.06347304,  0.07646883, -0.00669076],\n",
       "        [ 0.0416396 , -0.01405237, -0.04139488, -0.00287567, -0.07536655,\n",
       "          0.0042334 , -0.04447024,  0.04044786,  0.00636787,  0.02329656]],\n",
       "       dtype=float32)>, <tf.Tensor: id=25, shape=(1, 10), dtype=float32, numpy=\n",
       " array([[-0.05850618, -0.05438221,  0.00619331,  0.09209564, -0.00883872,\n",
       "          0.02849239,  0.00030494, -0.06347304,  0.07646883, -0.00669076]],\n",
       "       dtype=float32)>)"
      ]
     },
     "execution_count": 33,
     "metadata": {},
     "output_type": "execute_result"
    }
   ],
   "source": [
    "A, B"
   ]
  },
  {
   "cell_type": "code",
   "execution_count": 36,
   "metadata": {
    "ExecuteTime": {
     "end_time": "2020-04-08T14:02:12.050685Z",
     "start_time": "2020-04-08T14:02:12.044643Z"
    },
    "scrolled": true
   },
   "outputs": [
    {
     "data": {
      "text/plain": [
       "<tf.Tensor: id=26, shape=(2, 10), dtype=float32, numpy=\n",
       "array([[ 3.4229730e-03,  2.9574251e-03,  3.8357128e-05,  8.4816078e-03,\n",
       "         7.8122903e-05,  8.1181637e-04,  9.2991428e-08,  4.0288265e-03,\n",
       "         5.8474825e-03,  4.4766322e-05],\n",
       "       [-2.4361741e-03,  7.6419878e-04, -2.5637148e-04, -2.6483694e-04,\n",
       "         6.6614355e-04,  1.2061966e-04, -1.3560976e-05, -2.5673483e-03,\n",
       "         4.8694393e-04, -1.5587175e-04]], dtype=float32)>"
      ]
     },
     "execution_count": 36,
     "metadata": {},
     "output_type": "execute_result"
    }
   ],
   "source": [
    "tf.multiply(A, B)"
   ]
  },
  {
   "cell_type": "code",
   "execution_count": 41,
   "metadata": {
    "ExecuteTime": {
     "end_time": "2020-04-08T14:05:55.006359Z",
     "start_time": "2020-04-08T14:05:55.000886Z"
    }
   },
   "outputs": [
    {
     "data": {
      "text/plain": [
       "<tf.Tensor: id=35, shape=(2,), dtype=float32, numpy=array([0.5064275, 0.4990859], dtype=float32)>"
      ]
     },
     "execution_count": 41,
     "metadata": {},
     "output_type": "execute_result"
    }
   ],
   "source": [
    "tf.math.sigmoid(tf.reduce_sum(tf.multiply(B, A), axis=1))"
   ]
  },
  {
   "cell_type": "code",
   "execution_count": null,
   "metadata": {},
   "outputs": [],
   "source": [
    "target = \n",
    "context = \n",
    "negative = \n",
    "learning_rate = ?\n",
    "\n",
    "W = tf.Variable(\n",
    "    initial_value=tf.random_normal_initializer(\n",
    "        mean=0,\n",
    "        stddev=0.05,\n",
    "    )(\n",
    "        shape=(vocab_size, size), \n",
    "        dtype=tf.float32,\n",
    "    ),\n",
    "    trainable=True,\n",
    "    name=\"W\",\n",
    ")\n",
    "U = tf.Variable(\n",
    "    initial_value=tf.random_normal_initializer(\n",
    "        mean=0,\n",
    "        stddev=0.05,\n",
    "    )(\n",
    "        shape=(size, vocab_size),\n",
    "        dtype=tf.float32,\n",
    "    )\n",
    "    trainable=True,\n",
    "    name=\"U\",\n",
    ")\n",
    "\n",
    "w = tf.nn.embedding_lookup(W, target, name=\"target_embedding\")\n",
    "u = tf.nn.embedding_lookup(U, context, name=\"context_embedding\")\n",
    "n = tf.nn.embedding_lookup(U, negative, name=\"negative_embedding\")\n",
    "\n",
    "context_loss = -tf.reduce_sum(tf.multiply(u, w), axis=1)\n",
    "negative_loss = tf.reduce_sum(tf.multiply(n, w), axis=1)\n",
    "loss = tf.add(context_loss, negative_loss, name=\"loss\")\n",
    "\n",
    "optimizer = tf.train.GradientDescentOptimizer(\n",
    "    learning_rate=learning_rate,\n",
    ")"
   ]
  },
  {
   "cell_type": "markdown",
   "metadata": {},
   "source": [
    "Use tf.keras\n",
    "- https://www.kdnuggets.com/2018/04/implementing-deep-learning-methods-feature-engineering-text-data-cbow.html"
   ]
  },
  {
   "cell_type": "code",
   "execution_count": 53,
   "metadata": {
    "ExecuteTime": {
     "end_time": "2020-04-08T14:21:30.246671Z",
     "start_time": "2020-04-08T14:21:30.243307Z"
    }
   },
   "outputs": [],
   "source": [
    "vocab_size=10000\n",
    "emb_size=100\n",
    "window_size=5"
   ]
  },
  {
   "cell_type": "code",
   "execution_count": 60,
   "metadata": {
    "ExecuteTime": {
     "end_time": "2020-04-08T14:24:38.041839Z",
     "start_time": "2020-04-08T14:24:38.004373Z"
    }
   },
   "outputs": [
    {
     "name": "stdout",
     "output_type": "stream",
     "text": [
      "Model: \"sequential_11\"\n",
      "_________________________________________________________________\n",
      "Layer (type)                 Output Shape              Param #   \n",
      "=================================================================\n",
      "embedding_9 (Embedding)      (None, 10, 100)           1000000   \n",
      "_________________________________________________________________\n",
      "lambda_9 (Lambda)            (None, 100)               0         \n",
      "_________________________________________________________________\n",
      "dense_2 (Dense)              (None, 10000)             1010000   \n",
      "=================================================================\n",
      "Total params: 2,010,000\n",
      "Trainable params: 2,010,000\n",
      "Non-trainable params: 0\n",
      "_________________________________________________________________\n"
     ]
    }
   ],
   "source": [
    "cbow = tf.keras.models.Sequential()\n",
    "cbow.add(\n",
    "    tf.keras.layers.Embedding(\n",
    "        input_dim=vocab_size,\n",
    "        output_dim=emb_size,\n",
    "        embeddings_initializer=\"normal\",\n",
    "        input_length=window_size*2,\n",
    "    )\n",
    ")\n",
    "cbow.add(\n",
    "    tf.keras.layers.Lambda(\n",
    "        lambda x: tf.keras.backend.mean(x, axis=1), output_shape=(emb_size,)\n",
    "    )\n",
    ")\n",
    "cbow.add(\n",
    "    tf.keras.layers.Dense(vocab_size, activation=\"softmax\")\n",
    ")\n",
    "cbow.summary()"
   ]
  },
  {
   "cell_type": "code",
   "execution_count": null,
   "metadata": {},
   "outputs": [],
   "source": []
  }
 ],
 "metadata": {
  "kernelspec": {
   "display_name": "Python 3",
   "language": "python",
   "name": "python3"
  },
  "language_info": {
   "codemirror_mode": {
    "name": "ipython",
    "version": 3
   },
   "file_extension": ".py",
   "mimetype": "text/x-python",
   "name": "python",
   "nbconvert_exporter": "python",
   "pygments_lexer": "ipython3",
   "version": "3.7.3"
  },
  "toc": {
   "base_numbering": 1,
   "nav_menu": {},
   "number_sections": true,
   "sideBar": true,
   "skip_h1_title": false,
   "title_cell": "Table of Contents",
   "title_sidebar": "Contents",
   "toc_cell": false,
   "toc_position": {},
   "toc_section_display": true,
   "toc_window_display": false
  }
 },
 "nbformat": 4,
 "nbformat_minor": 2
}
