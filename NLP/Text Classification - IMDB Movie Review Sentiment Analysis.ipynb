{
 "cells": [
  {
   "cell_type": "markdown",
   "metadata": {},
   "source": [
    "# IMDB Movie Review Sentiment Analysis\n",
    "- https://wikidocs.net/24586"
   ]
  },
  {
   "cell_type": "markdown",
   "metadata": {},
   "source": [
    "## Import"
   ]
  },
  {
   "cell_type": "code",
   "execution_count": 1,
   "metadata": {
    "ExecuteTime": {
     "end_time": "2020-09-20T01:55:28.112502Z",
     "start_time": "2020-09-20T01:55:23.810039Z"
    }
   },
   "outputs": [],
   "source": [
    "import matplotlib.pyplot as plt\n",
    "import numpy as np\n",
    "import re\n",
    "from tensorflow.keras.datasets import imdb\n",
    "from tensorflow.keras.preprocessing.sequence import pad_sequences\n",
    "from tensorflow.keras.models import Sequential\n",
    "from tensorflow.keras.layers import Dense, GRU, Embedding\n",
    "from tensorflow.keras.callbacks import EarlyStopping, ModelCheckpoint\n",
    "from tensorflow.keras.models import load_model"
   ]
  },
  {
   "cell_type": "markdown",
   "metadata": {},
   "source": [
    "## Load dataset"
   ]
  },
  {
   "cell_type": "code",
   "execution_count": 2,
   "metadata": {
    "ExecuteTime": {
     "end_time": "2020-09-20T01:56:22.679209Z",
     "start_time": "2020-09-20T01:56:18.256157Z"
    }
   },
   "outputs": [
    {
     "data": {
      "text/plain": [
       "((25000,), (25000,), (25000,), (25000,))"
      ]
     },
     "execution_count": 2,
     "metadata": {},
     "output_type": "execute_result"
    }
   ],
   "source": [
    "(x_train, y_train), (x_test, y_test) = imdb.load_data()\n",
    "x_train.shape, y_train.shape, x_test.shape, y_test.shape"
   ]
  },
  {
   "cell_type": "code",
   "execution_count": 3,
   "metadata": {
    "ExecuteTime": {
     "end_time": "2020-09-20T01:56:54.687229Z",
     "start_time": "2020-09-20T01:56:54.681199Z"
    }
   },
   "outputs": [
    {
     "name": "stdout",
     "output_type": "stream",
     "text": [
      "num of categoris: 2\n"
     ]
    }
   ],
   "source": [
    "num_classes = max(y_train) + 1\n",
    "print(f\"num of categoris: {num_classes}\")"
   ]
  },
  {
   "cell_type": "code",
   "execution_count": 6,
   "metadata": {
    "ExecuteTime": {
     "end_time": "2020-09-20T01:57:49.656230Z",
     "start_time": "2020-09-20T01:57:49.400205Z"
    }
   },
   "outputs": [
    {
     "name": "stdout",
     "output_type": "stream",
     "text": [
      "리뷰의 최대 길이 : 2494\n",
      "리뷰의 평균 길이 : 238.71364\n"
     ]
    },
    {
     "data": {
      "image/png": "[encoded data removed]",
      "text/plain": [
       "<Figure size 720x432 with 2 Axes>"
      ]
     },
     "metadata": {
      "needs_background": "light"
     },
     "output_type": "display_data"
    }
   ],
   "source": [
    "len_result = [len(s) for s in x_train]\n",
    "\n",
    "print('리뷰의 최대 길이 : {}'.format(np.max(len_result)))\n",
    "print('리뷰의 평균 길이 : {}'.format(np.mean(len_result)))\n",
    "\n",
    "plt.figure(figsize=(10,6))\n",
    "plt.subplot(1,2,1)\n",
    "plt.boxplot(len_result)\n",
    "plt.subplot(1,2,2)\n",
    "plt.hist(len_result, bins=50)\n",
    "plt.show()"
   ]
  },
  {
   "cell_type": "code",
   "execution_count": 7,
   "metadata": {
    "ExecuteTime": {
     "end_time": "2020-09-20T01:58:25.730965Z",
     "start_time": "2020-09-20T01:58:25.728378Z"
    }
   },
   "outputs": [],
   "source": [
    "import collections"
   ]
  },
  {
   "cell_type": "code",
   "execution_count": 8,
   "metadata": {
    "ExecuteTime": {
     "end_time": "2020-09-20T01:58:39.976532Z",
     "start_time": "2020-09-20T01:58:39.966772Z"
    }
   },
   "outputs": [
    {
     "data": {
      "text/plain": [
       "Counter({1: 12500, 0: 12500})"
      ]
     },
     "execution_count": 8,
     "metadata": {},
     "output_type": "execute_result"
    }
   ],
   "source": [
    "collections.Counter(y_train)"
   ]
  },
  {
   "cell_type": "code",
   "execution_count": 9,
   "metadata": {
    "ExecuteTime": {
     "end_time": "2020-09-20T01:59:33.125716Z",
     "start_time": "2020-09-20T01:59:33.057326Z"
    }
   },
   "outputs": [
    {
     "data": {
      "text/plain": [
       "(88584, 88584)"
      ]
     },
     "execution_count": 9,
     "metadata": {},
     "output_type": "execute_result"
    }
   ],
   "source": [
    "word2index = imdb.get_word_index()\n",
    "index2word = {i:w for w, i in word2index.items()}\n",
    "len(word2index), len(index2word)"
   ]
  },
  {
   "cell_type": "code",
   "execution_count": 11,
   "metadata": {
    "ExecuteTime": {
     "end_time": "2020-09-20T02:00:23.617292Z",
     "start_time": "2020-09-20T02:00:23.613503Z"
    }
   },
   "outputs": [
    {
     "data": {
      "text/plain": [
       "('the', 'and', 'a')"
      ]
     },
     "execution_count": 11,
     "metadata": {},
     "output_type": "execute_result"
    }
   ],
   "source": [
    "# 빈도수가 가장 높은 단어들\n",
    "index2word[1], index2word[2], index2word[3]"
   ]
  },
  {
   "cell_type": "markdown",
   "metadata": {},
   "source": [
    "## Text preprocessing"
   ]
  },
  {
   "cell_type": "code",
   "execution_count": 13,
   "metadata": {
    "ExecuteTime": {
     "end_time": "2020-09-20T02:08:26.316583Z",
     "start_time": "2020-09-20T02:08:22.252911Z"
    }
   },
   "outputs": [
    {
     "data": {
      "text/plain": [
       "((25000,), (25000,), (25000,), (25000,))"
      ]
     },
     "execution_count": 13,
     "metadata": {},
     "output_type": "execute_result"
    }
   ],
   "source": [
    "vocab_size = 10000\n",
    "(x_train, y_train), (x_test, y_test) = imdb.load_data(num_words = vocab_size)\n",
    "x_train.shape, y_train.shape, x_test.shape, y_test.shape"
   ]
  },
  {
   "cell_type": "code",
   "execution_count": 14,
   "metadata": {
    "ExecuteTime": {
     "end_time": "2020-09-20T02:09:29.245645Z",
     "start_time": "2020-09-20T02:09:28.237953Z"
    }
   },
   "outputs": [
    {
     "data": {
      "text/plain": [
       "((25000, 500), (25000, 500))"
      ]
     },
     "execution_count": 14,
     "metadata": {},
     "output_type": "execute_result"
    }
   ],
   "source": [
    "max_len = 500\n",
    "x_train = pad_sequences(x_train, maxlen=max_len)\n",
    "x_test = pad_sequences(x_test, maxlen=max_len)\n",
    "x_train.shape, x_test.shape"
   ]
  },
  {
   "cell_type": "markdown",
   "metadata": {},
   "source": [
    "## Define model"
   ]
  },
  {
   "cell_type": "code",
   "execution_count": 15,
   "metadata": {
    "ExecuteTime": {
     "end_time": "2020-09-20T02:10:43.776154Z",
     "start_time": "2020-09-20T02:10:43.407072Z"
    }
   },
   "outputs": [
    {
     "name": "stdout",
     "output_type": "stream",
     "text": [
      "Model: \"sequential\"\n",
      "_________________________________________________________________\n",
      "Layer (type)                 Output Shape              Param #   \n",
      "=================================================================\n",
      "embedding (Embedding)        (None, None, 100)         1000000   \n",
      "_________________________________________________________________\n",
      "gru (GRU)                    (None, 128)               88320     \n",
      "_________________________________________________________________\n",
      "dense (Dense)                (None, 1)                 129       \n",
      "=================================================================\n",
      "Total params: 1,088,449\n",
      "Trainable params: 1,088,449\n",
      "Non-trainable params: 0\n",
      "_________________________________________________________________\n"
     ]
    }
   ],
   "source": [
    "model = Sequential()\n",
    "model.add(Embedding(vocab_size, 100))\n",
    "model.add(GRU(128))\n",
    "model.add(Dense(1, activation=\"sigmoid\"))\n",
    "model.summary()"
   ]
  },
  {
   "cell_type": "code",
   "execution_count": 16,
   "metadata": {
    "ExecuteTime": {
     "end_time": "2020-09-20T02:11:10.530940Z",
     "start_time": "2020-09-20T02:11:10.527846Z"
    }
   },
   "outputs": [],
   "source": [
    "es = EarlyStopping(monitor='val_loss', mode='min', verbose=1, patience=4)\n",
    "mc = ModelCheckpoint('GRU_model.h5', monitor='val_acc', mode='max', verbose=1, save_best_only=True)"
   ]
  },
  {
   "cell_type": "code",
   "execution_count": 17,
   "metadata": {
    "ExecuteTime": {
     "end_time": "2020-09-20T02:11:50.689849Z",
     "start_time": "2020-09-20T02:11:50.650433Z"
    }
   },
   "outputs": [],
   "source": [
    "model.compile(\n",
    "    optimizer=\"rmsprop\",\n",
    "    loss=\"binary_crossentropy\",\n",
    "    metrics=[\"acc\"]\n",
    ")"
   ]
  },
  {
   "cell_type": "markdown",
   "metadata": {},
   "source": [
    "## Train model"
   ]
  },
  {
   "cell_type": "code",
   "execution_count": 18,
   "metadata": {
    "ExecuteTime": {
     "end_time": "2020-09-20T02:35:12.413028Z",
     "start_time": "2020-09-20T02:12:17.835031Z"
    }
   },
   "outputs": [
    {
     "name": "stdout",
     "output_type": "stream",
     "text": [
      "Train on 20000 samples, validate on 5000 samples\n",
      "Epoch 1/15\n",
      "19980/20000 [============================>.] - ETA: 0s - loss: 0.4923 - acc: 0.7692\n",
      "Epoch 00001: val_acc improved from -inf to 0.86080, saving model to GRU_model.h5\n",
      "20000/20000 [==============================] - 147s 7ms/sample - loss: 0.4922 - acc: 0.7692 - val_loss: 0.3439 - val_acc: 0.8608\n",
      "Epoch 2/15\n",
      "19980/20000 [============================>.] - ETA: 0s - loss: 0.3198 - acc: 0.8726\n",
      "Epoch 00002: val_acc improved from 0.86080 to 0.86820, saving model to GRU_model.h5\n",
      "20000/20000 [==============================] - 183s 9ms/sample - loss: 0.3196 - acc: 0.8727 - val_loss: 0.3233 - val_acc: 0.8682\n",
      "Epoch 3/15\n",
      "19980/20000 [============================>.] - ETA: 0s - loss: 0.2510 - acc: 0.9055\n",
      "Epoch 00003: val_acc did not improve from 0.86820\n",
      "20000/20000 [==============================] - 148s 7ms/sample - loss: 0.2514 - acc: 0.9053 - val_loss: 0.4424 - val_acc: 0.8252\n",
      "Epoch 4/15\n",
      "19980/20000 [============================>.] - ETA: 0s - loss: 0.1965 - acc: 0.9265\n",
      "Epoch 00004: val_acc did not improve from 0.86820\n",
      "20000/20000 [==============================] - 149s 7ms/sample - loss: 0.1966 - acc: 0.9265 - val_loss: 0.5454 - val_acc: 0.8016\n",
      "Epoch 5/15\n",
      "19980/20000 [============================>.] - ETA: 0s - loss: 0.1528 - acc: 0.9448\n",
      "Epoch 00005: val_acc improved from 0.86820 to 0.89200, saving model to GRU_model.h5\n",
      "20000/20000 [==============================] - 149s 7ms/sample - loss: 0.1530 - acc: 0.9449 - val_loss: 0.2653 - val_acc: 0.8920\n",
      "Epoch 6/15\n",
      "19980/20000 [============================>.] - ETA: 0s - loss: 0.1207 - acc: 0.9577\n",
      "Epoch 00006: val_acc improved from 0.89200 to 0.89640, saving model to GRU_model.h5\n",
      "20000/20000 [==============================] - 149s 7ms/sample - loss: 0.1207 - acc: 0.9577 - val_loss: 0.2688 - val_acc: 0.8964\n",
      "Epoch 7/15\n",
      "19980/20000 [============================>.] - ETA: 0s - loss: 0.0913 - acc: 0.9687\n",
      "Epoch 00007: val_acc did not improve from 0.89640\n",
      "20000/20000 [==============================] - 149s 7ms/sample - loss: 0.0912 - acc: 0.9687 - val_loss: 0.3160 - val_acc: 0.8954\n",
      "Epoch 8/15\n",
      "19980/20000 [============================>.] - ETA: 0s - loss: 0.0661 - acc: 0.9791\n",
      "Epoch 00008: val_acc did not improve from 0.89640\n",
      "20000/20000 [==============================] - 150s 7ms/sample - loss: 0.0661 - acc: 0.9791 - val_loss: 0.3515 - val_acc: 0.8784\n",
      "Epoch 9/15\n",
      "19980/20000 [============================>.] - ETA: 0s - loss: 0.0485 - acc: 0.9842\n",
      "Epoch 00009: val_acc did not improve from 0.89640\n",
      "20000/20000 [==============================] - 150s 7ms/sample - loss: 0.0486 - acc: 0.9842 - val_loss: 0.3931 - val_acc: 0.8754\n",
      "Epoch 00009: early stopping\n"
     ]
    }
   ],
   "source": [
    "history = model.fit(\n",
    "    x_train, \n",
    "    y_train, \n",
    "    epochs=15, \n",
    "    callbacks=[es, mc], \n",
    "    batch_size=60, \n",
    "    validation_split=0.2\n",
    ")"
   ]
  },
  {
   "cell_type": "code",
   "execution_count": 21,
   "metadata": {
    "ExecuteTime": {
     "end_time": "2020-09-20T03:04:25.401820Z",
     "start_time": "2020-09-20T03:03:42.268516Z"
    }
   },
   "outputs": [
    {
     "name": "stdout",
     "output_type": "stream",
     "text": [
      "25000/1 - 43s - loss: 0.4173 - acc: 0.8620\n",
      "\n",
      " 테스트 정확도: 0.8620\n"
     ]
    }
   ],
   "source": [
    "print(\"\\n 테스트 정확도: %.4f\" % (model.evaluate(x_test, y_test, verbose=2)[1]))"
   ]
  },
  {
   "cell_type": "markdown",
   "metadata": {},
   "source": [
    "## Predict"
   ]
  },
  {
   "cell_type": "code",
   "execution_count": 23,
   "metadata": {
    "ExecuteTime": {
     "end_time": "2020-09-20T03:04:56.336612Z",
     "start_time": "2020-09-20T03:04:56.330545Z"
    }
   },
   "outputs": [],
   "source": [
    "def sentiment_predict(new_sentence):\n",
    "    # 알파벳과 숫자를 제외하고 모두 제거 및 알파벳 소문자화\n",
    "    new_sentence = re.sub('[^0-9a-zA-Z ]', '', new_sentence).lower()\n",
    "\n",
    "    # 정수 인코딩\n",
    "    encoded = []\n",
    "    for word in new_sentence.split():\n",
    "        # 단어 집합의 크기를 10,000으로 제한.\n",
    "        try :\n",
    "            if word2index[word] <= 10000:\n",
    "                encoded.append(word2index[word]+3)\n",
    "            else:\n",
    "                # 10,000 이상의 숫자는 <unk> 토큰으로 취급.\n",
    "                encoded.append(2)\n",
    "        # 단어 집합에 없는 단어는 <unk> 토큰으로 취급.\n",
    "        except KeyError:\n",
    "            encoded.append(2)\n",
    "\n",
    "    pad_new = pad_sequences([encoded], maxlen = max_len) # 패딩\n",
    "    score = float(model.predict(pad_new)) # 예측\n",
    "    if(score > 0.5):\n",
    "        print(\"{:.2f}% 확률로 긍정 리뷰입니다.\".format(score * 100))\n",
    "    else:\n",
    "        print(\"{:.2f}% 확률로 부정 리뷰입니다.\".format((1 - score) * 100))"
   ]
  },
  {
   "cell_type": "code",
   "execution_count": 28,
   "metadata": {
    "ExecuteTime": {
     "end_time": "2020-09-20T03:05:04.811877Z",
     "start_time": "2020-09-20T03:05:04.432607Z"
    }
   },
   "outputs": [
    {
     "name": "stdout",
     "output_type": "stream",
     "text": [
      "99.82% 확률로 부정 리뷰입니다.\n"
     ]
    }
   ],
   "source": [
    "temp_str = \"This movie was just way too overrated. The fighting was not professional and in slow motion. I was expecting more from a 200 million budget movie. The little sister of T.Challa was just trying too hard to be funny. The story was really dumb as well. Don't watch this movie if you are going because others say its great unless you are a Black Panther fan or Marvels fan.\"\n",
    "sentiment_predict(temp_str)"
   ]
  },
  {
   "cell_type": "code",
   "execution_count": 29,
   "metadata": {
    "ExecuteTime": {
     "end_time": "2020-09-20T03:05:04.878189Z",
     "start_time": "2020-09-20T03:05:04.813645Z"
    }
   },
   "outputs": [
    {
     "name": "stdout",
     "output_type": "stream",
     "text": [
      "93.06% 확률로 긍정 리뷰입니다.\n"
     ]
    }
   ],
   "source": [
    "temp_str = \" I was lucky enough to be included in the group to see the advanced screening in Melbourne on the 15th of April, 2012. And, firstly, I need to say a big thank-you to Disney and Marvel Studios. \\\n",
    "Now, the film... how can I even begin to explain how I feel about this film? It is, as the title of this review says a 'comic book triumph'. I went into the film with very, very high expectations and I was not disappointed. \\\n",
    "Seeing Joss Whedon's direction and envisioning of the film come to life on the big screen is perfect. The script is amazingly detailed and laced with sharp wit a humor. The special effects are literally mind-blowing and the action scenes are both hard-hitting and beautifully choreographed.\"\n",
    "sentiment_predict(temp_str)"
   ]
  },
  {
   "cell_type": "code",
   "execution_count": 30,
   "metadata": {
    "ExecuteTime": {
     "end_time": "2020-09-20T03:05:05.183386Z",
     "start_time": "2020-09-20T03:05:05.117146Z"
    }
   },
   "outputs": [
    {
     "name": "stdout",
     "output_type": "stream",
     "text": [
      "99.76% 확률로 부정 리뷰입니다.\n"
     ]
    }
   ],
   "source": [
    "temp_str = \"Ten minutes in I thought 'this will probably make sense soon'. Thirty minutes in it's getting harder to follow but any time soon all will be made clear. An hour in 'I would be impressed if this will all make sense any time sooner or later'. One and a half hour later my brain gave up trying to make any sense of it all but 'the end of the movie is probably near'. This torture remains for faaaaaaar to long. And please turn down the volume.\"\n",
    "sentiment_predict(temp_str)"
   ]
  },
  {
   "cell_type": "code",
   "execution_count": 31,
   "metadata": {
    "ExecuteTime": {
     "end_time": "2020-09-20T03:05:40.529185Z",
     "start_time": "2020-09-20T03:05:40.462191Z"
    }
   },
   "outputs": [
    {
     "name": "stdout",
     "output_type": "stream",
     "text": [
      "90.02% 확률로 긍정 리뷰입니다.\n"
     ]
    }
   ],
   "source": [
    "temp_str = \"\"\"The first part of the movie was relatively easy to grasp what was going on, with me being able to keep up fairly well with how the story was unfolding.\n",
    "\n",
    "However, an hour in or so and the story started to really accellerate with a pace I couldn't keep up with. I could not process every bit that was going on any longer, leading to further questions raised in my head the longer the movie continued.\n",
    "\n",
    "In the last part of the movie, some questions got answered and started to make sense, but still the vast majority of questions and uncertainties remained.\n",
    "\n",
    "All in all, I definitely need to watch the movie another couple of times to try and grasp certain passages I simply couldn't after watching it the first time.\"\"\"\n",
    "sentiment_predict(temp_str)"
   ]
  },
  {
   "cell_type": "code",
   "execution_count": null,
   "metadata": {},
   "outputs": [],
   "source": []
  }
 ],
 "metadata": {
  "kernelspec": {
   "display_name": "Python 3",
   "language": "python",
   "name": "python3"
  },
  "language_info": {
   "codemirror_mode": {
    "name": "ipython",
    "version": 3
   },
   "file_extension": ".py",
   "mimetype": "text/x-python",
   "name": "python",
   "nbconvert_exporter": "python",
   "pygments_lexer": "ipython3",
   "version": "3.7.3"
  },
  "toc": {
   "base_numbering": 1,
   "nav_menu": {},
   "number_sections": true,
   "sideBar": true,
   "skip_h1_title": false,
   "title_cell": "Table of Contents",
   "title_sidebar": "Contents",
   "toc_cell": false,
   "toc_position": {},
   "toc_section_display": true,
   "toc_window_display": false
  }
 },
 "nbformat": 4,
 "nbformat_minor": 2
}
