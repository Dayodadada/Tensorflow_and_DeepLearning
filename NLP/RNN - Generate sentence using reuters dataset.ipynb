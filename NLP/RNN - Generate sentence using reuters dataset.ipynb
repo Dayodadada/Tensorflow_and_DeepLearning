{
 "cells": [
  {
   "cell_type": "markdown",
   "metadata": {},
   "source": [
    "# Generate sentence using reuters dataset"
   ]
  },
  {
   "cell_type": "markdown",
   "metadata": {},
   "source": [
    "## Import"
   ]
  },
  {
   "cell_type": "code",
   "execution_count": 68,
   "metadata": {
    "ExecuteTime": {
     "end_time": "2020-09-12T05:56:04.749172Z",
     "start_time": "2020-09-12T05:56:04.733396Z"
    }
   },
   "outputs": [],
   "source": [
    "import numpy as np\n",
    "from tqdm import tqdm\n",
    "\n",
    "from tensorflow.keras.datasets import reuters\n",
    "from tensorflow.keras.models import Sequential\n",
    "from tensorflow.keras.layers import Dense, LSTM\n",
    "from tensorflow.keras.utils import to_categorical\n",
    "from tensorflow.keras.preprocessing.sequence import pad_sequences"
   ]
  },
  {
   "cell_type": "markdown",
   "metadata": {},
   "source": [
    "## Load reuters dataset"
   ]
  },
  {
   "cell_type": "code",
   "execution_count": 54,
   "metadata": {
    "ExecuteTime": {
     "end_time": "2020-09-12T05:52:03.501830Z",
     "start_time": "2020-09-12T05:52:02.939877Z"
    }
   },
   "outputs": [
    {
     "data": {
      "text/plain": [
       "((11228,), (11228,), (0,), (0,))"
      ]
     },
     "execution_count": 54,
     "metadata": {},
     "output_type": "execute_result"
    }
   ],
   "source": [
    "(x_train, y_train), (x_test, y_test) = reuters.load_data(\n",
    "    path='reuters.npz', num_words=None, test_split=0,\n",
    ")\n",
    "x_train.shape, y_train.shape, x_test.shape, y_test.shape"
   ]
  },
  {
   "cell_type": "code",
   "execution_count": 55,
   "metadata": {
    "ExecuteTime": {
     "end_time": "2020-09-12T05:52:03.524356Z",
     "start_time": "2020-09-12T05:52:03.503707Z"
    }
   },
   "outputs": [
    {
     "data": {
      "text/plain": [
       "(30979, 30979)"
      ]
     },
     "execution_count": 55,
     "metadata": {},
     "output_type": "execute_result"
    }
   ],
   "source": [
    "word2index = reuters.get_word_index(path=\"reuters_word_index.json\")\n",
    "index2word = {i:w for w, i in word2index.items()}\n",
    "len(word2index), len(index2word)"
   ]
  },
  {
   "cell_type": "code",
   "execution_count": 65,
   "metadata": {
    "ExecuteTime": {
     "end_time": "2020-09-12T05:54:00.455101Z",
     "start_time": "2020-09-12T05:54:00.065505Z"
    }
   },
   "outputs": [
    {
     "data": {
      "text/plain": [
       "(11228, 39)"
      ]
     },
     "execution_count": 65,
     "metadata": {},
     "output_type": "execute_result"
    }
   ],
   "source": [
    "texts = []\n",
    "char_vocab = []\n",
    "for text in x_train:\n",
    "    text = [index2word[w] for w in text if w in index2word]\n",
    "    text = \" \".join(text)\n",
    "    char_vocab = list(set(char_vocab + list(set(text))))\n",
    "    texts.append(text)\n",
    "char_vocab = sorted(char_vocab)\n",
    "len(texts), len(char_vocab)"
   ]
  },
  {
   "cell_type": "code",
   "execution_count": 66,
   "metadata": {
    "ExecuteTime": {
     "end_time": "2020-09-12T05:55:04.901359Z",
     "start_time": "2020-09-12T05:55:04.896883Z"
    }
   },
   "outputs": [
    {
     "data": {
      "text/plain": [
       "(39, 39)"
      ]
     },
     "execution_count": 66,
     "metadata": {},
     "output_type": "execute_result"
    }
   ],
   "source": [
    "index2char = {i:c for i, c in enumerate(char_vocab)}\n",
    "char2index = {c:i for i, c in index2char.items()}\n",
    "len(index2char), len(char2index)"
   ]
  },
  {
   "cell_type": "code",
   "execution_count": 85,
   "metadata": {
    "ExecuteTime": {
     "end_time": "2020-09-12T06:09:34.149693Z",
     "start_time": "2020-09-12T06:09:18.478956Z"
    }
   },
   "outputs": [
    {
     "name": "stderr",
     "output_type": "stream",
     "text": [
      "100%|██████████| 11228/11228 [00:15<00:00, 742.44it/s]"
     ]
    },
    {
     "name": "stdout",
     "output_type": "stream",
     "text": [
      "총 훈련 샘플 수: 8968495\n"
     ]
    },
    {
     "name": "stderr",
     "output_type": "stream",
     "text": [
      "\n"
     ]
    }
   ],
   "source": [
    "length = 11\n",
    "sequences = []\n",
    "for text in tqdm(texts):\n",
    "    len_text = len(text)\n",
    "    for j in range(len_text-length+1):\n",
    "        seq = [char2index[c] for c in text[j:j+length]]\n",
    "        sequences.append(seq)\n",
    "print(f\"총 훈련 샘플 수: {len(sequences)}\")"
   ]
  },
  {
   "cell_type": "code",
   "execution_count": 86,
   "metadata": {
    "ExecuteTime": {
     "end_time": "2020-09-12T06:09:34.156161Z",
     "start_time": "2020-09-12T06:09:34.151945Z"
    }
   },
   "outputs": [
    {
     "data": {
      "text/plain": [
       "[[32, 20, 17, 0, 35, 13, 32, 32, 21, 17, 0],\n",
       " [20, 17, 0, 35, 13, 32, 32, 21, 17, 0, 26],\n",
       " [17, 0, 35, 13, 32, 32, 21, 17, 0, 26, 27],\n",
       " [0, 35, 13, 32, 32, 21, 17, 0, 26, 27, 26],\n",
       " [35, 13, 32, 32, 21, 17, 0, 26, 27, 26, 16],\n",
       " [13, 32, 32, 21, 17, 0, 26, 27, 26, 16, 21],\n",
       " [32, 32, 21, 17, 0, 26, 27, 26, 16, 21, 31],\n",
       " [32, 21, 17, 0, 26, 27, 26, 16, 21, 31, 15],\n",
       " [21, 17, 0, 26, 27, 26, 16, 21, 31, 15, 30],\n",
       " [17, 0, 26, 27, 26, 16, 21, 31, 15, 30, 21]]"
      ]
     },
     "execution_count": 86,
     "metadata": {},
     "output_type": "execute_result"
    }
   ],
   "source": [
    "sequences[:10]"
   ]
  },
  {
   "cell_type": "code",
   "execution_count": 87,
   "metadata": {
    "ExecuteTime": {
     "end_time": "2020-09-12T06:09:42.680039Z",
     "start_time": "2020-09-12T06:09:34.158068Z"
    }
   },
   "outputs": [
    {
     "data": {
      "text/plain": [
       "((8968495, 10), (8968495,))"
      ]
     },
     "execution_count": 87,
     "metadata": {},
     "output_type": "execute_result"
    }
   ],
   "source": [
    "sequences = np.array(sequences)\n",
    "X = sequences[:,:-1]\n",
    "y = sequences[:,-1]\n",
    "X.shape, y.shape"
   ]
  },
  {
   "cell_type": "code",
   "execution_count": 88,
   "metadata": {
    "ExecuteTime": {
     "end_time": "2020-09-12T06:09:42.685257Z",
     "start_time": "2020-09-12T06:09:42.681984Z"
    }
   },
   "outputs": [
    {
     "data": {
      "text/plain": [
       "39"
      ]
     },
     "execution_count": 88,
     "metadata": {},
     "output_type": "execute_result"
    }
   ],
   "source": [
    "vocab_size = len(char_vocab)\n",
    "vocab_size"
   ]
  },
  {
   "cell_type": "code",
   "execution_count": 90,
   "metadata": {
    "ExecuteTime": {
     "end_time": "2020-09-12T08:05:17.664473Z",
     "start_time": "2020-09-12T07:56:25.407298Z"
    }
   },
   "outputs": [
    {
     "name": "stderr",
     "output_type": "stream",
     "text": [
      "100%|██████████| 8968495/8968495 [08:47<00:00, 17005.37it/s] \n"
     ]
    },
    {
     "data": {
      "text/plain": [
       "8968495"
      ]
     },
     "execution_count": 90,
     "metadata": {},
     "output_type": "execute_result"
    }
   ],
   "source": [
    "sequences = []\n",
    "for x in tqdm(X):\n",
    "    sequences.append(to_categorical(x, num_classes=vocab_size))\n",
    "len(sequences)"
   ]
  },
  {
   "cell_type": "code",
   "execution_count": 91,
   "metadata": {
    "ExecuteTime": {
     "end_time": "2020-09-12T08:05:56.859106Z",
     "start_time": "2020-09-12T08:05:17.675578Z"
    }
   },
   "outputs": [
    {
     "data": {
      "text/plain": [
       "((8968495, 10, 39), (8968495, 39))"
      ]
     },
     "execution_count": 91,
     "metadata": {},
     "output_type": "execute_result"
    }
   ],
   "source": [
    "X = np.array(sequences)\n",
    "y = to_categorical(y, num_classes=vocab_size)\n",
    "X.shape, y.shape"
   ]
  },
  {
   "cell_type": "markdown",
   "metadata": {},
   "source": [
    "## build model"
   ]
  },
  {
   "cell_type": "code",
   "execution_count": 92,
   "metadata": {
    "ExecuteTime": {
     "end_time": "2020-09-12T08:06:01.868407Z",
     "start_time": "2020-09-12T08:05:56.873093Z"
    }
   },
   "outputs": [
    {
     "name": "stdout",
     "output_type": "stream",
     "text": [
      "Model: \"sequential\"\n",
      "_________________________________________________________________\n",
      "Layer (type)                 Output Shape              Param #   \n",
      "=================================================================\n",
      "lstm (LSTM)                  (None, 80)                38400     \n",
      "_________________________________________________________________\n",
      "dense (Dense)                (None, 39)                3159      \n",
      "=================================================================\n",
      "Total params: 41,559\n",
      "Trainable params: 41,559\n",
      "Non-trainable params: 0\n",
      "_________________________________________________________________\n"
     ]
    }
   ],
   "source": [
    "model = Sequential()\n",
    "model.add(LSTM(80, input_shape=(X.shape[1], X.shape[2])))\n",
    "model.add(Dense(vocab_size, activation=\"softmax\"))\n",
    "model.summary()"
   ]
  },
  {
   "cell_type": "code",
   "execution_count": 93,
   "metadata": {
    "ExecuteTime": {
     "end_time": "2020-09-12T14:15:32.272955Z",
     "start_time": "2020-09-12T08:06:01.872930Z"
    }
   },
   "outputs": [
    {
     "name": "stdout",
     "output_type": "stream",
     "text": [
      "Train on 8968495 samples\n",
      "Epoch 1/10\n",
      "8968495/8968495 - 1556s - loss: 1.4617 - accuracy: 0.5747\n",
      "Epoch 2/10\n",
      "8968495/8968495 - 1556s - loss: 1.3318 - accuracy: 0.6087\n",
      "Epoch 3/10\n",
      "8968495/8968495 - 8167s - loss: 1.3093 - accuracy: 0.6144\n",
      "Epoch 4/10\n",
      "8968495/8968495 - 1581s - loss: 1.2985 - accuracy: 0.6171\n",
      "Epoch 5/10\n",
      "8968495/8968495 - 1534s - loss: 1.2918 - accuracy: 0.6189\n",
      "Epoch 6/10\n",
      "8968495/8968495 - 1534s - loss: 1.2873 - accuracy: 0.6201\n",
      "Epoch 7/10\n",
      "8968495/8968495 - 1531s - loss: 1.2842 - accuracy: 0.6208\n",
      "Epoch 8/10\n",
      "8968495/8968495 - 1542s - loss: 1.2818 - accuracy: 0.6214\n",
      "Epoch 9/10\n",
      "8968495/8968495 - 1555s - loss: 1.2800 - accuracy: 0.6219\n",
      "Epoch 10/10\n",
      "8968495/8968495 - 1614s - loss: 1.2783 - accuracy: 0.6224\n"
     ]
    },
    {
     "data": {
      "text/plain": [
       "<tensorflow.python.keras.callbacks.History at 0x7fba3ba25780>"
      ]
     },
     "execution_count": 93,
     "metadata": {},
     "output_type": "execute_result"
    }
   ],
   "source": [
    "model.compile(\n",
    "    loss=\"categorical_crossentropy\",\n",
    "    optimizer=\"adam\",\n",
    "    metrics=[\"accuracy\"]\n",
    ")\n",
    "model.fit(X, y, epochs=10, verbose=2)"
   ]
  },
  {
   "cell_type": "markdown",
   "metadata": {},
   "source": [
    "## Predict"
   ]
  },
  {
   "cell_type": "code",
   "execution_count": 94,
   "metadata": {
    "ExecuteTime": {
     "end_time": "2020-09-12T14:15:32.429619Z",
     "start_time": "2020-09-12T14:15:32.343359Z"
    }
   },
   "outputs": [],
   "source": [
    "def sentence_generation(model, char_to_index, seq_length, seed_text, n):\n",
    "# 모델, 인덱스 정보, 문장 길이, 초기 시퀀스, 반복 횟수\n",
    "    init_text = seed_text # 문장 생성에 사용할 초기 시퀀스\n",
    "    sentence = ''\n",
    "\n",
    "    for _ in range(n): # n번 반복\n",
    "        encoded = [char_to_index[char] for char in seed_text] # 현재 시퀀스에 대한 정수 인코딩\n",
    "        encoded = pad_sequences([encoded], maxlen=seq_length, padding='pre') # 데이터에 대한 패딩\n",
    "        encoded = to_categorical(encoded, num_classes=len(char_to_index))\n",
    "        result = model.predict_classes(encoded, verbose=0)\n",
    "        # 입력한 X(현재 시퀀스)에 대해서 y를 예측하고 y(예측한 글자)를 result에 저장.\n",
    "        for char, index in char_to_index.items(): # 만약 예측한 글자와 인덱스와 동일한 글자가 있다면\n",
    "            if index == result: # 해당 글자가 예측 글자이므로 break\n",
    "                break\n",
    "        seed_text=seed_text + char # 현재 시퀀스 + 예측 글자를 현재 시퀀스로 변경\n",
    "        sentence=sentence + char # 예측 글자를 문장에 저장\n",
    "        # for문이므로 이 작업을 다시 반복\n",
    "\n",
    "    sentence = init_text + sentence\n",
    "    return sentence"
   ]
  },
  {
   "cell_type": "code",
   "execution_count": 96,
   "metadata": {
    "ExecuteTime": {
     "end_time": "2020-09-12T14:17:29.694271Z",
     "start_time": "2020-09-12T14:16:51.803690Z"
    }
   },
   "outputs": [
    {
     "name": "stdout",
     "output_type": "stream",
     "text": [
      "citi gets its first female ceott and in this mln in this mln in this mln in this mln in this mln in this mln in this mln in this mln in this mln in this mln in this mln in this mln in this mln in this mln in this mln in this mln in this mln in this mln in this mln in this mln in this mln in this mln in this mln in this mln in this mln in this mln in this mln in this mln in this mln in this mln in this mln in this mln in this mln in this mln in this mln in this mln in this mln in this mln in this mln in this mln in this mln in this mln in this mln in this mln in this mln in this mln in this mln in this mln in this mln in this mln in this mln in this mln in this mln in this mln in this mln in this mln in this mln in this mln in this mln in this mln in this mln in this mln in this mln in this mln in this mln in this mln in this mln in this mln in this mln in this mln in this mln in this mln in this mln in this mln in this mln in this mln in this mln in this mln in this mln in this mln in this mln in this mln in this m\n"
     ]
    }
   ],
   "source": [
    "print(sentence_generation(model, char2index, 10, \"Citi gets its first female CEO\".lower(), 1000))\n"
   ]
  },
  {
   "cell_type": "code",
   "execution_count": null,
   "metadata": {},
   "outputs": [],
   "source": []
  },
  {
   "cell_type": "code",
   "execution_count": null,
   "metadata": {},
   "outputs": [],
   "source": []
  },
  {
   "cell_type": "code",
   "execution_count": null,
   "metadata": {},
   "outputs": [],
   "source": []
  },
  {
   "cell_type": "code",
   "execution_count": null,
   "metadata": {},
   "outputs": [],
   "source": []
  },
  {
   "cell_type": "code",
   "execution_count": null,
   "metadata": {},
   "outputs": [],
   "source": []
  }
 ],
 "metadata": {
  "kernelspec": {
   "display_name": "Python 3",
   "language": "python",
   "name": "python3"
  },
  "language_info": {
   "codemirror_mode": {
    "name": "ipython",
    "version": 3
   },
   "file_extension": ".py",
   "mimetype": "text/x-python",
   "name": "python",
   "nbconvert_exporter": "python",
   "pygments_lexer": "ipython3",
   "version": "3.7.3"
  },
  "toc": {
   "base_numbering": 1,
   "nav_menu": {},
   "number_sections": true,
   "sideBar": true,
   "skip_h1_title": false,
   "title_cell": "Table of Contents",
   "title_sidebar": "Contents",
   "toc_cell": false,
   "toc_position": {},
   "toc_section_display": true,
   "toc_window_display": false
  }
 },
 "nbformat": 4,
 "nbformat_minor": 2
}
