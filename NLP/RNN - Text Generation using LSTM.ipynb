{
 "cells": [
  {
   "cell_type": "markdown",
   "metadata": {},
   "source": [
    "# Text Generation using LSTM\n",
    "- data: https://www.kaggle.com/aashita/nyt-comments"
   ]
  },
  {
   "cell_type": "markdown",
   "metadata": {},
   "source": [
    "## Import"
   ]
  },
  {
   "cell_type": "code",
   "execution_count": 1,
   "metadata": {
    "ExecuteTime": {
     "end_time": "2020-09-08T12:40:02.203286Z",
     "start_time": "2020-09-08T12:39:58.220120Z"
    }
   },
   "outputs": [],
   "source": [
    "import pandas as pd\n",
    "import numpy as np\n",
    "\n",
    "from string import punctuation\n",
    "from tensorflow.keras.preprocessing.text import Tokenizer\n",
    "from tensorflow.keras.preprocessing.sequence import pad_sequences\n",
    "from tensorflow.keras.utils import to_categorical"
   ]
  },
  {
   "cell_type": "code",
   "execution_count": 32,
   "metadata": {
    "ExecuteTime": {
     "end_time": "2020-09-08T13:12:32.941399Z",
     "start_time": "2020-09-08T13:12:32.935817Z"
    }
   },
   "outputs": [],
   "source": [
    "from tensorflow.keras.models import Sequential\n",
    "from tensorflow.keras.layers import Embedding, Dense, LSTM"
   ]
  },
  {
   "cell_type": "markdown",
   "metadata": {},
   "source": [
    "## LSTM을 이용하여 텍스트 생성하기"
   ]
  },
  {
   "cell_type": "markdown",
   "metadata": {},
   "source": [
    "### Load text data"
   ]
  },
  {
   "cell_type": "code",
   "execution_count": 3,
   "metadata": {
    "ExecuteTime": {
     "end_time": "2020-09-08T12:42:06.303468Z",
     "start_time": "2020-09-08T12:42:06.248605Z"
    }
   },
   "outputs": [
    {
     "data": {
      "text/html": [
       "<div>\n",
       "<style scoped>\n",
       "    .dataframe tbody tr th:only-of-type {\n",
       "        vertical-align: middle;\n",
       "    }\n",
       "\n",
       "    .dataframe tbody tr th {\n",
       "        vertical-align: top;\n",
       "    }\n",
       "\n",
       "    .dataframe thead th {\n",
       "        text-align: right;\n",
       "    }\n",
       "</style>\n",
       "<table border=\"1\" class=\"dataframe\">\n",
       "  <thead>\n",
       "    <tr style=\"text-align: right;\">\n",
       "      <th></th>\n",
       "      <th>articleID</th>\n",
       "      <th>articleWordCount</th>\n",
       "      <th>byline</th>\n",
       "      <th>documentType</th>\n",
       "      <th>headline</th>\n",
       "      <th>keywords</th>\n",
       "      <th>multimedia</th>\n",
       "      <th>newDesk</th>\n",
       "      <th>printPage</th>\n",
       "      <th>pubDate</th>\n",
       "      <th>sectionName</th>\n",
       "      <th>snippet</th>\n",
       "      <th>source</th>\n",
       "      <th>typeOfMaterial</th>\n",
       "      <th>webURL</th>\n",
       "    </tr>\n",
       "  </thead>\n",
       "  <tbody>\n",
       "    <tr>\n",
       "      <th>0</th>\n",
       "      <td>5adf6684068401528a2aa69b</td>\n",
       "      <td>781</td>\n",
       "      <td>By JOHN BRANCH</td>\n",
       "      <td>article</td>\n",
       "      <td>Former N.F.L. Cheerleaders’ Settlement Offer: ...</td>\n",
       "      <td>['Workplace Hazards and Violations', 'Football...</td>\n",
       "      <td>68</td>\n",
       "      <td>Sports</td>\n",
       "      <td>0</td>\n",
       "      <td>2018-04-24 17:16:49</td>\n",
       "      <td>Pro Football</td>\n",
       "      <td>“I understand that they could meet with us, pa...</td>\n",
       "      <td>The New York Times</td>\n",
       "      <td>News</td>\n",
       "      <td>https://www.nytimes.com/2018/04/24/sports/foot...</td>\n",
       "    </tr>\n",
       "    <tr>\n",
       "      <th>1</th>\n",
       "      <td>5adf653f068401528a2aa697</td>\n",
       "      <td>656</td>\n",
       "      <td>By LISA FRIEDMAN</td>\n",
       "      <td>article</td>\n",
       "      <td>E.P.A. to Unveil a New Rule. Its Effect: Less ...</td>\n",
       "      <td>['Environmental Protection Agency', 'Pruitt, S...</td>\n",
       "      <td>68</td>\n",
       "      <td>Climate</td>\n",
       "      <td>0</td>\n",
       "      <td>2018-04-24 17:11:21</td>\n",
       "      <td>Unknown</td>\n",
       "      <td>The agency plans to publish a new regulation T...</td>\n",
       "      <td>The New York Times</td>\n",
       "      <td>News</td>\n",
       "      <td>https://www.nytimes.com/2018/04/24/climate/epa...</td>\n",
       "    </tr>\n",
       "    <tr>\n",
       "      <th>2</th>\n",
       "      <td>5adf4626068401528a2aa628</td>\n",
       "      <td>2427</td>\n",
       "      <td>By PETE WELLS</td>\n",
       "      <td>article</td>\n",
       "      <td>The New Noma, Explained</td>\n",
       "      <td>['Restaurants', 'Noma (Copenhagen, Restaurant)...</td>\n",
       "      <td>66</td>\n",
       "      <td>Dining</td>\n",
       "      <td>0</td>\n",
       "      <td>2018-04-24 14:58:44</td>\n",
       "      <td>Unknown</td>\n",
       "      <td>What’s it like to eat at the second incarnatio...</td>\n",
       "      <td>The New York Times</td>\n",
       "      <td>News</td>\n",
       "      <td>https://www.nytimes.com/2018/04/24/dining/noma...</td>\n",
       "    </tr>\n",
       "    <tr>\n",
       "      <th>3</th>\n",
       "      <td>5adf40d2068401528a2aa619</td>\n",
       "      <td>626</td>\n",
       "      <td>By JULIE HIRSCHFELD DAVIS and PETER BAKER</td>\n",
       "      <td>article</td>\n",
       "      <td>Unknown</td>\n",
       "      <td>['Macron, Emmanuel (1977- )', 'Trump, Donald J...</td>\n",
       "      <td>68</td>\n",
       "      <td>Washington</td>\n",
       "      <td>0</td>\n",
       "      <td>2018-04-24 14:35:57</td>\n",
       "      <td>Europe</td>\n",
       "      <td>President Trump welcomed President Emmanuel Ma...</td>\n",
       "      <td>The New York Times</td>\n",
       "      <td>News</td>\n",
       "      <td>https://www.nytimes.com/2018/04/24/world/europ...</td>\n",
       "    </tr>\n",
       "    <tr>\n",
       "      <th>4</th>\n",
       "      <td>5adf3d64068401528a2aa60f</td>\n",
       "      <td>815</td>\n",
       "      <td>By IAN AUSTEN and DAN BILEFSKY</td>\n",
       "      <td>article</td>\n",
       "      <td>Unknown</td>\n",
       "      <td>['Toronto, Ontario, Attack (April, 2018)', 'Mu...</td>\n",
       "      <td>68</td>\n",
       "      <td>Foreign</td>\n",
       "      <td>0</td>\n",
       "      <td>2018-04-24 14:21:21</td>\n",
       "      <td>Canada</td>\n",
       "      <td>Alek Minassian, 25, a resident of Toronto’s Ri...</td>\n",
       "      <td>The New York Times</td>\n",
       "      <td>News</td>\n",
       "      <td>https://www.nytimes.com/2018/04/24/world/canad...</td>\n",
       "    </tr>\n",
       "  </tbody>\n",
       "</table>\n",
       "</div>"
      ],
      "text/plain": [
       "                  articleID  articleWordCount  \\\n",
       "0  5adf6684068401528a2aa69b               781   \n",
       "1  5adf653f068401528a2aa697               656   \n",
       "2  5adf4626068401528a2aa628              2427   \n",
       "3  5adf40d2068401528a2aa619               626   \n",
       "4  5adf3d64068401528a2aa60f               815   \n",
       "\n",
       "                                      byline documentType  \\\n",
       "0                             By JOHN BRANCH      article   \n",
       "1                           By LISA FRIEDMAN      article   \n",
       "2                              By PETE WELLS      article   \n",
       "3  By JULIE HIRSCHFELD DAVIS and PETER BAKER      article   \n",
       "4             By IAN AUSTEN and DAN BILEFSKY      article   \n",
       "\n",
       "                                            headline  \\\n",
       "0  Former N.F.L. Cheerleaders’ Settlement Offer: ...   \n",
       "1  E.P.A. to Unveil a New Rule. Its Effect: Less ...   \n",
       "2                            The New Noma, Explained   \n",
       "3                                            Unknown   \n",
       "4                                            Unknown   \n",
       "\n",
       "                                            keywords  multimedia     newDesk  \\\n",
       "0  ['Workplace Hazards and Violations', 'Football...          68      Sports   \n",
       "1  ['Environmental Protection Agency', 'Pruitt, S...          68     Climate   \n",
       "2  ['Restaurants', 'Noma (Copenhagen, Restaurant)...          66      Dining   \n",
       "3  ['Macron, Emmanuel (1977- )', 'Trump, Donald J...          68  Washington   \n",
       "4  ['Toronto, Ontario, Attack (April, 2018)', 'Mu...          68     Foreign   \n",
       "\n",
       "   printPage              pubDate   sectionName  \\\n",
       "0          0  2018-04-24 17:16:49  Pro Football   \n",
       "1          0  2018-04-24 17:11:21       Unknown   \n",
       "2          0  2018-04-24 14:58:44       Unknown   \n",
       "3          0  2018-04-24 14:35:57        Europe   \n",
       "4          0  2018-04-24 14:21:21        Canada   \n",
       "\n",
       "                                             snippet              source  \\\n",
       "0  “I understand that they could meet with us, pa...  The New York Times   \n",
       "1  The agency plans to publish a new regulation T...  The New York Times   \n",
       "2  What’s it like to eat at the second incarnatio...  The New York Times   \n",
       "3  President Trump welcomed President Emmanuel Ma...  The New York Times   \n",
       "4  Alek Minassian, 25, a resident of Toronto’s Ri...  The New York Times   \n",
       "\n",
       "  typeOfMaterial                                             webURL  \n",
       "0           News  https://www.nytimes.com/2018/04/24/sports/foot...  \n",
       "1           News  https://www.nytimes.com/2018/04/24/climate/epa...  \n",
       "2           News  https://www.nytimes.com/2018/04/24/dining/noma...  \n",
       "3           News  https://www.nytimes.com/2018/04/24/world/europ...  \n",
       "4           News  https://www.nytimes.com/2018/04/24/world/canad...  "
      ]
     },
     "execution_count": 3,
     "metadata": {},
     "output_type": "execute_result"
    }
   ],
   "source": [
    "df = pd.read_csv(\"/Users/user/data/19447_31436_bundle_archive/ArticlesApril2018.csv\")\n",
    "df.head()"
   ]
  },
  {
   "cell_type": "code",
   "execution_count": 4,
   "metadata": {
    "ExecuteTime": {
     "end_time": "2020-09-08T12:42:24.245226Z",
     "start_time": "2020-09-08T12:42:24.240532Z"
    }
   },
   "outputs": [
    {
     "data": {
      "text/plain": [
       "Index(['articleID', 'articleWordCount', 'byline', 'documentType', 'headline',\n",
       "       'keywords', 'multimedia', 'newDesk', 'printPage', 'pubDate',\n",
       "       'sectionName', 'snippet', 'source', 'typeOfMaterial', 'webURL'],\n",
       "      dtype='object')"
      ]
     },
     "execution_count": 4,
     "metadata": {},
     "output_type": "execute_result"
    }
   ],
   "source": [
    "df.columns"
   ]
  },
  {
   "cell_type": "code",
   "execution_count": 8,
   "metadata": {
    "ExecuteTime": {
     "end_time": "2020-09-08T12:43:08.343468Z",
     "start_time": "2020-09-08T12:43:08.338499Z"
    }
   },
   "outputs": [
    {
     "data": {
      "text/plain": [
       "False"
      ]
     },
     "execution_count": 8,
     "metadata": {},
     "output_type": "execute_result"
    }
   ],
   "source": [
    "df[\"headline\"].isnull().values.any() # Null 값이 있는지 확인"
   ]
  },
  {
   "cell_type": "code",
   "execution_count": 10,
   "metadata": {
    "ExecuteTime": {
     "end_time": "2020-09-08T12:44:22.886120Z",
     "start_time": "2020-09-08T12:44:22.881409Z"
    }
   },
   "outputs": [
    {
     "name": "stdout",
     "output_type": "stream",
     "text": [
      "Num of headline: 1324\n"
     ]
    },
    {
     "data": {
      "text/plain": [
       "['Former N.F.L. Cheerleaders’ Settlement Offer: $1 and a Meeting With Goodell',\n",
       " 'E.P.A. to Unveil a New Rule. Its Effect: Less Science in Policymaking.',\n",
       " 'The New Noma, Explained',\n",
       " 'Unknown',\n",
       " 'Unknown']"
      ]
     },
     "execution_count": 10,
     "metadata": {},
     "output_type": "execute_result"
    }
   ],
   "source": [
    "headline = []\n",
    "headline.extend(list(df.headline.values))\n",
    "print(f\"Num of headline: {len(headline)}\")\n",
    "headline[:5]"
   ]
  },
  {
   "cell_type": "code",
   "execution_count": 11,
   "metadata": {
    "ExecuteTime": {
     "end_time": "2020-09-08T12:44:55.288499Z",
     "start_time": "2020-09-08T12:44:55.285148Z"
    }
   },
   "outputs": [
    {
     "name": "stdout",
     "output_type": "stream",
     "text": [
      "Num of headline: 1214\n"
     ]
    }
   ],
   "source": [
    "headline = [t for t in headline if t != \"Unknown\"]\n",
    "print(f\"Num of headline: {len(headline)}\")"
   ]
  },
  {
   "cell_type": "markdown",
   "metadata": {},
   "source": [
    "### Text Preprocessing"
   ]
  },
  {
   "cell_type": "code",
   "execution_count": 12,
   "metadata": {
    "ExecuteTime": {
     "end_time": "2020-09-08T12:47:35.240098Z",
     "start_time": "2020-09-08T12:47:35.236918Z"
    }
   },
   "outputs": [],
   "source": [
    "def repreprocessing(s):\n",
    "    s = s.encode(\"utf8\").decode(\"ascii\", \"ignore\")\n",
    "    # 구두점 제거, 소문자화\n",
    "    return \"\".join(c for c in s if c not in punctuation).lower()"
   ]
  },
  {
   "cell_type": "code",
   "execution_count": 17,
   "metadata": {
    "ExecuteTime": {
     "end_time": "2020-09-08T12:50:08.405757Z",
     "start_time": "2020-09-08T12:50:08.395421Z"
    }
   },
   "outputs": [
    {
     "data": {
      "text/plain": [
       "['former nfl cheerleaders settlement offer 1 and a meeting with goodell',\n",
       " 'epa to unveil a new rule its effect less science in policymaking',\n",
       " 'the new noma explained',\n",
       " 'how a bag of texas dirt  became a times tradition',\n",
       " 'is school a place for selfexpression']"
      ]
     },
     "execution_count": 17,
     "metadata": {},
     "output_type": "execute_result"
    }
   ],
   "source": [
    "texts = [repreprocessing(t) for t in headline]\n",
    "texts[:5]"
   ]
  },
  {
   "cell_type": "code",
   "execution_count": 18,
   "metadata": {
    "ExecuteTime": {
     "end_time": "2020-09-08T12:50:08.576505Z",
     "start_time": "2020-09-08T12:50:08.549011Z"
    }
   },
   "outputs": [
    {
     "name": "stdout",
     "output_type": "stream",
     "text": [
      "Num of words: 3494\n"
     ]
    }
   ],
   "source": [
    "t = Tokenizer()\n",
    "t.fit_on_texts(texts) # 단어 집합(vocabulary)을 만들기\n",
    "vocab_size = len(t.word_index) + 1\n",
    "print(f\"Num of words: {vocab_size}\")"
   ]
  },
  {
   "cell_type": "code",
   "execution_count": 27,
   "metadata": {
    "ExecuteTime": {
     "end_time": "2020-09-08T13:05:08.768263Z",
     "start_time": "2020-09-08T13:05:08.764950Z"
    }
   },
   "outputs": [
    {
     "data": {
      "text/plain": [
       "582"
      ]
     },
     "execution_count": 27,
     "metadata": {},
     "output_type": "execute_result"
    }
   ],
   "source": [
    "t.word_index[\"offer\"]"
   ]
  },
  {
   "cell_type": "code",
   "execution_count": 28,
   "metadata": {
    "ExecuteTime": {
     "end_time": "2020-09-08T13:06:02.546944Z",
     "start_time": "2020-09-08T13:06:02.541784Z"
    }
   },
   "outputs": [
    {
     "data": {
      "text/plain": [
       "(3493, 'offer')"
      ]
     },
     "execution_count": 28,
     "metadata": {},
     "output_type": "execute_result"
    }
   ],
   "source": [
    "index_to_word = {}\n",
    "for key, value in t.word_index.items():\n",
    "    index_to_word[value] = key\n",
    "len(index_to_word), index_to_word[582]"
   ]
  },
  {
   "cell_type": "code",
   "execution_count": 21,
   "metadata": {
    "ExecuteTime": {
     "end_time": "2020-09-08T12:50:50.301829Z",
     "start_time": "2020-09-08T12:50:50.297965Z"
    }
   },
   "outputs": [
    {
     "data": {
      "text/plain": [
       "[[99, 269, 371, 1115, 582, 52, 7, 2, 372, 10, 1116]]"
      ]
     },
     "execution_count": 21,
     "metadata": {},
     "output_type": "execute_result"
    }
   ],
   "source": [
    "t.texts_to_sequences([texts[0]])"
   ]
  },
  {
   "cell_type": "code",
   "execution_count": 23,
   "metadata": {
    "ExecuteTime": {
     "end_time": "2020-09-08T12:51:50.940981Z",
     "start_time": "2020-09-08T12:51:50.913892Z"
    }
   },
   "outputs": [
    {
     "data": {
      "text/plain": [
       "[[99, 269],\n",
       " [99, 269, 371],\n",
       " [99, 269, 371, 1115],\n",
       " [99, 269, 371, 1115, 582],\n",
       " [99, 269, 371, 1115, 582, 52]]"
      ]
     },
     "execution_count": 23,
     "metadata": {},
     "output_type": "execute_result"
    }
   ],
   "source": [
    "sequences = list()\n",
    "\n",
    "for line in texts:\n",
    "    encoded = t.texts_to_sequences([line])[0] # 단어를 정수로 바꿔줌\n",
    "    # 정수로 변환된 기존 텍스트를 학습용으로 변경\n",
    "    # 기존: [99, 269, 371, 1115, 582, 52, 7, 2, 372, 10, 1116]\n",
    "    # 변경: [99, 269], [99, 269, 371], [99, 269, 371, 1115], [99, 269, 371, 1115, 582], ....\n",
    "    for i in range(1, len(encoded)):\n",
    "        sequence = encoded[:i+1]\n",
    "        sequences.append(sequence)\n",
    "\n",
    "sequences[:5]"
   ]
  },
  {
   "cell_type": "code",
   "execution_count": 29,
   "metadata": {
    "ExecuteTime": {
     "end_time": "2020-09-08T13:06:52.493293Z",
     "start_time": "2020-09-08T13:06:52.489191Z"
    }
   },
   "outputs": [
    {
     "name": "stdout",
     "output_type": "stream",
     "text": [
      "텍스트 최대 길이: 24\n"
     ]
    }
   ],
   "source": [
    "max_len = max(len(l) for l in sequences)\n",
    "print(f\"텍스트 최대 길이: {max_len}\")"
   ]
  },
  {
   "cell_type": "code",
   "execution_count": 30,
   "metadata": {
    "ExecuteTime": {
     "end_time": "2020-09-08T13:07:37.430698Z",
     "start_time": "2020-09-08T13:07:37.392342Z"
    }
   },
   "outputs": [
    {
     "data": {
      "text/plain": [
       "array([[  0,   0,   0,   0,   0,   0,   0,   0,   0,   0,   0,   0,   0,\n",
       "          0,   0,   0,   0,   0,   0,   0,   0,   0,  99, 269],\n",
       "       [  0,   0,   0,   0,   0,   0,   0,   0,   0,   0,   0,   0,   0,\n",
       "          0,   0,   0,   0,   0,   0,   0,   0,  99, 269, 371]],\n",
       "      dtype=int32)"
      ]
     },
     "execution_count": 30,
     "metadata": {},
     "output_type": "execute_result"
    }
   ],
   "source": [
    "sequences = pad_sequences(sequences, maxlen=max_len, padding=\"pre\")\n",
    "sequences[:2]"
   ]
  },
  {
   "cell_type": "code",
   "execution_count": 31,
   "metadata": {
    "ExecuteTime": {
     "end_time": "2020-09-08T13:08:00.886167Z",
     "start_time": "2020-09-08T13:08:00.865954Z"
    }
   },
   "outputs": [
    {
     "data": {
      "text/plain": [
       "((7803, 23), (7803, 3494))"
      ]
     },
     "execution_count": 31,
     "metadata": {},
     "output_type": "execute_result"
    }
   ],
   "source": [
    "sequences = np.array(sequences)\n",
    "X = sequences[:,:-1]\n",
    "y = sequences[:,-1]\n",
    "y = to_categorical(y, num_classes=vocab_size)\n",
    "X.shape, y.shape"
   ]
  },
  {
   "cell_type": "markdown",
   "metadata": {},
   "source": [
    "### Build LSTM model"
   ]
  },
  {
   "cell_type": "code",
   "execution_count": 35,
   "metadata": {
    "ExecuteTime": {
     "end_time": "2020-09-08T13:16:27.729797Z",
     "start_time": "2020-09-08T13:16:27.486956Z"
    }
   },
   "outputs": [
    {
     "name": "stdout",
     "output_type": "stream",
     "text": [
      "Model: \"sequential\"\n",
      "_________________________________________________________________\n",
      "Layer (type)                 Output Shape              Param #   \n",
      "=================================================================\n",
      "embedding_1 (Embedding)      (None, 23, 10)            34940     \n",
      "_________________________________________________________________\n",
      "lstm (LSTM)                  (None, 128)               71168     \n",
      "_________________________________________________________________\n",
      "dense (Dense)                (None, 3494)              450726    \n",
      "=================================================================\n",
      "Total params: 556,834\n",
      "Trainable params: 556,834\n",
      "Non-trainable params: 0\n",
      "_________________________________________________________________\n"
     ]
    }
   ],
   "source": [
    "model = Sequential()\n",
    "model.add(Embedding(vocab_size, 10, input_length=max_len-1)) # 각 단어 벡터 크기는 10\n",
    "model.add(LSTM(128))\n",
    "model.add(Dense(vocab_size, activation=\"softmax\"))\n",
    "model.summary()"
   ]
  },
  {
   "cell_type": "code",
   "execution_count": 36,
   "metadata": {
    "ExecuteTime": {
     "end_time": "2020-09-08T13:17:13.592246Z",
     "start_time": "2020-09-08T13:17:13.499898Z"
    }
   },
   "outputs": [],
   "source": [
    "model.compile(\n",
    "    loss=\"categorical_crossentropy\",\n",
    "    optimizer=\"adam\",\n",
    "    metrics=[\"accuracy\"]\n",
    ")"
   ]
  },
  {
   "cell_type": "code",
   "execution_count": 37,
   "metadata": {
    "ExecuteTime": {
     "end_time": "2020-09-08T13:35:53.306806Z",
     "start_time": "2020-09-08T13:17:32.878770Z"
    },
    "scrolled": true
   },
   "outputs": [
    {
     "name": "stdout",
     "output_type": "stream",
     "text": [
      "Train on 7803 samples\n",
      "Epoch 1/200\n",
      "7803/7803 - 6s - loss: 7.6329 - accuracy: 0.0283\n",
      "Epoch 2/200\n",
      "7803/7803 - 4s - loss: 7.1025 - accuracy: 0.0304\n",
      "Epoch 3/200\n",
      "7803/7803 - 4s - loss: 6.9609 - accuracy: 0.0351\n",
      "Epoch 4/200\n",
      "7803/7803 - 4s - loss: 6.8215 - accuracy: 0.0399\n",
      "Epoch 5/200\n",
      "7803/7803 - 4s - loss: 6.6555 - accuracy: 0.0451\n",
      "Epoch 6/200\n",
      "7803/7803 - 10s - loss: 6.4773 - accuracy: 0.0472\n",
      "Epoch 7/200\n",
      "7803/7803 - 4s - loss: 6.2839 - accuracy: 0.0519\n",
      "Epoch 8/200\n",
      "7803/7803 - 4s - loss: 6.0884 - accuracy: 0.0573\n",
      "Epoch 9/200\n",
      "7803/7803 - 4s - loss: 5.8974 - accuracy: 0.0646\n",
      "Epoch 10/200\n",
      "7803/7803 - 4s - loss: 5.7170 - accuracy: 0.0696\n",
      "Epoch 11/200\n",
      "7803/7803 - 4s - loss: 5.5439 - accuracy: 0.0724\n",
      "Epoch 12/200\n",
      "7803/7803 - 4s - loss: 5.3796 - accuracy: 0.0765\n",
      "Epoch 13/200\n",
      "7803/7803 - 4s - loss: 5.2217 - accuracy: 0.0821\n",
      "Epoch 14/200\n",
      "7803/7803 - 4s - loss: 5.0730 - accuracy: 0.0916\n",
      "Epoch 15/200\n",
      "7803/7803 - 5s - loss: 4.9260 - accuracy: 0.1012\n",
      "Epoch 16/200\n",
      "7803/7803 - 5s - loss: 4.7891 - accuracy: 0.1094\n",
      "Epoch 17/200\n",
      "7803/7803 - 5s - loss: 4.6499 - accuracy: 0.1267\n",
      "Epoch 18/200\n",
      "7803/7803 - 5s - loss: 4.5218 - accuracy: 0.1419\n",
      "Epoch 19/200\n",
      "7803/7803 - 21s - loss: 4.3955 - accuracy: 0.1557\n",
      "Epoch 20/200\n",
      "7803/7803 - 24s - loss: 4.2729 - accuracy: 0.1698\n",
      "Epoch 21/200\n",
      "7803/7803 - 25s - loss: 4.1535 - accuracy: 0.1869\n",
      "Epoch 22/200\n",
      "7803/7803 - 24s - loss: 4.0379 - accuracy: 0.2083\n",
      "Epoch 23/200\n",
      "7803/7803 - 24s - loss: 3.9656 - accuracy: 0.2224\n",
      "Epoch 24/200\n",
      "7803/7803 - 24s - loss: 3.8477 - accuracy: 0.2425\n",
      "Epoch 25/200\n",
      "7803/7803 - 24s - loss: 3.7355 - accuracy: 0.2570\n",
      "Epoch 26/200\n",
      "7803/7803 - 25s - loss: 3.6362 - accuracy: 0.2812\n",
      "Epoch 27/200\n",
      "7803/7803 - 23s - loss: 3.5450 - accuracy: 0.2953\n",
      "Epoch 28/200\n",
      "7803/7803 - 5s - loss: 3.4563 - accuracy: 0.3130\n",
      "Epoch 29/200\n",
      "7803/7803 - 5s - loss: 3.3702 - accuracy: 0.3247\n",
      "Epoch 30/200\n",
      "7803/7803 - 5s - loss: 3.2875 - accuracy: 0.3399\n",
      "Epoch 31/200\n",
      "7803/7803 - 5s - loss: 3.2053 - accuracy: 0.3563\n",
      "Epoch 32/200\n",
      "7803/7803 - 5s - loss: 3.1296 - accuracy: 0.3672\n",
      "Epoch 33/200\n",
      "7803/7803 - 5s - loss: 3.0540 - accuracy: 0.3838\n",
      "Epoch 34/200\n",
      "7803/7803 - 5s - loss: 2.9809 - accuracy: 0.3940\n",
      "Epoch 35/200\n",
      "7803/7803 - 5s - loss: 2.9121 - accuracy: 0.4052\n",
      "Epoch 36/200\n",
      "7803/7803 - 5s - loss: 2.8423 - accuracy: 0.4256\n",
      "Epoch 37/200\n",
      "7803/7803 - 5s - loss: 2.7743 - accuracy: 0.4373\n",
      "Epoch 38/200\n",
      "7803/7803 - 5s - loss: 2.7111 - accuracy: 0.4521\n",
      "Epoch 39/200\n",
      "7803/7803 - 5s - loss: 2.6513 - accuracy: 0.4600\n",
      "Epoch 40/200\n",
      "7803/7803 - 5s - loss: 2.5898 - accuracy: 0.4719\n",
      "Epoch 41/200\n",
      "7803/7803 - 5s - loss: 2.5303 - accuracy: 0.4844\n",
      "Epoch 42/200\n",
      "7803/7803 - 5s - loss: 2.4757 - accuracy: 0.4939\n",
      "Epoch 43/200\n",
      "7803/7803 - 5s - loss: 2.4202 - accuracy: 0.5043\n",
      "Epoch 44/200\n",
      "7803/7803 - 5s - loss: 2.3659 - accuracy: 0.5107\n",
      "Epoch 45/200\n",
      "7803/7803 - 5s - loss: 2.3143 - accuracy: 0.5261\n",
      "Epoch 46/200\n",
      "7803/7803 - 5s - loss: 2.2629 - accuracy: 0.5357\n",
      "Epoch 47/200\n",
      "7803/7803 - 5s - loss: 2.2128 - accuracy: 0.5438\n",
      "Epoch 48/200\n",
      "7803/7803 - 5s - loss: 2.1649 - accuracy: 0.5567\n",
      "Epoch 49/200\n",
      "7803/7803 - 5s - loss: 2.1188 - accuracy: 0.5609\n",
      "Epoch 50/200\n",
      "7803/7803 - 5s - loss: 2.0729 - accuracy: 0.5714\n",
      "Epoch 51/200\n",
      "7803/7803 - 5s - loss: 2.0290 - accuracy: 0.5831\n",
      "Epoch 52/200\n",
      "7803/7803 - 5s - loss: 1.9830 - accuracy: 0.5879\n",
      "Epoch 53/200\n",
      "7803/7803 - 5s - loss: 1.9405 - accuracy: 0.6007\n",
      "Epoch 54/200\n",
      "7803/7803 - 5s - loss: 1.8967 - accuracy: 0.6101\n",
      "Epoch 55/200\n",
      "7803/7803 - 5s - loss: 1.8583 - accuracy: 0.6198\n",
      "Epoch 56/200\n",
      "7803/7803 - 5s - loss: 1.8166 - accuracy: 0.6230\n",
      "Epoch 57/200\n",
      "7803/7803 - 5s - loss: 1.7744 - accuracy: 0.6368\n",
      "Epoch 58/200\n",
      "7803/7803 - 5s - loss: 1.7375 - accuracy: 0.6458\n",
      "Epoch 59/200\n",
      "7803/7803 - 5s - loss: 1.7010 - accuracy: 0.6526\n",
      "Epoch 60/200\n",
      "7803/7803 - 5s - loss: 1.6645 - accuracy: 0.6608\n",
      "Epoch 61/200\n",
      "7803/7803 - 5s - loss: 1.6274 - accuracy: 0.6694\n",
      "Epoch 62/200\n",
      "7803/7803 - 5s - loss: 1.5943 - accuracy: 0.6763\n",
      "Epoch 63/200\n",
      "7803/7803 - 5s - loss: 1.5549 - accuracy: 0.6815\n",
      "Epoch 64/200\n",
      "7803/7803 - 5s - loss: 1.5207 - accuracy: 0.6951\n",
      "Epoch 65/200\n",
      "7803/7803 - 5s - loss: 1.4856 - accuracy: 0.7001\n",
      "Epoch 66/200\n",
      "7803/7803 - 5s - loss: 1.4558 - accuracy: 0.7056\n",
      "Epoch 67/200\n",
      "7803/7803 - 5s - loss: 1.4227 - accuracy: 0.7132\n",
      "Epoch 68/200\n",
      "7803/7803 - 5s - loss: 1.3920 - accuracy: 0.7211\n",
      "Epoch 69/200\n",
      "7803/7803 - 5s - loss: 1.3605 - accuracy: 0.7277\n",
      "Epoch 70/200\n",
      "7803/7803 - 5s - loss: 1.3329 - accuracy: 0.7341\n",
      "Epoch 71/200\n",
      "7803/7803 - 5s - loss: 1.3019 - accuracy: 0.7414\n",
      "Epoch 72/200\n",
      "7803/7803 - 5s - loss: 1.2721 - accuracy: 0.7450\n",
      "Epoch 73/200\n",
      "7803/7803 - 5s - loss: 1.2460 - accuracy: 0.7518\n",
      "Epoch 74/200\n",
      "7803/7803 - 5s - loss: 1.2160 - accuracy: 0.7583\n",
      "Epoch 75/200\n",
      "7803/7803 - 5s - loss: 1.1896 - accuracy: 0.7633\n",
      "Epoch 76/200\n",
      "7803/7803 - 5s - loss: 1.1628 - accuracy: 0.7705\n",
      "Epoch 77/200\n",
      "7803/7803 - 5s - loss: 1.1355 - accuracy: 0.7723\n",
      "Epoch 78/200\n",
      "7803/7803 - 5s - loss: 1.1120 - accuracy: 0.7787\n",
      "Epoch 79/200\n",
      "7803/7803 - 5s - loss: 1.0863 - accuracy: 0.7826\n",
      "Epoch 80/200\n",
      "7803/7803 - 5s - loss: 1.0610 - accuracy: 0.7887\n",
      "Epoch 81/200\n",
      "7803/7803 - 5s - loss: 1.0395 - accuracy: 0.7930\n",
      "Epoch 82/200\n",
      "7803/7803 - 5s - loss: 1.0162 - accuracy: 0.7979\n",
      "Epoch 83/200\n",
      "7803/7803 - 5s - loss: 0.9923 - accuracy: 0.8037\n",
      "Epoch 84/200\n",
      "7803/7803 - 5s - loss: 0.9708 - accuracy: 0.8056\n",
      "Epoch 85/200\n",
      "7803/7803 - 5s - loss: 0.9474 - accuracy: 0.8099\n",
      "Epoch 86/200\n",
      "7803/7803 - 5s - loss: 0.9296 - accuracy: 0.8156\n",
      "Epoch 87/200\n",
      "7803/7803 - 5s - loss: 0.9077 - accuracy: 0.8185\n",
      "Epoch 88/200\n",
      "7803/7803 - 5s - loss: 0.8870 - accuracy: 0.8215\n",
      "Epoch 89/200\n",
      "7803/7803 - 5s - loss: 0.8688 - accuracy: 0.8257\n",
      "Epoch 90/200\n",
      "7803/7803 - 5s - loss: 0.8469 - accuracy: 0.8280\n",
      "Epoch 91/200\n",
      "7803/7803 - 5s - loss: 0.8300 - accuracy: 0.8343\n",
      "Epoch 92/200\n",
      "7803/7803 - 5s - loss: 0.8111 - accuracy: 0.8380\n",
      "Epoch 93/200\n",
      "7803/7803 - 5s - loss: 0.7934 - accuracy: 0.8395\n",
      "Epoch 94/200\n",
      "7803/7803 - 5s - loss: 0.7752 - accuracy: 0.8447\n",
      "Epoch 95/200\n",
      "7803/7803 - 5s - loss: 0.7591 - accuracy: 0.8452\n",
      "Epoch 96/200\n",
      "7803/7803 - 5s - loss: 0.7443 - accuracy: 0.8476\n",
      "Epoch 97/200\n",
      "7803/7803 - 5s - loss: 0.7275 - accuracy: 0.8525\n",
      "Epoch 98/200\n",
      "7803/7803 - 5s - loss: 0.7092 - accuracy: 0.8584\n",
      "Epoch 99/200\n",
      "7803/7803 - 5s - loss: 0.6959 - accuracy: 0.8579\n",
      "Epoch 100/200\n",
      "7803/7803 - 5s - loss: 0.6843 - accuracy: 0.8633\n",
      "Epoch 101/200\n",
      "7803/7803 - 5s - loss: 0.6654 - accuracy: 0.8653\n",
      "Epoch 102/200\n",
      "7803/7803 - 5s - loss: 0.6525 - accuracy: 0.8672\n",
      "Epoch 103/200\n",
      "7803/7803 - 5s - loss: 0.6378 - accuracy: 0.8706\n",
      "Epoch 104/200\n",
      "7803/7803 - 5s - loss: 0.6260 - accuracy: 0.8722\n",
      "Epoch 105/200\n",
      "7803/7803 - 5s - loss: 0.6122 - accuracy: 0.8743\n",
      "Epoch 106/200\n",
      "7803/7803 - 5s - loss: 0.5991 - accuracy: 0.8789\n",
      "Epoch 107/200\n",
      "7803/7803 - 5s - loss: 0.5879 - accuracy: 0.8788\n",
      "Epoch 108/200\n",
      "7803/7803 - 5s - loss: 0.5762 - accuracy: 0.8821\n",
      "Epoch 109/200\n",
      "7803/7803 - 5s - loss: 0.5634 - accuracy: 0.8826\n",
      "Epoch 110/200\n",
      "7803/7803 - 5s - loss: 0.5504 - accuracy: 0.8857\n",
      "Epoch 111/200\n",
      "7803/7803 - 5s - loss: 0.5388 - accuracy: 0.8891\n",
      "Epoch 112/200\n",
      "7803/7803 - 5s - loss: 0.5329 - accuracy: 0.8894\n",
      "Epoch 113/200\n",
      "7803/7803 - 5s - loss: 0.5187 - accuracy: 0.8925\n",
      "Epoch 114/200\n",
      "7803/7803 - 5s - loss: 0.5106 - accuracy: 0.8920\n",
      "Epoch 115/200\n",
      "7803/7803 - 5s - loss: 0.4991 - accuracy: 0.8943\n",
      "Epoch 116/200\n",
      "7803/7803 - 5s - loss: 0.4900 - accuracy: 0.8965\n",
      "Epoch 117/200\n",
      "7803/7803 - 5s - loss: 0.4807 - accuracy: 0.8971\n",
      "Epoch 118/200\n",
      "7803/7803 - 5s - loss: 0.4714 - accuracy: 0.8989\n",
      "Epoch 119/200\n",
      "7803/7803 - 5s - loss: 0.4630 - accuracy: 0.9003\n",
      "Epoch 120/200\n",
      "7803/7803 - 5s - loss: 0.4570 - accuracy: 0.9027\n",
      "Epoch 121/200\n",
      "7803/7803 - 5s - loss: 0.4604 - accuracy: 0.8985\n",
      "Epoch 122/200\n",
      "7803/7803 - 5s - loss: 0.4441 - accuracy: 0.9041\n",
      "Epoch 123/200\n",
      "7803/7803 - 5s - loss: 0.4319 - accuracy: 0.9054\n",
      "Epoch 124/200\n",
      "7803/7803 - 5s - loss: 0.4257 - accuracy: 0.9076\n",
      "Epoch 125/200\n",
      "7803/7803 - 5s - loss: 0.4188 - accuracy: 0.9062\n",
      "Epoch 126/200\n",
      "7803/7803 - 5s - loss: 0.4118 - accuracy: 0.9088\n",
      "Epoch 127/200\n",
      "7803/7803 - 5s - loss: 0.4032 - accuracy: 0.9076\n",
      "Epoch 128/200\n",
      "7803/7803 - 5s - loss: 0.3973 - accuracy: 0.9099\n",
      "Epoch 129/200\n",
      "7803/7803 - 5s - loss: 0.4098 - accuracy: 0.9090\n",
      "Epoch 130/200\n",
      "7803/7803 - 5s - loss: 0.3939 - accuracy: 0.9097\n",
      "Epoch 131/200\n",
      "7803/7803 - 5s - loss: 0.3852 - accuracy: 0.9103\n",
      "Epoch 132/200\n",
      "7803/7803 - 5s - loss: 0.3791 - accuracy: 0.9121\n"
     ]
    },
    {
     "name": "stdout",
     "output_type": "stream",
     "text": [
      "Epoch 133/200\n",
      "7803/7803 - 5s - loss: 0.3705 - accuracy: 0.9121\n",
      "Epoch 134/200\n",
      "7803/7803 - 5s - loss: 0.3652 - accuracy: 0.9145\n",
      "Epoch 135/200\n",
      "7803/7803 - 5s - loss: 0.3620 - accuracy: 0.9135\n",
      "Epoch 136/200\n",
      "7803/7803 - 5s - loss: 0.3594 - accuracy: 0.9136\n",
      "Epoch 137/200\n",
      "7803/7803 - 5s - loss: 0.3529 - accuracy: 0.9136\n",
      "Epoch 138/200\n",
      "7803/7803 - 5s - loss: 0.3480 - accuracy: 0.9149\n",
      "Epoch 139/200\n",
      "7803/7803 - 5s - loss: 0.3453 - accuracy: 0.9164\n",
      "Epoch 140/200\n",
      "7803/7803 - 5s - loss: 0.3430 - accuracy: 0.9153\n",
      "Epoch 141/200\n",
      "7803/7803 - 5s - loss: 0.3380 - accuracy: 0.9157\n",
      "Epoch 142/200\n",
      "7803/7803 - 5s - loss: 0.3378 - accuracy: 0.9164\n",
      "Epoch 143/200\n",
      "7803/7803 - 5s - loss: 0.3341 - accuracy: 0.9152\n",
      "Epoch 144/200\n",
      "7803/7803 - 5s - loss: 0.3352 - accuracy: 0.9139\n",
      "Epoch 145/200\n",
      "7803/7803 - 5s - loss: 0.3280 - accuracy: 0.9152\n",
      "Epoch 146/200\n",
      "7803/7803 - 5s - loss: 0.3222 - accuracy: 0.9158\n",
      "Epoch 147/200\n",
      "7803/7803 - 5s - loss: 0.3179 - accuracy: 0.9162\n",
      "Epoch 148/200\n",
      "7803/7803 - 5s - loss: 0.3169 - accuracy: 0.9170\n",
      "Epoch 149/200\n",
      "7803/7803 - 5s - loss: 0.3126 - accuracy: 0.9158\n",
      "Epoch 150/200\n",
      "7803/7803 - 5s - loss: 0.3148 - accuracy: 0.9154\n",
      "Epoch 151/200\n",
      "7803/7803 - 5s - loss: 0.3102 - accuracy: 0.9150\n",
      "Epoch 152/200\n",
      "7803/7803 - 5s - loss: 0.3069 - accuracy: 0.9157\n",
      "Epoch 153/200\n",
      "7803/7803 - 5s - loss: 0.3059 - accuracy: 0.9150\n",
      "Epoch 154/200\n",
      "7803/7803 - 5s - loss: 0.3033 - accuracy: 0.9172\n",
      "Epoch 155/200\n",
      "7803/7803 - 5s - loss: 0.3059 - accuracy: 0.9148\n",
      "Epoch 156/200\n",
      "7803/7803 - 5s - loss: 0.2992 - accuracy: 0.9153\n",
      "Epoch 157/200\n",
      "7803/7803 - 5s - loss: 0.2975 - accuracy: 0.9159\n",
      "Epoch 158/200\n",
      "7803/7803 - 5s - loss: 0.2964 - accuracy: 0.9152\n",
      "Epoch 159/200\n",
      "7803/7803 - 5s - loss: 0.2941 - accuracy: 0.9157\n",
      "Epoch 160/200\n",
      "7803/7803 - 5s - loss: 0.2919 - accuracy: 0.9161\n",
      "Epoch 161/200\n",
      "7803/7803 - 5s - loss: 0.2956 - accuracy: 0.9163\n",
      "Epoch 162/200\n",
      "7803/7803 - 5s - loss: 0.3128 - accuracy: 0.9131\n",
      "Epoch 163/200\n",
      "7803/7803 - 5s - loss: 0.3083 - accuracy: 0.9139\n",
      "Epoch 164/200\n",
      "7803/7803 - 5s - loss: 0.2908 - accuracy: 0.9150\n",
      "Epoch 165/200\n",
      "7803/7803 - 5s - loss: 0.2848 - accuracy: 0.9166\n",
      "Epoch 166/200\n",
      "7803/7803 - 5s - loss: 0.2838 - accuracy: 0.9168\n",
      "Epoch 167/200\n",
      "7803/7803 - 5s - loss: 0.2836 - accuracy: 0.9162\n",
      "Epoch 168/200\n",
      "7803/7803 - 5s - loss: 0.2831 - accuracy: 0.9163\n",
      "Epoch 169/200\n",
      "7803/7803 - 5s - loss: 0.2807 - accuracy: 0.9161\n",
      "Epoch 170/200\n",
      "7803/7803 - 5s - loss: 0.2790 - accuracy: 0.9173\n",
      "Epoch 171/200\n",
      "7803/7803 - 5s - loss: 0.2790 - accuracy: 0.9163\n",
      "Epoch 172/200\n",
      "7803/7803 - 5s - loss: 0.2783 - accuracy: 0.9159\n",
      "Epoch 173/200\n",
      "7803/7803 - 5s - loss: 0.2787 - accuracy: 0.9170\n",
      "Epoch 174/200\n",
      "7803/7803 - 5s - loss: 0.2765 - accuracy: 0.9170\n",
      "Epoch 175/200\n",
      "7803/7803 - 5s - loss: 0.2757 - accuracy: 0.9172\n",
      "Epoch 176/200\n",
      "7803/7803 - 5s - loss: 0.2758 - accuracy: 0.9155\n",
      "Epoch 177/200\n",
      "7803/7803 - 5s - loss: 0.2762 - accuracy: 0.9166\n",
      "Epoch 178/200\n",
      "7803/7803 - 5s - loss: 0.2741 - accuracy: 0.9163\n",
      "Epoch 179/200\n",
      "7803/7803 - 5s - loss: 0.2741 - accuracy: 0.9167\n",
      "Epoch 180/200\n",
      "7803/7803 - 5s - loss: 0.2753 - accuracy: 0.9171\n",
      "Epoch 181/200\n",
      "7803/7803 - 5s - loss: 0.2731 - accuracy: 0.9173\n",
      "Epoch 182/200\n",
      "7803/7803 - 5s - loss: 0.2986 - accuracy: 0.9116\n",
      "Epoch 183/200\n",
      "7803/7803 - 5s - loss: 0.3017 - accuracy: 0.9112\n",
      "Epoch 184/200\n",
      "7803/7803 - 5s - loss: 0.3240 - accuracy: 0.9072\n",
      "Epoch 185/200\n",
      "7803/7803 - 5s - loss: 0.2733 - accuracy: 0.9155\n",
      "Epoch 186/200\n",
      "7803/7803 - 5s - loss: 0.2689 - accuracy: 0.9166\n",
      "Epoch 187/200\n",
      "7803/7803 - 5s - loss: 0.2672 - accuracy: 0.9170\n",
      "Epoch 188/200\n",
      "7803/7803 - 5s - loss: 0.2670 - accuracy: 0.9168\n",
      "Epoch 189/200\n",
      "7803/7803 - 5s - loss: 0.2660 - accuracy: 0.9167\n",
      "Epoch 190/200\n",
      "7803/7803 - 5s - loss: 0.2661 - accuracy: 0.9171\n",
      "Epoch 191/200\n",
      "7803/7803 - 5s - loss: 0.2651 - accuracy: 0.9177\n",
      "Epoch 192/200\n",
      "7803/7803 - 5s - loss: 0.2650 - accuracy: 0.9170\n",
      "Epoch 193/200\n",
      "7803/7803 - 5s - loss: 0.2650 - accuracy: 0.9179\n",
      "Epoch 194/200\n",
      "7803/7803 - 5s - loss: 0.2652 - accuracy: 0.9163\n",
      "Epoch 195/200\n",
      "7803/7803 - 5s - loss: 0.2651 - accuracy: 0.9161\n",
      "Epoch 196/200\n",
      "7803/7803 - 5s - loss: 0.2650 - accuracy: 0.9168\n",
      "Epoch 197/200\n",
      "7803/7803 - 5s - loss: 0.2658 - accuracy: 0.9176\n",
      "Epoch 198/200\n",
      "7803/7803 - 5s - loss: 0.2673 - accuracy: 0.9158\n",
      "Epoch 199/200\n",
      "7803/7803 - 5s - loss: 0.2656 - accuracy: 0.9157\n",
      "Epoch 200/200\n",
      "7803/7803 - 5s - loss: 0.2644 - accuracy: 0.9162\n"
     ]
    },
    {
     "data": {
      "text/plain": [
       "<tensorflow.python.keras.callbacks.History at 0x7ff8030d81d0>"
      ]
     },
     "execution_count": 37,
     "metadata": {},
     "output_type": "execute_result"
    }
   ],
   "source": [
    "model.fit(X, y, epochs=200, verbose=2)"
   ]
  },
  {
   "cell_type": "markdown",
   "metadata": {},
   "source": [
    "### Predict"
   ]
  },
  {
   "cell_type": "code",
   "execution_count": 39,
   "metadata": {
    "ExecuteTime": {
     "end_time": "2020-09-08T13:37:10.902533Z",
     "start_time": "2020-09-08T13:37:10.897023Z"
    }
   },
   "outputs": [],
   "source": [
    "def sentence_generation(model, t, current_word, n): # 모델, 토크나이저, 현재 단어, 반복할 횟수\n",
    "    init_word = current_word # 처음 들어온 단어도 마지막에 같이 출력하기위해 저장\n",
    "    sentence = ''\n",
    "    for _ in range(n): # n번 반복\n",
    "        encoded = t.texts_to_sequences([current_word])[0] # 현재 단어에 대한 정수 인코딩\n",
    "        encoded = pad_sequences([encoded], maxlen=23, padding='pre') # 데이터에 대한 패딩\n",
    "        result = model.predict_classes(encoded, verbose=0)\n",
    "    # 입력한 X(현재 단어)에 대해서 y를 예측하고 y(예측한 단어)를 result에 저장.\n",
    "        for word, index in t.word_index.items(): \n",
    "            if index == result: # 만약 예측한 단어와 인덱스와 동일한 단어가 있다면\n",
    "                break # 해당 단어가 예측 단어이므로 break\n",
    "        current_word = current_word + ' '  + word # 현재 단어 + ' ' + 예측 단어를 현재 단어로 변경\n",
    "        sentence = sentence + ' ' + word # 예측 단어를 문장에 저장\n",
    "    # for문이므로 이 행동을 다시 반복\n",
    "    sentence = init_word + sentence\n",
    "    return sentence"
   ]
  },
  {
   "cell_type": "code",
   "execution_count": 40,
   "metadata": {
    "ExecuteTime": {
     "end_time": "2020-09-08T13:37:12.506271Z",
     "start_time": "2020-09-08T13:37:11.950467Z"
    }
   },
   "outputs": [
    {
     "name": "stdout",
     "output_type": "stream",
     "text": [
      "i want to be rich and im not sorry dogs turk\n"
     ]
    }
   ],
   "source": [
    "print(sentence_generation(model, t, 'i', 10))"
   ]
  },
  {
   "cell_type": "code",
   "execution_count": 41,
   "metadata": {
    "ExecuteTime": {
     "end_time": "2020-09-08T13:37:12.921265Z",
     "start_time": "2020-09-08T13:37:12.508181Z"
    }
   },
   "outputs": [
    {
     "name": "stdout",
     "output_type": "stream",
     "text": [
      "how can a doctor grapple with the epidemic of cost use\n"
     ]
    }
   ],
   "source": [
    "print(sentence_generation(model, t, 'how', 10))"
   ]
  },
  {
   "cell_type": "code",
   "execution_count": 51,
   "metadata": {
    "ExecuteTime": {
     "end_time": "2020-09-08T13:38:08.832364Z",
     "start_time": "2020-09-08T13:38:08.546021Z"
    }
   },
   "outputs": [
    {
     "name": "stdout",
     "output_type": "stream",
     "text": [
      "he like to be close to tmobile and sprint wait of tolerance\n"
     ]
    }
   ],
   "source": [
    "print(sentence_generation(model, t, 'he like', 10))"
   ]
  },
  {
   "cell_type": "code",
   "execution_count": 49,
   "metadata": {
    "ExecuteTime": {
     "end_time": "2020-09-08T13:37:58.665339Z",
     "start_time": "2020-09-08T13:37:58.376621Z"
    }
   },
   "outputs": [
    {
     "name": "stdout",
     "output_type": "stream",
     "text": [
      "he wait out sick then apologized for dying and an street tune\n"
     ]
    }
   ],
   "source": [
    "print(sentence_generation(model, t, 'he wait', 10))"
   ]
  },
  {
   "cell_type": "code",
   "execution_count": null,
   "metadata": {},
   "outputs": [],
   "source": []
  }
 ],
 "metadata": {
  "kernelspec": {
   "display_name": "Python 3",
   "language": "python",
   "name": "python3"
  },
  "language_info": {
   "codemirror_mode": {
    "name": "ipython",
    "version": 3
   },
   "file_extension": ".py",
   "mimetype": "text/x-python",
   "name": "python",
   "nbconvert_exporter": "python",
   "pygments_lexer": "ipython3",
   "version": "3.7.3"
  },
  "toc": {
   "base_numbering": 1,
   "nav_menu": {},
   "number_sections": true,
   "sideBar": true,
   "skip_h1_title": false,
   "title_cell": "Table of Contents",
   "title_sidebar": "Contents",
   "toc_cell": false,
   "toc_position": {},
   "toc_section_display": true,
   "toc_window_display": false
  }
 },
 "nbformat": 4,
 "nbformat_minor": 2
}
