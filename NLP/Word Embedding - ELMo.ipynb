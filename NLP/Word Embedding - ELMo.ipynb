{
 "cells": [
  {
   "cell_type": "markdown",
   "metadata": {},
   "source": [
    "# Embeddings from Language Model, ELMo\n",
    "- https://wikidocs.net/33930\n",
    "- 사전 훈련된 언어 모델(Pre-trained language model)을 사용\n",
    "- biLM(Bidirectional Language Model)으로 사전 훈련\n",
    "- ELMo representation - 어떤 단어 w에 대한 모든/각 층의 출력값들을 concatenate + weighted average한 결과\n",
    "- ELMo representation를 입력값으로 목표하던 테스트 진행, 사전 훈련 모델에서 가중치는 고정하지만 각 벡터들을 weighted average할때 필요한 가중치는 학습하게 됨"
   ]
  },
  {
   "cell_type": "markdown",
   "metadata": {},
   "source": [
    "## Import"
   ]
  },
  {
   "cell_type": "code",
   "execution_count": 15,
   "metadata": {
    "ExecuteTime": {
     "end_time": "2020-09-16T12:11:09.417385Z",
     "start_time": "2020-09-16T12:11:09.412876Z"
    },
    "execution": {
     "iopub.execute_input": "2020-09-16T12:20:41.596674Z",
     "iopub.status.busy": "2020-09-16T12:20:41.596324Z",
     "iopub.status.idle": "2020-09-16T12:20:41.630766Z",
     "shell.execute_reply": "2020-09-16T12:20:41.629985Z",
     "shell.execute_reply.started": "2020-09-16T12:20:41.596647Z"
    }
   },
   "outputs": [
    {
     "name": "stderr",
     "output_type": "stream",
     "text": [
      "Using TensorFlow backend.\n"
     ]
    }
   ],
   "source": [
    "import tensorflow_hub as hub\n",
    "import tensorflow as tf\n",
    "from keras import backend as K\n",
    "from keras.models import Model\n",
    "from keras.layers import Dense, Lambda, Input\n",
    "import urllib.request\n",
    "import pandas as pd\n",
    "import numpy as np"
   ]
  },
  {
   "cell_type": "code",
   "execution_count": 2,
   "metadata": {
    "ExecuteTime": {
     "end_time": "2020-09-16T12:09:53.033668Z",
     "start_time": "2020-09-16T12:09:53.030798Z"
    },
    "execution": {
     "iopub.execute_input": "2020-09-16T12:18:41.020008Z",
     "iopub.status.busy": "2020-09-16T12:18:41.019716Z",
     "iopub.status.idle": "2020-09-16T12:18:41.025629Z",
     "shell.execute_reply": "2020-09-16T12:18:41.024899Z",
     "shell.execute_reply.started": "2020-09-16T12:18:41.019984Z"
    }
   },
   "outputs": [
    {
     "name": "stdout",
     "output_type": "stream",
     "text": [
      "1.14.0\n"
     ]
    }
   ],
   "source": [
    "print(tf.__version__) # 1.X 버전 사용"
   ]
  },
  {
   "cell_type": "markdown",
   "metadata": {},
   "source": [
    "## Load dataset"
   ]
  },
  {
   "cell_type": "code",
   "execution_count": 3,
   "metadata": {
    "ExecuteTime": {
     "end_time": "2020-09-16T12:04:29.317463Z",
     "start_time": "2020-09-16T12:04:26.867426Z"
    },
    "execution": {
     "iopub.execute_input": "2020-09-16T12:18:42.862678Z",
     "iopub.status.busy": "2020-09-16T12:18:42.862374Z",
     "iopub.status.idle": "2020-09-16T12:18:43.313034Z",
     "shell.execute_reply": "2020-09-16T12:18:43.312370Z",
     "shell.execute_reply.started": "2020-09-16T12:18:42.862653Z"
    }
   },
   "outputs": [
    {
     "data": {
      "text/html": [
       "<div>\n",
       "<style scoped>\n",
       "    .dataframe tbody tr th:only-of-type {\n",
       "        vertical-align: middle;\n",
       "    }\n",
       "\n",
       "    .dataframe tbody tr th {\n",
       "        vertical-align: top;\n",
       "    }\n",
       "\n",
       "    .dataframe thead th {\n",
       "        text-align: right;\n",
       "    }\n",
       "</style>\n",
       "<table border=\"1\" class=\"dataframe\">\n",
       "  <thead>\n",
       "    <tr style=\"text-align: right;\">\n",
       "      <th></th>\n",
       "      <th>v1</th>\n",
       "      <th>v2</th>\n",
       "      <th>Unnamed: 2</th>\n",
       "      <th>Unnamed: 3</th>\n",
       "      <th>Unnamed: 4</th>\n",
       "    </tr>\n",
       "  </thead>\n",
       "  <tbody>\n",
       "    <tr>\n",
       "      <td>0</td>\n",
       "      <td>ham</td>\n",
       "      <td>Go until jurong point, crazy.. Available only ...</td>\n",
       "      <td>NaN</td>\n",
       "      <td>NaN</td>\n",
       "      <td>NaN</td>\n",
       "    </tr>\n",
       "    <tr>\n",
       "      <td>1</td>\n",
       "      <td>ham</td>\n",
       "      <td>Ok lar... Joking wif u oni...</td>\n",
       "      <td>NaN</td>\n",
       "      <td>NaN</td>\n",
       "      <td>NaN</td>\n",
       "    </tr>\n",
       "    <tr>\n",
       "      <td>2</td>\n",
       "      <td>spam</td>\n",
       "      <td>Free entry in 2 a wkly comp to win FA Cup fina...</td>\n",
       "      <td>NaN</td>\n",
       "      <td>NaN</td>\n",
       "      <td>NaN</td>\n",
       "    </tr>\n",
       "    <tr>\n",
       "      <td>3</td>\n",
       "      <td>ham</td>\n",
       "      <td>U dun say so early hor... U c already then say...</td>\n",
       "      <td>NaN</td>\n",
       "      <td>NaN</td>\n",
       "      <td>NaN</td>\n",
       "    </tr>\n",
       "    <tr>\n",
       "      <td>4</td>\n",
       "      <td>ham</td>\n",
       "      <td>Nah I don't think he goes to usf, he lives aro...</td>\n",
       "      <td>NaN</td>\n",
       "      <td>NaN</td>\n",
       "      <td>NaN</td>\n",
       "    </tr>\n",
       "  </tbody>\n",
       "</table>\n",
       "</div>"
      ],
      "text/plain": [
       "     v1                                                 v2 Unnamed: 2  \\\n",
       "0   ham  Go until jurong point, crazy.. Available only ...        NaN   \n",
       "1   ham                      Ok lar... Joking wif u oni...        NaN   \n",
       "2  spam  Free entry in 2 a wkly comp to win FA Cup fina...        NaN   \n",
       "3   ham  U dun say so early hor... U c already then say...        NaN   \n",
       "4   ham  Nah I don't think he goes to usf, he lives aro...        NaN   \n",
       "\n",
       "  Unnamed: 3 Unnamed: 4  \n",
       "0        NaN        NaN  \n",
       "1        NaN        NaN  \n",
       "2        NaN        NaN  \n",
       "3        NaN        NaN  \n",
       "4        NaN        NaN  "
      ]
     },
     "execution_count": 3,
     "metadata": {},
     "output_type": "execute_result"
    }
   ],
   "source": [
    "urllib.request.urlretrieve(\"https://raw.githubusercontent.com/mohitgupta-omg/Kaggle-SMS-Spam-Collection-Dataset-/master/spam.csv\", filename=\"spam.csv\")\n",
    "data = pd.read_csv('spam.csv', encoding='latin-1')\n",
    "data[:5]"
   ]
  },
  {
   "cell_type": "code",
   "execution_count": 4,
   "metadata": {
    "ExecuteTime": {
     "end_time": "2020-09-16T12:05:52.229617Z",
     "start_time": "2020-09-16T12:05:52.219915Z"
    },
    "execution": {
     "iopub.execute_input": "2020-09-16T12:18:43.314324Z",
     "iopub.status.busy": "2020-09-16T12:18:43.314074Z",
     "iopub.status.idle": "2020-09-16T12:18:43.322791Z",
     "shell.execute_reply": "2020-09-16T12:18:43.322202Z",
     "shell.execute_reply.started": "2020-09-16T12:18:43.314302Z"
    }
   },
   "outputs": [
    {
     "data": {
      "text/plain": [
       "(5572, 5572)"
      ]
     },
     "execution_count": 4,
     "metadata": {},
     "output_type": "execute_result"
    }
   ],
   "source": [
    "data[\"v1\"] = data[\"v1\"].replace([\"ham\", \"spam\"], [0,1])\n",
    "y_data = list(data[\"v1\"])\n",
    "x_data = list(data[\"v2\"])\n",
    "len(x_data), len(y_data)"
   ]
  },
  {
   "cell_type": "code",
   "execution_count": 5,
   "metadata": {
    "ExecuteTime": {
     "end_time": "2020-09-16T12:06:04.383833Z",
     "start_time": "2020-09-16T12:06:04.380721Z"
    },
    "execution": {
     "iopub.execute_input": "2020-09-16T12:18:43.324093Z",
     "iopub.status.busy": "2020-09-16T12:18:43.323858Z",
     "iopub.status.idle": "2020-09-16T12:18:43.328394Z",
     "shell.execute_reply": "2020-09-16T12:18:43.327672Z",
     "shell.execute_reply.started": "2020-09-16T12:18:43.324071Z"
    }
   },
   "outputs": [
    {
     "data": {
      "text/plain": [
       "'Go until jurong point, crazy.. Available only in bugis n great world la e buffet... Cine there got amore wat...'"
      ]
     },
     "execution_count": 5,
     "metadata": {},
     "output_type": "execute_result"
    }
   ],
   "source": [
    "x_data[0]"
   ]
  },
  {
   "cell_type": "code",
   "execution_count": 6,
   "metadata": {
    "ExecuteTime": {
     "end_time": "2020-09-16T12:08:22.747980Z",
     "start_time": "2020-09-16T12:08:22.744636Z"
    },
    "execution": {
     "iopub.execute_input": "2020-09-16T12:18:43.499779Z",
     "iopub.status.busy": "2020-09-16T12:18:43.499517Z",
     "iopub.status.idle": "2020-09-16T12:18:43.503747Z",
     "shell.execute_reply": "2020-09-16T12:18:43.503031Z",
     "shell.execute_reply.started": "2020-09-16T12:18:43.499756Z"
    }
   },
   "outputs": [
    {
     "name": "stdout",
     "output_type": "stream",
     "text": [
      "Num of dataset: 5572, Num of train set: 4457, Num of test set: 1115\n"
     ]
    }
   ],
   "source": [
    "num_train = int(len(x_data) * 0.8)\n",
    "num_test = int(len(x_data) - num_train)\n",
    "print(f\"Num of dataset: {len(x_data)}, Num of train set: {num_train}, Num of test set: {num_test}\")"
   ]
  },
  {
   "cell_type": "code",
   "execution_count": 7,
   "metadata": {
    "ExecuteTime": {
     "end_time": "2020-09-16T12:08:22.904467Z",
     "start_time": "2020-09-16T12:08:22.890020Z"
    },
    "execution": {
     "iopub.execute_input": "2020-09-16T12:18:44.684748Z",
     "iopub.status.busy": "2020-09-16T12:18:44.684446Z",
     "iopub.status.idle": "2020-09-16T12:18:44.700724Z",
     "shell.execute_reply": "2020-09-16T12:18:44.699954Z",
     "shell.execute_reply.started": "2020-09-16T12:18:44.684724Z"
    }
   },
   "outputs": [],
   "source": [
    "x_train = np.asarray(x_data[:num_train])\n",
    "y_train = np.asarray(y_data[:num_train])\n",
    "x_test = np.asarray(x_data[num_train:])\n",
    "y_test = np.asarray(y_data[num_train:])"
   ]
  },
  {
   "cell_type": "markdown",
   "metadata": {},
   "source": [
    "## Load ELMo"
   ]
  },
  {
   "cell_type": "code",
   "execution_count": 16,
   "metadata": {
    "ExecuteTime": {
     "end_time": "2020-09-16T12:03:55.738014Z",
     "start_time": "2020-09-16T12:02:35.277643Z"
    },
    "execution": {
     "iopub.execute_input": "2020-09-16T12:20:49.284079Z",
     "iopub.status.busy": "2020-09-16T12:20:49.283755Z",
     "iopub.status.idle": "2020-09-16T12:20:50.080555Z",
     "shell.execute_reply": "2020-09-16T12:20:50.079761Z",
     "shell.execute_reply.started": "2020-09-16T12:20:49.284053Z"
    }
   },
   "outputs": [],
   "source": [
    "elmo = hub.Module(\"https://tfhub.dev/google/elmo/1\", trainable=True)"
   ]
  },
  {
   "cell_type": "code",
   "execution_count": 17,
   "metadata": {
    "ExecuteTime": {
     "end_time": "2020-09-16T12:03:55.743161Z",
     "start_time": "2020-09-16T12:02:54.902Z"
    },
    "execution": {
     "iopub.execute_input": "2020-09-16T12:20:50.082001Z",
     "iopub.status.busy": "2020-09-16T12:20:50.081758Z",
     "iopub.status.idle": "2020-09-16T12:20:50.918122Z",
     "shell.execute_reply": "2020-09-16T12:20:50.917309Z",
     "shell.execute_reply.started": "2020-09-16T12:20:50.081979Z"
    }
   },
   "outputs": [],
   "source": [
    "sess = tf.Session()\n",
    "K.set_session(sess)\n",
    "sess.run(tf.global_variables_initializer())\n",
    "sess.run(tf.tables_initializer())"
   ]
  },
  {
   "cell_type": "markdown",
   "metadata": {},
   "source": [
    "## Build model"
   ]
  },
  {
   "cell_type": "code",
   "execution_count": 18,
   "metadata": {
    "ExecuteTime": {
     "end_time": "2020-09-16T12:12:36.783630Z",
     "start_time": "2020-09-16T12:12:36.780574Z"
    },
    "execution": {
     "iopub.execute_input": "2020-09-16T12:20:50.919835Z",
     "iopub.status.busy": "2020-09-16T12:20:50.919564Z",
     "iopub.status.idle": "2020-09-16T12:20:50.923396Z",
     "shell.execute_reply": "2020-09-16T12:20:50.922788Z",
     "shell.execute_reply.started": "2020-09-16T12:20:50.919811Z"
    }
   },
   "outputs": [],
   "source": [
    "def ELMoEmbedding(x):\n",
    "    # 데이터의 이동이 케라스 → 텐서플로우 → 케라스가 되도록 하는 함수\n",
    "    return elmo(tf.squeeze(tf.cast(x, tf.string)), as_dict=True, signature=\"default\")[\"default\"]"
   ]
  },
  {
   "cell_type": "code",
   "execution_count": null,
   "metadata": {
    "ExecuteTime": {
     "end_time": "2020-09-16T12:12:37.297782Z",
     "start_time": "2020-09-16T12:12:37.264064Z"
    }
   },
   "outputs": [],
   "source": [
    "input_text = Input(shape=(1,), dtype=tf.string)\n",
    "embedding_layer = Lambda(ELMoEmbedding, output_shape=(1024, ))(input_text)\n",
    "hidden_layer = Dense(256, activation='relu')(embedding_layer)\n",
    "output_layer = Dense(1, activation='sigmoid')(hidden_layer)\n",
    "model = Model(inputs=[input_text], outputs=output_layer)"
   ]
  },
  {
   "cell_type": "code",
   "execution_count": null,
   "metadata": {},
   "outputs": [],
   "source": [
    "model.compile(loss='binary_crossentropy', optimizer='adam', metrics=['accuracy'])"
   ]
  },
  {
   "cell_type": "code",
   "execution_count": 21,
   "metadata": {
    "execution": {
     "iopub.status.idle": "2020-09-16T12:28:29.609147Z",
     "shell.execute_reply": "2020-09-16T12:28:29.608333Z",
     "shell.execute_reply.started": "2020-09-16T12:21:01.036553Z"
    }
   },
   "outputs": [
    {
     "name": "stdout",
     "output_type": "stream",
     "text": [
      "4457/4457 [==============================] - 448s 101ms/step - loss: 0.1469 - acc: 0.9479\n"
     ]
    }
   ],
   "source": [
    "history = model.fit(x_train, y_train, epochs=1, batch_size=60)"
   ]
  },
  {
   "cell_type": "code",
   "execution_count": 22,
   "metadata": {
    "execution": {
     "iopub.execute_input": "2020-09-16T12:28:29.610773Z",
     "iopub.status.busy": "2020-09-16T12:28:29.610505Z",
     "iopub.status.idle": "2020-09-16T12:30:10.677223Z",
     "shell.execute_reply": "2020-09-16T12:30:10.676443Z",
     "shell.execute_reply.started": "2020-09-16T12:28:29.610747Z"
    }
   },
   "outputs": [
    {
     "name": "stdout",
     "output_type": "stream",
     "text": [
      "1115/1115 [==============================] - 101s 91ms/step\n",
      "\n",
      " 테스트 정확도: 0.9821\n"
     ]
    }
   ],
   "source": [
    "print(\"\\n 테스트 정확도: %.4f\" % (model.evaluate(x_test, y_test)[1]))"
   ]
  },
  {
   "cell_type": "code",
   "execution_count": null,
   "metadata": {},
   "outputs": [],
   "source": []
  },
  {
   "cell_type": "code",
   "execution_count": null,
   "metadata": {},
   "outputs": [],
   "source": []
  },
  {
   "cell_type": "code",
   "execution_count": null,
   "metadata": {},
   "outputs": [],
   "source": []
  }
 ],
 "metadata": {
  "kernelspec": {
   "display_name": "Python 3",
   "language": "python",
   "name": "python3"
  },
  "language_info": {
   "codemirror_mode": {
    "name": "ipython",
    "version": 3
   },
   "file_extension": ".py",
   "mimetype": "text/x-python",
   "name": "python",
   "nbconvert_exporter": "python",
   "pygments_lexer": "ipython3",
   "version": "3.6.11"
  },
  "toc": {
   "base_numbering": 1,
   "nav_menu": {},
   "number_sections": true,
   "sideBar": true,
   "skip_h1_title": false,
   "title_cell": "Table of Contents",
   "title_sidebar": "Contents",
   "toc_cell": false,
   "toc_position": {},
   "toc_section_display": true,
   "toc_window_display": false
  }
 },
 "nbformat": 4,
 "nbformat_minor": 4
}
