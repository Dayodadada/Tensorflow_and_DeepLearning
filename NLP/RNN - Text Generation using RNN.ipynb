{
 "cells": [
  {
   "cell_type": "markdown",
   "metadata": {},
   "source": [
    "# Text Generation using RNN"
   ]
  },
  {
   "cell_type": "markdown",
   "metadata": {},
   "source": [
    "## Import"
   ]
  },
  {
   "cell_type": "code",
   "execution_count": 21,
   "metadata": {
    "ExecuteTime": {
     "end_time": "2020-09-07T13:03:53.045137Z",
     "start_time": "2020-09-07T13:03:53.040080Z"
    }
   },
   "outputs": [],
   "source": [
    "import numpy as np\n",
    "import pandas as pd\n",
    "\n",
    "from tensorflow.keras.utils import to_categorical\n",
    "from tensorflow.keras.preprocessing.text import Tokenizer\n",
    "from tensorflow.keras.preprocessing.sequence import pad_sequences\n",
    "\n",
    "from tensorflow.keras.models import Sequential\n",
    "from tensorflow.keras.layers import Embedding, Dense, SimpleRNN"
   ]
  },
  {
   "cell_type": "markdown",
   "metadata": {},
   "source": [
    "## RNN을 이용하여 텍스트 생성하기"
   ]
  },
  {
   "cell_type": "markdown",
   "metadata": {},
   "source": [
    "### Text Preprocessing"
   ]
  },
  {
   "cell_type": "code",
   "execution_count": 80,
   "metadata": {
    "ExecuteTime": {
     "end_time": "2020-09-07T13:26:07.786902Z",
     "start_time": "2020-09-07T13:26:07.784428Z"
    }
   },
   "outputs": [],
   "source": [
    "text=\"\"\"경마장에 있는 말이 뛰고 있다\\n\n",
    "그의 말이 법이다\\n\n",
    "가는 말이 고와야 오는 말이 곱다\\n\n",
    "\"\"\""
   ]
  },
  {
   "cell_type": "code",
   "execution_count": 62,
   "metadata": {
    "ExecuteTime": {
     "end_time": "2020-09-07T13:24:26.687230Z",
     "start_time": "2020-09-07T13:24:26.682722Z"
    }
   },
   "outputs": [],
   "source": [
    "text=\"\"\"\n",
    "앞서 배운 신경망들은 전부 은닉층에서 활성화 함수를 지난 값은 오직 출력층 방향으로만 향했습니다. \\n\n",
    "이와 같은 신경망들을 피드 포워드 신경망(Feed Forward Neural Network)이라고 합니다. \\n\n",
    "그런데 그렇지 않은 신경망들이 있습니다. \\n\n",
    "RNN(Recurrent Neural Network) 또한 그 중 하나입니다. \\n\n",
    "RNN은 은닉층의 노드에서 활성화 함수를 통해 나온 결과값을 출력층 방향으로도 보내면서, 다시 은닉층 노드의 다음 계산의 입력으로 보내는 특징을 갖고있습니다.\\n\n",
    "이를 그림으로 표현하면 위와 같습니다. \\n\n",
    "x는 입력층의 입력 벡터, y는 출력층의 출력 벡터입니다. \\n\n",
    "실제로는 편향 b도 입력으로 존재할 수 있지만 앞으로의 그림에서는 생략합니다. \\n\n",
    "RNN에서 은닉층에서 활성화 함수를 통해 결과를 내보내는 역할을 하는 노드를 셀(cell)이라고 합니다. \\n\n",
    "이 셀은 이전의 값을 기억하려고 하는 일종의 메모리 역할을 수행하므로 이를 메모리 셀 또는 RNN 셀이라고 표현합니다.\\n\n",
    "은닉층의 메모리 셀은 각각의 시점(time step)에서 바로 이전 시점에서의 은닉층의 메모리 셀에서 나온 값을 자신의 입력으로 사용하는 재귀적 활동을 하고 있습니다. \\n\n",
    "앞으로는 현재 시점을 변수 t로 표현하겠습니다. \\n\n",
    "이는 현재 시점 t에서의 메모리 셀이 갖고있는 값은 과거의 메모리 셀들의 값에 영향을 받은 것임을 의미합니다. \\n\n",
    "그렇다면 메모리 셀이 갖고 있는 이 값은 뭐라고 부를까요?\\n\n",
    "메모리 셀이 출력층 방향으로 또는 다음 시점 t+1의 자신에게 보내는 값을 은닉 상태(hidden state)라고 합니다. \\n\n",
    "다시 말해 t 시점의 메모리 셀은 t-1 시점의 메모리 셀이 보낸 은닉 상태값을 t 시점의 은닉 상태 계산을 위한 입력값으로 사용합니다.\\n\n",
    "RNN을 표현할 때는 일반적으로 위의 그림에서 좌측과 같이 화살표로 사이클을 그려서 재귀 형태로 표현하기도 하지만, 우측과 같이 사이클을 그리는 화살표 대신 여러 시점으로 펼쳐서 표현하기도 합니다. \\n\n",
    "두 그림은 동일한 그림으로 단지 사이클을 그리는 화살표를 사용하여 표현하였느냐, 시점의 흐름에 따라서 표현하였느냐의 차이일 뿐 둘 다 동일한 RNN을 표현하고 있습니다.\\n\n",
    "피드 포워드 신경망에서는 뉴런이라는 단위를 사용했지만, RNN에서는 뉴런이라는 단위보다는 입력층과 출력층에서는 각각 입력 벡터와 출력 벡터, 은닉층에서는 은닉 상태라는 표현을 주로 사용합니다. \\n\n",
    "그래서 사실 위의 그림에서 회색과 초록색으로 표현한 각 네모들은 기본적으로 벡터 단위를 가정하고 있습니다. \\n\n",
    "피드 포워드 신경망과의 차이를 비교하기 위해서 RNN을 뉴런 단위로 시각화해보겠습니다. \\n\n",
    "위의 그림은 입력 벡터의 차원이 4, 은닉 상태의 크기가 2, 출력층의 출력 벡터의 차원이 2인 RNN이 시점이 2일 때의 모습을 보여줍니다.  \\n\n",
    "다시 말해 뉴런 단위로 해석하면 입력층의 뉴런 수는 4, 은닉층의 뉴런 수는 2, 출력층의 뉴런 수는 2입니다. \\n\n",
    "RNN은 입력과 출력의 길이를 다르게 설계 할 수 있으므로 다양한 용도로 사용할 수 있습니다.  \\n\n",
    "위 그림은 입력과 출력의 길이에 따라서 달라지는 RNN의 다양한 형태를 보여줍니다.  \\n\n",
    "위 구조가 자연어 처리에서 어떻게 사용될 수 있는지 예를 들어봅시다.  \\n\n",
    "RNN 셀의 각 시점 별 입, 출력의 단위는 사용자가 정의하기 나름이지만 가장 보편적인 단위는 '단어 벡터'입니다. \\n\n",
    "예를 들어 하나의 입력에 대해서 여러개의 출력(one-to-many)의 모델은 하나의 이미지 입력에 대해서 사진의 제목을 출력하는 이미지 캡셔닝(Image Captioning) 작업에 사용할 수 있습니다.  \\n\n",
    "사진의 제목은 단어들의 나열이므로 시퀀스 출력입니다. \\n\n",
    "또한 단어 시퀀스에 대해서 하나의 출력(many-to-one)을 하는 모델은 입력 문서가 긍정적인지 부정적인지를 판별하는 감성 분류(sentiment classification), 또는 메일이 정상 메일인지 스팸 메일인지 판별하는 스팸 메일 분류(spam detection)에 사용할 수 있습니다.  \\n\n",
    "위 그림은 RNN으로 스팸 메일을 분류할 때의 아키텍처를 보여줍니다.  \\n\n",
    "이러한 예제들은 11챕터에서 배우는 텍스트 분류에서 배웁니다. \\n\n",
    "다 대 다(many-to-many)의 모델의 경우에는 입력 문장으로 부터 대답 문장을 출력하는 챗봇과 입력 문장으로부터 번역된 문장을 출력하는 번역기, 또는 12챕터에서 배우는 개체명 인식이나 품사 태깅과 같은 작업 또한 속합니다.  \\n\n",
    "위 그림은 개체명 인식을 수행할 때의 RNN 아키텍처를 보여줍니다. \\n\n",
    "\"\"\""
   ]
  },
  {
   "cell_type": "code",
   "execution_count": 81,
   "metadata": {
    "ExecuteTime": {
     "end_time": "2020-09-07T13:26:09.212136Z",
     "start_time": "2020-09-07T13:26:09.209547Z"
    }
   },
   "outputs": [],
   "source": [
    "# 단어 집합을 생성\n",
    "t = Tokenizer()\n",
    "t.fit_on_texts([text])"
   ]
  },
  {
   "cell_type": "code",
   "execution_count": 82,
   "metadata": {
    "ExecuteTime": {
     "end_time": "2020-09-07T13:26:09.368040Z",
     "start_time": "2020-09-07T13:26:09.365296Z"
    }
   },
   "outputs": [
    {
     "name": "stdout",
     "output_type": "stream",
     "text": [
      "Num of words 12\n"
     ]
    }
   ],
   "source": [
    "# 케라스 토크나이저의 정수 인코딩은 인덱스가 1부터 시작하지만,\n",
    "# 케라스 원-핫 인코딩에서 배열의 인덱스가 0부터 시작하기 때문에\n",
    "# 배열의 크기를 실제 단어 집합의 크기보다 +1로 생성해야하므로 미리 +1 선언\n",
    "vocab_size = len(t.word_index) + 1 \n",
    "print(\"Num of words\", vocab_size)"
   ]
  },
  {
   "cell_type": "code",
   "execution_count": 83,
   "metadata": {
    "ExecuteTime": {
     "end_time": "2020-09-07T13:26:09.533844Z",
     "start_time": "2020-09-07T13:26:09.530531Z"
    }
   },
   "outputs": [
    {
     "data": {
      "text/plain": [
       "{'말이': 1,\n",
       " '경마장에': 2,\n",
       " '있는': 3,\n",
       " '뛰고': 4,\n",
       " '있다': 5,\n",
       " '그의': 6,\n",
       " '법이다': 7,\n",
       " '가는': 8,\n",
       " '고와야': 9,\n",
       " '오는': 10,\n",
       " '곱다': 11}"
      ]
     },
     "execution_count": 83,
     "metadata": {},
     "output_type": "execute_result"
    }
   ],
   "source": [
    "t.word_index"
   ]
  },
  {
   "cell_type": "code",
   "execution_count": 84,
   "metadata": {
    "ExecuteTime": {
     "end_time": "2020-09-07T13:26:09.693025Z",
     "start_time": "2020-09-07T13:26:09.688214Z"
    }
   },
   "outputs": [
    {
     "name": "stdout",
     "output_type": "stream",
     "text": [
      "학습에 사용할 샘플 수 11\n"
     ]
    }
   ],
   "source": [
    "# 훈련 데이터 만들기\n",
    "sequences = list()\n",
    "for line in text.split(\"\\n\"):\n",
    "    encoded = t.texts_to_sequences([line])[0]\n",
    "    for i in range(1, len(encoded)):\n",
    "        sequence = encoded[:i+1]\n",
    "        sequences.append(sequence)\n",
    "print(\"학습에 사용할 샘플 수\", len(sequences))"
   ]
  },
  {
   "cell_type": "code",
   "execution_count": 85,
   "metadata": {
    "ExecuteTime": {
     "end_time": "2020-09-07T13:26:09.846731Z",
     "start_time": "2020-09-07T13:26:09.842987Z"
    }
   },
   "outputs": [
    {
     "data": {
      "text/plain": [
       "[[2, 3],\n",
       " [2, 3, 1],\n",
       " [2, 3, 1, 4],\n",
       " [2, 3, 1, 4, 5],\n",
       " [6, 1],\n",
       " [6, 1, 7],\n",
       " [8, 1],\n",
       " [8, 1, 9],\n",
       " [8, 1, 9, 10],\n",
       " [8, 1, 9, 10, 1],\n",
       " [8, 1, 9, 10, 1, 11]]"
      ]
     },
     "execution_count": 85,
     "metadata": {},
     "output_type": "execute_result"
    }
   ],
   "source": [
    "sequences"
   ]
  },
  {
   "cell_type": "code",
   "execution_count": 86,
   "metadata": {
    "ExecuteTime": {
     "end_time": "2020-09-07T13:26:10.000823Z",
     "start_time": "2020-09-07T13:26:09.998020Z"
    }
   },
   "outputs": [
    {
     "name": "stdout",
     "output_type": "stream",
     "text": [
      "샘플의 최대 길이: 6\n"
     ]
    }
   ],
   "source": [
    "max_len = max([len(i) for i in sequences])\n",
    "print(\"샘플의 최대 길이:\", max_len)"
   ]
  },
  {
   "cell_type": "code",
   "execution_count": 87,
   "metadata": {
    "ExecuteTime": {
     "end_time": "2020-09-07T13:26:10.177617Z",
     "start_time": "2020-09-07T13:26:10.172705Z"
    }
   },
   "outputs": [
    {
     "data": {
      "text/plain": [
       "array([[ 0,  0,  0,  0,  2,  3],\n",
       "       [ 0,  0,  0,  2,  3,  1],\n",
       "       [ 0,  0,  2,  3,  1,  4],\n",
       "       [ 0,  2,  3,  1,  4,  5],\n",
       "       [ 0,  0,  0,  0,  6,  1],\n",
       "       [ 0,  0,  0,  6,  1,  7],\n",
       "       [ 0,  0,  0,  0,  8,  1],\n",
       "       [ 0,  0,  0,  8,  1,  9],\n",
       "       [ 0,  0,  8,  1,  9, 10],\n",
       "       [ 0,  8,  1,  9, 10,  1],\n",
       "       [ 8,  1,  9, 10,  1, 11]], dtype=int32)"
      ]
     },
     "execution_count": 87,
     "metadata": {},
     "output_type": "execute_result"
    }
   ],
   "source": [
    "# add padding\n",
    "## padding의 인자로 'pre'를 주면 길이가 6보다 짧은 샘플의 앞에 0으로 채웁\n",
    "sequences = pad_sequences(sequences, maxlen=max_len, padding=\"pre\")\n",
    "sequences"
   ]
  },
  {
   "cell_type": "code",
   "execution_count": 88,
   "metadata": {
    "ExecuteTime": {
     "end_time": "2020-09-07T13:26:10.354277Z",
     "start_time": "2020-09-07T13:26:10.349658Z"
    }
   },
   "outputs": [
    {
     "data": {
      "text/plain": [
       "((11, 5), (11,))"
      ]
     },
     "execution_count": 88,
     "metadata": {},
     "output_type": "execute_result"
    }
   ],
   "source": [
    "sequences = np.array(sequences)\n",
    "X = sequences[:,:-1]\n",
    "y = sequences[:,-1]\n",
    "X.shape, y.shape"
   ]
  },
  {
   "cell_type": "code",
   "execution_count": 89,
   "metadata": {
    "ExecuteTime": {
     "end_time": "2020-09-07T13:26:10.506471Z",
     "start_time": "2020-09-07T13:26:10.503060Z"
    }
   },
   "outputs": [
    {
     "data": {
      "text/plain": [
       "array([ 3,  1,  4,  5,  1,  7,  1,  9, 10,  1, 11], dtype=int32)"
      ]
     },
     "execution_count": 89,
     "metadata": {},
     "output_type": "execute_result"
    }
   ],
   "source": [
    "y"
   ]
  },
  {
   "cell_type": "code",
   "execution_count": 90,
   "metadata": {
    "ExecuteTime": {
     "end_time": "2020-09-07T13:26:10.671932Z",
     "start_time": "2020-09-07T13:26:10.668321Z"
    }
   },
   "outputs": [
    {
     "data": {
      "text/plain": [
       "(11, 12)"
      ]
     },
     "execution_count": 90,
     "metadata": {},
     "output_type": "execute_result"
    }
   ],
   "source": [
    "y = to_categorical(y, num_classes=vocab_size)\n",
    "y.shape"
   ]
  },
  {
   "cell_type": "code",
   "execution_count": 91,
   "metadata": {
    "ExecuteTime": {
     "end_time": "2020-09-07T13:26:10.841274Z",
     "start_time": "2020-09-07T13:26:10.836413Z"
    }
   },
   "outputs": [
    {
     "data": {
      "text/plain": [
       "array([[0., 0., 0., 1., 0., 0., 0., 0., 0., 0., 0., 0.],\n",
       "       [0., 1., 0., 0., 0., 0., 0., 0., 0., 0., 0., 0.],\n",
       "       [0., 0., 0., 0., 1., 0., 0., 0., 0., 0., 0., 0.],\n",
       "       [0., 0., 0., 0., 0., 1., 0., 0., 0., 0., 0., 0.],\n",
       "       [0., 1., 0., 0., 0., 0., 0., 0., 0., 0., 0., 0.],\n",
       "       [0., 0., 0., 0., 0., 0., 0., 1., 0., 0., 0., 0.],\n",
       "       [0., 1., 0., 0., 0., 0., 0., 0., 0., 0., 0., 0.],\n",
       "       [0., 0., 0., 0., 0., 0., 0., 0., 0., 1., 0., 0.],\n",
       "       [0., 0., 0., 0., 0., 0., 0., 0., 0., 0., 1., 0.],\n",
       "       [0., 1., 0., 0., 0., 0., 0., 0., 0., 0., 0., 0.],\n",
       "       [0., 0., 0., 0., 0., 0., 0., 0., 0., 0., 0., 1.]], dtype=float32)"
      ]
     },
     "execution_count": 91,
     "metadata": {},
     "output_type": "execute_result"
    }
   ],
   "source": [
    "y"
   ]
  },
  {
   "cell_type": "markdown",
   "metadata": {},
   "source": [
    "### Build RNN model"
   ]
  },
  {
   "cell_type": "code",
   "execution_count": 92,
   "metadata": {
    "ExecuteTime": {
     "end_time": "2020-09-07T13:26:11.250342Z",
     "start_time": "2020-09-07T13:26:11.164389Z"
    }
   },
   "outputs": [
    {
     "name": "stdout",
     "output_type": "stream",
     "text": [
      "Model: \"sequential_7\"\n",
      "_________________________________________________________________\n",
      "Layer (type)                 Output Shape              Param #   \n",
      "=================================================================\n",
      "embedding_7 (Embedding)      (None, 5, 10)             120       \n",
      "_________________________________________________________________\n",
      "simple_rnn_7 (SimpleRNN)     (None, 32)                1376      \n",
      "_________________________________________________________________\n",
      "dense_7 (Dense)              (None, 12)                396       \n",
      "=================================================================\n",
      "Total params: 1,892\n",
      "Trainable params: 1,892\n",
      "Non-trainable params: 0\n",
      "_________________________________________________________________\n"
     ]
    }
   ],
   "source": [
    "model = Sequential()\n",
    "model.add(Embedding(vocab_size, 10, input_length=max_len-1))\n",
    "model.add(SimpleRNN(32))\n",
    "model.add(Dense(vocab_size, activation=\"softmax\"))\n",
    "model.summary()"
   ]
  },
  {
   "cell_type": "code",
   "execution_count": 93,
   "metadata": {
    "ExecuteTime": {
     "end_time": "2020-09-07T13:26:11.561781Z",
     "start_time": "2020-09-07T13:26:11.348311Z"
    }
   },
   "outputs": [],
   "source": [
    "model.compile(\n",
    "    loss=\"categorical_crossentropy\",\n",
    "    optimizer=\"adam\",\n",
    "    metrics=[\"accuracy\"]\n",
    ")"
   ]
  },
  {
   "cell_type": "code",
   "execution_count": 94,
   "metadata": {
    "ExecuteTime": {
     "end_time": "2020-09-07T13:26:13.318380Z",
     "start_time": "2020-09-07T13:26:11.563856Z"
    },
    "scrolled": true
   },
   "outputs": [
    {
     "name": "stdout",
     "output_type": "stream",
     "text": [
      "Train on 11 samples\n",
      "Epoch 1/200\n",
      "11/11 - 1s - loss: 2.4751 - accuracy: 0.2727\n",
      "Epoch 2/200\n",
      "11/11 - 0s - loss: 2.4610 - accuracy: 0.2727\n",
      "Epoch 3/200\n",
      "11/11 - 0s - loss: 2.4470 - accuracy: 0.3636\n",
      "Epoch 4/200\n",
      "11/11 - 0s - loss: 2.4330 - accuracy: 0.3636\n",
      "Epoch 5/200\n",
      "11/11 - 0s - loss: 2.4188 - accuracy: 0.3636\n",
      "Epoch 6/200\n",
      "11/11 - 0s - loss: 2.4043 - accuracy: 0.2727\n",
      "Epoch 7/200\n",
      "11/11 - 0s - loss: 2.3896 - accuracy: 0.3636\n",
      "Epoch 8/200\n",
      "11/11 - 0s - loss: 2.3745 - accuracy: 0.3636\n",
      "Epoch 9/200\n",
      "11/11 - 0s - loss: 2.3590 - accuracy: 0.3636\n",
      "Epoch 10/200\n",
      "11/11 - 0s - loss: 2.3431 - accuracy: 0.3636\n",
      "Epoch 11/200\n",
      "11/11 - 0s - loss: 2.3266 - accuracy: 0.3636\n",
      "Epoch 12/200\n",
      "11/11 - 0s - loss: 2.3095 - accuracy: 0.3636\n",
      "Epoch 13/200\n",
      "11/11 - 0s - loss: 2.2918 - accuracy: 0.3636\n",
      "Epoch 14/200\n",
      "11/11 - 0s - loss: 2.2735 - accuracy: 0.3636\n",
      "Epoch 15/200\n",
      "11/11 - 0s - loss: 2.2545 - accuracy: 0.3636\n",
      "Epoch 16/200\n",
      "11/11 - 0s - loss: 2.2350 - accuracy: 0.3636\n",
      "Epoch 17/200\n",
      "11/11 - 0s - loss: 2.2149 - accuracy: 0.3636\n",
      "Epoch 18/200\n",
      "11/11 - 0s - loss: 2.1942 - accuracy: 0.3636\n",
      "Epoch 19/200\n",
      "11/11 - 0s - loss: 2.1731 - accuracy: 0.3636\n",
      "Epoch 20/200\n",
      "11/11 - 0s - loss: 2.1517 - accuracy: 0.3636\n",
      "Epoch 21/200\n",
      "11/11 - 0s - loss: 2.1300 - accuracy: 0.3636\n",
      "Epoch 22/200\n",
      "11/11 - 0s - loss: 2.1082 - accuracy: 0.3636\n",
      "Epoch 23/200\n",
      "11/11 - 0s - loss: 2.0865 - accuracy: 0.3636\n",
      "Epoch 24/200\n",
      "11/11 - 0s - loss: 2.0650 - accuracy: 0.3636\n",
      "Epoch 25/200\n",
      "11/11 - 0s - loss: 2.0439 - accuracy: 0.3636\n",
      "Epoch 26/200\n",
      "11/11 - 0s - loss: 2.0233 - accuracy: 0.3636\n",
      "Epoch 27/200\n",
      "11/11 - 0s - loss: 2.0033 - accuracy: 0.3636\n",
      "Epoch 28/200\n",
      "11/11 - 0s - loss: 1.9839 - accuracy: 0.3636\n",
      "Epoch 29/200\n",
      "11/11 - 0s - loss: 1.9651 - accuracy: 0.3636\n",
      "Epoch 30/200\n",
      "11/11 - 0s - loss: 1.9469 - accuracy: 0.3636\n",
      "Epoch 31/200\n",
      "11/11 - 0s - loss: 1.9291 - accuracy: 0.3636\n",
      "Epoch 32/200\n",
      "11/11 - 0s - loss: 1.9116 - accuracy: 0.3636\n",
      "Epoch 33/200\n",
      "11/11 - 0s - loss: 1.8941 - accuracy: 0.3636\n",
      "Epoch 34/200\n",
      "11/11 - 0s - loss: 1.8765 - accuracy: 0.3636\n",
      "Epoch 35/200\n",
      "11/11 - 0s - loss: 1.8587 - accuracy: 0.3636\n",
      "Epoch 36/200\n",
      "11/11 - 0s - loss: 1.8405 - accuracy: 0.3636\n",
      "Epoch 37/200\n",
      "11/11 - 0s - loss: 1.8220 - accuracy: 0.3636\n",
      "Epoch 38/200\n",
      "11/11 - 0s - loss: 1.8031 - accuracy: 0.3636\n",
      "Epoch 39/200\n",
      "11/11 - 0s - loss: 1.7838 - accuracy: 0.3636\n",
      "Epoch 40/200\n",
      "11/11 - 0s - loss: 1.7643 - accuracy: 0.3636\n",
      "Epoch 41/200\n",
      "11/11 - 0s - loss: 1.7445 - accuracy: 0.3636\n",
      "Epoch 42/200\n",
      "11/11 - 0s - loss: 1.7247 - accuracy: 0.3636\n",
      "Epoch 43/200\n",
      "11/11 - 0s - loss: 1.7048 - accuracy: 0.3636\n",
      "Epoch 44/200\n",
      "11/11 - 0s - loss: 1.6848 - accuracy: 0.3636\n",
      "Epoch 45/200\n",
      "11/11 - 0s - loss: 1.6648 - accuracy: 0.3636\n",
      "Epoch 46/200\n",
      "11/11 - 0s - loss: 1.6446 - accuracy: 0.3636\n",
      "Epoch 47/200\n",
      "11/11 - 0s - loss: 1.6243 - accuracy: 0.4545\n",
      "Epoch 48/200\n",
      "11/11 - 0s - loss: 1.6037 - accuracy: 0.4545\n",
      "Epoch 49/200\n",
      "11/11 - 0s - loss: 1.5827 - accuracy: 0.4545\n",
      "Epoch 50/200\n",
      "11/11 - 0s - loss: 1.5615 - accuracy: 0.4545\n",
      "Epoch 51/200\n",
      "11/11 - 0s - loss: 1.5398 - accuracy: 0.4545\n",
      "Epoch 52/200\n",
      "11/11 - 0s - loss: 1.5177 - accuracy: 0.5455\n",
      "Epoch 53/200\n",
      "11/11 - 0s - loss: 1.4953 - accuracy: 0.5455\n",
      "Epoch 54/200\n",
      "11/11 - 0s - loss: 1.4725 - accuracy: 0.5455\n",
      "Epoch 55/200\n",
      "11/11 - 0s - loss: 1.4495 - accuracy: 0.5455\n",
      "Epoch 56/200\n",
      "11/11 - 0s - loss: 1.4263 - accuracy: 0.6364\n",
      "Epoch 57/200\n",
      "11/11 - 0s - loss: 1.4030 - accuracy: 0.6364\n",
      "Epoch 58/200\n",
      "11/11 - 0s - loss: 1.3797 - accuracy: 0.6364\n",
      "Epoch 59/200\n",
      "11/11 - 0s - loss: 1.3563 - accuracy: 0.6364\n",
      "Epoch 60/200\n",
      "11/11 - 0s - loss: 1.3330 - accuracy: 0.6364\n",
      "Epoch 61/200\n",
      "11/11 - 0s - loss: 1.3097 - accuracy: 0.6364\n",
      "Epoch 62/200\n",
      "11/11 - 0s - loss: 1.2866 - accuracy: 0.6364\n",
      "Epoch 63/200\n",
      "11/11 - 0s - loss: 1.2636 - accuracy: 0.6364\n",
      "Epoch 64/200\n",
      "11/11 - 0s - loss: 1.2407 - accuracy: 0.6364\n",
      "Epoch 65/200\n",
      "11/11 - 0s - loss: 1.2181 - accuracy: 0.6364\n",
      "Epoch 66/200\n",
      "11/11 - 0s - loss: 1.1956 - accuracy: 0.7273\n",
      "Epoch 67/200\n",
      "11/11 - 0s - loss: 1.1734 - accuracy: 0.7273\n",
      "Epoch 68/200\n",
      "11/11 - 0s - loss: 1.1514 - accuracy: 0.7273\n",
      "Epoch 69/200\n",
      "11/11 - 0s - loss: 1.1297 - accuracy: 0.7273\n",
      "Epoch 70/200\n",
      "11/11 - 0s - loss: 1.1084 - accuracy: 0.7273\n",
      "Epoch 71/200\n",
      "11/11 - 0s - loss: 1.0873 - accuracy: 0.7273\n",
      "Epoch 72/200\n",
      "11/11 - 0s - loss: 1.0665 - accuracy: 0.7273\n",
      "Epoch 73/200\n",
      "11/11 - 0s - loss: 1.0461 - accuracy: 0.7273\n",
      "Epoch 74/200\n",
      "11/11 - 0s - loss: 1.0259 - accuracy: 0.7273\n",
      "Epoch 75/200\n",
      "11/11 - 0s - loss: 1.0061 - accuracy: 0.7273\n",
      "Epoch 76/200\n",
      "11/11 - 0s - loss: 0.9865 - accuracy: 0.7273\n",
      "Epoch 77/200\n",
      "11/11 - 0s - loss: 0.9672 - accuracy: 0.7273\n",
      "Epoch 78/200\n",
      "11/11 - 0s - loss: 0.9481 - accuracy: 0.7273\n",
      "Epoch 79/200\n",
      "11/11 - 0s - loss: 0.9294 - accuracy: 0.7273\n",
      "Epoch 80/200\n",
      "11/11 - 0s - loss: 0.9109 - accuracy: 0.7273\n",
      "Epoch 81/200\n",
      "11/11 - 0s - loss: 0.8928 - accuracy: 0.7273\n",
      "Epoch 82/200\n",
      "11/11 - 0s - loss: 0.8749 - accuracy: 0.7273\n",
      "Epoch 83/200\n",
      "11/11 - 0s - loss: 0.8574 - accuracy: 0.7273\n",
      "Epoch 84/200\n",
      "11/11 - 0s - loss: 0.8402 - accuracy: 0.7273\n",
      "Epoch 85/200\n",
      "11/11 - 0s - loss: 0.8233 - accuracy: 0.7273\n",
      "Epoch 86/200\n",
      "11/11 - 0s - loss: 0.8068 - accuracy: 0.7273\n",
      "Epoch 87/200\n",
      "11/11 - 0s - loss: 0.7905 - accuracy: 0.7273\n",
      "Epoch 88/200\n",
      "11/11 - 0s - loss: 0.7746 - accuracy: 0.7273\n",
      "Epoch 89/200\n",
      "11/11 - 0s - loss: 0.7590 - accuracy: 0.8182\n",
      "Epoch 90/200\n",
      "11/11 - 0s - loss: 0.7437 - accuracy: 0.8182\n",
      "Epoch 91/200\n",
      "11/11 - 0s - loss: 0.7287 - accuracy: 0.8182\n",
      "Epoch 92/200\n",
      "11/11 - 0s - loss: 0.7140 - accuracy: 0.8182\n",
      "Epoch 93/200\n",
      "11/11 - 0s - loss: 0.6996 - accuracy: 0.8182\n",
      "Epoch 94/200\n",
      "11/11 - 0s - loss: 0.6856 - accuracy: 0.8182\n",
      "Epoch 95/200\n",
      "11/11 - 0s - loss: 0.6717 - accuracy: 0.8182\n",
      "Epoch 96/200\n",
      "11/11 - 0s - loss: 0.6582 - accuracy: 0.8182\n",
      "Epoch 97/200\n",
      "11/11 - 0s - loss: 0.6450 - accuracy: 0.8182\n",
      "Epoch 98/200\n",
      "11/11 - 0s - loss: 0.6320 - accuracy: 0.8182\n",
      "Epoch 99/200\n",
      "11/11 - 0s - loss: 0.6192 - accuracy: 0.8182\n",
      "Epoch 100/200\n",
      "11/11 - 0s - loss: 0.6067 - accuracy: 0.8182\n",
      "Epoch 101/200\n",
      "11/11 - 0s - loss: 0.5945 - accuracy: 0.8182\n",
      "Epoch 102/200\n",
      "11/11 - 0s - loss: 0.5825 - accuracy: 0.8182\n",
      "Epoch 103/200\n",
      "11/11 - 0s - loss: 0.5707 - accuracy: 0.8182\n",
      "Epoch 104/200\n",
      "11/11 - 0s - loss: 0.5592 - accuracy: 0.8182\n",
      "Epoch 105/200\n",
      "11/11 - 0s - loss: 0.5479 - accuracy: 0.8182\n",
      "Epoch 106/200\n",
      "11/11 - 0s - loss: 0.5369 - accuracy: 0.9091\n",
      "Epoch 107/200\n",
      "11/11 - 0s - loss: 0.5261 - accuracy: 0.9091\n",
      "Epoch 108/200\n",
      "11/11 - 0s - loss: 0.5155 - accuracy: 0.9091\n",
      "Epoch 109/200\n",
      "11/11 - 0s - loss: 0.5051 - accuracy: 0.9091\n",
      "Epoch 110/200\n",
      "11/11 - 0s - loss: 0.4949 - accuracy: 0.9091\n",
      "Epoch 111/200\n",
      "11/11 - 0s - loss: 0.4849 - accuracy: 0.9091\n",
      "Epoch 112/200\n",
      "11/11 - 0s - loss: 0.4751 - accuracy: 0.9091\n",
      "Epoch 113/200\n",
      "11/11 - 0s - loss: 0.4656 - accuracy: 0.9091\n",
      "Epoch 114/200\n",
      "11/11 - 0s - loss: 0.4562 - accuracy: 0.9091\n",
      "Epoch 115/200\n",
      "11/11 - 0s - loss: 0.4470 - accuracy: 0.9091\n",
      "Epoch 116/200\n",
      "11/11 - 0s - loss: 0.4380 - accuracy: 0.9091\n",
      "Epoch 117/200\n",
      "11/11 - 0s - loss: 0.4291 - accuracy: 0.9091\n",
      "Epoch 118/200\n",
      "11/11 - 0s - loss: 0.4204 - accuracy: 0.9091\n",
      "Epoch 119/200\n",
      "11/11 - 0s - loss: 0.4119 - accuracy: 0.9091\n",
      "Epoch 120/200\n",
      "11/11 - 0s - loss: 0.4036 - accuracy: 0.9091\n",
      "Epoch 121/200\n",
      "11/11 - 0s - loss: 0.3954 - accuracy: 0.9091\n",
      "Epoch 122/200\n",
      "11/11 - 0s - loss: 0.3874 - accuracy: 0.9091\n",
      "Epoch 123/200\n",
      "11/11 - 0s - loss: 0.3796 - accuracy: 0.9091\n",
      "Epoch 124/200\n",
      "11/11 - 0s - loss: 0.3719 - accuracy: 0.9091\n",
      "Epoch 125/200\n",
      "11/11 - 0s - loss: 0.3643 - accuracy: 0.9091\n",
      "Epoch 126/200\n",
      "11/11 - 0s - loss: 0.3569 - accuracy: 0.9091\n",
      "Epoch 127/200\n",
      "11/11 - 0s - loss: 0.3496 - accuracy: 0.9091\n",
      "Epoch 128/200\n",
      "11/11 - 0s - loss: 0.3425 - accuracy: 0.9091\n",
      "Epoch 129/200\n",
      "11/11 - 0s - loss: 0.3355 - accuracy: 0.9091\n",
      "Epoch 130/200\n",
      "11/11 - 0s - loss: 0.3287 - accuracy: 0.9091\n",
      "Epoch 131/200\n",
      "11/11 - 0s - loss: 0.3220 - accuracy: 0.9091\n",
      "Epoch 132/200\n",
      "11/11 - 0s - loss: 0.3154 - accuracy: 0.9091\n",
      "Epoch 133/200\n",
      "11/11 - 0s - loss: 0.3089 - accuracy: 0.9091\n",
      "Epoch 134/200\n",
      "11/11 - 0s - loss: 0.3026 - accuracy: 0.9091\n",
      "Epoch 135/200\n",
      "11/11 - 0s - loss: 0.2963 - accuracy: 0.9091\n",
      "Epoch 136/200\n",
      "11/11 - 0s - loss: 0.2903 - accuracy: 0.9091\n",
      "Epoch 137/200\n",
      "11/11 - 0s - loss: 0.2843 - accuracy: 0.9091\n",
      "Epoch 138/200\n",
      "11/11 - 0s - loss: 0.2784 - accuracy: 0.9091\n",
      "Epoch 139/200\n",
      "11/11 - 0s - loss: 0.2727 - accuracy: 0.9091\n",
      "Epoch 140/200\n",
      "11/11 - 0s - loss: 0.2671 - accuracy: 1.0000\n",
      "Epoch 141/200\n",
      "11/11 - 0s - loss: 0.2616 - accuracy: 1.0000\n"
     ]
    },
    {
     "name": "stdout",
     "output_type": "stream",
     "text": [
      "Epoch 142/200\n",
      "11/11 - 0s - loss: 0.2562 - accuracy: 1.0000\n",
      "Epoch 143/200\n",
      "11/11 - 0s - loss: 0.2510 - accuracy: 1.0000\n",
      "Epoch 144/200\n",
      "11/11 - 0s - loss: 0.2458 - accuracy: 1.0000\n",
      "Epoch 145/200\n",
      "11/11 - 0s - loss: 0.2407 - accuracy: 1.0000\n",
      "Epoch 146/200\n",
      "11/11 - 0s - loss: 0.2358 - accuracy: 1.0000\n",
      "Epoch 147/200\n",
      "11/11 - 0s - loss: 0.2310 - accuracy: 1.0000\n",
      "Epoch 148/200\n",
      "11/11 - 0s - loss: 0.2262 - accuracy: 1.0000\n",
      "Epoch 149/200\n",
      "11/11 - 0s - loss: 0.2216 - accuracy: 1.0000\n",
      "Epoch 150/200\n",
      "11/11 - 0s - loss: 0.2171 - accuracy: 1.0000\n",
      "Epoch 151/200\n",
      "11/11 - 0s - loss: 0.2127 - accuracy: 1.0000\n",
      "Epoch 152/200\n",
      "11/11 - 0s - loss: 0.2083 - accuracy: 1.0000\n",
      "Epoch 153/200\n",
      "11/11 - 0s - loss: 0.2041 - accuracy: 1.0000\n",
      "Epoch 154/200\n",
      "11/11 - 0s - loss: 0.2000 - accuracy: 1.0000\n",
      "Epoch 155/200\n",
      "11/11 - 0s - loss: 0.1959 - accuracy: 1.0000\n",
      "Epoch 156/200\n",
      "11/11 - 0s - loss: 0.1920 - accuracy: 1.0000\n",
      "Epoch 157/200\n",
      "11/11 - 0s - loss: 0.1881 - accuracy: 1.0000\n",
      "Epoch 158/200\n",
      "11/11 - 0s - loss: 0.1843 - accuracy: 1.0000\n",
      "Epoch 159/200\n",
      "11/11 - 0s - loss: 0.1806 - accuracy: 1.0000\n",
      "Epoch 160/200\n",
      "11/11 - 0s - loss: 0.1770 - accuracy: 1.0000\n",
      "Epoch 161/200\n",
      "11/11 - 0s - loss: 0.1735 - accuracy: 1.0000\n",
      "Epoch 162/200\n",
      "11/11 - 0s - loss: 0.1701 - accuracy: 1.0000\n",
      "Epoch 163/200\n",
      "11/11 - 0s - loss: 0.1667 - accuracy: 1.0000\n",
      "Epoch 164/200\n",
      "11/11 - 0s - loss: 0.1634 - accuracy: 1.0000\n",
      "Epoch 165/200\n",
      "11/11 - 0s - loss: 0.1602 - accuracy: 1.0000\n",
      "Epoch 166/200\n",
      "11/11 - 0s - loss: 0.1571 - accuracy: 1.0000\n",
      "Epoch 167/200\n",
      "11/11 - 0s - loss: 0.1540 - accuracy: 1.0000\n",
      "Epoch 168/200\n",
      "11/11 - 0s - loss: 0.1511 - accuracy: 1.0000\n",
      "Epoch 169/200\n",
      "11/11 - 0s - loss: 0.1482 - accuracy: 1.0000\n",
      "Epoch 170/200\n",
      "11/11 - 0s - loss: 0.1453 - accuracy: 1.0000\n",
      "Epoch 171/200\n",
      "11/11 - 0s - loss: 0.1425 - accuracy: 1.0000\n",
      "Epoch 172/200\n",
      "11/11 - 0s - loss: 0.1398 - accuracy: 1.0000\n",
      "Epoch 173/200\n",
      "11/11 - 0s - loss: 0.1372 - accuracy: 1.0000\n",
      "Epoch 174/200\n",
      "11/11 - 0s - loss: 0.1346 - accuracy: 1.0000\n",
      "Epoch 175/200\n",
      "11/11 - 0s - loss: 0.1321 - accuracy: 1.0000\n",
      "Epoch 176/200\n",
      "11/11 - 0s - loss: 0.1296 - accuracy: 1.0000\n",
      "Epoch 177/200\n",
      "11/11 - 0s - loss: 0.1272 - accuracy: 1.0000\n",
      "Epoch 178/200\n",
      "11/11 - 0s - loss: 0.1248 - accuracy: 1.0000\n",
      "Epoch 179/200\n",
      "11/11 - 0s - loss: 0.1225 - accuracy: 1.0000\n",
      "Epoch 180/200\n",
      "11/11 - 0s - loss: 0.1203 - accuracy: 1.0000\n",
      "Epoch 181/200\n",
      "11/11 - 0s - loss: 0.1181 - accuracy: 1.0000\n",
      "Epoch 182/200\n",
      "11/11 - 0s - loss: 0.1160 - accuracy: 1.0000\n",
      "Epoch 183/200\n",
      "11/11 - 0s - loss: 0.1139 - accuracy: 1.0000\n",
      "Epoch 184/200\n",
      "11/11 - 0s - loss: 0.1118 - accuracy: 1.0000\n",
      "Epoch 185/200\n",
      "11/11 - 0s - loss: 0.1099 - accuracy: 1.0000\n",
      "Epoch 186/200\n",
      "11/11 - 0s - loss: 0.1079 - accuracy: 1.0000\n",
      "Epoch 187/200\n",
      "11/11 - 0s - loss: 0.1060 - accuracy: 1.0000\n",
      "Epoch 188/200\n",
      "11/11 - 0s - loss: 0.1041 - accuracy: 1.0000\n",
      "Epoch 189/200\n",
      "11/11 - 0s - loss: 0.1023 - accuracy: 1.0000\n",
      "Epoch 190/200\n",
      "11/11 - 0s - loss: 0.1006 - accuracy: 1.0000\n",
      "Epoch 191/200\n",
      "11/11 - 0s - loss: 0.0988 - accuracy: 1.0000\n",
      "Epoch 192/200\n",
      "11/11 - 0s - loss: 0.0971 - accuracy: 1.0000\n",
      "Epoch 193/200\n",
      "11/11 - 0s - loss: 0.0955 - accuracy: 1.0000\n",
      "Epoch 194/200\n",
      "11/11 - 0s - loss: 0.0939 - accuracy: 1.0000\n",
      "Epoch 195/200\n",
      "11/11 - 0s - loss: 0.0923 - accuracy: 1.0000\n",
      "Epoch 196/200\n",
      "11/11 - 0s - loss: 0.0907 - accuracy: 1.0000\n",
      "Epoch 197/200\n",
      "11/11 - 0s - loss: 0.0892 - accuracy: 1.0000\n",
      "Epoch 198/200\n",
      "11/11 - 0s - loss: 0.0878 - accuracy: 1.0000\n",
      "Epoch 199/200\n",
      "11/11 - 0s - loss: 0.0863 - accuracy: 1.0000\n",
      "Epoch 200/200\n",
      "11/11 - 0s - loss: 0.0849 - accuracy: 1.0000\n"
     ]
    },
    {
     "data": {
      "text/plain": [
       "<tensorflow.python.keras.callbacks.History at 0x7f80504bb240>"
      ]
     },
     "execution_count": 94,
     "metadata": {},
     "output_type": "execute_result"
    }
   ],
   "source": [
    "model.fit(X, y, epochs=200, verbose=2)"
   ]
  },
  {
   "cell_type": "markdown",
   "metadata": {},
   "source": [
    "### Predict"
   ]
  },
  {
   "cell_type": "code",
   "execution_count": 95,
   "metadata": {
    "ExecuteTime": {
     "end_time": "2020-09-07T13:26:13.325476Z",
     "start_time": "2020-09-07T13:26:13.320331Z"
    }
   },
   "outputs": [],
   "source": [
    "def sentence_generation(model, t, current_word, n): # 모델, 토크나이저, 현재 단어, 반복할 횟수\n",
    "    init_word = current_word # 처음 들어온 단어도 마지막에 같이 출력하기위해 저장\n",
    "    sentence = ''\n",
    "    for _ in range(n): # n번 반복\n",
    "        encoded = t.texts_to_sequences([current_word])[0] # 현재 단어에 대한 정수 인코딩\n",
    "        encoded = pad_sequences([encoded], maxlen=5, padding='pre') # 데이터에 대한 패딩\n",
    "        result = model.predict_classes(encoded, verbose=0)\n",
    "    # 입력한 X(현재 단어)에 대해서 Y를 예측하고 Y(예측한 단어)를 result에 저장.\n",
    "        for word, index in t.word_index.items(): \n",
    "            if index == result: # 만약 예측한 단어와 인덱스와 동일한 단어가 있다면\n",
    "                break # 해당 단어가 예측 단어이므로 break\n",
    "        current_word = current_word + ' '  + word # 현재 단어 + ' ' + 예측 단어를 현재 단어로 변경\n",
    "        sentence = sentence + ' ' + word # 예측 단어를 문장에 저장\n",
    "    # for문이므로 이 행동을 다시 반복\n",
    "    sentence = init_word + sentence\n",
    "    return sentence"
   ]
  },
  {
   "cell_type": "code",
   "execution_count": 96,
   "metadata": {
    "ExecuteTime": {
     "end_time": "2020-09-07T13:26:13.592741Z",
     "start_time": "2020-09-07T13:26:13.328119Z"
    }
   },
   "outputs": [
    {
     "data": {
      "text/plain": [
       "'경마장에 있는 말이 뛰고 있다'"
      ]
     },
     "execution_count": 96,
     "metadata": {},
     "output_type": "execute_result"
    }
   ],
   "source": [
    "sentence_generation(model, t, \"경마장에\", 4)"
   ]
  },
  {
   "cell_type": "code",
   "execution_count": 97,
   "metadata": {
    "ExecuteTime": {
     "end_time": "2020-09-07T13:26:13.726300Z",
     "start_time": "2020-09-07T13:26:13.594902Z"
    }
   },
   "outputs": [
    {
     "data": {
      "text/plain": [
       "'그의 말이 법이다 오는 말이'"
      ]
     },
     "execution_count": 97,
     "metadata": {},
     "output_type": "execute_result"
    }
   ],
   "source": [
    "sentence_generation(model, t, \"그의\", 4)"
   ]
  },
  {
   "cell_type": "code",
   "execution_count": 98,
   "metadata": {
    "ExecuteTime": {
     "end_time": "2020-09-07T13:26:13.862795Z",
     "start_time": "2020-09-07T13:26:13.730075Z"
    }
   },
   "outputs": [
    {
     "data": {
      "text/plain": [
       "'말이 말이 고와야 오는 말이'"
      ]
     },
     "execution_count": 98,
     "metadata": {},
     "output_type": "execute_result"
    }
   ],
   "source": [
    "sentence_generation(model, t, \"말이\", 4)"
   ]
  },
  {
   "cell_type": "code",
   "execution_count": null,
   "metadata": {},
   "outputs": [],
   "source": []
  }
 ],
 "metadata": {
  "kernelspec": {
   "display_name": "Python 3",
   "language": "python",
   "name": "python3"
  },
  "language_info": {
   "codemirror_mode": {
    "name": "ipython",
    "version": 3
   },
   "file_extension": ".py",
   "mimetype": "text/x-python",
   "name": "python",
   "nbconvert_exporter": "python",
   "pygments_lexer": "ipython3",
   "version": "3.7.3"
  },
  "toc": {
   "base_numbering": 1,
   "nav_menu": {},
   "number_sections": true,
   "sideBar": true,
   "skip_h1_title": false,
   "title_cell": "Table of Contents",
   "title_sidebar": "Contents",
   "toc_cell": false,
   "toc_position": {},
   "toc_section_display": true,
   "toc_window_display": false
  }
 },
 "nbformat": 4,
 "nbformat_minor": 2
}
