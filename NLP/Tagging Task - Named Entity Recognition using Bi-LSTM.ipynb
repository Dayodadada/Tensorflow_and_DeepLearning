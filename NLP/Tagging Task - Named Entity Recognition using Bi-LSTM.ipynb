{
 "cells": [
  {
   "cell_type": "markdown",
   "metadata": {},
   "source": [
    "# Named Entity Recognition using Bi-LSTM\n",
    "- https://wikidocs.net/24682\n",
    "- 개체명 인식(Named Entity Recognition)이란 말 그대로 이름을 가진 개체(named entity)를 인식하겠다는 것을 의미"
   ]
  },
  {
   "cell_type": "markdown",
   "metadata": {},
   "source": [
    "## Import"
   ]
  },
  {
   "cell_type": "code",
   "execution_count": 1,
   "metadata": {
    "ExecuteTime": {
     "end_time": "2020-10-06T12:43:05.763654Z",
     "start_time": "2020-10-06T12:43:00.221608Z"
    }
   },
   "outputs": [],
   "source": [
    "import re\n",
    "import numpy as np\n",
    "\n",
    "%matplotlib inline\n",
    "import matplotlib.pyplot as plt\n",
    "from tensorflow.keras.preprocessing.text import Tokenizer\n",
    "from tensorflow.keras.preprocessing.sequence import pad_sequences\n",
    "from tensorflow.keras.utils import to_categorical\n",
    "from sklearn.model_selection import train_test_split\n",
    "\n",
    "from tensorflow.keras.models import Sequential\n",
    "from tensorflow.keras.layers import Dense, Embedding, LSTM, Bidirectional, TimeDistributed\n",
    "from tensorflow.keras.optimizers import Adam"
   ]
  },
  {
   "cell_type": "markdown",
   "metadata": {},
   "source": [
    "## Load dataset"
   ]
  },
  {
   "cell_type": "code",
   "execution_count": 3,
   "metadata": {
    "ExecuteTime": {
     "end_time": "2020-10-06T12:44:18.253236Z",
     "start_time": "2020-10-06T12:44:17.971266Z"
    }
   },
   "outputs": [],
   "source": [
    "f = open('train.txt', 'r')\n",
    "tagged_sentences = []\n",
    "sentence = []\n",
    "\n",
    "for line in f:\n",
    "    if len(line)==0 or line.startswith('-DOCSTART') or line[0]==\"\\n\":\n",
    "        if len(sentence) > 0:\n",
    "            tagged_sentences.append(sentence)\n",
    "            sentence = []\n",
    "        continue\n",
    "    splits = line.split(' ') # 공백을 기준으로 속성을 구분한다.\n",
    "    splits[-1] = re.sub(r'\\n', '', splits[-1]) # 줄바꿈 표시 \\n을 제거한다.\n",
    "    word = splits[0].lower() # 단어들은 소문자로 바꿔서 저장한다.\n",
    "    sentence.append([word, splits[-1]]) # 단어와 개체명 태깅만 기록한다."
   ]
  },
  {
   "cell_type": "code",
   "execution_count": 5,
   "metadata": {
    "ExecuteTime": {
     "end_time": "2020-10-06T12:44:51.937741Z",
     "start_time": "2020-10-06T12:44:51.934739Z"
    }
   },
   "outputs": [
    {
     "name": "stdout",
     "output_type": "stream",
     "text": [
      "Num of samples: 6773\n"
     ]
    }
   ],
   "source": [
    "print(f\"Num of samples: {len(tagged_sentences)}\")"
   ]
  },
  {
   "cell_type": "markdown",
   "metadata": {},
   "source": [
    "## Preprocessing"
   ]
  },
  {
   "cell_type": "code",
   "execution_count": 16,
   "metadata": {
    "ExecuteTime": {
     "end_time": "2020-10-06T12:58:26.384807Z",
     "start_time": "2020-10-06T12:58:26.359160Z"
    }
   },
   "outputs": [
    {
     "data": {
      "text/plain": [
       "(6773, 6773)"
      ]
     },
     "execution_count": 16,
     "metadata": {},
     "output_type": "execute_result"
    }
   ],
   "source": [
    "sentences, ner_tags = [], []\n",
    "for tagged_sentence in tagged_sentences:\n",
    "    sentence, tag_info = zip(*tagged_sentence)\n",
    "    sentences.append(list(sentence))\n",
    "    ner_tags.append(list(tag_info))\n",
    "len(sentences), len(ner_tags)"
   ]
  },
  {
   "cell_type": "code",
   "execution_count": 17,
   "metadata": {
    "ExecuteTime": {
     "end_time": "2020-10-06T12:58:26.898551Z",
     "start_time": "2020-10-06T12:58:26.894822Z"
    }
   },
   "outputs": [
    {
     "data": {
      "text/plain": [
       "(['eu', 'rejects', 'german', 'call', 'to', 'boycott', 'british', 'lamb', '.'],\n",
       " ['B-ORG', 'O', 'B-MISC', 'O', 'O', 'O', 'B-MISC', 'O', 'O'])"
      ]
     },
     "execution_count": 17,
     "metadata": {},
     "output_type": "execute_result"
    }
   ],
   "source": [
    "sentences[0], ner_tags[0]"
   ]
  },
  {
   "cell_type": "code",
   "execution_count": 12,
   "metadata": {
    "ExecuteTime": {
     "end_time": "2020-10-06T12:54:45.758490Z",
     "start_time": "2020-10-06T12:54:45.558379Z"
    }
   },
   "outputs": [
    {
     "name": "stdout",
     "output_type": "stream",
     "text": [
      "샘플의 최대 길이 : 60\n",
      "샘플의 평균 길이 : 13.089916\n"
     ]
    },
    {
     "data": {
      "image/png": "[encoded data removed]",
      "text/plain": [
       "<Figure size 432x288 with 1 Axes>"
      ]
     },
     "metadata": {
      "needs_background": "light"
     },
     "output_type": "display_data"
    }
   ],
   "source": [
    "print('샘플의 최대 길이 : %d' % max(len(l) for l in sentences))\n",
    "print('샘플의 평균 길이 : %f' % (sum(map(len, sentences))/len(sentences)))\n",
    "plt.hist([len(s) for s in sentences], bins=50)\n",
    "plt.xlabel('length of samples')\n",
    "plt.ylabel('number of samples')\n",
    "plt.show()"
   ]
  },
  {
   "cell_type": "markdown",
   "metadata": {},
   "source": [
    "### integer encoddding"
   ]
  },
  {
   "cell_type": "code",
   "execution_count": 13,
   "metadata": {
    "ExecuteTime": {
     "end_time": "2020-10-06T12:57:54.279492Z",
     "start_time": "2020-10-06T12:57:54.186962Z"
    }
   },
   "outputs": [],
   "source": [
    "max_words = 4000\n",
    "src_tokenizer = Tokenizer(num_words=max_words, oov_token=\"OOV\")\n",
    "src_tokenizer.fit_on_texts(sentences)"
   ]
  },
  {
   "cell_type": "code",
   "execution_count": 18,
   "metadata": {
    "ExecuteTime": {
     "end_time": "2020-10-06T12:58:30.157643Z",
     "start_time": "2020-10-06T12:58:30.107334Z"
    }
   },
   "outputs": [],
   "source": [
    "tar_tokenizer = Tokenizer()\n",
    "tar_tokenizer.fit_on_texts(ner_tags)"
   ]
  },
  {
   "cell_type": "code",
   "execution_count": 19,
   "metadata": {
    "ExecuteTime": {
     "end_time": "2020-10-06T12:59:39.348747Z",
     "start_time": "2020-10-06T12:59:39.345526Z"
    }
   },
   "outputs": [
    {
     "name": "stdout",
     "output_type": "stream",
     "text": [
      "Num of words: 4000\n",
      "Num of taggings: 10\n"
     ]
    }
   ],
   "source": [
    "vocab_size = max_words\n",
    "tag_size = len(tar_tokenizer.word_index) + 1\n",
    "print(f\"Num of words: {vocab_size}\")\n",
    "print(f\"Num of taggings: {tag_size}\")"
   ]
  },
  {
   "cell_type": "code",
   "execution_count": 20,
   "metadata": {
    "ExecuteTime": {
     "end_time": "2020-10-06T13:01:14.291162Z",
     "start_time": "2020-10-06T13:01:14.199885Z"
    }
   },
   "outputs": [
    {
     "data": {
      "text/plain": [
       "([944, 1, 165, 945, 9, 1, 237, 3050, 3], [3, 1, 7, 1, 1, 1, 7, 1, 1])"
      ]
     },
     "execution_count": 20,
     "metadata": {},
     "output_type": "execute_result"
    }
   ],
   "source": [
    "x_train = src_tokenizer.texts_to_sequences(sentences)\n",
    "y_train = tar_tokenizer.texts_to_sequences(ner_tags)\n",
    "x_train[0], y_train[0]"
   ]
  },
  {
   "cell_type": "code",
   "execution_count": 21,
   "metadata": {
    "ExecuteTime": {
     "end_time": "2020-10-06T13:02:57.636211Z",
     "start_time": "2020-10-06T13:02:57.632540Z"
    }
   },
   "outputs": [
    {
     "data": {
      "text/plain": [
       "(12830, 9)"
      ]
     },
     "execution_count": 21,
     "metadata": {},
     "output_type": "execute_result"
    }
   ],
   "source": [
    "index_to_word = src_tokenizer.index_word\n",
    "index_to_ner = tar_tokenizer.index_word\n",
    "len(index_to_word), len(index_to_ner)"
   ]
  },
  {
   "cell_type": "code",
   "execution_count": 23,
   "metadata": {
    "ExecuteTime": {
     "end_time": "2020-10-06T13:03:26.100538Z",
     "start_time": "2020-10-06T13:03:26.096758Z"
    }
   },
   "outputs": [
    {
     "name": "stdout",
     "output_type": "stream",
     "text": [
      "기존 문장 : ['eu', 'rejects', 'german', 'call', 'to', 'boycott', 'british', 'lamb', '.']\n",
      "빈도수가 낮은 단어가 OOV 처리된 문장 : ['eu', 'OOV', 'german', 'call', 'to', 'OOV', 'british', 'lamb', '.']\n"
     ]
    }
   ],
   "source": [
    "decoded = []\n",
    "for index in x_train[0] :\n",
    "    decoded.append(index_to_word[index])\n",
    "\n",
    "print('기존 문장 : {}'.format(sentences[0]))\n",
    "print('빈도수가 낮은 단어가 OOV 처리된 문장 : {}'.format(decoded))"
   ]
  },
  {
   "cell_type": "markdown",
   "metadata": {},
   "source": [
    "### padding"
   ]
  },
  {
   "cell_type": "code",
   "execution_count": 24,
   "metadata": {
    "ExecuteTime": {
     "end_time": "2020-10-06T13:04:37.224194Z",
     "start_time": "2020-10-06T13:04:37.158853Z"
    }
   },
   "outputs": [],
   "source": [
    "max_len = 70\n",
    "x_train = pad_sequences(x_train, padding='post', maxlen=max_len)\n",
    "y_train = pad_sequences(y_train, padding='post', maxlen=max_len)"
   ]
  },
  {
   "cell_type": "markdown",
   "metadata": {},
   "source": [
    "### split train, test set"
   ]
  },
  {
   "cell_type": "code",
   "execution_count": 25,
   "metadata": {
    "ExecuteTime": {
     "end_time": "2020-10-06T13:05:18.400046Z",
     "start_time": "2020-10-06T13:05:18.393014Z"
    }
   },
   "outputs": [
    {
     "data": {
      "text/plain": [
       "((5418, 70), (1355, 70), (5418, 70), (1355, 70))"
      ]
     },
     "execution_count": 25,
     "metadata": {},
     "output_type": "execute_result"
    }
   ],
   "source": [
    "x_train, x_test, y_train, y_test = train_test_split(x_train, y_train, test_size=.2, random_state=0)\n",
    "x_train.shape, x_test.shape, y_train.shape, y_test.shape"
   ]
  },
  {
   "cell_type": "code",
   "execution_count": 26,
   "metadata": {
    "ExecuteTime": {
     "end_time": "2020-10-06T13:06:12.872469Z",
     "start_time": "2020-10-06T13:06:12.852720Z"
    }
   },
   "outputs": [
    {
     "data": {
      "text/plain": [
       "((5418, 70, 10), (1355, 70, 10))"
      ]
     },
     "execution_count": 26,
     "metadata": {},
     "output_type": "execute_result"
    }
   ],
   "source": [
    "y_train = to_categorical(y_train, num_classes=tag_size)\n",
    "y_test = to_categorical(y_test, num_classes=tag_size)\n",
    "y_train.shape, y_test.shape"
   ]
  },
  {
   "cell_type": "markdown",
   "metadata": {},
   "source": [
    "## Define model"
   ]
  },
  {
   "cell_type": "code",
   "execution_count": 28,
   "metadata": {
    "ExecuteTime": {
     "end_time": "2020-10-06T13:16:46.088659Z",
     "start_time": "2020-10-06T13:16:44.255069Z"
    }
   },
   "outputs": [
    {
     "name": "stdout",
     "output_type": "stream",
     "text": [
      "Model: \"sequential\"\n",
      "_________________________________________________________________\n",
      "Layer (type)                 Output Shape              Param #   \n",
      "=================================================================\n",
      "embedding (Embedding)        (None, 70, 128)           512000    \n",
      "_________________________________________________________________\n",
      "bidirectional (Bidirectional (None, 70, 512)           788480    \n",
      "_________________________________________________________________\n",
      "time_distributed (TimeDistri (None, 70, 10)            5130      \n",
      "=================================================================\n",
      "Total params: 1,305,610\n",
      "Trainable params: 1,305,610\n",
      "Non-trainable params: 0\n",
      "_________________________________________________________________\n"
     ]
    }
   ],
   "source": [
    "model = Sequential()\n",
    "model.add(Embedding(input_dim=vocab_size, output_dim=128, input_length=max_len, mask_zero=True))\n",
    "model.add(Bidirectional(LSTM(256, return_sequences=True)))\n",
    "model.add(TimeDistributed(Dense(tag_size, activation=\"softmax\")))\n",
    "model.summary()\n",
    "# 각 데이터의 길이가 달라서 패딩을 하느라 숫자 0이 많아질 경우에는 Embedding()에 mask_zero=True를 설정하여 데이터에서 숫자 0은 패딩을 의미하므로 연산에서 제외시킨다는 옵션\n",
    "# Many-to-Many 문제이므로 LSTM()에 return_sequences=True를 설정"
   ]
  },
  {
   "cell_type": "code",
   "execution_count": 29,
   "metadata": {
    "ExecuteTime": {
     "end_time": "2020-10-06T13:17:32.066375Z",
     "start_time": "2020-10-06T13:17:31.954450Z"
    }
   },
   "outputs": [],
   "source": [
    "model.compile(\n",
    "    loss=\"categorical_crossentropy\",\n",
    "    optimizer=Adam(0.001),\n",
    "    metrics=[\"accuracy\"]\n",
    ")"
   ]
  },
  {
   "cell_type": "markdown",
   "metadata": {},
   "source": [
    "## Train"
   ]
  },
  {
   "cell_type": "code",
   "execution_count": 30,
   "metadata": {
    "ExecuteTime": {
     "end_time": "2020-10-06T13:25:17.192208Z",
     "start_time": "2020-10-06T13:18:20.718024Z"
    }
   },
   "outputs": [
    {
     "name": "stdout",
     "output_type": "stream",
     "text": [
      "Train on 5418 samples, validate on 1355 samples\n",
      "Epoch 1/8\n",
      "5418/5418 [==============================] - 45s 8ms/sample - loss: 0.2170 - accuracy: 0.7976 - val_loss: 0.1466 - val_accuracy: 0.8185\n",
      "Epoch 2/8\n",
      "5418/5418 [==============================] - 45s 8ms/sample - loss: 0.1396 - accuracy: 0.8152 - val_loss: 0.1223 - val_accuracy: 0.8172\n",
      "Epoch 3/8\n",
      "5418/5418 [==============================] - 51s 9ms/sample - loss: 0.1049 - accuracy: 0.8275 - val_loss: 0.0858 - val_accuracy: 0.8569\n",
      "Epoch 4/8\n",
      "5418/5418 [==============================] - 59s 11ms/sample - loss: 0.0775 - accuracy: 0.8737 - val_loss: 0.0670 - val_accuracy: 0.8894\n",
      "Epoch 5/8\n",
      "5418/5418 [==============================] - 64s 12ms/sample - loss: 0.0599 - accuracy: 0.9027 - val_loss: 0.0555 - val_accuracy: 0.9089\n",
      "Epoch 6/8\n",
      "5418/5418 [==============================] - 50s 9ms/sample - loss: 0.0477 - accuracy: 0.9244 - val_loss: 0.0456 - val_accuracy: 0.9270\n",
      "Epoch 7/8\n",
      "5418/5418 [==============================] - 49s 9ms/sample - loss: 0.0389 - accuracy: 0.9388 - val_loss: 0.0405 - val_accuracy: 0.9385\n",
      "Epoch 8/8\n",
      "5418/5418 [==============================] - 53s 10ms/sample - loss: 0.0316 - accuracy: 0.9512 - val_loss: 0.0365 - val_accuracy: 0.9447\n"
     ]
    },
    {
     "data": {
      "text/plain": [
       "<tensorflow.python.keras.callbacks.History at 0x7fb06d690240>"
      ]
     },
     "execution_count": 30,
     "metadata": {},
     "output_type": "execute_result"
    }
   ],
   "source": [
    "model.fit(\n",
    "    x_train,\n",
    "    y_train,\n",
    "    batch_size=128,\n",
    "    epochs=8,\n",
    "    validation_data=(x_test, y_test)\n",
    ")"
   ]
  },
  {
   "cell_type": "code",
   "execution_count": 31,
   "metadata": {
    "ExecuteTime": {
     "end_time": "2020-10-06T13:25:21.560011Z",
     "start_time": "2020-10-06T13:25:17.195891Z"
    }
   },
   "outputs": [
    {
     "name": "stdout",
     "output_type": "stream",
     "text": [
      "1355/1 - 4s - loss: 0.0585 - accuracy: 0.9447\n",
      "\n",
      " 테스트 정확도: 0.9447\n"
     ]
    }
   ],
   "source": [
    "print(\"\\n 테스트 정확도: %.4f\" % (model.evaluate(x_test, y_test, verbose=2)[1]))\n",
    "# 대부분의 단어가 개체명이 아니라는 'O'가 태깅된 상황에서 예측 정확도가 수많은 'O'로 인해 결정되고 있기 때문에 accuracy는 적절한 metric이 아님\n",
    "# f1-score 사용을 추천"
   ]
  },
  {
   "cell_type": "markdown",
   "metadata": {},
   "source": [
    "## Predict"
   ]
  },
  {
   "cell_type": "code",
   "execution_count": 40,
   "metadata": {
    "ExecuteTime": {
     "end_time": "2020-10-06T13:28:32.319746Z",
     "start_time": "2020-10-06T13:28:32.264232Z"
    }
   },
   "outputs": [
    {
     "name": "stdout",
     "output_type": "stream",
     "text": [
      "단어             |실제값  |예측값\n",
      "-----------------------------------\n",
      "there            : O       O\n",
      "was              : O       O\n",
      "also             : O       O\n",
      "heavy            : O       O\n",
      "security         : O       O\n",
      "in               : O       O\n",
      "the              : O       O\n",
      "OOV              : O       O\n",
      "centre           : O       O\n",
      "of               : O       O\n",
      "amman            : B-LOC   B-LOC\n",
      ",                : O       O\n",
      "where            : O       O\n",
      "OOV              : O       O\n",
      "clashes          : O       O\n",
      "had              : O       O\n",
      "erupted          : O       O\n",
      "last             : O       O\n",
      "saturday         : O       O\n",
      ",                : O       O\n",
      "but              : O       O\n",
      "friday           : O       O\n",
      "prayers          : O       O\n",
      "at               : O       O\n",
      "the              : O       O\n",
      "main             : O       O\n",
      "mosque           : O       O\n",
      "ended            : O       O\n",
      "OOV              : O       O\n",
      "as               : O       O\n",
      "police           : O       O\n",
      "in               : O       O\n",
      "full             : O       O\n",
      "OOV              : O       O\n",
      "gear             : O       O\n",
      "looked           : O       O\n",
      "on               : O       O\n",
      ".                : O       O\n"
     ]
    }
   ],
   "source": [
    "i = 100\n",
    "y_predicted = model.predict(np.array([x_test[i]]))\n",
    "y_predicted = np.argmax(y_predicted, axis=-1)\n",
    "true = np.argmax(y_test[i], axis=-1)\n",
    "print(\"{:15}|{:5}|{}\".format(\"단어\", \"실제값\", \"예측값\"))\n",
    "print(35 * \"-\")\n",
    "\n",
    "for w, t, pred in zip(x_test[i], true, y_predicted[0]):\n",
    "    if w != 0: # PAD값은 제외함.\n",
    "        print(\"{:17}: {:7} {}\".format(index_to_word[w], index_to_ner[t].upper(), index_to_ner[pred].upper()))"
   ]
  },
  {
   "cell_type": "code",
   "execution_count": null,
   "metadata": {},
   "outputs": [],
   "source": []
  }
 ],
 "metadata": {
  "kernelspec": {
   "display_name": "Python 3",
   "language": "python",
   "name": "python3"
  },
  "language_info": {
   "codemirror_mode": {
    "name": "ipython",
    "version": 3
   },
   "file_extension": ".py",
   "mimetype": "text/x-python",
   "name": "python",
   "nbconvert_exporter": "python",
   "pygments_lexer": "ipython3",
   "version": "3.7.3"
  },
  "toc": {
   "base_numbering": 1,
   "nav_menu": {},
   "number_sections": true,
   "sideBar": true,
   "skip_h1_title": false,
   "title_cell": "Table of Contents",
   "title_sidebar": "Contents",
   "toc_cell": false,
   "toc_position": {},
   "toc_section_display": true,
   "toc_window_display": false
  }
 },
 "nbformat": 4,
 "nbformat_minor": 2
}
