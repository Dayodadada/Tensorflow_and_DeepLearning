{
 "cells": [
  {
   "cell_type": "markdown",
   "metadata": {},
   "source": [
    "# Word2Vec\n",
    "- Skip Gram"
   ]
  },
  {
   "cell_type": "markdown",
   "metadata": {},
   "source": [
    "## Import Packages"
   ]
  },
  {
   "cell_type": "code",
   "execution_count": 1,
   "metadata": {},
   "outputs": [
    {
     "name": "stdout",
     "output_type": "stream",
     "text": [
      "WARNING:tensorflow:From /Users/user/anaconda3/lib/python3.7/site-packages/tensorflow_core/python/compat/v2_compat.py:65: disable_resource_variables (from tensorflow.python.ops.variable_scope) is deprecated and will be removed in a future version.\n",
      "Instructions for updating:\n",
      "non-resource variables are not supported in the long term\n"
     ]
    }
   ],
   "source": [
    "# import tensorflow as tf\n",
    "import tensorflow.compat.v1 as tf\n",
    "tf.disable_v2_behavior()\n",
    "import numpy as np\n",
    "from tqdm import tqdm_notebook\n",
    "from nltk.corpus import stopwords"
   ]
  },
  {
   "cell_type": "markdown",
   "metadata": {},
   "source": [
    "## Configurations"
   ]
  },
  {
   "cell_type": "code",
   "execution_count": 2,
   "metadata": {},
   "outputs": [],
   "source": [
    "hyper = {\n",
    "    \"emb_size\":100,\n",
    "    \"window_size\": 5,\n",
    "    \"min_count\":1,\n",
    "    \"sg\":0,\n",
    "    \"negative_size\": 5,\n",
    "    \"ns_exponent\": 0.75,\n",
    "    \"cbow_mean\":1,\n",
    "    \"iter\":10, #epochs\n",
    "    \"learning_rate\":0.025, # initial learning rate\n",
    "    \"sample\": 0.1, #defualt=0.001\n",
    "#     \"vocab_size\":0,\n",
    "    \"batch_size\":10000,\n",
    "    \"update_size\":32,\n",
    "}"
   ]
  },
  {
   "cell_type": "code",
   "execution_count": 3,
   "metadata": {
    "scrolled": true
   },
   "outputs": [],
   "source": [
    "stopwords_en = stopwords.words('english')"
   ]
  },
  {
   "cell_type": "markdown",
   "metadata": {},
   "source": [
    "## Load Dataset\n",
    "- reuters\n",
    "    - Reuters topic classification dataset."
   ]
  },
  {
   "cell_type": "code",
   "execution_count": 4,
   "metadata": {},
   "outputs": [
    {
     "name": "stdout",
     "output_type": "stream",
     "text": [
      "X_train: (8982,), y_train: (8982,)\n",
      "X_test: (2246,), y_test: (2246,)\n"
     ]
    }
   ],
   "source": [
    "(x_train, y_train), (x_test, y_test) = tf.keras.datasets.reuters.load_data(\n",
    "    num_words=None, # max number of words to include\n",
    "    skip_top=0, # skip the top N most frequently occurring words\n",
    ")\n",
    "print(f\"X_train: {x_train.shape}, y_train: {y_train.shape}\")\n",
    "print(f\"X_test: {x_test.shape}, y_test: {y_test.shape}\")"
   ]
  },
  {
   "cell_type": "code",
   "execution_count": 5,
   "metadata": {},
   "outputs": [
    {
     "name": "stdout",
     "output_type": "stream",
     "text": [
      "The num of categories: 46\n"
     ]
    }
   ],
   "source": [
    "print(f\"The num of categories: {len(set(y_train))}\")"
   ]
  },
  {
   "cell_type": "code",
   "execution_count": 6,
   "metadata": {
    "scrolled": false
   },
   "outputs": [
    {
     "name": "stdout",
     "output_type": "stream",
     "text": [
      "The num of words: 88584\n"
     ]
    },
    {
     "data": {
      "text/plain": [
       "(1408, 'woods')"
      ]
     },
     "execution_count": 6,
     "metadata": {},
     "output_type": "execute_result"
    }
   ],
   "source": [
    "word2index = tf.keras.datasets.imdb.get_word_index()\n",
    "index2word = {}\n",
    "for word, index in word2index.items() :\n",
    "    index2word[index] = word\n",
    "\n",
    "print(f\"The num of words: {len(word2index)}\")\n",
    "word2index[\"woods\"], index2word[1408]"
   ]
  },
  {
   "cell_type": "code",
   "execution_count": 7,
   "metadata": {},
   "outputs": [
    {
     "data": {
      "text/plain": [
       "88584"
      ]
     },
     "execution_count": 7,
     "metadata": {},
     "output_type": "execute_result"
    }
   ],
   "source": [
    "len(word2index.values())"
   ]
  },
  {
   "cell_type": "markdown",
   "metadata": {},
   "source": [
    "### Change from index to word"
   ]
  },
  {
   "cell_type": "code",
   "execution_count": 8,
   "metadata": {},
   "outputs": [],
   "source": [
    "def change_from_index_to_word(index_list) :\n",
    "    word_list = []\n",
    "    for index in index_list :\n",
    "        if index in index2word :\n",
    "            word_list.append(index2word[index])\n",
    "        else :\n",
    "            print(f\"{index} is not exist in index2word!\")\n",
    "    return word_list"
   ]
  },
  {
   "cell_type": "code",
   "execution_count": 9,
   "metadata": {},
   "outputs": [
    {
     "data": {
      "text/plain": [
       "8982"
      ]
     },
     "execution_count": 9,
     "metadata": {},
     "output_type": "execute_result"
    }
   ],
   "source": [
    "train_texts = []\n",
    "for indexs in x_train :\n",
    "    train_texts.append(change_from_index_to_word(indexs))\n",
    "len(train_texts)"
   ]
  },
  {
   "cell_type": "markdown",
   "metadata": {},
   "source": [
    "## Functions"
   ]
  },
  {
   "cell_type": "code",
   "execution_count": 10,
   "metadata": {
    "scrolled": true
   },
   "outputs": [],
   "source": [
    "def get_vocabulary(texts, min_count) :\n",
    "\n",
    "    # Calculate frequency of word appearance.\n",
    "    word2count = {}\n",
    "    for text in texts :\n",
    "        for word in text :\n",
    "            if word in word2count :\n",
    "                word2count[word] += 1\n",
    "            else :\n",
    "                word2count[word] = 1\n",
    "    \n",
    "    # Save only words that meet min_count condition.\n",
    "    vocab = [word for word in word2count if word2count[word] >= min_count]\n",
    "    filtered_word2count = {}\n",
    "    for word in vocab :\n",
    "        filtered_word2count[word] = word2count[word]\n",
    "    print(f\"The num of words that meet min_count >= {min_count}: {len(vocab):,}\")\n",
    "    \n",
    "    return filtered_word2count, vocab"
   ]
  },
  {
   "cell_type": "code",
   "execution_count": 11,
   "metadata": {},
   "outputs": [],
   "source": [
    "def generate_word_pairs(texts, word2count, vocab, hyper) :\n",
    "    '''\n",
    "    return [[target word, context word],[target word, context word],...]\n",
    "    '''\n",
    "    sample = hyper.get(\"sample\")\n",
    "    window_size = hyper.get(\"window_size\")\n",
    "    \n",
    "    filtered = 0\n",
    "    sampled = 0\n",
    "    training_data = []\n",
    "\n",
    "    for raw_text in tqdm_notebook(texts) :\n",
    "        text = [word for word in raw_text if (word in vocab)&(word not in stopwords_en)]\n",
    "        \n",
    "        if len(text) > 1 :\n",
    "            for i in range(len(text)) :\n",
    "                # get target word\n",
    "                target_word = text[i]\n",
    "                target_index = vocab.index(text[i])\n",
    "                \n",
    "                # probability of excluding word from learning\n",
    "                prob = 1 - np.sqrt(sample / word2count[target_word])\n",
    "                if np.random.rand() < prob :\n",
    "                    sampled += 1 * 2 * window_size\n",
    "                    continue\n",
    "                        \n",
    "                # get context words\n",
    "                for j in range(i - window_size if i - window_size > 0 else 0, i + window_size if i + window_size <= len(text) - 1 else len(text) - 1) :\n",
    "                    context_word = text[j]\n",
    "                    context_index = vocab.index(context_word)\n",
    "                    \n",
    "                    # append rows\n",
    "                    training_data.append([target_index, context_index])\n",
    "        else :\n",
    "            filtered += 1 * 2 * window_size\n",
    "                \n",
    "    print(f\"- The final training data: {len(training_data)}.\")\n",
    "    print(f\"- Filtered {filtered} texts.\")\n",
    "    print(f\"- Sampled {sampled} texts.\")\n",
    "    return training_data"
   ]
  },
  {
   "cell_type": "markdown",
   "metadata": {},
   "source": [
    "## Run"
   ]
  },
  {
   "cell_type": "code",
   "execution_count": 12,
   "metadata": {},
   "outputs": [
    {
     "name": "stdout",
     "output_type": "stream",
     "text": [
      "The num of words that meet min_count >= 1: 28,138\n"
     ]
    },
    {
     "data": {
      "application/vnd.jupyter.widget-view+json": {
       "model_id": "beb300be399c4a0a9c51f3ad547b9922",
       "version_major": 2,
       "version_minor": 0
      },
      "text/plain": [
       "HBox(children=(IntProgress(value=0, max=8982), HTML(value='')))"
      ]
     },
     "metadata": {},
     "output_type": "display_data"
    },
    {
     "name": "stdout",
     "output_type": "stream",
     "text": [
      "\n",
      "- The final training data: 259644.\n",
      "- Filtered 0 texts.\n",
      "- Sampled 7118490 texts.\n"
     ]
    }
   ],
   "source": [
    "min_count = hyper.get(\"min_count\")\n",
    "word2count, vocab = get_vocabulary(train_texts, min_count)\n",
    "training_data = generate_word_pairs(train_texts, word2count, vocab, hyper)\n",
    "hyper[\"vocab_size\"] = len(vocab)"
   ]
  },
  {
   "cell_type": "code",
   "execution_count": 13,
   "metadata": {
    "scrolled": true
   },
   "outputs": [
    {
     "name": "stdout",
     "output_type": "stream",
     "text": [
      "\n",
      "Epoch: 0\n",
      "- Training Loss: 118.2\n",
      "- Training Loss: 137.6\n",
      "- Training Loss: 91.22\n",
      "- Training Loss: 102.3\n",
      "- Training Loss: 109.0\n",
      "- Training Loss: 89.82\n",
      "- Training Loss: 73.95\n",
      "- Training Loss: 87.95\n",
      "- Training Loss: 68.45\n",
      "- Training Loss: 70.66\n",
      "- Training Loss: 51.46\n",
      "- Training Loss: 72.63\n",
      "- Training Loss: 45.2\n",
      "- Training Loss: 43.93\n",
      "- Training Loss: 51.41\n",
      "- Training Loss: 56.9\n",
      "- Training Loss: 53.72\n",
      "- Training Loss: 31.91\n",
      "- Training Loss: 43.36\n",
      "- Training Loss: 48.96\n",
      "- Training Loss: 51.57\n",
      "- Training Loss: 26.1\n",
      "- Training Loss: 45.53\n",
      "- Training Loss: 37.79\n",
      "- Training Loss: 27.3\n",
      "\n",
      "Epoch: 1\n",
      "- Training Loss: 28.71\n",
      "- Training Loss: 37.2\n",
      "- Training Loss: 47.73\n",
      "- Training Loss: 49.8\n",
      "- Training Loss: 46.08\n",
      "- Training Loss: 52.23\n",
      "- Training Loss: 36.97\n",
      "- Training Loss: 41.09\n",
      "- Training Loss: 34.01\n",
      "- Training Loss: 35.87\n",
      "- Training Loss: 42.41\n",
      "- Training Loss: 75.91\n",
      "- Training Loss: 22.75\n",
      "- Training Loss: 30.41\n",
      "- Training Loss: 45.59\n",
      "- Training Loss: 22.75\n",
      "- Training Loss: 12.73\n",
      "- Training Loss: 29.77\n",
      "- Training Loss: 60.51\n",
      "- Training Loss: 36.46\n",
      "- Training Loss: 29.68\n",
      "- Training Loss: 56.27\n",
      "- Training Loss: 26.81\n",
      "- Training Loss: 30.95\n",
      "- Training Loss: 86.72\n",
      "\n",
      "Epoch: 2\n",
      "- Training Loss: 36.71\n",
      "- Training Loss: 26.97\n",
      "- Training Loss: 30.82\n",
      "- Training Loss: 26.11\n",
      "- Training Loss: 41.88\n",
      "- Training Loss: 29.69\n",
      "- Training Loss: 52.62\n",
      "- Training Loss: 64.8\n",
      "- Training Loss: 17.14\n",
      "- Training Loss: 50.34\n",
      "- Training Loss: 19.53\n",
      "- Training Loss: 23.05\n",
      "- Training Loss: 79.83\n",
      "- Training Loss: 31.74\n",
      "- Training Loss: 22.15\n",
      "- Training Loss: 43.18\n",
      "- Training Loss: 25.34\n",
      "- Training Loss: 28.17\n",
      "- Training Loss: 30.37\n",
      "- Training Loss: 58.79\n",
      "- Training Loss: 36.6\n",
      "- Training Loss: 37.83\n",
      "- Training Loss: 32.51\n",
      "- Training Loss: 51.08\n",
      "- Training Loss: 50.05\n",
      "\n",
      "Epoch: 3\n",
      "- Training Loss: 28.34\n",
      "- Training Loss: 26.93\n",
      "- Training Loss: 30.95\n",
      "- Training Loss: 43.74\n",
      "- Training Loss: 32.45\n",
      "- Training Loss: 30.72\n",
      "- Training Loss: 38.69\n",
      "- Training Loss: 29.31\n",
      "- Training Loss: 45.53\n",
      "- Training Loss: 86.21\n",
      "- Training Loss: 38.64\n",
      "- Training Loss: 30.32\n",
      "- Training Loss: 28.19\n",
      "- Training Loss: 30.07\n",
      "- Training Loss: 45.73\n",
      "- Training Loss: 26.57\n",
      "- Training Loss: 47.55\n",
      "- Training Loss: 26.0\n",
      "- Training Loss: 37.72\n",
      "- Training Loss: 40.56\n",
      "- Training Loss: 41.72\n",
      "- Training Loss: 44.36\n",
      "- Training Loss: 47.25\n",
      "- Training Loss: 28.11\n",
      "- Training Loss: 31.47\n",
      "\n",
      "Epoch: 4\n",
      "- Training Loss: 42.76\n",
      "- Training Loss: 49.88\n",
      "- Training Loss: 32.37\n",
      "- Training Loss: 19.85\n",
      "- Training Loss: 41.92\n",
      "- Training Loss: 38.92\n",
      "- Training Loss: 32.27\n",
      "- Training Loss: 33.11\n",
      "- Training Loss: 63.56\n",
      "- Training Loss: 44.99\n",
      "- Training Loss: 50.8\n",
      "- Training Loss: 42.98\n",
      "- Training Loss: 26.25\n",
      "- Training Loss: 46.03\n",
      "- Training Loss: 35.35\n",
      "- Training Loss: 23.53\n",
      "- Training Loss: 33.01\n",
      "- Training Loss: 30.69\n",
      "- Training Loss: 24.13\n",
      "- Training Loss: 31.22\n",
      "- Training Loss: 28.11\n",
      "- Training Loss: 50.59\n",
      "- Training Loss: 28.68\n",
      "- Training Loss: 59.16\n",
      "- Training Loss: 37.05\n",
      "\n",
      "Epoch: 5\n",
      "- Training Loss: 43.78\n",
      "- Training Loss: 48.83\n",
      "- Training Loss: 85.87\n",
      "- Training Loss: 24.88\n",
      "- Training Loss: 28.06\n",
      "- Training Loss: 24.0\n",
      "- Training Loss: 15.18\n",
      "- Training Loss: 25.96\n",
      "- Training Loss: 20.74\n",
      "- Training Loss: 38.78\n",
      "- Training Loss: 48.13\n",
      "- Training Loss: 44.35\n",
      "- Training Loss: 30.88\n",
      "- Training Loss: 41.13\n",
      "- Training Loss: 46.71\n",
      "- Training Loss: 47.73\n",
      "- Training Loss: 31.39\n",
      "- Training Loss: 22.0\n",
      "- Training Loss: 37.12\n",
      "- Training Loss: 47.93\n",
      "- Training Loss: 42.39\n",
      "- Training Loss: 32.21\n",
      "- Training Loss: 23.72\n",
      "- Training Loss: 71.58\n",
      "- Training Loss: 20.61\n",
      "\n",
      "Epoch: 6\n",
      "- Training Loss: 59.64\n",
      "- Training Loss: 41.61\n",
      "- Training Loss: 25.84\n",
      "- Training Loss: 12.28\n",
      "- Training Loss: 28.12\n",
      "- Training Loss: 35.74\n",
      "- Training Loss: 64.98\n",
      "- Training Loss: 41.13\n",
      "- Training Loss: 38.9\n",
      "- Training Loss: 29.14\n",
      "- Training Loss: 28.62\n",
      "- Training Loss: 53.46\n",
      "- Training Loss: 25.12\n",
      "- Training Loss: 37.63\n",
      "- Training Loss: 23.7\n",
      "- Training Loss: 33.49\n",
      "- Training Loss: 55.73\n",
      "- Training Loss: 27.0\n",
      "- Training Loss: 56.95\n",
      "- Training Loss: 27.12\n",
      "- Training Loss: 80.68\n",
      "- Training Loss: 34.16\n",
      "- Training Loss: 47.9\n",
      "- Training Loss: 50.76\n",
      "- Training Loss: 35.93\n",
      "\n",
      "Epoch: 7\n",
      "- Training Loss: 31.63\n",
      "- Training Loss: 51.52\n",
      "- Training Loss: 59.11\n",
      "- Training Loss: 20.44\n",
      "- Training Loss: 33.71\n",
      "- Training Loss: 39.82\n",
      "- Training Loss: 46.44\n",
      "- Training Loss: 45.42\n",
      "- Training Loss: 30.11\n",
      "- Training Loss: 53.79\n",
      "- Training Loss: 18.1\n",
      "- Training Loss: 35.57\n",
      "- Training Loss: 39.47\n",
      "- Training Loss: 29.82\n",
      "- Training Loss: 65.98\n",
      "- Training Loss: 52.06\n",
      "- Training Loss: 29.32\n",
      "- Training Loss: 34.3\n",
      "- Training Loss: 29.35\n",
      "- Training Loss: 27.68\n",
      "- Training Loss: 44.43\n",
      "- Training Loss: 30.94\n",
      "- Training Loss: 31.03\n",
      "- Training Loss: 50.77\n",
      "- Training Loss: 23.3\n",
      "\n",
      "Epoch: 8\n",
      "- Training Loss: 48.44\n",
      "- Training Loss: 32.04\n",
      "- Training Loss: 28.17\n",
      "- Training Loss: 22.87\n",
      "- Training Loss: 43.18\n",
      "- Training Loss: 20.28\n",
      "- Training Loss: 37.05\n",
      "- Training Loss: 46.01\n",
      "- Training Loss: 28.26\n",
      "- Training Loss: 38.62\n",
      "- Training Loss: 32.11\n",
      "- Training Loss: 36.94\n",
      "- Training Loss: 36.52\n",
      "- Training Loss: 32.73\n",
      "- Training Loss: 34.76\n",
      "- Training Loss: 39.87\n",
      "- Training Loss: 49.3\n",
      "- Training Loss: 41.46\n",
      "- Training Loss: 16.43\n",
      "- Training Loss: 67.78\n",
      "- Training Loss: 21.34\n",
      "- Training Loss: 83.34\n",
      "- Training Loss: 36.76\n",
      "- Training Loss: 33.88\n",
      "- Training Loss: 36.74\n",
      "\n",
      "Epoch: 9\n",
      "- Training Loss: 49.26\n",
      "- Training Loss: 48.32\n",
      "- Training Loss: 46.35\n",
      "- Training Loss: 28.53\n",
      "- Training Loss: 36.15\n",
      "- Training Loss: 23.6\n",
      "- Training Loss: 33.19\n",
      "- Training Loss: 41.81\n",
      "- Training Loss: 33.64\n",
      "- Training Loss: 54.05\n",
      "- Training Loss: 15.06\n",
      "- Training Loss: 35.66\n",
      "- Training Loss: 21.21\n",
      "- Training Loss: 34.48\n",
      "- Training Loss: 55.44\n",
      "- Training Loss: 29.9\n",
      "- Training Loss: 23.23\n",
      "- Training Loss: 37.4\n",
      "- Training Loss: 23.57\n",
      "- Training Loss: 33.92\n",
      "- Training Loss: 23.53\n",
      "- Training Loss: 35.8\n",
      "- Training Loss: 59.39\n",
      "- Training Loss: 22.74\n",
      "- Training Loss: 35.3\n",
      "\n",
      "Dimension of W: (28138, 100)\n",
      "Dimension of U: (28138, 100)\n"
     ]
    }
   ],
   "source": [
    "with tf.Session() as session:\n",
    "    \n",
    "    # Define Model\n",
    "    window_size = hyper.get(\"window_size\")\n",
    "    negative_size = hyper.get(\"negative_size\")\n",
    "    batch_size = hyper.get(\"batch_size\")\n",
    "    update_size = hyper.get(\"update_size\")\n",
    "    vocab_size = hyper.get(\"vocab_size\")\n",
    "    emb_size = hyper.get(\"emb_size\")\n",
    "    learning_rate = hyper.get(\"learning_rate\")\n",
    "    epochs = hyper.get(\"iter\")\n",
    "\n",
    "    target = tf.placeholder(dtype=tf.int32, shape=[None])\n",
    "    context = tf.placeholder(dtype=tf.int32, shape=[None, 1])\n",
    "\n",
    "    W = tf.Variable(tf.random_uniform([vocab_size, emb_size], -1.0, 1.0))\n",
    "    target_emb = tf.nn.embedding_lookup(W, target)\n",
    "\n",
    "    U = tf.Variable(tf.random_uniform([vocab_size, emb_size], -1.0, 1.0))\n",
    "    B = tf.Variable(tf.zeros([vocab_size]))\n",
    "\n",
    "    loss = tf.reduce_mean(tf.nn.nce_loss(U, B, context, target_emb, update_size, vocab_size))\n",
    "    train_op = tf.train.AdamOptimizer(learning_rate).minimize(loss)\n",
    "    init = tf.global_variables_initializer()\n",
    "    \n",
    "    # Run\n",
    "    session.run(init)\n",
    "    for epoch in range(epochs) :\n",
    "        print(f\"\\nEpoch: {epoch}\")\n",
    "        target_words = []\n",
    "        context_words = []\n",
    "        tot_target_words = []\n",
    "        tot_context_words = []\n",
    "        for i in range(len(training_data)) :\n",
    "            target_words.append(training_data[i][0])\n",
    "            context_words.append([training_data[i][1]])\n",
    "            tot_target_words.append(training_data[i][0])\n",
    "            tot_context_words.append([training_data[i][1]])\n",
    "            if (i + 1) % update_size == 0 :\n",
    "                session.run(\n",
    "                    train_op, \n",
    "                    feed_dict = {\n",
    "                        target:target_words,\n",
    "                        context:context_words,\n",
    "                    }\n",
    "                )\n",
    "                target_words = []\n",
    "                context_words = []\n",
    "            if (i + 1) % batch_size == 0 :\n",
    "                train_loss = session.run(\n",
    "                    loss, \n",
    "                    feed_dict = {\n",
    "                        target:tot_target_words,\n",
    "                        context:tot_context_words,\n",
    "                    }\n",
    "                )\n",
    "                print(f\"- Training Loss: {train_loss:.4}\")\n",
    "                tot_target_words = []\n",
    "                tot_context_words = []\n",
    "        \n",
    "    # Get W, U, Total-Loss\n",
    "    embedding_W, embedding_U = session.run([W, U])\n",
    "    print(f\"\\nDimension of W: {embedding_W.shape}\")\n",
    "    print(f\"Dimension of U: {embedding_U.shape}\")"
   ]
  },
  {
   "cell_type": "markdown",
   "metadata": {},
   "source": [
    "## Evaluate Word Embedding"
   ]
  },
  {
   "cell_type": "code",
   "execution_count": null,
   "metadata": {},
   "outputs": [],
   "source": [
    "path_for_wordsim353 = \"./EnglishWordSimilarityDataset/wordsim_353.csv\"\n",
    "path_for_simlex999 = \"./EnglishWordSimilarityDataset/simlex_999.csv\"\n",
    "path_for_card660 = \"./EnglishWordSimilarityDataset/card_660.csv\""
   ]
  }
 ],
 "metadata": {
  "kernelspec": {
   "display_name": "Python 3",
   "language": "python",
   "name": "python3"
  },
  "language_info": {
   "codemirror_mode": {
    "name": "ipython",
    "version": 3
   },
   "file_extension": ".py",
   "mimetype": "text/x-python",
   "name": "python",
   "nbconvert_exporter": "python",
   "pygments_lexer": "ipython3",
   "version": "3.7.3"
  },
  "toc": {
   "base_numbering": 1,
   "nav_menu": {},
   "number_sections": true,
   "sideBar": true,
   "skip_h1_title": false,
   "title_cell": "Table of Contents",
   "title_sidebar": "Contents",
   "toc_cell": false,
   "toc_position": {},
   "toc_section_display": true,
   "toc_window_display": false
  }
 },
 "nbformat": 4,
 "nbformat_minor": 2
}
