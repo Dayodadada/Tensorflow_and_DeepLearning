{
 "cells": [
  {
   "cell_type": "markdown",
   "metadata": {},
   "source": [
    "# 모델 저장과 복원"
   ]
  },
  {
   "cell_type": "markdown",
   "metadata": {},
   "source": [
    "## Import"
   ]
  },
  {
   "cell_type": "code",
   "execution_count": 1,
   "metadata": {
    "ExecuteTime": {
     "end_time": "2020-08-23T02:11:10.647288Z",
     "start_time": "2020-08-23T02:10:58.174341Z"
    }
   },
   "outputs": [],
   "source": [
    "import os\n",
    "import tensorflow as tf\n",
    "from tensorflow import keras"
   ]
  },
  {
   "cell_type": "markdown",
   "metadata": {},
   "source": [
    "## Load Mnist dataset"
   ]
  },
  {
   "cell_type": "code",
   "execution_count": 2,
   "metadata": {
    "ExecuteTime": {
     "end_time": "2020-08-23T02:12:38.999169Z",
     "start_time": "2020-08-23T02:12:38.526918Z"
    }
   },
   "outputs": [
    {
     "data": {
      "text/plain": [
       "((60000, 784), (10000, 784))"
      ]
     },
     "execution_count": 2,
     "metadata": {},
     "output_type": "execute_result"
    }
   ],
   "source": [
    "(train_images, train_labels), (test_images, test_labels) = tf.keras.datasets.mnist.load_data()\n",
    "\n",
    "train_labels = train_labels\n",
    "test_labels = test_labels\n",
    "\n",
    "train_images = train_images.reshape(-1, 28 * 28) / 255.0\n",
    "test_images = test_images.reshape(-1, 28 * 28) / 255.0\n",
    "train_images.shape, test_images.shape"
   ]
  },
  {
   "cell_type": "markdown",
   "metadata": {},
   "source": [
    "## Define model"
   ]
  },
  {
   "cell_type": "code",
   "execution_count": 5,
   "metadata": {
    "ExecuteTime": {
     "end_time": "2020-08-23T02:15:38.160516Z",
     "start_time": "2020-08-23T02:15:38.156225Z"
    }
   },
   "outputs": [],
   "source": [
    "def create_model():\n",
    "    model = tf.keras.Sequential([\n",
    "        keras.layers.Dense(512, activation=\"relu\", input_shape=(28*28,)),\n",
    "        keras.layers.Dropout(0.2),\n",
    "        keras.layers.Dense(10)\n",
    "    ])\n",
    "    \n",
    "    model.compile(\n",
    "        optimizer=\"adam\",\n",
    "        loss=tf.losses.SparseCategoricalCrossentropy(from_logits=True),\n",
    "        metrics=[\"accuracy\"]\n",
    "    )\n",
    "    return model"
   ]
  },
  {
   "cell_type": "code",
   "execution_count": 6,
   "metadata": {
    "ExecuteTime": {
     "end_time": "2020-08-23T02:15:38.395079Z",
     "start_time": "2020-08-23T02:15:38.296479Z"
    }
   },
   "outputs": [
    {
     "name": "stdout",
     "output_type": "stream",
     "text": [
      "Model: \"sequential\"\n",
      "_________________________________________________________________\n",
      "Layer (type)                 Output Shape              Param #   \n",
      "=================================================================\n",
      "dense (Dense)                (None, 512)               401920    \n",
      "_________________________________________________________________\n",
      "dropout (Dropout)            (None, 512)               0         \n",
      "_________________________________________________________________\n",
      "dense_1 (Dense)              (None, 10)                5130      \n",
      "=================================================================\n",
      "Total params: 407,050\n",
      "Trainable params: 407,050\n",
      "Non-trainable params: 0\n",
      "_________________________________________________________________\n"
     ]
    }
   ],
   "source": [
    "model = create_model()\n",
    "model.summary()"
   ]
  },
  {
   "cell_type": "markdown",
   "metadata": {},
   "source": [
    "## Train model and Save"
   ]
  },
  {
   "cell_type": "code",
   "execution_count": 8,
   "metadata": {
    "ExecuteTime": {
     "end_time": "2020-08-23T02:21:59.163300Z",
     "start_time": "2020-08-23T02:21:59.160005Z"
    }
   },
   "outputs": [],
   "source": [
    "checkpoint_path = \"training/cp.ckpt\"\n",
    "checkpoint_dir = os.path.dirname(checkpoint_path)\n",
    "\n",
    "cp_callback = tf.keras.callbacks.ModelCheckpoint(\n",
    "    filepath=checkpoint_path,\n",
    "    save_weights_only=True,\n",
    "    verbose=1\n",
    ")"
   ]
  },
  {
   "cell_type": "code",
   "execution_count": 9,
   "metadata": {
    "ExecuteTime": {
     "end_time": "2020-08-23T02:23:55.242207Z",
     "start_time": "2020-08-23T02:22:51.795843Z"
    },
    "scrolled": true
   },
   "outputs": [
    {
     "name": "stdout",
     "output_type": "stream",
     "text": [
      "Train on 60000 samples, validate on 10000 samples\n",
      "Epoch 1/10\n",
      "59776/60000 [============================>.] - ETA: 0s - loss: 0.2203 - accuracy: 0.9345\n",
      "Epoch 00001: saving model to training/cp.ckpt\n",
      "60000/60000 [==============================] - 7s 113us/sample - loss: 0.2200 - accuracy: 0.9345 - val_loss: 0.1062 - val_accuracy: 0.9682\n",
      "Epoch 2/10\n",
      "59840/60000 [============================>.] - ETA: 0s - loss: 0.0981 - accuracy: 0.9694\n",
      "Epoch 00002: saving model to training/cp.ckpt\n",
      "60000/60000 [==============================] - 6s 105us/sample - loss: 0.0984 - accuracy: 0.9694 - val_loss: 0.0792 - val_accuracy: 0.9749\n",
      "Epoch 3/10\n",
      "59872/60000 [============================>.] - ETA: 0s - loss: 0.0687 - accuracy: 0.9788\n",
      "Epoch 00003: saving model to training/cp.ckpt\n",
      "60000/60000 [==============================] - 6s 105us/sample - loss: 0.0687 - accuracy: 0.9788 - val_loss: 0.0702 - val_accuracy: 0.9788\n",
      "Epoch 4/10\n",
      "59840/60000 [============================>.] - ETA: 0s - loss: 0.0543 - accuracy: 0.9824\n",
      "Epoch 00004: saving model to training/cp.ckpt\n",
      "60000/60000 [==============================] - 6s 106us/sample - loss: 0.0543 - accuracy: 0.9824 - val_loss: 0.0652 - val_accuracy: 0.9803\n",
      "Epoch 5/10\n",
      "59520/60000 [============================>.] - ETA: 0s - loss: 0.0423 - accuracy: 0.9863\n",
      "Epoch 00005: saving model to training/cp.ckpt\n",
      "60000/60000 [==============================] - 6s 107us/sample - loss: 0.0425 - accuracy: 0.9863 - val_loss: 0.0725 - val_accuracy: 0.9781\n",
      "Epoch 6/10\n",
      "59744/60000 [============================>.] - ETA: 0s - loss: 0.0367 - accuracy: 0.9878\n",
      "Epoch 00006: saving model to training/cp.ckpt\n",
      "60000/60000 [==============================] - 6s 107us/sample - loss: 0.0367 - accuracy: 0.9878 - val_loss: 0.0649 - val_accuracy: 0.9797\n",
      "Epoch 7/10\n",
      "59744/60000 [============================>.] - ETA: 0s - loss: 0.0309 - accuracy: 0.9899\n",
      "Epoch 00007: saving model to training/cp.ckpt\n",
      "60000/60000 [==============================] - 6s 107us/sample - loss: 0.0310 - accuracy: 0.9898 - val_loss: 0.0732 - val_accuracy: 0.9792\n",
      "Epoch 8/10\n",
      "59488/60000 [============================>.] - ETA: 0s - loss: 0.0280 - accuracy: 0.9909\n",
      "Epoch 00008: saving model to training/cp.ckpt\n",
      "60000/60000 [==============================] - 6s 106us/sample - loss: 0.0284 - accuracy: 0.9908 - val_loss: 0.0662 - val_accuracy: 0.9827\n",
      "Epoch 9/10\n",
      "59808/60000 [============================>.] - ETA: 0s - loss: 0.0233 - accuracy: 0.9922\n",
      "Epoch 00009: saving model to training/cp.ckpt\n",
      "60000/60000 [==============================] - 6s 102us/sample - loss: 0.0233 - accuracy: 0.9923 - val_loss: 0.0761 - val_accuracy: 0.9805\n",
      "Epoch 10/10\n",
      "59808/60000 [============================>.] - ETA: 0s - loss: 0.0238 - accuracy: 0.9919\n",
      "Epoch 00010: saving model to training/cp.ckpt\n",
      "60000/60000 [==============================] - 6s 99us/sample - loss: 0.0238 - accuracy: 0.9919 - val_loss: 0.0738 - val_accuracy: 0.9823\n"
     ]
    },
    {
     "data": {
      "text/plain": [
       "<tensorflow.python.keras.callbacks.History at 0x7ffd22ee2160>"
      ]
     },
     "execution_count": 9,
     "metadata": {},
     "output_type": "execute_result"
    }
   ],
   "source": [
    "model.fit(\n",
    "    train_images,\n",
    "    train_labels,\n",
    "    epochs=10,\n",
    "    validation_data=(test_images, test_labels),\n",
    "    callbacks=[cp_callback]\n",
    ")"
   ]
  },
  {
   "cell_type": "code",
   "execution_count": 11,
   "metadata": {
    "ExecuteTime": {
     "end_time": "2020-08-23T02:23:57.441246Z",
     "start_time": "2020-08-23T02:23:57.321145Z"
    }
   },
   "outputs": [
    {
     "name": "stdout",
     "output_type": "stream",
     "text": [
      "checkpoint                   cp.ckpt.index\r\n",
      "cp.ckpt.data-00000-of-00001\r\n"
     ]
    }
   ],
   "source": [
    "ls {checkpoint_dir}"
   ]
  },
  {
   "cell_type": "markdown",
   "metadata": {},
   "source": [
    "## Load trained model\n",
    "훈련하지 않은 새로운 모델을 만들어 보겠습니다. 가중치만 복원할 땐 원본 모델과 동일한 구조로 모델을 만들어야 합니다. 여기서는 동일한 구조로 모델을 만들었으므로 다른 객체이지만 가중치를 공유할 수 있습니다."
   ]
  },
  {
   "cell_type": "code",
   "execution_count": 12,
   "metadata": {
    "ExecuteTime": {
     "end_time": "2020-08-23T02:33:38.043809Z",
     "start_time": "2020-08-23T02:33:37.546671Z"
    }
   },
   "outputs": [
    {
     "name": "stdout",
     "output_type": "stream",
     "text": [
      "10000/1 - 0s - loss: 2.4040 - accuracy: 0.0772\n",
      "훈련되지 않은 모델의 정확도:  7.72%\n"
     ]
    }
   ],
   "source": [
    "model = create_model()\n",
    "loss, acc = model.evaluate(test_images,  test_labels, verbose=2)\n",
    "print(\"훈련되지 않은 모델의 정확도: {:5.2f}%\".format(100*acc))"
   ]
  },
  {
   "cell_type": "code",
   "execution_count": 13,
   "metadata": {
    "ExecuteTime": {
     "end_time": "2020-08-23T02:34:31.681538Z",
     "start_time": "2020-08-23T02:34:31.287478Z"
    }
   },
   "outputs": [
    {
     "name": "stdout",
     "output_type": "stream",
     "text": [
      "10000/1 - 0s - loss: 0.0369 - accuracy: 0.9823\n",
      "복원된 모델의 정확도: 98.23%\n"
     ]
    }
   ],
   "source": [
    "model.load_weights(checkpoint_path)\n",
    "loss, acc = model.evaluate(test_images, test_labels, verbose=2)\n",
    "print(\"복원된 모델의 정확도: {:5.2f}%\".format(100*acc))"
   ]
  },
  {
   "cell_type": "markdown",
   "metadata": {},
   "source": [
    "## Re-train model"
   ]
  },
  {
   "cell_type": "code",
   "execution_count": 14,
   "metadata": {
    "ExecuteTime": {
     "end_time": "2020-08-23T02:39:15.694067Z",
     "start_time": "2020-08-23T02:39:15.690200Z"
    }
   },
   "outputs": [
    {
     "name": "stdout",
     "output_type": "stream",
     "text": [
      "WARNING:tensorflow:`period` argument is deprecated. Please use `save_freq` to specify the frequency in number of samples seen.\n"
     ]
    }
   ],
   "source": [
    "checkpoint_path = \"training_2/cp-{epoch:04d}.ckpt\"\n",
    "checkpoint_dit = os.path.dirname(checkpoint_path)\n",
    "\n",
    "cp_callback = tf.keras.callbacks.ModelCheckpoint(\n",
    "    filepath=checkpoint_path,\n",
    "    verbose=1,\n",
    "    save_weights_only=True,\n",
    "    period=5\n",
    ")"
   ]
  },
  {
   "cell_type": "code",
   "execution_count": 15,
   "metadata": {
    "ExecuteTime": {
     "end_time": "2020-08-23T02:46:03.990569Z",
     "start_time": "2020-08-23T02:41:07.999693Z"
    }
   },
   "outputs": [
    {
     "name": "stdout",
     "output_type": "stream",
     "text": [
      "\n",
      "Epoch 00005: saving model to training_2/cp-0005.ckpt\n",
      "\n",
      "Epoch 00010: saving model to training_2/cp-0010.ckpt\n",
      "\n",
      "Epoch 00015: saving model to training_2/cp-0015.ckpt\n",
      "\n",
      "Epoch 00020: saving model to training_2/cp-0020.ckpt\n",
      "\n",
      "Epoch 00025: saving model to training_2/cp-0025.ckpt\n",
      "\n",
      "Epoch 00030: saving model to training_2/cp-0030.ckpt\n",
      "\n",
      "Epoch 00035: saving model to training_2/cp-0035.ckpt\n",
      "\n",
      "Epoch 00040: saving model to training_2/cp-0040.ckpt\n",
      "\n",
      "Epoch 00045: saving model to training_2/cp-0045.ckpt\n",
      "\n",
      "Epoch 00050: saving model to training_2/cp-0050.ckpt\n"
     ]
    },
    {
     "data": {
      "text/plain": [
       "<tensorflow.python.keras.callbacks.History at 0x7ffd463e1b00>"
      ]
     },
     "execution_count": 15,
     "metadata": {},
     "output_type": "execute_result"
    }
   ],
   "source": [
    "model = create_model()\n",
    "model.save_weights(checkpoint_path.format(epoch=0))\n",
    "\n",
    "model.fit(\n",
    "    train_images,\n",
    "    train_labels,\n",
    "    epochs=50,\n",
    "    callbacks=[cp_callback],\n",
    "    validation_data=(test_images, test_labels),\n",
    "    verbose=0\n",
    ")"
   ]
  },
  {
   "cell_type": "code",
   "execution_count": 16,
   "metadata": {
    "ExecuteTime": {
     "end_time": "2020-08-23T02:46:04.115173Z",
     "start_time": "2020-08-23T02:46:03.992348Z"
    }
   },
   "outputs": [
    {
     "name": "stdout",
     "output_type": "stream",
     "text": [
      "checkpoint                   cp.ckpt.index\r\n",
      "cp.ckpt.data-00000-of-00001\r\n"
     ]
    }
   ],
   "source": [
    "ls {checkpoint_dir}"
   ]
  },
  {
   "cell_type": "markdown",
   "metadata": {},
   "source": [
    "## Load model and evaluate"
   ]
  },
  {
   "cell_type": "code",
   "execution_count": 17,
   "metadata": {
    "ExecuteTime": {
     "end_time": "2020-08-23T02:46:04.124977Z",
     "start_time": "2020-08-23T02:46:04.118896Z"
    }
   },
   "outputs": [
    {
     "data": {
      "text/plain": [
       "'training/cp.ckpt'"
      ]
     },
     "execution_count": 17,
     "metadata": {},
     "output_type": "execute_result"
    }
   ],
   "source": [
    "latest = tf.train.latest_checkpoint(checkpoint_dir)\n",
    "latest"
   ]
  },
  {
   "cell_type": "code",
   "execution_count": 18,
   "metadata": {
    "ExecuteTime": {
     "end_time": "2020-08-23T02:46:04.679695Z",
     "start_time": "2020-08-23T02:46:04.128067Z"
    }
   },
   "outputs": [
    {
     "name": "stdout",
     "output_type": "stream",
     "text": [
      "10000/1 - 0s - loss: 0.0369 - accuracy: 0.9823\n",
      "복원된 모델의 정확도: 98.23%\n"
     ]
    }
   ],
   "source": [
    "model = create_model()\n",
    "model.load_weights(latest)\n",
    "\n",
    "loss, acc = model.evaluate(test_images,  test_labels, verbose=2)\n",
    "print(\"복원된 모델의 정확도: {:5.2f}%\".format(100*acc))"
   ]
  },
  {
   "cell_type": "markdown",
   "metadata": {},
   "source": [
    "## 수동으로 가중치 저장하기"
   ]
  },
  {
   "cell_type": "code",
   "execution_count": 19,
   "metadata": {
    "ExecuteTime": {
     "end_time": "2020-08-23T02:48:22.179395Z",
     "start_time": "2020-08-23T02:48:22.151799Z"
    }
   },
   "outputs": [],
   "source": [
    "model.save_weights(\"./checkpoints/checkpoints\")"
   ]
  },
  {
   "cell_type": "code",
   "execution_count": 20,
   "metadata": {
    "ExecuteTime": {
     "end_time": "2020-08-23T02:49:48.671509Z",
     "start_time": "2020-08-23T02:49:48.140610Z"
    }
   },
   "outputs": [
    {
     "name": "stdout",
     "output_type": "stream",
     "text": [
      "10000/1 - 0s - loss: 0.0369 - accuracy: 0.9823\n",
      "복원된 모델의 정확도: 98.23%\n"
     ]
    }
   ],
   "source": [
    "model = create_model()\n",
    "model.load_weights(\"./checkpoints/checkpoints\")\n",
    "loss, acc = model.evaluate(test_images, test_labels, verbose=2)\n",
    "print(\"복원된 모델의 정확도: {:5.2f}%\".format(100*acc))"
   ]
  },
  {
   "cell_type": "markdown",
   "metadata": {},
   "source": [
    "## 전체 모델 저장하기\n",
    "model.save 메서드를 호출하여 모델의 구조, 가중치, 훈련 설정을 하나의 파일/폴더에 저장합니다. 모델을 저장하기 때문에 원본 파이썬 코드*가 없어도 사용할 수 있습니다. 옵티마이저 상태가 복원되므로 정확히 중지한 시점에서 다시 훈련을 시작할 수 있습니다."
   ]
  },
  {
   "cell_type": "code",
   "execution_count": null,
   "metadata": {},
   "outputs": [],
   "source": []
  },
  {
   "cell_type": "code",
   "execution_count": null,
   "metadata": {},
   "outputs": [],
   "source": []
  },
  {
   "cell_type": "code",
   "execution_count": null,
   "metadata": {},
   "outputs": [],
   "source": []
  },
  {
   "cell_type": "code",
   "execution_count": null,
   "metadata": {},
   "outputs": [],
   "source": []
  },
  {
   "cell_type": "code",
   "execution_count": null,
   "metadata": {},
   "outputs": [],
   "source": []
  },
  {
   "cell_type": "code",
   "execution_count": null,
   "metadata": {},
   "outputs": [],
   "source": []
  }
 ],
 "metadata": {
  "kernelspec": {
   "display_name": "Python 3",
   "language": "python",
   "name": "python3"
  },
  "language_info": {
   "codemirror_mode": {
    "name": "ipython",
    "version": 3
   },
   "file_extension": ".py",
   "mimetype": "text/x-python",
   "name": "python",
   "nbconvert_exporter": "python",
   "pygments_lexer": "ipython3",
   "version": "3.7.3"
  },
  "toc": {
   "base_numbering": 1,
   "nav_menu": {},
   "number_sections": true,
   "sideBar": true,
   "skip_h1_title": false,
   "title_cell": "Table of Contents",
   "title_sidebar": "Contents",
   "toc_cell": false,
   "toc_position": {},
   "toc_section_display": true,
   "toc_window_display": false
  }
 },
 "nbformat": 4,
 "nbformat_minor": 2
}
