{
 "cells": [
  {
   "cell_type": "markdown",
   "metadata": {},
   "source": [
    "# Import labraries"
   ]
  },
  {
   "cell_type": "code",
   "execution_count": 1,
   "metadata": {
    "ExecuteTime": {
     "end_time": "2020-08-08T02:29:37.365122Z",
     "start_time": "2020-08-08T02:29:31.859488Z"
    }
   },
   "outputs": [],
   "source": [
    "import math\n",
    "import matplotlib.pyplot as plt\n",
    "import numpy as np\n",
    "import pandas as pd\n",
    "from sklearn.preprocessing import normalize\n",
    "\n",
    "from sklearn.datasets import load_iris"
   ]
  },
  {
   "cell_type": "code",
   "execution_count": 2,
   "metadata": {
    "ExecuteTime": {
     "end_time": "2020-08-08T02:29:42.650974Z",
     "start_time": "2020-08-08T02:29:37.367252Z"
    }
   },
   "outputs": [
    {
     "name": "stdout",
     "output_type": "stream",
     "text": [
      "WARNING:tensorflow:From /Users/user/anaconda3/lib/python3.7/site-packages/tensorflow_core/python/compat/v2_compat.py:65: disable_resource_variables (from tensorflow.python.ops.variable_scope) is deprecated and will be removed in a future version.\n",
      "Instructions for updating:\n",
      "non-resource variables are not supported in the long term\n"
     ]
    }
   ],
   "source": [
    "import tensorflow.compat.v1 as tf\n",
    "\n",
    "tf.disable_v2_behavior()"
   ]
  },
  {
   "cell_type": "markdown",
   "metadata": {},
   "source": [
    "# Load dataset"
   ]
  },
  {
   "cell_type": "code",
   "execution_count": 3,
   "metadata": {
    "ExecuteTime": {
     "end_time": "2020-08-08T02:29:42.660304Z",
     "start_time": "2020-08-08T02:29:42.653086Z"
    }
   },
   "outputs": [
    {
     "data": {
      "text/plain": [
       "dict_keys(['data', 'target', 'target_names', 'DESCR', 'feature_names', 'filename'])"
      ]
     },
     "execution_count": 3,
     "metadata": {},
     "output_type": "execute_result"
    }
   ],
   "source": [
    "data =load_iris()\n",
    "data.keys()"
   ]
  },
  {
   "cell_type": "code",
   "execution_count": 4,
   "metadata": {
    "ExecuteTime": {
     "end_time": "2020-08-08T02:29:42.736603Z",
     "start_time": "2020-08-08T02:29:42.662774Z"
    }
   },
   "outputs": [
    {
     "name": "stdout",
     "output_type": "stream",
     "text": [
      "(150, 5)\n"
     ]
    },
    {
     "data": {
      "text/html": [
       "<div>\n",
       "<style scoped>\n",
       "    .dataframe tbody tr th:only-of-type {\n",
       "        vertical-align: middle;\n",
       "    }\n",
       "\n",
       "    .dataframe tbody tr th {\n",
       "        vertical-align: top;\n",
       "    }\n",
       "\n",
       "    .dataframe thead th {\n",
       "        text-align: right;\n",
       "    }\n",
       "</style>\n",
       "<table border=\"1\" class=\"dataframe\">\n",
       "  <thead>\n",
       "    <tr style=\"text-align: right;\">\n",
       "      <th></th>\n",
       "      <th>sepal length (cm)</th>\n",
       "      <th>sepal width (cm)</th>\n",
       "      <th>petal length (cm)</th>\n",
       "      <th>petal width (cm)</th>\n",
       "      <th>label</th>\n",
       "    </tr>\n",
       "  </thead>\n",
       "  <tbody>\n",
       "    <tr>\n",
       "      <th>0</th>\n",
       "      <td>5.1</td>\n",
       "      <td>3.5</td>\n",
       "      <td>1.4</td>\n",
       "      <td>0.2</td>\n",
       "      <td>0</td>\n",
       "    </tr>\n",
       "    <tr>\n",
       "      <th>1</th>\n",
       "      <td>4.9</td>\n",
       "      <td>3.0</td>\n",
       "      <td>1.4</td>\n",
       "      <td>0.2</td>\n",
       "      <td>0</td>\n",
       "    </tr>\n",
       "    <tr>\n",
       "      <th>2</th>\n",
       "      <td>4.7</td>\n",
       "      <td>3.2</td>\n",
       "      <td>1.3</td>\n",
       "      <td>0.2</td>\n",
       "      <td>0</td>\n",
       "    </tr>\n",
       "    <tr>\n",
       "      <th>3</th>\n",
       "      <td>4.6</td>\n",
       "      <td>3.1</td>\n",
       "      <td>1.5</td>\n",
       "      <td>0.2</td>\n",
       "      <td>0</td>\n",
       "    </tr>\n",
       "    <tr>\n",
       "      <th>4</th>\n",
       "      <td>5.0</td>\n",
       "      <td>3.6</td>\n",
       "      <td>1.4</td>\n",
       "      <td>0.2</td>\n",
       "      <td>0</td>\n",
       "    </tr>\n",
       "  </tbody>\n",
       "</table>\n",
       "</div>"
      ],
      "text/plain": [
       "   sepal length (cm)  sepal width (cm)  petal length (cm)  petal width (cm)  \\\n",
       "0                5.1               3.5                1.4               0.2   \n",
       "1                4.9               3.0                1.4               0.2   \n",
       "2                4.7               3.2                1.3               0.2   \n",
       "3                4.6               3.1                1.5               0.2   \n",
       "4                5.0               3.6                1.4               0.2   \n",
       "\n",
       "   label  \n",
       "0      0  \n",
       "1      0  \n",
       "2      0  \n",
       "3      0  \n",
       "4      0  "
      ]
     },
     "execution_count": 4,
     "metadata": {},
     "output_type": "execute_result"
    }
   ],
   "source": [
    "df = pd.DataFrame({\n",
    "    data[\"feature_names\"][0]:[i[0] for i in data[\"data\"]],\n",
    "    data[\"feature_names\"][1]:[i[1] for i in data[\"data\"]],\n",
    "    data[\"feature_names\"][2]:[i[2] for i in data[\"data\"]],\n",
    "    data[\"feature_names\"][3]:[i[3] for i in data[\"data\"]],\n",
    "    \"label\":data[\"target\"]\n",
    "})\n",
    "print(df.shape)\n",
    "df.head()"
   ]
  },
  {
   "cell_type": "code",
   "execution_count": 5,
   "metadata": {
    "ExecuteTime": {
     "end_time": "2020-08-08T02:29:42.741729Z",
     "start_time": "2020-08-08T02:29:42.738515Z"
    },
    "scrolled": true
   },
   "outputs": [],
   "source": [
    "df = df.sample(frac=1)"
   ]
  },
  {
   "cell_type": "code",
   "execution_count": 6,
   "metadata": {
    "ExecuteTime": {
     "end_time": "2020-08-08T02:29:42.751871Z",
     "start_time": "2020-08-08T02:29:42.743219Z"
    }
   },
   "outputs": [
    {
     "data": {
      "text/plain": [
       "((150, 4), (150, 4), (150, 1), (150, 3))"
      ]
     },
     "execution_count": 6,
     "metadata": {},
     "output_type": "execute_result"
    }
   ],
   "source": [
    "features = df[['sepal length (cm)', 'sepal width (cm)', 'petal length (cm)', 'petal width (cm)']].values\n",
    "normalized_features = normalize(features,axis=0)\n",
    "labels = df[[\"label\"]].values\n",
    "one_hot_labels = np.array([np.eye(3)[i[0]] for i in labels])\n",
    "normalized_features.shape, features.shape, labels.shape, one_hot_labels.shape"
   ]
  },
  {
   "cell_type": "markdown",
   "metadata": {},
   "source": [
    "## visualization"
   ]
  },
  {
   "cell_type": "code",
   "execution_count": 7,
   "metadata": {
    "ExecuteTime": {
     "end_time": "2020-08-08T02:29:42.892129Z",
     "start_time": "2020-08-08T02:29:42.753682Z"
    }
   },
   "outputs": [
    {
     "data": {
      "image/png": "[encoded data removed]",
      "text/plain": [
       "<Figure size 432x288 with 1 Axes>"
      ]
     },
     "metadata": {
      "needs_background": "light"
     },
     "output_type": "display_data"
    }
   ],
   "source": [
    "for t in range(3):\n",
    "    if t == 0:\n",
    "        c='r'\n",
    "        marker='>'\n",
    "    elif t == 1:\n",
    "        c='g'\n",
    "        marker='o'\n",
    "    elif t == 2:\n",
    "        c='b'\n",
    "        marker='x'\n",
    "    plt.scatter(df[df[\"label\"] == t][\"sepal length (cm)\"].values,\n",
    "                df[df[\"label\"] == t][\"sepal width (cm)\"].values,\n",
    "                marker = marker,\n",
    "                c = c)\n",
    "    plt.xlabel(\"sepal length\")\n",
    "    plt.ylabel(\"sepal width\")\n",
    "plt.show()"
   ]
  },
  {
   "cell_type": "code",
   "execution_count": 8,
   "metadata": {
    "ExecuteTime": {
     "end_time": "2020-08-08T02:29:43.007897Z",
     "start_time": "2020-08-08T02:29:42.894638Z"
    },
    "scrolled": true
   },
   "outputs": [
    {
     "data": {
      "image/png": "[encoded data removed]",
      "text/plain": [
       "<Figure size 432x288 with 1 Axes>"
      ]
     },
     "metadata": {
      "needs_background": "light"
     },
     "output_type": "display_data"
    }
   ],
   "source": [
    "for t in range(3):\n",
    "    if t == 0:\n",
    "        c='r'\n",
    "        marker='>'\n",
    "    elif t == 1:\n",
    "        c='g'\n",
    "        marker='o'\n",
    "    elif t == 2:\n",
    "        c='b'\n",
    "        marker='x'\n",
    "    plt.scatter(df[df[\"label\"] == t][\"petal length (cm)\"].values,\n",
    "                df[df[\"label\"] == t][\"petal width (cm)\"].values,\n",
    "                marker = marker,\n",
    "                c = c)\n",
    "    plt.xlabel(\"petal length\")\n",
    "    plt.ylabel(\"petal width\")\n",
    "plt.show()"
   ]
  },
  {
   "cell_type": "markdown",
   "metadata": {},
   "source": [
    "# single layer model"
   ]
  },
  {
   "cell_type": "markdown",
   "metadata": {},
   "source": [
    "## Define model"
   ]
  },
  {
   "cell_type": "code",
   "execution_count": 9,
   "metadata": {
    "ExecuteTime": {
     "end_time": "2020-08-08T02:29:43.015525Z",
     "start_time": "2020-08-08T02:29:43.011009Z"
    }
   },
   "outputs": [],
   "source": [
    "X = tf.placeholder(tf.float32, [None, 4], name=\"features\")\n",
    "Y = tf.placeholder(tf.int64, [None, 3], name=\"label\")"
   ]
  },
  {
   "cell_type": "code",
   "execution_count": 10,
   "metadata": {
    "ExecuteTime": {
     "end_time": "2020-08-08T02:29:43.029974Z",
     "start_time": "2020-08-08T02:29:43.016860Z"
    }
   },
   "outputs": [],
   "source": [
    "W1 = tf.Variable(tf.random_normal([4, 3]))\n",
    "b1 = tf.Variable(tf.random_normal([3]))"
   ]
  },
  {
   "cell_type": "code",
   "execution_count": 11,
   "metadata": {
    "ExecuteTime": {
     "end_time": "2020-08-08T02:29:43.037899Z",
     "start_time": "2020-08-08T02:29:43.031511Z"
    }
   },
   "outputs": [],
   "source": [
    "L1 = tf.add(tf.matmul(X, W1), b1)\n",
    "L1 = tf.nn.relu(L1)\n",
    "\n",
    "Y_pred = tf.nn.softmax(L1)"
   ]
  },
  {
   "cell_type": "code",
   "execution_count": 12,
   "metadata": {
    "ExecuteTime": {
     "end_time": "2020-08-08T02:29:43.088065Z",
     "start_time": "2020-08-08T02:29:43.039569Z"
    }
   },
   "outputs": [],
   "source": [
    "# cost = tf.reduce_mean(-tf.reduce_sum(Y*tf.log(Y_pred), axis=1))\n",
    "cost = tf.reduce_mean(tf.nn.softmax_cross_entropy_with_logits_v2(labels=Y, logits=L1))\n",
    "optimizer = tf.train.GradientDescentOptimizer(learning_rate=0.05)\n",
    "training = optimizer.minimize(cost)"
   ]
  },
  {
   "cell_type": "code",
   "execution_count": 13,
   "metadata": {
    "ExecuteTime": {
     "end_time": "2020-08-08T02:29:43.093458Z",
     "start_time": "2020-08-08T02:29:43.089660Z"
    }
   },
   "outputs": [],
   "source": [
    "prediction = tf.argmax(Y_pred, axis=1)"
   ]
  },
  {
   "cell_type": "markdown",
   "metadata": {},
   "source": [
    "## Train"
   ]
  },
  {
   "cell_type": "code",
   "execution_count": 14,
   "metadata": {
    "ExecuteTime": {
     "end_time": "2020-08-08T02:29:55.652345Z",
     "start_time": "2020-08-08T02:29:43.095165Z"
    },
    "scrolled": true
   },
   "outputs": [
    {
     "name": "stdout",
     "output_type": "stream",
     "text": [
      "0 1.1960503\n",
      "5000 1.0306839\n",
      "10000 1.0072708\n",
      "15000 0.9938375\n",
      "20000 0.9825896\n",
      "25000 0.9720597\n",
      "30000 0.9622598\n",
      "35000 0.9539049\n",
      "40000 0.9465983\n",
      "45000 0.9400311\n"
     ]
    }
   ],
   "source": [
    "sess = tf.Session()\n",
    "sess.run(tf.global_variables_initializer())\n",
    "\n",
    "for step in range(50000):\n",
    "    none, _cost = sess.run(\n",
    "        [training, cost], \n",
    "        feed_dict={\n",
    "            X:normalized_features,\n",
    "            Y:one_hot_labels,\n",
    "        })\n",
    "    if step % 5000 == 0:\n",
    "        print(step, _cost)"
   ]
  },
  {
   "cell_type": "markdown",
   "metadata": {},
   "source": [
    "## Evaluate"
   ]
  },
  {
   "cell_type": "code",
   "execution_count": 15,
   "metadata": {
    "ExecuteTime": {
     "end_time": "2020-08-08T02:29:55.661188Z",
     "start_time": "2020-08-08T02:29:55.653650Z"
    }
   },
   "outputs": [],
   "source": [
    "is_correct = tf.equal(prediction, tf.argmax(Y, axis=1))\n",
    "accuracy = tf.reduce_mean(tf.cast(is_correct, tf.float32))"
   ]
  },
  {
   "cell_type": "code",
   "execution_count": 16,
   "metadata": {
    "ExecuteTime": {
     "end_time": "2020-08-08T02:29:55.675644Z",
     "start_time": "2020-08-08T02:29:55.662397Z"
    }
   },
   "outputs": [
    {
     "name": "stdout",
     "output_type": "stream",
     "text": [
      "(실제값, 예측값): [(2, 2), (0, 0), (1, 2), (2, 2), (2, 2), (0, 0), (1, 2), (2, 2), (2, 2), (1, 2), (2, 2), (2, 2), (2, 2), (1, 2), (0, 0), (0, 0), (0, 0), (0, 0), (2, 2), (2, 2), (1, 2), (2, 2), (2, 2), (2, 2), (0, 0), (2, 2), (1, 2), (0, 0), (1, 2), (2, 2), (0, 0), (0, 0), (2, 2), (0, 0), (2, 2), (2, 2), (1, 0), (0, 0), (2, 2), (0, 0), (0, 0), (0, 0), (2, 2), (1, 2), (1, 2), (1, 2), (0, 0), (1, 2), (2, 2), (0, 0), (2, 2), (0, 0), (1, 2), (0, 0), (0, 0), (2, 2), (2, 2), (0, 0), (1, 2), (0, 0), (0, 0), (2, 2), (1, 2), (1, 2), (2, 2), (2, 2), (1, 2), (0, 0), (0, 0), (2, 2), (2, 2), (1, 2), (1, 0), (1, 0), (0, 0), (2, 2), (0, 0), (1, 2), (1, 2), (0, 0), (0, 0), (1, 2), (1, 2), (2, 2), (2, 2), (0, 0), (2, 2), (1, 2), (0, 0), (1, 2), (1, 2), (1, 0), (0, 0), (0, 0), (2, 2), (2, 2), (0, 0), (0, 0), (1, 2), (2, 2), (1, 2), (1, 2), (1, 2), (2, 2), (1, 2), (1, 2), (0, 0), (2, 2), (0, 0), (1, 2), (0, 0), (2, 2), (1, 2), (2, 2), (0, 0), (0, 0), (1, 2), (0, 0), (1, 2), (1, 2), (1, 2), (1, 2), (2, 2), (2, 2), (0, 0), (0, 0), (1, 2), (0, 0), (1, 0), (2, 2), (1, 2), (2, 2), (1, 2), (1, 2), (2, 2), (1, 2), (0, 0), (2, 2), (0, 0), (0, 0), (0, 0), (1, 2), (2, 2), (1, 0), (0, 0), (1, 0), (2, 2), (0, 0), (2, 2), (2, 2)]\n",
      "정확도: 0.6666666865348816\n"
     ]
    }
   ],
   "source": [
    "_prediction, _accuracy = sess.run([prediction, accuracy], feed_dict={\n",
    "    X:normalized_features,\n",
    "    Y:one_hot_labels\n",
    "})\n",
    "y_array = labels.reshape(150)\n",
    "print(f\"(실제값, 예측값): {[(i,j) for i, j in zip(y_array, _prediction)]}\")\n",
    "print(f\"정확도: {_accuracy}\")"
   ]
  },
  {
   "cell_type": "markdown",
   "metadata": {},
   "source": [
    "# deep neural network model"
   ]
  },
  {
   "cell_type": "markdown",
   "metadata": {},
   "source": [
    "## Define model"
   ]
  },
  {
   "cell_type": "code",
   "execution_count": 52,
   "metadata": {
    "ExecuteTime": {
     "end_time": "2020-08-08T02:48:43.202790Z",
     "start_time": "2020-08-08T02:48:43.170037Z"
    }
   },
   "outputs": [],
   "source": [
    "X = tf.placeholder(tf.float32, [None, 4], name=\"features\")\n",
    "Y = tf.placeholder(tf.float32, [None, 3], name=\"label\")\n",
    "\n",
    "W1 = tf.Variable(tf.random_normal([4, 8]))\n",
    "b1 = tf.Variable(tf.random_normal([8]))\n",
    "\n",
    "W2 = tf.Variable(tf.random_normal([8, 3]))\n",
    "b2 = tf.Variable(tf.random_normal([3]))\n",
    "\n",
    "L1 = tf.add(tf.matmul(X, W1), b1)\n",
    "L1 = tf.nn.relu(L1)\n",
    "L2 = tf.add(tf.matmul(L1, W2), b2)\n",
    "L2 = tf.nn.relu(L2)\n",
    "\n",
    "Y_pred = tf.nn.softmax(L2)"
   ]
  },
  {
   "cell_type": "code",
   "execution_count": 53,
   "metadata": {
    "ExecuteTime": {
     "end_time": "2020-08-08T02:48:43.375110Z",
     "start_time": "2020-08-08T02:48:43.306412Z"
    }
   },
   "outputs": [],
   "source": [
    "# cost = tf.reduce_mean(-tf.reduce_sum(Y*tf.log(Y_pred), axis=1))\n",
    "cost = tf.reduce_mean(tf.nn.softmax_cross_entropy_with_logits_v2(labels=Y, logits=L2))\n",
    "optimizer = tf.train.GradientDescentOptimizer(learning_rate=0.05)\n",
    "training = optimizer.minimize(cost)"
   ]
  },
  {
   "cell_type": "code",
   "execution_count": 54,
   "metadata": {
    "ExecuteTime": {
     "end_time": "2020-08-08T02:48:43.494509Z",
     "start_time": "2020-08-08T02:48:43.485835Z"
    }
   },
   "outputs": [],
   "source": [
    "prediction = tf.argmax(Y_pred, axis=1)\n",
    "is_correct = tf.equal(prediction, tf.argmax(Y, axis=1))\n",
    "accuracy = tf.reduce_mean(tf.cast(is_correct, tf.float32))"
   ]
  },
  {
   "cell_type": "markdown",
   "metadata": {},
   "source": [
    "## Train"
   ]
  },
  {
   "cell_type": "code",
   "execution_count": 55,
   "metadata": {
    "ExecuteTime": {
     "end_time": "2020-08-08T02:48:58.055541Z",
     "start_time": "2020-08-08T02:48:43.717888Z"
    },
    "scrolled": true
   },
   "outputs": [
    {
     "name": "stdout",
     "output_type": "stream",
     "text": [
      "0 1.2678119\n",
      "5000 0.6271562\n",
      "10000 0.50036466\n",
      "15000 0.11582152\n",
      "20000 0.084343195\n",
      "25000 0.07275895\n",
      "30000 0.06643128\n",
      "35000 0.062236577\n",
      "40000 0.05913634\n",
      "45000 0.056692854\n"
     ]
    }
   ],
   "source": [
    "sess = tf.Session()\n",
    "sess.run(tf.global_variables_initializer())\n",
    "\n",
    "for step in range(50000):\n",
    "    none, _cost = sess.run(\n",
    "        [training, cost], \n",
    "        feed_dict={\n",
    "            X: normalized_features,\n",
    "            Y: one_hot_labels\n",
    "        })\n",
    "    if step % 5000 == 0:\n",
    "        print(step, _cost)\n"
   ]
  },
  {
   "cell_type": "markdown",
   "metadata": {},
   "source": [
    "## Evaluate"
   ]
  },
  {
   "cell_type": "code",
   "execution_count": 56,
   "metadata": {
    "ExecuteTime": {
     "end_time": "2020-08-08T02:48:58.090804Z",
     "start_time": "2020-08-08T02:48:58.057146Z"
    }
   },
   "outputs": [
    {
     "name": "stdout",
     "output_type": "stream",
     "text": [
      "(실제값, 예측값): [(2, 2), (0, 0), (1, 1), (2, 1), (2, 2), (0, 0), (1, 1), (2, 2), (2, 2), (1, 1), (2, 2), (2, 2), (2, 2), (1, 1), (0, 0), (0, 0), (0, 0), (0, 0), (2, 2), (2, 2), (1, 2), (2, 2), (2, 2), (2, 2), (0, 0), (2, 2), (1, 1), (0, 0), (1, 1), (2, 2), (0, 0), (0, 0), (2, 2), (0, 0), (2, 2), (2, 2), (1, 1), (0, 0), (2, 2), (0, 0), (0, 0), (0, 0), (2, 2), (1, 1), (1, 1), (1, 1), (0, 0), (1, 1), (2, 2), (0, 0), (2, 2), (0, 0), (1, 1), (0, 0), (0, 0), (2, 2), (2, 2), (0, 0), (1, 1), (0, 0), (0, 0), (2, 2), (1, 2), (1, 1), (2, 2), (2, 2), (1, 1), (0, 0), (0, 0), (2, 2), (2, 2), (1, 1), (1, 1), (1, 1), (0, 0), (2, 2), (0, 0), (1, 1), (1, 1), (0, 0), (0, 0), (1, 1), (1, 1), (2, 2), (2, 2), (0, 0), (2, 2), (1, 1), (0, 0), (1, 1), (1, 1), (1, 1), (0, 0), (0, 0), (2, 2), (2, 2), (0, 0), (0, 0), (1, 1), (2, 2), (1, 1), (1, 1), (1, 1), (2, 2), (1, 1), (1, 1), (0, 0), (2, 2), (0, 0), (1, 1), (0, 0), (2, 2), (1, 2), (2, 2), (0, 0), (0, 0), (1, 1), (0, 0), (1, 1), (1, 1), (1, 1), (1, 1), (2, 2), (2, 2), (0, 0), (0, 0), (1, 1), (0, 0), (1, 1), (2, 2), (1, 1), (2, 2), (1, 1), (1, 1), (2, 2), (1, 1), (0, 0), (2, 2), (0, 0), (0, 0), (0, 0), (1, 1), (2, 2), (1, 1), (0, 0), (1, 1), (2, 2), (0, 0), (2, 2), (2, 2)]\n",
      "정확도: 0.9733333587646484\n"
     ]
    }
   ],
   "source": [
    "_prediction, _accuracy = sess.run([prediction, accuracy], feed_dict={\n",
    "    X:normalized_features,\n",
    "    Y:one_hot_labels\n",
    "})\n",
    "y_array = labels.reshape(150)\n",
    "print(f\"(실제값, 예측값): {[(i,j) for i, j in zip(y_array, _prediction)]}\")\n",
    "print(f\"정확도: {_accuracy}\")"
   ]
  },
  {
   "cell_type": "code",
   "execution_count": null,
   "metadata": {},
   "outputs": [],
   "source": []
  }
 ],
 "metadata": {
  "kernelspec": {
   "display_name": "Python 3",
   "language": "python",
   "name": "python3"
  },
  "language_info": {
   "codemirror_mode": {
    "name": "ipython",
    "version": 3
   },
   "file_extension": ".py",
   "mimetype": "text/x-python",
   "name": "python",
   "nbconvert_exporter": "python",
   "pygments_lexer": "ipython3",
   "version": "3.7.3"
  },
  "toc": {
   "base_numbering": 1,
   "nav_menu": {},
   "number_sections": true,
   "sideBar": true,
   "skip_h1_title": false,
   "title_cell": "Table of Contents",
   "title_sidebar": "Contents",
   "toc_cell": false,
   "toc_position": {},
   "toc_section_display": true,
   "toc_window_display": false
  }
 },
 "nbformat": 4,
 "nbformat_minor": 2
}
