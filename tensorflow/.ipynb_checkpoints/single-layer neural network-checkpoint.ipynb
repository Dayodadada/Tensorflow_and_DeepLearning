{
 "cells": [
  {
   "cell_type": "markdown",
   "metadata": {},
   "source": [
    "# single-layer neural network"
   ]
  },
  {
   "cell_type": "code",
   "execution_count": null,
   "metadata": {
    "ExecuteTime": {
     "end_time": "2020-07-30T14:29:42.896175Z",
     "start_time": "2020-07-30T14:29:39.053167Z"
    }
   },
   "outputs": [],
   "source": [
    "import tensorflow as tf\n",
    "import pandas as pd\n",
    "from sklearn.datasets import make_classification"
   ]
  },
  {
   "cell_type": "code",
   "execution_count": null,
   "metadata": {
    "ExecuteTime": {
     "end_time": "2020-07-30T14:29:43.228380Z",
     "start_time": "2020-07-30T14:29:42.899310Z"
    }
   },
   "outputs": [],
   "source": [
    "x, y = make_classification(n_features=2, n_informative=2, n_redundant=0, n_clusters_per_class=1, random_state=2)\n",
    "df = pd.DataFrame({\n",
    "   \"feature1\":x[:,0],\n",
    "   \"feature2\":x[:,1],\n",
    "   \"label\":y\n",
    "})\n",
    "df.plot.scatter(x=\"feature1\", y=\"feature2\", c=y, s=100, edgecolor=\"k\", linewidth=2)"
   ]
  },
  {
   "cell_type": "code",
   "execution_count": null,
   "metadata": {
    "ExecuteTime": {
     "end_time": "2020-07-30T14:29:43.235651Z",
     "start_time": "2020-07-30T14:29:43.230842Z"
    }
   },
   "outputs": [],
   "source": [
    "features = df[[\"feature1\", \"feature2\"]].values\n",
    "label = df[[\"label\"]].values"
   ]
  },
  {
   "cell_type": "code",
   "execution_count": null,
   "metadata": {
    "ExecuteTime": {
     "end_time": "2020-07-30T14:29:43.735308Z",
     "start_time": "2020-07-30T14:29:43.237969Z"
    }
   },
   "outputs": [],
   "source": [
    "# define graph\n",
    "X = tf.placeholder(tf.float32, name=\"features\")\n",
    "Y = tf.placeholder(tf.float32, name=\"label\")\n",
    "\n",
    "w = tf.Variable([[0.04], [0.05]], name=\"w\")\n",
    "a = tf.Variable([[0.02, 0.05]], name=\"a\")\n",
    "\n",
    "L = tf.add(tf.matmul(X, w), a)\n",
    "L = tf.nn.relu(L) # 이진분류할 수 있도록 활성화 함수 사용\n",
    "model = tf.nn.softmax(L) #이진 분류 결과의 합을 1로 변환해주는 softmax 사용"
   ]
  },
  {
   "cell_type": "code",
   "execution_count": null,
   "metadata": {
    "ExecuteTime": {
     "end_time": "2020-07-30T14:29:43.736926Z",
     "start_time": "2020-07-30T14:29:39.807Z"
    }
   },
   "outputs": [],
   "source": [
    "cost = tf.reduce_mean(-tf.reduce_sum(Y * tf.log(model), axis=1)) #cross entropy\n",
    "optimizer = tf.train.GradientDescentOptimizer(learning_rate=0.001)\n",
    "training = optimizer.minimize(cost)\n",
    "prediction = tf.argmax(model, axis=1)"
   ]
  },
  {
   "cell_type": "code",
   "execution_count": null,
   "metadata": {
    "ExecuteTime": {
     "end_time": "2020-07-30T14:29:43.737882Z",
     "start_time": "2020-07-30T14:29:40.063Z"
    }
   },
   "outputs": [],
   "source": [
    "# run session\n",
    "sess = tf.Session()\n",
    "sess.run(tf.global_variables_initializer())\n",
    "\n",
    "for step in range(15000):\n",
    "    none, cost_val = sess.run(\n",
    "        [training, cost],\n",
    "        feed_dict={\n",
    "            X:features,\n",
    "            Y:label\n",
    "        })\n",
    "    if step % 500 == 0:\n",
    "        print(step, cost_val)\n",
    "\n",
    "result = sess.run(prediction, feed_dict={X:features})\n",
    "print(f\"predictions: {result}\")"
   ]
  },
  {
   "cell_type": "code",
   "execution_count": null,
   "metadata": {},
   "outputs": [],
   "source": []
  },
  {
   "cell_type": "code",
   "execution_count": null,
   "metadata": {},
   "outputs": [],
   "source": []
  },
  {
   "cell_type": "code",
   "execution_count": null,
   "metadata": {},
   "outputs": [],
   "source": []
  },
  {
   "cell_type": "code",
   "execution_count": null,
   "metadata": {},
   "outputs": [],
   "source": []
  },
  {
   "cell_type": "code",
   "execution_count": null,
   "metadata": {},
   "outputs": [],
   "source": []
  }
 ],
 "metadata": {
  "kernelspec": {
   "display_name": "Python 3",
   "language": "python",
   "name": "python3"
  },
  "language_info": {
   "codemirror_mode": {
    "name": "ipython",
    "version": 3
   },
   "file_extension": ".py",
   "mimetype": "text/x-python",
   "name": "python",
   "nbconvert_exporter": "python",
   "pygments_lexer": "ipython3",
   "version": "3.7.3"
  },
  "toc": {
   "base_numbering": 1,
   "nav_menu": {},
   "number_sections": true,
   "sideBar": true,
   "skip_h1_title": false,
   "title_cell": "Table of Contents",
   "title_sidebar": "Contents",
   "toc_cell": false,
   "toc_position": {},
   "toc_section_display": true,
   "toc_window_display": false
  }
 },
 "nbformat": 4,
 "nbformat_minor": 2
}
