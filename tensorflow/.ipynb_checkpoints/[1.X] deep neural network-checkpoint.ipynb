{
 "cells": [
  {
   "cell_type": "markdown",
   "metadata": {},
   "source": [
    "# deep neural network"
   ]
  },
  {
   "cell_type": "code",
   "execution_count": 25,
   "metadata": {
    "ExecuteTime": {
     "end_time": "2020-08-02T12:04:18.699879Z",
     "start_time": "2020-08-02T12:04:18.696959Z"
    }
   },
   "outputs": [],
   "source": [
    "import tensorflow.compat.v1 as tf\n",
    "tf.disable_v2_behavior()\n",
    "\n",
    "import pandas as pd\n",
    "from sklearn.datasets import make_classification"
   ]
  },
  {
   "cell_type": "code",
   "execution_count": 26,
   "metadata": {
    "ExecuteTime": {
     "end_time": "2020-08-02T12:04:19.040982Z",
     "start_time": "2020-08-02T12:04:18.889796Z"
    }
   },
   "outputs": [
    {
     "data": {
      "text/plain": [
       "<matplotlib.axes._subplots.AxesSubplot at 0x7fdc02b81e80>"
      ]
     },
     "execution_count": 26,
     "metadata": {},
     "output_type": "execute_result"
    },
    {
     "data": {
      "image/png": "[encoded data removed]",
      "text/plain": [
       "<Figure size 432x288 with 1 Axes>"
      ]
     },
     "metadata": {
      "needs_background": "light"
     },
     "output_type": "display_data"
    }
   ],
   "source": [
    "x, y = make_classification(n_features=2, n_informative=2, n_redundant=0, n_clusters_per_class=1, random_state=2)\n",
    "df = pd.DataFrame({\n",
    "    \"feature1\":x[:,0],\n",
    "    \"feature2\":x[:,1],\n",
    "    \"label\":y,\n",
    "})\n",
    "df.plot.scatter(x=\"feature1\", y=\"feature2\", c=y, s=100, edgecolor=\"k\", linewidth=2)"
   ]
  },
  {
   "cell_type": "code",
   "execution_count": 27,
   "metadata": {
    "ExecuteTime": {
     "end_time": "2020-08-02T12:04:19.101586Z",
     "start_time": "2020-08-02T12:04:19.096900Z"
    }
   },
   "outputs": [],
   "source": [
    "features = df[[\"feature1\", \"feature2\"]].values\n",
    "label = df[[\"label\"]].values"
   ]
  },
  {
   "cell_type": "code",
   "execution_count": 28,
   "metadata": {
    "ExecuteTime": {
     "end_time": "2020-08-02T12:04:19.337834Z",
     "start_time": "2020-08-02T12:04:19.333536Z"
    }
   },
   "outputs": [],
   "source": [
    "# define graph\n",
    "X = tf.placeholder(tf.float32, name=\"features\")\n",
    "Y = tf.placeholder(tf.float32, name=\"label\")"
   ]
  },
  {
   "cell_type": "code",
   "execution_count": 29,
   "metadata": {
    "ExecuteTime": {
     "end_time": "2020-08-02T12:04:19.690997Z",
     "start_time": "2020-08-02T12:04:19.661222Z"
    }
   },
   "outputs": [],
   "source": [
    "w1 = tf.Variable(tf.random_uniform([2, 10], -1.0, 1.0))\n",
    "b1 = tf.Variable(tf.random_uniform([10], -1.0, 1.0))\n",
    "w2 = tf.Variable(tf.random_uniform([10, 2], -1.0, 1.0))\n",
    "b2 = tf.Variable(tf.random_uniform([2], -1.0, 1.0))"
   ]
  },
  {
   "cell_type": "code",
   "execution_count": 30,
   "metadata": {
    "ExecuteTime": {
     "end_time": "2020-08-02T12:04:19.900033Z",
     "start_time": "2020-08-02T12:04:19.891349Z"
    }
   },
   "outputs": [],
   "source": [
    "L1 = tf.add(tf.matmul(X, w1), b1)\n",
    "L1 = tf.nn.relu(L1)\n",
    "L2 = tf.add(tf.matmul(L1, w2), b2)\n",
    "L2 = tf.nn.relu(L2)\n",
    "\n",
    "model = tf.nn.softmax(L2)"
   ]
  },
  {
   "cell_type": "code",
   "execution_count": 31,
   "metadata": {
    "ExecuteTime": {
     "end_time": "2020-08-02T12:04:20.196910Z",
     "start_time": "2020-08-02T12:04:20.105212Z"
    }
   },
   "outputs": [],
   "source": [
    "cost = tf.reduce_mean(-tf.reduce_sum(Y * tf.log(model), axis=1)) #cross entropy\n",
    "optimizer = tf.train.GradientDescentOptimizer(learning_rate=0.00001)\n",
    "training = optimizer.minimize(cost)\n",
    "prediction = tf.argmax(model, axis=1)"
   ]
  },
  {
   "cell_type": "code",
   "execution_count": 32,
   "metadata": {
    "ExecuteTime": {
     "end_time": "2020-08-02T12:04:50.488838Z",
     "start_time": "2020-08-02T12:04:20.320080Z"
    },
    "scrolled": true
   },
   "outputs": [
    {
     "name": "stdout",
     "output_type": "stream",
     "text": [
      "0 0.6871002\n",
      "5000 0.68684006\n",
      "10000 0.68659365\n",
      "15000 0.6863608\n",
      "20000 0.6861458\n",
      "25000 0.6859387\n",
      "30000 0.685739\n",
      "35000 0.6855466\n",
      "40000 0.68535995\n",
      "45000 0.68518066\n",
      "50000 0.68501073\n",
      "55000 0.68484557\n",
      "60000 0.68468696\n",
      "65000 0.6845351\n",
      "70000 0.6843929\n",
      "75000 0.6842577\n",
      "predictions: [1 0 1 1 0 1 0 1 0 1 1 0 1 1 1 0 0 0 1 1 1 0 1 0 0 0 0 0 1 0 1 1 0 1 1 0 1\n",
      " 1 0 0 1 1 0 0 1 1 1 0 0 0 0 0 0 0 1 1 1 1 1 0 1 1 1 1 0 0 0 1 1 1 0 0 1 1\n",
      " 1 1 1 1 0 1 1 1 0 1 1 1 1 0 0 1 0 0 1 1 1 0 0 0 0 0]\n"
     ]
    }
   ],
   "source": [
    "# run session\n",
    "sess = tf.Session()\n",
    "sess.run(tf.global_variables_initializer())\n",
    "\n",
    "for step in range(80000):\n",
    "    none, cost_val = sess.run(\n",
    "        [training, cost],\n",
    "        feed_dict={\n",
    "            X:features,\n",
    "            Y:label\n",
    "        })\n",
    "    if step % 5000 == 0:\n",
    "        print(step, cost_val)\n",
    "\n",
    "result = sess.run(prediction, feed_dict={X:features})\n",
    "print(f\"predictions: {result}\")"
   ]
  },
  {
   "cell_type": "code",
   "execution_count": 33,
   "metadata": {
    "ExecuteTime": {
     "end_time": "2020-08-02T12:04:50.539829Z",
     "start_time": "2020-08-02T12:04:50.491276Z"
    }
   },
   "outputs": [
    {
     "name": "stdout",
     "output_type": "stream",
     "text": [
      "실제값: [0 1 0 0 1 0 1 1 1 0 0 1 0 1 0 1 1 1 0 0 0 1 0 1 1 1 1 0 0 1 0 0 1 0 0 0 0\n",
      " 0 1 1 1 0 1 0 0 1 0 1 1 1 1 1 1 1 0 0 0 0 0 1 0 1 0 1 1 1 1 0 0 0 1 1 0 0\n",
      " 0 0 0 0 1 0 1 0 1 0 0 0 0 1 1 0 1 1 0 0 0 1 1 1 1 1]\n",
      "정확도: 0.1\n"
     ]
    }
   ],
   "source": [
    "is_correct = tf.equal(prediction, tf.cast(Y, tf.int64))\n",
    "accuracy = tf.reduce_mean(tf.cast(is_correct, tf.float32))\n",
    "y_array = label.reshape(100)\n",
    "print(f\"실제값: {y_array}\")\n",
    "print(\"정확도:\", sess.run(accuracy, feed_dict={\n",
    "    X:features,\n",
    "    Y:y_array\n",
    "}))"
   ]
  },
  {
   "cell_type": "code",
   "execution_count": 34,
   "metadata": {
    "ExecuteTime": {
     "end_time": "2020-08-02T12:04:50.550093Z",
     "start_time": "2020-08-02T12:04:50.543236Z"
    }
   },
   "outputs": [],
   "source": [
    "sess.close()"
   ]
  },
  {
   "cell_type": "code",
   "execution_count": null,
   "metadata": {},
   "outputs": [],
   "source": []
  },
  {
   "cell_type": "code",
   "execution_count": null,
   "metadata": {},
   "outputs": [],
   "source": []
  },
  {
   "cell_type": "code",
   "execution_count": null,
   "metadata": {},
   "outputs": [],
   "source": []
  },
  {
   "cell_type": "code",
   "execution_count": null,
   "metadata": {},
   "outputs": [],
   "source": []
  }
 ],
 "metadata": {
  "kernelspec": {
   "display_name": "Python 3",
   "language": "python",
   "name": "python3"
  },
  "language_info": {
   "codemirror_mode": {
    "name": "ipython",
    "version": 3
   },
   "file_extension": ".py",
   "mimetype": "text/x-python",
   "name": "python",
   "nbconvert_exporter": "python",
   "pygments_lexer": "ipython3",
   "version": "3.7.3"
  },
  "toc": {
   "base_numbering": 1,
   "nav_menu": {},
   "number_sections": true,
   "sideBar": true,
   "skip_h1_title": false,
   "title_cell": "Table of Contents",
   "title_sidebar": "Contents",
   "toc_cell": false,
   "toc_position": {},
   "toc_section_display": true,
   "toc_window_display": false
  }
 },
 "nbformat": 4,
 "nbformat_minor": 2
}
