{
 "cells": [
  {
   "cell_type": "markdown",
   "metadata": {},
   "source": [
    "# Keras Tuner"
   ]
  },
  {
   "cell_type": "markdown",
   "metadata": {},
   "source": [
    "## Import"
   ]
  },
  {
   "cell_type": "code",
   "execution_count": 1,
   "metadata": {
    "ExecuteTime": {
     "end_time": "2020-08-25T00:05:59.486332Z",
     "start_time": "2020-08-25T00:05:55.706975Z"
    }
   },
   "outputs": [],
   "source": [
    "import tensorflow as tf\n",
    "from tensorflow import keras\n",
    "\n",
    "import IPython"
   ]
  },
  {
   "cell_type": "code",
   "execution_count": 3,
   "metadata": {
    "ExecuteTime": {
     "end_time": "2020-08-25T00:06:32.120697Z",
     "start_time": "2020-08-25T00:06:24.824618Z"
    }
   },
   "outputs": [
    {
     "name": "stdout",
     "output_type": "stream",
     "text": [
      "\u001b[33mWARNING: You are using pip version 20.1.1; however, version 20.2.2 is available.\r\n",
      "You should consider upgrading via the '/Users/user/anaconda3/bin/python3 -m pip install --upgrade pip' command.\u001b[0m\r\n"
     ]
    }
   ],
   "source": [
    "!pip install -q -U keras-tuner\n",
    "import kerastuner as kt"
   ]
  },
  {
   "cell_type": "markdown",
   "metadata": {},
   "source": [
    "## Load MNIST dataset"
   ]
  },
  {
   "cell_type": "code",
   "execution_count": 4,
   "metadata": {
    "ExecuteTime": {
     "end_time": "2020-08-25T00:09:01.208292Z",
     "start_time": "2020-08-25T00:09:00.685755Z"
    }
   },
   "outputs": [
    {
     "data": {
      "text/plain": [
       "((60000, 28, 28), (10000,))"
      ]
     },
     "execution_count": 4,
     "metadata": {},
     "output_type": "execute_result"
    }
   ],
   "source": [
    "(img_train, label_train), (img_test, label_test) = keras.datasets.fashion_mnist.load_data()\n",
    "\n",
    "# Normalize pixel values between 0 and 1\n",
    "img_train = img_train.astype('float32') / 255.0\n",
    "img_test = img_test.astype('float32') / 255.0\n",
    "\n",
    "img_train.shape, label_test.shape"
   ]
  },
  {
   "cell_type": "markdown",
   "metadata": {},
   "source": [
    "## Define model\n",
    "- hyper model: 하이퍼 튜닝을위한 모델을 빌드 할 때 모델 아키텍처 외에 하이퍼 파라미터 검색 공간도 정의합니다. 하이퍼 튜닝을 위해 설정 한 모델을 하이퍼 모델이라고합니다."
   ]
  },
  {
   "cell_type": "code",
   "execution_count": 6,
   "metadata": {
    "ExecuteTime": {
     "end_time": "2020-08-25T00:20:56.833564Z",
     "start_time": "2020-08-25T00:20:56.827962Z"
    }
   },
   "outputs": [],
   "source": [
    "def model_builder(hp):\n",
    "    model = keras.Sequential()\n",
    "    model.add(keras.layers.Flatten(input_shape=(28, 28)))\n",
    "    \n",
    "    hp_units = hp.Int(\"units\", min_value=32, max_value=512, step=32)\n",
    "    model.add(keras.layers.Dense(hp_units, activation=\"relu\"))\n",
    "    model.add(keras.layers.Dense(10))\n",
    "    \n",
    "    hp_learning_rate = hp.Choice(\"learning_rate\", values=[1e-2, 1e-3, 1e-4])\n",
    "    \n",
    "    model.compile(\n",
    "        optimizer=keras.optimizers.Adam(learning_rate=hp_learning_rate),\n",
    "        loss=keras.losses.SparseCategoricalCrossentropy(from_logits = True), \n",
    "        metrics=[\"accuracy\"]\n",
    "    )\n",
    "    return model"
   ]
  },
  {
   "cell_type": "code",
   "execution_count": 7,
   "metadata": {
    "ExecuteTime": {
     "end_time": "2020-08-25T00:26:36.006843Z",
     "start_time": "2020-08-25T00:26:35.855446Z"
    }
   },
   "outputs": [],
   "source": [
    "# 튜너를 인스턴스화\n",
    "# Hyperband Tuner에는 RandomSearch , Hyperband , BayesianOptimization 및 Sklearn 네 가지 튜너가 있습니다. \n",
    "tuner = kt.Hyperband(\n",
    "    model_builder,\n",
    "    objective=\"val_accuracy\",\n",
    "    max_epochs=10, #?fit, search와의 차이점이 뭐지?\n",
    "    factor=3, #?\n",
    "    directory = 'my_dir', #?\n",
    "    project_name = 'intro_to_kt' #?\n",
    ")"
   ]
  },
  {
   "cell_type": "code",
   "execution_count": 10,
   "metadata": {
    "ExecuteTime": {
     "end_time": "2020-08-25T00:28:32.453774Z",
     "start_time": "2020-08-25T00:28:32.450580Z"
    }
   },
   "outputs": [],
   "source": [
    "# 모든 학습 단계가 끝날 때 학습 출력을 지우는 콜백을 정의\n",
    "class ClearTrainingOutput(tf.keras.callbacks.Callback):\n",
    "    def on_train_end(*args, **kwargs):\n",
    "        IPython.display.clear_output(wait = True)"
   ]
  },
  {
   "cell_type": "markdown",
   "metadata": {},
   "source": [
    "## Search best hyperparameters\n"
   ]
  },
  {
   "cell_type": "code",
   "execution_count": null,
   "metadata": {
    "ExecuteTime": {
     "end_time": "2020-08-25T00:37:39.620671Z",
     "start_time": "2020-08-25T00:28:36.805810Z"
    },
    "scrolled": true
   },
   "outputs": [],
   "source": [
    "tuner.search(\n",
    "    img_train, \n",
    "    label_train,\n",
    "    epochs=10, \n",
    "    validation_data=(img_test, label_test),\n",
    "#     callback=[ClearTrainingOutput()]\n",
    ")\n",
    "# Trial complete\n",
    "# Trial summary\n",
    "# |-Trial ID: 77f0be2ca687119d21737983fe990c9f\n",
    "# |-Score: 0.8769000172615051\n",
    "# |-Best step: 0\n",
    "# Hyperparameters:\n",
    "# |-learning_rate: 0.001\n",
    "# |-tuner/bracket: 1\n",
    "# |-tuner/epochs: 10\n",
    "# |-tuner/initial_epoch: 4\n",
    "# |-tuner/round: 1\n",
    "# |-tuner/trial_id: eb1bd14ab3109896df0fc92f7c826ace\n",
    "# |-units: 160"
   ]
  },
  {
   "cell_type": "code",
   "execution_count": 13,
   "metadata": {
    "ExecuteTime": {
     "end_time": "2020-08-25T00:37:39.626254Z",
     "start_time": "2020-08-25T00:37:39.622553Z"
    }
   },
   "outputs": [
    {
     "data": {
      "text/plain": [
       "<kerastuner.engine.hyperparameters.HyperParameters at 0x7ff612475470>"
      ]
     },
     "execution_count": 13,
     "metadata": {},
     "output_type": "execute_result"
    }
   ],
   "source": [
    "best_hps = tuner.get_best_hyperparameters(num_trials=1)[0]\n",
    "best_hps"
   ]
  },
  {
   "cell_type": "markdown",
   "metadata": {},
   "source": [
    "# Train final model"
   ]
  },
  {
   "cell_type": "code",
   "execution_count": 14,
   "metadata": {
    "ExecuteTime": {
     "end_time": "2020-08-25T00:38:50.771265Z",
     "start_time": "2020-08-25T00:37:39.628779Z"
    }
   },
   "outputs": [
    {
     "name": "stdout",
     "output_type": "stream",
     "text": [
      "Train on 60000 samples, validate on 10000 samples\n",
      "Epoch 1/10\n",
      "60000/60000 [==============================] - ETA: 8:09 - loss: 2.4111 - accuracy: 0.12 - ETA: 36s - loss: 1.4102 - accuracy: 0.5254 - ETA: 20s - loss: 1.1703 - accuracy: 0.588 - ETA: 15s - loss: 1.0206 - accuracy: 0.646 - ETA: 13s - loss: 0.9698 - accuracy: 0.668 - ETA: 11s - loss: 0.9105 - accuracy: 0.685 - ETA: 10s - loss: 0.8662 - accuracy: 0.699 - ETA: 9s - loss: 0.8366 - accuracy: 0.710 - ETA: 9s - loss: 0.8126 - accuracy: 0.71 - ETA: 8s - loss: 0.7874 - accuracy: 0.72 - ETA: 8s - loss: 0.7667 - accuracy: 0.73 - ETA: 7s - loss: 0.7540 - accuracy: 0.73 - ETA: 7s - loss: 0.7400 - accuracy: 0.74 - ETA: 7s - loss: 0.7253 - accuracy: 0.74 - ETA: 7s - loss: 0.7129 - accuracy: 0.75 - ETA: 6s - loss: 0.7055 - accuracy: 0.75 - ETA: 6s - loss: 0.6979 - accuracy: 0.75 - ETA: 6s - loss: 0.6847 - accuracy: 0.76 - ETA: 6s - loss: 0.6742 - accuracy: 0.76 - ETA: 6s - loss: 0.6649 - accuracy: 0.76 - ETA: 6s - loss: 0.6568 - accuracy: 0.77 - ETA: 6s - loss: 0.6555 - accuracy: 0.77 - ETA: 6s - loss: 0.6485 - accuracy: 0.77 - ETA: 5s - loss: 0.6453 - accuracy: 0.77 - ETA: 5s - loss: 0.6373 - accuracy: 0.77 - ETA: 5s - loss: 0.6325 - accuracy: 0.77 - ETA: 5s - loss: 0.6287 - accuracy: 0.78 - ETA: 5s - loss: 0.6229 - accuracy: 0.78 - ETA: 5s - loss: 0.6185 - accuracy: 0.78 - ETA: 5s - loss: 0.6154 - accuracy: 0.78 - ETA: 5s - loss: 0.6104 - accuracy: 0.78 - ETA: 5s - loss: 0.6060 - accuracy: 0.78 - ETA: 5s - loss: 0.6058 - accuracy: 0.78 - ETA: 5s - loss: 0.6002 - accuracy: 0.78 - ETA: 4s - loss: 0.5974 - accuracy: 0.79 - ETA: 4s - loss: 0.5940 - accuracy: 0.79 - ETA: 4s - loss: 0.5918 - accuracy: 0.79 - ETA: 4s - loss: 0.5881 - accuracy: 0.79 - ETA: 4s - loss: 0.5863 - accuracy: 0.79 - ETA: 4s - loss: 0.5829 - accuracy: 0.79 - ETA: 4s - loss: 0.5817 - accuracy: 0.79 - ETA: 4s - loss: 0.5777 - accuracy: 0.79 - ETA: 4s - loss: 0.5746 - accuracy: 0.79 - ETA: 4s - loss: 0.5710 - accuracy: 0.79 - ETA: 4s - loss: 0.5675 - accuracy: 0.80 - ETA: 4s - loss: 0.5641 - accuracy: 0.80 - ETA: 4s - loss: 0.5619 - accuracy: 0.80 - ETA: 4s - loss: 0.5595 - accuracy: 0.80 - ETA: 3s - loss: 0.5581 - accuracy: 0.80 - ETA: 3s - loss: 0.5552 - accuracy: 0.80 - ETA: 3s - loss: 0.5533 - accuracy: 0.80 - ETA: 3s - loss: 0.5511 - accuracy: 0.80 - ETA: 3s - loss: 0.5489 - accuracy: 0.80 - ETA: 3s - loss: 0.5467 - accuracy: 0.80 - ETA: 3s - loss: 0.5443 - accuracy: 0.80 - ETA: 3s - loss: 0.5412 - accuracy: 0.80 - ETA: 3s - loss: 0.5403 - accuracy: 0.80 - ETA: 3s - loss: 0.5391 - accuracy: 0.80 - ETA: 3s - loss: 0.5371 - accuracy: 0.81 - ETA: 3s - loss: 0.5364 - accuracy: 0.81 - ETA: 3s - loss: 0.5356 - accuracy: 0.81 - ETA: 3s - loss: 0.5344 - accuracy: 0.81 - ETA: 3s - loss: 0.5330 - accuracy: 0.81 - ETA: 3s - loss: 0.5306 - accuracy: 0.81 - ETA: 2s - loss: 0.5282 - accuracy: 0.81 - ETA: 2s - loss: 0.5276 - accuracy: 0.81 - ETA: 2s - loss: 0.5251 - accuracy: 0.81 - ETA: 2s - loss: 0.5238 - accuracy: 0.81 - ETA: 2s - loss: 0.5219 - accuracy: 0.81 - ETA: 2s - loss: 0.5205 - accuracy: 0.81 - ETA: 2s - loss: 0.5194 - accuracy: 0.81 - ETA: 2s - loss: 0.5190 - accuracy: 0.81 - ETA: 2s - loss: 0.5176 - accuracy: 0.81 - ETA: 2s - loss: 0.5153 - accuracy: 0.81 - ETA: 2s - loss: 0.5143 - accuracy: 0.81 - ETA: 2s - loss: 0.5131 - accuracy: 0.81 - ETA: 2s - loss: 0.5121 - accuracy: 0.81 - ETA: 2s - loss: 0.5103 - accuracy: 0.82 - ETA: 2s - loss: 0.5090 - accuracy: 0.82 - ETA: 2s - loss: 0.5085 - accuracy: 0.82 - ETA: 2s - loss: 0.5072 - accuracy: 0.82 - ETA: 1s - loss: 0.5052 - accuracy: 0.82 - ETA: 1s - loss: 0.5050 - accuracy: 0.82 - ETA: 1s - loss: 0.5044 - accuracy: 0.82 - ETA: 1s - loss: 0.5033 - accuracy: 0.82 - ETA: 1s - loss: 0.5019 - accuracy: 0.82 - ETA: 1s - loss: 0.5010 - accuracy: 0.82 - ETA: 1s - loss: 0.4997 - accuracy: 0.82 - ETA: 1s - loss: 0.4986 - accuracy: 0.82 - ETA: 1s - loss: 0.4970 - accuracy: 0.82 - ETA: 1s - loss: 0.4958 - accuracy: 0.82 - ETA: 1s - loss: 0.4947 - accuracy: 0.82 - ETA: 1s - loss: 0.4945 - accuracy: 0.82 - ETA: 1s - loss: 0.4939 - accuracy: 0.82 - ETA: 1s - loss: 0.4930 - accuracy: 0.82 - ETA: 1s - loss: 0.4919 - accuracy: 0.82 - ETA: 1s - loss: 0.4908 - accuracy: 0.82 - ETA: 1s - loss: 0.4903 - accuracy: 0.82 - ETA: 1s - loss: 0.4890 - accuracy: 0.82 - ETA: 1s - loss: 0.4883 - accuracy: 0.82 - ETA: 0s - loss: 0.4870 - accuracy: 0.82 - ETA: 0s - loss: 0.4867 - accuracy: 0.82 - ETA: 0s - loss: 0.4864 - accuracy: 0.82 - ETA: 0s - loss: 0.4857 - accuracy: 0.82 - ETA: 0s - loss: 0.4848 - accuracy: 0.82 - ETA: 0s - loss: 0.4844 - accuracy: 0.82 - ETA: 0s - loss: 0.4835 - accuracy: 0.82 - ETA: 0s - loss: 0.4831 - accuracy: 0.82 - ETA: 0s - loss: 0.4819 - accuracy: 0.82 - ETA: 0s - loss: 0.4813 - accuracy: 0.82 - ETA: 0s - loss: 0.4808 - accuracy: 0.83 - ETA: 0s - loss: 0.4806 - accuracy: 0.83 - ETA: 0s - loss: 0.4808 - accuracy: 0.83 - ETA: 0s - loss: 0.4804 - accuracy: 0.83 - ETA: 0s - loss: 0.4795 - accuracy: 0.83 - ETA: 0s - loss: 0.4785 - accuracy: 0.83 - ETA: 0s - loss: 0.4775 - accuracy: 0.83 - ETA: 0s - loss: 0.4772 - accuracy: 0.83 - 7s 114us/sample - loss: 0.4768 - accuracy: 0.8315 - val_loss: 0.4042 - val_accuracy: 0.8529\n",
      "Epoch 2/10\n"
     ]
    },
    {
     "name": "stdout",
     "output_type": "stream",
     "text": [
      "60000/60000 [==============================] - ETA: 7s - loss: 0.2130 - accuracy: 0.96 - ETA: 6s - loss: 0.3454 - accuracy: 0.87 - ETA: 6s - loss: 0.3580 - accuracy: 0.86 - ETA: 6s - loss: 0.3589 - accuracy: 0.86 - ETA: 6s - loss: 0.3592 - accuracy: 0.86 - ETA: 6s - loss: 0.3590 - accuracy: 0.86 - ETA: 5s - loss: 0.3727 - accuracy: 0.86 - ETA: 5s - loss: 0.3801 - accuracy: 0.86 - ETA: 5s - loss: 0.3868 - accuracy: 0.86 - ETA: 5s - loss: 0.3831 - accuracy: 0.86 - ETA: 5s - loss: 0.3892 - accuracy: 0.86 - ETA: 5s - loss: 0.3828 - accuracy: 0.86 - ETA: 5s - loss: 0.3813 - accuracy: 0.86 - ETA: 5s - loss: 0.3749 - accuracy: 0.86 - ETA: 5s - loss: 0.3747 - accuracy: 0.86 - ETA: 5s - loss: 0.3759 - accuracy: 0.86 - ETA: 5s - loss: 0.3763 - accuracy: 0.86 - ETA: 5s - loss: 0.3790 - accuracy: 0.86 - ETA: 5s - loss: 0.3807 - accuracy: 0.86 - ETA: 5s - loss: 0.3796 - accuracy: 0.86 - ETA: 5s - loss: 0.3819 - accuracy: 0.86 - ETA: 5s - loss: 0.3808 - accuracy: 0.86 - ETA: 5s - loss: 0.3842 - accuracy: 0.86 - ETA: 5s - loss: 0.3799 - accuracy: 0.86 - ETA: 4s - loss: 0.3797 - accuracy: 0.86 - ETA: 4s - loss: 0.3800 - accuracy: 0.86 - ETA: 4s - loss: 0.3781 - accuracy: 0.86 - ETA: 4s - loss: 0.3770 - accuracy: 0.86 - ETA: 4s - loss: 0.3747 - accuracy: 0.86 - ETA: 4s - loss: 0.3733 - accuracy: 0.86 - ETA: 4s - loss: 0.3725 - accuracy: 0.86 - ETA: 4s - loss: 0.3738 - accuracy: 0.86 - ETA: 4s - loss: 0.3749 - accuracy: 0.86 - ETA: 4s - loss: 0.3737 - accuracy: 0.86 - ETA: 4s - loss: 0.3736 - accuracy: 0.86 - ETA: 4s - loss: 0.3712 - accuracy: 0.86 - ETA: 4s - loss: 0.3691 - accuracy: 0.86 - ETA: 4s - loss: 0.3683 - accuracy: 0.86 - ETA: 4s - loss: 0.3689 - accuracy: 0.86 - ETA: 4s - loss: 0.3708 - accuracy: 0.86 - ETA: 4s - loss: 0.3724 - accuracy: 0.86 - ETA: 4s - loss: 0.3710 - accuracy: 0.86 - ETA: 4s - loss: 0.3704 - accuracy: 0.86 - ETA: 4s - loss: 0.3696 - accuracy: 0.86 - ETA: 3s - loss: 0.3700 - accuracy: 0.86 - ETA: 3s - loss: 0.3709 - accuracy: 0.86 - ETA: 3s - loss: 0.3709 - accuracy: 0.86 - ETA: 3s - loss: 0.3707 - accuracy: 0.86 - ETA: 3s - loss: 0.3706 - accuracy: 0.86 - ETA: 3s - loss: 0.3719 - accuracy: 0.86 - ETA: 3s - loss: 0.3710 - accuracy: 0.86 - ETA: 3s - loss: 0.3691 - accuracy: 0.86 - ETA: 3s - loss: 0.3683 - accuracy: 0.86 - ETA: 3s - loss: 0.3681 - accuracy: 0.86 - ETA: 3s - loss: 0.3679 - accuracy: 0.86 - ETA: 3s - loss: 0.3677 - accuracy: 0.86 - ETA: 3s - loss: 0.3673 - accuracy: 0.86 - ETA: 3s - loss: 0.3677 - accuracy: 0.86 - ETA: 3s - loss: 0.3672 - accuracy: 0.86 - ETA: 3s - loss: 0.3664 - accuracy: 0.86 - ETA: 3s - loss: 0.3668 - accuracy: 0.86 - ETA: 3s - loss: 0.3666 - accuracy: 0.86 - ETA: 3s - loss: 0.3664 - accuracy: 0.86 - ETA: 2s - loss: 0.3668 - accuracy: 0.86 - ETA: 2s - loss: 0.3678 - accuracy: 0.86 - ETA: 2s - loss: 0.3674 - accuracy: 0.86 - ETA: 2s - loss: 0.3674 - accuracy: 0.86 - ETA: 2s - loss: 0.3667 - accuracy: 0.86 - ETA: 2s - loss: 0.3667 - accuracy: 0.86 - ETA: 2s - loss: 0.3664 - accuracy: 0.86 - ETA: 2s - loss: 0.3655 - accuracy: 0.86 - ETA: 2s - loss: 0.3645 - accuracy: 0.86 - ETA: 2s - loss: 0.3651 - accuracy: 0.86 - ETA: 2s - loss: 0.3655 - accuracy: 0.86 - ETA: 2s - loss: 0.3661 - accuracy: 0.86 - ETA: 2s - loss: 0.3663 - accuracy: 0.86 - ETA: 2s - loss: 0.3663 - accuracy: 0.86 - ETA: 2s - loss: 0.3664 - accuracy: 0.86 - ETA: 2s - loss: 0.3661 - accuracy: 0.86 - ETA: 2s - loss: 0.3664 - accuracy: 0.86 - ETA: 2s - loss: 0.3666 - accuracy: 0.86 - ETA: 2s - loss: 0.3654 - accuracy: 0.86 - ETA: 1s - loss: 0.3647 - accuracy: 0.86 - ETA: 1s - loss: 0.3647 - accuracy: 0.86 - ETA: 1s - loss: 0.3642 - accuracy: 0.86 - ETA: 1s - loss: 0.3639 - accuracy: 0.86 - ETA: 1s - loss: 0.3636 - accuracy: 0.86 - ETA: 1s - loss: 0.3637 - accuracy: 0.86 - ETA: 1s - loss: 0.3632 - accuracy: 0.86 - ETA: 1s - loss: 0.3632 - accuracy: 0.86 - ETA: 1s - loss: 0.3628 - accuracy: 0.86 - ETA: 1s - loss: 0.3624 - accuracy: 0.86 - ETA: 1s - loss: 0.3615 - accuracy: 0.86 - ETA: 1s - loss: 0.3610 - accuracy: 0.86 - ETA: 1s - loss: 0.3602 - accuracy: 0.86 - ETA: 1s - loss: 0.3606 - accuracy: 0.86 - ETA: 1s - loss: 0.3609 - accuracy: 0.86 - ETA: 1s - loss: 0.3606 - accuracy: 0.86 - ETA: 1s - loss: 0.3603 - accuracy: 0.86 - ETA: 1s - loss: 0.3603 - accuracy: 0.86 - ETA: 1s - loss: 0.3606 - accuracy: 0.86 - ETA: 0s - loss: 0.3607 - accuracy: 0.86 - ETA: 0s - loss: 0.3604 - accuracy: 0.86 - ETA: 0s - loss: 0.3602 - accuracy: 0.86 - ETA: 0s - loss: 0.3593 - accuracy: 0.86 - ETA: 0s - loss: 0.3592 - accuracy: 0.86 - ETA: 0s - loss: 0.3591 - accuracy: 0.86 - ETA: 0s - loss: 0.3592 - accuracy: 0.86 - ETA: 0s - loss: 0.3589 - accuracy: 0.86 - ETA: 0s - loss: 0.3589 - accuracy: 0.86 - ETA: 0s - loss: 0.3590 - accuracy: 0.86 - ETA: 0s - loss: 0.3590 - accuracy: 0.86 - ETA: 0s - loss: 0.3589 - accuracy: 0.86 - ETA: 0s - loss: 0.3587 - accuracy: 0.86 - ETA: 0s - loss: 0.3586 - accuracy: 0.86 - ETA: 0s - loss: 0.3583 - accuracy: 0.86 - ETA: 0s - loss: 0.3580 - accuracy: 0.86 - ETA: 0s - loss: 0.3580 - accuracy: 0.86 - ETA: 0s - loss: 0.3574 - accuracy: 0.86 - ETA: 0s - loss: 0.3571 - accuracy: 0.86 - 7s 111us/sample - loss: 0.3570 - accuracy: 0.8699 - val_loss: 0.3745 - val_accuracy: 0.8636\n",
      "Epoch 3/10\n"
     ]
    },
    {
     "name": "stdout",
     "output_type": "stream",
     "text": [
      "60000/60000 [==============================] - ETA: 7s - loss: 0.2052 - accuracy: 0.93 - ETA: 6s - loss: 0.3607 - accuracy: 0.88 - ETA: 6s - loss: 0.3549 - accuracy: 0.87 - ETA: 6s - loss: 0.3668 - accuracy: 0.87 - ETA: 6s - loss: 0.3611 - accuracy: 0.86 - ETA: 6s - loss: 0.3513 - accuracy: 0.87 - ETA: 5s - loss: 0.3484 - accuracy: 0.87 - ETA: 5s - loss: 0.3348 - accuracy: 0.87 - ETA: 5s - loss: 0.3330 - accuracy: 0.87 - ETA: 5s - loss: 0.3287 - accuracy: 0.88 - ETA: 5s - loss: 0.3260 - accuracy: 0.87 - ETA: 5s - loss: 0.3257 - accuracy: 0.87 - ETA: 5s - loss: 0.3294 - accuracy: 0.87 - ETA: 5s - loss: 0.3258 - accuracy: 0.87 - ETA: 5s - loss: 0.3230 - accuracy: 0.88 - ETA: 5s - loss: 0.3218 - accuracy: 0.88 - ETA: 5s - loss: 0.3245 - accuracy: 0.87 - ETA: 5s - loss: 0.3230 - accuracy: 0.88 - ETA: 5s - loss: 0.3236 - accuracy: 0.88 - ETA: 5s - loss: 0.3222 - accuracy: 0.88 - ETA: 5s - loss: 0.3226 - accuracy: 0.88 - ETA: 5s - loss: 0.3224 - accuracy: 0.88 - ETA: 5s - loss: 0.3241 - accuracy: 0.88 - ETA: 5s - loss: 0.3247 - accuracy: 0.88 - ETA: 5s - loss: 0.3241 - accuracy: 0.88 - ETA: 5s - loss: 0.3226 - accuracy: 0.88 - ETA: 4s - loss: 0.3235 - accuracy: 0.88 - ETA: 4s - loss: 0.3253 - accuracy: 0.88 - ETA: 4s - loss: 0.3265 - accuracy: 0.87 - ETA: 4s - loss: 0.3264 - accuracy: 0.87 - ETA: 4s - loss: 0.3260 - accuracy: 0.88 - ETA: 4s - loss: 0.3260 - accuracy: 0.88 - ETA: 4s - loss: 0.3242 - accuracy: 0.88 - ETA: 4s - loss: 0.3229 - accuracy: 0.88 - ETA: 4s - loss: 0.3221 - accuracy: 0.88 - ETA: 4s - loss: 0.3220 - accuracy: 0.88 - ETA: 4s - loss: 0.3217 - accuracy: 0.88 - ETA: 4s - loss: 0.3217 - accuracy: 0.88 - ETA: 4s - loss: 0.3220 - accuracy: 0.88 - ETA: 4s - loss: 0.3234 - accuracy: 0.88 - ETA: 4s - loss: 0.3232 - accuracy: 0.88 - ETA: 4s - loss: 0.3231 - accuracy: 0.88 - ETA: 4s - loss: 0.3243 - accuracy: 0.87 - ETA: 4s - loss: 0.3242 - accuracy: 0.87 - ETA: 4s - loss: 0.3231 - accuracy: 0.87 - ETA: 4s - loss: 0.3242 - accuracy: 0.87 - ETA: 3s - loss: 0.3247 - accuracy: 0.87 - ETA: 3s - loss: 0.3234 - accuracy: 0.87 - ETA: 3s - loss: 0.3233 - accuracy: 0.87 - ETA: 3s - loss: 0.3238 - accuracy: 0.87 - ETA: 3s - loss: 0.3231 - accuracy: 0.87 - ETA: 3s - loss: 0.3227 - accuracy: 0.88 - ETA: 3s - loss: 0.3225 - accuracy: 0.88 - ETA: 3s - loss: 0.3231 - accuracy: 0.88 - ETA: 3s - loss: 0.3229 - accuracy: 0.87 - ETA: 3s - loss: 0.3229 - accuracy: 0.87 - ETA: 3s - loss: 0.3229 - accuracy: 0.88 - ETA: 3s - loss: 0.3234 - accuracy: 0.88 - ETA: 3s - loss: 0.3239 - accuracy: 0.88 - ETA: 3s - loss: 0.3239 - accuracy: 0.88 - ETA: 3s - loss: 0.3244 - accuracy: 0.87 - ETA: 3s - loss: 0.3247 - accuracy: 0.87 - ETA: 3s - loss: 0.3243 - accuracy: 0.87 - ETA: 3s - loss: 0.3247 - accuracy: 0.87 - ETA: 3s - loss: 0.3250 - accuracy: 0.87 - ETA: 3s - loss: 0.3251 - accuracy: 0.87 - ETA: 2s - loss: 0.3243 - accuracy: 0.87 - ETA: 2s - loss: 0.3242 - accuracy: 0.87 - ETA: 2s - loss: 0.3249 - accuracy: 0.87 - ETA: 2s - loss: 0.3246 - accuracy: 0.87 - ETA: 2s - loss: 0.3245 - accuracy: 0.87 - ETA: 2s - loss: 0.3254 - accuracy: 0.87 - ETA: 2s - loss: 0.3253 - accuracy: 0.87 - ETA: 2s - loss: 0.3249 - accuracy: 0.87 - ETA: 2s - loss: 0.3240 - accuracy: 0.87 - ETA: 2s - loss: 0.3248 - accuracy: 0.87 - ETA: 2s - loss: 0.3242 - accuracy: 0.87 - ETA: 2s - loss: 0.3238 - accuracy: 0.88 - ETA: 2s - loss: 0.3235 - accuracy: 0.88 - ETA: 2s - loss: 0.3229 - accuracy: 0.88 - ETA: 2s - loss: 0.3226 - accuracy: 0.88 - ETA: 2s - loss: 0.3225 - accuracy: 0.88 - ETA: 2s - loss: 0.3222 - accuracy: 0.88 - ETA: 2s - loss: 0.3218 - accuracy: 0.88 - ETA: 2s - loss: 0.3218 - accuracy: 0.88 - ETA: 2s - loss: 0.3218 - accuracy: 0.88 - ETA: 1s - loss: 0.3212 - accuracy: 0.88 - ETA: 1s - loss: 0.3210 - accuracy: 0.88 - ETA: 1s - loss: 0.3211 - accuracy: 0.88 - ETA: 1s - loss: 0.3208 - accuracy: 0.88 - ETA: 1s - loss: 0.3214 - accuracy: 0.88 - ETA: 1s - loss: 0.3215 - accuracy: 0.88 - ETA: 1s - loss: 0.3217 - accuracy: 0.88 - ETA: 1s - loss: 0.3222 - accuracy: 0.88 - ETA: 1s - loss: 0.3232 - accuracy: 0.88 - ETA: 1s - loss: 0.3233 - accuracy: 0.88 - ETA: 1s - loss: 0.3233 - accuracy: 0.88 - ETA: 1s - loss: 0.3237 - accuracy: 0.88 - ETA: 1s - loss: 0.3237 - accuracy: 0.88 - ETA: 1s - loss: 0.3235 - accuracy: 0.88 - ETA: 1s - loss: 0.3236 - accuracy: 0.88 - ETA: 1s - loss: 0.3237 - accuracy: 0.88 - ETA: 1s - loss: 0.3233 - accuracy: 0.88 - ETA: 1s - loss: 0.3233 - accuracy: 0.88 - ETA: 1s - loss: 0.3234 - accuracy: 0.88 - ETA: 0s - loss: 0.3228 - accuracy: 0.88 - ETA: 0s - loss: 0.3225 - accuracy: 0.88 - ETA: 0s - loss: 0.3219 - accuracy: 0.88 - ETA: 0s - loss: 0.3221 - accuracy: 0.88 - ETA: 0s - loss: 0.3224 - accuracy: 0.88 - ETA: 0s - loss: 0.3228 - accuracy: 0.88 - ETA: 0s - loss: 0.3228 - accuracy: 0.88 - ETA: 0s - loss: 0.3226 - accuracy: 0.88 - ETA: 0s - loss: 0.3224 - accuracy: 0.88 - ETA: 0s - loss: 0.3220 - accuracy: 0.88 - ETA: 0s - loss: 0.3223 - accuracy: 0.88 - ETA: 0s - loss: 0.3223 - accuracy: 0.88 - ETA: 0s - loss: 0.3222 - accuracy: 0.88 - ETA: 0s - loss: 0.3226 - accuracy: 0.88 - ETA: 0s - loss: 0.3222 - accuracy: 0.88 - ETA: 0s - loss: 0.3219 - accuracy: 0.88 - ETA: 0s - loss: 0.3223 - accuracy: 0.88 - ETA: 0s - loss: 0.3222 - accuracy: 0.88 - ETA: 0s - loss: 0.3221 - accuracy: 0.88 - ETA: 0s - loss: 0.3221 - accuracy: 0.88 - 7s 114us/sample - loss: 0.3223 - accuracy: 0.8810 - val_loss: 0.3474 - val_accuracy: 0.8730\n",
      "Epoch 4/10\n"
     ]
    },
    {
     "name": "stdout",
     "output_type": "stream",
     "text": [
      "60000/60000 [==============================] - ETA: 7s - loss: 0.2657 - accuracy: 0.90 - ETA: 6s - loss: 0.2895 - accuracy: 0.89 - ETA: 6s - loss: 0.3197 - accuracy: 0.88 - ETA: 6s - loss: 0.3093 - accuracy: 0.88 - ETA: 6s - loss: 0.3016 - accuracy: 0.89 - ETA: 6s - loss: 0.3031 - accuracy: 0.89 - ETA: 6s - loss: 0.2970 - accuracy: 0.89 - ETA: 6s - loss: 0.2982 - accuracy: 0.89 - ETA: 5s - loss: 0.2941 - accuracy: 0.89 - ETA: 5s - loss: 0.2962 - accuracy: 0.89 - ETA: 5s - loss: 0.2988 - accuracy: 0.89 - ETA: 5s - loss: 0.3009 - accuracy: 0.89 - ETA: 5s - loss: 0.2995 - accuracy: 0.89 - ETA: 5s - loss: 0.3022 - accuracy: 0.88 - ETA: 5s - loss: 0.3003 - accuracy: 0.89 - ETA: 5s - loss: 0.2989 - accuracy: 0.89 - ETA: 5s - loss: 0.2987 - accuracy: 0.89 - ETA: 5s - loss: 0.2958 - accuracy: 0.89 - ETA: 5s - loss: 0.2974 - accuracy: 0.89 - ETA: 5s - loss: 0.2957 - accuracy: 0.89 - ETA: 5s - loss: 0.2957 - accuracy: 0.89 - ETA: 5s - loss: 0.2985 - accuracy: 0.88 - ETA: 5s - loss: 0.2989 - accuracy: 0.88 - ETA: 5s - loss: 0.2979 - accuracy: 0.88 - ETA: 5s - loss: 0.2959 - accuracy: 0.88 - ETA: 5s - loss: 0.2969 - accuracy: 0.88 - ETA: 5s - loss: 0.2951 - accuracy: 0.89 - ETA: 4s - loss: 0.2956 - accuracy: 0.88 - ETA: 4s - loss: 0.2964 - accuracy: 0.88 - ETA: 4s - loss: 0.2982 - accuracy: 0.88 - ETA: 4s - loss: 0.2996 - accuracy: 0.88 - ETA: 4s - loss: 0.2999 - accuracy: 0.88 - ETA: 4s - loss: 0.2988 - accuracy: 0.88 - ETA: 4s - loss: 0.3002 - accuracy: 0.88 - ETA: 4s - loss: 0.3009 - accuracy: 0.88 - ETA: 4s - loss: 0.3006 - accuracy: 0.88 - ETA: 4s - loss: 0.3001 - accuracy: 0.88 - ETA: 4s - loss: 0.2997 - accuracy: 0.88 - ETA: 4s - loss: 0.2993 - accuracy: 0.88 - ETA: 4s - loss: 0.2994 - accuracy: 0.88 - ETA: 4s - loss: 0.2995 - accuracy: 0.88 - ETA: 4s - loss: 0.2999 - accuracy: 0.88 - ETA: 4s - loss: 0.3006 - accuracy: 0.88 - ETA: 4s - loss: 0.3000 - accuracy: 0.88 - ETA: 4s - loss: 0.2985 - accuracy: 0.88 - ETA: 4s - loss: 0.2991 - accuracy: 0.88 - ETA: 4s - loss: 0.2996 - accuracy: 0.88 - ETA: 3s - loss: 0.3005 - accuracy: 0.88 - ETA: 3s - loss: 0.3007 - accuracy: 0.88 - ETA: 3s - loss: 0.3011 - accuracy: 0.88 - ETA: 3s - loss: 0.3018 - accuracy: 0.88 - ETA: 3s - loss: 0.3014 - accuracy: 0.88 - ETA: 3s - loss: 0.3019 - accuracy: 0.88 - ETA: 3s - loss: 0.3022 - accuracy: 0.88 - ETA: 3s - loss: 0.3032 - accuracy: 0.88 - ETA: 3s - loss: 0.3037 - accuracy: 0.88 - ETA: 3s - loss: 0.3054 - accuracy: 0.88 - ETA: 3s - loss: 0.3052 - accuracy: 0.88 - ETA: 3s - loss: 0.3049 - accuracy: 0.88 - ETA: 3s - loss: 0.3054 - accuracy: 0.88 - ETA: 3s - loss: 0.3057 - accuracy: 0.88 - ETA: 3s - loss: 0.3056 - accuracy: 0.88 - ETA: 3s - loss: 0.3063 - accuracy: 0.88 - ETA: 3s - loss: 0.3056 - accuracy: 0.88 - ETA: 3s - loss: 0.3056 - accuracy: 0.88 - ETA: 3s - loss: 0.3053 - accuracy: 0.88 - ETA: 2s - loss: 0.3049 - accuracy: 0.88 - ETA: 2s - loss: 0.3050 - accuracy: 0.88 - ETA: 2s - loss: 0.3045 - accuracy: 0.88 - ETA: 2s - loss: 0.3035 - accuracy: 0.88 - ETA: 2s - loss: 0.3026 - accuracy: 0.88 - ETA: 2s - loss: 0.3021 - accuracy: 0.88 - ETA: 2s - loss: 0.3026 - accuracy: 0.88 - ETA: 2s - loss: 0.3025 - accuracy: 0.88 - ETA: 2s - loss: 0.3031 - accuracy: 0.88 - ETA: 2s - loss: 0.3028 - accuracy: 0.88 - ETA: 2s - loss: 0.3031 - accuracy: 0.88 - ETA: 2s - loss: 0.3023 - accuracy: 0.88 - ETA: 2s - loss: 0.3019 - accuracy: 0.88 - ETA: 2s - loss: 0.3020 - accuracy: 0.88 - ETA: 2s - loss: 0.3022 - accuracy: 0.88 - ETA: 2s - loss: 0.3023 - accuracy: 0.88 - ETA: 2s - loss: 0.3016 - accuracy: 0.88 - ETA: 2s - loss: 0.3017 - accuracy: 0.88 - ETA: 2s - loss: 0.3012 - accuracy: 0.88 - ETA: 2s - loss: 0.3006 - accuracy: 0.88 - ETA: 1s - loss: 0.3005 - accuracy: 0.88 - ETA: 1s - loss: 0.3001 - accuracy: 0.88 - ETA: 1s - loss: 0.3005 - accuracy: 0.88 - ETA: 1s - loss: 0.3002 - accuracy: 0.88 - ETA: 1s - loss: 0.2999 - accuracy: 0.88 - ETA: 1s - loss: 0.2998 - accuracy: 0.88 - ETA: 1s - loss: 0.3002 - accuracy: 0.88 - ETA: 1s - loss: 0.3001 - accuracy: 0.88 - ETA: 1s - loss: 0.3000 - accuracy: 0.88 - ETA: 1s - loss: 0.3002 - accuracy: 0.88 - ETA: 1s - loss: 0.3003 - accuracy: 0.88 - ETA: 1s - loss: 0.3003 - accuracy: 0.88 - ETA: 1s - loss: 0.3009 - accuracy: 0.88 - ETA: 1s - loss: 0.3007 - accuracy: 0.88 - ETA: 1s - loss: 0.2999 - accuracy: 0.88 - ETA: 1s - loss: 0.3001 - accuracy: 0.88 - ETA: 1s - loss: 0.3001 - accuracy: 0.88 - ETA: 1s - loss: 0.2999 - accuracy: 0.88 - ETA: 1s - loss: 0.3000 - accuracy: 0.88 - ETA: 0s - loss: 0.2998 - accuracy: 0.88 - ETA: 0s - loss: 0.3003 - accuracy: 0.88 - ETA: 0s - loss: 0.3004 - accuracy: 0.88 - ETA: 0s - loss: 0.3004 - accuracy: 0.88 - ETA: 0s - loss: 0.2999 - accuracy: 0.88 - ETA: 0s - loss: 0.2999 - accuracy: 0.88 - ETA: 0s - loss: 0.3002 - accuracy: 0.88 - ETA: 0s - loss: 0.3004 - accuracy: 0.88 - ETA: 0s - loss: 0.3006 - accuracy: 0.88 - ETA: 0s - loss: 0.3004 - accuracy: 0.88 - ETA: 0s - loss: 0.3003 - accuracy: 0.88 - ETA: 0s - loss: 0.3003 - accuracy: 0.88 - ETA: 0s - loss: 0.3004 - accuracy: 0.88 - ETA: 0s - loss: 0.3005 - accuracy: 0.88 - ETA: 0s - loss: 0.3001 - accuracy: 0.88 - ETA: 0s - loss: 0.3000 - accuracy: 0.88 - ETA: 0s - loss: 0.2996 - accuracy: 0.88 - ETA: 0s - loss: 0.2997 - accuracy: 0.88 - ETA: 0s - loss: 0.2996 - accuracy: 0.88 - ETA: 0s - loss: 0.2992 - accuracy: 0.88 - 7s 115us/sample - loss: 0.2991 - accuracy: 0.8880 - val_loss: 0.3412 - val_accuracy: 0.8757\n",
      "Epoch 5/10\n"
     ]
    },
    {
     "name": "stdout",
     "output_type": "stream",
     "text": [
      "60000/60000 [==============================] - ETA: 8s - loss: 0.2321 - accuracy: 0.93 - ETA: 6s - loss: 0.3262 - accuracy: 0.87 - ETA: 6s - loss: 0.3143 - accuracy: 0.87 - ETA: 6s - loss: 0.3141 - accuracy: 0.87 - ETA: 6s - loss: 0.3044 - accuracy: 0.88 - ETA: 6s - loss: 0.2842 - accuracy: 0.89 - ETA: 6s - loss: 0.2801 - accuracy: 0.89 - ETA: 6s - loss: 0.2776 - accuracy: 0.89 - ETA: 6s - loss: 0.2781 - accuracy: 0.89 - ETA: 6s - loss: 0.2786 - accuracy: 0.89 - ETA: 6s - loss: 0.2801 - accuracy: 0.89 - ETA: 6s - loss: 0.2843 - accuracy: 0.89 - ETA: 5s - loss: 0.2825 - accuracy: 0.89 - ETA: 5s - loss: 0.2788 - accuracy: 0.89 - ETA: 5s - loss: 0.2751 - accuracy: 0.89 - ETA: 5s - loss: 0.2761 - accuracy: 0.89 - ETA: 5s - loss: 0.2782 - accuracy: 0.89 - ETA: 5s - loss: 0.2786 - accuracy: 0.89 - ETA: 5s - loss: 0.2775 - accuracy: 0.89 - ETA: 5s - loss: 0.2787 - accuracy: 0.89 - ETA: 5s - loss: 0.2797 - accuracy: 0.89 - ETA: 5s - loss: 0.2815 - accuracy: 0.89 - ETA: 5s - loss: 0.2799 - accuracy: 0.89 - ETA: 5s - loss: 0.2800 - accuracy: 0.89 - ETA: 5s - loss: 0.2807 - accuracy: 0.89 - ETA: 5s - loss: 0.2813 - accuracy: 0.89 - ETA: 5s - loss: 0.2803 - accuracy: 0.89 - ETA: 5s - loss: 0.2807 - accuracy: 0.89 - ETA: 5s - loss: 0.2800 - accuracy: 0.89 - ETA: 5s - loss: 0.2785 - accuracy: 0.89 - ETA: 5s - loss: 0.2790 - accuracy: 0.89 - ETA: 4s - loss: 0.2798 - accuracy: 0.89 - ETA: 4s - loss: 0.2796 - accuracy: 0.89 - ETA: 4s - loss: 0.2797 - accuracy: 0.89 - ETA: 4s - loss: 0.2801 - accuracy: 0.89 - ETA: 4s - loss: 0.2780 - accuracy: 0.89 - ETA: 4s - loss: 0.2779 - accuracy: 0.89 - ETA: 4s - loss: 0.2815 - accuracy: 0.89 - ETA: 4s - loss: 0.2821 - accuracy: 0.89 - ETA: 4s - loss: 0.2816 - accuracy: 0.89 - ETA: 4s - loss: 0.2817 - accuracy: 0.89 - ETA: 4s - loss: 0.2814 - accuracy: 0.89 - ETA: 4s - loss: 0.2829 - accuracy: 0.89 - ETA: 4s - loss: 0.2822 - accuracy: 0.89 - ETA: 4s - loss: 0.2810 - accuracy: 0.89 - ETA: 4s - loss: 0.2794 - accuracy: 0.89 - ETA: 4s - loss: 0.2797 - accuracy: 0.89 - ETA: 4s - loss: 0.2791 - accuracy: 0.89 - ETA: 4s - loss: 0.2797 - accuracy: 0.89 - ETA: 4s - loss: 0.2798 - accuracy: 0.89 - ETA: 3s - loss: 0.2801 - accuracy: 0.89 - ETA: 3s - loss: 0.2799 - accuracy: 0.89 - ETA: 3s - loss: 0.2798 - accuracy: 0.89 - ETA: 3s - loss: 0.2805 - accuracy: 0.89 - ETA: 3s - loss: 0.2807 - accuracy: 0.89 - ETA: 3s - loss: 0.2813 - accuracy: 0.89 - ETA: 3s - loss: 0.2821 - accuracy: 0.89 - ETA: 3s - loss: 0.2820 - accuracy: 0.89 - ETA: 3s - loss: 0.2820 - accuracy: 0.89 - ETA: 3s - loss: 0.2833 - accuracy: 0.89 - ETA: 3s - loss: 0.2838 - accuracy: 0.89 - ETA: 3s - loss: 0.2832 - accuracy: 0.89 - ETA: 3s - loss: 0.2836 - accuracy: 0.89 - ETA: 3s - loss: 0.2831 - accuracy: 0.89 - ETA: 3s - loss: 0.2820 - accuracy: 0.89 - ETA: 3s - loss: 0.2807 - accuracy: 0.89 - ETA: 3s - loss: 0.2814 - accuracy: 0.89 - ETA: 3s - loss: 0.2820 - accuracy: 0.89 - ETA: 3s - loss: 0.2817 - accuracy: 0.89 - ETA: 2s - loss: 0.2808 - accuracy: 0.89 - ETA: 2s - loss: 0.2812 - accuracy: 0.89 - ETA: 2s - loss: 0.2817 - accuracy: 0.89 - ETA: 2s - loss: 0.2813 - accuracy: 0.89 - ETA: 2s - loss: 0.2819 - accuracy: 0.89 - ETA: 2s - loss: 0.2815 - accuracy: 0.89 - ETA: 2s - loss: 0.2810 - accuracy: 0.89 - ETA: 2s - loss: 0.2813 - accuracy: 0.89 - ETA: 2s - loss: 0.2817 - accuracy: 0.89 - ETA: 2s - loss: 0.2820 - accuracy: 0.89 - ETA: 2s - loss: 0.2818 - accuracy: 0.89 - ETA: 2s - loss: 0.2819 - accuracy: 0.89 - ETA: 2s - loss: 0.2818 - accuracy: 0.89 - ETA: 2s - loss: 0.2814 - accuracy: 0.89 - ETA: 2s - loss: 0.2817 - accuracy: 0.89 - ETA: 2s - loss: 0.2817 - accuracy: 0.89 - ETA: 2s - loss: 0.2813 - accuracy: 0.89 - ETA: 2s - loss: 0.2815 - accuracy: 0.89 - ETA: 2s - loss: 0.2810 - accuracy: 0.89 - ETA: 1s - loss: 0.2810 - accuracy: 0.89 - ETA: 1s - loss: 0.2809 - accuracy: 0.89 - ETA: 1s - loss: 0.2807 - accuracy: 0.89 - ETA: 1s - loss: 0.2808 - accuracy: 0.89 - ETA: 1s - loss: 0.2811 - accuracy: 0.89 - ETA: 1s - loss: 0.2814 - accuracy: 0.89 - ETA: 1s - loss: 0.2815 - accuracy: 0.89 - ETA: 1s - loss: 0.2819 - accuracy: 0.89 - ETA: 1s - loss: 0.2816 - accuracy: 0.89 - ETA: 1s - loss: 0.2812 - accuracy: 0.89 - ETA: 1s - loss: 0.2818 - accuracy: 0.89 - ETA: 1s - loss: 0.2817 - accuracy: 0.89 - ETA: 1s - loss: 0.2814 - accuracy: 0.89 - ETA: 1s - loss: 0.2816 - accuracy: 0.89 - ETA: 1s - loss: 0.2811 - accuracy: 0.89 - ETA: 1s - loss: 0.2810 - accuracy: 0.89 - ETA: 1s - loss: 0.2810 - accuracy: 0.89 - ETA: 1s - loss: 0.2809 - accuracy: 0.89 - ETA: 1s - loss: 0.2807 - accuracy: 0.89 - ETA: 0s - loss: 0.2803 - accuracy: 0.89 - ETA: 0s - loss: 0.2803 - accuracy: 0.89 - ETA: 0s - loss: 0.2801 - accuracy: 0.89 - ETA: 0s - loss: 0.2799 - accuracy: 0.89 - ETA: 0s - loss: 0.2799 - accuracy: 0.89 - ETA: 0s - loss: 0.2802 - accuracy: 0.89 - ETA: 0s - loss: 0.2810 - accuracy: 0.89 - ETA: 0s - loss: 0.2811 - accuracy: 0.89 - ETA: 0s - loss: 0.2809 - accuracy: 0.89 - ETA: 0s - loss: 0.2809 - accuracy: 0.89 - ETA: 0s - loss: 0.2807 - accuracy: 0.89 - ETA: 0s - loss: 0.2812 - accuracy: 0.89 - ETA: 0s - loss: 0.2815 - accuracy: 0.89 - ETA: 0s - loss: 0.2815 - accuracy: 0.89 - ETA: 0s - loss: 0.2811 - accuracy: 0.89 - ETA: 0s - loss: 0.2810 - accuracy: 0.89 - ETA: 0s - loss: 0.2810 - accuracy: 0.89 - ETA: 0s - loss: 0.2807 - accuracy: 0.89 - ETA: 0s - loss: 0.2809 - accuracy: 0.89 - 7s 118us/sample - loss: 0.2805 - accuracy: 0.8962 - val_loss: 0.3364 - val_accuracy: 0.8793\n",
      "Epoch 6/10\n"
     ]
    },
    {
     "name": "stdout",
     "output_type": "stream",
     "text": [
      "60000/60000 [==============================] - ETA: 8s - loss: 0.2078 - accuracy: 0.90 - ETA: 6s - loss: 0.2606 - accuracy: 0.91 - ETA: 6s - loss: 0.2658 - accuracy: 0.89 - ETA: 6s - loss: 0.2619 - accuracy: 0.89 - ETA: 6s - loss: 0.2514 - accuracy: 0.90 - ETA: 6s - loss: 0.2671 - accuracy: 0.89 - ETA: 6s - loss: 0.2639 - accuracy: 0.89 - ETA: 6s - loss: 0.2633 - accuracy: 0.90 - ETA: 6s - loss: 0.2606 - accuracy: 0.90 - ETA: 6s - loss: 0.2558 - accuracy: 0.90 - ETA: 6s - loss: 0.2532 - accuracy: 0.90 - ETA: 6s - loss: 0.2551 - accuracy: 0.90 - ETA: 5s - loss: 0.2562 - accuracy: 0.90 - ETA: 5s - loss: 0.2573 - accuracy: 0.90 - ETA: 5s - loss: 0.2576 - accuracy: 0.90 - ETA: 5s - loss: 0.2573 - accuracy: 0.90 - ETA: 5s - loss: 0.2565 - accuracy: 0.90 - ETA: 5s - loss: 0.2542 - accuracy: 0.90 - ETA: 5s - loss: 0.2525 - accuracy: 0.90 - ETA: 5s - loss: 0.2506 - accuracy: 0.90 - ETA: 5s - loss: 0.2518 - accuracy: 0.90 - ETA: 5s - loss: 0.2523 - accuracy: 0.90 - ETA: 5s - loss: 0.2532 - accuracy: 0.90 - ETA: 5s - loss: 0.2557 - accuracy: 0.90 - ETA: 5s - loss: 0.2550 - accuracy: 0.90 - ETA: 5s - loss: 0.2552 - accuracy: 0.90 - ETA: 5s - loss: 0.2535 - accuracy: 0.90 - ETA: 5s - loss: 0.2525 - accuracy: 0.90 - ETA: 5s - loss: 0.2551 - accuracy: 0.90 - ETA: 5s - loss: 0.2585 - accuracy: 0.90 - ETA: 5s - loss: 0.2614 - accuracy: 0.90 - ETA: 4s - loss: 0.2608 - accuracy: 0.90 - ETA: 4s - loss: 0.2614 - accuracy: 0.90 - ETA: 4s - loss: 0.2614 - accuracy: 0.90 - ETA: 4s - loss: 0.2605 - accuracy: 0.90 - ETA: 4s - loss: 0.2602 - accuracy: 0.90 - ETA: 4s - loss: 0.2599 - accuracy: 0.90 - ETA: 4s - loss: 0.2595 - accuracy: 0.90 - ETA: 4s - loss: 0.2599 - accuracy: 0.90 - ETA: 4s - loss: 0.2607 - accuracy: 0.90 - ETA: 4s - loss: 0.2603 - accuracy: 0.90 - ETA: 4s - loss: 0.2597 - accuracy: 0.90 - ETA: 4s - loss: 0.2583 - accuracy: 0.90 - ETA: 4s - loss: 0.2589 - accuracy: 0.90 - ETA: 4s - loss: 0.2584 - accuracy: 0.90 - ETA: 4s - loss: 0.2596 - accuracy: 0.90 - ETA: 4s - loss: 0.2596 - accuracy: 0.90 - ETA: 4s - loss: 0.2592 - accuracy: 0.90 - ETA: 4s - loss: 0.2592 - accuracy: 0.90 - ETA: 4s - loss: 0.2585 - accuracy: 0.90 - ETA: 3s - loss: 0.2578 - accuracy: 0.90 - ETA: 3s - loss: 0.2577 - accuracy: 0.90 - ETA: 3s - loss: 0.2580 - accuracy: 0.90 - ETA: 3s - loss: 0.2585 - accuracy: 0.90 - ETA: 3s - loss: 0.2590 - accuracy: 0.90 - ETA: 3s - loss: 0.2590 - accuracy: 0.90 - ETA: 3s - loss: 0.2583 - accuracy: 0.90 - ETA: 3s - loss: 0.2584 - accuracy: 0.90 - ETA: 3s - loss: 0.2581 - accuracy: 0.90 - ETA: 3s - loss: 0.2582 - accuracy: 0.90 - ETA: 3s - loss: 0.2598 - accuracy: 0.90 - ETA: 3s - loss: 0.2605 - accuracy: 0.90 - ETA: 3s - loss: 0.2608 - accuracy: 0.90 - ETA: 3s - loss: 0.2612 - accuracy: 0.90 - ETA: 3s - loss: 0.2607 - accuracy: 0.90 - ETA: 3s - loss: 0.2611 - accuracy: 0.90 - ETA: 3s - loss: 0.2613 - accuracy: 0.90 - ETA: 3s - loss: 0.2610 - accuracy: 0.90 - ETA: 3s - loss: 0.2612 - accuracy: 0.90 - ETA: 2s - loss: 0.2608 - accuracy: 0.90 - ETA: 2s - loss: 0.2610 - accuracy: 0.90 - ETA: 2s - loss: 0.2604 - accuracy: 0.90 - ETA: 2s - loss: 0.2605 - accuracy: 0.90 - ETA: 2s - loss: 0.2597 - accuracy: 0.90 - ETA: 2s - loss: 0.2603 - accuracy: 0.90 - ETA: 2s - loss: 0.2604 - accuracy: 0.90 - ETA: 2s - loss: 0.2607 - accuracy: 0.90 - ETA: 2s - loss: 0.2608 - accuracy: 0.90 - ETA: 2s - loss: 0.2615 - accuracy: 0.90 - ETA: 2s - loss: 0.2616 - accuracy: 0.90 - ETA: 2s - loss: 0.2612 - accuracy: 0.90 - ETA: 2s - loss: 0.2611 - accuracy: 0.90 - ETA: 2s - loss: 0.2609 - accuracy: 0.90 - ETA: 2s - loss: 0.2612 - accuracy: 0.90 - ETA: 2s - loss: 0.2609 - accuracy: 0.90 - ETA: 2s - loss: 0.2614 - accuracy: 0.90 - ETA: 2s - loss: 0.2618 - accuracy: 0.90 - ETA: 2s - loss: 0.2618 - accuracy: 0.90 - ETA: 2s - loss: 0.2620 - accuracy: 0.90 - ETA: 1s - loss: 0.2622 - accuracy: 0.90 - ETA: 1s - loss: 0.2620 - accuracy: 0.90 - ETA: 1s - loss: 0.2624 - accuracy: 0.90 - ETA: 1s - loss: 0.2622 - accuracy: 0.90 - ETA: 1s - loss: 0.2622 - accuracy: 0.90 - ETA: 1s - loss: 0.2622 - accuracy: 0.90 - ETA: 1s - loss: 0.2622 - accuracy: 0.90 - ETA: 1s - loss: 0.2628 - accuracy: 0.90 - ETA: 1s - loss: 0.2635 - accuracy: 0.90 - ETA: 1s - loss: 0.2637 - accuracy: 0.90 - ETA: 1s - loss: 0.2639 - accuracy: 0.90 - ETA: 1s - loss: 0.2642 - accuracy: 0.90 - ETA: 1s - loss: 0.2641 - accuracy: 0.90 - ETA: 1s - loss: 0.2642 - accuracy: 0.90 - ETA: 1s - loss: 0.2643 - accuracy: 0.90 - ETA: 1s - loss: 0.2640 - accuracy: 0.90 - ETA: 1s - loss: 0.2639 - accuracy: 0.90 - ETA: 1s - loss: 0.2644 - accuracy: 0.90 - ETA: 1s - loss: 0.2648 - accuracy: 0.90 - ETA: 1s - loss: 0.2649 - accuracy: 0.90 - ETA: 1s - loss: 0.2652 - accuracy: 0.90 - ETA: 0s - loss: 0.2650 - accuracy: 0.90 - ETA: 0s - loss: 0.2650 - accuracy: 0.90 - ETA: 0s - loss: 0.2652 - accuracy: 0.90 - ETA: 0s - loss: 0.2649 - accuracy: 0.90 - ETA: 0s - loss: 0.2648 - accuracy: 0.90 - ETA: 0s - loss: 0.2650 - accuracy: 0.90 - ETA: 0s - loss: 0.2646 - accuracy: 0.90 - ETA: 0s - loss: 0.2648 - accuracy: 0.90 - ETA: 0s - loss: 0.2651 - accuracy: 0.90 - ETA: 0s - loss: 0.2656 - accuracy: 0.90 - ETA: 0s - loss: 0.2653 - accuracy: 0.90 - ETA: 0s - loss: 0.2652 - accuracy: 0.90 - ETA: 0s - loss: 0.2650 - accuracy: 0.90 - ETA: 0s - loss: 0.2649 - accuracy: 0.90 - ETA: 0s - loss: 0.2651 - accuracy: 0.90 - ETA: 0s - loss: 0.2651 - accuracy: 0.90 - ETA: 0s - loss: 0.2652 - accuracy: 0.90 - ETA: 0s - loss: 0.2652 - accuracy: 0.90 - ETA: 0s - loss: 0.2655 - accuracy: 0.90 - ETA: 0s - loss: 0.2650 - accuracy: 0.90 - 7s 120us/sample - loss: 0.2650 - accuracy: 0.9013 - val_loss: 0.3531 - val_accuracy: 0.8742\n",
      "Epoch 7/10\n"
     ]
    },
    {
     "name": "stdout",
     "output_type": "stream",
     "text": [
      "60000/60000 [==============================] - ETA: 8s - loss: 0.2741 - accuracy: 0.90 - ETA: 7s - loss: 0.2627 - accuracy: 0.90 - ETA: 6s - loss: 0.2370 - accuracy: 0.91 - ETA: 6s - loss: 0.2359 - accuracy: 0.91 - ETA: 6s - loss: 0.2436 - accuracy: 0.91 - ETA: 6s - loss: 0.2433 - accuracy: 0.91 - ETA: 6s - loss: 0.2514 - accuracy: 0.90 - ETA: 6s - loss: 0.2568 - accuracy: 0.90 - ETA: 6s - loss: 0.2549 - accuracy: 0.90 - ETA: 6s - loss: 0.2521 - accuracy: 0.90 - ETA: 6s - loss: 0.2463 - accuracy: 0.90 - ETA: 6s - loss: 0.2508 - accuracy: 0.90 - ETA: 6s - loss: 0.2464 - accuracy: 0.90 - ETA: 6s - loss: 0.2468 - accuracy: 0.90 - ETA: 6s - loss: 0.2477 - accuracy: 0.90 - ETA: 6s - loss: 0.2460 - accuracy: 0.90 - ETA: 6s - loss: 0.2426 - accuracy: 0.90 - ETA: 5s - loss: 0.2411 - accuracy: 0.90 - ETA: 5s - loss: 0.2408 - accuracy: 0.91 - ETA: 5s - loss: 0.2426 - accuracy: 0.90 - ETA: 5s - loss: 0.2437 - accuracy: 0.90 - ETA: 5s - loss: 0.2441 - accuracy: 0.90 - ETA: 5s - loss: 0.2452 - accuracy: 0.90 - ETA: 5s - loss: 0.2478 - accuracy: 0.90 - ETA: 5s - loss: 0.2475 - accuracy: 0.90 - ETA: 5s - loss: 0.2472 - accuracy: 0.90 - ETA: 5s - loss: 0.2479 - accuracy: 0.90 - ETA: 5s - loss: 0.2495 - accuracy: 0.90 - ETA: 5s - loss: 0.2484 - accuracy: 0.90 - ETA: 5s - loss: 0.2501 - accuracy: 0.90 - ETA: 5s - loss: 0.2508 - accuracy: 0.90 - ETA: 5s - loss: 0.2510 - accuracy: 0.90 - ETA: 5s - loss: 0.2507 - accuracy: 0.90 - ETA: 5s - loss: 0.2503 - accuracy: 0.90 - ETA: 5s - loss: 0.2507 - accuracy: 0.90 - ETA: 5s - loss: 0.2497 - accuracy: 0.90 - ETA: 5s - loss: 0.2505 - accuracy: 0.90 - ETA: 4s - loss: 0.2511 - accuracy: 0.90 - ETA: 4s - loss: 0.2507 - accuracy: 0.90 - ETA: 4s - loss: 0.2516 - accuracy: 0.90 - ETA: 4s - loss: 0.2517 - accuracy: 0.90 - ETA: 4s - loss: 0.2511 - accuracy: 0.90 - ETA: 4s - loss: 0.2499 - accuracy: 0.90 - ETA: 4s - loss: 0.2497 - accuracy: 0.90 - ETA: 4s - loss: 0.2500 - accuracy: 0.90 - ETA: 4s - loss: 0.2501 - accuracy: 0.90 - ETA: 4s - loss: 0.2516 - accuracy: 0.90 - ETA: 4s - loss: 0.2515 - accuracy: 0.90 - ETA: 4s - loss: 0.2519 - accuracy: 0.90 - ETA: 4s - loss: 0.2515 - accuracy: 0.90 - ETA: 4s - loss: 0.2509 - accuracy: 0.90 - ETA: 4s - loss: 0.2507 - accuracy: 0.90 - ETA: 4s - loss: 0.2505 - accuracy: 0.90 - ETA: 4s - loss: 0.2496 - accuracy: 0.90 - ETA: 4s - loss: 0.2497 - accuracy: 0.90 - ETA: 4s - loss: 0.2497 - accuracy: 0.90 - ETA: 3s - loss: 0.2504 - accuracy: 0.90 - ETA: 3s - loss: 0.2521 - accuracy: 0.90 - ETA: 3s - loss: 0.2531 - accuracy: 0.90 - ETA: 3s - loss: 0.2525 - accuracy: 0.90 - ETA: 3s - loss: 0.2517 - accuracy: 0.90 - ETA: 3s - loss: 0.2518 - accuracy: 0.90 - ETA: 3s - loss: 0.2521 - accuracy: 0.90 - ETA: 3s - loss: 0.2527 - accuracy: 0.90 - ETA: 3s - loss: 0.2533 - accuracy: 0.90 - ETA: 3s - loss: 0.2536 - accuracy: 0.90 - ETA: 3s - loss: 0.2534 - accuracy: 0.90 - ETA: 3s - loss: 0.2532 - accuracy: 0.90 - ETA: 3s - loss: 0.2532 - accuracy: 0.90 - ETA: 3s - loss: 0.2524 - accuracy: 0.90 - ETA: 3s - loss: 0.2524 - accuracy: 0.90 - ETA: 3s - loss: 0.2525 - accuracy: 0.90 - ETA: 3s - loss: 0.2528 - accuracy: 0.90 - ETA: 3s - loss: 0.2527 - accuracy: 0.90 - ETA: 3s - loss: 0.2528 - accuracy: 0.90 - ETA: 3s - loss: 0.2527 - accuracy: 0.90 - ETA: 2s - loss: 0.2533 - accuracy: 0.90 - ETA: 2s - loss: 0.2546 - accuracy: 0.90 - ETA: 2s - loss: 0.2545 - accuracy: 0.90 - ETA: 2s - loss: 0.2544 - accuracy: 0.90 - ETA: 2s - loss: 0.2543 - accuracy: 0.90 - ETA: 2s - loss: 0.2542 - accuracy: 0.90 - ETA: 2s - loss: 0.2540 - accuracy: 0.90 - ETA: 2s - loss: 0.2534 - accuracy: 0.90 - ETA: 2s - loss: 0.2533 - accuracy: 0.90 - ETA: 2s - loss: 0.2536 - accuracy: 0.90 - ETA: 2s - loss: 0.2536 - accuracy: 0.90 - ETA: 2s - loss: 0.2540 - accuracy: 0.90 - ETA: 2s - loss: 0.2538 - accuracy: 0.90 - ETA: 2s - loss: 0.2535 - accuracy: 0.90 - ETA: 2s - loss: 0.2537 - accuracy: 0.90 - ETA: 2s - loss: 0.2533 - accuracy: 0.90 - ETA: 2s - loss: 0.2537 - accuracy: 0.90 - ETA: 2s - loss: 0.2537 - accuracy: 0.90 - ETA: 2s - loss: 0.2535 - accuracy: 0.90 - ETA: 1s - loss: 0.2536 - accuracy: 0.90 - ETA: 1s - loss: 0.2530 - accuracy: 0.90 - ETA: 1s - loss: 0.2527 - accuracy: 0.90 - ETA: 1s - loss: 0.2528 - accuracy: 0.90 - ETA: 1s - loss: 0.2527 - accuracy: 0.90 - ETA: 1s - loss: 0.2528 - accuracy: 0.90 - ETA: 1s - loss: 0.2527 - accuracy: 0.90 - ETA: 1s - loss: 0.2529 - accuracy: 0.90 - ETA: 1s - loss: 0.2531 - accuracy: 0.90 - ETA: 1s - loss: 0.2526 - accuracy: 0.90 - ETA: 1s - loss: 0.2526 - accuracy: 0.90 - ETA: 1s - loss: 0.2532 - accuracy: 0.90 - ETA: 1s - loss: 0.2534 - accuracy: 0.90 - ETA: 1s - loss: 0.2535 - accuracy: 0.90 - ETA: 1s - loss: 0.2532 - accuracy: 0.90 - ETA: 1s - loss: 0.2535 - accuracy: 0.90 - ETA: 1s - loss: 0.2537 - accuracy: 0.90 - ETA: 1s - loss: 0.2535 - accuracy: 0.90 - ETA: 1s - loss: 0.2535 - accuracy: 0.90 - ETA: 1s - loss: 0.2539 - accuracy: 0.90 - ETA: 0s - loss: 0.2539 - accuracy: 0.90 - ETA: 0s - loss: 0.2543 - accuracy: 0.90 - ETA: 0s - loss: 0.2537 - accuracy: 0.90 - ETA: 0s - loss: 0.2541 - accuracy: 0.90 - ETA: 0s - loss: 0.2537 - accuracy: 0.90 - ETA: 0s - loss: 0.2537 - accuracy: 0.90 - ETA: 0s - loss: 0.2543 - accuracy: 0.90 - ETA: 0s - loss: 0.2543 - accuracy: 0.90 - ETA: 0s - loss: 0.2545 - accuracy: 0.90 - ETA: 0s - loss: 0.2546 - accuracy: 0.90 - ETA: 0s - loss: 0.2541 - accuracy: 0.90 - ETA: 0s - loss: 0.2545 - accuracy: 0.90 - ETA: 0s - loss: 0.2544 - accuracy: 0.90 - ETA: 0s - loss: 0.2543 - accuracy: 0.90 - ETA: 0s - loss: 0.2542 - accuracy: 0.90 - ETA: 0s - loss: 0.2541 - accuracy: 0.90 - ETA: 0s - loss: 0.2541 - accuracy: 0.90 - ETA: 0s - loss: 0.2537 - accuracy: 0.90 - ETA: 0s - loss: 0.2536 - accuracy: 0.90 - 7s 122us/sample - loss: 0.2533 - accuracy: 0.9057 - val_loss: 0.3554 - val_accuracy: 0.8738\n",
      "Epoch 8/10\n"
     ]
    },
    {
     "name": "stdout",
     "output_type": "stream",
     "text": [
      "60000/60000 [==============================] - ETA: 8s - loss: 0.4108 - accuracy: 0.90 - ETA: 6s - loss: 0.2601 - accuracy: 0.90 - ETA: 6s - loss: 0.2637 - accuracy: 0.90 - ETA: 6s - loss: 0.2433 - accuracy: 0.90 - ETA: 6s - loss: 0.2451 - accuracy: 0.90 - ETA: 6s - loss: 0.2451 - accuracy: 0.90 - ETA: 6s - loss: 0.2385 - accuracy: 0.91 - ETA: 6s - loss: 0.2420 - accuracy: 0.91 - ETA: 6s - loss: 0.2410 - accuracy: 0.91 - ETA: 6s - loss: 0.2437 - accuracy: 0.90 - ETA: 6s - loss: 0.2455 - accuracy: 0.91 - ETA: 6s - loss: 0.2446 - accuracy: 0.91 - ETA: 6s - loss: 0.2488 - accuracy: 0.90 - ETA: 6s - loss: 0.2467 - accuracy: 0.91 - ETA: 6s - loss: 0.2465 - accuracy: 0.90 - ETA: 6s - loss: 0.2440 - accuracy: 0.91 - ETA: 6s - loss: 0.2422 - accuracy: 0.91 - ETA: 5s - loss: 0.2428 - accuracy: 0.91 - ETA: 5s - loss: 0.2462 - accuracy: 0.90 - ETA: 5s - loss: 0.2452 - accuracy: 0.90 - ETA: 5s - loss: 0.2444 - accuracy: 0.90 - ETA: 5s - loss: 0.2416 - accuracy: 0.91 - ETA: 5s - loss: 0.2429 - accuracy: 0.91 - ETA: 5s - loss: 0.2453 - accuracy: 0.90 - ETA: 5s - loss: 0.2432 - accuracy: 0.91 - ETA: 5s - loss: 0.2431 - accuracy: 0.90 - ETA: 5s - loss: 0.2421 - accuracy: 0.91 - ETA: 5s - loss: 0.2411 - accuracy: 0.91 - ETA: 5s - loss: 0.2402 - accuracy: 0.91 - ETA: 5s - loss: 0.2398 - accuracy: 0.91 - ETA: 5s - loss: 0.2399 - accuracy: 0.91 - ETA: 5s - loss: 0.2395 - accuracy: 0.91 - ETA: 5s - loss: 0.2399 - accuracy: 0.91 - ETA: 5s - loss: 0.2400 - accuracy: 0.91 - ETA: 5s - loss: 0.2387 - accuracy: 0.91 - ETA: 5s - loss: 0.2398 - accuracy: 0.91 - ETA: 5s - loss: 0.2410 - accuracy: 0.91 - ETA: 4s - loss: 0.2406 - accuracy: 0.91 - ETA: 4s - loss: 0.2397 - accuracy: 0.91 - ETA: 4s - loss: 0.2400 - accuracy: 0.91 - ETA: 4s - loss: 0.2396 - accuracy: 0.91 - ETA: 4s - loss: 0.2397 - accuracy: 0.91 - ETA: 4s - loss: 0.2397 - accuracy: 0.91 - ETA: 4s - loss: 0.2390 - accuracy: 0.91 - ETA: 4s - loss: 0.2409 - accuracy: 0.91 - ETA: 4s - loss: 0.2405 - accuracy: 0.91 - ETA: 4s - loss: 0.2409 - accuracy: 0.90 - ETA: 4s - loss: 0.2418 - accuracy: 0.90 - ETA: 4s - loss: 0.2425 - accuracy: 0.90 - ETA: 4s - loss: 0.2420 - accuracy: 0.90 - ETA: 4s - loss: 0.2413 - accuracy: 0.90 - ETA: 4s - loss: 0.2402 - accuracy: 0.90 - ETA: 4s - loss: 0.2409 - accuracy: 0.90 - ETA: 4s - loss: 0.2409 - accuracy: 0.91 - ETA: 4s - loss: 0.2409 - accuracy: 0.91 - ETA: 4s - loss: 0.2408 - accuracy: 0.91 - ETA: 3s - loss: 0.2411 - accuracy: 0.91 - ETA: 3s - loss: 0.2411 - accuracy: 0.91 - ETA: 3s - loss: 0.2413 - accuracy: 0.90 - ETA: 3s - loss: 0.2411 - accuracy: 0.90 - ETA: 3s - loss: 0.2413 - accuracy: 0.90 - ETA: 3s - loss: 0.2404 - accuracy: 0.91 - ETA: 3s - loss: 0.2401 - accuracy: 0.91 - ETA: 3s - loss: 0.2398 - accuracy: 0.90 - ETA: 3s - loss: 0.2394 - accuracy: 0.91 - ETA: 3s - loss: 0.2395 - accuracy: 0.91 - ETA: 3s - loss: 0.2409 - accuracy: 0.90 - ETA: 3s - loss: 0.2403 - accuracy: 0.90 - ETA: 3s - loss: 0.2404 - accuracy: 0.90 - ETA: 3s - loss: 0.2405 - accuracy: 0.90 - ETA: 3s - loss: 0.2404 - accuracy: 0.90 - ETA: 3s - loss: 0.2403 - accuracy: 0.90 - ETA: 3s - loss: 0.2408 - accuracy: 0.90 - ETA: 3s - loss: 0.2410 - accuracy: 0.90 - ETA: 3s - loss: 0.2405 - accuracy: 0.90 - ETA: 3s - loss: 0.2409 - accuracy: 0.90 - ETA: 2s - loss: 0.2414 - accuracy: 0.90 - ETA: 2s - loss: 0.2410 - accuracy: 0.90 - ETA: 2s - loss: 0.2410 - accuracy: 0.90 - ETA: 2s - loss: 0.2408 - accuracy: 0.90 - ETA: 2s - loss: 0.2410 - accuracy: 0.91 - ETA: 2s - loss: 0.2412 - accuracy: 0.91 - ETA: 2s - loss: 0.2405 - accuracy: 0.91 - ETA: 2s - loss: 0.2408 - accuracy: 0.91 - ETA: 2s - loss: 0.2405 - accuracy: 0.91 - ETA: 2s - loss: 0.2398 - accuracy: 0.91 - ETA: 2s - loss: 0.2393 - accuracy: 0.91 - ETA: 2s - loss: 0.2391 - accuracy: 0.91 - ETA: 2s - loss: 0.2391 - accuracy: 0.91 - ETA: 2s - loss: 0.2391 - accuracy: 0.91 - ETA: 2s - loss: 0.2390 - accuracy: 0.91 - ETA: 2s - loss: 0.2394 - accuracy: 0.91 - ETA: 2s - loss: 0.2392 - accuracy: 0.91 - ETA: 2s - loss: 0.2392 - accuracy: 0.91 - ETA: 2s - loss: 0.2395 - accuracy: 0.91 - ETA: 1s - loss: 0.2395 - accuracy: 0.91 - ETA: 1s - loss: 0.2389 - accuracy: 0.91 - ETA: 1s - loss: 0.2382 - accuracy: 0.91 - ETA: 1s - loss: 0.2385 - accuracy: 0.91 - ETA: 1s - loss: 0.2387 - accuracy: 0.91 - ETA: 1s - loss: 0.2397 - accuracy: 0.91 - ETA: 1s - loss: 0.2398 - accuracy: 0.90 - ETA: 1s - loss: 0.2398 - accuracy: 0.90 - ETA: 1s - loss: 0.2396 - accuracy: 0.91 - ETA: 1s - loss: 0.2396 - accuracy: 0.91 - ETA: 1s - loss: 0.2399 - accuracy: 0.91 - ETA: 1s - loss: 0.2399 - accuracy: 0.90 - ETA: 1s - loss: 0.2403 - accuracy: 0.90 - ETA: 1s - loss: 0.2402 - accuracy: 0.90 - ETA: 1s - loss: 0.2400 - accuracy: 0.90 - ETA: 1s - loss: 0.2401 - accuracy: 0.90 - ETA: 1s - loss: 0.2404 - accuracy: 0.90 - ETA: 1s - loss: 0.2412 - accuracy: 0.90 - ETA: 1s - loss: 0.2410 - accuracy: 0.90 - ETA: 1s - loss: 0.2411 - accuracy: 0.90 - ETA: 0s - loss: 0.2412 - accuracy: 0.90 - ETA: 0s - loss: 0.2409 - accuracy: 0.90 - ETA: 0s - loss: 0.2410 - accuracy: 0.90 - ETA: 0s - loss: 0.2408 - accuracy: 0.90 - ETA: 0s - loss: 0.2406 - accuracy: 0.90 - ETA: 0s - loss: 0.2401 - accuracy: 0.90 - ETA: 0s - loss: 0.2401 - accuracy: 0.90 - ETA: 0s - loss: 0.2403 - accuracy: 0.90 - ETA: 0s - loss: 0.2398 - accuracy: 0.90 - ETA: 0s - loss: 0.2399 - accuracy: 0.90 - ETA: 0s - loss: 0.2401 - accuracy: 0.90 - ETA: 0s - loss: 0.2399 - accuracy: 0.90 - ETA: 0s - loss: 0.2400 - accuracy: 0.90 - ETA: 0s - loss: 0.2399 - accuracy: 0.90 - ETA: 0s - loss: 0.2401 - accuracy: 0.90 - ETA: 0s - loss: 0.2401 - accuracy: 0.90 - ETA: 0s - loss: 0.2403 - accuracy: 0.90 - ETA: 0s - loss: 0.2405 - accuracy: 0.90 - ETA: 0s - loss: 0.2405 - accuracy: 0.90 - 7s 123us/sample - loss: 0.2403 - accuracy: 0.9095 - val_loss: 0.3293 - val_accuracy: 0.8838\n",
      "Epoch 9/10\n"
     ]
    },
    {
     "name": "stdout",
     "output_type": "stream",
     "text": [
      "60000/60000 [==============================] - ETA: 8s - loss: 0.3374 - accuracy: 0.87 - ETA: 6s - loss: 0.2197 - accuracy: 0.92 - ETA: 6s - loss: 0.2248 - accuracy: 0.91 - ETA: 6s - loss: 0.2244 - accuracy: 0.91 - ETA: 6s - loss: 0.2176 - accuracy: 0.91 - ETA: 6s - loss: 0.2194 - accuracy: 0.91 - ETA: 6s - loss: 0.2266 - accuracy: 0.91 - ETA: 6s - loss: 0.2265 - accuracy: 0.91 - ETA: 6s - loss: 0.2282 - accuracy: 0.91 - ETA: 6s - loss: 0.2341 - accuracy: 0.91 - ETA: 6s - loss: 0.2345 - accuracy: 0.91 - ETA: 6s - loss: 0.2323 - accuracy: 0.91 - ETA: 6s - loss: 0.2346 - accuracy: 0.91 - ETA: 6s - loss: 0.2358 - accuracy: 0.91 - ETA: 6s - loss: 0.2355 - accuracy: 0.91 - ETA: 6s - loss: 0.2348 - accuracy: 0.91 - ETA: 5s - loss: 0.2340 - accuracy: 0.91 - ETA: 5s - loss: 0.2324 - accuracy: 0.91 - ETA: 5s - loss: 0.2332 - accuracy: 0.91 - ETA: 5s - loss: 0.2331 - accuracy: 0.91 - ETA: 5s - loss: 0.2314 - accuracy: 0.91 - ETA: 5s - loss: 0.2319 - accuracy: 0.91 - ETA: 5s - loss: 0.2313 - accuracy: 0.91 - ETA: 5s - loss: 0.2339 - accuracy: 0.91 - ETA: 5s - loss: 0.2332 - accuracy: 0.91 - ETA: 5s - loss: 0.2329 - accuracy: 0.91 - ETA: 5s - loss: 0.2342 - accuracy: 0.91 - ETA: 5s - loss: 0.2329 - accuracy: 0.91 - ETA: 5s - loss: 0.2323 - accuracy: 0.91 - ETA: 5s - loss: 0.2333 - accuracy: 0.91 - ETA: 5s - loss: 0.2335 - accuracy: 0.91 - ETA: 5s - loss: 0.2322 - accuracy: 0.91 - ETA: 5s - loss: 0.2332 - accuracy: 0.91 - ETA: 5s - loss: 0.2336 - accuracy: 0.91 - ETA: 5s - loss: 0.2351 - accuracy: 0.91 - ETA: 5s - loss: 0.2355 - accuracy: 0.91 - ETA: 4s - loss: 0.2347 - accuracy: 0.91 - ETA: 4s - loss: 0.2343 - accuracy: 0.91 - ETA: 4s - loss: 0.2335 - accuracy: 0.91 - ETA: 4s - loss: 0.2340 - accuracy: 0.91 - ETA: 4s - loss: 0.2342 - accuracy: 0.91 - ETA: 4s - loss: 0.2345 - accuracy: 0.91 - ETA: 4s - loss: 0.2359 - accuracy: 0.91 - ETA: 4s - loss: 0.2354 - accuracy: 0.91 - ETA: 4s - loss: 0.2358 - accuracy: 0.91 - ETA: 4s - loss: 0.2356 - accuracy: 0.91 - ETA: 4s - loss: 0.2358 - accuracy: 0.91 - ETA: 4s - loss: 0.2353 - accuracy: 0.91 - ETA: 4s - loss: 0.2343 - accuracy: 0.91 - ETA: 4s - loss: 0.2340 - accuracy: 0.91 - ETA: 4s - loss: 0.2343 - accuracy: 0.91 - ETA: 4s - loss: 0.2336 - accuracy: 0.91 - ETA: 4s - loss: 0.2340 - accuracy: 0.91 - ETA: 4s - loss: 0.2340 - accuracy: 0.91 - ETA: 4s - loss: 0.2332 - accuracy: 0.91 - ETA: 4s - loss: 0.2326 - accuracy: 0.91 - ETA: 3s - loss: 0.2317 - accuracy: 0.91 - ETA: 3s - loss: 0.2311 - accuracy: 0.91 - ETA: 3s - loss: 0.2301 - accuracy: 0.91 - ETA: 3s - loss: 0.2308 - accuracy: 0.91 - ETA: 3s - loss: 0.2310 - accuracy: 0.91 - ETA: 3s - loss: 0.2307 - accuracy: 0.91 - ETA: 3s - loss: 0.2297 - accuracy: 0.91 - ETA: 3s - loss: 0.2288 - accuracy: 0.91 - ETA: 3s - loss: 0.2287 - accuracy: 0.91 - ETA: 3s - loss: 0.2287 - accuracy: 0.91 - ETA: 3s - loss: 0.2293 - accuracy: 0.91 - ETA: 3s - loss: 0.2292 - accuracy: 0.91 - ETA: 3s - loss: 0.2293 - accuracy: 0.91 - ETA: 3s - loss: 0.2292 - accuracy: 0.91 - ETA: 3s - loss: 0.2288 - accuracy: 0.91 - ETA: 3s - loss: 0.2304 - accuracy: 0.91 - ETA: 3s - loss: 0.2300 - accuracy: 0.91 - ETA: 3s - loss: 0.2302 - accuracy: 0.91 - ETA: 3s - loss: 0.2300 - accuracy: 0.91 - ETA: 2s - loss: 0.2306 - accuracy: 0.91 - ETA: 2s - loss: 0.2302 - accuracy: 0.91 - ETA: 2s - loss: 0.2298 - accuracy: 0.91 - ETA: 2s - loss: 0.2296 - accuracy: 0.91 - ETA: 2s - loss: 0.2293 - accuracy: 0.91 - ETA: 2s - loss: 0.2295 - accuracy: 0.91 - ETA: 2s - loss: 0.2298 - accuracy: 0.91 - ETA: 2s - loss: 0.2299 - accuracy: 0.91 - ETA: 2s - loss: 0.2295 - accuracy: 0.91 - ETA: 2s - loss: 0.2301 - accuracy: 0.91 - ETA: 2s - loss: 0.2296 - accuracy: 0.91 - ETA: 2s - loss: 0.2296 - accuracy: 0.91 - ETA: 2s - loss: 0.2295 - accuracy: 0.91 - ETA: 2s - loss: 0.2307 - accuracy: 0.91 - ETA: 2s - loss: 0.2310 - accuracy: 0.91 - ETA: 2s - loss: 0.2308 - accuracy: 0.91 - ETA: 2s - loss: 0.2305 - accuracy: 0.91 - ETA: 2s - loss: 0.2302 - accuracy: 0.91 - ETA: 2s - loss: 0.2299 - accuracy: 0.91 - ETA: 2s - loss: 0.2302 - accuracy: 0.91 - ETA: 1s - loss: 0.2300 - accuracy: 0.91 - ETA: 1s - loss: 0.2295 - accuracy: 0.91 - ETA: 1s - loss: 0.2296 - accuracy: 0.91 - ETA: 1s - loss: 0.2294 - accuracy: 0.91 - ETA: 1s - loss: 0.2299 - accuracy: 0.91 - ETA: 1s - loss: 0.2299 - accuracy: 0.91 - ETA: 1s - loss: 0.2301 - accuracy: 0.91 - ETA: 1s - loss: 0.2303 - accuracy: 0.91 - ETA: 1s - loss: 0.2301 - accuracy: 0.91 - ETA: 1s - loss: 0.2302 - accuracy: 0.91 - ETA: 1s - loss: 0.2300 - accuracy: 0.91 - ETA: 1s - loss: 0.2301 - accuracy: 0.91 - ETA: 1s - loss: 0.2299 - accuracy: 0.91 - ETA: 1s - loss: 0.2299 - accuracy: 0.91 - ETA: 1s - loss: 0.2293 - accuracy: 0.91 - ETA: 1s - loss: 0.2291 - accuracy: 0.91 - ETA: 1s - loss: 0.2290 - accuracy: 0.91 - ETA: 1s - loss: 0.2286 - accuracy: 0.91 - ETA: 1s - loss: 0.2288 - accuracy: 0.91 - ETA: 1s - loss: 0.2287 - accuracy: 0.91 - ETA: 0s - loss: 0.2288 - accuracy: 0.91 - ETA: 0s - loss: 0.2293 - accuracy: 0.91 - ETA: 0s - loss: 0.2299 - accuracy: 0.91 - ETA: 0s - loss: 0.2299 - accuracy: 0.91 - ETA: 0s - loss: 0.2305 - accuracy: 0.91 - ETA: 0s - loss: 0.2307 - accuracy: 0.91 - ETA: 0s - loss: 0.2307 - accuracy: 0.91 - ETA: 0s - loss: 0.2309 - accuracy: 0.91 - ETA: 0s - loss: 0.2313 - accuracy: 0.91 - ETA: 0s - loss: 0.2315 - accuracy: 0.91 - ETA: 0s - loss: 0.2318 - accuracy: 0.91 - ETA: 0s - loss: 0.2319 - accuracy: 0.91 - ETA: 0s - loss: 0.2318 - accuracy: 0.91 - ETA: 0s - loss: 0.2315 - accuracy: 0.91 - ETA: 0s - loss: 0.2317 - accuracy: 0.91 - ETA: 0s - loss: 0.2318 - accuracy: 0.91 - ETA: 0s - loss: 0.2319 - accuracy: 0.91 - ETA: 0s - loss: 0.2317 - accuracy: 0.91 - ETA: 0s - loss: 0.2317 - accuracy: 0.91 - 7s 122us/sample - loss: 0.2317 - accuracy: 0.9136 - val_loss: 0.3216 - val_accuracy: 0.8856\n",
      "Epoch 10/10\n"
     ]
    },
    {
     "name": "stdout",
     "output_type": "stream",
     "text": [
      "60000/60000 [==============================] - ETA: 8s - loss: 0.2118 - accuracy: 0.93 - ETA: 6s - loss: 0.1966 - accuracy: 0.92 - ETA: 6s - loss: 0.2109 - accuracy: 0.92 - ETA: 6s - loss: 0.2131 - accuracy: 0.92 - ETA: 6s - loss: 0.2097 - accuracy: 0.92 - ETA: 6s - loss: 0.2152 - accuracy: 0.92 - ETA: 6s - loss: 0.2140 - accuracy: 0.92 - ETA: 6s - loss: 0.2145 - accuracy: 0.92 - ETA: 6s - loss: 0.2124 - accuracy: 0.92 - ETA: 6s - loss: 0.2055 - accuracy: 0.92 - ETA: 6s - loss: 0.2097 - accuracy: 0.92 - ETA: 6s - loss: 0.2123 - accuracy: 0.92 - ETA: 6s - loss: 0.2108 - accuracy: 0.92 - ETA: 6s - loss: 0.2064 - accuracy: 0.92 - ETA: 6s - loss: 0.2083 - accuracy: 0.92 - ETA: 6s - loss: 0.2076 - accuracy: 0.92 - ETA: 6s - loss: 0.2102 - accuracy: 0.92 - ETA: 5s - loss: 0.2115 - accuracy: 0.92 - ETA: 5s - loss: 0.2094 - accuracy: 0.92 - ETA: 5s - loss: 0.2076 - accuracy: 0.92 - ETA: 5s - loss: 0.2082 - accuracy: 0.92 - ETA: 5s - loss: 0.2088 - accuracy: 0.92 - ETA: 5s - loss: 0.2107 - accuracy: 0.92 - ETA: 5s - loss: 0.2109 - accuracy: 0.91 - ETA: 5s - loss: 0.2109 - accuracy: 0.91 - ETA: 5s - loss: 0.2114 - accuracy: 0.91 - ETA: 5s - loss: 0.2123 - accuracy: 0.91 - ETA: 5s - loss: 0.2133 - accuracy: 0.91 - ETA: 5s - loss: 0.2148 - accuracy: 0.91 - ETA: 5s - loss: 0.2154 - accuracy: 0.91 - ETA: 5s - loss: 0.2136 - accuracy: 0.91 - ETA: 5s - loss: 0.2127 - accuracy: 0.91 - ETA: 5s - loss: 0.2139 - accuracy: 0.91 - ETA: 5s - loss: 0.2143 - accuracy: 0.91 - ETA: 5s - loss: 0.2159 - accuracy: 0.91 - ETA: 5s - loss: 0.2145 - accuracy: 0.91 - ETA: 5s - loss: 0.2146 - accuracy: 0.91 - ETA: 4s - loss: 0.2152 - accuracy: 0.91 - ETA: 4s - loss: 0.2156 - accuracy: 0.91 - ETA: 4s - loss: 0.2153 - accuracy: 0.91 - ETA: 4s - loss: 0.2163 - accuracy: 0.91 - ETA: 4s - loss: 0.2161 - accuracy: 0.91 - ETA: 4s - loss: 0.2161 - accuracy: 0.91 - ETA: 4s - loss: 0.2161 - accuracy: 0.91 - ETA: 4s - loss: 0.2168 - accuracy: 0.91 - ETA: 4s - loss: 0.2177 - accuracy: 0.91 - ETA: 4s - loss: 0.2177 - accuracy: 0.91 - ETA: 4s - loss: 0.2178 - accuracy: 0.91 - ETA: 4s - loss: 0.2186 - accuracy: 0.91 - ETA: 4s - loss: 0.2178 - accuracy: 0.91 - ETA: 4s - loss: 0.2176 - accuracy: 0.91 - ETA: 4s - loss: 0.2185 - accuracy: 0.91 - ETA: 4s - loss: 0.2190 - accuracy: 0.91 - ETA: 4s - loss: 0.2190 - accuracy: 0.91 - ETA: 4s - loss: 0.2197 - accuracy: 0.91 - ETA: 4s - loss: 0.2197 - accuracy: 0.91 - ETA: 3s - loss: 0.2200 - accuracy: 0.91 - ETA: 3s - loss: 0.2195 - accuracy: 0.91 - ETA: 3s - loss: 0.2191 - accuracy: 0.91 - ETA: 3s - loss: 0.2188 - accuracy: 0.91 - ETA: 3s - loss: 0.2193 - accuracy: 0.91 - ETA: 3s - loss: 0.2196 - accuracy: 0.91 - ETA: 3s - loss: 0.2196 - accuracy: 0.91 - ETA: 3s - loss: 0.2189 - accuracy: 0.91 - ETA: 3s - loss: 0.2187 - accuracy: 0.91 - ETA: 3s - loss: 0.2182 - accuracy: 0.91 - ETA: 3s - loss: 0.2183 - accuracy: 0.91 - ETA: 3s - loss: 0.2184 - accuracy: 0.91 - ETA: 3s - loss: 0.2197 - accuracy: 0.91 - ETA: 3s - loss: 0.2197 - accuracy: 0.91 - ETA: 3s - loss: 0.2195 - accuracy: 0.91 - ETA: 3s - loss: 0.2198 - accuracy: 0.91 - ETA: 3s - loss: 0.2196 - accuracy: 0.91 - ETA: 3s - loss: 0.2198 - accuracy: 0.91 - ETA: 3s - loss: 0.2199 - accuracy: 0.91 - ETA: 3s - loss: 0.2204 - accuracy: 0.91 - ETA: 2s - loss: 0.2199 - accuracy: 0.91 - ETA: 2s - loss: 0.2203 - accuracy: 0.91 - ETA: 2s - loss: 0.2210 - accuracy: 0.91 - ETA: 2s - loss: 0.2210 - accuracy: 0.91 - ETA: 2s - loss: 0.2212 - accuracy: 0.91 - ETA: 2s - loss: 0.2212 - accuracy: 0.91 - ETA: 2s - loss: 0.2218 - accuracy: 0.91 - ETA: 2s - loss: 0.2230 - accuracy: 0.91 - ETA: 2s - loss: 0.2227 - accuracy: 0.91 - ETA: 2s - loss: 0.2221 - accuracy: 0.91 - ETA: 2s - loss: 0.2220 - accuracy: 0.91 - ETA: 2s - loss: 0.2223 - accuracy: 0.91 - ETA: 2s - loss: 0.2223 - accuracy: 0.91 - ETA: 2s - loss: 0.2225 - accuracy: 0.91 - ETA: 2s - loss: 0.2227 - accuracy: 0.91 - ETA: 2s - loss: 0.2228 - accuracy: 0.91 - ETA: 2s - loss: 0.2224 - accuracy: 0.91 - ETA: 2s - loss: 0.2224 - accuracy: 0.91 - ETA: 2s - loss: 0.2227 - accuracy: 0.91 - ETA: 1s - loss: 0.2227 - accuracy: 0.91 - ETA: 1s - loss: 0.2225 - accuracy: 0.91 - ETA: 1s - loss: 0.2224 - accuracy: 0.91 - ETA: 1s - loss: 0.2226 - accuracy: 0.91 - ETA: 1s - loss: 0.2225 - accuracy: 0.91 - ETA: 1s - loss: 0.2222 - accuracy: 0.91 - ETA: 1s - loss: 0.2218 - accuracy: 0.91 - ETA: 1s - loss: 0.2218 - accuracy: 0.91 - ETA: 1s - loss: 0.2216 - accuracy: 0.91 - ETA: 1s - loss: 0.2217 - accuracy: 0.91 - ETA: 1s - loss: 0.2215 - accuracy: 0.91 - ETA: 1s - loss: 0.2217 - accuracy: 0.91 - ETA: 1s - loss: 0.2219 - accuracy: 0.91 - ETA: 1s - loss: 0.2219 - accuracy: 0.91 - ETA: 1s - loss: 0.2218 - accuracy: 0.91 - ETA: 1s - loss: 0.2215 - accuracy: 0.91 - ETA: 1s - loss: 0.2212 - accuracy: 0.91 - ETA: 1s - loss: 0.2215 - accuracy: 0.91 - ETA: 1s - loss: 0.2213 - accuracy: 0.91 - ETA: 1s - loss: 0.2213 - accuracy: 0.91 - ETA: 0s - loss: 0.2219 - accuracy: 0.91 - ETA: 0s - loss: 0.2220 - accuracy: 0.91 - ETA: 0s - loss: 0.2218 - accuracy: 0.91 - ETA: 0s - loss: 0.2218 - accuracy: 0.91 - ETA: 0s - loss: 0.2219 - accuracy: 0.91 - ETA: 0s - loss: 0.2218 - accuracy: 0.91 - ETA: 0s - loss: 0.2220 - accuracy: 0.91 - ETA: 0s - loss: 0.2219 - accuracy: 0.91 - ETA: 0s - loss: 0.2220 - accuracy: 0.91 - ETA: 0s - loss: 0.2216 - accuracy: 0.91 - ETA: 0s - loss: 0.2216 - accuracy: 0.91 - ETA: 0s - loss: 0.2212 - accuracy: 0.91 - ETA: 0s - loss: 0.2220 - accuracy: 0.91 - ETA: 0s - loss: 0.2221 - accuracy: 0.91 - ETA: 0s - loss: 0.2221 - accuracy: 0.91 - ETA: 0s - loss: 0.2222 - accuracy: 0.91 - ETA: 0s - loss: 0.2219 - accuracy: 0.91 - ETA: 0s - loss: 0.2222 - accuracy: 0.91 - ETA: 0s - loss: 0.2221 - accuracy: 0.91 - 7s 122us/sample - loss: 0.2217 - accuracy: 0.9158 - val_loss: 0.3251 - val_accuracy: 0.8887\n"
     ]
    },
    {
     "data": {
      "text/plain": [
       "<tensorflow.python.keras.callbacks.History at 0x7ff61233e2e8>"
      ]
     },
     "execution_count": 14,
     "metadata": {},
     "output_type": "execute_result"
    }
   ],
   "source": [
    "model = tuner.hypermodel.build(best_hps)\n",
    "model.fit(\n",
    "    img_train, \n",
    "    label_train,\n",
    "    epochs=10,\n",
    "    validation_data=(img_test, label_test)\n",
    ")"
   ]
  },
  {
   "cell_type": "code",
   "execution_count": 15,
   "metadata": {
    "ExecuteTime": {
     "end_time": "2020-08-25T00:39:41.112527Z",
     "start_time": "2020-08-25T00:39:40.754647Z"
    }
   },
   "outputs": [
    {
     "name": "stdout",
     "output_type": "stream",
     "text": [
      "10000/1 - 0s - loss: 0.2733 - accuracy: 0.8887\n"
     ]
    }
   ],
   "source": [
    "loss, acc = model.evaluate(img_test, label_test, verbose=2)"
   ]
  },
  {
   "cell_type": "code",
   "execution_count": null,
   "metadata": {},
   "outputs": [],
   "source": []
  }
 ],
 "metadata": {
  "kernelspec": {
   "display_name": "Python 3",
   "language": "python",
   "name": "python3"
  },
  "language_info": {
   "codemirror_mode": {
    "name": "ipython",
    "version": 3
   },
   "file_extension": ".py",
   "mimetype": "text/x-python",
   "name": "python",
   "nbconvert_exporter": "python",
   "pygments_lexer": "ipython3",
   "version": "3.7.3"
  },
  "toc": {
   "base_numbering": 1,
   "nav_menu": {},
   "number_sections": true,
   "sideBar": true,
   "skip_h1_title": false,
   "title_cell": "Table of Contents",
   "title_sidebar": "Contents",
   "toc_cell": false,
   "toc_position": {},
   "toc_section_display": true,
   "toc_window_display": false
  }
 },
 "nbformat": 4,
 "nbformat_minor": 2
}
