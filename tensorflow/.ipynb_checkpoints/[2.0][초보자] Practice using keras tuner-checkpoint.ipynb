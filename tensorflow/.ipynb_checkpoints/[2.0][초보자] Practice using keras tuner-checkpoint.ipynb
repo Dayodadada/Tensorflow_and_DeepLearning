{
 "cells": [
  {
   "cell_type": "markdown",
   "metadata": {},
   "source": [
    "# Practice using keras tuner"
   ]
  },
  {
   "cell_type": "markdown",
   "metadata": {},
   "source": [
    "## Import"
   ]
  },
  {
   "cell_type": "code",
   "execution_count": 1,
   "metadata": {
    "ExecuteTime": {
     "end_time": "2020-08-28T14:02:02.100239Z",
     "start_time": "2020-08-28T14:01:57.736707Z"
    }
   },
   "outputs": [],
   "source": [
    "from tensorflow import keras\n",
    "from tensorflow.keras import layers\n",
    "from kerastuner.tuners import RandomSearch"
   ]
  },
  {
   "cell_type": "markdown",
   "metadata": {},
   "source": [
    "## Load dataset"
   ]
  },
  {
   "cell_type": "code",
   "execution_count": 3,
   "metadata": {
    "ExecuteTime": {
     "end_time": "2020-08-28T14:02:35.162531Z",
     "start_time": "2020-08-28T14:02:34.550696Z"
    },
    "scrolled": true
   },
   "outputs": [],
   "source": [
    "(x_train, y_train), (x_test, y_test) = keras.datasets.cifar10.load_data()"
   ]
  },
  {
   "cell_type": "code",
   "execution_count": 4,
   "metadata": {
    "ExecuteTime": {
     "end_time": "2020-08-28T14:02:35.174684Z",
     "start_time": "2020-08-28T14:02:35.164477Z"
    }
   },
   "outputs": [
    {
     "data": {
      "text/plain": [
       "((50000, 32, 32, 3), (50000, 1), (10000, 32, 32, 3), (10000, 1))"
      ]
     },
     "execution_count": 4,
     "metadata": {},
     "output_type": "execute_result"
    }
   ],
   "source": [
    "x_train.shape, y_train.shape, x_test.shape, y_test.shape"
   ]
  },
  {
   "cell_type": "markdown",
   "metadata": {},
   "source": [
    "### preprocessing"
   ]
  },
  {
   "cell_type": "code",
   "execution_count": null,
   "metadata": {},
   "outputs": [],
   "source": [
    "# standardization"
   ]
  },
  {
   "cell_type": "markdown",
   "metadata": {},
   "source": [
    "## Use RandomSearch"
   ]
  },
  {
   "cell_type": "markdown",
   "metadata": {},
   "source": [
    "### Define model\n",
    "- hp.Int(\"units\", min_value=32, max_value=512, step=32)\n",
    "- hp.Choice(\"learning_rate\", values=[1e-2, 1e-3, 1e-4])"
   ]
  },
  {
   "cell_type": "code",
   "execution_count": 6,
   "metadata": {
    "ExecuteTime": {
     "end_time": "2020-08-28T14:03:03.973915Z",
     "start_time": "2020-08-28T14:03:03.968004Z"
    }
   },
   "outputs": [],
   "source": [
    "def build_model(hp):\n",
    "    model = keras.Sequential()\n",
    "    model.add(layers.Flatten(input_shape=(32, 32, 3)))\n",
    "    model.add(layers.Dense(\n",
    "        units=hp.Int(\"units1\", min_value=32, max_value=1024, step=32),\n",
    "        activation=\"relu\"\n",
    "    ))\n",
    "    model.add(layers.Dense(\n",
    "        units=hp.Int(\"units12\", min_value=32, max_value=1024, step=32),\n",
    "        activation=\"relu\"\n",
    "    ))\n",
    "    model.add(layers.Dense(10, activation=\"softmax\"))\n",
    "    \n",
    "    model.compile(\n",
    "        optimizer=keras.optimizers.Adam(hp.Choice(\"learning_rate\", values=[1e-2, 1e-3, 1e-4])),\n",
    "        loss=\"sparse_categorical_crossentropy\",\n",
    "        metrics=[\"accuracy\"]\n",
    "    )\n",
    "    return model"
   ]
  },
  {
   "cell_type": "markdown",
   "metadata": {},
   "source": [
    "### Define tuner\n",
    "Available tuners are RandomSearch and Hyperband."
   ]
  },
  {
   "cell_type": "code",
   "execution_count": 7,
   "metadata": {
    "ExecuteTime": {
     "end_time": "2020-08-28T14:03:29.592232Z",
     "start_time": "2020-08-28T14:03:29.436775Z"
    }
   },
   "outputs": [],
   "source": [
    "tuner = RandomSearch(\n",
    "    build_model,\n",
    "    objective=\"val_accuracy\", #the name of the objective to optimize (whether to minimize or maximize is automatically inferred for built-in metrics),\n",
    "    max_trials=10, #the total number of trials (max_trials) to test\n",
    "    executions_per_trial=3, #the number of models that should be built and fit for each trial (executions_per_trial)\n",
    "    directory=\"save\",\n",
    "    project_name=\"cifar10_model1\"\n",
    ")"
   ]
  },
  {
   "cell_type": "code",
   "execution_count": 8,
   "metadata": {
    "ExecuteTime": {
     "end_time": "2020-08-28T14:03:30.396056Z",
     "start_time": "2020-08-28T14:03:30.375140Z"
    },
    "scrolled": true
   },
   "outputs": [
    {
     "data": {
      "text/html": [
       "<span style=\"color:#4527A0\"><h1 style=\"font-size:18px\">Search space summary</h1></span>"
      ],
      "text/plain": [
       "<IPython.core.display.HTML object>"
      ]
     },
     "metadata": {},
     "output_type": "display_data"
    },
    {
     "data": {
      "text/html": [
       "<span style=\"color:cyan\"> |-Default search space size: 3</span>"
      ],
      "text/plain": [
       "<IPython.core.display.HTML object>"
      ]
     },
     "metadata": {},
     "output_type": "display_data"
    },
    {
     "data": {
      "text/html": [
       "<span style=\"color:#7E57C2\"><h2 style=\"font-size:16px\">units1 (Int)</h2></span>"
      ],
      "text/plain": [
       "<IPython.core.display.HTML object>"
      ]
     },
     "metadata": {},
     "output_type": "display_data"
    },
    {
     "data": {
      "text/html": [
       "<span style=\"color:cyan\"> |-default: None</span>"
      ],
      "text/plain": [
       "<IPython.core.display.HTML object>"
      ]
     },
     "metadata": {},
     "output_type": "display_data"
    },
    {
     "data": {
      "text/html": [
       "<span style=\"color:blue\"> |-max_value: 1024</span>"
      ],
      "text/plain": [
       "<IPython.core.display.HTML object>"
      ]
     },
     "metadata": {},
     "output_type": "display_data"
    },
    {
     "data": {
      "text/html": [
       "<span style=\"color:cyan\"> |-min_value: 32</span>"
      ],
      "text/plain": [
       "<IPython.core.display.HTML object>"
      ]
     },
     "metadata": {},
     "output_type": "display_data"
    },
    {
     "data": {
      "text/html": [
       "<span style=\"color:blue\"> |-sampling: None</span>"
      ],
      "text/plain": [
       "<IPython.core.display.HTML object>"
      ]
     },
     "metadata": {},
     "output_type": "display_data"
    },
    {
     "data": {
      "text/html": [
       "<span style=\"color:cyan\"> |-step: 32</span>"
      ],
      "text/plain": [
       "<IPython.core.display.HTML object>"
      ]
     },
     "metadata": {},
     "output_type": "display_data"
    },
    {
     "data": {
      "text/html": [
       "<span style=\"color:#7E57C2\"><h2 style=\"font-size:16px\">units12 (Int)</h2></span>"
      ],
      "text/plain": [
       "<IPython.core.display.HTML object>"
      ]
     },
     "metadata": {},
     "output_type": "display_data"
    },
    {
     "data": {
      "text/html": [
       "<span style=\"color:cyan\"> |-default: None</span>"
      ],
      "text/plain": [
       "<IPython.core.display.HTML object>"
      ]
     },
     "metadata": {},
     "output_type": "display_data"
    },
    {
     "data": {
      "text/html": [
       "<span style=\"color:blue\"> |-max_value: 1024</span>"
      ],
      "text/plain": [
       "<IPython.core.display.HTML object>"
      ]
     },
     "metadata": {},
     "output_type": "display_data"
    },
    {
     "data": {
      "text/html": [
       "<span style=\"color:cyan\"> |-min_value: 32</span>"
      ],
      "text/plain": [
       "<IPython.core.display.HTML object>"
      ]
     },
     "metadata": {},
     "output_type": "display_data"
    },
    {
     "data": {
      "text/html": [
       "<span style=\"color:blue\"> |-sampling: None</span>"
      ],
      "text/plain": [
       "<IPython.core.display.HTML object>"
      ]
     },
     "metadata": {},
     "output_type": "display_data"
    },
    {
     "data": {
      "text/html": [
       "<span style=\"color:cyan\"> |-step: 32</span>"
      ],
      "text/plain": [
       "<IPython.core.display.HTML object>"
      ]
     },
     "metadata": {},
     "output_type": "display_data"
    },
    {
     "data": {
      "text/html": [
       "<span style=\"color:#7E57C2\"><h2 style=\"font-size:16px\">learning_rate (Choice)</h2></span>"
      ],
      "text/plain": [
       "<IPython.core.display.HTML object>"
      ]
     },
     "metadata": {},
     "output_type": "display_data"
    },
    {
     "data": {
      "text/html": [
       "<span style=\"color:cyan\"> |-default: 0.01</span>"
      ],
      "text/plain": [
       "<IPython.core.display.HTML object>"
      ]
     },
     "metadata": {},
     "output_type": "display_data"
    },
    {
     "data": {
      "text/html": [
       "<span style=\"color:blue\"> |-ordered: True</span>"
      ],
      "text/plain": [
       "<IPython.core.display.HTML object>"
      ]
     },
     "metadata": {},
     "output_type": "display_data"
    },
    {
     "data": {
      "text/html": [
       "<span style=\"color:cyan\"> |-values: [0.01, 0.001, 0.0001]</span>"
      ],
      "text/plain": [
       "<IPython.core.display.HTML object>"
      ]
     },
     "metadata": {},
     "output_type": "display_data"
    }
   ],
   "source": [
    "tuner.search_space_summary()"
   ]
  },
  {
   "cell_type": "markdown",
   "metadata": {},
   "source": [
    "### Train"
   ]
  },
  {
   "cell_type": "code",
   "execution_count": null,
   "metadata": {
    "ExecuteTime": {
     "start_time": "2020-08-28T14:03:31.667Z"
    },
    "scrolled": true
   },
   "outputs": [
    {
     "name": "stdout",
     "output_type": "stream",
     "text": [
      "Train on 50000 samples, validate on 10000 samples\n",
      "Epoch 1/10\n",
      "50000/50000 - 17s - loss: 10.9061 - accuracy: 0.2398 - val_loss: 3.4897 - val_accuracy: 0.2694\n",
      "Epoch 2/10\n",
      "50000/50000 - 17s - loss: 2.6826 - accuracy: 0.2796 - val_loss: 2.3842 - val_accuracy: 0.2608\n",
      "Epoch 3/10\n",
      "50000/50000 - 18s - loss: 2.1023 - accuracy: 0.2999 - val_loss: 2.2079 - val_accuracy: 0.2766\n",
      "Epoch 4/10\n",
      "50000/50000 - 18s - loss: 1.9934 - accuracy: 0.3154 - val_loss: 1.9107 - val_accuracy: 0.3260\n",
      "Epoch 5/10\n",
      "50000/50000 - 18s - loss: 1.9479 - accuracy: 0.3277 - val_loss: 1.9258 - val_accuracy: 0.3270\n",
      "Epoch 6/10\n",
      "50000/50000 - 19s - loss: 1.8927 - accuracy: 0.3446 - val_loss: 1.7854 - val_accuracy: 0.3709\n",
      "Epoch 7/10\n",
      "50000/50000 - 18s - loss: 1.8684 - accuracy: 0.3496 - val_loss: 1.8908 - val_accuracy: 0.3467\n",
      "Epoch 8/10\n",
      "50000/50000 - 21s - loss: 1.8258 - accuracy: 0.3641 - val_loss: 1.8337 - val_accuracy: 0.3572\n",
      "Epoch 9/10\n",
      "50000/50000 - 23s - loss: 1.7975 - accuracy: 0.3721 - val_loss: 1.8678 - val_accuracy: 0.3549\n",
      "Epoch 10/10\n",
      "50000/50000 - 22s - loss: 1.7590 - accuracy: 0.3837 - val_loss: 1.9761 - val_accuracy: 0.3420\n",
      "Train on 50000 samples, validate on 10000 samples\n",
      "Epoch 1/10\n",
      "50000/50000 - 20s - loss: 11.9163 - accuracy: 0.2384 - val_loss: 3.6804 - val_accuracy: 0.2580\n",
      "Epoch 2/10\n",
      "50000/50000 - 21s - loss: 2.5651 - accuracy: 0.2763 - val_loss: 2.2596 - val_accuracy: 0.2826\n",
      "Epoch 3/10\n",
      "50000/50000 - 21s - loss: 2.0540 - accuracy: 0.3041 - val_loss: 1.9951 - val_accuracy: 0.3029\n",
      "Epoch 4/10\n",
      "50000/50000 - 22s - loss: 1.9828 - accuracy: 0.3220 - val_loss: 1.9319 - val_accuracy: 0.3314\n",
      "Epoch 5/10\n",
      "50000/50000 - 23s - loss: 1.9441 - accuracy: 0.3350 - val_loss: 2.1887 - val_accuracy: 0.3125\n",
      "Epoch 6/10\n",
      "50000/50000 - 21s - loss: 1.8988 - accuracy: 0.3400 - val_loss: 1.7843 - val_accuracy: 0.3686\n",
      "Epoch 7/10\n",
      "50000/50000 - 22s - loss: 1.8554 - accuracy: 0.3536 - val_loss: 1.9508 - val_accuracy: 0.3568\n",
      "Epoch 8/10\n",
      "50000/50000 - 23s - loss: 1.8201 - accuracy: 0.3663 - val_loss: 1.9244 - val_accuracy: 0.3405\n",
      "Epoch 9/10\n",
      "50000/50000 - 24s - loss: 1.7902 - accuracy: 0.3723 - val_loss: 1.7482 - val_accuracy: 0.3832\n",
      "Epoch 10/10\n",
      "50000/50000 - 22s - loss: 1.7668 - accuracy: 0.3812 - val_loss: 1.8524 - val_accuracy: 0.3690\n",
      "Train on 50000 samples, validate on 10000 samples\n",
      "Epoch 1/10\n",
      "50000/50000 - 21s - loss: 10.7825 - accuracy: 0.2421 - val_loss: 3.2430 - val_accuracy: 0.2965\n",
      "Epoch 2/10\n",
      "50000/50000 - 21s - loss: 2.6631 - accuracy: 0.2891 - val_loss: 2.3305 - val_accuracy: 0.3074\n",
      "Epoch 3/10\n",
      "50000/50000 - 23s - loss: 2.0719 - accuracy: 0.3163 - val_loss: 2.0623 - val_accuracy: 0.2984\n",
      "Epoch 4/10\n",
      "50000/50000 - 24s - loss: 1.9747 - accuracy: 0.3285 - val_loss: 2.0514 - val_accuracy: 0.2953\n",
      "Epoch 5/10\n",
      "50000/50000 - 23s - loss: 1.9265 - accuracy: 0.3400 - val_loss: 1.9283 - val_accuracy: 0.3271\n",
      "Epoch 6/10\n",
      "50000/50000 - 22s - loss: 1.9305 - accuracy: 0.3372 - val_loss: 1.8982 - val_accuracy: 0.3491\n",
      "Epoch 7/10\n",
      "50000/50000 - 22s - loss: 1.8630 - accuracy: 0.3533 - val_loss: 1.8606 - val_accuracy: 0.3529\n",
      "Epoch 8/10\n",
      "50000/50000 - 22s - loss: 1.8258 - accuracy: 0.3645 - val_loss: 1.8373 - val_accuracy: 0.3479\n",
      "Epoch 9/10\n",
      "50000/50000 - 25s - loss: 1.8062 - accuracy: 0.3686 - val_loss: 1.7909 - val_accuracy: 0.3685\n",
      "Epoch 10/10\n",
      "50000/50000 - 27s - loss: 1.7683 - accuracy: 0.3824 - val_loss: 1.8230 - val_accuracy: 0.3542\n"
     ]
    },
    {
     "data": {
      "text/html": [
       "<span style=\"color:#4527A0\"><h1 style=\"font-size:18px\">Trial complete</h1></span>"
      ],
      "text/plain": [
       "<IPython.core.display.HTML object>"
      ]
     },
     "metadata": {},
     "output_type": "display_data"
    },
    {
     "data": {
      "text/html": [
       "<span style=\"color:#4527A0\"><h1 style=\"font-size:18px\">Trial summary</h1></span>"
      ],
      "text/plain": [
       "<IPython.core.display.HTML object>"
      ]
     },
     "metadata": {},
     "output_type": "display_data"
    },
    {
     "data": {
      "text/html": [
       "<span style=\"color:cyan\"> |-Trial ID: 694cbd838df1981afc5e0034459dff4d</span>"
      ],
      "text/plain": [
       "<IPython.core.display.HTML object>"
      ]
     },
     "metadata": {},
     "output_type": "display_data"
    },
    {
     "data": {
      "text/html": [
       "<span style=\"color:cyan\"> |-Score: 0.3741999864578247</span>"
      ],
      "text/plain": [
       "<IPython.core.display.HTML object>"
      ]
     },
     "metadata": {},
     "output_type": "display_data"
    },
    {
     "data": {
      "text/html": [
       "<span style=\"color:cyan\"> |-Best step: 0</span>"
      ],
      "text/plain": [
       "<IPython.core.display.HTML object>"
      ]
     },
     "metadata": {},
     "output_type": "display_data"
    },
    {
     "data": {
      "text/html": [
       "<span style=\"color:#7E57C2\"><h2 style=\"font-size:16px\">Hyperparameters:</h2></span>"
      ],
      "text/plain": [
       "<IPython.core.display.HTML object>"
      ]
     },
     "metadata": {},
     "output_type": "display_data"
    },
    {
     "data": {
      "text/html": [
       "<span style=\"color:cyan\"> |-learning_rate: 0.0001</span>"
      ],
      "text/plain": [
       "<IPython.core.display.HTML object>"
      ]
     },
     "metadata": {},
     "output_type": "display_data"
    },
    {
     "data": {
      "text/html": [
       "<span style=\"color:blue\"> |-units1: 544</span>"
      ],
      "text/plain": [
       "<IPython.core.display.HTML object>"
      ]
     },
     "metadata": {},
     "output_type": "display_data"
    },
    {
     "data": {
      "text/html": [
       "<span style=\"color:cyan\"> |-units12: 576</span>"
      ],
      "text/plain": [
       "<IPython.core.display.HTML object>"
      ]
     },
     "metadata": {},
     "output_type": "display_data"
    },
    {
     "name": "stdout",
     "output_type": "stream",
     "text": [
      "Train on 50000 samples, validate on 10000 samples\n",
      "Epoch 1/10\n",
      "50000/50000 - 13s - loss: 8.5243 - accuracy: 0.2160 - val_loss: 2.6735 - val_accuracy: 0.2508\n",
      "Epoch 2/10\n",
      "50000/50000 - 11s - loss: 2.3024 - accuracy: 0.2623 - val_loss: 2.0198 - val_accuracy: 0.2831\n",
      "Epoch 3/10\n",
      "50000/50000 - 11s - loss: 2.0725 - accuracy: 0.2843 - val_loss: 2.0866 - val_accuracy: 0.2823\n",
      "Epoch 4/10\n",
      "50000/50000 - 11s - loss: 2.0164 - accuracy: 0.2985 - val_loss: 2.0532 - val_accuracy: 0.2927\n",
      "Epoch 5/10\n",
      "50000/50000 - 11s - loss: 1.9693 - accuracy: 0.3120 - val_loss: 1.8758 - val_accuracy: 0.3466\n",
      "Epoch 6/10\n",
      "50000/50000 - 12s - loss: 1.9384 - accuracy: 0.3257 - val_loss: 2.0017 - val_accuracy: 0.3034\n",
      "Epoch 7/10\n",
      "50000/50000 - 14s - loss: 1.9230 - accuracy: 0.3290 - val_loss: 1.7868 - val_accuracy: 0.3676\n",
      "Epoch 8/10\n"
     ]
    }
   ],
   "source": [
    "# start the search for the best hyperparameter configuration\n",
    "tuner.search(\n",
    "    x_train, \n",
    "    y_train,\n",
    "    epochs=10,\n",
    "    validation_data=(x_test, y_test),\n",
    "    verbose=2\n",
    ")"
   ]
  },
  {
   "cell_type": "code",
   "execution_count": null,
   "metadata": {
    "ExecuteTime": {
     "start_time": "2020-08-28T14:03:34.840Z"
    }
   },
   "outputs": [],
   "source": [
    "models = tuner.get_best_models(num_models=2)"
   ]
  },
  {
   "cell_type": "code",
   "execution_count": null,
   "metadata": {
    "ExecuteTime": {
     "start_time": "2020-08-28T14:03:35.178Z"
    }
   },
   "outputs": [],
   "source": [
    "tuner.results_summary()"
   ]
  },
  {
   "cell_type": "markdown",
   "metadata": {},
   "source": [
    "## Use RandomSearch and more complicated model"
   ]
  },
  {
   "cell_type": "markdown",
   "metadata": {},
   "source": [
    "## Define model"
   ]
  },
  {
   "cell_type": "code",
   "execution_count": null,
   "metadata": {},
   "outputs": [],
   "source": [
    "def build_model(hp):\n",
    "    model = keras.Sequential()\n",
    "    model.add(layers.Flatten(input_shape=(32, 32, 3)))\n",
    "    for i in range(hp.Int(\"num_layers\", 2, 20)):\n",
    "        model.add(layers.Dense(hp.Int(\"units_\" + str(i), 32, 512, 32), activation=\"relu\"))\n",
    "    model.add(layers.Dense(10, activation=\"softmax\"))\n",
    "    model.compile(\n",
    "        optimizer=keras.optimizers.Adam(learning_rate=hp.Choice(\"learning_rate\", [1e-2, 1e-3, 1e-4])),\n",
    "        loss='sparse_categorical_crossentropy',\n",
    "        metrics=['accuracy']\n",
    "    )\n",
    "    return model"
   ]
  },
  {
   "cell_type": "markdown",
   "metadata": {},
   "source": [
    "### Define tuner"
   ]
  },
  {
   "cell_type": "code",
   "execution_count": null,
   "metadata": {},
   "outputs": [],
   "source": [
    "tuner = RandomSearch(\n",
    "    build_model,\n",
    "    objective=\"val_accuracy\",\n",
    "    max_trials=10,\n",
    "    directory=\"save\",\n",
    "    project_name=\"cifar10_model2\"\n",
    ")"
   ]
  },
  {
   "cell_type": "markdown",
   "metadata": {},
   "source": [
    "### Train"
   ]
  },
  {
   "cell_type": "code",
   "execution_count": null,
   "metadata": {},
   "outputs": [],
   "source": [
    "tuner.search(\n",
    "    x_train,\n",
    "    y_train,\n",
    "    epochs=10,\n",
    "    validation_data=(x_test, y_test),\n",
    "    verbose=2\n",
    ")"
   ]
  },
  {
   "cell_type": "code",
   "execution_count": null,
   "metadata": {},
   "outputs": [],
   "source": []
  },
  {
   "cell_type": "code",
   "execution_count": null,
   "metadata": {},
   "outputs": [],
   "source": []
  },
  {
   "cell_type": "code",
   "execution_count": null,
   "metadata": {},
   "outputs": [],
   "source": []
  },
  {
   "cell_type": "code",
   "execution_count": null,
   "metadata": {},
   "outputs": [],
   "source": []
  },
  {
   "cell_type": "code",
   "execution_count": null,
   "metadata": {},
   "outputs": [],
   "source": []
  },
  {
   "cell_type": "code",
   "execution_count": null,
   "metadata": {},
   "outputs": [],
   "source": []
  },
  {
   "cell_type": "code",
   "execution_count": null,
   "metadata": {},
   "outputs": [],
   "source": []
  },
  {
   "cell_type": "code",
   "execution_count": null,
   "metadata": {},
   "outputs": [],
   "source": []
  },
  {
   "cell_type": "code",
   "execution_count": null,
   "metadata": {},
   "outputs": [],
   "source": []
  },
  {
   "cell_type": "code",
   "execution_count": null,
   "metadata": {},
   "outputs": [],
   "source": []
  },
  {
   "cell_type": "code",
   "execution_count": null,
   "metadata": {},
   "outputs": [],
   "source": []
  },
  {
   "cell_type": "code",
   "execution_count": null,
   "metadata": {},
   "outputs": [],
   "source": []
  },
  {
   "cell_type": "code",
   "execution_count": null,
   "metadata": {},
   "outputs": [],
   "source": []
  },
  {
   "cell_type": "code",
   "execution_count": null,
   "metadata": {},
   "outputs": [],
   "source": []
  },
  {
   "cell_type": "code",
   "execution_count": null,
   "metadata": {},
   "outputs": [],
   "source": []
  },
  {
   "cell_type": "code",
   "execution_count": null,
   "metadata": {},
   "outputs": [],
   "source": []
  },
  {
   "cell_type": "code",
   "execution_count": null,
   "metadata": {},
   "outputs": [],
   "source": []
  },
  {
   "cell_type": "code",
   "execution_count": null,
   "metadata": {},
   "outputs": [],
   "source": []
  },
  {
   "cell_type": "code",
   "execution_count": null,
   "metadata": {},
   "outputs": [],
   "source": []
  }
 ],
 "metadata": {
  "kernelspec": {
   "display_name": "Python 3",
   "language": "python",
   "name": "python3"
  },
  "language_info": {
   "codemirror_mode": {
    "name": "ipython",
    "version": 3
   },
   "file_extension": ".py",
   "mimetype": "text/x-python",
   "name": "python",
   "nbconvert_exporter": "python",
   "pygments_lexer": "ipython3",
   "version": "3.7.3"
  },
  "toc": {
   "base_numbering": 1,
   "nav_menu": {},
   "number_sections": true,
   "sideBar": true,
   "skip_h1_title": false,
   "title_cell": "Table of Contents",
   "title_sidebar": "Contents",
   "toc_cell": false,
   "toc_position": {},
   "toc_section_display": true,
   "toc_window_display": false
  }
 },
 "nbformat": 4,
 "nbformat_minor": 2
}
