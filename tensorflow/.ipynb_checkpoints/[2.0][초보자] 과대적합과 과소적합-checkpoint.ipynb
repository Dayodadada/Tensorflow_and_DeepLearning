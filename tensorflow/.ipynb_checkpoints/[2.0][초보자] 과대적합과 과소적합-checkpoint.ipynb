{
 "cells": [
  {
   "cell_type": "markdown",
   "metadata": {},
   "source": [
    "# 과대적합과 과소적합"
   ]
  },
  {
   "cell_type": "markdown",
   "metadata": {},
   "source": [
    "## Import"
   ]
  },
  {
   "cell_type": "code",
   "execution_count": 1,
   "metadata": {
    "ExecuteTime": {
     "end_time": "2020-08-21T14:04:00.922683Z",
     "start_time": "2020-08-21T14:03:56.759856Z"
    }
   },
   "outputs": [],
   "source": [
    "import tensorflow as tf\n",
    "from tensorflow import keras\n",
    "\n",
    "import numpy as np\n",
    "import matplotlib.pyplot as plt"
   ]
  },
  {
   "cell_type": "markdown",
   "metadata": {},
   "source": [
    "## Load IMDB dataset"
   ]
  },
  {
   "cell_type": "code",
   "execution_count": 3,
   "metadata": {
    "ExecuteTime": {
     "end_time": "2020-08-21T14:04:57.892521Z",
     "start_time": "2020-08-21T14:04:53.625399Z"
    }
   },
   "outputs": [
    {
     "data": {
      "text/plain": [
       "(25000, 25000)"
      ]
     },
     "execution_count": 3,
     "metadata": {},
     "output_type": "execute_result"
    }
   ],
   "source": [
    "NUM_WORDS = 1000\n",
    "(train_data, `train_labels), (test_data, test_labels) = keras.datasets.imdb.load_data(num_words=NUM_WORDS)\n",
    "len(train_data), len(test_data)"
   ]
  },
  {
   "cell_type": "code",
   "execution_count": 9,
   "metadata": {
    "ExecuteTime": {
     "end_time": "2020-08-21T14:07:55.339067Z",
     "start_time": "2020-08-21T14:07:55.333805Z"
    }
   },
   "outputs": [
    {
     "data": {
      "text/plain": [
       "(218,\n",
       " 189,\n",
       " [1,\n",
       "  14,\n",
       "  22,\n",
       "  16,\n",
       "  43,\n",
       "  530,\n",
       "  973,\n",
       "  2,\n",
       "  2,\n",
       "  65,\n",
       "  458,\n",
       "  2,\n",
       "  66,\n",
       "  2,\n",
       "  4,\n",
       "  173,\n",
       "  36,\n",
       "  256,\n",
       "  5,\n",
       "  25,\n",
       "  100,\n",
       "  43,\n",
       "  838,\n",
       "  112,\n",
       "  50,\n",
       "  670,\n",
       "  2,\n",
       "  9,\n",
       "  35,\n",
       "  480,\n",
       "  284,\n",
       "  5,\n",
       "  150,\n",
       "  4,\n",
       "  172,\n",
       "  112,\n",
       "  167,\n",
       "  2,\n",
       "  336,\n",
       "  385,\n",
       "  39,\n",
       "  4,\n",
       "  172,\n",
       "  2,\n",
       "  2,\n",
       "  17,\n",
       "  546,\n",
       "  38,\n",
       "  13,\n",
       "  447,\n",
       "  4,\n",
       "  192,\n",
       "  50,\n",
       "  16,\n",
       "  6,\n",
       "  147,\n",
       "  2,\n",
       "  19,\n",
       "  14,\n",
       "  22,\n",
       "  4,\n",
       "  2,\n",
       "  2,\n",
       "  469,\n",
       "  4,\n",
       "  22,\n",
       "  71,\n",
       "  87,\n",
       "  12,\n",
       "  16,\n",
       "  43,\n",
       "  530,\n",
       "  38,\n",
       "  76,\n",
       "  15,\n",
       "  13,\n",
       "  2,\n",
       "  4,\n",
       "  22,\n",
       "  17,\n",
       "  515,\n",
       "  17,\n",
       "  12,\n",
       "  16,\n",
       "  626,\n",
       "  18,\n",
       "  2,\n",
       "  5,\n",
       "  62,\n",
       "  386,\n",
       "  12,\n",
       "  8,\n",
       "  316,\n",
       "  8,\n",
       "  106,\n",
       "  5,\n",
       "  4,\n",
       "  2,\n",
       "  2,\n",
       "  16,\n",
       "  480,\n",
       "  66,\n",
       "  2,\n",
       "  33,\n",
       "  4,\n",
       "  130,\n",
       "  12,\n",
       "  16,\n",
       "  38,\n",
       "  619,\n",
       "  5,\n",
       "  25,\n",
       "  124,\n",
       "  51,\n",
       "  36,\n",
       "  135,\n",
       "  48,\n",
       "  25,\n",
       "  2,\n",
       "  33,\n",
       "  6,\n",
       "  22,\n",
       "  12,\n",
       "  215,\n",
       "  28,\n",
       "  77,\n",
       "  52,\n",
       "  5,\n",
       "  14,\n",
       "  407,\n",
       "  16,\n",
       "  82,\n",
       "  2,\n",
       "  8,\n",
       "  4,\n",
       "  107,\n",
       "  117,\n",
       "  2,\n",
       "  15,\n",
       "  256,\n",
       "  4,\n",
       "  2,\n",
       "  7,\n",
       "  2,\n",
       "  5,\n",
       "  723,\n",
       "  36,\n",
       "  71,\n",
       "  43,\n",
       "  530,\n",
       "  476,\n",
       "  26,\n",
       "  400,\n",
       "  317,\n",
       "  46,\n",
       "  7,\n",
       "  4,\n",
       "  2,\n",
       "  2,\n",
       "  13,\n",
       "  104,\n",
       "  88,\n",
       "  4,\n",
       "  381,\n",
       "  15,\n",
       "  297,\n",
       "  98,\n",
       "  32,\n",
       "  2,\n",
       "  56,\n",
       "  26,\n",
       "  141,\n",
       "  6,\n",
       "  194,\n",
       "  2,\n",
       "  18,\n",
       "  4,\n",
       "  226,\n",
       "  22,\n",
       "  21,\n",
       "  134,\n",
       "  476,\n",
       "  26,\n",
       "  480,\n",
       "  5,\n",
       "  144,\n",
       "  30,\n",
       "  2,\n",
       "  18,\n",
       "  51,\n",
       "  36,\n",
       "  28,\n",
       "  224,\n",
       "  92,\n",
       "  25,\n",
       "  104,\n",
       "  4,\n",
       "  226,\n",
       "  65,\n",
       "  16,\n",
       "  38,\n",
       "  2,\n",
       "  88,\n",
       "  12,\n",
       "  16,\n",
       "  283,\n",
       "  5,\n",
       "  16,\n",
       "  2,\n",
       "  113,\n",
       "  103,\n",
       "  32,\n",
       "  15,\n",
       "  16,\n",
       "  2,\n",
       "  19,\n",
       "  178,\n",
       "  32])"
      ]
     },
     "execution_count": 9,
     "metadata": {},
     "output_type": "execute_result"
    }
   ],
   "source": [
    "len(train_data[0]), len(train_data[1]), train_data[0]"
   ]
  },
  {
   "cell_type": "code",
   "execution_count": 5,
   "metadata": {
    "ExecuteTime": {
     "end_time": "2020-08-21T14:07:02.358726Z",
     "start_time": "2020-08-21T14:07:02.355035Z"
    }
   },
   "outputs": [],
   "source": [
    "def multi_hot_sequences(sequences, dimension):\n",
    "    # 0으로 채워진 (len(sequences), dimension) 크기의 행렬을 만듭니다\n",
    "    results = np.zeros((len(sequences), dimension))\n",
    "    for i, word_indices in enumerate(sequences):\n",
    "        results[i, word_indices] = 1.0  # results[i]의 특정 인덱스만 1로 설정합니다\n",
    "    return results"
   ]
  },
  {
   "cell_type": "code",
   "execution_count": 10,
   "metadata": {
    "ExecuteTime": {
     "end_time": "2020-08-21T14:08:00.582370Z",
     "start_time": "2020-08-21T14:07:59.486854Z"
    }
   },
   "outputs": [
    {
     "data": {
      "text/plain": [
       "(25000, 25000)"
      ]
     },
     "execution_count": 10,
     "metadata": {},
     "output_type": "execute_result"
    }
   ],
   "source": [
    "train_data = multi_hot_sequences(train_data, dimension=NUM_WORDS)\n",
    "test_data = multi_hot_sequences(test_data, dimension=NUM_WORDS)\n",
    "len(train_data), len(test_data)"
   ]
  },
  {
   "cell_type": "code",
   "execution_count": 13,
   "metadata": {
    "ExecuteTime": {
     "end_time": "2020-08-21T14:08:23.831685Z",
     "start_time": "2020-08-21T14:08:23.820040Z"
    }
   },
   "outputs": [
    {
     "data": {
      "text/plain": [
       "(1000,\n",
       " 1000,\n",
       " array([0., 1., 1., 0., 1., 1., 1., 1., 1., 1., 0., 0., 1., 1., 1., 1., 1.,\n",
       "        1., 1., 1., 0., 1., 1., 0., 0., 1., 1., 0., 1., 0., 1., 0., 1., 1.,\n",
       "        0., 1., 1., 0., 1., 1., 0., 0., 0., 1., 0., 0., 1., 0., 1., 0., 1.,\n",
       "        1., 1., 0., 0., 0., 1., 0., 0., 0., 0., 0., 1., 0., 0., 1., 1., 0.,\n",
       "        0., 0., 0., 1., 0., 0., 0., 0., 1., 1., 0., 0., 0., 0., 1., 0., 0.,\n",
       "        0., 0., 1., 1., 0., 0., 0., 1., 0., 0., 0., 0., 0., 1., 0., 1., 0.,\n",
       "        0., 1., 1., 0., 1., 1., 0., 0., 0., 0., 1., 1., 0., 0., 0., 1., 0.,\n",
       "        0., 0., 0., 0., 0., 1., 0., 0., 0., 0., 0., 1., 0., 0., 0., 1., 1.,\n",
       "        0., 0., 0., 0., 0., 1., 0., 0., 1., 0., 0., 1., 0., 0., 1., 0., 0.,\n",
       "        0., 0., 0., 0., 0., 0., 0., 0., 0., 0., 0., 0., 0., 0., 1., 0., 0.,\n",
       "        0., 0., 1., 1., 0., 0., 0., 0., 1., 0., 0., 0., 0., 0., 0., 0., 0.,\n",
       "        0., 0., 0., 0., 0., 1., 0., 1., 0., 0., 0., 0., 0., 0., 0., 0., 0.,\n",
       "        0., 0., 0., 0., 0., 0., 0., 0., 0., 0., 0., 1., 0., 0., 0., 0., 0.,\n",
       "        0., 0., 0., 1., 0., 1., 0., 0., 0., 0., 0., 0., 0., 0., 0., 0., 0.,\n",
       "        0., 0., 0., 0., 0., 0., 0., 0., 0., 0., 0., 0., 0., 0., 0., 0., 0.,\n",
       "        0., 1., 0., 0., 0., 0., 0., 0., 0., 0., 0., 0., 0., 0., 0., 0., 0.,\n",
       "        0., 0., 0., 0., 0., 0., 0., 0., 0., 0., 0., 1., 1., 0., 0., 0., 0.,\n",
       "        0., 0., 0., 0., 0., 0., 0., 0., 1., 0., 0., 0., 0., 0., 0., 0., 0.,\n",
       "        0., 0., 0., 0., 0., 0., 0., 0., 0., 0., 1., 1., 0., 0., 0., 0., 0.,\n",
       "        0., 0., 0., 0., 0., 0., 0., 0., 0., 0., 0., 0., 0., 1., 0., 0., 0.,\n",
       "        0., 0., 0., 0., 0., 0., 0., 0., 0., 0., 0., 0., 0., 0., 0., 0., 0.,\n",
       "        0., 0., 0., 0., 0., 0., 0., 0., 0., 0., 0., 0., 0., 0., 0., 0., 0.,\n",
       "        0., 0., 0., 0., 0., 0., 0., 1., 0., 0., 0., 1., 1., 0., 0., 0., 0.,\n",
       "        0., 0., 0., 0., 0., 0., 0., 0., 0., 1., 0., 0., 0., 0., 0., 0., 1.,\n",
       "        0., 0., 0., 0., 0., 0., 0., 0., 0., 0., 0., 0., 0., 0., 0., 0., 0.,\n",
       "        0., 0., 0., 0., 0., 0., 0., 0., 0., 0., 0., 0., 0., 0., 0., 0., 0.,\n",
       "        0., 0., 0., 0., 0., 1., 0., 0., 0., 0., 0., 0., 0., 0., 0., 0., 1.,\n",
       "        0., 0., 0., 0., 0., 0., 0., 0., 0., 0., 1., 0., 0., 0., 0., 0., 0.,\n",
       "        1., 0., 0., 0., 1., 0., 0., 0., 0., 0., 0., 0., 0., 0., 0., 0., 0.,\n",
       "        0., 0., 0., 0., 0., 0., 0., 0., 0., 0., 0., 0., 0., 0., 0., 0., 0.,\n",
       "        0., 0., 0., 0., 0., 1., 0., 0., 0., 0., 0., 0., 0., 0., 0., 0., 0.,\n",
       "        0., 0., 0., 1., 0., 0., 0., 0., 0., 0., 0., 0., 0., 0., 0., 0., 0.,\n",
       "        0., 0., 1., 0., 0., 0., 0., 0., 0., 0., 0., 0., 0., 0., 0., 0., 0.,\n",
       "        0., 0., 0., 0., 0., 0., 0., 0., 0., 0., 0., 0., 0., 0., 0., 0., 0.,\n",
       "        0., 0., 0., 0., 0., 0., 0., 0., 0., 0., 0., 0., 0., 0., 0., 0., 0.,\n",
       "        0., 0., 0., 0., 0., 0., 0., 0., 0., 0., 0., 0., 0., 0., 0., 0., 0.,\n",
       "        0., 0., 0., 0., 0., 0., 0., 1., 0., 0., 0., 0., 0., 0., 1., 0., 0.,\n",
       "        0., 0., 0., 0., 0., 0., 0., 0., 0., 0., 0., 0., 0., 0., 0., 0., 0.,\n",
       "        0., 0., 0., 0., 0., 0., 0., 0., 0., 0., 0., 0., 0., 0., 0., 0., 0.,\n",
       "        0., 0., 0., 0., 0., 0., 0., 1., 0., 0., 0., 0., 0., 0., 0., 0., 0.,\n",
       "        0., 0., 0., 0., 0., 0., 0., 0., 0., 0., 0., 0., 0., 0., 0., 0., 0.,\n",
       "        0., 0., 0., 0., 0., 0., 0., 0., 0., 0., 0., 0., 0., 0., 0., 0., 0.,\n",
       "        0., 0., 0., 0., 0., 0., 0., 0., 0., 1., 0., 0., 0., 0., 0., 0., 0.,\n",
       "        0., 0., 0., 0., 0., 0., 0., 0., 0., 0., 0., 0., 0., 0., 0., 0., 0.,\n",
       "        0., 0., 0., 0., 0., 0., 0., 0., 0., 0., 0., 0., 0., 0., 0., 0., 0.,\n",
       "        0., 0., 0., 0., 0., 0., 0., 0., 0., 0., 0., 0., 0., 0., 0., 0., 0.,\n",
       "        0., 0., 0., 0., 0., 0., 0., 0., 0., 0., 0., 0., 0., 0., 0., 0., 0.,\n",
       "        0., 0., 0., 0., 0., 0., 0., 0., 0., 0., 0., 0., 0., 0., 0., 0., 0.,\n",
       "        0., 0., 0., 0., 0., 0., 0., 0., 0., 0., 0., 0., 0., 0., 0., 0., 0.,\n",
       "        0., 0., 0., 0., 0., 1., 0., 0., 0., 0., 0., 0., 0., 0., 0., 0., 0.,\n",
       "        0., 0., 0., 0., 0., 0., 0., 0., 0., 0., 0., 0., 0., 0., 0., 0., 0.,\n",
       "        0., 0., 0., 0., 0., 0., 0., 0., 0., 0., 0., 0., 0., 0., 0., 0., 0.,\n",
       "        0., 0., 0., 0., 0., 0., 0., 0., 0., 0., 0., 0., 0., 0., 0., 0., 0.,\n",
       "        0., 0., 0., 0., 0., 0., 0., 0., 0., 0., 0., 0., 0., 0., 0., 0., 0.,\n",
       "        0., 0., 0., 0., 0., 0., 0., 0., 0., 0., 0., 0., 0., 0., 0., 0., 0.,\n",
       "        0., 0., 0., 0., 0., 0., 0., 0., 0., 0., 0., 0., 0., 0., 0., 0., 0.,\n",
       "        0., 0., 0., 0., 0., 0., 0., 0., 0., 0., 0., 0., 0., 0., 0., 0., 0.,\n",
       "        0., 0., 0., 0., 1., 0., 0., 0., 0., 0., 0., 0., 0., 0., 0., 0., 0.,\n",
       "        0., 0., 0., 0., 0., 0., 0., 0., 0., 0., 0., 0., 0., 0.]))"
      ]
     },
     "execution_count": 13,
     "metadata": {},
     "output_type": "execute_result"
    }
   ],
   "source": [
    "len(train_data[0]), len(train_data[1]), train_data[0]"
   ]
  },
  {
   "cell_type": "code",
   "execution_count": 15,
   "metadata": {
    "ExecuteTime": {
     "end_time": "2020-08-21T14:09:16.045226Z",
     "start_time": "2020-08-21T14:09:15.880157Z"
    }
   },
   "outputs": [
    {
     "data": {
      "text/plain": [
       "[<matplotlib.lines.Line2D at 0x7fe1ed6bb320>]"
      ]
     },
     "execution_count": 15,
     "metadata": {},
     "output_type": "execute_result"
    },
    {
     "data": {
      "image/png": "[encoded data removed]",
      "text/plain": [
       "<Figure size 432x288 with 1 Axes>"
      ]
     },
     "metadata": {
      "needs_background": "light"
     },
     "output_type": "display_data"
    }
   ],
   "source": [
    "plt.plot(train_data[0])"
   ]
  },
  {
   "cell_type": "markdown",
   "metadata": {},
   "source": [
    "## Baseline model"
   ]
  },
  {
   "cell_type": "code",
   "execution_count": 18,
   "metadata": {
    "ExecuteTime": {
     "end_time": "2020-08-21T14:18:57.570159Z",
     "start_time": "2020-08-21T14:18:57.536948Z"
    }
   },
   "outputs": [],
   "source": [
    "baseline_model = keras.Sequential([\n",
    "    keras.layers.Dense(16, activation=\"relu\", input_shape=(NUM_WORDS, )),\n",
    "    keras.layers.Dense(16, activation=\"relu\"),\n",
    "    keras.layers.Dense(1, activation=\"sigmoid\")\n",
    "])"
   ]
  },
  {
   "cell_type": "code",
   "execution_count": 19,
   "metadata": {
    "ExecuteTime": {
     "end_time": "2020-08-21T14:18:57.758218Z",
     "start_time": "2020-08-21T14:18:57.701217Z"
    }
   },
   "outputs": [],
   "source": [
    "baseline_model.compile(\n",
    "    optimizer=\"adam\",\n",
    "    loss=\"binary_crossentropy\",\n",
    "    metrics=[\"accuracy\", \"binary_crossentropy\"]\n",
    ")"
   ]
  },
  {
   "cell_type": "code",
   "execution_count": 20,
   "metadata": {
    "ExecuteTime": {
     "end_time": "2020-08-21T14:19:06.668866Z",
     "start_time": "2020-08-21T14:19:06.664980Z"
    }
   },
   "outputs": [
    {
     "name": "stdout",
     "output_type": "stream",
     "text": [
      "Model: \"sequential_1\"\n",
      "_________________________________________________________________\n",
      "Layer (type)                 Output Shape              Param #   \n",
      "=================================================================\n",
      "dense_3 (Dense)              (None, 16)                16016     \n",
      "_________________________________________________________________\n",
      "dense_4 (Dense)              (None, 16)                272       \n",
      "_________________________________________________________________\n",
      "dense_5 (Dense)              (None, 1)                 17        \n",
      "=================================================================\n",
      "Total params: 16,305\n",
      "Trainable params: 16,305\n",
      "Non-trainable params: 0\n",
      "_________________________________________________________________\n"
     ]
    }
   ],
   "source": [
    "baseline_model.summary()"
   ]
  },
  {
   "cell_type": "code",
   "execution_count": 21,
   "metadata": {
    "ExecuteTime": {
     "end_time": "2020-08-21T14:20:11.594156Z",
     "start_time": "2020-08-21T14:20:03.191285Z"
    },
    "scrolled": true
   },
   "outputs": [
    {
     "name": "stdout",
     "output_type": "stream",
     "text": [
      "Train on 25000 samples, validate on 25000 samples\n",
      "Epoch 1/20\n",
      "25000/25000 - 1s - loss: 0.5814 - accuracy: 0.7168 - binary_crossentropy: 0.5814 - val_loss: 0.4485 - val_accuracy: 0.8187 - val_binary_crossentropy: 0.4485\n",
      "Epoch 2/20\n",
      "25000/25000 - 0s - loss: 0.3775 - accuracy: 0.8476 - binary_crossentropy: 0.3775 - val_loss: 0.3458 - val_accuracy: 0.8539 - val_binary_crossentropy: 0.3458\n",
      "Epoch 3/20\n",
      "25000/25000 - 0s - loss: 0.3241 - accuracy: 0.8654 - binary_crossentropy: 0.3241 - val_loss: 0.3322 - val_accuracy: 0.8595 - val_binary_crossentropy: 0.3322\n",
      "Epoch 4/20\n",
      "25000/25000 - 0s - loss: 0.3082 - accuracy: 0.8729 - binary_crossentropy: 0.3082 - val_loss: 0.3280 - val_accuracy: 0.8603 - val_binary_crossentropy: 0.3280\n",
      "Epoch 5/20\n",
      "25000/25000 - 0s - loss: 0.3007 - accuracy: 0.8760 - binary_crossentropy: 0.3007 - val_loss: 0.3272 - val_accuracy: 0.8602 - val_binary_crossentropy: 0.3272\n",
      "Epoch 6/20\n",
      "25000/25000 - 0s - loss: 0.2955 - accuracy: 0.8794 - binary_crossentropy: 0.2955 - val_loss: 0.3284 - val_accuracy: 0.8599 - val_binary_crossentropy: 0.3284\n",
      "Epoch 7/20\n",
      "25000/25000 - 0s - loss: 0.2931 - accuracy: 0.8785 - binary_crossentropy: 0.2931 - val_loss: 0.3333 - val_accuracy: 0.8592 - val_binary_crossentropy: 0.3333\n",
      "Epoch 8/20\n",
      "25000/25000 - 0s - loss: 0.2880 - accuracy: 0.8822 - binary_crossentropy: 0.2880 - val_loss: 0.3320 - val_accuracy: 0.8598 - val_binary_crossentropy: 0.3320\n",
      "Epoch 9/20\n",
      "25000/25000 - 0s - loss: 0.2810 - accuracy: 0.8844 - binary_crossentropy: 0.2810 - val_loss: 0.3335 - val_accuracy: 0.8575 - val_binary_crossentropy: 0.3335\n",
      "Epoch 10/20\n",
      "25000/25000 - 0s - loss: 0.2746 - accuracy: 0.8879 - binary_crossentropy: 0.2746 - val_loss: 0.3349 - val_accuracy: 0.8563 - val_binary_crossentropy: 0.3349\n",
      "Epoch 11/20\n",
      "25000/25000 - 0s - loss: 0.2685 - accuracy: 0.8906 - binary_crossentropy: 0.2685 - val_loss: 0.3378 - val_accuracy: 0.8571 - val_binary_crossentropy: 0.3378\n",
      "Epoch 12/20\n",
      "25000/25000 - 0s - loss: 0.2584 - accuracy: 0.8950 - binary_crossentropy: 0.2584 - val_loss: 0.3419 - val_accuracy: 0.8564 - val_binary_crossentropy: 0.3419\n",
      "Epoch 13/20\n",
      "25000/25000 - 0s - loss: 0.2496 - accuracy: 0.8994 - binary_crossentropy: 0.2496 - val_loss: 0.3496 - val_accuracy: 0.8548 - val_binary_crossentropy: 0.3496\n",
      "Epoch 14/20\n",
      "25000/25000 - 0s - loss: 0.2409 - accuracy: 0.9026 - binary_crossentropy: 0.2410 - val_loss: 0.3518 - val_accuracy: 0.8526 - val_binary_crossentropy: 0.3518\n",
      "Epoch 15/20\n",
      "25000/25000 - 0s - loss: 0.2306 - accuracy: 0.9085 - binary_crossentropy: 0.2306 - val_loss: 0.3709 - val_accuracy: 0.8472 - val_binary_crossentropy: 0.3709\n",
      "Epoch 16/20\n",
      "25000/25000 - 0s - loss: 0.2231 - accuracy: 0.9120 - binary_crossentropy: 0.2231 - val_loss: 0.3728 - val_accuracy: 0.8471 - val_binary_crossentropy: 0.3728\n",
      "Epoch 17/20\n",
      "25000/25000 - 0s - loss: 0.2108 - accuracy: 0.9180 - binary_crossentropy: 0.2108 - val_loss: 0.3818 - val_accuracy: 0.8461 - val_binary_crossentropy: 0.3818\n",
      "Epoch 18/20\n",
      "25000/25000 - 0s - loss: 0.2015 - accuracy: 0.9224 - binary_crossentropy: 0.2015 - val_loss: 0.3862 - val_accuracy: 0.8432 - val_binary_crossentropy: 0.3862\n",
      "Epoch 19/20\n",
      "25000/25000 - 0s - loss: 0.1931 - accuracy: 0.9270 - binary_crossentropy: 0.1931 - val_loss: 0.3999 - val_accuracy: 0.8432 - val_binary_crossentropy: 0.3999\n",
      "Epoch 20/20\n",
      "25000/25000 - 0s - loss: 0.1853 - accuracy: 0.9295 - binary_crossentropy: 0.1853 - val_loss: 0.4139 - val_accuracy: 0.8403 - val_binary_crossentropy: 0.4139\n"
     ]
    }
   ],
   "source": [
    "baseline_history = baseline_model.fit(\n",
    "    train_data,\n",
    "    train_labels,\n",
    "    epochs=20,\n",
    "    batch_size=512,\n",
    "    validation_data=(test_data, test_labels),\n",
    "    verbose=2\n",
    ")"
   ]
  },
  {
   "cell_type": "markdown",
   "metadata": {},
   "source": [
    "## Small model"
   ]
  },
  {
   "cell_type": "code",
   "execution_count": 23,
   "metadata": {
    "ExecuteTime": {
     "end_time": "2020-08-21T14:31:54.240871Z",
     "start_time": "2020-08-21T14:31:54.203139Z"
    }
   },
   "outputs": [],
   "source": [
    "small_model = keras.Sequential([\n",
    "    keras.layers.Dense(4, activation=\"relu\", input_shape=(NUM_WORDS, )),\n",
    "    keras.layers.Dense(4, activation=\"relu\"),\n",
    "    keras.layers.Dense(1, activation=\"sigmoid\"),\n",
    "])"
   ]
  },
  {
   "cell_type": "code",
   "execution_count": 24,
   "metadata": {
    "ExecuteTime": {
     "end_time": "2020-08-21T14:32:45.058053Z",
     "start_time": "2020-08-21T14:32:45.000231Z"
    }
   },
   "outputs": [],
   "source": [
    "small_model.compile(\n",
    "    optimizer=\"adam\",\n",
    "    loss=\"binary_crossentropy\",\n",
    "    metrics=[\"accuracy\", \"binary_crossentropy\"]\n",
    ")"
   ]
  },
  {
   "cell_type": "code",
   "execution_count": 25,
   "metadata": {
    "ExecuteTime": {
     "end_time": "2020-08-21T14:32:52.006138Z",
     "start_time": "2020-08-21T14:32:52.002514Z"
    },
    "scrolled": true
   },
   "outputs": [
    {
     "name": "stdout",
     "output_type": "stream",
     "text": [
      "Model: \"sequential_2\"\n",
      "_________________________________________________________________\n",
      "Layer (type)                 Output Shape              Param #   \n",
      "=================================================================\n",
      "dense_6 (Dense)              (None, 4)                 4004      \n",
      "_________________________________________________________________\n",
      "dense_7 (Dense)              (None, 4)                 20        \n",
      "_________________________________________________________________\n",
      "dense_8 (Dense)              (None, 1)                 5         \n",
      "=================================================================\n",
      "Total params: 4,029\n",
      "Trainable params: 4,029\n",
      "Non-trainable params: 0\n",
      "_________________________________________________________________\n"
     ]
    }
   ],
   "source": [
    "small_model.summary()"
   ]
  },
  {
   "cell_type": "code",
   "execution_count": 26,
   "metadata": {
    "ExecuteTime": {
     "end_time": "2020-08-21T14:35:04.806727Z",
     "start_time": "2020-08-21T14:34:58.064314Z"
    },
    "scrolled": true
   },
   "outputs": [
    {
     "name": "stdout",
     "output_type": "stream",
     "text": [
      "Train on 25000 samples, validate on 25000 samples\n",
      "Epoch 1/20\n",
      "25000/25000 - 1s - loss: 0.6628 - accuracy: 0.5913 - binary_crossentropy: 0.6628 - val_loss: 0.6183 - val_accuracy: 0.6655 - val_binary_crossentropy: 0.6183\n",
      "Epoch 2/20\n",
      "25000/25000 - 0s - loss: 0.5754 - accuracy: 0.7368 - binary_crossentropy: 0.5754 - val_loss: 0.5447 - val_accuracy: 0.7611 - val_binary_crossentropy: 0.5447\n",
      "Epoch 3/20\n",
      "25000/25000 - 0s - loss: 0.5148 - accuracy: 0.8101 - binary_crossentropy: 0.5148 - val_loss: 0.4993 - val_accuracy: 0.8197 - val_binary_crossentropy: 0.4993\n",
      "Epoch 4/20\n",
      "25000/25000 - 0s - loss: 0.4657 - accuracy: 0.8446 - binary_crossentropy: 0.4657 - val_loss: 0.4006 - val_accuracy: 0.8440 - val_binary_crossentropy: 0.4006\n",
      "Epoch 5/20\n",
      "25000/25000 - 0s - loss: 0.3492 - accuracy: 0.8611 - binary_crossentropy: 0.3492 - val_loss: 0.3406 - val_accuracy: 0.8572 - val_binary_crossentropy: 0.3406\n",
      "Epoch 6/20\n",
      "25000/25000 - 0s - loss: 0.3187 - accuracy: 0.8703 - binary_crossentropy: 0.3187 - val_loss: 0.3307 - val_accuracy: 0.8599 - val_binary_crossentropy: 0.3307\n",
      "Epoch 7/20\n",
      "25000/25000 - 0s - loss: 0.3090 - accuracy: 0.8740 - binary_crossentropy: 0.3090 - val_loss: 0.3287 - val_accuracy: 0.8619 - val_binary_crossentropy: 0.3287\n",
      "Epoch 8/20\n",
      "25000/25000 - 0s - loss: 0.3040 - accuracy: 0.8763 - binary_crossentropy: 0.3040 - val_loss: 0.3272 - val_accuracy: 0.8607 - val_binary_crossentropy: 0.3272\n",
      "Epoch 9/20\n",
      "25000/25000 - 0s - loss: 0.3014 - accuracy: 0.8763 - binary_crossentropy: 0.3014 - val_loss: 0.3285 - val_accuracy: 0.8588 - val_binary_crossentropy: 0.3285\n",
      "Epoch 10/20\n",
      "25000/25000 - 0s - loss: 0.2995 - accuracy: 0.8784 - binary_crossentropy: 0.2995 - val_loss: 0.3271 - val_accuracy: 0.8604 - val_binary_crossentropy: 0.3271\n",
      "Epoch 11/20\n",
      "25000/25000 - 0s - loss: 0.2980 - accuracy: 0.8782 - binary_crossentropy: 0.2980 - val_loss: 0.3285 - val_accuracy: 0.8602 - val_binary_crossentropy: 0.3285\n",
      "Epoch 12/20\n",
      "25000/25000 - 0s - loss: 0.2974 - accuracy: 0.8764 - binary_crossentropy: 0.2974 - val_loss: 0.3384 - val_accuracy: 0.8568 - val_binary_crossentropy: 0.3384\n",
      "Epoch 13/20\n",
      "25000/25000 - 0s - loss: 0.2980 - accuracy: 0.8764 - binary_crossentropy: 0.2980 - val_loss: 0.3303 - val_accuracy: 0.8592 - val_binary_crossentropy: 0.3303\n",
      "Epoch 14/20\n",
      "25000/25000 - 0s - loss: 0.2958 - accuracy: 0.8785 - binary_crossentropy: 0.2958 - val_loss: 0.3292 - val_accuracy: 0.8591 - val_binary_crossentropy: 0.3292\n",
      "Epoch 15/20\n",
      "25000/25000 - 0s - loss: 0.2957 - accuracy: 0.8785 - binary_crossentropy: 0.2957 - val_loss: 0.3295 - val_accuracy: 0.8591 - val_binary_crossentropy: 0.3295\n",
      "Epoch 16/20\n",
      "25000/25000 - 0s - loss: 0.2951 - accuracy: 0.8787 - binary_crossentropy: 0.2951 - val_loss: 0.3313 - val_accuracy: 0.8590 - val_binary_crossentropy: 0.3313\n",
      "Epoch 17/20\n",
      "25000/25000 - 0s - loss: 0.2945 - accuracy: 0.8787 - binary_crossentropy: 0.2945 - val_loss: 0.3296 - val_accuracy: 0.8585 - val_binary_crossentropy: 0.3296\n",
      "Epoch 18/20\n",
      "25000/25000 - 0s - loss: 0.2940 - accuracy: 0.8784 - binary_crossentropy: 0.2940 - val_loss: 0.3293 - val_accuracy: 0.8592 - val_binary_crossentropy: 0.3293\n",
      "Epoch 19/20\n",
      "25000/25000 - 0s - loss: 0.2931 - accuracy: 0.8785 - binary_crossentropy: 0.2931 - val_loss: 0.3294 - val_accuracy: 0.8589 - val_binary_crossentropy: 0.3294\n",
      "Epoch 20/20\n",
      "25000/25000 - 0s - loss: 0.2918 - accuracy: 0.8803 - binary_crossentropy: 0.2918 - val_loss: 0.3296 - val_accuracy: 0.8590 - val_binary_crossentropy: 0.3296\n"
     ]
    }
   ],
   "source": [
    "small_history = small_model.fit(\n",
    "    train_data,\n",
    "    train_labels,\n",
    "    epochs=20,\n",
    "    batch_size=512,\n",
    "    validation_data=(test_data, test_labels),\n",
    "    verbose=2\n",
    ")"
   ]
  },
  {
   "cell_type": "markdown",
   "metadata": {},
   "source": [
    "## big model"
   ]
  },
  {
   "cell_type": "code",
   "execution_count": 27,
   "metadata": {
    "ExecuteTime": {
     "end_time": "2020-08-21T14:35:39.750200Z",
     "start_time": "2020-08-21T14:35:39.711099Z"
    }
   },
   "outputs": [],
   "source": [
    "big_model = keras.Sequential([\n",
    "    keras.layers.Dense(512, activation=\"relu\", input_shape=(NUM_WORDS, )),\n",
    "    keras.layers.Dense(512, activation=\"relu\"),\n",
    "    keras.layers.Dense(1, activation=\"sigmoid\"),\n",
    "])"
   ]
  },
  {
   "cell_type": "code",
   "execution_count": 28,
   "metadata": {
    "ExecuteTime": {
     "end_time": "2020-08-21T14:35:39.980342Z",
     "start_time": "2020-08-21T14:35:39.923269Z"
    }
   },
   "outputs": [],
   "source": [
    "big_model.compile(\n",
    "    optimizer=\"adam\",\n",
    "    loss=\"binary_crossentropy\",\n",
    "    metrics=[\"accuracy\", \"binary_crossentropy\"]\n",
    ")"
   ]
  },
  {
   "cell_type": "code",
   "execution_count": 29,
   "metadata": {
    "ExecuteTime": {
     "end_time": "2020-08-21T14:35:40.152254Z",
     "start_time": "2020-08-21T14:35:40.148432Z"
    },
    "scrolled": true
   },
   "outputs": [
    {
     "name": "stdout",
     "output_type": "stream",
     "text": [
      "Model: \"sequential_3\"\n",
      "_________________________________________________________________\n",
      "Layer (type)                 Output Shape              Param #   \n",
      "=================================================================\n",
      "dense_9 (Dense)              (None, 512)               512512    \n",
      "_________________________________________________________________\n",
      "dense_10 (Dense)             (None, 512)               262656    \n",
      "_________________________________________________________________\n",
      "dense_11 (Dense)             (None, 1)                 513       \n",
      "=================================================================\n",
      "Total params: 775,681\n",
      "Trainable params: 775,681\n",
      "Non-trainable params: 0\n",
      "_________________________________________________________________\n"
     ]
    }
   ],
   "source": [
    "big_model.summary()"
   ]
  },
  {
   "cell_type": "code",
   "execution_count": 30,
   "metadata": {
    "ExecuteTime": {
     "end_time": "2020-08-21T14:37:10.652346Z",
     "start_time": "2020-08-21T14:36:52.574491Z"
    },
    "scrolled": true
   },
   "outputs": [
    {
     "name": "stdout",
     "output_type": "stream",
     "text": [
      "Train on 25000 samples, validate on 25000 samples\n",
      "Epoch 1/20\n",
      "25000/25000 - 1s - loss: 0.4091 - accuracy: 0.8173 - binary_crossentropy: 0.4091 - val_loss: 0.3586 - val_accuracy: 0.8424 - val_binary_crossentropy: 0.3586\n",
      "Epoch 2/20\n",
      "25000/25000 - 1s - loss: 0.2908 - accuracy: 0.8805 - binary_crossentropy: 0.2908 - val_loss: 0.3305 - val_accuracy: 0.8568 - val_binary_crossentropy: 0.3305\n",
      "Epoch 3/20\n",
      "25000/25000 - 1s - loss: 0.2241 - accuracy: 0.9120 - binary_crossentropy: 0.2241 - val_loss: 0.3423 - val_accuracy: 0.8543 - val_binary_crossentropy: 0.3423\n",
      "Epoch 4/20\n",
      "25000/25000 - 1s - loss: 0.1108 - accuracy: 0.9650 - binary_crossentropy: 0.1108 - val_loss: 0.4538 - val_accuracy: 0.8394 - val_binary_crossentropy: 0.4538\n",
      "Epoch 5/20\n",
      "25000/25000 - 1s - loss: 0.0312 - accuracy: 0.9939 - binary_crossentropy: 0.0312 - val_loss: 0.5273 - val_accuracy: 0.8456 - val_binary_crossentropy: 0.5273\n",
      "Epoch 6/20\n",
      "25000/25000 - 1s - loss: 0.0065 - accuracy: 0.9996 - binary_crossentropy: 0.0065 - val_loss: 0.6031 - val_accuracy: 0.8505 - val_binary_crossentropy: 0.6031\n",
      "Epoch 7/20\n",
      "25000/25000 - 1s - loss: 0.0016 - accuracy: 1.0000 - binary_crossentropy: 0.0016 - val_loss: 0.6618 - val_accuracy: 0.8520 - val_binary_crossentropy: 0.6618\n",
      "Epoch 8/20\n",
      "25000/25000 - 1s - loss: 7.3650e-04 - accuracy: 1.0000 - binary_crossentropy: 7.3650e-04 - val_loss: 0.6918 - val_accuracy: 0.8534 - val_binary_crossentropy: 0.6918\n",
      "Epoch 9/20\n",
      "25000/25000 - 1s - loss: 5.0358e-04 - accuracy: 1.0000 - binary_crossentropy: 5.0358e-04 - val_loss: 0.7147 - val_accuracy: 0.8530 - val_binary_crossentropy: 0.7147\n",
      "Epoch 10/20\n",
      "25000/25000 - 1s - loss: 3.8200e-04 - accuracy: 1.0000 - binary_crossentropy: 3.8200e-04 - val_loss: 0.7325 - val_accuracy: 0.8530 - val_binary_crossentropy: 0.7325\n",
      "Epoch 11/20\n",
      "25000/25000 - 1s - loss: 3.0217e-04 - accuracy: 1.0000 - binary_crossentropy: 3.0217e-04 - val_loss: 0.7479 - val_accuracy: 0.8533 - val_binary_crossentropy: 0.7479\n",
      "Epoch 12/20\n",
      "25000/25000 - 1s - loss: 2.4553e-04 - accuracy: 1.0000 - binary_crossentropy: 2.4553e-04 - val_loss: 0.7624 - val_accuracy: 0.8531 - val_binary_crossentropy: 0.7624\n",
      "Epoch 13/20\n",
      "25000/25000 - 1s - loss: 2.0389e-04 - accuracy: 1.0000 - binary_crossentropy: 2.0389e-04 - val_loss: 0.7757 - val_accuracy: 0.8533 - val_binary_crossentropy: 0.7757\n",
      "Epoch 14/20\n",
      "25000/25000 - 1s - loss: 1.7147e-04 - accuracy: 1.0000 - binary_crossentropy: 1.7147e-04 - val_loss: 0.7886 - val_accuracy: 0.8535 - val_binary_crossentropy: 0.7886\n",
      "Epoch 15/20\n",
      "25000/25000 - 1s - loss: 1.4606e-04 - accuracy: 1.0000 - binary_crossentropy: 1.4606e-04 - val_loss: 0.7999 - val_accuracy: 0.8537 - val_binary_crossentropy: 0.7999\n",
      "Epoch 16/20\n",
      "25000/25000 - 1s - loss: 1.2544e-04 - accuracy: 1.0000 - binary_crossentropy: 1.2544e-04 - val_loss: 0.8111 - val_accuracy: 0.8541 - val_binary_crossentropy: 0.8111\n",
      "Epoch 17/20\n",
      "25000/25000 - 1s - loss: 1.0910e-04 - accuracy: 1.0000 - binary_crossentropy: 1.0910e-04 - val_loss: 0.8208 - val_accuracy: 0.8539 - val_binary_crossentropy: 0.8208\n",
      "Epoch 18/20\n",
      "25000/25000 - 1s - loss: 9.5301e-05 - accuracy: 1.0000 - binary_crossentropy: 9.5301e-05 - val_loss: 0.8305 - val_accuracy: 0.8535 - val_binary_crossentropy: 0.8305\n",
      "Epoch 19/20\n",
      "25000/25000 - 1s - loss: 8.4011e-05 - accuracy: 1.0000 - binary_crossentropy: 8.4011e-05 - val_loss: 0.8400 - val_accuracy: 0.8538 - val_binary_crossentropy: 0.8400\n",
      "Epoch 20/20\n",
      "25000/25000 - 1s - loss: 7.4406e-05 - accuracy: 1.0000 - binary_crossentropy: 7.4406e-05 - val_loss: 0.8491 - val_accuracy: 0.8540 - val_binary_crossentropy: 0.8491\n"
     ]
    }
   ],
   "source": [
    "big_history = big_model.fit(\n",
    "    train_data,\n",
    "    train_labels,\n",
    "    epochs=20,\n",
    "    batch_size=512,\n",
    "    validation_data=(test_data, test_labels),\n",
    "    verbose=2\n",
    ")"
   ]
  },
  {
   "cell_type": "markdown",
   "metadata": {},
   "source": [
    "## Visualization"
   ]
  },
  {
   "cell_type": "code",
   "execution_count": 32,
   "metadata": {
    "ExecuteTime": {
     "end_time": "2020-08-21T14:39:05.592692Z",
     "start_time": "2020-08-21T14:39:05.361152Z"
    }
   },
   "outputs": [
    {
     "data": {
      "image/png": "[encoded data removed]",
      "text/plain": [
       "<Figure size 1152x720 with 1 Axes>"
      ]
     },
     "metadata": {
      "needs_background": "light"
     },
     "output_type": "display_data"
    }
   ],
   "source": [
    "def plot_history(histories, key='binary_crossentropy'):\n",
    "    plt.figure(figsize=(16,10))\n",
    "\n",
    "    for name, history in histories:\n",
    "        val = plt.plot(history.epoch, history.history['val_'+key],\n",
    "                   '--', label=name.title()+' Val')\n",
    "        plt.plot(history.epoch, history.history[key], color=val[0].get_color(),\n",
    "             label=name.title()+' Train')\n",
    "\n",
    "    plt.xlabel('Epochs')\n",
    "    plt.ylabel(key.replace('_',' ').title())\n",
    "    plt.legend()\n",
    "\n",
    "    plt.xlim([0,max(history.epoch)])\n",
    "\n",
    "\n",
    "plot_history([('baseline', baseline_history),\n",
    "              ('smaller', small_history),\n",
    "              ('bigger', big_history)])"
   ]
  },
  {
   "cell_type": "markdown",
   "metadata": {},
   "source": [
    "## Add wighted regularization"
   ]
  },
  {
   "cell_type": "code",
   "execution_count": 34,
   "metadata": {
    "ExecuteTime": {
     "end_time": "2020-08-22T09:44:11.680769Z",
     "start_time": "2020-08-22T09:44:11.574541Z"
    }
   },
   "outputs": [],
   "source": [
    "l2_model = keras.Sequential([\n",
    "    keras.layers.Dense(16, kernel_regularizer=keras.regularizers.l2(0.001), activation=\"relu\", input_shape=(NUM_WORDS, )),\n",
    "    keras.layers.Dense(16, kernel_regularizer=keras.regularizers.l2(0.001), activation=\"relu\"),\n",
    "    keras.layers.Dense(1, activation='sigmoid')\n",
    "])"
   ]
  },
  {
   "cell_type": "code",
   "execution_count": 35,
   "metadata": {
    "ExecuteTime": {
     "end_time": "2020-08-22T09:45:59.194004Z",
     "start_time": "2020-08-22T09:45:59.099887Z"
    }
   },
   "outputs": [],
   "source": [
    "l2_model.compile(\n",
    "    optimizer=\"adam\",\n",
    "    loss=\"binary_crossentropy\",\n",
    "    metrics=[\"accuracy\", \"binary_crossentropy\"]\n",
    ")"
   ]
  },
  {
   "cell_type": "code",
   "execution_count": 36,
   "metadata": {
    "ExecuteTime": {
     "end_time": "2020-08-22T09:46:03.127986Z",
     "start_time": "2020-08-22T09:46:03.123329Z"
    }
   },
   "outputs": [
    {
     "name": "stdout",
     "output_type": "stream",
     "text": [
      "Model: \"sequential_4\"\n",
      "_________________________________________________________________\n",
      "Layer (type)                 Output Shape              Param #   \n",
      "=================================================================\n",
      "dense_13 (Dense)             (None, 16)                16016     \n",
      "_________________________________________________________________\n",
      "dense_14 (Dense)             (None, 16)                272       \n",
      "_________________________________________________________________\n",
      "dense_15 (Dense)             (None, 1)                 17        \n",
      "=================================================================\n",
      "Total params: 16,305\n",
      "Trainable params: 16,305\n",
      "Non-trainable params: 0\n",
      "_________________________________________________________________\n"
     ]
    }
   ],
   "source": [
    "l2_model.summary()"
   ]
  },
  {
   "cell_type": "code",
   "execution_count": 37,
   "metadata": {
    "ExecuteTime": {
     "end_time": "2020-08-22T09:46:40.323584Z",
     "start_time": "2020-08-22T09:46:31.706230Z"
    },
    "scrolled": true
   },
   "outputs": [
    {
     "name": "stdout",
     "output_type": "stream",
     "text": [
      "Train on 25000 samples, validate on 25000 samples\n",
      "Epoch 1/20\n",
      "25000/25000 - 1s - loss: 0.6390 - accuracy: 0.7072 - binary_crossentropy: 0.5970 - val_loss: 0.5085 - val_accuracy: 0.8157 - val_binary_crossentropy: 0.4691\n",
      "Epoch 2/20\n",
      "25000/25000 - 0s - loss: 0.4321 - accuracy: 0.8432 - binary_crossentropy: 0.3924 - val_loss: 0.3924 - val_accuracy: 0.8544 - val_binary_crossentropy: 0.3528\n",
      "Epoch 3/20\n",
      "25000/25000 - 0s - loss: 0.3677 - accuracy: 0.8642 - binary_crossentropy: 0.3287 - val_loss: 0.3756 - val_accuracy: 0.8584 - val_binary_crossentropy: 0.3374\n",
      "Epoch 4/20\n",
      "25000/25000 - 0s - loss: 0.3494 - accuracy: 0.8716 - binary_crossentropy: 0.3120 - val_loss: 0.3654 - val_accuracy: 0.8613 - val_binary_crossentropy: 0.3290\n",
      "Epoch 5/20\n",
      "25000/25000 - 0s - loss: 0.3414 - accuracy: 0.8747 - binary_crossentropy: 0.3058 - val_loss: 0.3620 - val_accuracy: 0.8614 - val_binary_crossentropy: 0.3273\n",
      "Epoch 6/20\n",
      "25000/25000 - 0s - loss: 0.3379 - accuracy: 0.8742 - binary_crossentropy: 0.3038 - val_loss: 0.3616 - val_accuracy: 0.8600 - val_binary_crossentropy: 0.3284\n",
      "Epoch 7/20\n",
      "25000/25000 - 0s - loss: 0.3325 - accuracy: 0.8773 - binary_crossentropy: 0.2997 - val_loss: 0.3591 - val_accuracy: 0.8608 - val_binary_crossentropy: 0.3269\n",
      "Epoch 8/20\n",
      "25000/25000 - 0s - loss: 0.3293 - accuracy: 0.8783 - binary_crossentropy: 0.2976 - val_loss: 0.3613 - val_accuracy: 0.8586 - val_binary_crossentropy: 0.3301\n",
      "Epoch 9/20\n",
      "25000/25000 - 0s - loss: 0.3270 - accuracy: 0.8781 - binary_crossentropy: 0.2960 - val_loss: 0.3570 - val_accuracy: 0.8602 - val_binary_crossentropy: 0.3265\n",
      "Epoch 10/20\n",
      "25000/25000 - 0s - loss: 0.3234 - accuracy: 0.8793 - binary_crossentropy: 0.2931 - val_loss: 0.3593 - val_accuracy: 0.8590 - val_binary_crossentropy: 0.3292\n",
      "Epoch 11/20\n",
      "25000/25000 - 0s - loss: 0.3217 - accuracy: 0.8788 - binary_crossentropy: 0.2918 - val_loss: 0.3565 - val_accuracy: 0.8601 - val_binary_crossentropy: 0.3270\n",
      "Epoch 12/20\n",
      "25000/25000 - 0s - loss: 0.3179 - accuracy: 0.8808 - binary_crossentropy: 0.2885 - val_loss: 0.3606 - val_accuracy: 0.8590 - val_binary_crossentropy: 0.3315\n",
      "Epoch 13/20\n",
      "25000/25000 - 0s - loss: 0.3170 - accuracy: 0.8814 - binary_crossentropy: 0.2881 - val_loss: 0.3591 - val_accuracy: 0.8582 - val_binary_crossentropy: 0.3303\n",
      "Epoch 14/20\n",
      "25000/25000 - 0s - loss: 0.3128 - accuracy: 0.8836 - binary_crossentropy: 0.2840 - val_loss: 0.3582 - val_accuracy: 0.8586 - val_binary_crossentropy: 0.3295\n",
      "Epoch 15/20\n",
      "25000/25000 - 0s - loss: 0.3104 - accuracy: 0.8833 - binary_crossentropy: 0.2816 - val_loss: 0.3573 - val_accuracy: 0.8595 - val_binary_crossentropy: 0.3286\n",
      "Epoch 16/20\n",
      "25000/25000 - 0s - loss: 0.3076 - accuracy: 0.8851 - binary_crossentropy: 0.2788 - val_loss: 0.3579 - val_accuracy: 0.8594 - val_binary_crossentropy: 0.3292\n",
      "Epoch 17/20\n",
      "25000/25000 - 0s - loss: 0.3064 - accuracy: 0.8838 - binary_crossentropy: 0.2777 - val_loss: 0.3701 - val_accuracy: 0.8539 - val_binary_crossentropy: 0.3413\n",
      "Epoch 18/20\n",
      "25000/25000 - 0s - loss: 0.3063 - accuracy: 0.8846 - binary_crossentropy: 0.2774 - val_loss: 0.3655 - val_accuracy: 0.8548 - val_binary_crossentropy: 0.3366\n",
      "Epoch 19/20\n",
      "25000/25000 - 0s - loss: 0.3023 - accuracy: 0.8870 - binary_crossentropy: 0.2731 - val_loss: 0.3602 - val_accuracy: 0.8574 - val_binary_crossentropy: 0.3310\n",
      "Epoch 20/20\n",
      "25000/25000 - 0s - loss: 0.2999 - accuracy: 0.8876 - binary_crossentropy: 0.2706 - val_loss: 0.3619 - val_accuracy: 0.8570 - val_binary_crossentropy: 0.3326\n"
     ]
    }
   ],
   "source": [
    "l2_history = l2_model.fit(\n",
    "    train_data, \n",
    "    train_labels,\n",
    "    epochs=20,\n",
    "    batch_size=512,\n",
    "    validation_data=(test_data, test_labels),\n",
    "    verbose=2\n",
    ")"
   ]
  },
  {
   "cell_type": "code",
   "execution_count": 38,
   "metadata": {
    "ExecuteTime": {
     "end_time": "2020-08-22T09:46:44.810502Z",
     "start_time": "2020-08-22T09:46:44.253340Z"
    }
   },
   "outputs": [
    {
     "data": {
      "image/png": "[encoded data removed]",
      "text/plain": [
       "<Figure size 1152x720 with 1 Axes>"
      ]
     },
     "metadata": {
      "needs_background": "light"
     },
     "output_type": "display_data"
    }
   ],
   "source": [
    "plot_history([('baseline', baseline_history),\n",
    "              ('l2', l2_history)])"
   ]
  },
  {
   "cell_type": "markdown",
   "metadata": {},
   "source": [
    "## Add dropout\n",
    "드롭아웃(dropout)은 신경망에서 가장 효과적이고 널리 사용하는 규제 기법 중 하나입니다. 토론토(Toronto) 대학의 힌튼(Hinton)과 그의 제자들이 개발했습니다. 드롭아웃을 층에 적용하면 훈련하는 동안 층의 출력 특성을 랜덤하게 끕니다(즉, 0으로 만듭니다). 훈련하는 동안 어떤 입력 샘플에 대해 [0.2, 0.5, 1.3, 0.8, 1.1] 벡터를 출력하는 층이 있다고 가정해 보죠. 드롭아웃을 적용하면 이 벡터에서 몇 개의 원소가 랜덤하게 0이 됩니다. 예를 들면, [0, 0.5, 1.3, 0, 1.1]가 됩니다. \"드롭아웃 비율\"은 0이 되는 특성의 비율입니다. 보통 0.2에서 0.5 사이를 사용합니다. 테스트 단계에서는 어떤 유닛도 드롭아웃하지 않습니다. 훈련 단계보다 더 많은 유닛이 활성화되기 때문에 균형을 맞추기 위해 층의 출력 값을 드롭아웃 비율만큼 줄입니다."
   ]
  },
  {
   "cell_type": "code",
   "execution_count": 40,
   "metadata": {
    "ExecuteTime": {
     "end_time": "2020-08-22T09:56:23.782176Z",
     "start_time": "2020-08-22T09:56:23.716890Z"
    }
   },
   "outputs": [],
   "source": [
    "dropout_model = keras.Sequential([\n",
    "    keras.layers.Dense(16, activation='relu', input_shape=(NUM_WORDS,)),\n",
    "    keras.layers.Dropout(0.5),\n",
    "    keras.layers.Dense(16, activation=\"relu\"),\n",
    "    keras.layers.Dropout(0.5),\n",
    "    keras.layers.Dense(1, activation=\"sigmoid\")\n",
    "])"
   ]
  },
  {
   "cell_type": "code",
   "execution_count": 41,
   "metadata": {
    "ExecuteTime": {
     "end_time": "2020-08-22T09:57:19.992799Z",
     "start_time": "2020-08-22T09:57:11.572539Z"
    },
    "scrolled": true
   },
   "outputs": [
    {
     "name": "stdout",
     "output_type": "stream",
     "text": [
      "Train on 25000 samples, validate on 25000 samples\n",
      "Epoch 1/20\n",
      "25000/25000 - 1s - loss: 0.6754 - accuracy: 0.5718 - binary_crossentropy: 0.6754 - val_loss: 0.6112 - val_accuracy: 0.7556 - val_binary_crossentropy: 0.6112\n",
      "Epoch 2/20\n",
      "25000/25000 - 0s - loss: 0.5817 - accuracy: 0.6926 - binary_crossentropy: 0.5817 - val_loss: 0.4669 - val_accuracy: 0.8240 - val_binary_crossentropy: 0.4669\n",
      "Epoch 3/20\n",
      "25000/25000 - 0s - loss: 0.4904 - accuracy: 0.7712 - binary_crossentropy: 0.4904 - val_loss: 0.3872 - val_accuracy: 0.8451 - val_binary_crossentropy: 0.3872\n",
      "Epoch 4/20\n",
      "25000/25000 - 0s - loss: 0.4370 - accuracy: 0.8092 - binary_crossentropy: 0.4370 - val_loss: 0.3505 - val_accuracy: 0.8522 - val_binary_crossentropy: 0.3505\n",
      "Epoch 5/20\n",
      "25000/25000 - 0s - loss: 0.4052 - accuracy: 0.8296 - binary_crossentropy: 0.4052 - val_loss: 0.3326 - val_accuracy: 0.8559 - val_binary_crossentropy: 0.3326\n",
      "Epoch 6/20\n",
      "25000/25000 - 0s - loss: 0.3888 - accuracy: 0.8402 - binary_crossentropy: 0.3888 - val_loss: 0.3300 - val_accuracy: 0.8555 - val_binary_crossentropy: 0.3300\n",
      "Epoch 7/20\n",
      "25000/25000 - 0s - loss: 0.3655 - accuracy: 0.8520 - binary_crossentropy: 0.3655 - val_loss: 0.3231 - val_accuracy: 0.8587 - val_binary_crossentropy: 0.3231\n",
      "Epoch 8/20\n",
      "25000/25000 - 0s - loss: 0.3557 - accuracy: 0.8570 - binary_crossentropy: 0.3557 - val_loss: 0.3222 - val_accuracy: 0.8593 - val_binary_crossentropy: 0.3222\n",
      "Epoch 9/20\n",
      "25000/25000 - 0s - loss: 0.3435 - accuracy: 0.8640 - binary_crossentropy: 0.3435 - val_loss: 0.3232 - val_accuracy: 0.8581 - val_binary_crossentropy: 0.3232\n",
      "Epoch 10/20\n",
      "25000/25000 - 0s - loss: 0.3369 - accuracy: 0.8690 - binary_crossentropy: 0.3369 - val_loss: 0.3224 - val_accuracy: 0.8586 - val_binary_crossentropy: 0.3224\n",
      "Epoch 11/20\n",
      "25000/25000 - 0s - loss: 0.3294 - accuracy: 0.8713 - binary_crossentropy: 0.3294 - val_loss: 0.3248 - val_accuracy: 0.8594 - val_binary_crossentropy: 0.3248\n",
      "Epoch 12/20\n",
      "25000/25000 - 0s - loss: 0.3223 - accuracy: 0.8734 - binary_crossentropy: 0.3223 - val_loss: 0.3262 - val_accuracy: 0.8588 - val_binary_crossentropy: 0.3262\n",
      "Epoch 13/20\n",
      "25000/25000 - 0s - loss: 0.3177 - accuracy: 0.8768 - binary_crossentropy: 0.3177 - val_loss: 0.3280 - val_accuracy: 0.8570 - val_binary_crossentropy: 0.3280\n",
      "Epoch 14/20\n",
      "25000/25000 - 0s - loss: 0.3075 - accuracy: 0.8815 - binary_crossentropy: 0.3075 - val_loss: 0.3299 - val_accuracy: 0.8580 - val_binary_crossentropy: 0.3299\n",
      "Epoch 15/20\n",
      "25000/25000 - 0s - loss: 0.3066 - accuracy: 0.8840 - binary_crossentropy: 0.3066 - val_loss: 0.3298 - val_accuracy: 0.8568 - val_binary_crossentropy: 0.3298\n",
      "Epoch 16/20\n",
      "25000/25000 - 0s - loss: 0.2994 - accuracy: 0.8831 - binary_crossentropy: 0.2994 - val_loss: 0.3331 - val_accuracy: 0.8572 - val_binary_crossentropy: 0.3331\n",
      "Epoch 17/20\n",
      "25000/25000 - 0s - loss: 0.2975 - accuracy: 0.8870 - binary_crossentropy: 0.2975 - val_loss: 0.3383 - val_accuracy: 0.8553 - val_binary_crossentropy: 0.3383\n",
      "Epoch 18/20\n",
      "25000/25000 - 0s - loss: 0.2971 - accuracy: 0.8867 - binary_crossentropy: 0.2971 - val_loss: 0.3382 - val_accuracy: 0.8566 - val_binary_crossentropy: 0.3382\n",
      "Epoch 19/20\n",
      "25000/25000 - 0s - loss: 0.2894 - accuracy: 0.8867 - binary_crossentropy: 0.2894 - val_loss: 0.3382 - val_accuracy: 0.8542 - val_binary_crossentropy: 0.3382\n",
      "Epoch 20/20\n",
      "25000/25000 - 0s - loss: 0.2847 - accuracy: 0.8872 - binary_crossentropy: 0.2847 - val_loss: 0.3384 - val_accuracy: 0.8546 - val_binary_crossentropy: 0.3384\n"
     ]
    }
   ],
   "source": [
    "dropout_model.compile(optimizer='adam',\n",
    "                  loss='binary_crossentropy',\n",
    "                  metrics=['accuracy','binary_crossentropy'])\n",
    "\n",
    "dropout_history = dropout_model.fit(\n",
    "    train_data, \n",
    "    train_labels,\n",
    "    epochs=20,\n",
    "    batch_size=512,\n",
    "    validation_data=(test_data, test_labels),\n",
    "    verbose=2\n",
    ")"
   ]
  },
  {
   "cell_type": "code",
   "execution_count": 42,
   "metadata": {
    "ExecuteTime": {
     "end_time": "2020-08-22T09:57:21.112945Z",
     "start_time": "2020-08-22T09:57:20.899688Z"
    }
   },
   "outputs": [
    {
     "data": {
      "image/png": "[encoded data removed]",
      "text/plain": [
       "<Figure size 1152x720 with 1 Axes>"
      ]
     },
     "metadata": {
      "needs_background": "light"
     },
     "output_type": "display_data"
    }
   ],
   "source": [
    "plot_history([('baseline', baseline_history),\n",
    "              ('dropout', dropout_history)])"
   ]
  },
  {
   "cell_type": "code",
   "execution_count": null,
   "metadata": {},
   "outputs": [],
   "source": []
  }
 ],
 "metadata": {
  "kernelspec": {
   "display_name": "Python 3",
   "language": "python",
   "name": "python3"
  },
  "language_info": {
   "codemirror_mode": {
    "name": "ipython",
    "version": 3
   },
   "file_extension": ".py",
   "mimetype": "text/x-python",
   "name": "python",
   "nbconvert_exporter": "python",
   "pygments_lexer": "ipython3",
   "version": "3.7.3"
  },
  "toc": {
   "base_numbering": 1,
   "nav_menu": {},
   "number_sections": true,
   "sideBar": true,
   "skip_h1_title": false,
   "title_cell": "Table of Contents",
   "title_sidebar": "Contents",
   "toc_cell": false,
   "toc_position": {},
   "toc_section_display": true,
   "toc_window_display": false
  }
 },
 "nbformat": 4,
 "nbformat_minor": 2
}
