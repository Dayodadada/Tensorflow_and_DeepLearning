{
 "cells": [
  {
   "cell_type": "markdown",
   "metadata": {},
   "source": [
    "# Import labraries"
   ]
  },
  {
   "cell_type": "code",
   "execution_count": 19,
   "metadata": {
    "ExecuteTime": {
     "end_time": "2020-08-03T14:16:17.575834Z",
     "start_time": "2020-08-03T14:16:17.150957Z"
    }
   },
   "outputs": [],
   "source": [
    "import math\n",
    "import matplotlib.pyplot as plt\n",
    "import numpy as np\n",
    "import pandas as pd\n",
    "\n",
    "from sklearn.datasets import load_iris"
   ]
  },
  {
   "cell_type": "code",
   "execution_count": 38,
   "metadata": {
    "ExecuteTime": {
     "end_time": "2020-08-04T13:52:13.763996Z",
     "start_time": "2020-08-04T13:52:13.761359Z"
    }
   },
   "outputs": [],
   "source": [
    "import tensorflow.compat.v1 as tf\n",
    "\n",
    "tf.disable_v2_behavior()"
   ]
  },
  {
   "cell_type": "markdown",
   "metadata": {},
   "source": [
    "# Load dataset"
   ]
  },
  {
   "cell_type": "code",
   "execution_count": 4,
   "metadata": {
    "ExecuteTime": {
     "end_time": "2020-08-03T14:14:43.261911Z",
     "start_time": "2020-08-03T14:14:43.256399Z"
    }
   },
   "outputs": [
    {
     "data": {
      "text/plain": [
       "dict_keys(['data', 'target', 'target_names', 'DESCR', 'feature_names', 'filename'])"
      ]
     },
     "execution_count": 4,
     "metadata": {},
     "output_type": "execute_result"
    }
   ],
   "source": [
    "data =load_iris()\n",
    "data.keys()"
   ]
  },
  {
   "cell_type": "code",
   "execution_count": 25,
   "metadata": {
    "ExecuteTime": {
     "end_time": "2020-08-03T14:18:02.578093Z",
     "start_time": "2020-08-03T14:18:02.561987Z"
    }
   },
   "outputs": [
    {
     "name": "stdout",
     "output_type": "stream",
     "text": [
      "(150, 5)\n"
     ]
    },
    {
     "data": {
      "text/html": [
       "<div>\n",
       "<style scoped>\n",
       "    .dataframe tbody tr th:only-of-type {\n",
       "        vertical-align: middle;\n",
       "    }\n",
       "\n",
       "    .dataframe tbody tr th {\n",
       "        vertical-align: top;\n",
       "    }\n",
       "\n",
       "    .dataframe thead th {\n",
       "        text-align: right;\n",
       "    }\n",
       "</style>\n",
       "<table border=\"1\" class=\"dataframe\">\n",
       "  <thead>\n",
       "    <tr style=\"text-align: right;\">\n",
       "      <th></th>\n",
       "      <th>sepal length (cm)</th>\n",
       "      <th>sepal width (cm)</th>\n",
       "      <th>petal length (cm)</th>\n",
       "      <th>petal width (cm)</th>\n",
       "      <th>label</th>\n",
       "    </tr>\n",
       "  </thead>\n",
       "  <tbody>\n",
       "    <tr>\n",
       "      <th>0</th>\n",
       "      <td>5.1</td>\n",
       "      <td>3.5</td>\n",
       "      <td>1.4</td>\n",
       "      <td>0.2</td>\n",
       "      <td>0</td>\n",
       "    </tr>\n",
       "    <tr>\n",
       "      <th>1</th>\n",
       "      <td>4.9</td>\n",
       "      <td>3.0</td>\n",
       "      <td>1.4</td>\n",
       "      <td>0.2</td>\n",
       "      <td>0</td>\n",
       "    </tr>\n",
       "    <tr>\n",
       "      <th>2</th>\n",
       "      <td>4.7</td>\n",
       "      <td>3.2</td>\n",
       "      <td>1.3</td>\n",
       "      <td>0.2</td>\n",
       "      <td>0</td>\n",
       "    </tr>\n",
       "    <tr>\n",
       "      <th>3</th>\n",
       "      <td>4.6</td>\n",
       "      <td>3.1</td>\n",
       "      <td>1.5</td>\n",
       "      <td>0.2</td>\n",
       "      <td>0</td>\n",
       "    </tr>\n",
       "    <tr>\n",
       "      <th>4</th>\n",
       "      <td>5.0</td>\n",
       "      <td>3.6</td>\n",
       "      <td>1.4</td>\n",
       "      <td>0.2</td>\n",
       "      <td>0</td>\n",
       "    </tr>\n",
       "  </tbody>\n",
       "</table>\n",
       "</div>"
      ],
      "text/plain": [
       "   sepal length (cm)  sepal width (cm)  petal length (cm)  petal width (cm)  \\\n",
       "0                5.1               3.5                1.4               0.2   \n",
       "1                4.9               3.0                1.4               0.2   \n",
       "2                4.7               3.2                1.3               0.2   \n",
       "3                4.6               3.1                1.5               0.2   \n",
       "4                5.0               3.6                1.4               0.2   \n",
       "\n",
       "   label  \n",
       "0      0  \n",
       "1      0  \n",
       "2      0  \n",
       "3      0  \n",
       "4      0  "
      ]
     },
     "execution_count": 25,
     "metadata": {},
     "output_type": "execute_result"
    }
   ],
   "source": [
    "df = pd.DataFrame({\n",
    "    data[\"feature_names\"][0]:[i[0] for i in data[\"data\"]],\n",
    "    data[\"feature_names\"][1]:[i[1] for i in data[\"data\"]],\n",
    "    data[\"feature_names\"][2]:[i[2] for i in data[\"data\"]],\n",
    "    data[\"feature_names\"][3]:[i[3] for i in data[\"data\"]],\n",
    "    \"label\":data[\"target\"]\n",
    "})\n",
    "print(df.shape)\n",
    "df.head()"
   ]
  },
  {
   "cell_type": "code",
   "execution_count": 40,
   "metadata": {
    "ExecuteTime": {
     "end_time": "2020-08-04T13:53:47.852351Z",
     "start_time": "2020-08-04T13:53:47.845527Z"
    }
   },
   "outputs": [
    {
     "data": {
      "text/plain": [
       "((150, 4), (150, 1))"
      ]
     },
     "execution_count": 40,
     "metadata": {},
     "output_type": "execute_result"
    }
   ],
   "source": [
    "features = df[['sepal length (cm)', 'sepal width (cm)', 'petal length (cm)', 'petal width (cm)']].values\n",
    "label = df[[\"label\"]].values\n",
    "features.shape, label.shape"
   ]
  },
  {
   "cell_type": "markdown",
   "metadata": {},
   "source": [
    "## visualization"
   ]
  },
  {
   "cell_type": "code",
   "execution_count": 33,
   "metadata": {
    "ExecuteTime": {
     "end_time": "2020-08-03T14:33:02.208833Z",
     "start_time": "2020-08-03T14:33:02.086585Z"
    }
   },
   "outputs": [
    {
     "data": {
      "image/png": "[encoded data removed]",
      "text/plain": [
       "<Figure size 432x288 with 1 Axes>"
      ]
     },
     "metadata": {
      "needs_background": "light"
     },
     "output_type": "display_data"
    }
   ],
   "source": [
    "for t in range(3):\n",
    "    if t == 0:\n",
    "        c='r'\n",
    "        marker='>'\n",
    "    elif t == 1:\n",
    "        c='g'\n",
    "        marker='o'\n",
    "    elif t == 2:\n",
    "        c='b'\n",
    "        marker='x'\n",
    "    plt.scatter(df[df[\"label\"] == t][\"sepal length (cm)\"].values,\n",
    "                df[df[\"label\"] == t][\"sepal width (cm)\"].values,\n",
    "                marker = marker,\n",
    "                c = c)\n",
    "    plt.xlabel(\"sepal length\")\n",
    "    plt.ylabel(\"sepal width\")\n",
    "plt.show()"
   ]
  },
  {
   "cell_type": "code",
   "execution_count": 34,
   "metadata": {
    "ExecuteTime": {
     "end_time": "2020-08-03T14:33:37.312117Z",
     "start_time": "2020-08-03T14:33:37.186723Z"
    }
   },
   "outputs": [
    {
     "data": {
      "image/png": "[encoded data removed]",
      "text/plain": [
       "<Figure size 432x288 with 1 Axes>"
      ]
     },
     "metadata": {
      "needs_background": "light"
     },
     "output_type": "display_data"
    }
   ],
   "source": [
    "for t in range(3):\n",
    "    if t == 0:\n",
    "        c='r'\n",
    "        marker='>'\n",
    "    elif t == 1:\n",
    "        c='g'\n",
    "        marker='o'\n",
    "    elif t == 2:\n",
    "        c='b'\n",
    "        marker='x'\n",
    "    plt.scatter(df[df[\"label\"] == t][\"petal length (cm)\"].values,\n",
    "                df[df[\"label\"] == t][\"petal width (cm)\"].values,\n",
    "                marker = marker,\n",
    "                c = c)\n",
    "    plt.xlabel(\"petal length\")\n",
    "    plt.ylabel(\"petal width\")\n",
    "plt.show()"
   ]
  },
  {
   "cell_type": "markdown",
   "metadata": {},
   "source": [
    "# single layer model"
   ]
  },
  {
   "cell_type": "markdown",
   "metadata": {},
   "source": [
    "## Define model"
   ]
  },
  {
   "cell_type": "code",
   "execution_count": 55,
   "metadata": {
    "ExecuteTime": {
     "end_time": "2020-08-04T14:06:01.643587Z",
     "start_time": "2020-08-04T14:06:01.638851Z"
    }
   },
   "outputs": [],
   "source": [
    "X = tf.placeholder(tf.float32, name=\"features\")\n",
    "Y = tf.placeholder(tf.float32, name=\"label\")"
   ]
  },
  {
   "cell_type": "code",
   "execution_count": 56,
   "metadata": {
    "ExecuteTime": {
     "end_time": "2020-08-04T14:06:01.831665Z",
     "start_time": "2020-08-04T14:06:01.815365Z"
    }
   },
   "outputs": [],
   "source": [
    "W1 = tf.Variable(tf.random_uniform([4, 3], -1.0, 1.0))\n",
    "b1 = tf.Variable(tf.random_uniform([3], -1.0, 1.0))"
   ]
  },
  {
   "cell_type": "code",
   "execution_count": 57,
   "metadata": {
    "ExecuteTime": {
     "end_time": "2020-08-04T14:06:01.964684Z",
     "start_time": "2020-08-04T14:06:01.958199Z"
    }
   },
   "outputs": [],
   "source": [
    "L1 = tf.add(tf.matmul(X, W1), b1)\n",
    "L1 = tf.nn.relu(L1)\n",
    "\n",
    "model = tf.nn.softmax(L1)"
   ]
  },
  {
   "cell_type": "code",
   "execution_count": 80,
   "metadata": {
    "ExecuteTime": {
     "end_time": "2020-08-04T14:17:06.886311Z",
     "start_time": "2020-08-04T14:17:06.745454Z"
    }
   },
   "outputs": [],
   "source": [
    "cost = tf.reduce_mean(-tf.reduce_sum(Y*tf.log(model), axis=1))\n",
    "optimizer = tf.train.GradientDescentOptimizer(learning_rate=0.001)\n",
    "training = optimizer.minimize(cost)"
   ]
  },
  {
   "cell_type": "code",
   "execution_count": 81,
   "metadata": {
    "ExecuteTime": {
     "end_time": "2020-08-04T14:17:07.050746Z",
     "start_time": "2020-08-04T14:17:07.046588Z"
    }
   },
   "outputs": [],
   "source": [
    "prediction = tf.argmax(model, axis=1)"
   ]
  },
  {
   "cell_type": "markdown",
   "metadata": {},
   "source": [
    "## Train"
   ]
  },
  {
   "cell_type": "code",
   "execution_count": 85,
   "metadata": {
    "ExecuteTime": {
     "end_time": "2020-08-04T14:17:22.105919Z",
     "start_time": "2020-08-04T14:17:19.012079Z"
    },
    "scrolled": true
   },
   "outputs": [
    {
     "name": "stdout",
     "output_type": "stream",
     "text": [
      "0 6.3033752\n",
      "100 3.3241684\n",
      "200 3.3018603\n",
      "300 3.298761\n",
      "400 3.297726\n",
      "500 3.2972612\n",
      "600 3.2969654\n",
      "700 3.2967641\n",
      "800 3.2966154\n",
      "900 3.2964938\n",
      "1000 3.2963936\n",
      "1100 3.2963107\n",
      "1200 3.2962403\n",
      "1300 3.2961812\n",
      "1400 3.2961311\n",
      "1500 3.296089\n",
      "1600 3.2960527\n",
      "1700 3.2960222\n",
      "1800 3.2959962\n",
      "1900 3.2959738\n",
      "2000 3.295955\n",
      "2100 3.2959387\n",
      "2200 3.295925\n",
      "2300 3.2959132\n",
      "2400 3.2959032\n",
      "2500 3.2958949\n",
      "2600 3.2958877\n",
      "2700 3.2958813\n",
      "2800 3.295876\n",
      "2900 3.2958715\n",
      "3000 3.295868\n",
      "3100 3.2958646\n",
      "3200 3.2958617\n",
      "3300 3.2958593\n",
      "3400 3.295857\n",
      "3500 3.2958548\n",
      "3600 3.2958534\n",
      "3700 3.2958517\n",
      "3800 3.29585\n",
      "3900 3.2958488\n",
      "4000 3.2958477\n",
      "4100 3.2958465\n",
      "4200 3.2958455\n",
      "4300 3.2958448\n",
      "4400 3.2958438\n",
      "4500 3.2958434\n",
      "4600 3.2958426\n",
      "4700 3.2958422\n",
      "4800 3.2958415\n",
      "4900 3.295841\n",
      "5000 3.2958407\n",
      "5100 3.2958403\n",
      "5200 3.2958403\n",
      "5300 3.2958398\n",
      "5400 3.2958395\n",
      "5500 3.2958395\n",
      "5600 3.295839\n",
      "5700 3.295839\n",
      "5800 3.2958386\n",
      "5900 3.2958386\n",
      "6000 3.2958386\n",
      "6100 3.295838\n",
      "6200 3.295838\n",
      "6300 3.295838\n",
      "6400 3.295838\n",
      "6500 3.2958379\n",
      "6600 3.2958379\n",
      "6700 3.2958379\n",
      "6800 3.2958379\n",
      "6900 3.2958379\n",
      "7000 3.2958379\n",
      "7100 3.2958374\n",
      "7200 3.2958374\n",
      "7300 3.2958374\n",
      "7400 3.2958374\n",
      "7500 3.2958374\n",
      "7600 3.2958374\n",
      "7700 3.2958374\n",
      "7800 3.2958374\n",
      "7900 3.2958374\n",
      "8000 3.2958374\n",
      "8100 3.2958374\n",
      "8200 3.2958374\n",
      "8300 3.2958374\n",
      "8400 3.2958374\n",
      "8500 3.2958374\n",
      "8600 3.2958374\n",
      "8700 3.2958374\n",
      "8800 3.2958374\n",
      "8900 3.2958374\n",
      "9000 3.2958374\n",
      "9100 3.2958374\n",
      "9200 3.2958374\n",
      "9300 3.2958374\n",
      "9400 3.2958374\n",
      "9500 3.2958374\n",
      "9600 3.2958374\n",
      "9700 3.2958374\n",
      "9800 3.2958374\n",
      "9900 3.2958374\n"
     ]
    }
   ],
   "source": [
    "sess = tf.Session()\n",
    "sess.run(tf.global_variables_initializer())\n",
    "\n",
    "for step in range(10000):\n",
    "    none, _cost = sess.run(\n",
    "        [training, cost], \n",
    "        feed_dict={\n",
    "            X:features,\n",
    "            Y:label,\n",
    "        })\n",
    "    if step % 100 == 0:\n",
    "        print(step, _cost)"
   ]
  },
  {
   "cell_type": "markdown",
   "metadata": {},
   "source": [
    "## Evaluate"
   ]
  },
  {
   "cell_type": "code",
   "execution_count": 86,
   "metadata": {
    "ExecuteTime": {
     "end_time": "2020-08-04T14:17:22.114139Z",
     "start_time": "2020-08-04T14:17:22.107484Z"
    }
   },
   "outputs": [],
   "source": [
    "is_correct = tf.equal(prediction, tf.cast(Y, tf.int64))\n",
    "accuracy = tf.reduce_mean(tf.cast(is_correct, tf.float32))"
   ]
  },
  {
   "cell_type": "code",
   "execution_count": 87,
   "metadata": {
    "ExecuteTime": {
     "end_time": "2020-08-04T14:17:22.153104Z",
     "start_time": "2020-08-04T14:17:22.116351Z"
    }
   },
   "outputs": [
    {
     "name": "stdout",
     "output_type": "stream",
     "text": [
      "실제값: [0 0 0 0 0 0 0 0 0 0 0 0 0 0 0 0 0 0 0 0 0 0 0 0 0 0 0 0 0 0 0 0 0 0 0 0 0\n",
      " 0 0 0 0 0 0 0 0 0 0 0 0 0 1 1 1 1 1 1 1 1 1 1 1 1 1 1 1 1 1 1 1 1 1 1 1 1\n",
      " 1 1 1 1 1 1 1 1 1 1 1 1 1 1 1 1 1 1 1 1 1 1 1 1 1 1 2 2 2 2 2 2 2 2 2 2 2\n",
      " 2 2 2 2 2 2 2 2 2 2 2 2 2 2 2 2 2 2 2 2 2 2 2 2 2 2 2 2 2 2 2 2 2 2 2 2 2\n",
      " 2 2]\n",
      "예측값: [0 0 0 0 0 0 0 0 0 0 0 0 0 0 0 0 0 0 0 0 0 0 0 0 0 0 0 0 0 0 0 0 0 0 0 0 0\n",
      " 0 0 0 0 0 0 0 0 0 0 0 0 0 0 0 0 0 0 0 0 0 0 0 0 0 0 0 0 0 0 0 0 0 0 0 0 0\n",
      " 0 0 0 0 0 0 0 0 0 0 0 0 0 0 0 0 0 0 0 0 0 0 0 0 0 0 0 0 0 0 0 0 0 0 0 0 0\n",
      " 0 0 0 0 0 0 0 1 0 0 0 0 0 0 0 0 0 0 0 0 0 0 0 0 0 0 0 0 0 0 0 0 0 0 0 0 0\n",
      " 0 0]\n",
      "정확도: 0.3333333432674408\n"
     ]
    }
   ],
   "source": [
    "_prediction, _accuracy = sess.run([prediction, accuracy], feed_dict={\n",
    "    X:features,\n",
    "    Y:y_array\n",
    "})\n",
    "y_array = label.reshape(150)\n",
    "print(f\"실제값: {y_array}\")\n",
    "print(f\"예측값: {_prediction}\")\n",
    "print(f\"정확도: {_accuracy}\")"
   ]
  },
  {
   "cell_type": "code",
   "execution_count": null,
   "metadata": {},
   "outputs": [],
   "source": []
  }
 ],
 "metadata": {
  "kernelspec": {
   "display_name": "Python 3",
   "language": "python",
   "name": "python3"
  },
  "language_info": {
   "codemirror_mode": {
    "name": "ipython",
    "version": 3
   },
   "file_extension": ".py",
   "mimetype": "text/x-python",
   "name": "python",
   "nbconvert_exporter": "python",
   "pygments_lexer": "ipython3",
   "version": "3.7.3"
  },
  "toc": {
   "base_numbering": 1,
   "nav_menu": {},
   "number_sections": true,
   "sideBar": true,
   "skip_h1_title": false,
   "title_cell": "Table of Contents",
   "title_sidebar": "Contents",
   "toc_cell": false,
   "toc_position": {},
   "toc_section_display": true,
   "toc_window_display": false
  }
 },
 "nbformat": 4,
 "nbformat_minor": 2
}
