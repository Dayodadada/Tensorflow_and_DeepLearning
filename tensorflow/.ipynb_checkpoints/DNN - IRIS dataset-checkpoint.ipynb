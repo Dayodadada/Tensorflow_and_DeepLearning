{
 "cells": [
  {
   "cell_type": "markdown",
   "metadata": {},
   "source": [
    "# Import labraries"
   ]
  },
  {
   "cell_type": "code",
   "execution_count": 68,
   "metadata": {
    "ExecuteTime": {
     "end_time": "2020-08-06T13:49:12.282960Z",
     "start_time": "2020-08-06T13:49:12.279889Z"
    }
   },
   "outputs": [],
   "source": [
    "import math\n",
    "import matplotlib.pyplot as plt\n",
    "import numpy as np\n",
    "import pandas as pd\n",
    "from sklearn.preprocessing import normalize\n",
    "\n",
    "from sklearn.datasets import load_iris"
   ]
  },
  {
   "cell_type": "code",
   "execution_count": 31,
   "metadata": {
    "ExecuteTime": {
     "end_time": "2020-08-06T13:16:37.997347Z",
     "start_time": "2020-08-06T13:16:37.994785Z"
    }
   },
   "outputs": [],
   "source": [
    "import tensorflow.compat.v1 as tf\n",
    "\n",
    "tf.disable_v2_behavior()"
   ]
  },
  {
   "cell_type": "markdown",
   "metadata": {},
   "source": [
    "# Load dataset"
   ]
  },
  {
   "cell_type": "code",
   "execution_count": 32,
   "metadata": {
    "ExecuteTime": {
     "end_time": "2020-08-06T13:16:38.375929Z",
     "start_time": "2020-08-06T13:16:38.368861Z"
    }
   },
   "outputs": [
    {
     "data": {
      "text/plain": [
       "dict_keys(['data', 'target', 'target_names', 'DESCR', 'feature_names', 'filename'])"
      ]
     },
     "execution_count": 32,
     "metadata": {},
     "output_type": "execute_result"
    }
   ],
   "source": [
    "data =load_iris()\n",
    "data.keys()"
   ]
  },
  {
   "cell_type": "code",
   "execution_count": 33,
   "metadata": {
    "ExecuteTime": {
     "end_time": "2020-08-06T13:16:38.555287Z",
     "start_time": "2020-08-06T13:16:38.539621Z"
    }
   },
   "outputs": [
    {
     "name": "stdout",
     "output_type": "stream",
     "text": [
      "(150, 5)\n"
     ]
    },
    {
     "data": {
      "text/html": [
       "<div>\n",
       "<style scoped>\n",
       "    .dataframe tbody tr th:only-of-type {\n",
       "        vertical-align: middle;\n",
       "    }\n",
       "\n",
       "    .dataframe tbody tr th {\n",
       "        vertical-align: top;\n",
       "    }\n",
       "\n",
       "    .dataframe thead th {\n",
       "        text-align: right;\n",
       "    }\n",
       "</style>\n",
       "<table border=\"1\" class=\"dataframe\">\n",
       "  <thead>\n",
       "    <tr style=\"text-align: right;\">\n",
       "      <th></th>\n",
       "      <th>sepal length (cm)</th>\n",
       "      <th>sepal width (cm)</th>\n",
       "      <th>petal length (cm)</th>\n",
       "      <th>petal width (cm)</th>\n",
       "      <th>label</th>\n",
       "    </tr>\n",
       "  </thead>\n",
       "  <tbody>\n",
       "    <tr>\n",
       "      <th>0</th>\n",
       "      <td>5.1</td>\n",
       "      <td>3.5</td>\n",
       "      <td>1.4</td>\n",
       "      <td>0.2</td>\n",
       "      <td>0</td>\n",
       "    </tr>\n",
       "    <tr>\n",
       "      <th>1</th>\n",
       "      <td>4.9</td>\n",
       "      <td>3.0</td>\n",
       "      <td>1.4</td>\n",
       "      <td>0.2</td>\n",
       "      <td>0</td>\n",
       "    </tr>\n",
       "    <tr>\n",
       "      <th>2</th>\n",
       "      <td>4.7</td>\n",
       "      <td>3.2</td>\n",
       "      <td>1.3</td>\n",
       "      <td>0.2</td>\n",
       "      <td>0</td>\n",
       "    </tr>\n",
       "    <tr>\n",
       "      <th>3</th>\n",
       "      <td>4.6</td>\n",
       "      <td>3.1</td>\n",
       "      <td>1.5</td>\n",
       "      <td>0.2</td>\n",
       "      <td>0</td>\n",
       "    </tr>\n",
       "    <tr>\n",
       "      <th>4</th>\n",
       "      <td>5.0</td>\n",
       "      <td>3.6</td>\n",
       "      <td>1.4</td>\n",
       "      <td>0.2</td>\n",
       "      <td>0</td>\n",
       "    </tr>\n",
       "  </tbody>\n",
       "</table>\n",
       "</div>"
      ],
      "text/plain": [
       "   sepal length (cm)  sepal width (cm)  petal length (cm)  petal width (cm)  \\\n",
       "0                5.1               3.5                1.4               0.2   \n",
       "1                4.9               3.0                1.4               0.2   \n",
       "2                4.7               3.2                1.3               0.2   \n",
       "3                4.6               3.1                1.5               0.2   \n",
       "4                5.0               3.6                1.4               0.2   \n",
       "\n",
       "   label  \n",
       "0      0  \n",
       "1      0  \n",
       "2      0  \n",
       "3      0  \n",
       "4      0  "
      ]
     },
     "execution_count": 33,
     "metadata": {},
     "output_type": "execute_result"
    }
   ],
   "source": [
    "df = pd.DataFrame({\n",
    "    data[\"feature_names\"][0]:[i[0] for i in data[\"data\"]],\n",
    "    data[\"feature_names\"][1]:[i[1] for i in data[\"data\"]],\n",
    "    data[\"feature_names\"][2]:[i[2] for i in data[\"data\"]],\n",
    "    data[\"feature_names\"][3]:[i[3] for i in data[\"data\"]],\n",
    "    \"label\":data[\"target\"]\n",
    "})\n",
    "print(df.shape)\n",
    "df.head()"
   ]
  },
  {
   "cell_type": "code",
   "execution_count": 34,
   "metadata": {
    "ExecuteTime": {
     "end_time": "2020-08-06T13:16:38.696305Z",
     "start_time": "2020-08-06T13:16:38.692680Z"
    },
    "scrolled": true
   },
   "outputs": [],
   "source": [
    "df = df.sample(frac=1)"
   ]
  },
  {
   "cell_type": "code",
   "execution_count": 35,
   "metadata": {
    "ExecuteTime": {
     "end_time": "2020-08-06T13:16:38.856219Z",
     "start_time": "2020-08-06T13:16:38.849321Z"
    }
   },
   "outputs": [
    {
     "data": {
      "text/plain": [
       "((150, 4), (150, 1))"
      ]
     },
     "execution_count": 35,
     "metadata": {},
     "output_type": "execute_result"
    }
   ],
   "source": [
    "features = df[['sepal length (cm)', 'sepal width (cm)', 'petal length (cm)', 'petal width (cm)']].values\n",
    "normalized_features = normalize(features,axis=0)\n",
    "label = df[[\"label\"]].values\n",
    "normalized_features.shape, features.shape, label.shape"
   ]
  },
  {
   "cell_type": "markdown",
   "metadata": {},
   "source": [
    "## visualization"
   ]
  },
  {
   "cell_type": "code",
   "execution_count": 36,
   "metadata": {
    "ExecuteTime": {
     "end_time": "2020-08-06T13:16:39.314063Z",
     "start_time": "2020-08-06T13:16:39.173371Z"
    }
   },
   "outputs": [
    {
     "data": {
      "image/png": "[encoded data removed]",
      "text/plain": [
       "<Figure size 432x288 with 1 Axes>"
      ]
     },
     "metadata": {
      "needs_background": "light"
     },
     "output_type": "display_data"
    }
   ],
   "source": [
    "for t in range(3):\n",
    "    if t == 0:\n",
    "        c='r'\n",
    "        marker='>'\n",
    "    elif t == 1:\n",
    "        c='g'\n",
    "        marker='o'\n",
    "    elif t == 2:\n",
    "        c='b'\n",
    "        marker='x'\n",
    "    plt.scatter(df[df[\"label\"] == t][\"sepal length (cm)\"].values,\n",
    "                df[df[\"label\"] == t][\"sepal width (cm)\"].values,\n",
    "                marker = marker,\n",
    "                c = c)\n",
    "    plt.xlabel(\"sepal length\")\n",
    "    plt.ylabel(\"sepal width\")\n",
    "plt.show()"
   ]
  },
  {
   "cell_type": "code",
   "execution_count": 37,
   "metadata": {
    "ExecuteTime": {
     "end_time": "2020-08-06T13:16:39.502131Z",
     "start_time": "2020-08-06T13:16:39.377383Z"
    }
   },
   "outputs": [
    {
     "data": {
      "image/png": "[encoded data removed]",
      "text/plain": [
       "<Figure size 432x288 with 1 Axes>"
      ]
     },
     "metadata": {
      "needs_background": "light"
     },
     "output_type": "display_data"
    }
   ],
   "source": [
    "for t in range(3):\n",
    "    if t == 0:\n",
    "        c='r'\n",
    "        marker='>'\n",
    "    elif t == 1:\n",
    "        c='g'\n",
    "        marker='o'\n",
    "    elif t == 2:\n",
    "        c='b'\n",
    "        marker='x'\n",
    "    plt.scatter(df[df[\"label\"] == t][\"petal length (cm)\"].values,\n",
    "                df[df[\"label\"] == t][\"petal width (cm)\"].values,\n",
    "                marker = marker,\n",
    "                c = c)\n",
    "    plt.xlabel(\"petal length\")\n",
    "    plt.ylabel(\"petal width\")\n",
    "plt.show()"
   ]
  },
  {
   "cell_type": "markdown",
   "metadata": {},
   "source": [
    "# single layer model"
   ]
  },
  {
   "cell_type": "markdown",
   "metadata": {},
   "source": [
    "## Define model"
   ]
  },
  {
   "cell_type": "code",
   "execution_count": 52,
   "metadata": {
    "ExecuteTime": {
     "end_time": "2020-08-06T13:19:13.590257Z",
     "start_time": "2020-08-06T13:19:13.583667Z"
    }
   },
   "outputs": [],
   "source": [
    "X = tf.placeholder(tf.float32, [None, 4], name=\"features\")\n",
    "Y = tf.placeholder(tf.int64, [None, 1], name=\"label\")\n",
    "Y_one_hot = tf.one_hot(Y, 3)"
   ]
  },
  {
   "cell_type": "code",
   "execution_count": 53,
   "metadata": {
    "ExecuteTime": {
     "end_time": "2020-08-06T13:19:13.789964Z",
     "start_time": "2020-08-06T13:19:13.775299Z"
    }
   },
   "outputs": [],
   "source": [
    "W1 = tf.Variable(tf.random_normal([4, 3]))\n",
    "b1 = tf.Variable(tf.random_normal([3]))"
   ]
  },
  {
   "cell_type": "code",
   "execution_count": 54,
   "metadata": {
    "ExecuteTime": {
     "end_time": "2020-08-06T13:19:13.957076Z",
     "start_time": "2020-08-06T13:19:13.950580Z"
    }
   },
   "outputs": [],
   "source": [
    "L1 = tf.add(tf.matmul(X, W1), b1)\n",
    "L1 = tf.nn.relu(L1)\n",
    "\n",
    "model = tf.nn.softmax(L1)"
   ]
  },
  {
   "cell_type": "code",
   "execution_count": 55,
   "metadata": {
    "ExecuteTime": {
     "end_time": "2020-08-06T13:19:14.283288Z",
     "start_time": "2020-08-06T13:19:14.230380Z"
    }
   },
   "outputs": [],
   "source": [
    "cost = tf.reduce_mean(-tf.reduce_sum(Y_one_hot*tf.log(model), axis=1))\n",
    "# cost = tf.reduce_mean(tf.nn.softmax_cross_entropy_with_logits_v2(model, Y_one_hot))\n",
    "optimizer = tf.train.GradientDescentOptimizer(learning_rate=0.001)\n",
    "training = optimizer.minimize(cost)"
   ]
  },
  {
   "cell_type": "code",
   "execution_count": 56,
   "metadata": {
    "ExecuteTime": {
     "end_time": "2020-08-06T13:19:14.675401Z",
     "start_time": "2020-08-06T13:19:14.670977Z"
    }
   },
   "outputs": [],
   "source": [
    "prediction = tf.argmax(model, axis=1)"
   ]
  },
  {
   "cell_type": "markdown",
   "metadata": {},
   "source": [
    "## Train"
   ]
  },
  {
   "cell_type": "code",
   "execution_count": 57,
   "metadata": {
    "ExecuteTime": {
     "end_time": "2020-08-06T13:19:51.971366Z",
     "start_time": "2020-08-06T13:19:16.531054Z"
    },
    "scrolled": true
   },
   "outputs": [
    {
     "name": "stdout",
     "output_type": "stream",
     "text": [
      "0 67.689575\n",
      "1000 54.930637\n",
      "2000 54.93064\n",
      "3000 54.93064\n",
      "4000 54.93064\n",
      "5000 54.93064\n",
      "6000 54.93064\n",
      "7000 54.93064\n",
      "8000 54.93064\n",
      "9000 54.93064\n",
      "10000 54.93064\n",
      "11000 54.93064\n",
      "12000 54.93064\n",
      "13000 54.93064\n",
      "14000 54.93064\n",
      "15000 54.93064\n",
      "16000 54.93064\n",
      "17000 54.93064\n",
      "18000 54.93064\n",
      "19000 54.93064\n",
      "20000 54.93064\n",
      "21000 54.93064\n",
      "22000 54.93064\n",
      "23000 54.93064\n",
      "24000 54.93064\n",
      "25000 54.93064\n",
      "26000 54.93064\n",
      "27000 54.93064\n",
      "28000 54.93064\n",
      "29000 54.93064\n",
      "30000 54.93064\n",
      "31000 54.93064\n",
      "32000 54.93064\n",
      "33000 54.93064\n",
      "34000 54.93064\n",
      "35000 54.93064\n",
      "36000 54.93064\n",
      "37000 54.93064\n",
      "38000 54.93064\n",
      "39000 54.93064\n",
      "40000 54.93064\n",
      "41000 54.93064\n",
      "42000 54.93064\n",
      "43000 54.93064\n",
      "44000 54.93064\n",
      "45000 54.93064\n",
      "46000 54.93064\n",
      "47000 54.93064\n",
      "48000 54.93064\n",
      "49000 54.93064\n"
     ]
    }
   ],
   "source": [
    "sess = tf.Session()\n",
    "sess.run(tf.global_variables_initializer())\n",
    "\n",
    "for step in range(50000):\n",
    "    none, _cost = sess.run(\n",
    "        [training, cost], \n",
    "        feed_dict={\n",
    "            X:features,\n",
    "            Y:label,\n",
    "        })\n",
    "    if step % 1000 == 0:\n",
    "        print(step, _cost)"
   ]
  },
  {
   "cell_type": "markdown",
   "metadata": {},
   "source": [
    "## Evaluate"
   ]
  },
  {
   "cell_type": "code",
   "execution_count": 58,
   "metadata": {
    "ExecuteTime": {
     "end_time": "2020-08-06T13:19:51.978710Z",
     "start_time": "2020-08-06T13:19:51.973183Z"
    }
   },
   "outputs": [],
   "source": [
    "is_correct = tf.equal(prediction, tf.cast(Y, tf.int64))\n",
    "accuracy = tf.reduce_mean(tf.cast(is_correct, tf.float32))"
   ]
  },
  {
   "cell_type": "code",
   "execution_count": 59,
   "metadata": {
    "ExecuteTime": {
     "end_time": "2020-08-06T13:19:52.016406Z",
     "start_time": "2020-08-06T13:19:51.980565Z"
    }
   },
   "outputs": [
    {
     "name": "stdout",
     "output_type": "stream",
     "text": [
      "(실제값, 예측값): [(1, 0), (0, 0), (1, 0), (2, 0), (1, 0), (2, 0), (0, 0), (0, 0), (2, 0), (0, 0), (0, 0), (0, 0), (1, 0), (1, 0), (0, 2), (0, 0), (0, 0), (1, 0), (2, 0), (0, 0), (2, 0), (1, 0), (2, 0), (2, 0), (0, 0), (0, 0), (1, 0), (1, 0), (2, 0), (0, 0), (2, 0), (0, 0), (1, 0), (2, 0), (2, 0), (2, 0), (0, 0), (0, 0), (1, 0), (1, 0), (1, 0), (1, 0), (1, 0), (0, 0), (2, 0), (2, 0), (0, 0), (0, 0), (0, 0), (0, 0), (1, 0), (0, 0), (0, 0), (2, 0), (1, 0), (0, 0), (0, 0), (1, 0), (0, 0), (2, 0), (0, 0), (2, 0), (2, 0), (1, 0), (2, 0), (1, 0), (1, 0), (0, 0), (0, 0), (2, 0), (1, 0), (1, 0), (0, 0), (1, 0), (0, 0), (1, 0), (1, 0), (1, 0), (1, 0), (1, 0), (1, 0), (1, 0), (2, 0), (0, 0), (2, 0), (2, 0), (2, 0), (1, 0), (1, 0), (0, 0), (1, 0), (2, 0), (1, 0), (2, 0), (2, 0), (2, 0), (1, 0), (1, 0), (0, 0), (2, 0), (0, 0), (2, 0), (2, 0), (2, 0), (0, 0), (2, 0), (2, 0), (2, 0), (2, 0), (1, 0), (1, 0), (0, 0), (2, 0), (2, 0), (1, 0), (0, 0), (2, 0), (0, 0), (2, 0), (2, 0), (0, 0), (1, 0), (1, 0), (1, 0), (1, 0), (1, 0), (1, 0), (1, 0), (0, 0), (0, 0), (2, 0), (1, 0), (2, 0), (0, 0), (0, 0), (0, 0), (2, 0), (1, 0), (2, 0), (2, 0), (2, 0), (1, 0), (2, 0), (2, 0), (0, 0), (0, 0), (0, 0), (2, 0), (0, 0), (0, 0)]\n",
      "정확도: 0.3333333432674408\n"
     ]
    }
   ],
   "source": [
    "_prediction, _accuracy = sess.run([prediction, accuracy], feed_dict={\n",
    "    X:features,\n",
    "    Y:label\n",
    "})\n",
    "y_array = label.reshape(150)\n",
    "print(f\"(실제값, 예측값): {[(i,j) for i, j in zip(y_array, _prediction)]}\")\n",
    "print(f\"정확도: {_accuracy}\")"
   ]
  },
  {
   "cell_type": "markdown",
   "metadata": {},
   "source": [
    "# deep neural network model"
   ]
  },
  {
   "cell_type": "markdown",
   "metadata": {},
   "source": [
    "## Define model"
   ]
  },
  {
   "cell_type": "code",
   "execution_count": 63,
   "metadata": {
    "ExecuteTime": {
     "end_time": "2020-08-06T13:20:57.915414Z",
     "start_time": "2020-08-06T13:20:57.880466Z"
    }
   },
   "outputs": [],
   "source": [
    "X = tf.placeholder(tf.float32, name=\"features\")\n",
    "Y = tf.placeholder(tf.int64, name=\"label\")\n",
    "Y_one_hot = tf.one_hot(Y, 3)\n",
    "\n",
    "W1 = tf.Variable(tf.random_normal([4, 32]))\n",
    "b1 = tf.Variable(tf.random_normal([32]))\n",
    "\n",
    "W2 = tf.Variable(tf.random_normal([32, 3]))\n",
    "b2 = tf.Variable(tf.random_normal([3]))\n",
    "\n",
    "L1 = tf.add(tf.matmul(X, W1), b1)\n",
    "L1 = tf.nn.relu(L1)\n",
    "L2 = tf.add(tf.matmul(L1, W2), b2)\n",
    "L2 = tf.nn.relu(L2)\n",
    "\n",
    "model = tf.nn.softmax(L2)"
   ]
  },
  {
   "cell_type": "code",
   "execution_count": 64,
   "metadata": {
    "ExecuteTime": {
     "end_time": "2020-08-06T13:20:58.393301Z",
     "start_time": "2020-08-06T13:20:58.310753Z"
    }
   },
   "outputs": [],
   "source": [
    "cost = tf.reduce_mean(-tf.reduce_sum(Y_one_hot*tf.log(model), axis=1))\n",
    "# cost = tf.reduce_mean(tf.nn.softmax_cross_entropy_with_logits_v2(model, Y_one_hot))\n",
    "optimizer = tf.train.GradientDescentOptimizer(learning_rate=0.001)\n",
    "training = optimizer.minimize(cost)"
   ]
  },
  {
   "cell_type": "code",
   "execution_count": 65,
   "metadata": {
    "ExecuteTime": {
     "end_time": "2020-08-06T13:20:58.570255Z",
     "start_time": "2020-08-06T13:20:58.561245Z"
    }
   },
   "outputs": [],
   "source": [
    "prediction = tf.argmax(model, axis=1)\n",
    "is_correct = tf.equal(prediction, tf.cast(Y, tf.int64))\n",
    "accuracy = tf.reduce_mean(tf.cast(is_correct, tf.float32))"
   ]
  },
  {
   "cell_type": "markdown",
   "metadata": {},
   "source": [
    "## Train"
   ]
  },
  {
   "cell_type": "code",
   "execution_count": 66,
   "metadata": {
    "ExecuteTime": {
     "end_time": "2020-08-06T13:21:08.628891Z",
     "start_time": "2020-08-06T13:21:00.729225Z"
    },
    "scrolled": true
   },
   "outputs": [
    {
     "name": "stdout",
     "output_type": "stream",
     "text": [
      "0 167.30444\n",
      "100 54.93064\n",
      "200 54.93064\n",
      "300 54.93064\n",
      "400 54.93064\n",
      "500 54.93064\n",
      "600 54.93064\n",
      "700 54.93064\n",
      "800 54.93064\n",
      "900 54.93064\n",
      "1000 54.93064\n",
      "1100 54.93064\n",
      "1200 54.93064\n",
      "1300 54.93064\n",
      "1400 54.93064\n",
      "1500 54.93064\n",
      "1600 54.93064\n",
      "1700 54.93064\n",
      "1800 54.93064\n",
      "1900 54.93064\n",
      "2000 54.93064\n",
      "2100 54.93064\n",
      "2200 54.93064\n",
      "2300 54.93064\n",
      "2400 54.93064\n",
      "2500 54.93064\n",
      "2600 54.93064\n",
      "2700 54.93064\n",
      "2800 54.93064\n",
      "2900 54.93064\n",
      "3000 54.93064\n",
      "3100 54.93064\n",
      "3200 54.93064\n",
      "3300 54.93064\n",
      "3400 54.93064\n",
      "3500 54.93064\n",
      "3600 54.93064\n",
      "3700 54.93064\n",
      "3800 54.93064\n",
      "3900 54.93064\n",
      "4000 54.93064\n",
      "4100 54.93064\n",
      "4200 54.93064\n",
      "4300 54.93064\n",
      "4400 54.93064\n",
      "4500 54.93064\n",
      "4600 54.93064\n",
      "4700 54.93064\n",
      "4800 54.93064\n",
      "4900 54.93064\n",
      "5000 54.93064\n",
      "5100 54.93064\n",
      "5200 54.93064\n",
      "5300 54.93064\n",
      "5400 54.93064\n",
      "5500 54.93064\n",
      "5600 54.93064\n",
      "5700 54.93064\n",
      "5800 54.93064\n",
      "5900 54.93064\n",
      "6000 54.93064\n",
      "6100 54.93064\n",
      "6200 54.93064\n",
      "6300 54.93064\n",
      "6400 54.93064\n",
      "6500 54.93064\n",
      "6600 54.93064\n",
      "6700 54.93064\n",
      "6800 54.93064\n",
      "6900 54.93064\n",
      "7000 54.93064\n",
      "7100 54.93064\n",
      "7200 54.93064\n",
      "7300 54.93064\n",
      "7400 54.93064\n",
      "7500 54.93064\n",
      "7600 54.93064\n",
      "7700 54.93064\n",
      "7800 54.93064\n",
      "7900 54.93064\n",
      "8000 54.93064\n",
      "8100 54.93064\n",
      "8200 54.93064\n",
      "8300 54.93064\n",
      "8400 54.93064\n",
      "8500 54.93064\n",
      "8600 54.93064\n",
      "8700 54.93064\n",
      "8800 54.93064\n",
      "8900 54.93064\n",
      "9000 54.93064\n",
      "9100 54.93064\n",
      "9200 54.93064\n",
      "9300 54.93064\n",
      "9400 54.93064\n",
      "9500 54.93064\n",
      "9600 54.93064\n",
      "9700 54.93064\n",
      "9800 54.93064\n",
      "9900 54.93064\n"
     ]
    }
   ],
   "source": [
    "sess = tf.Session()\n",
    "sess.run(tf.global_variables_initializer())\n",
    "\n",
    "for step in range(10000):\n",
    "    none, _cost = sess.run(\n",
    "        [training, cost], \n",
    "        feed_dict={\n",
    "            X: features,\n",
    "            Y: label\n",
    "        })\n",
    "    if step % 100 == 0:\n",
    "        print(step, _cost)\n"
   ]
  },
  {
   "cell_type": "markdown",
   "metadata": {},
   "source": [
    "## Evaluate"
   ]
  },
  {
   "cell_type": "code",
   "execution_count": 67,
   "metadata": {
    "ExecuteTime": {
     "end_time": "2020-08-06T13:21:08.660260Z",
     "start_time": "2020-08-06T13:21:08.630614Z"
    }
   },
   "outputs": [
    {
     "name": "stdout",
     "output_type": "stream",
     "text": [
      "(실제값, 예측값): [(1, 0), (0, 0), (1, 0), (2, 0), (1, 0), (2, 0), (0, 0), (0, 0), (2, 0), (0, 0), (0, 0), (0, 0), (1, 0), (1, 0), (0, 0), (0, 0), (0, 0), (1, 0), (2, 0), (0, 0), (2, 0), (1, 0), (2, 0), (2, 0), (0, 0), (0, 0), (1, 0), (1, 0), (2, 0), (0, 0), (2, 0), (0, 0), (1, 0), (2, 0), (2, 0), (2, 0), (0, 0), (0, 0), (1, 0), (1, 0), (1, 0), (1, 0), (1, 0), (0, 0), (2, 0), (2, 0), (0, 0), (0, 0), (0, 0), (0, 0), (1, 0), (0, 0), (0, 0), (2, 0), (1, 0), (0, 0), (0, 0), (1, 0), (0, 0), (2, 0), (0, 0), (2, 0), (2, 0), (1, 0), (2, 0), (1, 0), (1, 0), (0, 0), (0, 0), (2, 0), (1, 0), (1, 0), (0, 0), (1, 0), (0, 0), (1, 0), (1, 0), (1, 0), (1, 0), (1, 0), (1, 0), (1, 0), (2, 0), (0, 0), (2, 0), (2, 0), (2, 0), (1, 0), (1, 0), (0, 0), (1, 0), (2, 0), (1, 0), (2, 0), (2, 0), (2, 0), (1, 0), (1, 0), (0, 0), (2, 0), (0, 0), (2, 0), (2, 0), (2, 0), (0, 0), (2, 0), (2, 0), (2, 0), (2, 0), (1, 0), (1, 0), (0, 0), (2, 0), (2, 0), (1, 0), (0, 0), (2, 0), (0, 0), (2, 0), (2, 0), (0, 0), (1, 0), (1, 0), (1, 0), (1, 0), (1, 0), (1, 0), (1, 0), (0, 0), (0, 0), (2, 0), (1, 0), (2, 0), (0, 0), (0, 0), (0, 0), (2, 0), (1, 0), (2, 0), (2, 0), (2, 0), (1, 0), (2, 0), (2, 0), (0, 0), (0, 0), (0, 0), (2, 0), (0, 0), (0, 0)]\n",
      "정확도: 0.3333333432674408\n"
     ]
    }
   ],
   "source": [
    "_prediction, _accuracy = sess.run([prediction, accuracy], feed_dict={\n",
    "    X:features,\n",
    "    Y:label\n",
    "})\n",
    "y_array = label.reshape(150)\n",
    "print(f\"(실제값, 예측값): {[(i,j) for i, j in zip(y_array, _prediction)]}\")\n",
    "print(f\"정확도: {_accuracy}\")"
   ]
  },
  {
   "cell_type": "code",
   "execution_count": null,
   "metadata": {},
   "outputs": [],
   "source": []
  }
 ],
 "metadata": {
  "kernelspec": {
   "display_name": "Python 3",
   "language": "python",
   "name": "python3"
  },
  "language_info": {
   "codemirror_mode": {
    "name": "ipython",
    "version": 3
   },
   "file_extension": ".py",
   "mimetype": "text/x-python",
   "name": "python",
   "nbconvert_exporter": "python",
   "pygments_lexer": "ipython3",
   "version": "3.7.3"
  },
  "toc": {
   "base_numbering": 1,
   "nav_menu": {},
   "number_sections": true,
   "sideBar": true,
   "skip_h1_title": false,
   "title_cell": "Table of Contents",
   "title_sidebar": "Contents",
   "toc_cell": false,
   "toc_position": {},
   "toc_section_display": true,
   "toc_window_display": false
  }
 },
 "nbformat": 4,
 "nbformat_minor": 2
}
