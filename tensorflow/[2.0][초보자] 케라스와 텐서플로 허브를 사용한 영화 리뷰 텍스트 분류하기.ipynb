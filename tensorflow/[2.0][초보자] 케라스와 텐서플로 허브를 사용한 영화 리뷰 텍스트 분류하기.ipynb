{
 "cells": [
  {
   "cell_type": "markdown",
   "metadata": {},
   "source": [
    "# 케라스와 텐서플로 허브를 사용한 영화 리뷰 텍스트 분류하기"
   ]
  },
  {
   "cell_type": "code",
   "execution_count": 1,
   "metadata": {
    "ExecuteTime": {
     "end_time": "2020-08-14T13:38:11.108335Z",
     "start_time": "2020-08-14T13:37:50.094705Z"
    }
   },
   "outputs": [
    {
     "name": "stdout",
     "output_type": "stream",
     "text": [
      "\u001b[33mWARNING: You are using pip version 20.1.1; however, version 20.2.2 is available.\n",
      "You should consider upgrading via the '/Users/user/anaconda3/bin/python3 -m pip install --upgrade pip' command.\u001b[0m\n",
      "\u001b[31mERROR: tensorflow-metadata 0.23.0 has requirement absl-py<0.9,>=0.7, but you'll have absl-py 0.9.0 which is incompatible.\u001b[0m\n",
      "\u001b[33mWARNING: You are using pip version 20.1.1; however, version 20.2.2 is available.\n",
      "You should consider upgrading via the '/Users/user/anaconda3/bin/python3 -m pip install --upgrade pip' command.\u001b[0m\n",
      "버전:  2.0.0\n",
      "즉시 실행 모드:  True\n",
      "허브 버전:  0.8.0\n",
      "GPU NOT AVAILABLE\n"
     ]
    }
   ],
   "source": [
    "import numpy as np\n",
    "import tensorflow as tf\n",
    "\n",
    "!pip install -q tensorflow-hub\n",
    "!pip install -q tfds-nightly\n",
    "import tensorflow_hub as hub\n",
    "import tensorflow_datasets as tfds\n",
    "\n",
    "print(\"버전: \", tf.__version__)\n",
    "print(\"즉시 실행 모드: \", tf.executing_eagerly())\n",
    "print(\"허브 버전: \", hub.__version__)\n",
    "print(\"GPU\", \"사용 가능\" if tf.config.experimental.list_physical_devices(\"GPU\") else \"NOT AVAILABLE\")"
   ]
  },
  {
   "cell_type": "markdown",
   "metadata": {},
   "source": [
    "## Load dataset"
   ]
  },
  {
   "cell_type": "code",
   "execution_count": 4,
   "metadata": {
    "ExecuteTime": {
     "end_time": "2020-08-14T13:58:24.810420Z",
     "start_time": "2020-08-14T13:58:24.729054Z"
    }
   },
   "outputs": [],
   "source": [
    "train_data, valid_data, test_data = tfds.load(\n",
    "    name=\"imdb_reviews\",\n",
    "    split=(\"train[:60%]\", \"train[60%:]\", \"test\"),\n",
    "    as_supervised=True\n",
    ")"
   ]
  },
  {
   "cell_type": "code",
   "execution_count": 8,
   "metadata": {
    "ExecuteTime": {
     "end_time": "2020-08-14T14:30:42.262012Z",
     "start_time": "2020-08-14T14:30:42.230335Z"
    }
   },
   "outputs": [
    {
     "data": {
      "text/plain": [
       "<tf.Tensor: id=383, shape=(3,), dtype=string, numpy=\n",
       "array([b\"This was an absolutely terrible movie. Don't be lured in by Christopher Walken or Michael Ironside. Both are great actors, but this must simply be their worst role in history. Even their great acting could not redeem this movie's ridiculous storyline. This movie is an early nineties US propaganda piece. The most pathetic scenes were those when the Columbian rebels were making their cases for revolutions. Maria Conchita Alonso appeared phony, and her pseudo-love affair with Walken was nothing but a pathetic emotional plug in a movie that was devoid of any real meaning. I am disappointed that there are movies like this, ruining actor's like Christopher Walken's good name. I could barely sit through it.\",\n",
       "       b'I have been known to fall asleep during films, but this is usually due to a combination of things including, really tired, being warm and comfortable on the sette and having just eaten a lot. However on this occasion I fell asleep because the film was rubbish. The plot development was constant. Constantly slow and boring. Things seemed to happen, but with no explanation of what was causing them or why. I admit, I may have missed part of the film, but i watched the majority of it and everything just seemed to happen of its own accord without any real concern for anything else. I cant recommend this film at all.',\n",
       "       b'Mann photographs the Alberta Rocky Mountains in a superb fashion, and Jimmy Stewart and Walter Brennan give enjoyable performances as they always seem to do. <br /><br />But come on Hollywood - a Mountie telling the people of Dawson City, Yukon to elect themselves a marshal (yes a marshal!) and to enforce the law themselves, then gunfighters battling it out on the streets for control of the town? <br /><br />Nothing even remotely resembling that happened on the Canadian side of the border during the Klondike gold rush. Mr. Mann and company appear to have mistaken Dawson City for Deadwood, the Canadian North for the American Wild West.<br /><br />Canadian viewers be prepared for a Reefer Madness type of enjoyable howl with this ludicrous plot, or, to shake your head in disgust.'],\n",
       "      dtype=object)>"
      ]
     },
     "execution_count": 8,
     "metadata": {},
     "output_type": "execute_result"
    }
   ],
   "source": [
    "train_examples_batch, train_labels_batch = next(iter(train_data.batch(3)))\n",
    "train_examples_batch"
   ]
  },
  {
   "cell_type": "code",
   "execution_count": 9,
   "metadata": {
    "ExecuteTime": {
     "end_time": "2020-08-14T14:30:43.062778Z",
     "start_time": "2020-08-14T14:30:43.057065Z"
    }
   },
   "outputs": [
    {
     "data": {
      "text/plain": [
       "<tf.Tensor: id=384, shape=(3,), dtype=int64, numpy=array([0, 0, 0])>"
      ]
     },
     "execution_count": 9,
     "metadata": {},
     "output_type": "execute_result"
    }
   ],
   "source": [
    "train_labels_batch"
   ]
  },
  {
   "cell_type": "markdown",
   "metadata": {},
   "source": [
    "## Define model"
   ]
  },
  {
   "cell_type": "markdown",
   "metadata": {},
   "source": [
    "pre-trained text embedding을 사용"
   ]
  },
  {
   "cell_type": "code",
   "execution_count": 10,
   "metadata": {
    "ExecuteTime": {
     "end_time": "2020-08-15T02:59:51.088771Z",
     "start_time": "2020-08-15T02:59:48.943390Z"
    }
   },
   "outputs": [
    {
     "data": {
      "text/plain": [
       "<tf.Tensor: id=564, shape=(3, 20), dtype=float32, numpy=\n",
       "array([[ 1.765786  , -3.882232  ,  3.9134233 , -1.5557289 , -3.3362343 ,\n",
       "        -1.7357955 , -1.9954445 ,  1.2989551 ,  5.081598  , -1.1041286 ,\n",
       "        -2.0503852 , -0.72675157, -0.65675956,  0.24436149, -3.7208383 ,\n",
       "         2.0954835 ,  2.2969332 , -2.0689783 , -2.9489717 , -1.1315987 ],\n",
       "       [ 1.8804485 , -2.5852382 ,  3.4066997 ,  1.0982676 , -4.056685  ,\n",
       "        -4.891284  , -2.785554  ,  1.3874227 ,  3.8476458 , -0.9256538 ,\n",
       "        -1.896706  ,  1.2113281 ,  0.11474707,  0.76209456, -4.8791065 ,\n",
       "         2.906149  ,  4.7087674 , -2.3652055 , -3.5015898 , -1.6390051 ],\n",
       "       [ 0.71152234, -0.6353217 ,  1.7385626 , -1.1168286 , -0.5451594 ,\n",
       "        -1.1808156 ,  0.09504455,  1.4653089 ,  0.66059524,  0.79308075,\n",
       "        -2.2268345 ,  0.07446612, -1.4075904 , -0.70645386, -1.907037  ,\n",
       "         1.4419787 ,  1.9551861 , -0.42660055, -2.8022065 ,  0.43727064]],\n",
       "      dtype=float32)>"
      ]
     },
     "execution_count": 10,
     "metadata": {},
     "output_type": "execute_result"
    }
   ],
   "source": [
    "embedding = \"https://tfhub.dev/google/tf2-preview/gnews-swivel-20dim/1\"\n",
    "hub_layer = hub.KerasLayer(embedding, input_shape=[], dtype=tf.string, trainable=True)\n",
    "hub_layer(train_examples_batch[:3])"
   ]
  },
  {
   "cell_type": "code",
   "execution_count": 12,
   "metadata": {
    "ExecuteTime": {
     "end_time": "2020-08-15T03:02:14.240343Z",
     "start_time": "2020-08-15T03:02:14.208410Z"
    }
   },
   "outputs": [
    {
     "name": "stdout",
     "output_type": "stream",
     "text": [
      "Model: \"sequential_1\"\n",
      "_________________________________________________________________\n",
      "Layer (type)                 Output Shape              Param #   \n",
      "=================================================================\n",
      "keras_layer (KerasLayer)     (None, 20)                400020    \n",
      "_________________________________________________________________\n",
      "dense_2 (Dense)              (None, 16)                336       \n",
      "_________________________________________________________________\n",
      "dense_3 (Dense)              (None, 1)                 17        \n",
      "=================================================================\n",
      "Total params: 400,373\n",
      "Trainable params: 400,373\n",
      "Non-trainable params: 0\n",
      "_________________________________________________________________\n"
     ]
    }
   ],
   "source": [
    "model = tf.keras.Sequential()\n",
    "model.add(hub_layer)\n",
    "model.add(tf.keras.layers.Dense(16, activation=\"relu\"))\n",
    "model.add(tf.keras.layers.Dense(1))\n",
    "model.summary()"
   ]
  },
  {
   "cell_type": "code",
   "execution_count": 13,
   "metadata": {
    "ExecuteTime": {
     "end_time": "2020-08-15T03:05:40.879711Z",
     "start_time": "2020-08-15T03:05:40.845739Z"
    }
   },
   "outputs": [],
   "source": [
    "model.compile(\n",
    "    optimizer=\"adam\",\n",
    "    loss=tf.keras.losses.BinaryCrossentropy(from_logits=True),\n",
    "    metrics=[\"accuracy\"]\n",
    ")"
   ]
  },
  {
   "cell_type": "markdown",
   "metadata": {},
   "source": [
    "## Train"
   ]
  },
  {
   "cell_type": "code",
   "execution_count": 15,
   "metadata": {
    "ExecuteTime": {
     "end_time": "2020-08-15T03:07:46.949381Z",
     "start_time": "2020-08-15T03:06:59.462740Z"
    }
   },
   "outputs": [
    {
     "name": "stdout",
     "output_type": "stream",
     "text": [
      "Epoch 1/20\n",
      "30/30 [==============================] - 3s 102ms/step - loss: 0.6955 - accuracy: 0.5432 - val_loss: 0.0000e+00 - val_accuracy: 0.0000e+00\n",
      "Epoch 2/20\n",
      "30/30 [==============================] - 2s 76ms/step - loss: 0.6277 - accuracy: 0.6158 - val_loss: 0.6036 - val_accuracy: 0.6421\n",
      "Epoch 3/20\n",
      "30/30 [==============================] - 2s 74ms/step - loss: 0.5861 - accuracy: 0.6634 - val_loss: 0.5698 - val_accuracy: 0.6787\n",
      "Epoch 4/20\n",
      "30/30 [==============================] - 2s 75ms/step - loss: 0.5474 - accuracy: 0.7021 - val_loss: 0.5359 - val_accuracy: 0.7166\n",
      "Epoch 5/20\n",
      "30/30 [==============================] - 2s 79ms/step - loss: 0.5096 - accuracy: 0.7395 - val_loss: 0.4983 - val_accuracy: 0.7467\n",
      "Epoch 6/20\n",
      "30/30 [==============================] - 2s 77ms/step - loss: 0.4673 - accuracy: 0.7773 - val_loss: 0.4601 - val_accuracy: 0.7748\n",
      "Epoch 7/20\n",
      "30/30 [==============================] - 2s 79ms/step - loss: 0.4231 - accuracy: 0.8045 - val_loss: 0.4284 - val_accuracy: 0.8016\n",
      "Epoch 8/20\n",
      "30/30 [==============================] - 2s 75ms/step - loss: 0.3848 - accuracy: 0.8293 - val_loss: 0.3999 - val_accuracy: 0.8161\n",
      "Epoch 9/20\n",
      "30/30 [==============================] - 2s 77ms/step - loss: 0.3486 - accuracy: 0.8461 - val_loss: 0.3787 - val_accuracy: 0.8183\n",
      "Epoch 10/20\n",
      "30/30 [==============================] - 2s 78ms/step - loss: 0.3244 - accuracy: 0.8625 - val_loss: 0.3606 - val_accuracy: 0.8394\n",
      "Epoch 11/20\n",
      "30/30 [==============================] - 2s 77ms/step - loss: 0.2948 - accuracy: 0.8753 - val_loss: 0.3465 - val_accuracy: 0.8416\n",
      "Epoch 12/20\n",
      "30/30 [==============================] - 2s 80ms/step - loss: 0.2744 - accuracy: 0.8871 - val_loss: 0.3356 - val_accuracy: 0.8496\n",
      "Epoch 13/20\n",
      "30/30 [==============================] - 2s 78ms/step - loss: 0.2509 - accuracy: 0.8986 - val_loss: 0.3277 - val_accuracy: 0.8497\n",
      "Epoch 14/20\n",
      "30/30 [==============================] - 2s 81ms/step - loss: 0.2310 - accuracy: 0.9072 - val_loss: 0.3204 - val_accuracy: 0.8593\n",
      "Epoch 15/20\n",
      "30/30 [==============================] - 2s 79ms/step - loss: 0.2123 - accuracy: 0.9138 - val_loss: 0.3157 - val_accuracy: 0.8605\n",
      "Epoch 16/20\n",
      "30/30 [==============================] - 2s 78ms/step - loss: 0.2000 - accuracy: 0.9222 - val_loss: 0.3129 - val_accuracy: 0.8640\n",
      "Epoch 17/20\n",
      "30/30 [==============================] - 2s 79ms/step - loss: 0.1875 - accuracy: 0.9282 - val_loss: 0.3114 - val_accuracy: 0.8620\n",
      "Epoch 18/20\n",
      "30/30 [==============================] - 2s 78ms/step - loss: 0.1724 - accuracy: 0.9339 - val_loss: 0.3114 - val_accuracy: 0.8633\n",
      "Epoch 19/20\n",
      "30/30 [==============================] - 2s 78ms/step - loss: 0.1612 - accuracy: 0.9403 - val_loss: 0.3124 - val_accuracy: 0.8643\n",
      "Epoch 20/20\n",
      "30/30 [==============================] - 2s 82ms/step - loss: 0.1514 - accuracy: 0.9434 - val_loss: 0.3102 - val_accuracy: 0.8670\n"
     ]
    }
   ],
   "source": [
    "history = model.fit(\n",
    "    train_data.shuffle(10000).batch(512),\n",
    "    epochs=20,\n",
    "    validation_data=valid_data.batch(512),\n",
    "    verbose=1\n",
    ")"
   ]
  },
  {
   "cell_type": "markdown",
   "metadata": {},
   "source": [
    "## Evaluation"
   ]
  },
  {
   "cell_type": "code",
   "execution_count": null,
   "metadata": {},
   "outputs": [],
   "source": [
    "results = model.evaluate(test_data.batch(512), verbose=2)\n",
    "\n",
    "for name, value in zip(model.matrics_names, results):\n",
    "    print()"
   ]
  }
 ],
 "metadata": {
  "kernelspec": {
   "display_name": "Python 3",
   "language": "python",
   "name": "python3"
  },
  "language_info": {
   "codemirror_mode": {
    "name": "ipython",
    "version": 3
   },
   "file_extension": ".py",
   "mimetype": "text/x-python",
   "name": "python",
   "nbconvert_exporter": "python",
   "pygments_lexer": "ipython3",
   "version": "3.7.3"
  },
  "toc": {
   "base_numbering": 1,
   "nav_menu": {},
   "number_sections": true,
   "sideBar": true,
   "skip_h1_title": false,
   "title_cell": "Table of Contents",
   "title_sidebar": "Contents",
   "toc_cell": false,
   "toc_position": {},
   "toc_section_display": true,
   "toc_window_display": false
  }
 },
 "nbformat": 4,
 "nbformat_minor": 2
}
