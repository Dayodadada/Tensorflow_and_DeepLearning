{
 "cells": [
  {
   "cell_type": "code",
   "execution_count": null,
   "metadata": {},
   "outputs": [],
   "source": [
    "# https://dsbook.tistory.com/9\n",
    "# 연산은 graph로 표현\n",
    "# graph는 session내에서 실행, session은 연산을 실행시키는 곳\n",
    "# 데이터는 tensor로 표현 - 다차원 배열 혹은 다차원 리스트로 placeholder, constant, variable 모두 여기에 해당\n",
    "# placeholder는 다른 tensor를 할당하기 위해서 사용, 입력값을 넣어놓을 빈\n",
    "# constant는 상수\n",
    "# variable는 최종 값을 얻기 위해 계속 수정해야하는\n",
    "# operation에서 데이터를 입출력할때 feed와 fetch를 사용할 수 있다.\n",
    "\n",
    "# https://multicore-it.com/117?category=700117\n",
    "# !pip install tensorflow\n",
    "# !pip install pandas"
   ]
  },
  {
   "cell_type": "code",
   "execution_count": null,
   "metadata": {},
   "outputs": [],
   "source": [
    "import tensorflow as tf\n",
    "import pandas as pd"
   ]
  },
  {
   "cell_type": "code",
   "execution_count": null,
   "metadata": {},
   "outputs": [],
   "source": [
    "# sample(1)\n",
    "a = tf.constant(4, name=\"constant1\")\n",
    "b = tf.constant(8, name=\"constant2\")\n",
    "c = tf.multiply(a, b, name=\"multi\")\n",
    "sess = tf.Session()\n",
    "result = sess.run(c)\n",
    "print(f\"{a} * {b} = {c}\")"
   ]
  },
  {
   "cell_type": "code",
   "execution_count": null,
   "metadata": {},
   "outputs": [],
   "source": [
    "# sample(2)\n",
    "a = tf.constant([[1,2],[3,4]], name=\"A\")\n",
    "b = tf.constant([[3,2],[4,5]], name=\"B\")\n",
    "c = tf.matmul(a, b, name=\"AB\")\n",
    "sess = tf.Session()\n",
    "result = sess.run(c)\n",
    "print(f\"A = {a}\")\n",
    "print(f\"B = {b}\")\n",
    "print(f\"C = AB = {c}\")"
   ]
  }
 ],
 "metadata": {
  "kernelspec": {
   "display_name": "Python 3",
   "language": "python",
   "name": "python3"
  },
  "language_info": {
   "codemirror_mode": {
    "name": "ipython",
    "version": 3
   },
   "file_extension": ".py",
   "mimetype": "text/x-python",
   "name": "python",
   "nbconvert_exporter": "python",
   "pygments_lexer": "ipython3",
   "version": "3.7.3"
  },
  "toc": {
   "base_numbering": 1,
   "nav_menu": {},
   "number_sections": true,
   "sideBar": true,
   "skip_h1_title": false,
   "title_cell": "Table of Contents",
   "title_sidebar": "Contents",
   "toc_cell": false,
   "toc_position": {},
   "toc_section_display": true,
   "toc_window_display": false
  }
 },
 "nbformat": 4,
 "nbformat_minor": 2
}
