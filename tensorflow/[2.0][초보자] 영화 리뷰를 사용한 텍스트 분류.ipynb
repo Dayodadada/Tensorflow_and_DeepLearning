{
 "cells": [
  {
   "cell_type": "markdown",
   "metadata": {},
   "source": [
    "# 영화 리뷰를 사용한 텍스트 분류"
   ]
  },
  {
   "cell_type": "code",
   "execution_count": 1,
   "metadata": {
    "ExecuteTime": {
     "end_time": "2020-08-16T13:23:10.239003Z",
     "start_time": "2020-08-16T13:23:06.469889Z"
    }
   },
   "outputs": [],
   "source": [
    "import tensorflow as tf\n",
    "from tensorflow import keras\n",
    "\n",
    "import numpy as np"
   ]
  },
  {
   "cell_type": "markdown",
   "metadata": {},
   "source": [
    "## Load dataset"
   ]
  },
  {
   "cell_type": "code",
   "execution_count": 15,
   "metadata": {
    "ExecuteTime": {
     "end_time": "2020-08-16T14:06:12.826769Z",
     "start_time": "2020-08-16T14:06:08.833654Z"
    }
   },
   "outputs": [
    {
     "data": {
      "text/plain": [
       "(25000, 25000, 25000, 25000)"
      ]
     },
     "execution_count": 15,
     "metadata": {},
     "output_type": "execute_result"
    }
   ],
   "source": [
    "imdb = keras.datasets.imdb\n",
    "(train_data, train_labels), (test_data, test_labels) = imdb.load_data(num_words=10000)\n",
    "len(train_data), len(train_labels), len(test_data), len(test_labels)"
   ]
  },
  {
   "cell_type": "markdown",
   "metadata": {},
   "source": [
    "## word2index, index2word"
   ]
  },
  {
   "cell_type": "code",
   "execution_count": 6,
   "metadata": {
    "ExecuteTime": {
     "end_time": "2020-08-16T13:40:09.693766Z",
     "start_time": "2020-08-16T13:40:09.609307Z"
    }
   },
   "outputs": [
    {
     "data": {
      "text/plain": [
       "(7695, 51158)"
      ]
     },
     "execution_count": 6,
     "metadata": {},
     "output_type": "execute_result"
    }
   ],
   "source": [
    "# 단어와 정수 인덱스를 매핑한 딕셔너리\n",
    "word_index = imdb.get_word_index()\n",
    "\n",
    "# 처음 몇 개 인덱스는 사전에 정의되어 있습니다.\n",
    "word_index = {k:(v+3) for k,v in word_index.items()}\n",
    "word_index[\"<PAD>\"] = 0\n",
    "word_index[\"<START>\"] = 1\n",
    "word_index[\"<UNK>\"] = 2  # unknown\n",
    "word_index[\"<UNUSED>\"] = 3\n",
    "\n",
    "word_index[\"apple\"], word_index[\"facebook\"]"
   ]
  },
  {
   "cell_type": "code",
   "execution_count": 7,
   "metadata": {
    "ExecuteTime": {
     "end_time": "2020-08-16T13:40:32.654311Z",
     "start_time": "2020-08-16T13:40:32.620147Z"
    }
   },
   "outputs": [
    {
     "data": {
      "text/plain": [
       "('apple', 'facebook')"
      ]
     },
     "execution_count": 7,
     "metadata": {},
     "output_type": "execute_result"
    }
   ],
   "source": [
    "reverse_word_index = dict([(value, key) for (key, value) in word_index.items()])\n",
    "reverse_word_index[7695], reverse_word_index[51158]"
   ]
  },
  {
   "cell_type": "code",
   "execution_count": 8,
   "metadata": {
    "ExecuteTime": {
     "end_time": "2020-08-16T13:41:31.873857Z",
     "start_time": "2020-08-16T13:41:31.871078Z"
    }
   },
   "outputs": [],
   "source": [
    "def decode_review(text):\n",
    "    return \" \".join([reverse_word_index.get(i, \"?\") for i in text])"
   ]
  },
  {
   "cell_type": "code",
   "execution_count": 9,
   "metadata": {
    "ExecuteTime": {
     "end_time": "2020-08-16T13:41:43.766597Z",
     "start_time": "2020-08-16T13:41:43.763005Z"
    }
   },
   "outputs": [
    {
     "data": {
      "text/plain": [
       "\"<START> this film was just brilliant casting location scenery story direction everyone's really suited the part they played and you could just imagine being there robert <UNK> is an amazing actor and now the same being director <UNK> father came from the same scottish island as myself so i loved the fact there was a real connection with this film the witty remarks throughout the film were great it was just brilliant so much that i bought the film as soon as it was released for <UNK> and would recommend it to everyone to watch and the fly fishing was amazing really cried at the end it was so sad and you know what they say if you cry at a film it must have been good and this definitely was also <UNK> to the two little boy's that played the <UNK> of norman and paul they were just brilliant children are often left out of the <UNK> list i think because the stars that play them all grown up are such a big profile for the whole film but these children are amazing and should be praised for what they have done don't you think the whole story was so lovely because it was true and was someone's life after all that was shared with us all\""
      ]
     },
     "execution_count": 9,
     "metadata": {},
     "output_type": "execute_result"
    }
   ],
   "source": [
    "decode_review(train_data[0])"
   ]
  },
  {
   "cell_type": "markdown",
   "metadata": {},
   "source": [
    "## convert to tensor\n",
    "- 리뷰-정수 배열-는 신경망에 주입하기 전에 텐서로 변환되어야 합니다.\n",
    "- 정수 배열의 길이가 모두 같도록 패딩(padding)을 추가해 max_length * num_reviews 크기의 정수 텐서를 만듭니다. 이런 형태의 텐서를 다룰 수 있는 임베딩(embedding) 층을 신경망의 첫 번째 층으로 사용할 수 있습니다."
   ]
  },
  {
   "cell_type": "code",
   "execution_count": 17,
   "metadata": {
    "ExecuteTime": {
     "end_time": "2020-08-16T14:06:13.701079Z",
     "start_time": "2020-08-16T14:06:12.836206Z"
    }
   },
   "outputs": [],
   "source": [
    "train_data = keras.preprocessing.sequence.pad_sequences(\n",
    "    train_data,\n",
    "    value=word_index[\"<PAD>\"],\n",
    "    padding=\"post\",\n",
    "    maxlen=256\n",
    ")\n",
    "\n",
    "test_data = keras.preprocessing.sequence.pad_sequences(\n",
    "    test_data,\n",
    "    value=word_index[\"<PAD>\"],\n",
    "    padding=\"post\",\n",
    "    maxlen=256\n",
    ")"
   ]
  },
  {
   "cell_type": "code",
   "execution_count": 20,
   "metadata": {
    "ExecuteTime": {
     "end_time": "2020-08-16T14:07:02.236789Z",
     "start_time": "2020-08-16T14:07:02.232372Z"
    }
   },
   "outputs": [
    {
     "data": {
      "text/plain": [
       "(256, array([   1,   14,   22,   16,   43,  530,  973, 1622, 1385,   65,  458,\n",
       "        4468,   66, 3941,    4,  173,   36,  256,    5,   25,  100,   43,\n",
       "         838,  112,   50,  670,    2,    9,   35,  480,  284,    5,  150,\n",
       "           4,  172,  112,  167,    2,  336,  385,   39,    4,  172, 4536,\n",
       "        1111,   17,  546,   38,   13,  447,    4,  192,   50,   16,    6,\n",
       "         147, 2025,   19,   14,   22,    4, 1920, 4613,  469,    4,   22,\n",
       "          71,   87,   12,   16,   43,  530,   38,   76,   15,   13, 1247,\n",
       "           4,   22,   17,  515,   17,   12,   16,  626,   18,    2,    5,\n",
       "          62,  386,   12,    8,  316,    8,  106,    5,    4, 2223, 5244,\n",
       "          16,  480,   66, 3785,   33,    4,  130,   12,   16,   38,  619,\n",
       "           5,   25,  124,   51,   36,  135,   48,   25, 1415,   33,    6,\n",
       "          22,   12,  215,   28,   77,   52,    5,   14,  407,   16,   82,\n",
       "           2,    8,    4,  107,  117, 5952,   15,  256,    4,    2,    7,\n",
       "        3766,    5,  723,   36,   71,   43,  530,  476,   26,  400,  317,\n",
       "          46,    7,    4,    2, 1029,   13,  104,   88,    4,  381,   15,\n",
       "         297,   98,   32, 2071,   56,   26,  141,    6,  194, 7486,   18,\n",
       "           4,  226,   22,   21,  134,  476,   26,  480,    5,  144,   30,\n",
       "        5535,   18,   51,   36,   28,  224,   92,   25,  104,    4,  226,\n",
       "          65,   16,   38, 1334,   88,   12,   16,  283,    5,   16, 4472,\n",
       "         113,  103,   32,   15,   16, 5345,   19,  178,   32,    0,    0,\n",
       "           0,    0,    0,    0,    0,    0,    0,    0,    0,    0,    0,\n",
       "           0,    0,    0,    0,    0,    0,    0,    0,    0,    0,    0,\n",
       "           0,    0,    0,    0,    0,    0,    0,    0,    0,    0,    0,\n",
       "           0,    0,    0], dtype=int32))"
      ]
     },
     "execution_count": 20,
     "metadata": {},
     "output_type": "execute_result"
    }
   ],
   "source": [
    "len(train_data[0]), train_data[0]"
   ]
  },
  {
   "cell_type": "markdown",
   "metadata": {},
   "source": [
    "## Define model"
   ]
  },
  {
   "cell_type": "code",
   "execution_count": 21,
   "metadata": {
    "ExecuteTime": {
     "end_time": "2020-08-16T14:08:06.770057Z",
     "start_time": "2020-08-16T14:08:06.767866Z"
    }
   },
   "outputs": [],
   "source": [
    "vocab_size = 10000"
   ]
  },
  {
   "cell_type": "code",
   "execution_count": 22,
   "metadata": {
    "ExecuteTime": {
     "end_time": "2020-08-17T04:27:57.362452Z",
     "start_time": "2020-08-17T04:27:57.007606Z"
    }
   },
   "outputs": [
    {
     "name": "stdout",
     "output_type": "stream",
     "text": [
      "Model: \"sequential\"\n",
      "_________________________________________________________________\n",
      "Layer (type)                 Output Shape              Param #   \n",
      "=================================================================\n",
      "embedding (Embedding)        (None, None, 16)          160000    \n",
      "_________________________________________________________________\n",
      "global_average_pooling1d (Gl (None, 16)                0         \n",
      "_________________________________________________________________\n",
      "dense (Dense)                (None, 16)                272       \n",
      "_________________________________________________________________\n",
      "dense_1 (Dense)              (None, 1)                 17        \n",
      "=================================================================\n",
      "Total params: 160,289\n",
      "Trainable params: 160,289\n",
      "Non-trainable params: 0\n",
      "_________________________________________________________________\n"
     ]
    }
   ],
   "source": [
    "model = keras.Sequential()\n",
    "model.add(keras.layers.Embedding(vocab_size, 16, input_shape=(None,)))\n",
    "model.add(keras.layers.GlobalAveragePooling1D())\n",
    "model.add(keras.layers.Dense(16, activation=\"relu\"))\n",
    "model.add(keras.layers.Dense(1, activation=\"sigmoid\"))\n",
    "model.summary()"
   ]
  },
  {
   "cell_type": "code",
   "execution_count": 23,
   "metadata": {
    "ExecuteTime": {
     "end_time": "2020-08-17T04:29:34.641163Z",
     "start_time": "2020-08-17T04:29:34.568592Z"
    }
   },
   "outputs": [],
   "source": [
    "model.compile(\n",
    "    optimizer=\"adam\",\n",
    "    loss=\"binary_crossentropy\",\n",
    "    metrics=[\"accuracy\"]\n",
    ")"
   ]
  },
  {
   "cell_type": "code",
   "execution_count": 25,
   "metadata": {
    "ExecuteTime": {
     "end_time": "2020-08-17T04:37:05.502592Z",
     "start_time": "2020-08-17T04:37:05.497970Z"
    }
   },
   "outputs": [
    {
     "data": {
      "text/plain": [
       "(5000, 20000, 5000, 20000)"
      ]
     },
     "execution_count": 25,
     "metadata": {},
     "output_type": "execute_result"
    }
   ],
   "source": [
    "x_val = train_data[:5000]\n",
    "partial_x_train = train_data[5000:]\n",
    "\n",
    "y_val = train_labels[:5000]\n",
    "partial_y_labels = train_labels[5000:]\n",
    "len(x_val), len(partial_x_train), len(y_val), len(partial_y_labels)"
   ]
  },
  {
   "cell_type": "markdown",
   "metadata": {},
   "source": [
    "## Train"
   ]
  },
  {
   "cell_type": "code",
   "execution_count": 26,
   "metadata": {
    "ExecuteTime": {
     "end_time": "2020-08-17T04:38:31.281329Z",
     "start_time": "2020-08-17T04:38:17.769855Z"
    },
    "scrolled": true
   },
   "outputs": [
    {
     "name": "stdout",
     "output_type": "stream",
     "text": [
      "Train on 20000 samples, validate on 5000 samples\n",
      "Epoch 1/40\n",
      "20000/20000 [==============================] - 1s 59us/sample - loss: 0.6915 - accuracy: 0.6245 - val_loss: 0.6889 - val_accuracy: 0.6224\n",
      "Epoch 2/40\n",
      "20000/20000 [==============================] - 0s 17us/sample - loss: 0.6825 - accuracy: 0.7228 - val_loss: 0.6750 - val_accuracy: 0.7126\n",
      "Epoch 3/40\n",
      "20000/20000 [==============================] - 0s 16us/sample - loss: 0.6592 - accuracy: 0.7612 - val_loss: 0.6440 - val_accuracy: 0.7728\n",
      "Epoch 4/40\n",
      "20000/20000 [==============================] - 0s 15us/sample - loss: 0.6170 - accuracy: 0.7940 - val_loss: 0.5968 - val_accuracy: 0.7942\n",
      "Epoch 5/40\n",
      "20000/20000 [==============================] - 0s 15us/sample - loss: 0.5596 - accuracy: 0.8170 - val_loss: 0.5386 - val_accuracy: 0.8126\n",
      "Epoch 6/40\n",
      "20000/20000 [==============================] - 0s 15us/sample - loss: 0.4952 - accuracy: 0.8388 - val_loss: 0.4807 - val_accuracy: 0.8306\n",
      "Epoch 7/40\n",
      "20000/20000 [==============================] - 0s 14us/sample - loss: 0.4356 - accuracy: 0.8578 - val_loss: 0.4322 - val_accuracy: 0.8432\n",
      "Epoch 8/40\n",
      "20000/20000 [==============================] - 0s 14us/sample - loss: 0.3872 - accuracy: 0.8721 - val_loss: 0.3953 - val_accuracy: 0.8542\n",
      "Epoch 9/40\n",
      "20000/20000 [==============================] - 0s 15us/sample - loss: 0.3487 - accuracy: 0.8827 - val_loss: 0.3660 - val_accuracy: 0.8608\n",
      "Epoch 10/40\n",
      "20000/20000 [==============================] - 0s 15us/sample - loss: 0.3187 - accuracy: 0.8898 - val_loss: 0.3462 - val_accuracy: 0.8668\n",
      "Epoch 11/40\n",
      "20000/20000 [==============================] - 0s 15us/sample - loss: 0.2956 - accuracy: 0.8957 - val_loss: 0.3302 - val_accuracy: 0.8710\n",
      "Epoch 12/40\n",
      "20000/20000 [==============================] - 0s 14us/sample - loss: 0.2751 - accuracy: 0.9014 - val_loss: 0.3179 - val_accuracy: 0.8746\n",
      "Epoch 13/40\n",
      "20000/20000 [==============================] - 0s 15us/sample - loss: 0.2596 - accuracy: 0.9067 - val_loss: 0.3090 - val_accuracy: 0.8786\n",
      "Epoch 14/40\n",
      "20000/20000 [==============================] - 0s 16us/sample - loss: 0.2441 - accuracy: 0.9125 - val_loss: 0.3012 - val_accuracy: 0.8818\n",
      "Epoch 15/40\n",
      "20000/20000 [==============================] - 0s 15us/sample - loss: 0.2311 - accuracy: 0.9179 - val_loss: 0.2960 - val_accuracy: 0.8832\n",
      "Epoch 16/40\n",
      "20000/20000 [==============================] - 0s 15us/sample - loss: 0.2198 - accuracy: 0.9222 - val_loss: 0.2903 - val_accuracy: 0.8860\n",
      "Epoch 17/40\n",
      "20000/20000 [==============================] - 0s 15us/sample - loss: 0.2093 - accuracy: 0.9248 - val_loss: 0.2869 - val_accuracy: 0.8888\n",
      "Epoch 18/40\n",
      "20000/20000 [==============================] - 0s 15us/sample - loss: 0.1997 - accuracy: 0.9296 - val_loss: 0.2835 - val_accuracy: 0.8864\n",
      "Epoch 19/40\n",
      "20000/20000 [==============================] - 0s 15us/sample - loss: 0.1911 - accuracy: 0.9334 - val_loss: 0.2816 - val_accuracy: 0.8876\n",
      "Epoch 20/40\n",
      "20000/20000 [==============================] - 0s 15us/sample - loss: 0.1831 - accuracy: 0.9359 - val_loss: 0.2800 - val_accuracy: 0.8876\n",
      "Epoch 21/40\n",
      "20000/20000 [==============================] - 0s 15us/sample - loss: 0.1755 - accuracy: 0.9400 - val_loss: 0.2787 - val_accuracy: 0.8912\n",
      "Epoch 22/40\n",
      "20000/20000 [==============================] - 0s 15us/sample - loss: 0.1679 - accuracy: 0.9441 - val_loss: 0.2786 - val_accuracy: 0.8908\n",
      "Epoch 23/40\n",
      "20000/20000 [==============================] - 0s 15us/sample - loss: 0.1619 - accuracy: 0.9449 - val_loss: 0.2780 - val_accuracy: 0.8916\n",
      "Epoch 24/40\n",
      "20000/20000 [==============================] - 0s 14us/sample - loss: 0.1555 - accuracy: 0.9478 - val_loss: 0.2795 - val_accuracy: 0.8908\n",
      "Epoch 25/40\n",
      "20000/20000 [==============================] - 0s 15us/sample - loss: 0.1501 - accuracy: 0.9503 - val_loss: 0.2802 - val_accuracy: 0.8896\n",
      "Epoch 26/40\n",
      "20000/20000 [==============================] - 0s 14us/sample - loss: 0.1446 - accuracy: 0.9525 - val_loss: 0.2804 - val_accuracy: 0.8912\n",
      "Epoch 27/40\n",
      "20000/20000 [==============================] - 0s 15us/sample - loss: 0.1394 - accuracy: 0.9546 - val_loss: 0.2837 - val_accuracy: 0.8886\n",
      "Epoch 28/40\n",
      "20000/20000 [==============================] - 0s 15us/sample - loss: 0.1346 - accuracy: 0.9564 - val_loss: 0.2836 - val_accuracy: 0.8894\n",
      "Epoch 29/40\n",
      "20000/20000 [==============================] - 0s 15us/sample - loss: 0.1299 - accuracy: 0.9587 - val_loss: 0.2856 - val_accuracy: 0.8888\n",
      "Epoch 30/40\n",
      "20000/20000 [==============================] - 0s 15us/sample - loss: 0.1250 - accuracy: 0.9604 - val_loss: 0.2877 - val_accuracy: 0.8912\n",
      "Epoch 31/40\n",
      "20000/20000 [==============================] - 0s 16us/sample - loss: 0.1210 - accuracy: 0.9632 - val_loss: 0.2900 - val_accuracy: 0.8898\n",
      "Epoch 32/40\n",
      "20000/20000 [==============================] - 0s 16us/sample - loss: 0.1167 - accuracy: 0.9639 - val_loss: 0.2938 - val_accuracy: 0.8904\n",
      "Epoch 33/40\n",
      "20000/20000 [==============================] - 0s 16us/sample - loss: 0.1129 - accuracy: 0.9655 - val_loss: 0.2982 - val_accuracy: 0.8888\n",
      "Epoch 34/40\n",
      "20000/20000 [==============================] - 0s 16us/sample - loss: 0.1100 - accuracy: 0.9667 - val_loss: 0.3002 - val_accuracy: 0.8880\n",
      "Epoch 35/40\n",
      "20000/20000 [==============================] - 0s 15us/sample - loss: 0.1055 - accuracy: 0.9683 - val_loss: 0.3022 - val_accuracy: 0.8892\n",
      "Epoch 36/40\n",
      "20000/20000 [==============================] - 0s 15us/sample - loss: 0.1018 - accuracy: 0.9704 - val_loss: 0.3059 - val_accuracy: 0.8884\n",
      "Epoch 37/40\n",
      "20000/20000 [==============================] - 0s 16us/sample - loss: 0.0984 - accuracy: 0.9708 - val_loss: 0.3088 - val_accuracy: 0.8880\n",
      "Epoch 38/40\n",
      "20000/20000 [==============================] - 0s 15us/sample - loss: 0.0949 - accuracy: 0.9727 - val_loss: 0.3130 - val_accuracy: 0.8890\n",
      "Epoch 39/40\n",
      "20000/20000 [==============================] - 0s 15us/sample - loss: 0.0918 - accuracy: 0.9739 - val_loss: 0.3150 - val_accuracy: 0.8870\n",
      "Epoch 40/40\n",
      "20000/20000 [==============================] - 0s 15us/sample - loss: 0.0884 - accuracy: 0.9753 - val_loss: 0.3202 - val_accuracy: 0.8866\n"
     ]
    }
   ],
   "source": [
    "history = model.fit(\n",
    "    partial_x_train,\n",
    "    partial_y_labels,\n",
    "    epochs=40,\n",
    "    batch_size=512,\n",
    "    validation_data=(x_val, y_val),\n",
    "    verbose=1\n",
    ")"
   ]
  },
  {
   "cell_type": "markdown",
   "metadata": {},
   "source": [
    "## Evaluation"
   ]
  },
  {
   "cell_type": "code",
   "execution_count": 27,
   "metadata": {
    "ExecuteTime": {
     "end_time": "2020-08-17T04:38:51.773806Z",
     "start_time": "2020-08-17T04:38:51.280918Z"
    }
   },
   "outputs": [
    {
     "name": "stdout",
     "output_type": "stream",
     "text": [
      "25000/1 - 0s - loss: 0.3546 - accuracy: 0.8714\n",
      "[0.35241686128139493, 0.8714]\n"
     ]
    }
   ],
   "source": [
    "results = model.evaluate(test_data, test_labels, verbose=2)\n",
    "print(results)"
   ]
  },
  {
   "cell_type": "markdown",
   "metadata": {},
   "source": [
    "## Visualization"
   ]
  },
  {
   "cell_type": "code",
   "execution_count": 28,
   "metadata": {
    "ExecuteTime": {
     "end_time": "2020-08-17T04:51:47.640288Z",
     "start_time": "2020-08-17T04:51:47.636748Z"
    }
   },
   "outputs": [
    {
     "data": {
      "text/plain": [
       "dict_keys(['loss', 'accuracy', 'val_loss', 'val_accuracy'])"
      ]
     },
     "execution_count": 28,
     "metadata": {},
     "output_type": "execute_result"
    }
   ],
   "source": [
    "history_dict = history.history\n",
    "history_dict.keys()"
   ]
  },
  {
   "cell_type": "code",
   "execution_count": 29,
   "metadata": {
    "ExecuteTime": {
     "end_time": "2020-08-17T04:52:09.744607Z",
     "start_time": "2020-08-17T04:52:09.384723Z"
    }
   },
   "outputs": [],
   "source": [
    "import matplotlib.pyplot as plt"
   ]
  },
  {
   "cell_type": "code",
   "execution_count": 31,
   "metadata": {
    "ExecuteTime": {
     "end_time": "2020-08-17T04:52:59.455475Z",
     "start_time": "2020-08-17T04:52:59.452429Z"
    }
   },
   "outputs": [],
   "source": [
    "acc = history_dict[\"accuracy\"]\n",
    "val_acc = history_dict[\"val_accuracy\"]\n",
    "loss = history_dict[\"loss\"]\n",
    "val_loss = history_dict[\"val_loss\"]\n",
    "\n",
    "epochs = range(1, len(acc) + 1)"
   ]
  },
  {
   "cell_type": "code",
   "execution_count": 32,
   "metadata": {
    "ExecuteTime": {
     "end_time": "2020-08-17T04:53:20.384774Z",
     "start_time": "2020-08-17T04:53:20.178322Z"
    }
   },
   "outputs": [
    {
     "data": {
      "image/png": "[encoded data removed]",
      "text/plain": [
       "<Figure size 432x288 with 1 Axes>"
      ]
     },
     "metadata": {
      "needs_background": "light"
     },
     "output_type": "display_data"
    }
   ],
   "source": [
    "plt.plot(epochs, loss, 'bo', label='Training loss')\n",
    "plt.plot(epochs, val_loss, 'b', label='Validation loss')\n",
    "plt.title('Training and validation loss')\n",
    "plt.xlabel('Epochs')\n",
    "plt.ylabel('Loss')\n",
    "plt.legend()\n",
    "\n",
    "plt.show()"
   ]
  },
  {
   "cell_type": "code",
   "execution_count": 34,
   "metadata": {
    "ExecuteTime": {
     "end_time": "2020-08-17T04:53:34.938068Z",
     "start_time": "2020-08-17T04:53:34.933516Z"
    }
   },
   "outputs": [
    {
     "data": {
      "text/plain": [
       "<Figure size 432x288 with 0 Axes>"
      ]
     },
     "metadata": {},
     "output_type": "display_data"
    }
   ],
   "source": [
    "plt.clf()"
   ]
  },
  {
   "cell_type": "code",
   "execution_count": 35,
   "metadata": {
    "ExecuteTime": {
     "end_time": "2020-08-17T04:53:35.245504Z",
     "start_time": "2020-08-17T04:53:35.092973Z"
    }
   },
   "outputs": [
    {
     "data": {
      "image/png": "[encoded data removed]",
      "text/plain": [
       "<Figure size 432x288 with 1 Axes>"
      ]
     },
     "metadata": {
      "needs_background": "light"
     },
     "output_type": "display_data"
    }
   ],
   "source": [
    "plt.plot(epochs, acc, 'bo', label='Training acc')\n",
    "plt.plot(epochs, val_acc, 'b', label='Validation acc')\n",
    "plt.title('Training and validation accuracy')\n",
    "plt.xlabel('Epochs')\n",
    "plt.ylabel('Accuracy')\n",
    "plt.legend()\n",
    "\n",
    "plt.show()"
   ]
  },
  {
   "cell_type": "code",
   "execution_count": null,
   "metadata": {},
   "outputs": [],
   "source": []
  },
  {
   "cell_type": "code",
   "execution_count": null,
   "metadata": {},
   "outputs": [],
   "source": []
  }
 ],
 "metadata": {
  "kernelspec": {
   "display_name": "Python 3",
   "language": "python",
   "name": "python3"
  },
  "language_info": {
   "codemirror_mode": {
    "name": "ipython",
    "version": 3
   },
   "file_extension": ".py",
   "mimetype": "text/x-python",
   "name": "python",
   "nbconvert_exporter": "python",
   "pygments_lexer": "ipython3",
   "version": "3.7.3"
  },
  "toc": {
   "base_numbering": 1,
   "nav_menu": {},
   "number_sections": true,
   "sideBar": true,
   "skip_h1_title": false,
   "title_cell": "Table of Contents",
   "title_sidebar": "Contents",
   "toc_cell": false,
   "toc_position": {},
   "toc_section_display": true,
   "toc_window_display": false
  }
 },
 "nbformat": 4,
 "nbformat_minor": 2
}
