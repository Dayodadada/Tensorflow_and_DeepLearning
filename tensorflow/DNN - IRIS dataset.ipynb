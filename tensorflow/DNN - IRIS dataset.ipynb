{
 "cells": [
  {
   "cell_type": "markdown",
   "metadata": {},
   "source": [
    "# Import labraries"
   ]
  },
  {
   "cell_type": "code",
   "execution_count": 1,
   "metadata": {
    "ExecuteTime": {
     "end_time": "2020-08-05T13:22:46.116648Z",
     "start_time": "2020-08-05T13:22:45.056402Z"
    }
   },
   "outputs": [],
   "source": [
    "import math\n",
    "import matplotlib.pyplot as plt\n",
    "import numpy as np\n",
    "import pandas as pd\n",
    "\n",
    "from sklearn.datasets import load_iris"
   ]
  },
  {
   "cell_type": "code",
   "execution_count": 2,
   "metadata": {
    "ExecuteTime": {
     "end_time": "2020-08-05T13:22:48.125256Z",
     "start_time": "2020-08-05T13:22:46.119117Z"
    }
   },
   "outputs": [
    {
     "name": "stdout",
     "output_type": "stream",
     "text": [
      "WARNING:tensorflow:From /Users/user/anaconda3/lib/python3.7/site-packages/tensorflow_core/python/compat/v2_compat.py:65: disable_resource_variables (from tensorflow.python.ops.variable_scope) is deprecated and will be removed in a future version.\n",
      "Instructions for updating:\n",
      "non-resource variables are not supported in the long term\n"
     ]
    }
   ],
   "source": [
    "import tensorflow.compat.v1 as tf\n",
    "\n",
    "tf.disable_v2_behavior()"
   ]
  },
  {
   "cell_type": "markdown",
   "metadata": {},
   "source": [
    "# Load dataset"
   ]
  },
  {
   "cell_type": "code",
   "execution_count": 3,
   "metadata": {
    "ExecuteTime": {
     "end_time": "2020-08-05T13:22:48.134196Z",
     "start_time": "2020-08-05T13:22:48.127551Z"
    }
   },
   "outputs": [
    {
     "data": {
      "text/plain": [
       "dict_keys(['data', 'target', 'target_names', 'DESCR', 'feature_names', 'filename'])"
      ]
     },
     "execution_count": 3,
     "metadata": {},
     "output_type": "execute_result"
    }
   ],
   "source": [
    "data =load_iris()\n",
    "data.keys()"
   ]
  },
  {
   "cell_type": "code",
   "execution_count": 4,
   "metadata": {
    "ExecuteTime": {
     "end_time": "2020-08-05T13:22:48.213348Z",
     "start_time": "2020-08-05T13:22:48.135832Z"
    }
   },
   "outputs": [
    {
     "name": "stdout",
     "output_type": "stream",
     "text": [
      "(150, 5)\n"
     ]
    },
    {
     "data": {
      "text/html": [
       "<div>\n",
       "<style scoped>\n",
       "    .dataframe tbody tr th:only-of-type {\n",
       "        vertical-align: middle;\n",
       "    }\n",
       "\n",
       "    .dataframe tbody tr th {\n",
       "        vertical-align: top;\n",
       "    }\n",
       "\n",
       "    .dataframe thead th {\n",
       "        text-align: right;\n",
       "    }\n",
       "</style>\n",
       "<table border=\"1\" class=\"dataframe\">\n",
       "  <thead>\n",
       "    <tr style=\"text-align: right;\">\n",
       "      <th></th>\n",
       "      <th>sepal length (cm)</th>\n",
       "      <th>sepal width (cm)</th>\n",
       "      <th>petal length (cm)</th>\n",
       "      <th>petal width (cm)</th>\n",
       "      <th>label</th>\n",
       "    </tr>\n",
       "  </thead>\n",
       "  <tbody>\n",
       "    <tr>\n",
       "      <th>0</th>\n",
       "      <td>5.1</td>\n",
       "      <td>3.5</td>\n",
       "      <td>1.4</td>\n",
       "      <td>0.2</td>\n",
       "      <td>0</td>\n",
       "    </tr>\n",
       "    <tr>\n",
       "      <th>1</th>\n",
       "      <td>4.9</td>\n",
       "      <td>3.0</td>\n",
       "      <td>1.4</td>\n",
       "      <td>0.2</td>\n",
       "      <td>0</td>\n",
       "    </tr>\n",
       "    <tr>\n",
       "      <th>2</th>\n",
       "      <td>4.7</td>\n",
       "      <td>3.2</td>\n",
       "      <td>1.3</td>\n",
       "      <td>0.2</td>\n",
       "      <td>0</td>\n",
       "    </tr>\n",
       "    <tr>\n",
       "      <th>3</th>\n",
       "      <td>4.6</td>\n",
       "      <td>3.1</td>\n",
       "      <td>1.5</td>\n",
       "      <td>0.2</td>\n",
       "      <td>0</td>\n",
       "    </tr>\n",
       "    <tr>\n",
       "      <th>4</th>\n",
       "      <td>5.0</td>\n",
       "      <td>3.6</td>\n",
       "      <td>1.4</td>\n",
       "      <td>0.2</td>\n",
       "      <td>0</td>\n",
       "    </tr>\n",
       "  </tbody>\n",
       "</table>\n",
       "</div>"
      ],
      "text/plain": [
       "   sepal length (cm)  sepal width (cm)  petal length (cm)  petal width (cm)  \\\n",
       "0                5.1               3.5                1.4               0.2   \n",
       "1                4.9               3.0                1.4               0.2   \n",
       "2                4.7               3.2                1.3               0.2   \n",
       "3                4.6               3.1                1.5               0.2   \n",
       "4                5.0               3.6                1.4               0.2   \n",
       "\n",
       "   label  \n",
       "0      0  \n",
       "1      0  \n",
       "2      0  \n",
       "3      0  \n",
       "4      0  "
      ]
     },
     "execution_count": 4,
     "metadata": {},
     "output_type": "execute_result"
    }
   ],
   "source": [
    "df = pd.DataFrame({\n",
    "    data[\"feature_names\"][0]:[i[0] for i in data[\"data\"]],\n",
    "    data[\"feature_names\"][1]:[i[1] for i in data[\"data\"]],\n",
    "    data[\"feature_names\"][2]:[i[2] for i in data[\"data\"]],\n",
    "    data[\"feature_names\"][3]:[i[3] for i in data[\"data\"]],\n",
    "    \"label\":data[\"target\"]\n",
    "})\n",
    "print(df.shape)\n",
    "df.head()"
   ]
  },
  {
   "cell_type": "code",
   "execution_count": 5,
   "metadata": {
    "ExecuteTime": {
     "end_time": "2020-08-05T13:22:48.219945Z",
     "start_time": "2020-08-05T13:22:48.215861Z"
    },
    "scrolled": true
   },
   "outputs": [],
   "source": [
    "df = df.sample(frac=1)"
   ]
  },
  {
   "cell_type": "code",
   "execution_count": 6,
   "metadata": {
    "ExecuteTime": {
     "end_time": "2020-08-05T13:22:48.228621Z",
     "start_time": "2020-08-05T13:22:48.222243Z"
    }
   },
   "outputs": [
    {
     "data": {
      "text/plain": [
       "((150, 4), (150, 1))"
      ]
     },
     "execution_count": 6,
     "metadata": {},
     "output_type": "execute_result"
    }
   ],
   "source": [
    "features = df[['sepal length (cm)', 'sepal width (cm)', 'petal length (cm)', 'petal width (cm)']].values\n",
    "label = df[[\"label\"]].values\n",
    "features.shape, label.shape"
   ]
  },
  {
   "cell_type": "markdown",
   "metadata": {},
   "source": [
    "## visualization"
   ]
  },
  {
   "cell_type": "code",
   "execution_count": 7,
   "metadata": {
    "ExecuteTime": {
     "end_time": "2020-08-05T13:22:48.372030Z",
     "start_time": "2020-08-05T13:22:48.230531Z"
    }
   },
   "outputs": [
    {
     "data": {
      "image/png": "[encoded data removed]",
      "text/plain": [
       "<Figure size 432x288 with 1 Axes>"
      ]
     },
     "metadata": {
      "needs_background": "light"
     },
     "output_type": "display_data"
    }
   ],
   "source": [
    "for t in range(3):\n",
    "    if t == 0:\n",
    "        c='r'\n",
    "        marker='>'\n",
    "    elif t == 1:\n",
    "        c='g'\n",
    "        marker='o'\n",
    "    elif t == 2:\n",
    "        c='b'\n",
    "        marker='x'\n",
    "    plt.scatter(df[df[\"label\"] == t][\"sepal length (cm)\"].values,\n",
    "                df[df[\"label\"] == t][\"sepal width (cm)\"].values,\n",
    "                marker = marker,\n",
    "                c = c)\n",
    "    plt.xlabel(\"sepal length\")\n",
    "    plt.ylabel(\"sepal width\")\n",
    "plt.show()"
   ]
  },
  {
   "cell_type": "code",
   "execution_count": 8,
   "metadata": {
    "ExecuteTime": {
     "end_time": "2020-08-05T13:22:48.533019Z",
     "start_time": "2020-08-05T13:22:48.373327Z"
    }
   },
   "outputs": [
    {
     "data": {
      "image/png": "[encoded data removed]",
      "text/plain": [
       "<Figure size 432x288 with 1 Axes>"
      ]
     },
     "metadata": {
      "needs_background": "light"
     },
     "output_type": "display_data"
    }
   ],
   "source": [
    "for t in range(3):\n",
    "    if t == 0:\n",
    "        c='r'\n",
    "        marker='>'\n",
    "    elif t == 1:\n",
    "        c='g'\n",
    "        marker='o'\n",
    "    elif t == 2:\n",
    "        c='b'\n",
    "        marker='x'\n",
    "    plt.scatter(df[df[\"label\"] == t][\"petal length (cm)\"].values,\n",
    "                df[df[\"label\"] == t][\"petal width (cm)\"].values,\n",
    "                marker = marker,\n",
    "                c = c)\n",
    "    plt.xlabel(\"petal length\")\n",
    "    plt.ylabel(\"petal width\")\n",
    "plt.show()"
   ]
  },
  {
   "cell_type": "markdown",
   "metadata": {},
   "source": [
    "# single layer model"
   ]
  },
  {
   "cell_type": "markdown",
   "metadata": {},
   "source": [
    "## Define model"
   ]
  },
  {
   "cell_type": "code",
   "execution_count": 9,
   "metadata": {
    "ExecuteTime": {
     "end_time": "2020-08-05T13:22:48.540100Z",
     "start_time": "2020-08-05T13:22:48.534823Z"
    }
   },
   "outputs": [],
   "source": [
    "X = tf.placeholder(tf.float32, name=\"features\")\n",
    "Y = tf.placeholder(tf.float32, name=\"label\")"
   ]
  },
  {
   "cell_type": "code",
   "execution_count": 10,
   "metadata": {
    "ExecuteTime": {
     "end_time": "2020-08-05T13:22:48.560421Z",
     "start_time": "2020-08-05T13:22:48.542020Z"
    }
   },
   "outputs": [],
   "source": [
    "W1 = tf.Variable(tf.random_normal([4, 3]))\n",
    "b1 = tf.Variable(tf.random_normal([3]))"
   ]
  },
  {
   "cell_type": "code",
   "execution_count": 11,
   "metadata": {
    "ExecuteTime": {
     "end_time": "2020-08-05T13:22:48.573198Z",
     "start_time": "2020-08-05T13:22:48.564190Z"
    }
   },
   "outputs": [],
   "source": [
    "L1 = tf.add(tf.matmul(X, W1), b1)\n",
    "L1 = tf.nn.relu(L1)\n",
    "\n",
    "model = tf.nn.softmax(L1)"
   ]
  },
  {
   "cell_type": "code",
   "execution_count": 12,
   "metadata": {
    "ExecuteTime": {
     "end_time": "2020-08-05T13:22:48.647847Z",
     "start_time": "2020-08-05T13:22:48.577492Z"
    }
   },
   "outputs": [],
   "source": [
    "cost = tf.reduce_mean(-tf.reduce_sum(Y*tf.log(model), axis=1))\n",
    "optimizer = tf.train.GradientDescentOptimizer(learning_rate=0.001)\n",
    "training = optimizer.minimize(cost)"
   ]
  },
  {
   "cell_type": "code",
   "execution_count": 13,
   "metadata": {
    "ExecuteTime": {
     "end_time": "2020-08-05T13:22:48.653478Z",
     "start_time": "2020-08-05T13:22:48.649480Z"
    }
   },
   "outputs": [],
   "source": [
    "prediction = tf.argmax(model, axis=1)"
   ]
  },
  {
   "cell_type": "markdown",
   "metadata": {},
   "source": [
    "## Train"
   ]
  },
  {
   "cell_type": "code",
   "execution_count": 14,
   "metadata": {
    "ExecuteTime": {
     "end_time": "2020-08-05T13:22:51.777067Z",
     "start_time": "2020-08-05T13:22:48.654903Z"
    },
    "scrolled": true
   },
   "outputs": [
    {
     "name": "stdout",
     "output_type": "stream",
     "text": [
      "0 9.889186\n",
      "100 3.8517573\n",
      "200 3.330685\n",
      "300 3.305713\n",
      "400 3.3008106\n",
      "500 3.2988458\n",
      "600 3.2978897\n",
      "700 3.2972832\n",
      "800 3.296868\n",
      "900 3.2965825\n",
      "1000 3.2963836\n",
      "1100 3.2962427\n",
      "1200 3.296143\n",
      "1300 3.2960713\n",
      "1400 3.29602\n",
      "1500 3.2959828\n",
      "1600 3.295956\n",
      "1700 3.2959356\n",
      "1800 3.2959208\n",
      "1900 3.2959094\n",
      "2000 3.2959008\n",
      "2100 3.2958941\n",
      "2200 3.295889\n",
      "2300 3.2958846\n",
      "2400 3.295881\n",
      "2500 3.2958775\n",
      "2600 3.2958746\n",
      "2700 3.295872\n",
      "2800 3.29587\n",
      "2900 3.295868\n",
      "3000 3.295866\n",
      "3100 3.2958643\n",
      "3200 3.2958632\n",
      "3300 3.2958617\n",
      "3400 3.2958605\n",
      "3500 3.2958593\n",
      "3600 3.2958581\n",
      "3700 3.2958574\n",
      "3800 3.2958562\n",
      "3900 3.2958553\n",
      "4000 3.2958546\n",
      "4100 3.2958536\n",
      "4200 3.295853\n",
      "4300 3.2958522\n",
      "4400 3.2958517\n",
      "4500 3.295851\n",
      "4600 3.2958505\n",
      "4700 3.29585\n",
      "4800 3.295849\n",
      "4900 3.2958488\n",
      "5000 3.2958484\n",
      "5100 3.295848\n",
      "5200 3.2958474\n",
      "5300 3.295847\n",
      "5400 3.2958467\n",
      "5500 3.2958465\n",
      "5600 3.295846\n",
      "5700 3.2958455\n",
      "5800 3.295845\n",
      "5900 3.295845\n",
      "6000 3.2958446\n",
      "6100 3.2958443\n",
      "6200 3.2958438\n",
      "6300 3.2958436\n",
      "6400 3.2958436\n",
      "6500 3.2958431\n",
      "6600 3.295843\n",
      "6700 3.2958426\n",
      "6800 3.2958424\n",
      "6900 3.2958422\n",
      "7000 3.2958422\n",
      "7100 3.295842\n",
      "7200 3.2958417\n",
      "7300 3.2958415\n",
      "7400 3.2958415\n",
      "7500 3.2958412\n",
      "7600 3.295841\n",
      "7700 3.295841\n",
      "7800 3.2958407\n",
      "7900 3.2958407\n",
      "8000 3.2958405\n",
      "8100 3.2958403\n",
      "8200 3.2958403\n",
      "8300 3.29584\n",
      "8400 3.2958398\n",
      "8500 3.2958398\n",
      "8600 3.2958398\n",
      "8700 3.2958395\n",
      "8800 3.2958395\n",
      "8900 3.2958395\n",
      "9000 3.2958395\n",
      "9100 3.2958393\n",
      "9200 3.2958393\n",
      "9300 3.295839\n",
      "9400 3.295839\n",
      "9500 3.295839\n",
      "9600 3.2958388\n",
      "9700 3.2958388\n",
      "9800 3.2958386\n",
      "9900 3.2958386\n"
     ]
    }
   ],
   "source": [
    "sess = tf.Session()\n",
    "sess.run(tf.global_variables_initializer())\n",
    "\n",
    "for step in range(10000):\n",
    "    none, _cost = sess.run(\n",
    "        [training, cost], \n",
    "        feed_dict={\n",
    "            X:features,\n",
    "            Y:label,\n",
    "        })\n",
    "    if step % 100 == 0:\n",
    "        print(step, _cost)"
   ]
  },
  {
   "cell_type": "markdown",
   "metadata": {},
   "source": [
    "## Evaluate"
   ]
  },
  {
   "cell_type": "code",
   "execution_count": 15,
   "metadata": {
    "ExecuteTime": {
     "end_time": "2020-08-05T13:22:51.786670Z",
     "start_time": "2020-08-05T13:22:51.778748Z"
    }
   },
   "outputs": [],
   "source": [
    "is_correct = tf.equal(prediction, tf.cast(Y, tf.int64))\n",
    "accuracy = tf.reduce_mean(tf.cast(is_correct, tf.float32))"
   ]
  },
  {
   "cell_type": "code",
   "execution_count": 16,
   "metadata": {
    "ExecuteTime": {
     "end_time": "2020-08-05T13:22:51.803765Z",
     "start_time": "2020-08-05T13:22:51.788026Z"
    }
   },
   "outputs": [
    {
     "name": "stdout",
     "output_type": "stream",
     "text": [
      "(실제값, 예측값): [(0, 2), (1, 0), (2, 0), (0, 2), (1, 0), (2, 0), (1, 2), (2, 0), (1, 0), (1, 0), (1, 0), (1, 0), (0, 2), (2, 0), (1, 0), (0, 2), (1, 0), (2, 0), (2, 0), (1, 0), (1, 0), (2, 0), (1, 0), (1, 0), (2, 0), (2, 0), (2, 0), (0, 2), (0, 2), (2, 0), (0, 2), (1, 0), (2, 0), (1, 0), (2, 0), (0, 2), (2, 0), (1, 0), (1, 0), (2, 0), (1, 0), (2, 0), (2, 0), (1, 0), (2, 0), (1, 0), (0, 2), (2, 0), (0, 2), (2, 0), (0, 2), (2, 0), (2, 0), (0, 2), (2, 0), (0, 2), (0, 2), (1, 0), (0, 2), (1, 0), (2, 0), (0, 2), (1, 0), (0, 2), (0, 2), (2, 0), (1, 0), (0, 2), (2, 0), (2, 0), (1, 0), (2, 0), (1, 0), (1, 0), (0, 2), (2, 0), (0, 2), (0, 2), (0, 2), (0, 2), (1, 0), (1, 0), (2, 0), (2, 0), (0, 2), (1, 0), (2, 0), (0, 2), (1, 0), (1, 0), (1, 0), (1, 0), (0, 2), (1, 0), (2, 0), (0, 2), (2, 0), (1, 0), (2, 0), (0, 2), (2, 0), (2, 0), (0, 2), (1, 0), (1, 0), (0, 2), (0, 2), (2, 0), (2, 0), (2, 0), (2, 0), (1, 0), (1, 0), (1, 0), (0, 2), (0, 2), (0, 2), (2, 0), (2, 0), (1, 0), (2, 0), (0, 2), (0, 2), (0, 2), (1, 0), (2, 0), (0, 2), (1, 0), (2, 0), (0, 2), (0, 2), (1, 0), (0, 2), (0, 2), (1, 0), (0, 2), (2, 0), (0, 2), (0, 2), (0, 2), (1, 0), (2, 0), (0, 2), (0, 2), (0, 2), (2, 0), (1, 0), (1, 0), (2, 0), (1, 0)]\n",
      "정확도: 0.3333333432674408\n"
     ]
    }
   ],
   "source": [
    "_prediction, _accuracy = sess.run([prediction, accuracy], feed_dict={\n",
    "    X:features,\n",
    "    Y:label\n",
    "})\n",
    "y_array = label.reshape(150)\n",
    "print(f\"(실제값, 예측값): {[(i,j) for i, j in zip(y_array, _prediction)]}\")\n",
    "print(f\"정확도: {_accuracy}\")"
   ]
  },
  {
   "cell_type": "markdown",
   "metadata": {},
   "source": [
    "# deep neural network model"
   ]
  },
  {
   "cell_type": "markdown",
   "metadata": {},
   "source": [
    "## Define model"
   ]
  },
  {
   "cell_type": "code",
   "execution_count": 22,
   "metadata": {
    "ExecuteTime": {
     "end_time": "2020-08-05T13:23:10.153337Z",
     "start_time": "2020-08-05T13:23:10.121762Z"
    }
   },
   "outputs": [],
   "source": [
    "X = tf.placeholder(tf.float32, name=\"features\")\n",
    "Y = tf.placeholder(tf.float32, name=\"label\")\n",
    "\n",
    "W1 = tf.Variable(tf.random_normal([4, 32]))\n",
    "b1 = tf.Variable(tf.random_normal([32]))\n",
    "\n",
    "W2 = tf.Variable(tf.random_normal([32, 3]))\n",
    "b2 = tf.Variable(tf.random_normal([3]))\n",
    "\n",
    "L1 = tf.add(tf.matmul(X, W1), b1)\n",
    "L1 = tf.nn.relu(L1)\n",
    "L2 = tf.add(tf.matmul(L1, W2), b2)\n",
    "L2 = tf.nn.relu(L2)\n",
    "\n",
    "model = tf.nn.softmax(L2)"
   ]
  },
  {
   "cell_type": "code",
   "execution_count": 23,
   "metadata": {
    "ExecuteTime": {
     "end_time": "2020-08-05T13:23:10.522480Z",
     "start_time": "2020-08-05T13:23:10.435749Z"
    }
   },
   "outputs": [],
   "source": [
    "cost = tf.reduce_mean(-tf.reduce_sum(Y * tf.log(model), axis=1))\n",
    "optimizer = tf.train.GradientDescentOptimizer(learning_rate=0.001)\n",
    "training = optimizer.minimize(cost)"
   ]
  },
  {
   "cell_type": "code",
   "execution_count": 24,
   "metadata": {
    "ExecuteTime": {
     "end_time": "2020-08-05T13:23:10.629132Z",
     "start_time": "2020-08-05T13:23:10.619742Z"
    }
   },
   "outputs": [],
   "source": [
    "prediction = tf.argmax(model, axis=1)\n",
    "is_correct = tf.equal(prediction, tf.cast(Y, tf.int64))\n",
    "accuracy = tf.reduce_mean(tf.cast(is_correct, tf.float32))"
   ]
  },
  {
   "cell_type": "markdown",
   "metadata": {},
   "source": [
    "## Train"
   ]
  },
  {
   "cell_type": "code",
   "execution_count": 25,
   "metadata": {
    "ExecuteTime": {
     "end_time": "2020-08-05T13:23:15.156171Z",
     "start_time": "2020-08-05T13:23:11.422453Z"
    },
    "scrolled": true
   },
   "outputs": [
    {
     "name": "stdout",
     "output_type": "stream",
     "text": [
      "0 65.20792\n",
      "100 5.2177944\n",
      "200 4.7460904\n",
      "300 4.4323907\n",
      "400 4.195255\n",
      "500 4.0131865\n",
      "600 3.8707724\n",
      "700 3.7602713\n",
      "800 3.6810234\n",
      "900 3.6218462\n",
      "1000 3.576136\n",
      "1100 3.5368755\n",
      "1200 3.5075943\n",
      "1300 3.4872625\n",
      "1400 3.472851\n",
      "1500 3.4612536\n",
      "1600 3.4515266\n",
      "1700 3.443216\n",
      "1800 3.43592\n",
      "1900 3.4294026\n",
      "2000 3.4235046\n",
      "2100 3.4175794\n",
      "2200 3.4121428\n",
      "2300 3.4068236\n",
      "2400 3.4019535\n",
      "2500 3.397546\n",
      "2600 3.3934562\n",
      "2700 3.389631\n",
      "2800 3.3859239\n",
      "2900 3.3823667\n",
      "3000 3.3784223\n",
      "3100 3.3749716\n",
      "3200 3.3717852\n",
      "3300 3.3687966\n",
      "3400 3.365976\n",
      "3500 3.3633053\n",
      "3600 3.3607683\n",
      "3700 3.3583531\n",
      "3800 3.3560505\n",
      "3900 3.3535976\n",
      "4000 3.3505266\n",
      "4100 3.347962\n",
      "4200 3.3457217\n",
      "4300 3.3436997\n",
      "4400 3.3417659\n",
      "4500 3.339937\n",
      "4600 3.3382187\n",
      "4700 3.3366394\n",
      "4800 3.3351612\n",
      "4900 3.3337588\n",
      "5000 3.3324091\n",
      "5100 3.3311095\n",
      "5200 3.3298583\n",
      "5300 3.3286529\n",
      "5400 3.3274915\n",
      "5500 3.3263724\n",
      "5600 3.3252945\n",
      "5700 3.3242555\n",
      "5800 3.3232536\n",
      "5900 3.322257\n",
      "6000 3.3212926\n",
      "6100 3.3203664\n",
      "6200 3.3194766\n",
      "6300 3.3186214\n",
      "6400 3.317799\n",
      "6500 3.317008\n",
      "6600 3.3162475\n",
      "6700 3.315515\n",
      "6800 3.3148108\n",
      "6900 3.314133\n",
      "7000 3.3134797\n",
      "7100 3.3128505\n",
      "7200 3.312245\n",
      "7300 3.3116615\n",
      "7400 3.3110998\n",
      "7500 3.310558\n",
      "7600 3.310036\n",
      "7700 3.309533\n",
      "7800 3.3090484\n",
      "7900 3.308581\n",
      "8000 3.308131\n",
      "8100 3.3076968\n",
      "8200 3.3072782\n",
      "8300 3.3068743\n",
      "8400 3.3064854\n",
      "8500 3.3061101\n",
      "8600 3.305748\n",
      "8700 3.3053997\n",
      "8800 3.3050632\n",
      "8900 3.304739\n",
      "9000 3.3044264\n",
      "9100 3.304125\n",
      "9200 3.3038342\n",
      "9300 3.3035536\n",
      "9400 3.303283\n",
      "9500 3.303022\n",
      "9600 3.30277\n",
      "9700 3.3025267\n",
      "9800 3.3022923\n",
      "9900 3.302066\n"
     ]
    }
   ],
   "source": [
    "sess = tf.Session()\n",
    "sess.run(tf.global_variables_initializer())\n",
    "\n",
    "for step in range(10000):\n",
    "    none, _cost = sess.run(\n",
    "        [training, cost], \n",
    "        feed_dict={\n",
    "            X: features,\n",
    "            Y: label\n",
    "        })\n",
    "    if step % 100 == 0:\n",
    "        print(step, _cost)\n"
   ]
  },
  {
   "cell_type": "markdown",
   "metadata": {},
   "source": [
    "## Evaluate"
   ]
  },
  {
   "cell_type": "code",
   "execution_count": 26,
   "metadata": {
    "ExecuteTime": {
     "end_time": "2020-08-05T13:23:15.179700Z",
     "start_time": "2020-08-05T13:23:15.157861Z"
    }
   },
   "outputs": [
    {
     "name": "stdout",
     "output_type": "stream",
     "text": [
      "(실제값, 예측값): [(0, 0), (1, 0), (2, 2), (0, 0), (1, 2), (2, 2), (1, 0), (2, 0), (1, 1), (1, 0), (1, 0), (1, 2), (0, 0), (2, 2), (1, 0), (0, 0), (1, 0), (2, 2), (2, 1), (1, 0), (1, 2), (2, 0), (1, 2), (1, 0), (2, 0), (2, 0), (2, 0), (0, 0), (0, 0), (2, 0), (0, 0), (1, 2), (2, 0), (1, 0), (2, 0), (0, 0), (2, 0), (1, 0), (1, 0), (2, 0), (1, 0), (2, 1), (2, 1), (1, 2), (2, 2), (1, 2), (0, 0), (2, 2), (0, 0), (2, 2), (0, 0), (2, 0), (2, 2), (0, 0), (2, 0), (0, 0), (0, 0), (1, 0), (0, 0), (1, 0), (2, 2), (0, 0), (1, 2), (0, 0), (0, 0), (2, 0), (1, 2), (0, 0), (2, 0), (2, 2), (1, 0), (2, 2), (1, 0), (1, 2), (0, 0), (2, 2), (0, 0), (0, 0), (0, 0), (0, 0), (1, 0), (1, 2), (2, 0), (2, 0), (0, 0), (1, 0), (2, 2), (0, 0), (1, 2), (1, 2), (1, 2), (1, 0), (0, 0), (1, 0), (2, 2), (0, 0), (2, 1), (1, 0), (2, 2), (0, 0), (2, 0), (2, 2), (0, 0), (1, 0), (1, 0), (0, 0), (0, 0), (2, 2), (2, 0), (2, 0), (2, 0), (1, 0), (1, 2), (1, 0), (0, 0), (0, 0), (0, 0), (2, 0), (2, 0), (1, 0), (2, 2), (0, 0), (0, 0), (0, 0), (1, 0), (2, 2), (0, 0), (1, 0), (2, 1), (0, 0), (0, 0), (1, 0), (0, 0), (0, 0), (1, 0), (0, 0), (2, 2), (0, 0), (0, 0), (0, 0), (1, 2), (2, 2), (0, 0), (0, 0), (0, 0), (2, 2), (1, 0), (1, 0), (2, 2), (1, 0)]\n",
      "정확도: 0.3333333432674408\n"
     ]
    }
   ],
   "source": [
    "_prediction, _accuracy = sess.run([prediction, accuracy], feed_dict={\n",
    "    X:features,\n",
    "    Y:label\n",
    "})\n",
    "y_array = label.reshape(150)\n",
    "print(f\"(실제값, 예측값): {[(i,j) for i, j in zip(y_array, _prediction)]}\")\n",
    "print(f\"정확도: {_accuracy}\")"
   ]
  },
  {
   "cell_type": "code",
   "execution_count": null,
   "metadata": {},
   "outputs": [],
   "source": []
  }
 ],
 "metadata": {
  "kernelspec": {
   "display_name": "Python 3",
   "language": "python",
   "name": "python3"
  },
  "language_info": {
   "codemirror_mode": {
    "name": "ipython",
    "version": 3
   },
   "file_extension": ".py",
   "mimetype": "text/x-python",
   "name": "python",
   "nbconvert_exporter": "python",
   "pygments_lexer": "ipython3",
   "version": "3.7.3"
  },
  "toc": {
   "base_numbering": 1,
   "nav_menu": {},
   "number_sections": true,
   "sideBar": true,
   "skip_h1_title": false,
   "title_cell": "Table of Contents",
   "title_sidebar": "Contents",
   "toc_cell": false,
   "toc_position": {},
   "toc_section_display": true,
   "toc_window_display": false
  }
 },
 "nbformat": 4,
 "nbformat_minor": 2
}
