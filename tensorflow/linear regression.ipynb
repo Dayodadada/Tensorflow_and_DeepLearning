{
 "cells": [
  {
   "cell_type": "markdown",
   "metadata": {},
   "source": [
    "# linear regression"
   ]
  },
  {
   "cell_type": "code",
   "execution_count": null,
   "metadata": {
    "ExecuteTime": {
     "end_time": "2020-07-30T14:28:23.706665Z",
     "start_time": "2020-07-30T14:28:09.838595Z"
    }
   },
   "outputs": [],
   "source": [
    "import tensorflow as tf\n",
    "import pandas as pd\n",
    "from sklearn.datasets import make_regression"
   ]
  },
  {
   "cell_type": "code",
   "execution_count": null,
   "metadata": {
    "ExecuteTime": {
     "end_time": "2020-07-30T14:28:24.178349Z",
     "start_time": "2020-07-30T14:28:23.709321Z"
    }
   },
   "outputs": [],
   "source": [
    "# make dataset to train linear regression\n",
    "x, y = make_regression(n_samples=100, n_features=1, noise=4)\n",
    "df = pd.DataFrame({\"feature\":x,\"label\":y})\n",
    "df.plot.scatter(x=\"feature\",y=\"label\")"
   ]
  },
  {
   "cell_type": "code",
   "execution_count": null,
   "metadata": {
    "ExecuteTime": {
     "end_time": "2020-07-30T14:28:24.180397Z",
     "start_time": "2020-07-30T14:28:12.881Z"
    }
   },
   "outputs": [],
   "source": [
    "# define graph\n",
    "X = tf.placeholder(tf.float32, name=\"X\")\n",
    "Y = tf.placeholder(tf.float32, name=\"Y\")\n",
    "\n",
    "\n",
    "w = tf.Variable(tf.random_uniform([1], -1.0, 1.0))\n",
    "b = tf.Variable(tf.zeros([1]))\n",
    "y_hat = tf.add(tf.multiply(X, w), a)"
   ]
  },
  {
   "cell_type": "code",
   "execution_count": null,
   "metadata": {
    "ExecuteTime": {
     "end_time": "2020-07-30T14:28:24.181447Z",
     "start_time": "2020-07-30T14:28:13.102Z"
    }
   },
   "outputs": [],
   "source": [
    "cost = tf.reduce_mean(tf.square(y_hat - Y))\n",
    "optimizer = tf.train.GradientDescentOptimizer(learning_rate=0.001)\n",
    "training = optimizer.minimize(cost)"
   ]
  },
  {
   "cell_type": "code",
   "execution_count": null,
   "metadata": {
    "ExecuteTime": {
     "end_time": "2020-07-30T14:28:24.182530Z",
     "start_time": "2020-07-30T14:28:13.305Z"
    }
   },
   "outputs": [],
   "source": [
    "# run session\n",
    "sess.tf.Session()\n",
    "sess.run(tf.global_variables_initializer())\n",
    "\n",
    "for step in range(30000):\n",
    "    none, cost_val = sess.run(\n",
    "        [training, cost],\n",
    "        feed_dict = {\n",
    "            X:df[\"feature\"],\n",
    "            Y:df[\"label\"]\n",
    "        }\n",
    "    )\n",
    "    if step % 3000 == 0:\n",
    "        print(step, cost_val, sess.run(w), sess.run(a))\n",
    "\n",
    "    print(step, cost_val, sess.run(w), sess.run(a))\n",
    "\n",
    "sess.close()"
   ]
  },
  {
   "cell_type": "code",
   "execution_count": null,
   "metadata": {},
   "outputs": [],
   "source": []
  },
  {
   "cell_type": "code",
   "execution_count": null,
   "metadata": {},
   "outputs": [],
   "source": []
  },
  {
   "cell_type": "code",
   "execution_count": null,
   "metadata": {},
   "outputs": [],
   "source": []
  }
 ],
 "metadata": {
  "kernelspec": {
   "display_name": "Python 3",
   "language": "python",
   "name": "python3"
  },
  "language_info": {
   "codemirror_mode": {
    "name": "ipython",
    "version": 3
   },
   "file_extension": ".py",
   "mimetype": "text/x-python",
   "name": "python",
   "nbconvert_exporter": "python",
   "pygments_lexer": "ipython3",
   "version": "3.7.3"
  },
  "toc": {
   "base_numbering": 1,
   "nav_menu": {},
   "number_sections": true,
   "sideBar": true,
   "skip_h1_title": false,
   "title_cell": "Table of Contents",
   "title_sidebar": "Contents",
   "toc_cell": false,
   "toc_position": {},
   "toc_section_display": true,
   "toc_window_display": false
  }
 },
 "nbformat": 4,
 "nbformat_minor": 2
}
