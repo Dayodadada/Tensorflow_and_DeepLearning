{
 "cells": [
  {
   "cell_type": "markdown",
   "metadata": {
    "ExecuteTime": {
     "end_time": "2020-04-01T10:59:41.619428Z",
     "start_time": "2020-04-01T10:59:41.616898Z"
    }
   },
   "source": [
    "# Recognize traffic signs using convolutional neural networks"
   ]
  },
  {
   "cell_type": "code",
   "execution_count": 75,
   "metadata": {
    "ExecuteTime": {
     "end_time": "2020-04-01T12:28:26.218826Z",
     "start_time": "2020-04-01T12:28:26.212723Z"
    }
   },
   "outputs": [],
   "source": [
    "# Load dataset\n",
    "import os\n",
    "import glob\n",
    "import pandas as pd\n",
    "import numpy as np\n",
    "import matplotlib.pyplot as plt\n",
    "from skimage.color import rgb2lab\n",
    "from collections import namedtuple\n",
    "from skimage.transform import resize\n",
    "\n",
    "# split data\n",
    "from sklearn.model_selection import train_test_split\n",
    "\n",
    "# train\n",
    "# import tensorflow as tf\n",
    "\n",
    "np.random.seed(1)\n",
    "%matplotlib inline"
   ]
  },
  {
   "cell_type": "code",
   "execution_count": 73,
   "metadata": {
    "ExecuteTime": {
     "end_time": "2020-04-01T12:27:55.655697Z",
     "start_time": "2020-04-01T12:27:55.653294Z"
    }
   },
   "outputs": [],
   "source": [
    "n_classes = 43\n",
    "resized_image = (32,32)"
   ]
  },
  {
   "cell_type": "code",
   "execution_count": 38,
   "metadata": {
    "ExecuteTime": {
     "end_time": "2020-04-01T12:07:17.005350Z",
     "start_time": "2020-04-01T12:07:17.002826Z"
    }
   },
   "outputs": [],
   "source": [
    "# \"data/GTSRB/Final_Training/Images/00000/00000_00000.ppm\" # 00000-00042\n",
    "path_for_training = \"data/GTSRB/Final_Training/Images\""
   ]
  },
  {
   "cell_type": "markdown",
   "metadata": {
    "ExecuteTime": {
     "end_time": "2020-04-01T11:04:39.610492Z",
     "start_time": "2020-04-01T11:04:39.607322Z"
    }
   },
   "source": [
    "## Loat DataSet\n",
    "- Description: http://benchmark.ini.rub.de/?section=gtsrb&subsection=dataset#Downloads\n",
    "- Download link: https://sid.erda.dk/public/archives/daaeac0d7ce1152aea9b61d9f1e19370/published-archive.html\n",
    "- File name: GTSRB_Final_Training_Images.zip(263.MB)"
   ]
  },
  {
   "cell_type": "code",
   "execution_count": 39,
   "metadata": {
    "ExecuteTime": {
     "end_time": "2020-04-01T12:07:17.379935Z",
     "start_time": "2020-04-01T12:07:17.366298Z"
    }
   },
   "outputs": [],
   "source": [
    "dataset = namedtuple('dataset', [\"X\",\"y\"])"
   ]
  },
  {
   "cell_type": "markdown",
   "metadata": {},
   "source": [
    "### Functions"
   ]
  },
  {
   "cell_type": "code",
   "execution_count": 40,
   "metadata": {
    "ExecuteTime": {
     "end_time": "2020-04-01T12:07:17.823438Z",
     "start_time": "2020-04-01T12:07:17.820054Z"
    }
   },
   "outputs": [],
   "source": [
    "def to_tf_format(imgs) :\n",
    "    return np.stack([img[:,:,np.newaxis] for img in imgs], axis=0).astype(np.float32)"
   ]
  },
  {
   "cell_type": "code",
   "execution_count": 41,
   "metadata": {
    "ExecuteTime": {
     "end_time": "2020-04-01T12:07:18.103550Z",
     "start_time": "2020-04-01T12:07:18.097018Z"
    }
   },
   "outputs": [],
   "source": [
    "def read_dataset_ppm(root_path, n_labels, resize_to) :\n",
    "    images = []\n",
    "    labels = []\n",
    "    \n",
    "    for c in range(n_labels) :\n",
    "        full_path = os.path.join(root_path, format(c, \"05d\"))\n",
    "        for img_name in glob.glob(os.path.join(full_path, '*.ppm')) :\n",
    "            img = plt.imread(img_name).astype(np.float32)\n",
    "            img = rgb2lab(img / 255.0)[:,:,0]\n",
    "            if resize_to :\n",
    "                img = resize(img, resize_to, mode=\"reflect\")\n",
    "                \n",
    "            label = np.zeros((n_labels, ), dtype=np.float32)\n",
    "            label[c] = 1.0\n",
    "            \n",
    "            images.append(img.astype(np.float32))\n",
    "            labels.append(label)\n",
    "            \n",
    "    return dataset(X=to_tf_format(images).astype(np.float32), y=np.matrix(labels).astype(np.float32))"
   ]
  },
  {
   "cell_type": "code",
   "execution_count": 42,
   "metadata": {
    "ExecuteTime": {
     "end_time": "2020-04-01T12:08:33.053927Z",
     "start_time": "2020-04-01T12:07:18.365653Z"
    }
   },
   "outputs": [
    {
     "name": "stdout",
     "output_type": "stream",
     "text": [
      "(39209, 32, 32, 1)\n",
      "(39209, 43)\n"
     ]
    }
   ],
   "source": [
    "dataset = read_dataset_ppm(path_for_training, n_labels=n_classes, resize_to=resized_image)\n",
    "print(dataset.X.shape)\n",
    "print(dataset.y.shape)"
   ]
  },
  {
   "cell_type": "code",
   "execution_count": 65,
   "metadata": {
    "ExecuteTime": {
     "end_time": "2020-04-01T12:13:52.541773Z",
     "start_time": "2020-04-01T12:13:51.446330Z"
    },
    "scrolled": true
   },
   "outputs": [
    {
     "data": {
      "image/png": "[encoded data removed]",
      "text/plain": [
       "<Figure size 432x288 with 1 Axes>"
      ]
     },
     "metadata": {
      "needs_background": "light"
     },
     "output_type": "display_data"
    },
    {
     "name": "stdout",
     "output_type": "stream",
     "text": [
      "42\n"
     ]
    },
    {
     "data": {
      "image/png": "[encoded data removed]",
      "text/plain": [
       "<Figure size 432x288 with 1 Axes>"
      ]
     },
     "metadata": {
      "needs_background": "light"
     },
     "output_type": "display_data"
    },
    {
     "name": "stdout",
     "output_type": "stream",
     "text": [
      "34\n"
     ]
    },
    {
     "data": {
      "image/png": "[encoded data removed]",
      "text/plain": [
       "<Figure size 432x288 with 1 Axes>"
      ]
     },
     "metadata": {
      "needs_background": "light"
     },
     "output_type": "display_data"
    },
    {
     "name": "stdout",
     "output_type": "stream",
     "text": [
      "38\n"
     ]
    },
    {
     "data": {
      "image/png": "[encoded data removed]",
      "text/plain": [
       "<Figure size 432x288 with 1 Axes>"
      ]
     },
     "metadata": {
      "needs_background": "light"
     },
     "output_type": "display_data"
    },
    {
     "name": "stdout",
     "output_type": "stream",
     "text": [
      "2\n"
     ]
    },
    {
     "data": {
      "image/png": "[encoded data removed]",
      "text/plain": [
       "<Figure size 432x288 with 1 Axes>"
      ]
     },
     "metadata": {
      "needs_background": "light"
     },
     "output_type": "display_data"
    },
    {
     "name": "stdout",
     "output_type": "stream",
     "text": [
      "2\n"
     ]
    },
    {
     "data": {
      "image/png": "[encoded data removed]",
      "text/plain": [
       "<Figure size 432x288 with 1 Axes>"
      ]
     },
     "metadata": {
      "needs_background": "light"
     },
     "output_type": "display_data"
    },
    {
     "name": "stdout",
     "output_type": "stream",
     "text": [
      "25\n"
     ]
    },
    {
     "data": {
      "image/png": "[encoded data removed]",
      "text/plain": [
       "<Figure size 432x288 with 1 Axes>"
      ]
     },
     "metadata": {
      "needs_background": "light"
     },
     "output_type": "display_data"
    },
    {
     "name": "stdout",
     "output_type": "stream",
     "text": [
      "31\n"
     ]
    },
    {
     "data": {
      "image/png": "[encoded data removed]",
      "text/plain": [
       "<Figure size 432x288 with 1 Axes>"
      ]
     },
     "metadata": {
      "needs_background": "light"
     },
     "output_type": "display_data"
    },
    {
     "name": "stdout",
     "output_type": "stream",
     "text": [
      "1\n"
     ]
    },
    {
     "data": {
      "image/png": "[encoded data removed]",
      "text/plain": [
       "<Figure size 432x288 with 1 Axes>"
      ]
     },
     "metadata": {
      "needs_background": "light"
     },
     "output_type": "display_data"
    },
    {
     "name": "stdout",
     "output_type": "stream",
     "text": [
      "38\n"
     ]
    },
    {
     "data": {
      "image/png": "[encoded data removed]",
      "text/plain": [
       "<Figure size 432x288 with 1 Axes>"
      ]
     },
     "metadata": {
      "needs_background": "light"
     },
     "output_type": "display_data"
    },
    {
     "name": "stdout",
     "output_type": "stream",
     "text": [
      "11\n"
     ]
    }
   ],
   "source": [
    "for i in np.random.choice(range(dataset.y.shape[0]), 10) :\n",
    "    plt.imshow(dataset.X[i,:,:,:].reshape(resized_image))\n",
    "    plt.show()\n",
    "    print(np.argsort(-dataset.y[i,:])[0, 0])"
   ]
  },
  {
   "cell_type": "markdown",
   "metadata": {},
   "source": [
    "## Split Dataset\n",
    "- Training set: 75%\n",
    "- Text set: 25%"
   ]
  },
  {
   "cell_type": "code",
   "execution_count": 66,
   "metadata": {
    "ExecuteTime": {
     "end_time": "2020-04-01T12:17:46.703516Z",
     "start_time": "2020-04-01T12:17:46.572386Z"
    }
   },
   "outputs": [
    {
     "name": "stdout",
     "output_type": "stream",
     "text": [
      "Train Set(X:(29406, 32, 32, 1),y:(29406, 43))\n",
      "Train Set(X:(9803, 32, 32, 1),y:(9803, 43))\n"
     ]
    }
   ],
   "source": [
    "idx_train, idx_test = train_test_split(range(dataset.X.shape[0]), test_size=0.25, random_state=1)\n",
    "\n",
    "X_train = dataset.X[idx_train,:,:,:]\n",
    "X_test = dataset.X[idx_test,:,:,:]\n",
    "y_train = dataset.y[idx_train,:]\n",
    "y_test = dataset.y[idx_test,:]\n",
    "\n",
    "print(f\"Train Set(X:{X_train.shape},y:{y_train.shape})\")\n",
    "print(f\"Train Set(X:{X_test.shape},y:{y_test.shape})\")"
   ]
  },
  {
   "cell_type": "markdown",
   "metadata": {},
   "source": [
    "## Train"
   ]
  },
  {
   "cell_type": "markdown",
   "metadata": {},
   "source": [
    "### Functions"
   ]
  },
  {
   "cell_type": "code",
   "execution_count": 71,
   "metadata": {
    "ExecuteTime": {
     "end_time": "2020-04-01T12:26:24.645218Z",
     "start_time": "2020-04-01T12:26:24.601122Z"
    }
   },
   "outputs": [
    {
     "name": "stdout",
     "output_type": "stream",
     "text": [
      "(10000, 32, 32, 1) (10000, 43)\n",
      "(10000, 32, 32, 1) (10000, 43)\n",
      "(9406, 32, 32, 1) (9406, 43)\n"
     ]
    }
   ],
   "source": [
    "def minibatcher(X, y, batch_size, shuffle) :\n",
    "    assert X.shape[0] == y.shape[0]\n",
    "    \n",
    "    n_samples = X.shape[0]\n",
    "    \n",
    "    if shuffle:\n",
    "        idx = np.random.permutation(n_samples)\n",
    "    else :\n",
    "        idx = list(range(n_samples))\n",
    "        \n",
    "    for k in range(int(np.ceil(n_samples/batch_size))) :\n",
    "        from_idx = k * batch_size\n",
    "        to_idx = (k+1) * batch_size\n",
    "        yield X[idx[from_idx:to_idx],:,:,:], y[idx[from_idx:to_idx],:]\n",
    "        \n",
    "for mb in minibatcher(X_train, y_train, 10000, True) :\n",
    "    print(mb[0].shape, mb[1].shape)"
   ]
  },
  {
   "cell_type": "code",
   "execution_count": null,
   "metadata": {},
   "outputs": [],
   "source": [
    "def fc_no_activation_layer()"
   ]
  },
  {
   "cell_type": "code",
   "execution_count": null,
   "metadata": {},
   "outputs": [],
   "source": [
    "def fc_layer(in_tensors, n_units) :\n",
    "    return tf.nn.leaky_relu(fc_no_activation_layer(in_tensors, n_units))"
   ]
  },
  {
   "cell_type": "code",
   "execution_count": null,
   "metadata": {},
   "outputs": [],
   "source": [
    "def conv_layer(in_tensors, )"
   ]
  }
 ],
 "metadata": {
  "kernelspec": {
   "display_name": "Python 3",
   "language": "python",
   "name": "python3"
  },
  "language_info": {
   "codemirror_mode": {
    "name": "ipython",
    "version": 3
   },
   "file_extension": ".py",
   "mimetype": "text/x-python",
   "name": "python",
   "nbconvert_exporter": "python",
   "pygments_lexer": "ipython3",
   "version": "3.7.3"
  },
  "toc": {
   "base_numbering": 1,
   "nav_menu": {},
   "number_sections": true,
   "sideBar": true,
   "skip_h1_title": false,
   "title_cell": "Table of Contents",
   "title_sidebar": "Contents",
   "toc_cell": false,
   "toc_position": {},
   "toc_section_display": true,
   "toc_window_display": true
  }
 },
 "nbformat": 4,
 "nbformat_minor": 2
}
