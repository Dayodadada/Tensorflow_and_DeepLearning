{
 "cells": [
  {
   "cell_type": "markdown",
   "metadata": {
    "ExecuteTime": {
     "end_time": "2020-04-01T10:59:41.619428Z",
     "start_time": "2020-04-01T10:59:41.616898Z"
    }
   },
   "source": [
    "# Recognize traffic signs using convolutional neural networks"
   ]
  },
  {
   "cell_type": "code",
   "execution_count": 61,
   "metadata": {
    "ExecuteTime": {
     "end_time": "2020-04-02T12:34:12.442835Z",
     "start_time": "2020-04-02T12:34:12.436270Z"
    }
   },
   "outputs": [],
   "source": [
    "# Load dataset\n",
    "import os\n",
    "import glob\n",
    "import pandas as pd\n",
    "import numpy as np\n",
    "import matplotlib.pyplot as plt\n",
    "from skimage.color import rgb2lab\n",
    "from collections import namedtuple\n",
    "from skimage.transform import resize\n",
    "\n",
    "# split data\n",
    "from sklearn.model_selection import train_test_split\n",
    "\n",
    "# train and test\n",
    "import tensorflow as tf\n",
    "### 아래의 방법으로 여전히 텐서플로 1.X 버전의 코드를 수정하지 않고 텐서플로 2.0에서 실행할 수 있습니다. contrib 제외.\n",
    "# import tensorflow.compat.v1 as tf\n",
    "# tf.disable_v2_behavior() \n",
    "from sklearn.metrics import classification_report, confusion_matrix\n",
    "\n",
    "np.random.seed(1)\n",
    "%matplotlib inline"
   ]
  },
  {
   "cell_type": "code",
   "execution_count": 22,
   "metadata": {
    "ExecuteTime": {
     "end_time": "2020-04-02T03:13:22.919107Z",
     "start_time": "2020-04-02T03:13:22.916587Z"
    }
   },
   "outputs": [],
   "source": [
    "n_classes = 43\n",
    "resized_image = (32,32)"
   ]
  },
  {
   "cell_type": "code",
   "execution_count": 36,
   "metadata": {
    "ExecuteTime": {
     "end_time": "2020-04-02T03:15:30.490506Z",
     "start_time": "2020-04-02T03:15:30.487776Z"
    }
   },
   "outputs": [],
   "source": [
    "# \"data/GTSRB/Final_Training/Images/00000/00000_00000.ppm\" # 00000-00042\n",
    "path_for_training = \"/Users/user/data/GTSRB/Final_Training/Images\""
   ]
  },
  {
   "cell_type": "markdown",
   "metadata": {
    "ExecuteTime": {
     "end_time": "2020-04-01T11:04:39.610492Z",
     "start_time": "2020-04-01T11:04:39.607322Z"
    }
   },
   "source": [
    "## Loat DataSet\n",
    "- Description: http://benchmark.ini.rub.de/?section=gtsrb&subsection=dataset#Downloads\n",
    "- Download link: https://sid.erda.dk/public/archives/daaeac0d7ce1152aea9b61d9f1e19370/published-archive.html\n",
    "- File name: GTSRB_Final_Training_Images.zip(263.MB)"
   ]
  },
  {
   "cell_type": "code",
   "execution_count": 37,
   "metadata": {
    "ExecuteTime": {
     "end_time": "2020-04-02T03:15:30.969077Z",
     "start_time": "2020-04-02T03:15:30.966121Z"
    }
   },
   "outputs": [],
   "source": [
    "dataset = namedtuple('dataset', [\"X\",\"y\"])"
   ]
  },
  {
   "cell_type": "markdown",
   "metadata": {},
   "source": [
    "### Functions"
   ]
  },
  {
   "cell_type": "code",
   "execution_count": 38,
   "metadata": {
    "ExecuteTime": {
     "end_time": "2020-04-02T03:15:37.022647Z",
     "start_time": "2020-04-02T03:15:37.019096Z"
    }
   },
   "outputs": [],
   "source": [
    "def to_tf_format(imgs) :\n",
    "    return np.stack([img[:,:,np.newaxis] for img in imgs], axis=0).astype(np.float32)"
   ]
  },
  {
   "cell_type": "code",
   "execution_count": 39,
   "metadata": {
    "ExecuteTime": {
     "end_time": "2020-04-02T03:15:37.781211Z",
     "start_time": "2020-04-02T03:15:37.774580Z"
    }
   },
   "outputs": [],
   "source": [
    "def read_dataset_ppm(root_path, n_labels, resize_to) :\n",
    "    images = []\n",
    "    labels = []\n",
    "    \n",
    "    for c in range(n_labels) :\n",
    "        full_path = os.path.join(root_path, format(c, \"05d\"))\n",
    "        for img_name in glob.glob(os.path.join(full_path, '*.ppm')) :\n",
    "            img = plt.imread(img_name).astype(np.float32)\n",
    "            img = rgb2lab(img / 255.0)[:,:,0]\n",
    "            if resize_to :\n",
    "                img = resize(img, resize_to, mode=\"reflect\")\n",
    "                \n",
    "            label = np.zeros((n_labels, ), dtype=np.float32)\n",
    "            label[c] = 1.0\n",
    "            \n",
    "            images.append(img.astype(np.float32))\n",
    "            labels.append(label)\n",
    "            \n",
    "    return dataset(X=to_tf_format(images).astype(np.float32), y=np.matrix(labels).astype(np.float32))"
   ]
  },
  {
   "cell_type": "code",
   "execution_count": 40,
   "metadata": {
    "ExecuteTime": {
     "end_time": "2020-04-02T03:17:01.656150Z",
     "start_time": "2020-04-02T03:15:38.187762Z"
    }
   },
   "outputs": [
    {
     "name": "stdout",
     "output_type": "stream",
     "text": [
      "(39209, 32, 32, 1)\n",
      "(39209, 43)\n"
     ]
    }
   ],
   "source": [
    "dataset = read_dataset_ppm(path_for_training, n_labels=n_classes, resize_to=resized_image)\n",
    "print(dataset.X.shape)\n",
    "print(dataset.y.shape)"
   ]
  },
  {
   "cell_type": "code",
   "execution_count": 41,
   "metadata": {
    "ExecuteTime": {
     "end_time": "2020-04-02T03:17:02.855502Z",
     "start_time": "2020-04-02T03:17:01.658077Z"
    },
    "deletable": false,
    "editable": false,
    "run_control": {
     "frozen": true
    },
    "scrolled": true
   },
   "outputs": [
    {
     "data": {
      "image/png": "[encoded data removed]",
      "text/plain": [
       "<Figure size 432x288 with 1 Axes>"
      ]
     },
     "metadata": {
      "needs_background": "light"
     },
     "output_type": "display_data"
    },
    {
     "name": "stdout",
     "output_type": "stream",
     "text": [
      "32\n"
     ]
    },
    {
     "data": {
      "image/png": "[encoded data removed]",
      "text/plain": [
       "<Figure size 432x288 with 1 Axes>"
      ]
     },
     "metadata": {
      "needs_background": "light"
     },
     "output_type": "display_data"
    },
    {
     "name": "stdout",
     "output_type": "stream",
     "text": [
      "8\n"
     ]
    },
    {
     "data": {
      "image/png": "[encoded data removed]",
      "text/plain": [
       "<Figure size 432x288 with 1 Axes>"
      ]
     },
     "metadata": {
      "needs_background": "light"
     },
     "output_type": "display_data"
    },
    {
     "name": "stdout",
     "output_type": "stream",
     "text": [
      "3\n"
     ]
    },
    {
     "data": {
      "image/png": "[encoded data removed]",
      "text/plain": [
       "<Figure size 432x288 with 1 Axes>"
      ]
     },
     "metadata": {
      "needs_background": "light"
     },
     "output_type": "display_data"
    },
    {
     "name": "stdout",
     "output_type": "stream",
     "text": [
      "31\n"
     ]
    },
    {
     "data": {
      "image/png": "[encoded data removed]",
      "text/plain": [
       "<Figure size 432x288 with 1 Axes>"
      ]
     },
     "metadata": {
      "needs_background": "light"
     },
     "output_type": "display_data"
    },
    {
     "name": "stdout",
     "output_type": "stream",
     "text": [
      "4\n"
     ]
    },
    {
     "data": {
      "image/png": "[encoded data removed]",
      "text/plain": [
       "<Figure size 432x288 with 1 Axes>"
      ]
     },
     "metadata": {
      "needs_background": "light"
     },
     "output_type": "display_data"
    },
    {
     "name": "stdout",
     "output_type": "stream",
     "text": [
      "13\n"
     ]
    },
    {
     "data": {
      "image/png": "[encoded data removed]",
      "text/plain": [
       "<Figure size 432x288 with 1 Axes>"
      ]
     },
     "metadata": {
      "needs_background": "light"
     },
     "output_type": "display_data"
    },
    {
     "name": "stdout",
     "output_type": "stream",
     "text": [
      "32\n"
     ]
    },
    {
     "data": {
      "image/png": "[encoded data removed]",
      "text/plain": [
       "<Figure size 432x288 with 1 Axes>"
      ]
     },
     "metadata": {
      "needs_background": "light"
     },
     "output_type": "display_data"
    },
    {
     "name": "stdout",
     "output_type": "stream",
     "text": [
      "13\n"
     ]
    },
    {
     "data": {
      "image/png": "[encoded data removed]",
      "text/plain": [
       "<Figure size 432x288 with 1 Axes>"
      ]
     },
     "metadata": {
      "needs_background": "light"
     },
     "output_type": "display_data"
    },
    {
     "name": "stdout",
     "output_type": "stream",
     "text": [
      "4\n"
     ]
    },
    {
     "data": {
      "image/png": "[encoded data removed]",
      "text/plain": [
       "<Figure size 432x288 with 1 Axes>"
      ]
     },
     "metadata": {
      "needs_background": "light"
     },
     "output_type": "display_data"
    },
    {
     "name": "stdout",
     "output_type": "stream",
     "text": [
      "28\n"
     ]
    }
   ],
   "source": [
    "for i in np.random.choice(range(dataset.y.shape[0]), 10) :\n",
    "    plt.imshow(dataset.X[i,:,:,:].reshape(resized_image))\n",
    "    plt.show()\n",
    "    print(np.argsort(-dataset.y[i,:])[0, 0])"
   ]
  },
  {
   "cell_type": "markdown",
   "metadata": {},
   "source": [
    "## Split Dataset\n",
    "- Training set: 75%\n",
    "- Text set: 25%"
   ]
  },
  {
   "cell_type": "code",
   "execution_count": 42,
   "metadata": {
    "ExecuteTime": {
     "end_time": "2020-04-02T03:17:02.975935Z",
     "start_time": "2020-04-02T03:17:02.857497Z"
    }
   },
   "outputs": [
    {
     "name": "stdout",
     "output_type": "stream",
     "text": [
      "Train Set(X:(29406, 32, 32, 1),y:(29406, 43))\n",
      "Train Set(X:(9803, 32, 32, 1),y:(9803, 43))\n"
     ]
    }
   ],
   "source": [
    "idx_train, idx_test = train_test_split(range(dataset.X.shape[0]), test_size=0.25, random_state=1)\n",
    "\n",
    "X_train = dataset.X[idx_train,:,:,:]\n",
    "X_test = dataset.X[idx_test,:,:,:]\n",
    "y_train = dataset.y[idx_train,:]\n",
    "y_test = dataset.y[idx_test,:]\n",
    "\n",
    "print(f\"Train Set(X:{X_train.shape},y:{y_train.shape})\")\n",
    "print(f\"Train Set(X:{X_test.shape},y:{y_test.shape})\")"
   ]
  },
  {
   "cell_type": "markdown",
   "metadata": {},
   "source": [
    "## Train"
   ]
  },
  {
   "cell_type": "markdown",
   "metadata": {},
   "source": [
    "### Functions"
   ]
  },
  {
   "cell_type": "markdown",
   "metadata": {},
   "source": [
    "#### funtion for mini-batch"
   ]
  },
  {
   "cell_type": "code",
   "execution_count": 43,
   "metadata": {
    "ExecuteTime": {
     "end_time": "2020-04-02T03:17:03.049561Z",
     "start_time": "2020-04-02T03:17:02.978074Z"
    }
   },
   "outputs": [
    {
     "name": "stdout",
     "output_type": "stream",
     "text": [
      "(10000, 32, 32, 1) (10000, 43)\n",
      "(10000, 32, 32, 1) (10000, 43)\n",
      "(9406, 32, 32, 1) (9406, 43)\n"
     ]
    }
   ],
   "source": [
    "def minibatcher(X, y, batch_size, shuffle):\n",
    "    assert X.shape[0] == y.shape[0]\n",
    "    \n",
    "    n_samples = X.shape[0]\n",
    "    \n",
    "    if shuffle:\n",
    "        idx = np.random.permutation(n_samples)\n",
    "    else :\n",
    "        idx = list(range(n_samples))\n",
    "        \n",
    "    for k in range(int(np.ceil(n_samples/batch_size))) :\n",
    "        from_idx = k * batch_size\n",
    "        to_idx = (k+1) * batch_size\n",
    "        yield X[idx[from_idx:to_idx],:,:,:], y[idx[from_idx:to_idx],:]\n",
    "        \n",
    "for mb in minibatcher(X_train, y_train, 10000, True) :\n",
    "    print(mb[0].shape, mb[1].shape)"
   ]
  },
  {
   "cell_type": "markdown",
   "metadata": {},
   "source": [
    "#### funtions for layer"
   ]
  },
  {
   "cell_type": "code",
   "execution_count": 64,
   "metadata": {
    "ExecuteTime": {
     "end_time": "2020-04-03T14:00:23.627636Z",
     "start_time": "2020-04-03T14:00:23.616326Z"
    }
   },
   "outputs": [],
   "source": [
    "def fc_no_activation_layer(in_tensors, n_units):\n",
    "    \"\"\"\n",
    "    activation function 없는 fully conneted layer 만들기\n",
    "    - input\n",
    "        - in_tensors: \n",
    "        - n_units: \n",
    "    \"\"\"\n",
    "    \n",
    "#     # tf.get_variable(name, shape=None, dtype=None, initializer=None, regularizer=None, trainable=None, collections=None, caching_device=None, ...)\n",
    "#     w = tf.get_variable(\n",
    "#         \"fc_W\", \n",
    "#         [in_tensors.get_shape()[1], n_units], \n",
    "#         tf.float32,\n",
    "#         tf.contrib.layers.xavier_initializer()\n",
    "#     )\n",
    "\n",
    "    # tf.Variable(initial_value=None, trainable=None, validate_shape=True, caching_device=None, name=None, ...)\n",
    "    w = tf.Variable(\n",
    "        tf.random_normal(\n",
    "            [in_tensors.get_shape()[1], n_units],\n",
    "            mean=0, \n",
    "            stddev=1,\n",
    "            dtype=tf.float32,\n",
    "        ),\n",
    "        name=\"fc_W\",\n",
    "    )\n",
    "    \n",
    "#     b = tf.get_variable(\n",
    "#         \"fc_B\", \n",
    "#         [n_units, ],\n",
    "#         tf.float32,\n",
    "#         tf.constant_initializer(0.0)\n",
    "#     )\n",
    "    b = tf.Variable(\n",
    "        tf.zeros(\n",
    "            [n_units, ], \n",
    "            dtype=tf.float32\n",
    "        ),\n",
    "        name=\"fc_B\",\n",
    "    )\n",
    "    \n",
    "    return tf.matmul(in_tensors, w) + b"
   ]
  },
  {
   "cell_type": "code",
   "execution_count": 46,
   "metadata": {
    "ExecuteTime": {
     "end_time": "2020-04-02T09:40:47.086346Z",
     "start_time": "2020-04-02T09:40:47.083347Z"
    }
   },
   "outputs": [],
   "source": [
    "def fc_layer(in_tensors, n_units):\n",
    "    \"\"\"\n",
    "    apply activation function(Leaky RELU, ...)\n",
    "    \"\"\"\n",
    "    return tf.nn.leaky_relu(fc_no_activation_layer(in_tensors, n_units))"
   ]
  },
  {
   "cell_type": "code",
   "execution_count": 47,
   "metadata": {
    "ExecuteTime": {
     "end_time": "2020-04-02T09:40:47.277098Z",
     "start_time": "2020-04-02T09:40:47.272503Z"
    }
   },
   "outputs": [],
   "source": [
    "def conv_layer(in_tensors, kernel_size, n_units):\n",
    "    \"\"\"\n",
    "    convolution layer\n",
    "    - input\n",
    "        - in_tensors: \n",
    "        - kernel_size: \n",
    "        - n_units: \n",
    "    \"\"\"\n",
    "#     w = tf.get_variable(\n",
    "#         \"conv_W\",\n",
    "#         [kernel_size, kernel_size, in_tensors.get_shape()[3], n_units],\n",
    "#         tf.float32,\n",
    "#         tf.contrib.layers.xavier_initializer()\n",
    "#     )\n",
    "    w = tf.Variable(\n",
    "        tf.random_normal(\n",
    "            [kernel_size, kernel_size, in_tensors.get_shape()[3], n_units],\n",
    "            mean=0,\n",
    "            stddev=1,\n",
    "            tf.float32,\n",
    "        ),\n",
    "        name=\"conv_W\",\n",
    "    )\n",
    "    \n",
    "#     b = tf.get_variable(\n",
    "#         \"conv_B\",\n",
    "#         [n_units, ],\n",
    "#         tf.float32,\n",
    "#         tf.constant_initializer(0.0)\n",
    "#     )\n",
    "    b = tf.Variable(\n",
    "        tf.zeros(\n",
    "            [n_units, ],\n",
    "            tf.float32,\n",
    "        ),\n",
    "        name=\"conv_B\"\n",
    "    )\n",
    "    return tf.nn.leaky_relu(tf.nn.conv2d(in_tensors, w, [1,1,1,1], \"SAME\") + b)\n",
    "#     return tf.keras.layers.Conv2D(filters=w, kernel_size=, strides=(1,1,1,1), padding=\"same\", activation=, use_bias=True, bias_initializer=\"zeros\")\n"
   ]
  },
  {
   "cell_type": "code",
   "execution_count": 49,
   "metadata": {
    "ExecuteTime": {
     "end_time": "2020-04-02T09:42:36.920237Z",
     "start_time": "2020-04-02T09:42:36.917024Z"
    }
   },
   "outputs": [],
   "source": [
    "def maxpool_layer(in_tensors, sampling):\n",
    "    \"\"\"\n",
    "    window size, stride는 모두 정사각형\n",
    "    \"\"\"\n",
    "#     return tf.nn.max_pool(in_tensors, [1, sampling, sampling, 1], [1, sampling, sampling, 1], \"SAME\")\n",
    "    return tf."
   ]
  },
  {
   "cell_type": "code",
   "execution_count": 50,
   "metadata": {
    "ExecuteTime": {
     "end_time": "2020-04-02T09:45:27.853007Z",
     "start_time": "2020-04-02T09:45:27.850279Z"
    }
   },
   "outputs": [],
   "source": [
    "def dropout(in_tensors, keep_proba, is_training):\n",
    "    return tf.cond(is_training, lambda: tf.nn.dropout(in_tensors, keep_proba), lambda: in_tensors)"
   ]
  },
  {
   "cell_type": "markdown",
   "metadata": {},
   "source": [
    "#### funtion for model construction\n",
    "1. 2-dimention convolution, 5X5, 32-filter\n",
    "2. 2-dimention convolution, 5X5, 64-filter\n",
    "3. flattening layer\n",
    "4. fully connected layer, 1024-units\n",
    "5. dropout layer, prob=40%\n",
    "6. fully connected layer, no activation\n",
    "7. softmax activation final layer"
   ]
  },
  {
   "cell_type": "code",
   "execution_count": 53,
   "metadata": {
    "ExecuteTime": {
     "end_time": "2020-04-02T10:19:24.975853Z",
     "start_time": "2020-04-02T10:19:24.970488Z"
    }
   },
   "outputs": [],
   "source": [
    "def model(in_tensors, is_training):\n",
    "    # 1. 2-dimention convolution, 5X5, 32-filter\n",
    "    with tf.variable_scope(\"l1\"):\n",
    "        l1 = maxpool_layer(conv_layer(in_tensors, 5, 32), 2)\n",
    "        l1_out = dropout(l1, 0.8, is_training)\n",
    "        \n",
    "    # 2. 2-dimention convolution, 5X5, 64-filter\n",
    "    with tf.variable_scope(\"l2\"):\n",
    "        l2 = maxpool_layer(conv_layer(l1_out, 5, 64), 2)\n",
    "        l2_out = dropout(l2, 0.8, is_training)\n",
    "        \n",
    "    # 3. flattening layer\n",
    "    with tf.variable_scope(\"flatten\"):\n",
    "        l2_out_flat = tf.layers.flatten(l2_out)\n",
    "        \n",
    "    # 4-5. fully connected layer, 1024-units AND dropout layer, prob=40%\n",
    "    with tf.variable_scope(\"l3\") :\n",
    "        l3 = fc_layer(l2_out_flat, 1024)\n",
    "        l3_out = dropout(l3, 0.6, is_training)\n",
    "    \n",
    "    # 6. fully connected layer, no activation\n",
    "    with tf.variable_scope(\"out\"):\n",
    "        out_tensors = fc_no_activation_layer(l3_out, n_classes)\n",
    "        \n",
    "    return out_tensors"
   ]
  },
  {
   "cell_type": "markdown",
   "metadata": {},
   "source": [
    "#### function for train(args)"
   ]
  },
  {
   "cell_type": "code",
   "execution_count": 55,
   "metadata": {
    "ExecuteTime": {
     "end_time": "2020-04-02T12:28:35.610239Z",
     "start_time": "2020-04-02T12:28:35.598832Z"
    }
   },
   "outputs": [],
   "source": [
    "def train_model(X_train, y_train, X_test, y_test, learning_rate, max_epochs, batch_size):\n",
    "    # define variable\n",
    "    in_X_tensors_batch = tf.placeholder(tf.float32, shape = (None, resized_image[0], resized_image[1], 1))\n",
    "    in_y_tensors_batch = tf.placeholder(tf.float32, shape = (None, n_classes))\n",
    "    is_training = tf.placeholder(tf.bool)\n",
    "    \n",
    "    # define softmax activation layer and loss\n",
    "    logits = model(in_X_tensors_batch, is_training)\n",
    "    out_y_pred = tf.nn.softmax(logits)\n",
    "    loss_score = tf.nn.softmax_cross_entropy_with_logits(logits=logits, labels=in_y_tensors_batch)\n",
    "    loss = tf.reduce_mean(loss_score)\n",
    "    optimizer = tf.train.AdamOptimizer(learning_rate).minimize(loss)\n",
    "    \n",
    "    # train\n",
    "    with tf.Session() as session:\n",
    "        session.run(tf.global_variables_initializer())\n",
    "        for epoch in range(max_epochs):\n",
    "            print(f\"Epoch: {epoch}\")\n",
    "            tf_score = []\n",
    "            \n",
    "            for mb in minibatcher(X_train, y_train, batch_size, shuffle=True):\n",
    "                tf_output = session.run(\n",
    "                    [optimizer, loss], \n",
    "                    feed_dict = {\n",
    "                        in_X_tensors_batch: mb[0],\n",
    "                        in_y_tensors_batch: mb[1],\n",
    "                        is_training: True\n",
    "                    }\n",
    "                )\n",
    "                tf_score.append(tf_output[1])\n",
    "            print(f\"- Train Loss Score: {np.mean(tf_score)}\")\n",
    "            \n",
    "        print(\"\\nTest Set Performance\")\n",
    "        y_test_pred, test_loss = session.run(\n",
    "            [out_y_pred, loss], \n",
    "            feed_dict = {\n",
    "                in_X_tensors_batch: X_test,\n",
    "                in_y_tensors_batch: y_test,\n",
    "                is_training: False\n",
    "            })\n",
    "        print(f\"- Test Loss Score: {test_loss}\")\n",
    "        \n",
    "        y_test_pred_classified = np.argmax(y_test_pred, axis=1).astype(np.int32)\n",
    "        y_test_true_classified = np.argmax(y_test, axis=1).astype(np.int32)\n",
    "        print(classification_report(y_test_pred_classified, y_test_true_classified))\n",
    "        \n",
    "        cm = confusion_matrix(y_test_pred_classified, y_test_true_classified)\n",
    "        plt.imshow(cm, interpolation='nearest', cmap=plt.cm.Blues)\n",
    "        plr.colorbar()\n",
    "        plt.tight_layout()\n",
    "        plt.show()\n",
    "        \n",
    "        plt.imshow(np.log2(cm + 1), interpolation='nearest', cmap=plt.get_cmap(\"tab20\"))\n",
    "        plt.colorbar()\n",
    "        plt.tight_layout()\n",
    "        plt.show()\n",
    "        \n",
    "    tf.reset_default_graph()"
   ]
  },
  {
   "cell_type": "markdown",
   "metadata": {},
   "source": [
    "### Run"
   ]
  },
  {
   "cell_type": "code",
   "execution_count": null,
   "metadata": {
    "ExecuteTime": {
     "end_time": "2020-04-02T12:34:15.277413Z",
     "start_time": "2020-04-02T12:34:15.224851Z"
    }
   },
   "outputs": [],
   "source": [
    "train_model(X_train, y_train, X_test, y_test, 0.001, 10, 256)"
   ]
  },
  {
   "cell_type": "code",
   "execution_count": null,
   "metadata": {},
   "outputs": [],
   "source": []
  }
 ],
 "metadata": {
  "kernelspec": {
   "display_name": "Python 3",
   "language": "python",
   "name": "python3"
  },
  "language_info": {
   "codemirror_mode": {
    "name": "ipython",
    "version": 3
   },
   "file_extension": ".py",
   "mimetype": "text/x-python",
   "name": "python",
   "nbconvert_exporter": "python",
   "pygments_lexer": "ipython3",
   "version": "3.7.3"
  },
  "toc": {
   "base_numbering": 1,
   "nav_menu": {},
   "number_sections": true,
   "sideBar": true,
   "skip_h1_title": false,
   "title_cell": "Table of Contents",
   "title_sidebar": "Contents",
   "toc_cell": false,
   "toc_position": {},
   "toc_section_display": true,
   "toc_window_display": false
  }
 },
 "nbformat": 4,
 "nbformat_minor": 2
}
